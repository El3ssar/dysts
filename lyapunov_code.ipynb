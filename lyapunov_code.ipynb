{
 "cells": [
  {
   "cell_type": "markdown",
   "metadata": {},
   "source": [
    "# Make a software package for generating train/test data\n",
    "\n",
    "# Add resampling, and fix all the timescales\n",
    "\n",
    "+ Utilities for combining models / directional forcing\n",
    "+ Sample at same rate\n",
    "+ Easily integrate ensembles of trajectories"
   ]
  },
  {
   "cell_type": "code",
   "execution_count": 15,
   "metadata": {},
   "outputs": [],
   "source": []
  },
  {
   "cell_type": "code",
   "execution_count": 103,
   "metadata": {},
   "outputs": [],
   "source": [
    "from private.lyap import *\n",
    "def delay_embedding(data, emb_dim, lag=1):\n",
    "  data = np.asarray(data)\n",
    "  min_len = (emb_dim - 1) * lag + 1\n",
    "  if len(data) < min_len:\n",
    "    msg = \"cannot embed data of length {} with embedding dimension {} \" \\\n",
    "        + \"and lag {}, minimum required length is {}\"\n",
    "    raise ValueError(msg.format(len(data), emb_dim, lag, min_len))\n",
    "  m = len(data) - min_len + 1\n",
    "  indices = np.repeat([np.arange(emb_dim) * lag], m, axis=0)\n",
    "  indices += np.arange(m).reshape((m, 1))\n",
    "  return data[indices]\n",
    "def lyap_e2(data, emb_dim=10, matrix_dim=4, min_nb=None, min_tsep=0, tau=1,\n",
    "           debug_plot=False, debug_data=False, plot_file=None):\n",
    "  data = np.asarray(data)\n",
    "  n = len(data)\n",
    "  if (emb_dim - 1) % (matrix_dim - 1) != 0:\n",
    "    raise ValueError(\"emb_dim - 1 must be divisible by matrix_dim - 1!\")\n",
    "  m = (emb_dim - 1) // (matrix_dim - 1)\n",
    "  if min_nb is None:\n",
    "    # minimal number of neighbors as suggested by Eckmann et al.\n",
    "    min_nb = min(2 * matrix_dim, matrix_dim + 4)\n",
    "\n",
    "  min_len = lyap_e_len(\n",
    "    emb_dim=emb_dim, matrix_dim=matrix_dim, min_nb=min_nb, min_tsep=min_tsep\n",
    "  )\n",
    "  if n < min_len:\n",
    "    msg = \"{} data points are not enough! For emb_dim = {}, matrix_dim = {}, \" \\\n",
    "      + \"min_tsep = {} and min_nb = {} you need at least {} data points \" \\\n",
    "      + \"in your time series\"\n",
    "    warnings.warn(\n",
    "      msg.format(n, emb_dim, matrix_dim, min_tsep, min_nb, min_len),\n",
    "      RuntimeWarning\n",
    "    )\n",
    "\n",
    "  # construct orbit as matrix (e = emb_dim)\n",
    "  # x0 x1 x2 ... xe-1\n",
    "  # x1 x2 x3 ... xe\n",
    "  # x2 x3 x4 ... xe+1\n",
    "  # ...\n",
    "\n",
    "  # note: we need to be able to step m points further for the beta vector\n",
    "  #       => maximum start index is n - emb_dim - m\n",
    "  orbit = delay_embedding(data[:-m], emb_dim, lag=1)\n",
    "  if len(orbit) < min_nb:\n",
    "    assert len(data) < min_len\n",
    "    msg = \"Not enough data points. Need at least {} additional data points \" \\\n",
    "        + \"to have min_nb = {} neighbor candidates\"\n",
    "    raise ValueError(msg.format(min_nb-len(orbit), min_nb))\n",
    "  old_Q = np.identity(matrix_dim)\n",
    "  lexp = np.zeros(matrix_dim, dtype=\"float32\")\n",
    "  lexp_counts = np.zeros(lexp.shape)\n",
    "  debug_values = []\n",
    "  # TODO reduce number of points to visit?\n",
    "  # TODO performance test!\n",
    "  for i in range(len(orbit)):\n",
    "    # find neighbors for each vector in the orbit using the chebyshev distance\n",
    "    diffs = rowwise_chebyshev(orbit, orbit[i])\n",
    "    # ensure that we do not count the difference of the vector to itself\n",
    "    diffs[i] = float('inf')\n",
    "    # mask all neighbors that are too close in time to the vector itself\n",
    "    mask_from = max(0, i - min_tsep)\n",
    "    mask_to = min(len(diffs), i + min_tsep + 1)\n",
    "    diffs[mask_from:mask_to] = np.inf\n",
    "    indices = np.argsort(diffs)\n",
    "    idx = indices[min_nb - 1]  # index of the min_nb-nearest neighbor\n",
    "    r = diffs[idx]    # corresponding distance\n",
    "    if np.isinf(r):\n",
    "      assert len(data) < min_len\n",
    "      msg = \"Not enough data points. Orbit vector {} has less than min_nb = \" \\\n",
    "          + \"{} valid neighbors that are at least min_tsep = {} time steps \" \\\n",
    "          + \"away. Input must have at least length {}.\"\n",
    "      raise ValueError(msg.format(i, min_nb, min_tsep, min_len))\n",
    "    # there may be more than min_nb vectors at distance r (if multiple vectors\n",
    "    # have a distance of exactly r)\n",
    "    # => update index accordingly\n",
    "    indices = np.where(diffs <= r)[0]\n",
    "    print(indices)\n",
    "    # find the matrix T_i that satisifies\n",
    "    # T_i (orbit'[j] - orbit'[i]) = (orbit'[j+m] - orbit'[i+m])\n",
    "    # for all neighbors j where orbit'[i] = [x[i], x[i+m],\n",
    "    # ... x[i + (matrix_dim-1)*m]]\n",
    "\n",
    "    # note that T_i has the following form:\n",
    "    # 0  1  0  ... 0\n",
    "    # 0  0  1  ... 0\n",
    "    # ...\n",
    "    # a0 a1 a2 ... a(matrix_dim-1)\n",
    "\n",
    "    # This is because for all rows except the last one the aforementioned\n",
    "    # equation has a clear solution since orbit'[j+m] - orbit'[i+m] =\n",
    "    # [x[j+m]-x[i+m], x[j+2*m]-x[i+2*m], ... x[j+d_M*m]-x[i+d_M*m]]\n",
    "    # and\n",
    "    # orbit'[j] - orbit'[i] =\n",
    "    # [x[j]-x[i], x[j+m]-x[i+m], ... x[j+(d_M-1)*m]-x[i+(d_M-1)*m]]\n",
    "    # therefore x[j+k*m] - x[i+k*m] is already contained in\n",
    "    # orbit'[j] - orbit'[x] for all k from 1 to matrix_dim-1. Only for\n",
    "    # k = matrix_dim there is an actual problem to solve.\n",
    "\n",
    "    # We can therefore find a = [a0, a1, a2, ... a(matrix_dim-1)] by\n",
    "    # formulating a linear least squares problem (mat_X * a = vec_beta)\n",
    "    # as follows.\n",
    "\n",
    "    # build matrix X for linear least squares (d_M = matrix_dim)\n",
    "    # x_j1 - x_i   x_j1+m - x_i+m   ...   x_j1+(d_M-1)m - x_i+(d_M-1)m\n",
    "    # x_j2 - x_i   x_j2+m - x_i+m   ...   x_j2+(d_M-1)m - x_i+(d_M-1)m\n",
    "    # ...\n",
    "\n",
    "    # note: emb_dim = (d_M - 1) * m + 1\n",
    "    mat_X = np.array([data[j:j + emb_dim:m] for j in indices[:6]])\n",
    "    mat_X -= data[i:i + emb_dim:m]\n",
    "    # build vector beta for linear least squares\n",
    "    # x_j1+(d_M)m - x_i+(d_M)m\n",
    "    # x_j2+(d_M)m - x_i+(d_M)m\n",
    "    # ...\n",
    "    if max(np.max(indices),i) + matrix_dim * m >= len(data):\n",
    "      assert len(data) < min_len\n",
    "      msg = \"Not enough data points. Cannot follow orbit vector {} for \" \\\n",
    "          + \"{} (matrix_dim * m) time steps. Input must have at least length \" \\\n",
    "          + \"{}.\"\n",
    "      raise ValueError(msg.format(i, matrix_dim * m, min_len))\n",
    "    vec_beta = data[indices + matrix_dim * m] - data[i + matrix_dim * m]\n",
    "    # perform linear least squares\n",
    "    a, _, _, _ = np.linalg.lstsq(mat_X, vec_beta, rcond=-1)\n",
    "    print(a.shape)\n",
    "    # build matrix T\n",
    "    # 0  1  0  ... 0\n",
    "    # 0  0  1  ... 0\n",
    "    # ...\n",
    "    # 0  0  0  ... 1\n",
    "    # a1 a2 a3 ... a_(d_M)\n",
    "    mat_T = np.zeros((matrix_dim, matrix_dim))\n",
    "    mat_T[:-1, 1:] = np.identity(matrix_dim - 1)\n",
    "    mat_T[-1] = a\n",
    "\n",
    "    # QR-decomposition of T * old_Q\n",
    "    mat_Q, mat_R = np.linalg.qr(np.dot(mat_T, old_Q))\n",
    "    # force diagonal of R to be positive\n",
    "    # (if QR = A then also QLL'R = A with L' = L^-1)\n",
    "    sign_diag = np.sign(np.diag(mat_R))\n",
    "    sign_diag[np.where(sign_diag == 0)] = 1\n",
    "    sign_diag = np.diag(sign_diag)\n",
    "    mat_Q = np.dot(mat_Q, sign_diag)\n",
    "    mat_R = np.dot(sign_diag, mat_R)\n",
    "\n",
    "    old_Q = mat_Q\n",
    "    # successively build sum for Lyapunov exponents\n",
    "    diag_R = np.diag(mat_R)\n",
    "    # filter zeros in mat_R (would lead to -infs)\n",
    "    idx = np.where(diag_R > 0)\n",
    "    lexp_i = np.zeros(diag_R.shape, dtype=\"float32\")\n",
    "    lexp_i[idx] = np.log(diag_R[idx])\n",
    "    lexp_i[np.where(diag_R == 0)] = np.inf\n",
    "    if debug_plot or debug_data:\n",
    "      debug_values.append(lexp_i / tau / m)\n",
    "    lexp[idx] += lexp_i[idx]\n",
    "    lexp_counts[idx] += 1\n",
    "  # end of loop over orbit vectors\n",
    "  # it may happen that all R-matrices contained zeros => exponent really has\n",
    "  # to be -inf\n",
    "  if debug_plot:\n",
    "    plot_histogram_matrix(np.array(debug_values), \"layp_e\", fname=plot_file)\n",
    "  # normalize exponents over number of individual mat_Rs\n",
    "  idx = np.where(lexp_counts > 0)\n",
    "  lexp[idx] /= lexp_counts[idx]\n",
    "  lexp[np.where(lexp_counts == 0)] = np.inf\n",
    "  # normalize with respect to tau\n",
    "  lexp /= tau\n",
    "  # take m into account\n",
    "  lexp /= m\n",
    "  if debug_data:\n",
    "    return (lexp, np.array(debug_values))\n",
    "  return lexp"
   ]
  },
  {
   "cell_type": "code",
   "execution_count": 128,
   "metadata": {},
   "outputs": [
    {
     "name": "stderr",
     "output_type": "stream",
     "text": [
      "<ipython-input-128-92ad1614bc95>:1: FutureWarning: `rcond` parameter will change to the default of machine precision times ``max(M, N)`` where M and N are the input matrix dimensions.\n",
      "To use the future default and silence this warning we advise to pass `rcond=None`, to keep using the old, explicitly pass `rcond=-1`.\n",
      "  np.linalg.lstsq(np.random.random((5, 2)), np.random.random((5, 2)))\n"
     ]
    },
    {
     "data": {
      "text/plain": [
       "(array([[0.44519043, 0.71736669],\n",
       "        [0.43903014, 0.15221093]]),\n",
       " array([0.11015891, 0.18640877]),\n",
       " 2,\n",
       " array([2.15772198, 0.49261822]))"
      ]
     },
     "execution_count": 128,
     "metadata": {},
     "output_type": "execute_result"
    }
   ],
   "source": [
    "np.linalg.lstsq(np.random.random((5, 2)), np.random.random((5, 2)))"
   ]
  },
  {
   "cell_type": "code",
   "execution_count": 1,
   "metadata": {},
   "outputs": [
    {
     "name": "stdout",
     "output_type": "stream",
     "text": [
      "Processing /Users/williamgilpin/program_repos/thom\n",
      "Building wheels for collected packages: thom\n",
      "  Building wheel for thom (setup.py): started\n",
      "  Building wheel for thom (setup.py): finished with status 'done'\n",
      "  Created wheel for thom: filename=thom-0.0.0-py3-none-any.whl size=36701 sha256=1c7757a2cd53631ab96345fbb5656b98676cc50a392ddf8c8346b88ccf549a4c\n",
      "  Stored in directory: /private/var/folders/g_/3gcjjjc12l9cjdh8drtctrdm0000gp/T/pip-ephem-wheel-cache-lhoyw1f0/wheels/e7/a3/3b/b00bb9a6e6623759d442a2bb7ef13359cce81732ea665222f0\n",
      "Successfully built thom\n",
      "Installing collected packages: thom\n",
      "Successfully installed thom-0.0.0\n"
     ]
    },
    {
     "name": "stderr",
     "output_type": "stream",
     "text": [
      "  DEPRECATION: A future pip version will change local packages to be built in-place without first copying to a temporary directory. We recommend you use --use-feature=in-tree-build to test your packages with this new behavior before it becomes the default.\n",
      "   pip 21.3 will remove support for this functionality. You can find discussion regarding this at https://github.com/pypa/pip/issues/7555.\n"
     ]
    }
   ],
   "source": [
    "%%bash \n",
    "pip install -I ."
   ]
  },
  {
   "cell_type": "code",
   "execution_count": 2,
   "metadata": {},
   "outputs": [],
   "source": [
    "import sys\n",
    "\n",
    "import matplotlib.pyplot as plt\n",
    "\n",
    "from thom import *\n",
    "from thom.base import *\n",
    "from thom.utils import *\n",
    "\n",
    "from private.lyap import lyap_r, lyap_e, corr_dim\n",
    "\n",
    "%load_ext autoreload\n",
    "%autoreload 2"
   ]
  },
  {
   "cell_type": "code",
   "execution_count": 199,
   "metadata": {},
   "outputs": [
    {
     "name": "stderr",
     "output_type": "stream",
     "text": [
      "/Users/williamgilpin/program_repos/thom/private/lyap.py:332: RuntimeWarning: signal has very low mean frequency, setting min_tsep = 2500\n",
      "  warnings.warn(msg.format(min_tsep), RuntimeWarning)\n"
     ]
    },
    {
     "name": "stdout",
     "output_type": "stream",
     "text": [
      "1.905062030809844 2.0052564617847226\n"
     ]
    }
   ],
   "source": [
    "model = Lorenz() # λ1 = 2.0686, λ2 = −0.0115, λ3 = −32.3537, dim ~ 2\n",
    "model.sigma = 16\n",
    "model.rho = 45.92\n",
    "model.beta = 4.0\n",
    "# model.dt =1e-3\n",
    "\n",
    "# model = Rossler() # λ1 = 0.13, λ2 = 0, λ3 = −14.1, dim ~ 2\n",
    "# model.a = 0.15\n",
    "# model.b = 0.2\n",
    "# model.c = 10\n",
    "# # model.dt = 1e-2\n",
    "\n",
    "tpts, sol = model.make_trajectory(10000, resample=True, pts_per_period=300, return_times=True)\n",
    "dt = np.median(np.diff(tpts))\n",
    "print(lyap_r(sol.T, tau=dt), corr_dim(sol.T))\n",
    "\n",
    "\n"
   ]
  },
  {
   "cell_type": "code",
   "execution_count": 206,
   "metadata": {},
   "outputs": [],
   "source": [
    "model = Rossler() # λ1z = 0.13, λ2 = 0, λ3 = −14.1\n",
    "model.a = 0.15\n",
    "model.b = 0.2\n",
    "model.c = 10\n",
    "model.dt =1e-2\n",
    "\n",
    "model.ic = np.array([  4.66009155, -12.12441564,   0.29234687])\n",
    "\n",
    "\n",
    "tpts, sol = model.make_trajectory(10000, resample=True, pts_per_period=150, return_times=True)"
   ]
  },
  {
   "cell_type": "code",
   "execution_count": 382,
   "metadata": {},
   "outputs": [
    {
     "data": {
      "text/plain": [
       "array([-0.31972524, -1.07704777, 28.19067404])"
      ]
     },
     "execution_count": 382,
     "metadata": {},
     "output_type": "execute_result"
    }
   ],
   "source": []
  },
  {
   "cell_type": "code",
   "execution_count": 384,
   "metadata": {},
   "outputs": [
    {
     "data": {
      "text/plain": [
       "array([[-16.        ,  16.        ,   0.        ],\n",
       "       [ 17.72932596,  -1.        ,   0.31972524],\n",
       "       [ -1.07704777,  -0.31972524,  -4.        ]])"
      ]
     },
     "execution_count": 384,
     "metadata": {},
     "output_type": "execute_result"
    }
   ],
   "source": []
  },
  {
   "cell_type": "code",
   "execution_count": 133,
   "metadata": {},
   "outputs": [
    {
     "ename": "KeyboardInterrupt",
     "evalue": "",
     "output_type": "error",
     "traceback": [
      "\u001b[0;31m---------------------------------------------------------------------------\u001b[0m",
      "\u001b[0;31mKeyboardInterrupt\u001b[0m                         Traceback (most recent call last)",
      "\u001b[0;32m<ipython-input-133-d8a770938dfc>\u001b[0m in \u001b[0;36m<module>\u001b[0;34m\u001b[0m\n\u001b[1;32m      7\u001b[0m \u001b[0mmodel\u001b[0m\u001b[0;34m.\u001b[0m\u001b[0mic\u001b[0m \u001b[0;34m=\u001b[0m \u001b[0msample_pts\u001b[0m\u001b[0;34m\u001b[0m\u001b[0;34m\u001b[0m\u001b[0m\n\u001b[1;32m      8\u001b[0m \u001b[0;34m\u001b[0m\u001b[0m\n\u001b[0;32m----> 9\u001b[0;31m \u001b[0mtpts\u001b[0m\u001b[0;34m,\u001b[0m \u001b[0msol\u001b[0m \u001b[0;34m=\u001b[0m \u001b[0mmodel\u001b[0m\u001b[0;34m.\u001b[0m\u001b[0mmake_trajectory\u001b[0m\u001b[0;34m(\u001b[0m\u001b[0;36m1000\u001b[0m\u001b[0;34m,\u001b[0m \u001b[0mresample\u001b[0m\u001b[0;34m=\u001b[0m\u001b[0;32mTrue\u001b[0m\u001b[0;34m,\u001b[0m \u001b[0mpts_per_period\u001b[0m\u001b[0;34m=\u001b[0m\u001b[0;36m30\u001b[0m\u001b[0;34m,\u001b[0m \u001b[0mreturn_times\u001b[0m\u001b[0;34m=\u001b[0m\u001b[0;32mTrue\u001b[0m\u001b[0;34m)\u001b[0m\u001b[0;34m\u001b[0m\u001b[0;34m\u001b[0m\u001b[0m\n\u001b[0m\u001b[1;32m     10\u001b[0m \u001b[0mdt\u001b[0m \u001b[0;34m=\u001b[0m \u001b[0mnp\u001b[0m\u001b[0;34m.\u001b[0m\u001b[0mmedian\u001b[0m\u001b[0;34m(\u001b[0m\u001b[0mnp\u001b[0m\u001b[0;34m.\u001b[0m\u001b[0mdiff\u001b[0m\u001b[0;34m(\u001b[0m\u001b[0mtpts\u001b[0m\u001b[0;34m)\u001b[0m\u001b[0;34m)\u001b[0m\u001b[0;34m\u001b[0m\u001b[0;34m\u001b[0m\u001b[0m\n",
      "\u001b[0;32m~/program_repos/thom/thom/base.py\u001b[0m in \u001b[0;36mmake_trajectory\u001b[0;34m(self, n, method, resample, pts_per_period, return_times)\u001b[0m\n\u001b[1;32m    144\u001b[0m             \u001b[0msol\u001b[0m \u001b[0;34m=\u001b[0m \u001b[0mlist\u001b[0m\u001b[0;34m(\u001b[0m\u001b[0;34m)\u001b[0m\u001b[0;34m\u001b[0m\u001b[0;34m\u001b[0m\u001b[0m\n\u001b[1;32m    145\u001b[0m             \u001b[0;32mfor\u001b[0m \u001b[0mic\u001b[0m \u001b[0;32min\u001b[0m \u001b[0mself\u001b[0m\u001b[0;34m.\u001b[0m\u001b[0mic\u001b[0m\u001b[0;34m:\u001b[0m\u001b[0;34m\u001b[0m\u001b[0;34m\u001b[0m\u001b[0m\n\u001b[0;32m--> 146\u001b[0;31m                 \u001b[0msol\u001b[0m\u001b[0;34m.\u001b[0m\u001b[0mappend\u001b[0m\u001b[0;34m(\u001b[0m\u001b[0mintegrate_dyn\u001b[0m\u001b[0;34m(\u001b[0m\u001b[0mself\u001b[0m\u001b[0;34m,\u001b[0m \u001b[0mic\u001b[0m\u001b[0;34m,\u001b[0m \u001b[0mtpts\u001b[0m\u001b[0;34m,\u001b[0m \u001b[0mfirst_step\u001b[0m\u001b[0;34m=\u001b[0m\u001b[0mself\u001b[0m\u001b[0;34m.\u001b[0m\u001b[0mdt\u001b[0m\u001b[0;34m,\u001b[0m \u001b[0mmethod\u001b[0m\u001b[0;34m=\u001b[0m\u001b[0mmethod\u001b[0m\u001b[0;34m)\u001b[0m\u001b[0;34m)\u001b[0m\u001b[0;34m\u001b[0m\u001b[0;34m\u001b[0m\u001b[0m\n\u001b[0m\u001b[1;32m    147\u001b[0m             \u001b[0msol\u001b[0m \u001b[0;34m=\u001b[0m \u001b[0mnp\u001b[0m\u001b[0;34m.\u001b[0m\u001b[0mtranspose\u001b[0m\u001b[0;34m(\u001b[0m\u001b[0mnp\u001b[0m\u001b[0;34m.\u001b[0m\u001b[0marray\u001b[0m\u001b[0;34m(\u001b[0m\u001b[0msol\u001b[0m\u001b[0;34m)\u001b[0m\u001b[0;34m,\u001b[0m \u001b[0;34m(\u001b[0m\u001b[0;36m0\u001b[0m\u001b[0;34m,\u001b[0m \u001b[0;36m2\u001b[0m\u001b[0;34m,\u001b[0m \u001b[0;36m1\u001b[0m\u001b[0;34m)\u001b[0m\u001b[0;34m)\u001b[0m\u001b[0;34m\u001b[0m\u001b[0;34m\u001b[0m\u001b[0m\n\u001b[1;32m    148\u001b[0m \u001b[0;34m\u001b[0m\u001b[0m\n",
      "\u001b[0;32m~/program_repos/thom/thom/utils.py\u001b[0m in \u001b[0;36mintegrate_dyn\u001b[0;34m(f, ic, tvals, noise, **kwargs)\u001b[0m\n\u001b[1;32m     70\u001b[0m         \u001b[0;31m#dt = np.median(np.diff(tvals))\u001b[0m\u001b[0;34m\u001b[0m\u001b[0;34m\u001b[0m\u001b[0;34m\u001b[0m\u001b[0m\n\u001b[1;32m     71\u001b[0m         \u001b[0mfc\u001b[0m \u001b[0;34m=\u001b[0m \u001b[0;32mlambda\u001b[0m \u001b[0mt\u001b[0m\u001b[0;34m,\u001b[0m \u001b[0my\u001b[0m \u001b[0;34m:\u001b[0m \u001b[0mf\u001b[0m\u001b[0;34m(\u001b[0m\u001b[0my\u001b[0m\u001b[0;34m,\u001b[0m \u001b[0mt\u001b[0m\u001b[0;34m)\u001b[0m\u001b[0;34m\u001b[0m\u001b[0;34m\u001b[0m\u001b[0m\n\u001b[0;32m---> 72\u001b[0;31m         \u001b[0msol0\u001b[0m \u001b[0;34m=\u001b[0m \u001b[0msolve_ivp\u001b[0m\u001b[0;34m(\u001b[0m\u001b[0mfc\u001b[0m\u001b[0;34m,\u001b[0m \u001b[0;34m[\u001b[0m\u001b[0mtvals\u001b[0m\u001b[0;34m[\u001b[0m\u001b[0;36m0\u001b[0m\u001b[0;34m]\u001b[0m\u001b[0;34m,\u001b[0m \u001b[0mtvals\u001b[0m\u001b[0;34m[\u001b[0m\u001b[0;34m-\u001b[0m\u001b[0;36m1\u001b[0m\u001b[0;34m]\u001b[0m\u001b[0;34m]\u001b[0m\u001b[0;34m,\u001b[0m \u001b[0mic\u001b[0m\u001b[0;34m,\u001b[0m \u001b[0mt_eval\u001b[0m\u001b[0;34m=\u001b[0m\u001b[0mtvals\u001b[0m\u001b[0;34m,\u001b[0m \u001b[0;34m**\u001b[0m\u001b[0mkwargs\u001b[0m\u001b[0;34m)\u001b[0m\u001b[0;34m\u001b[0m\u001b[0;34m\u001b[0m\u001b[0m\n\u001b[0m\u001b[1;32m     73\u001b[0m         \u001b[0msol\u001b[0m \u001b[0;34m=\u001b[0m \u001b[0msol0\u001b[0m\u001b[0;34m.\u001b[0m\u001b[0my\u001b[0m\u001b[0;34m\u001b[0m\u001b[0;34m\u001b[0m\u001b[0m\n\u001b[1;32m     74\u001b[0m         \u001b[0;31m#sol = odeint(f, np.array(ic), tvals).T\u001b[0m\u001b[0;34m\u001b[0m\u001b[0;34m\u001b[0m\u001b[0;34m\u001b[0m\u001b[0m\n",
      "\u001b[0;32m~/miniconda3/envs/nn/lib/python3.8/site-packages/scipy/integrate/_ivp/ivp.py\u001b[0m in \u001b[0;36msolve_ivp\u001b[0;34m(fun, t_span, y0, method, t_eval, dense_output, events, vectorized, args, **options)\u001b[0m\n\u001b[1;32m    575\u001b[0m     \u001b[0mstatus\u001b[0m \u001b[0;34m=\u001b[0m \u001b[0;32mNone\u001b[0m\u001b[0;34m\u001b[0m\u001b[0;34m\u001b[0m\u001b[0m\n\u001b[1;32m    576\u001b[0m     \u001b[0;32mwhile\u001b[0m \u001b[0mstatus\u001b[0m \u001b[0;32mis\u001b[0m \u001b[0;32mNone\u001b[0m\u001b[0;34m:\u001b[0m\u001b[0;34m\u001b[0m\u001b[0;34m\u001b[0m\u001b[0m\n\u001b[0;32m--> 577\u001b[0;31m         \u001b[0mmessage\u001b[0m \u001b[0;34m=\u001b[0m \u001b[0msolver\u001b[0m\u001b[0;34m.\u001b[0m\u001b[0mstep\u001b[0m\u001b[0;34m(\u001b[0m\u001b[0;34m)\u001b[0m\u001b[0;34m\u001b[0m\u001b[0;34m\u001b[0m\u001b[0m\n\u001b[0m\u001b[1;32m    578\u001b[0m \u001b[0;34m\u001b[0m\u001b[0m\n\u001b[1;32m    579\u001b[0m         \u001b[0;32mif\u001b[0m \u001b[0msolver\u001b[0m\u001b[0;34m.\u001b[0m\u001b[0mstatus\u001b[0m \u001b[0;34m==\u001b[0m \u001b[0;34m'finished'\u001b[0m\u001b[0;34m:\u001b[0m\u001b[0;34m\u001b[0m\u001b[0;34m\u001b[0m\u001b[0m\n",
      "\u001b[0;32m~/miniconda3/envs/nn/lib/python3.8/site-packages/scipy/integrate/_ivp/base.py\u001b[0m in \u001b[0;36mstep\u001b[0;34m(self)\u001b[0m\n\u001b[1;32m    180\u001b[0m         \u001b[0;32melse\u001b[0m\u001b[0;34m:\u001b[0m\u001b[0;34m\u001b[0m\u001b[0;34m\u001b[0m\u001b[0m\n\u001b[1;32m    181\u001b[0m             \u001b[0mt\u001b[0m \u001b[0;34m=\u001b[0m \u001b[0mself\u001b[0m\u001b[0;34m.\u001b[0m\u001b[0mt\u001b[0m\u001b[0;34m\u001b[0m\u001b[0;34m\u001b[0m\u001b[0m\n\u001b[0;32m--> 182\u001b[0;31m             \u001b[0msuccess\u001b[0m\u001b[0;34m,\u001b[0m \u001b[0mmessage\u001b[0m \u001b[0;34m=\u001b[0m \u001b[0mself\u001b[0m\u001b[0;34m.\u001b[0m\u001b[0m_step_impl\u001b[0m\u001b[0;34m(\u001b[0m\u001b[0;34m)\u001b[0m\u001b[0;34m\u001b[0m\u001b[0;34m\u001b[0m\u001b[0m\n\u001b[0m\u001b[1;32m    183\u001b[0m \u001b[0;34m\u001b[0m\u001b[0m\n\u001b[1;32m    184\u001b[0m             \u001b[0;32mif\u001b[0m \u001b[0;32mnot\u001b[0m \u001b[0msuccess\u001b[0m\u001b[0;34m:\u001b[0m\u001b[0;34m\u001b[0m\u001b[0;34m\u001b[0m\u001b[0m\n",
      "\u001b[0;32m~/miniconda3/envs/nn/lib/python3.8/site-packages/scipy/integrate/_ivp/radau.py\u001b[0m in \u001b[0;36m_step_impl\u001b[0;34m(self)\u001b[0m\n\u001b[1;32m    446\u001b[0m                     \u001b[0mLU_complex\u001b[0m \u001b[0;34m=\u001b[0m \u001b[0mself\u001b[0m\u001b[0;34m.\u001b[0m\u001b[0mlu\u001b[0m\u001b[0;34m(\u001b[0m\u001b[0mMU_COMPLEX\u001b[0m \u001b[0;34m/\u001b[0m \u001b[0mh\u001b[0m \u001b[0;34m*\u001b[0m \u001b[0mself\u001b[0m\u001b[0;34m.\u001b[0m\u001b[0mI\u001b[0m \u001b[0;34m-\u001b[0m \u001b[0mJ\u001b[0m\u001b[0;34m)\u001b[0m\u001b[0;34m\u001b[0m\u001b[0;34m\u001b[0m\u001b[0m\n\u001b[1;32m    447\u001b[0m \u001b[0;34m\u001b[0m\u001b[0m\n\u001b[0;32m--> 448\u001b[0;31m                 converged, n_iter, Z, rate = solve_collocation_system(\n\u001b[0m\u001b[1;32m    449\u001b[0m                     \u001b[0mself\u001b[0m\u001b[0;34m.\u001b[0m\u001b[0mfun\u001b[0m\u001b[0;34m,\u001b[0m \u001b[0mt\u001b[0m\u001b[0;34m,\u001b[0m \u001b[0my\u001b[0m\u001b[0;34m,\u001b[0m \u001b[0mh\u001b[0m\u001b[0;34m,\u001b[0m \u001b[0mZ0\u001b[0m\u001b[0;34m,\u001b[0m \u001b[0mscale\u001b[0m\u001b[0;34m,\u001b[0m \u001b[0mself\u001b[0m\u001b[0;34m.\u001b[0m\u001b[0mnewton_tol\u001b[0m\u001b[0;34m,\u001b[0m\u001b[0;34m\u001b[0m\u001b[0;34m\u001b[0m\u001b[0m\n\u001b[1;32m    450\u001b[0m                     LU_real, LU_complex, self.solve_lu)\n",
      "\u001b[0;32m~/miniconda3/envs/nn/lib/python3.8/site-packages/scipy/integrate/_ivp/radau.py\u001b[0m in \u001b[0;36msolve_collocation_system\u001b[0;34m(fun, t, y, h, Z0, scale, tol, LU_real, LU_complex, solve_lu)\u001b[0m\n\u001b[1;32m    107\u001b[0m             \u001b[0;32mbreak\u001b[0m\u001b[0;34m\u001b[0m\u001b[0;34m\u001b[0m\u001b[0m\n\u001b[1;32m    108\u001b[0m \u001b[0;34m\u001b[0m\u001b[0m\n\u001b[0;32m--> 109\u001b[0;31m         \u001b[0mf_real\u001b[0m \u001b[0;34m=\u001b[0m \u001b[0mF\u001b[0m\u001b[0;34m.\u001b[0m\u001b[0mT\u001b[0m\u001b[0;34m.\u001b[0m\u001b[0mdot\u001b[0m\u001b[0;34m(\u001b[0m\u001b[0mTI_REAL\u001b[0m\u001b[0;34m)\u001b[0m \u001b[0;34m-\u001b[0m \u001b[0mM_real\u001b[0m \u001b[0;34m*\u001b[0m \u001b[0mW\u001b[0m\u001b[0;34m[\u001b[0m\u001b[0;36m0\u001b[0m\u001b[0;34m]\u001b[0m\u001b[0;34m\u001b[0m\u001b[0;34m\u001b[0m\u001b[0m\n\u001b[0m\u001b[1;32m    110\u001b[0m         \u001b[0mf_complex\u001b[0m \u001b[0;34m=\u001b[0m \u001b[0mF\u001b[0m\u001b[0;34m.\u001b[0m\u001b[0mT\u001b[0m\u001b[0;34m.\u001b[0m\u001b[0mdot\u001b[0m\u001b[0;34m(\u001b[0m\u001b[0mTI_COMPLEX\u001b[0m\u001b[0;34m)\u001b[0m \u001b[0;34m-\u001b[0m \u001b[0mM_complex\u001b[0m \u001b[0;34m*\u001b[0m \u001b[0;34m(\u001b[0m\u001b[0mW\u001b[0m\u001b[0;34m[\u001b[0m\u001b[0;36m1\u001b[0m\u001b[0;34m]\u001b[0m \u001b[0;34m+\u001b[0m \u001b[0;36m1j\u001b[0m \u001b[0;34m*\u001b[0m \u001b[0mW\u001b[0m\u001b[0;34m[\u001b[0m\u001b[0;36m2\u001b[0m\u001b[0;34m]\u001b[0m\u001b[0;34m)\u001b[0m\u001b[0;34m\u001b[0m\u001b[0;34m\u001b[0m\u001b[0m\n\u001b[1;32m    111\u001b[0m \u001b[0;34m\u001b[0m\u001b[0m\n",
      "\u001b[0;31mKeyboardInterrupt\u001b[0m: "
     ]
    }
   ],
   "source": [
    "model = Lorenz()\n",
    "\n",
    "initial_sol = model.make_trajectory(1000, resample=True, pts_per_period=30)\n",
    "sample_inds = np.random.choice(np.arange(initial_sol.shape[1]), 100, replace=False)\n",
    "sample_pts = initial_sol[:, sample_inds].T\n",
    "\n",
    "model.ic = sample_pts\n",
    "\n",
    "tpts, sol = model.make_trajectory(1000, resample=True, pts_per_period=30, return_times=True)\n",
    "dt = np.median(np.diff(tpts))"
   ]
  },
  {
   "cell_type": "code",
   "execution_count": 123,
   "metadata": {},
   "outputs": [
    {
     "name": "stdout",
     "output_type": "stream",
     "text": [
      "1.4155669923225198\n"
     ]
    }
   ],
   "source": [
    "1.4179114942095334\n",
    "1.9400765475861061"
   ]
  },
  {
   "cell_type": "code",
   "execution_count": 126,
   "metadata": {},
   "outputs": [
    {
     "name": "stderr",
     "output_type": "stream",
     "text": [
      "/Users/williamgilpin/program_repos/thom/private/lyap.py:332: RuntimeWarning: signal has very low mean frequency, setting min_tsep = 250\n",
      "  warnings.warn(msg.format(min_tsep), RuntimeWarning)\n",
      "/Users/williamgilpin/program_repos/thom/private/lyap.py:332: RuntimeWarning: signal has very low mean frequency, setting min_tsep = 250\n",
      "  warnings.warn(msg.format(min_tsep), RuntimeWarning)\n",
      "/Users/williamgilpin/program_repos/thom/private/lyap.py:332: RuntimeWarning: signal has very low mean frequency, setting min_tsep = 250\n",
      "  warnings.warn(msg.format(min_tsep), RuntimeWarning)\n",
      "/Users/williamgilpin/program_repos/thom/private/lyap.py:332: RuntimeWarning: signal has very low mean frequency, setting min_tsep = 250\n",
      "  warnings.warn(msg.format(min_tsep), RuntimeWarning)\n",
      "/Users/williamgilpin/program_repos/thom/private/lyap.py:332: RuntimeWarning: signal has very low mean frequency, setting min_tsep = 250\n",
      "  warnings.warn(msg.format(min_tsep), RuntimeWarning)\n",
      "/Users/williamgilpin/program_repos/thom/private/lyap.py:332: RuntimeWarning: signal has very low mean frequency, setting min_tsep = 250\n",
      "  warnings.warn(msg.format(min_tsep), RuntimeWarning)\n",
      "/Users/williamgilpin/program_repos/thom/private/lyap.py:332: RuntimeWarning: signal has very low mean frequency, setting min_tsep = 250\n",
      "  warnings.warn(msg.format(min_tsep), RuntimeWarning)\n",
      "/Users/williamgilpin/program_repos/thom/private/lyap.py:332: RuntimeWarning: signal has very low mean frequency, setting min_tsep = 250\n",
      "  warnings.warn(msg.format(min_tsep), RuntimeWarning)\n",
      "/Users/williamgilpin/program_repos/thom/private/lyap.py:332: RuntimeWarning: signal has very low mean frequency, setting min_tsep = 250\n",
      "  warnings.warn(msg.format(min_tsep), RuntimeWarning)\n",
      "/Users/williamgilpin/program_repos/thom/private/lyap.py:332: RuntimeWarning: signal has very low mean frequency, setting min_tsep = 250\n",
      "  warnings.warn(msg.format(min_tsep), RuntimeWarning)\n",
      "/Users/williamgilpin/program_repos/thom/private/lyap.py:332: RuntimeWarning: signal has very low mean frequency, setting min_tsep = 250\n",
      "  warnings.warn(msg.format(min_tsep), RuntimeWarning)\n",
      "/Users/williamgilpin/program_repos/thom/private/lyap.py:332: RuntimeWarning: signal has very low mean frequency, setting min_tsep = 250\n",
      "  warnings.warn(msg.format(min_tsep), RuntimeWarning)\n",
      "/Users/williamgilpin/program_repos/thom/private/lyap.py:332: RuntimeWarning: signal has very low mean frequency, setting min_tsep = 250\n",
      "  warnings.warn(msg.format(min_tsep), RuntimeWarning)\n",
      "/Users/williamgilpin/program_repos/thom/private/lyap.py:332: RuntimeWarning: signal has very low mean frequency, setting min_tsep = 250\n",
      "  warnings.warn(msg.format(min_tsep), RuntimeWarning)\n",
      "/Users/williamgilpin/program_repos/thom/private/lyap.py:332: RuntimeWarning: signal has very low mean frequency, setting min_tsep = 250\n",
      "  warnings.warn(msg.format(min_tsep), RuntimeWarning)\n",
      "/Users/williamgilpin/program_repos/thom/private/lyap.py:332: RuntimeWarning: signal has very low mean frequency, setting min_tsep = 250\n",
      "  warnings.warn(msg.format(min_tsep), RuntimeWarning)\n",
      "/Users/williamgilpin/program_repos/thom/private/lyap.py:332: RuntimeWarning: signal has very low mean frequency, setting min_tsep = 250\n",
      "  warnings.warn(msg.format(min_tsep), RuntimeWarning)\n",
      "/Users/williamgilpin/program_repos/thom/private/lyap.py:332: RuntimeWarning: signal has very low mean frequency, setting min_tsep = 250\n",
      "  warnings.warn(msg.format(min_tsep), RuntimeWarning)\n",
      "/Users/williamgilpin/program_repos/thom/private/lyap.py:332: RuntimeWarning: signal has very low mean frequency, setting min_tsep = 250\n",
      "  warnings.warn(msg.format(min_tsep), RuntimeWarning)\n",
      "/Users/williamgilpin/program_repos/thom/private/lyap.py:332: RuntimeWarning: signal has very low mean frequency, setting min_tsep = 250\n",
      "  warnings.warn(msg.format(min_tsep), RuntimeWarning)\n",
      "/Users/williamgilpin/program_repos/thom/private/lyap.py:332: RuntimeWarning: signal has very low mean frequency, setting min_tsep = 250\n",
      "  warnings.warn(msg.format(min_tsep), RuntimeWarning)\n",
      "/Users/williamgilpin/program_repos/thom/private/lyap.py:332: RuntimeWarning: signal has very low mean frequency, setting min_tsep = 250\n",
      "  warnings.warn(msg.format(min_tsep), RuntimeWarning)\n",
      "/Users/williamgilpin/program_repos/thom/private/lyap.py:332: RuntimeWarning: signal has very low mean frequency, setting min_tsep = 250\n",
      "  warnings.warn(msg.format(min_tsep), RuntimeWarning)\n",
      "/Users/williamgilpin/program_repos/thom/private/lyap.py:332: RuntimeWarning: signal has very low mean frequency, setting min_tsep = 250\n",
      "  warnings.warn(msg.format(min_tsep), RuntimeWarning)\n",
      "/Users/williamgilpin/program_repos/thom/private/lyap.py:332: RuntimeWarning: signal has very low mean frequency, setting min_tsep = 250\n",
      "  warnings.warn(msg.format(min_tsep), RuntimeWarning)\n",
      "/Users/williamgilpin/program_repos/thom/private/lyap.py:332: RuntimeWarning: signal has very low mean frequency, setting min_tsep = 250\n",
      "  warnings.warn(msg.format(min_tsep), RuntimeWarning)\n",
      "/Users/williamgilpin/program_repos/thom/private/lyap.py:332: RuntimeWarning: signal has very low mean frequency, setting min_tsep = 250\n",
      "  warnings.warn(msg.format(min_tsep), RuntimeWarning)\n",
      "/Users/williamgilpin/program_repos/thom/private/lyap.py:332: RuntimeWarning: signal has very low mean frequency, setting min_tsep = 250\n",
      "  warnings.warn(msg.format(min_tsep), RuntimeWarning)\n",
      "/Users/williamgilpin/program_repos/thom/private/lyap.py:332: RuntimeWarning: signal has very low mean frequency, setting min_tsep = 250\n",
      "  warnings.warn(msg.format(min_tsep), RuntimeWarning)\n",
      "/Users/williamgilpin/program_repos/thom/private/lyap.py:332: RuntimeWarning: signal has very low mean frequency, setting min_tsep = 250\n",
      "  warnings.warn(msg.format(min_tsep), RuntimeWarning)\n",
      "/Users/williamgilpin/program_repos/thom/private/lyap.py:332: RuntimeWarning: signal has very low mean frequency, setting min_tsep = 250\n",
      "  warnings.warn(msg.format(min_tsep), RuntimeWarning)\n",
      "/Users/williamgilpin/program_repos/thom/private/lyap.py:332: RuntimeWarning: signal has very low mean frequency, setting min_tsep = 250\n",
      "  warnings.warn(msg.format(min_tsep), RuntimeWarning)\n",
      "/Users/williamgilpin/program_repos/thom/private/lyap.py:332: RuntimeWarning: signal has very low mean frequency, setting min_tsep = 250\n",
      "  warnings.warn(msg.format(min_tsep), RuntimeWarning)\n",
      "/Users/williamgilpin/program_repos/thom/private/lyap.py:332: RuntimeWarning: signal has very low mean frequency, setting min_tsep = 250\n",
      "  warnings.warn(msg.format(min_tsep), RuntimeWarning)\n",
      "/Users/williamgilpin/program_repos/thom/private/lyap.py:332: RuntimeWarning: signal has very low mean frequency, setting min_tsep = 250\n",
      "  warnings.warn(msg.format(min_tsep), RuntimeWarning)\n",
      "/Users/williamgilpin/program_repos/thom/private/lyap.py:332: RuntimeWarning: signal has very low mean frequency, setting min_tsep = 250\n",
      "  warnings.warn(msg.format(min_tsep), RuntimeWarning)\n",
      "/Users/williamgilpin/program_repos/thom/private/lyap.py:332: RuntimeWarning: signal has very low mean frequency, setting min_tsep = 250\n",
      "  warnings.warn(msg.format(min_tsep), RuntimeWarning)\n",
      "/Users/williamgilpin/program_repos/thom/private/lyap.py:332: RuntimeWarning: signal has very low mean frequency, setting min_tsep = 250\n",
      "  warnings.warn(msg.format(min_tsep), RuntimeWarning)\n",
      "/Users/williamgilpin/program_repos/thom/private/lyap.py:332: RuntimeWarning: signal has very low mean frequency, setting min_tsep = 250\n",
      "  warnings.warn(msg.format(min_tsep), RuntimeWarning)\n",
      "/Users/williamgilpin/program_repos/thom/private/lyap.py:332: RuntimeWarning: signal has very low mean frequency, setting min_tsep = 250\n",
      "  warnings.warn(msg.format(min_tsep), RuntimeWarning)\n",
      "/Users/williamgilpin/program_repos/thom/private/lyap.py:332: RuntimeWarning: signal has very low mean frequency, setting min_tsep = 250\n",
      "  warnings.warn(msg.format(min_tsep), RuntimeWarning)\n",
      "/Users/williamgilpin/program_repos/thom/private/lyap.py:332: RuntimeWarning: signal has very low mean frequency, setting min_tsep = 250\n",
      "  warnings.warn(msg.format(min_tsep), RuntimeWarning)\n",
      "/Users/williamgilpin/program_repos/thom/private/lyap.py:332: RuntimeWarning: signal has very low mean frequency, setting min_tsep = 250\n",
      "  warnings.warn(msg.format(min_tsep), RuntimeWarning)\n",
      "/Users/williamgilpin/program_repos/thom/private/lyap.py:332: RuntimeWarning: signal has very low mean frequency, setting min_tsep = 250\n",
      "  warnings.warn(msg.format(min_tsep), RuntimeWarning)\n",
      "/Users/williamgilpin/program_repos/thom/private/lyap.py:332: RuntimeWarning: signal has very low mean frequency, setting min_tsep = 250\n",
      "  warnings.warn(msg.format(min_tsep), RuntimeWarning)\n",
      "/Users/williamgilpin/program_repos/thom/private/lyap.py:332: RuntimeWarning: signal has very low mean frequency, setting min_tsep = 250\n",
      "  warnings.warn(msg.format(min_tsep), RuntimeWarning)\n",
      "/Users/williamgilpin/program_repos/thom/private/lyap.py:332: RuntimeWarning: signal has very low mean frequency, setting min_tsep = 250\n",
      "  warnings.warn(msg.format(min_tsep), RuntimeWarning)\n",
      "/Users/williamgilpin/program_repos/thom/private/lyap.py:332: RuntimeWarning: signal has very low mean frequency, setting min_tsep = 250\n",
      "  warnings.warn(msg.format(min_tsep), RuntimeWarning)\n",
      "/Users/williamgilpin/program_repos/thom/private/lyap.py:332: RuntimeWarning: signal has very low mean frequency, setting min_tsep = 250\n",
      "  warnings.warn(msg.format(min_tsep), RuntimeWarning)\n",
      "/Users/williamgilpin/program_repos/thom/private/lyap.py:332: RuntimeWarning: signal has very low mean frequency, setting min_tsep = 250\n",
      "  warnings.warn(msg.format(min_tsep), RuntimeWarning)\n",
      "/Users/williamgilpin/program_repos/thom/private/lyap.py:332: RuntimeWarning: signal has very low mean frequency, setting min_tsep = 250\n",
      "  warnings.warn(msg.format(min_tsep), RuntimeWarning)\n",
      "/Users/williamgilpin/program_repos/thom/private/lyap.py:332: RuntimeWarning: signal has very low mean frequency, setting min_tsep = 250\n",
      "  warnings.warn(msg.format(min_tsep), RuntimeWarning)\n",
      "/Users/williamgilpin/program_repos/thom/private/lyap.py:332: RuntimeWarning: signal has very low mean frequency, setting min_tsep = 250\n",
      "  warnings.warn(msg.format(min_tsep), RuntimeWarning)\n",
      "/Users/williamgilpin/program_repos/thom/private/lyap.py:332: RuntimeWarning: signal has very low mean frequency, setting min_tsep = 250\n",
      "  warnings.warn(msg.format(min_tsep), RuntimeWarning)\n",
      "/Users/williamgilpin/program_repos/thom/private/lyap.py:332: RuntimeWarning: signal has very low mean frequency, setting min_tsep = 250\n",
      "  warnings.warn(msg.format(min_tsep), RuntimeWarning)\n",
      "/Users/williamgilpin/program_repos/thom/private/lyap.py:332: RuntimeWarning: signal has very low mean frequency, setting min_tsep = 250\n",
      "  warnings.warn(msg.format(min_tsep), RuntimeWarning)\n",
      "/Users/williamgilpin/program_repos/thom/private/lyap.py:332: RuntimeWarning: signal has very low mean frequency, setting min_tsep = 250\n",
      "  warnings.warn(msg.format(min_tsep), RuntimeWarning)\n",
      "/Users/williamgilpin/program_repos/thom/private/lyap.py:332: RuntimeWarning: signal has very low mean frequency, setting min_tsep = 250\n",
      "  warnings.warn(msg.format(min_tsep), RuntimeWarning)\n",
      "/Users/williamgilpin/program_repos/thom/private/lyap.py:332: RuntimeWarning: signal has very low mean frequency, setting min_tsep = 250\n",
      "  warnings.warn(msg.format(min_tsep), RuntimeWarning)\n",
      "/Users/williamgilpin/program_repos/thom/private/lyap.py:332: RuntimeWarning: signal has very low mean frequency, setting min_tsep = 250\n",
      "  warnings.warn(msg.format(min_tsep), RuntimeWarning)\n",
      "/Users/williamgilpin/program_repos/thom/private/lyap.py:332: RuntimeWarning: signal has very low mean frequency, setting min_tsep = 250\n",
      "  warnings.warn(msg.format(min_tsep), RuntimeWarning)\n",
      "/Users/williamgilpin/program_repos/thom/private/lyap.py:332: RuntimeWarning: signal has very low mean frequency, setting min_tsep = 250\n",
      "  warnings.warn(msg.format(min_tsep), RuntimeWarning)\n",
      "/Users/williamgilpin/program_repos/thom/private/lyap.py:332: RuntimeWarning: signal has very low mean frequency, setting min_tsep = 250\n",
      "  warnings.warn(msg.format(min_tsep), RuntimeWarning)\n",
      "/Users/williamgilpin/program_repos/thom/private/lyap.py:332: RuntimeWarning: signal has very low mean frequency, setting min_tsep = 250\n",
      "  warnings.warn(msg.format(min_tsep), RuntimeWarning)\n",
      "/Users/williamgilpin/program_repos/thom/private/lyap.py:332: RuntimeWarning: signal has very low mean frequency, setting min_tsep = 250\n",
      "  warnings.warn(msg.format(min_tsep), RuntimeWarning)\n",
      "/Users/williamgilpin/program_repos/thom/private/lyap.py:332: RuntimeWarning: signal has very low mean frequency, setting min_tsep = 250\n",
      "  warnings.warn(msg.format(min_tsep), RuntimeWarning)\n",
      "/Users/williamgilpin/program_repos/thom/private/lyap.py:332: RuntimeWarning: signal has very low mean frequency, setting min_tsep = 250\n",
      "  warnings.warn(msg.format(min_tsep), RuntimeWarning)\n",
      "/Users/williamgilpin/program_repos/thom/private/lyap.py:332: RuntimeWarning: signal has very low mean frequency, setting min_tsep = 250\n",
      "  warnings.warn(msg.format(min_tsep), RuntimeWarning)\n",
      "/Users/williamgilpin/program_repos/thom/private/lyap.py:332: RuntimeWarning: signal has very low mean frequency, setting min_tsep = 250\n",
      "  warnings.warn(msg.format(min_tsep), RuntimeWarning)\n",
      "/Users/williamgilpin/program_repos/thom/private/lyap.py:332: RuntimeWarning: signal has very low mean frequency, setting min_tsep = 250\n",
      "  warnings.warn(msg.format(min_tsep), RuntimeWarning)\n",
      "/Users/williamgilpin/program_repos/thom/private/lyap.py:332: RuntimeWarning: signal has very low mean frequency, setting min_tsep = 250\n",
      "  warnings.warn(msg.format(min_tsep), RuntimeWarning)\n",
      "/Users/williamgilpin/program_repos/thom/private/lyap.py:332: RuntimeWarning: signal has very low mean frequency, setting min_tsep = 250\n",
      "  warnings.warn(msg.format(min_tsep), RuntimeWarning)\n",
      "/Users/williamgilpin/program_repos/thom/private/lyap.py:332: RuntimeWarning: signal has very low mean frequency, setting min_tsep = 250\n",
      "  warnings.warn(msg.format(min_tsep), RuntimeWarning)\n",
      "/Users/williamgilpin/program_repos/thom/private/lyap.py:332: RuntimeWarning: signal has very low mean frequency, setting min_tsep = 250\n",
      "  warnings.warn(msg.format(min_tsep), RuntimeWarning)\n",
      "/Users/williamgilpin/program_repos/thom/private/lyap.py:332: RuntimeWarning: signal has very low mean frequency, setting min_tsep = 250\n",
      "  warnings.warn(msg.format(min_tsep), RuntimeWarning)\n",
      "/Users/williamgilpin/program_repos/thom/private/lyap.py:332: RuntimeWarning: signal has very low mean frequency, setting min_tsep = 250\n",
      "  warnings.warn(msg.format(min_tsep), RuntimeWarning)\n",
      "/Users/williamgilpin/program_repos/thom/private/lyap.py:332: RuntimeWarning: signal has very low mean frequency, setting min_tsep = 250\n",
      "  warnings.warn(msg.format(min_tsep), RuntimeWarning)\n",
      "/Users/williamgilpin/program_repos/thom/private/lyap.py:332: RuntimeWarning: signal has very low mean frequency, setting min_tsep = 250\n",
      "  warnings.warn(msg.format(min_tsep), RuntimeWarning)\n",
      "/Users/williamgilpin/program_repos/thom/private/lyap.py:332: RuntimeWarning: signal has very low mean frequency, setting min_tsep = 250\n",
      "  warnings.warn(msg.format(min_tsep), RuntimeWarning)\n",
      "/Users/williamgilpin/program_repos/thom/private/lyap.py:332: RuntimeWarning: signal has very low mean frequency, setting min_tsep = 250\n",
      "  warnings.warn(msg.format(min_tsep), RuntimeWarning)\n",
      "/Users/williamgilpin/program_repos/thom/private/lyap.py:332: RuntimeWarning: signal has very low mean frequency, setting min_tsep = 250\n",
      "  warnings.warn(msg.format(min_tsep), RuntimeWarning)\n",
      "/Users/williamgilpin/program_repos/thom/private/lyap.py:332: RuntimeWarning: signal has very low mean frequency, setting min_tsep = 250\n",
      "  warnings.warn(msg.format(min_tsep), RuntimeWarning)\n",
      "/Users/williamgilpin/program_repos/thom/private/lyap.py:332: RuntimeWarning: signal has very low mean frequency, setting min_tsep = 250\n",
      "  warnings.warn(msg.format(min_tsep), RuntimeWarning)\n",
      "/Users/williamgilpin/program_repos/thom/private/lyap.py:332: RuntimeWarning: signal has very low mean frequency, setting min_tsep = 250\n",
      "  warnings.warn(msg.format(min_tsep), RuntimeWarning)\n",
      "/Users/williamgilpin/program_repos/thom/private/lyap.py:332: RuntimeWarning: signal has very low mean frequency, setting min_tsep = 250\n",
      "  warnings.warn(msg.format(min_tsep), RuntimeWarning)\n",
      "/Users/williamgilpin/program_repos/thom/private/lyap.py:332: RuntimeWarning: signal has very low mean frequency, setting min_tsep = 250\n",
      "  warnings.warn(msg.format(min_tsep), RuntimeWarning)\n",
      "/Users/williamgilpin/program_repos/thom/private/lyap.py:332: RuntimeWarning: signal has very low mean frequency, setting min_tsep = 250\n",
      "  warnings.warn(msg.format(min_tsep), RuntimeWarning)\n",
      "/Users/williamgilpin/program_repos/thom/private/lyap.py:332: RuntimeWarning: signal has very low mean frequency, setting min_tsep = 250\n",
      "  warnings.warn(msg.format(min_tsep), RuntimeWarning)\n",
      "/Users/williamgilpin/program_repos/thom/private/lyap.py:332: RuntimeWarning: signal has very low mean frequency, setting min_tsep = 250\n",
      "  warnings.warn(msg.format(min_tsep), RuntimeWarning)\n",
      "/Users/williamgilpin/program_repos/thom/private/lyap.py:332: RuntimeWarning: signal has very low mean frequency, setting min_tsep = 250\n",
      "  warnings.warn(msg.format(min_tsep), RuntimeWarning)\n",
      "/Users/williamgilpin/program_repos/thom/private/lyap.py:332: RuntimeWarning: signal has very low mean frequency, setting min_tsep = 250\n",
      "  warnings.warn(msg.format(min_tsep), RuntimeWarning)\n",
      "/Users/williamgilpin/program_repos/thom/private/lyap.py:332: RuntimeWarning: signal has very low mean frequency, setting min_tsep = 250\n",
      "  warnings.warn(msg.format(min_tsep), RuntimeWarning)\n",
      "/Users/williamgilpin/program_repos/thom/private/lyap.py:332: RuntimeWarning: signal has very low mean frequency, setting min_tsep = 250\n",
      "  warnings.warn(msg.format(min_tsep), RuntimeWarning)\n",
      "/Users/williamgilpin/program_repos/thom/private/lyap.py:332: RuntimeWarning: signal has very low mean frequency, setting min_tsep = 250\n",
      "  warnings.warn(msg.format(min_tsep), RuntimeWarning)\n",
      "/Users/williamgilpin/program_repos/thom/private/lyap.py:332: RuntimeWarning: signal has very low mean frequency, setting min_tsep = 250\n",
      "  warnings.warn(msg.format(min_tsep), RuntimeWarning)\n",
      "/Users/williamgilpin/program_repos/thom/private/lyap.py:332: RuntimeWarning: signal has very low mean frequency, setting min_tsep = 250\n",
      "  warnings.warn(msg.format(min_tsep), RuntimeWarning)\n",
      "/Users/williamgilpin/program_repos/thom/private/lyap.py:332: RuntimeWarning: signal has very low mean frequency, setting min_tsep = 250\n",
      "  warnings.warn(msg.format(min_tsep), RuntimeWarning)\n",
      "/Users/williamgilpin/program_repos/thom/private/lyap.py:332: RuntimeWarning: signal has very low mean frequency, setting min_tsep = 250\n",
      "  warnings.warn(msg.format(min_tsep), RuntimeWarning)\n",
      "/Users/williamgilpin/program_repos/thom/private/lyap.py:332: RuntimeWarning: signal has very low mean frequency, setting min_tsep = 250\n",
      "  warnings.warn(msg.format(min_tsep), RuntimeWarning)\n",
      "/Users/williamgilpin/program_repos/thom/private/lyap.py:332: RuntimeWarning: signal has very low mean frequency, setting min_tsep = 250\n",
      "  warnings.warn(msg.format(min_tsep), RuntimeWarning)\n"
     ]
    },
    {
     "name": "stdout",
     "output_type": "stream",
     "text": [
      "1.3612105696228687\n",
      "1.9364653042686115\n"
     ]
    }
   ],
   "source": [
    "all_estimates_lyap = [lyap_r(item, tau=dt) for item in sol]\n",
    "all_estimates_corr = [corr_dim(item) for item in sol]\n",
    "\n",
    "print(np.median(all_estimates_lyap))\n",
    "print(np.median(all_estimates_corr))"
   ]
  },
  {
   "cell_type": "code",
   "execution_count": 5,
   "metadata": {},
   "outputs": [
    {
     "data": {
      "text/plain": [
       "[<matplotlib.lines.Line2D at 0x7fcada009f70>]"
      ]
     },
     "execution_count": 5,
     "metadata": {},
     "output_type": "execute_result"
    },
    {
     "data": {
      "image/png": "[encoded data removed]",
      "text/plain": [
       "<Figure size 432x288 with 1 Axes>"
      ]
     },
     "metadata": {
      "needs_background": "light"
     },
     "output_type": "display_data"
    }
   ],
   "source": [
    "eq = MackeyGlass()\n",
    "\n",
    "sol = eq.make_trajectory(5000, resample=True)\n",
    "# eq.ic = np.vstack([eq.ic, eq.ic])\n",
    "\n",
    "# plt.plot(sol[0], sol[1], '.k', markersize=.1)\n",
    "plt.plot(sol[0], sol[1])\n",
    "# plt.plot(sol[0][:50000], sol[1][:50000])"
   ]
  },
  {
   "cell_type": "markdown",
   "metadata": {},
   "source": [
    "## Make Lorenz Ensemble for classification"
   ]
  },
  {
   "cell_type": "markdown",
   "metadata": {},
   "source": [
    "# Finding Lyapunov exponents"
   ]
  },
  {
   "cell_type": "code",
   "execution_count": 310,
   "metadata": {},
   "outputs": [
    {
     "data": {
      "text/plain": [
       "0.2"
      ]
     },
     "execution_count": 310,
     "metadata": {},
     "output_type": "execute_result"
    }
   ],
   "source": [
    "model.b"
   ]
  },
  {
   "cell_type": "code",
   "execution_count": 305,
   "metadata": {},
   "outputs": [
    {
     "data": {
      "text/plain": [
       "array([-4.59650544,  0.06752232,  0.15855425])"
      ]
     },
     "execution_count": 305,
     "metadata": {},
     "output_type": "execute_result"
    }
   ],
   "source": [
    "np.median(np.array(lyap_list), axis=0)"
   ]
  },
  {
   "cell_type": "code",
   "execution_count": 300,
   "metadata": {},
   "outputs": [
    {
     "name": "stdout",
     "output_type": "stream",
     "text": [
      "[0.15, 0.2, 10]\n"
     ]
    }
   ],
   "source": [
    "model =  Rossler()\n",
    "model.a = 0.15\n",
    "model.c = 10\n",
    "print([model.a, model.b, model.c])\n",
    "\n",
    "# a = 0.15, b = 0.20, c = 10"
   ]
  },
  {
   "cell_type": "code",
   "execution_count": 301,
   "metadata": {},
   "outputs": [],
   "source": [
    "model =  Rossler()\n",
    "model.a = 0.15\n",
    "model.c = 10\n",
    "\n",
    "sol = model.make_trajectory(8000, method=\"Radau\", resample=True, pts_per_period=300)\n",
    "plt.plot(sol[1], sol[2])"
   ]
  },
  {
   "cell_type": "code",
   "execution_count": 87,
   "metadata": {},
   "outputs": [
    {
     "data": {
      "text/plain": [
       "array([3.38248042e-08, 3.52673735e-08, 1.13320694e-07])"
      ]
     },
     "execution_count": 87,
     "metadata": {},
     "output_type": "execute_result"
    }
   ],
   "source": [
    "np.sort(lexp)"
   ]
  },
  {
   "cell_type": "code",
   "execution_count": 104,
   "metadata": {},
   "outputs": [
    {
     "data": {
      "text/plain": [
       "[<matplotlib.lines.Line2D at 0x7fc1b91a3100>]"
      ]
     },
     "execution_count": 104,
     "metadata": {},
     "output_type": "execute_result"
    },
    {
     "data": {
      "image/png": "[encoded data removed]",
      "text/plain": [
       "<Figure size 432x288 with 1 Axes>"
      ]
     },
     "metadata": {
      "needs_background": "light"
     },
     "output_type": "display_data"
    }
   ],
   "source": [
    "plt.plot(initial_sol[0], initial_sol[1])"
   ]
  },
  {
   "cell_type": "code",
   "execution_count": 2,
   "metadata": {},
   "outputs": [
    {
     "name": "stdout",
     "output_type": "stream",
     "text": [
      "Finished selecting initial points on attractor.\n",
      "0\n"
     ]
    },
    {
     "ename": "NameError",
     "evalue": "name 'make_epsilon_ball' is not defined",
     "output_type": "error",
     "traceback": [
      "\u001b[0;31m---------------------------------------------------------------------------\u001b[0m",
      "\u001b[0;31mNameError\u001b[0m                                 Traceback (most recent call last)",
      "\u001b[0;32m<ipython-input-2-750d4f993522>\u001b[0m in \u001b[0;36m<module>\u001b[0;34m\u001b[0m\n\u001b[1;32m     25\u001b[0m     \u001b[0;32mif\u001b[0m \u001b[0mi\u001b[0m \u001b[0;34m%\u001b[0m \u001b[0;36m5\u001b[0m \u001b[0;34m==\u001b[0m \u001b[0;36m0\u001b[0m\u001b[0;34m:\u001b[0m \u001b[0mprint\u001b[0m\u001b[0;34m(\u001b[0m\u001b[0mi\u001b[0m\u001b[0;34m)\u001b[0m\u001b[0;34m\u001b[0m\u001b[0;34m\u001b[0m\u001b[0m\n\u001b[1;32m     26\u001b[0m     \u001b[0mmodel\u001b[0m\u001b[0;34m.\u001b[0m\u001b[0mic\u001b[0m \u001b[0;34m=\u001b[0m \u001b[0msample_pt\u001b[0m\u001b[0;34m\u001b[0m\u001b[0;34m\u001b[0m\u001b[0m\n\u001b[0;32m---> 27\u001b[0;31m     \u001b[0mmodel\u001b[0m\u001b[0;34m.\u001b[0m\u001b[0mic\u001b[0m \u001b[0;34m=\u001b[0m \u001b[0mmake_epsilon_ball\u001b[0m\u001b[0;34m(\u001b[0m\u001b[0mmodel\u001b[0m\u001b[0;34m.\u001b[0m\u001b[0mic\u001b[0m\u001b[0;34m,\u001b[0m \u001b[0;36m400\u001b[0m\u001b[0;34m)\u001b[0m\u001b[0;34m.\u001b[0m\u001b[0mT\u001b[0m\u001b[0;34m\u001b[0m\u001b[0;34m\u001b[0m\u001b[0m\n\u001b[0m\u001b[1;32m     28\u001b[0m     \u001b[0mtpts\u001b[0m\u001b[0;34m,\u001b[0m \u001b[0mtraj_ball\u001b[0m \u001b[0;34m=\u001b[0m \u001b[0mmodel\u001b[0m\u001b[0;34m.\u001b[0m\u001b[0mmake_trajectory\u001b[0m\u001b[0;34m(\u001b[0m\u001b[0mm\u001b[0m\u001b[0;34m,\u001b[0m \u001b[0mresample\u001b[0m\u001b[0;34m=\u001b[0m\u001b[0;32mTrue\u001b[0m\u001b[0;34m,\u001b[0m \u001b[0mpts_per_period\u001b[0m\u001b[0;34m=\u001b[0m\u001b[0;36m30\u001b[0m\u001b[0;34m,\u001b[0m \u001b[0mreturn_times\u001b[0m\u001b[0;34m=\u001b[0m\u001b[0;32mTrue\u001b[0m\u001b[0;34m)\u001b[0m\u001b[0;34m\u001b[0m\u001b[0;34m\u001b[0m\u001b[0m\n\u001b[1;32m     29\u001b[0m     \u001b[0mdt\u001b[0m \u001b[0;34m=\u001b[0m \u001b[0mnp\u001b[0m\u001b[0;34m.\u001b[0m\u001b[0mmedian\u001b[0m\u001b[0;34m(\u001b[0m\u001b[0mnp\u001b[0m\u001b[0;34m.\u001b[0m\u001b[0mdiff\u001b[0m\u001b[0;34m(\u001b[0m\u001b[0mtpts\u001b[0m\u001b[0;34m)\u001b[0m\u001b[0;34m)\u001b[0m\u001b[0;34m\u001b[0m\u001b[0;34m\u001b[0m\u001b[0m\n",
      "\u001b[0;31mNameError\u001b[0m: name 'make_epsilon_ball' is not defined"
     ]
    }
   ],
   "source": [
    "model = Lorenz() # λ1 = 2.16, λ2 = 0, λ3 = −32.4\n",
    "model.sigma = 16\n",
    "model.rho = 45.92\n",
    "model.beta = 4.0\n",
    "\n",
    "# model = Rossler() # λ1z = 0.13, λ2 = 0, λ3 = −14.1\n",
    "# model.a = 0.15\n",
    "# model.b = 0.2\n",
    "# model.c = 10\n",
    "# model.dt = 1e-3\n",
    "\n",
    "points_to_sample = 20\n",
    "m = 5 # number of timesteps to use to find the jacobian\n",
    "\n",
    "lyap_list = list()\n",
    "\n",
    "initial_sol = model.make_trajectory(1000, resample=True, pts_per_period=30)\n",
    "sample_inds = np.random.choice(np.arange(initial_sol.shape[-1]), points_to_sample, replace=False)\n",
    "sample_pts = initial_sol[:, sample_inds].T\n",
    "(d, _) = initial_sol.shape\n",
    "print(\"Finished selecting initial points on attractor.\")\n",
    "\n",
    "all_estimates_lyap = list()\n",
    "for i, sample_pt in enumerate(sample_pts):\n",
    "    if i % 5 == 0: print(i)\n",
    "    model.ic = sample_pt\n",
    "    model.ic = make_epsilon_ball(model.ic, 400).T\n",
    "    tpts, traj_ball = model.make_trajectory(m, resample=True, pts_per_period=30, return_times=True)\n",
    "    dt = np.median(np.diff(tpts))\n",
    "    \n",
    "    traj_ball -= np.mean(traj_ball, axis=0, keepdims=True)\n",
    "\n",
    "    cov = np.einsum(\"kim,kin->imn\", traj_ball, traj_ball) / (traj_ball.shape[0] - 1)\n",
    "    eigs, vecs = np.linalg.eigh(cov)\n",
    "    rads = np.sqrt(eigs)\n",
    "    rads /= rads[0, :][None, :]\n",
    "\n",
    "    assert np.all(np.diff(np.argsort(eigs, axis=1), axis=1) == 1), \"Eigenvalues are not sorted; please report this bug.\"\n",
    "\n",
    "    xinds = np.tile(np.arange(eigs.shape[0]), (eigs.shape[1], 1))\n",
    "\n",
    "    # rads = np.sqrt(np.sum((traj_ball[[1, 2, 9]] - traj_ball[[3, 4, 8]])**2, axis=-1).T)\n",
    "    # rads /= rads[0, :][None, :]\n",
    "\n",
    "    \n",
    "    all_lyap = find_slope(xinds, np.log(rads.T)) / dt\n",
    "\n",
    "    print(all_lyap)\n",
    "    \n",
    "    lyap_list.append(all_lyap)\n",
    "    \n",
    "print(\"\\nFinal estimate: \", np.median(np.array(lyap_list), axis=0)[::-1])    \n",
    "\n",
    "\n"
   ]
  },
  {
   "cell_type": "code",
   "execution_count": 243,
   "metadata": {},
   "outputs": [],
   "source": [
    "tpts, traj_ball = model.make_trajectory(pts_per_trajectory, pts_per_period=100, \n",
    "                                        resample=True, return_times=True)"
   ]
  },
  {
   "cell_type": "code",
   "execution_count": 240,
   "metadata": {},
   "outputs": [
    {
     "data": {
      "text/plain": [
       "[<matplotlib.lines.Line2D at 0x7fc2e8843490>]"
      ]
     },
     "execution_count": 240,
     "metadata": {},
     "output_type": "execute_result"
    },
    {
     "data": {
      "image/png": "[encoded data removed]",
      "text/plain": [
       "<Figure size 432x288 with 1 Axes>"
      ]
     },
     "metadata": {
      "needs_background": "light"
     },
     "output_type": "display_data"
    }
   ],
   "source": [
    "plt.plot(traj_ball[0, :, 0])"
   ]
  },
  {
   "cell_type": "code",
   "execution_count": 248,
   "metadata": {},
   "outputs": [
    {
     "data": {
      "text/plain": [
       "0.0001801"
      ]
     },
     "execution_count": 248,
     "metadata": {},
     "output_type": "execute_result"
    }
   ],
   "source": [
    "model.dt"
   ]
  },
  {
   "cell_type": "code",
   "execution_count": 246,
   "metadata": {},
   "outputs": [
    {
     "data": {
      "text/plain": [
       "[<matplotlib.lines.Line2D at 0x7fc4909356d0>]"
      ]
     },
     "execution_count": 246,
     "metadata": {},
     "output_type": "execute_result"
    },
    {
     "data": {
      "image/png": "[encoded data removed]",
      "text/plain": [
       "<Figure size 432x288 with 1 Axes>"
      ]
     },
     "metadata": {
      "needs_background": "light"
     },
     "output_type": "display_data"
    }
   ],
   "source": [
    "plt.plot(traj_ball[0, :, 0], traj_ball[0, :, 1])"
   ]
  },
  {
   "cell_type": "code",
   "execution_count": 284,
   "metadata": {},
   "outputs": [
    {
     "data": {
      "text/plain": [
       "array([[15.33969566,  9.42871966, 53.77028496],\n",
       "       [15.32265347,  9.40536543, 53.75755523]])"
      ]
     },
     "execution_count": 284,
     "metadata": {},
     "output_type": "execute_result"
    }
   ],
   "source": [
    "model.make_trajectory(2, resample=False).T"
   ]
  },
  {
   "cell_type": "code",
   "execution_count": 283,
   "metadata": {},
   "outputs": [
    {
     "data": {
      "text/plain": [
       "array([15.32265347,  9.40536543, 53.75755523])"
      ]
     },
     "execution_count": 283,
     "metadata": {},
     "output_type": "execute_result"
    }
   ],
   "source": [
    "model.make_trajectory(2, resample=False)[:, -1]"
   ]
  },
  {
   "cell_type": "code",
   "execution_count": 291,
   "metadata": {},
   "outputs": [
    {
     "data": {
      "text/plain": [
       "[<matplotlib.lines.Line2D at 0x7fc1b9f1c0d0>]"
      ]
     },
     "execution_count": 291,
     "metadata": {},
     "output_type": "execute_result"
    },
    {
     "data": {
      "image/png": "[encoded data removed]",
      "text/plain": [
       "<Figure size 432x288 with 1 Axes>"
      ]
     },
     "metadata": {
      "needs_background": "light"
     },
     "output_type": "display_data"
    }
   ],
   "source": [
    "ee = make_epsilon_ball([0.1, 0.2, 0.3], 500)\n",
    "plt.plot(ee[0], ee[1], '.k')"
   ]
  },
  {
   "cell_type": "code",
   "execution_count": 311,
   "metadata": {},
   "outputs": [
    {
     "data": {
      "text/plain": [
       "array([89.83876126, 98.01364199, 59.86290173])"
      ]
     },
     "execution_count": 311,
     "metadata": {},
     "output_type": "execute_result"
    }
   ],
   "source": [
    "np.mean(x, axis=0)"
   ]
  },
  {
   "cell_type": "code",
   "execution_count": 305,
   "metadata": {},
   "outputs": [
    {
     "data": {
      "text/plain": [
       "[<matplotlib.lines.Line2D at 0x7fc288a991c0>]"
      ]
     },
     "execution_count": 305,
     "metadata": {},
     "output_type": "execute_result"
    },
    {
     "data": {
      "image/png": "[encoded data removed]",
      "text/plain": [
       "<Figure size 432x288 with 1 Axes>"
      ]
     },
     "metadata": {
      "needs_background": "light"
     },
     "output_type": "display_data"
    }
   ],
   "source": [
    "x = make_epsilon_ball(curr, pts_to_estimate_jacobian, eps=1e-8).T\n",
    "y = np.vstack(model.rhs(x, 0)).T * model.dt\n",
    "\n",
    "plt.plot(y[:, 0], y[:, 1], '.k')"
   ]
  },
  {
   "cell_type": "code",
   "execution_count": 339,
   "metadata": {},
   "outputs": [],
   "source": [
    "# np.dot(tm.T, x.T) - y.T"
   ]
  },
  {
   "cell_type": "code",
   "execution_count": 357,
   "metadata": {},
   "outputs": [
    {
     "data": {
      "text/plain": [
       "array([-10.74387579, -17.43743062,  21.36186538])"
      ]
     },
     "execution_count": 357,
     "metadata": {},
     "output_type": "execute_result"
    }
   ],
   "source": [
    "\n",
    "curr"
   ]
  },
  {
   "cell_type": "code",
   "execution_count": 359,
   "metadata": {},
   "outputs": [
    {
     "data": {
      "text/plain": [
       "array([-1.07096877, -2.46412117,  1.01898127])"
      ]
     },
     "execution_count": 359,
     "metadata": {},
     "output_type": "execute_result"
    }
   ],
   "source": [
    "np.mean(y0, axis=0)"
   ]
  },
  {
   "cell_type": "code",
   "execution_count": 362,
   "metadata": {},
   "outputs": [],
   "source": [
    "x0 = make_epsilon_ball(curr, pts_to_estimate_jacobian, eps=1e-8).T\n",
    "y0 = x0 + np.vstack(model.rhs(x0, 0)).T * model.dt\n",
    "x = x0 - np.mean(x0, axis=0)\n",
    "y = y0 - np.mean(y0, axis=0)\n",
    "curr = model.make_trajectory(2, resample=False)[:, -1]\n",
    "\n",
    "\n",
    "xinv = np.linalg.pinv(x.T)\n",
    "tm = np.dot(y.T, xinv)"
   ]
  },
  {
   "cell_type": "code",
   "execution_count": 432,
   "metadata": {},
   "outputs": [
    {
     "data": {
      "text/plain": [
       "array([  1.2624195 ,   0.81332448, -16.68214539])"
      ]
     },
     "execution_count": 432,
     "metadata": {},
     "output_type": "execute_result"
    }
   ],
   "source": [
    "final_lyap"
   ]
  },
  {
   "cell_type": "code",
   "execution_count": 446,
   "metadata": {},
   "outputs": [
    {
     "ename": "ValueError",
     "evalue": "all the input array dimensions for the concatenation axis must match exactly, but along dimension 1, the array at index 0 has size 0 and the array at index 1 has size 3",
     "output_type": "error",
     "traceback": [
      "\u001b[0;31m---------------------------------------------------------------------------\u001b[0m",
      "\u001b[0;31mValueError\u001b[0m                                Traceback (most recent call last)",
      "\u001b[0;32m<ipython-input-446-76225aeb12ac>\u001b[0m in \u001b[0;36m<module>\u001b[0;34m\u001b[0m\n\u001b[1;32m      1\u001b[0m \u001b[0mall_estimates_lyap\u001b[0m \u001b[0;34m=\u001b[0m \u001b[0mnp\u001b[0m\u001b[0;34m.\u001b[0m\u001b[0marray\u001b[0m\u001b[0;34m(\u001b[0m\u001b[0;34m[\u001b[0m\u001b[0;34m]\u001b[0m\u001b[0;34m)\u001b[0m\u001b[0;34m\u001b[0m\u001b[0;34m\u001b[0m\u001b[0m\n\u001b[0;32m----> 2\u001b[0;31m \u001b[0mnp\u001b[0m\u001b[0;34m.\u001b[0m\u001b[0mvstack\u001b[0m\u001b[0;34m(\u001b[0m\u001b[0;34m[\u001b[0m\u001b[0;34m[\u001b[0m\u001b[0mall_estimates_lyap\u001b[0m\u001b[0;34m]\u001b[0m\u001b[0;34m,\u001b[0m \u001b[0;34m[\u001b[0m\u001b[0mfinal_lyap\u001b[0m\u001b[0;34m]\u001b[0m\u001b[0;34m,\u001b[0m \u001b[0;34m[\u001b[0m\u001b[0mfinal_lyap\u001b[0m\u001b[0;34m]\u001b[0m\u001b[0;34m]\u001b[0m\u001b[0;34m)\u001b[0m\u001b[0;34m\u001b[0m\u001b[0;34m\u001b[0m\u001b[0m\n\u001b[0m",
      "\u001b[0;32m<__array_function__ internals>\u001b[0m in \u001b[0;36mvstack\u001b[0;34m(*args, **kwargs)\u001b[0m\n",
      "\u001b[0;32m~/miniconda3/envs/nn/lib/python3.8/site-packages/numpy/core/shape_base.py\u001b[0m in \u001b[0;36mvstack\u001b[0;34m(tup)\u001b[0m\n\u001b[1;32m    281\u001b[0m     \u001b[0;32mif\u001b[0m \u001b[0;32mnot\u001b[0m \u001b[0misinstance\u001b[0m\u001b[0;34m(\u001b[0m\u001b[0marrs\u001b[0m\u001b[0;34m,\u001b[0m \u001b[0mlist\u001b[0m\u001b[0;34m)\u001b[0m\u001b[0;34m:\u001b[0m\u001b[0;34m\u001b[0m\u001b[0;34m\u001b[0m\u001b[0m\n\u001b[1;32m    282\u001b[0m         \u001b[0marrs\u001b[0m \u001b[0;34m=\u001b[0m \u001b[0;34m[\u001b[0m\u001b[0marrs\u001b[0m\u001b[0;34m]\u001b[0m\u001b[0;34m\u001b[0m\u001b[0;34m\u001b[0m\u001b[0m\n\u001b[0;32m--> 283\u001b[0;31m     \u001b[0;32mreturn\u001b[0m \u001b[0m_nx\u001b[0m\u001b[0;34m.\u001b[0m\u001b[0mconcatenate\u001b[0m\u001b[0;34m(\u001b[0m\u001b[0marrs\u001b[0m\u001b[0;34m,\u001b[0m \u001b[0;36m0\u001b[0m\u001b[0;34m)\u001b[0m\u001b[0;34m\u001b[0m\u001b[0;34m\u001b[0m\u001b[0m\n\u001b[0m\u001b[1;32m    284\u001b[0m \u001b[0;34m\u001b[0m\u001b[0m\n\u001b[1;32m    285\u001b[0m \u001b[0;34m\u001b[0m\u001b[0m\n",
      "\u001b[0;32m<__array_function__ internals>\u001b[0m in \u001b[0;36mconcatenate\u001b[0;34m(*args, **kwargs)\u001b[0m\n",
      "\u001b[0;31mValueError\u001b[0m: all the input array dimensions for the concatenation axis must match exactly, but along dimension 1, the array at index 0 has size 0 and the array at index 1 has size 3"
     ]
    }
   ],
   "source": [
    "all_estimates_lyap = np.array([])\n",
    "np.vstack([[all_estimates_lyap], [final_lyap], [final_lyap]])\n"
   ]
  },
  {
   "cell_type": "code",
   "execution_count": 529,
   "metadata": {},
   "outputs": [],
   "source": [
    "NUMBA_DISABLE_JIT"
   ]
  },
  {
   "cell_type": "code",
   "execution_count": 535,
   "metadata": {},
   "outputs": [
    {
     "data": {
      "text/plain": [
       "(10, 3)"
      ]
     },
     "execution_count": 535,
     "metadata": {},
     "output_type": "execute_result"
    }
   ],
   "source": [
    "sample_pts.shape"
   ]
  },
  {
   "cell_type": "code",
   "execution_count": 3,
   "metadata": {},
   "outputs": [
    {
     "name": "stdout",
     "output_type": "stream",
     "text": [
      "Finished selecting initial points on attractor.\n",
      "0\n",
      "Current Average:  [  0.92386227   0.2208209  -14.93666454]\n",
      "Current Average:  [  0.97942502   0.15643709 -14.92685908]\n",
      "Current Average:  [  1.02629904   0.09875379 -14.91548377]\n",
      "Current Average:  [  1.00533374   0.11259828 -14.90764093]\n",
      "Current Average:  [  0.99230287   0.11411188 -14.89538451]\n",
      "5\n",
      "Current Average:  [  0.9776377    0.10523858 -14.87052447]\n",
      "Current Average:  [  0.9782417    0.09982805 -14.86535416]\n",
      "Current Average:  [  0.97836677   0.10524173 -14.86957941]\n",
      "Current Average:  [  0.97570245   0.10906986 -14.87099983]\n",
      "Current Average:  [  0.97737653   0.11274016 -14.87675648]\n",
      "Final Average:  [  0.97737653   0.11274016 -14.87675648]\n"
     ]
    }
   ],
   "source": [
    "from thom.analysis import sample_initial_conditions, find_lyapunov_exponents\n",
    "\n",
    "model = Lorenz() # λ1 = 2.16, λ2 = 0, λ3 = −32.4\n",
    "# model.sigma = 16\n",
    "# model.rho = 45.92\n",
    "# model.beta = 4.0\n",
    "# model.dt = 1e-4\n",
    "\n",
    "\n",
    "# model = Lorenz() # λ1 = 2.16, λ2 = 0, λ3 = −32.4\n",
    "# model.dt = 1e-2\n",
    "# model.dt = 1e-4\n",
    "\n",
    "# model = Rossler() # λ1z = 0.13, λ2 = 0, λ3 = −14.1\n",
    "# model.a = 0.15\n",
    "# model.b = 0.2\n",
    "# model.c = 10\n",
    "# model.dt = 1e-3\n",
    "\n",
    "\n",
    "\n",
    "\n",
    "points_to_sample = 10 # number of points to sample in ensemble\n",
    "sample_pts = sample_initial_conditions(model, points_to_sample)\n",
    "print(\"Finished selecting initial points on attractor.\")\n",
    "\n",
    "pts_per_trajectory = 5000 # number of timesteps to use to find the jacobian\n",
    "model.dt /= 10\n",
    "\n",
    "lyap_list = list()\n",
    "\n",
    "all_estimates_lyap = list()\n",
    "for j, sample_pt in enumerate(sample_pts):\n",
    "    if j % 5 == 0: print(j)\n",
    "    model.ic = sample_pt\n",
    "    all_estimates_lyap.append(find_lyapunov_exponents(model, pts_per_trajectory, pts_per_period=500))\n",
    "    print(\"Current Average: \", np.mean(np.array(all_estimates_lyap), axis=0))\n",
    "\n",
    "print(\"Final Average: \", np.mean(np.array(all_estimates_lyap), axis=0))"
   ]
  },
  {
   "cell_type": "code",
   "execution_count": 5,
   "metadata": {},
   "outputs": [
    {
     "data": {
      "text/plain": [
       "(3,)"
      ]
     },
     "execution_count": 5,
     "metadata": {},
     "output_type": "execute_result"
    }
   ],
   "source": []
  },
  {
   "cell_type": "code",
   "execution_count": 526,
   "metadata": {},
   "outputs": [
    {
     "ename": "TypeError",
     "evalue": "invalid number of arguments",
     "output_type": "error",
     "traceback": [
      "\u001b[0;31m---------------------------------------------------------------------------\u001b[0m",
      "\u001b[0;31mTypeError\u001b[0m                                 Traceback (most recent call last)",
      "\u001b[0;32m<ipython-input-526-5a2ed367f568>\u001b[0m in \u001b[0;36m<module>\u001b[0;34m\u001b[0m\n\u001b[1;32m      1\u001b[0m \u001b[0mpp\u001b[0m \u001b[0;34m=\u001b[0m \u001b[0;32mlambda\u001b[0m \u001b[0mx\u001b[0m \u001b[0;34m:\u001b[0m \u001b[0mmodel\u001b[0m\u001b[0;34m(\u001b[0m\u001b[0mx\u001b[0m\u001b[0;34m,\u001b[0m \u001b[0;36m0\u001b[0m\u001b[0;34m)\u001b[0m\u001b[0;34m[\u001b[0m\u001b[0;36m0\u001b[0m\u001b[0;34m]\u001b[0m\u001b[0;34m\u001b[0m\u001b[0;34m\u001b[0m\u001b[0m\n\u001b[1;32m      2\u001b[0m \u001b[0;34m\u001b[0m\u001b[0m\n\u001b[0;32m----> 3\u001b[0;31m \u001b[0mnp\u001b[0m\u001b[0;34m.\u001b[0m\u001b[0mgradient\u001b[0m\u001b[0;34m(\u001b[0m\u001b[0mpp\u001b[0m\u001b[0;34m,\u001b[0m \u001b[0myval\u001b[0m\u001b[0;34m)\u001b[0m\u001b[0;34m\u001b[0m\u001b[0;34m\u001b[0m\u001b[0m\n\u001b[0m",
      "\u001b[0;32m<__array_function__ internals>\u001b[0m in \u001b[0;36mgradient\u001b[0;34m(*args, **kwargs)\u001b[0m\n",
      "\u001b[0;32m~/miniconda3/envs/nn/lib/python3.8/site-packages/numpy/lib/function_base.py\u001b[0m in \u001b[0;36mgradient\u001b[0;34m(f, axis, edge_order, *varargs)\u001b[0m\n\u001b[1;32m   1014\u001b[0m             \u001b[0mdx\u001b[0m\u001b[0;34m[\u001b[0m\u001b[0mi\u001b[0m\u001b[0;34m]\u001b[0m \u001b[0;34m=\u001b[0m \u001b[0mdiffx\u001b[0m\u001b[0;34m\u001b[0m\u001b[0;34m\u001b[0m\u001b[0m\n\u001b[1;32m   1015\u001b[0m     \u001b[0;32melse\u001b[0m\u001b[0;34m:\u001b[0m\u001b[0;34m\u001b[0m\u001b[0;34m\u001b[0m\u001b[0m\n\u001b[0;32m-> 1016\u001b[0;31m         \u001b[0;32mraise\u001b[0m \u001b[0mTypeError\u001b[0m\u001b[0;34m(\u001b[0m\u001b[0;34m\"invalid number of arguments\"\u001b[0m\u001b[0;34m)\u001b[0m\u001b[0;34m\u001b[0m\u001b[0;34m\u001b[0m\u001b[0m\n\u001b[0m\u001b[1;32m   1017\u001b[0m \u001b[0;34m\u001b[0m\u001b[0m\n\u001b[1;32m   1018\u001b[0m     \u001b[0;32mif\u001b[0m \u001b[0medge_order\u001b[0m \u001b[0;34m>\u001b[0m \u001b[0;36m2\u001b[0m\u001b[0;34m:\u001b[0m\u001b[0;34m\u001b[0m\u001b[0;34m\u001b[0m\u001b[0m\n",
      "\u001b[0;31mTypeError\u001b[0m: invalid number of arguments"
     ]
    }
   ],
   "source": [
    "\n",
    "pp = lambda x : model(x, 0)[0]\n",
    "\n",
    "np.gradient(pp, yval)"
   ]
  },
  {
   "cell_type": "code",
   "execution_count": 485,
   "metadata": {},
   "outputs": [
    {
     "name": "stdout",
     "output_type": "stream",
     "text": [
      "[[-10.          10.           0.        ]\n",
      " [ 11.6693569   -1.          -5.16943344]\n",
      " [  8.29046052   5.16943344  -2.667     ]]\n"
     ]
    }
   ],
   "source": [
    "jacval = jac(yval, tpts[i], model)\n",
    "print(jacval)"
   ]
  },
  {
   "cell_type": "code",
   "execution_count": 414,
   "metadata": {},
   "outputs": [
    {
     "data": {
      "text/plain": [
       "(3, 1000)"
      ]
     },
     "execution_count": 414,
     "metadata": {},
     "output_type": "execute_result"
    }
   ],
   "source": [
    "np.median(all_lyap, axis=0) / (dt * pts_per_trajectory)"
   ]
  },
  {
   "cell_type": "code",
   "execution_count": 513,
   "metadata": {},
   "outputs": [
    {
     "data": {
      "text/plain": [
       "[<matplotlib.lines.Line2D at 0x7fc3407bdc40>]"
      ]
     },
     "execution_count": 513,
     "metadata": {},
     "output_type": "execute_result"
    },
    {
     "data": {
      "image/png": "[encoded data removed]",
      "text/plain": [
       "<Figure size 432x288 with 1 Axes>"
      ]
     },
     "metadata": {
      "needs_background": "light"
     },
     "output_type": "display_data"
    }
   ],
   "source": [
    "plt.plot(traj[0], traj[1])"
   ]
  },
  {
   "cell_type": "code",
   "execution_count": 311,
   "metadata": {},
   "outputs": [],
   "source": [
    "\n",
    "model =  Rossler()\n",
    "number_of_positions = 10\n",
    "\n",
    "\n",
    "\n",
    "\n",
    "initial_sol = model.make_trajectory(1000, method=\"Radau\", resample=True, pts_per_period=30)\n",
    "sample_inds = np.random.choice(np.arange(initial_sol.shape[1]), number_of_positions, replace=False)\n",
    "sample_pts = initial_sol[:, sample_inds].T\n",
    "\n",
    "all_initial_points = np.hstack([make_epsilon_ball(pt, 100) for pt in sample_pts])\n",
    "\n",
    "\n",
    "model.ic = all_initial_points.T\n",
    "tpts, traj_ball = model.make_trajectory(200, method=\"Radau\", resample=True, pts_per_period=30, return_times=True)\n",
    "\n",
    "traj_ball_expanded = np.stack(np.array_split(traj_ball, number_of_positions))"
   ]
  },
  {
   "cell_type": "code",
   "execution_count": 83,
   "metadata": {},
   "outputs": [],
   "source": [
    "traj_ball_expanded = np.stack(np.array_split(traj_ball, number_of_positions))"
   ]
  },
  {
   "cell_type": "code",
   "execution_count": 228,
   "metadata": {},
   "outputs": [],
   "source": [
    "sample_inds = np.random.choice(np.arange(initial_sol.shape[1]), 200, replace=False)\n",
    "sample_pts = initial_sol[:, sample_inds].T"
   ]
  },
  {
   "cell_type": "code",
   "execution_count": 56,
   "metadata": {},
   "outputs": [],
   "source": [
    "sample_pts = initial_sol[:, sample_inds, :]"
   ]
  },
  {
   "cell_type": "code",
   "execution_count": 24,
   "metadata": {},
   "outputs": [],
   "source": [
    "def make_diverging_trajectory(model, m=100, n=1000, number_of_positions=30, points_per_position=100):\n",
    "    \"\"\"\n",
    "    \n",
    "    Args:\n",
    "        points_per_position (int): the number of points to use to estimate the exponents at each position\n",
    "        \n",
    "    \"\"\"\n",
    "    \n",
    "    ## Select a set of initial conditions\n",
    "    model.make_trajectory(1000, method=\"Radau\", resample=True, pts_per_period=30)\n",
    "    initial_sol = eq.make_trajectory(1000, method=\"Radau\", resample=True, pts_per_period=30)\n",
    "    sample_inds = np.random.choice(np.arange(initial_sol.shape[-1]), number_of_positions, replace=False)\n",
    "    sample_pts = initial_sol[:, sample_inds].T\n",
    "    \n",
    "    all_ic = list()\n",
    "    for pt in sample_pts:\n",
    "        all_ic.append(make_epsilon_ball(pt, points_per_position))\n",
    "    all_ic = np.array(all_ic)\n",
    "    \n",
    "\n",
    "    \n",
    "\n",
    "def find_max_lyapunov(traj1, traj2, dt=1.0, return_error=False):\n",
    "    \"\"\"\n",
    "    Given two diverging trajectories (or batches of diverging trajectories), \n",
    "    calculate the maximum lyapunov exponent by fitting an exponential\n",
    "    \n",
    "    Args:\n",
    "        traj1 (ndarray): A batch of trajectories (B, T, D) or a single trajectory (T, D)\n",
    "        traj2 (ndarray): Same as above\n",
    "        dt (float): the timestep\n",
    "        \n",
    "    Returns:\n",
    "        lyap (float): the lyapunov exponent\n",
    "    \n",
    "    \"\"\"\n",
    "    traj_differences = np.sum((traj1 - traj2)**2, axis=-1)\n",
    "    if len(traj_differences.shape) == 1:\n",
    "        traj_differences = traj_differences[None, ...]\n",
    "    print(traj_differences.shape)\n",
    "    lyapunov_estimates = list()\n",
    "    for item in traj_differences :\n",
    "        p = np.polyfit(np.arange(len(item)), np.log(item), 1)\n",
    "        lyapunov_estimates.append(p[0] / dt)\n",
    "        \n",
    "    if not return_error:\n",
    "        return np.mean(lyapunov_estimates)\n",
    "    else:\n",
    "        return np.mean(lyapunov_estimates), np.std(lyapunov_estimates)\n",
    "    \n",
    "# find_max_lyapunov(reference_sol, perturbed_sol)"
   ]
  },
  {
   "cell_type": "code",
   "execution_count": 32,
   "metadata": {},
   "outputs": [],
   "source": [
    "# difference_vector = (reference_sol - perturbed_sol)\n",
    "\n"
   ]
  },
  {
   "cell_type": "code",
   "execution_count": 292,
   "metadata": {},
   "outputs": [],
   "source": [
    "del eq"
   ]
  },
  {
   "cell_type": "code",
   "execution_count": 9,
   "metadata": {},
   "outputs": [],
   "source": []
  },
  {
   "cell_type": "code",
   "execution_count": 22,
   "metadata": {},
   "outputs": [
    {
     "name": "stdout",
     "output_type": "stream",
     "text": [
      "0.11724657837664709\n",
      "0.091538689611144\n",
      "0.0747938103348513\n",
      "0.10210668052562039\n",
      "0.07792294157046326\n",
      "0.0756377237311469\n",
      "0.09588256276009974\n",
      "0.09245191638402186\n",
      "0.11921422066892312\n",
      "0.06007677109096802\n",
      "0.0765486563577143\n",
      "0.08807025340391805\n",
      "0.11397719729595215\n",
      "0.09718435857359387\n",
      "0.08793920685477627\n",
      "0.07512608670968228\n",
      "0.10851936689085082\n",
      "0.10103748883790843\n",
      "0.08035874127109167\n",
      "0.1082608742453971\n",
      "0.11134593024239639\n",
      "0.07667330343320244\n",
      "0.09706534746412329\n",
      "0.09791770106346652\n",
      "0.07635269375453792\n",
      "0.06839459377435295\n",
      "0.06198221233437269\n",
      "0.08738636810402822\n",
      "0.056973163187860575\n",
      "0.0924723037986079\n",
      "0.08663658504524836\n",
      "0.08248745636092729\n",
      "0.09816441542032049\n",
      "0.11130613473893385\n",
      "0.12252211899992854\n",
      "0.11859019363156889\n",
      "0.11055232660157097\n",
      "0.09622489186901509\n",
      "0.06595744195946696\n",
      "0.1033357217523389\n",
      "0.10932854491389095\n",
      "0.07901226629889209\n",
      "0.10443147664773103\n",
      "0.09352210711768173\n",
      "0.09860683136695748\n",
      "0.05918570189080563\n",
      "0.10310295289817363\n",
      "0.1136739828695531\n",
      "0.10805441062123615\n",
      "0.04417025224641917\n",
      "median 0.09470233493889074\n"
     ]
    },
    {
     "data": {
      "image/png": "[encoded data removed]",
      "text/plain": [
       "<Figure size 432x288 with 1 Axes>"
      ]
     },
     "metadata": {
      "needs_background": "light"
     },
     "output_type": "display_data"
    }
   ],
   "source": [
    "## Test the simple stretching lyapunov code\n",
    "\n",
    "import scipy\n",
    "from scipy.optimize import curve_fit\n",
    "\n",
    "model = Lorenz() # λ1 = 2.0686, λ2 = −0.0115, λ3 = −32.3537\n",
    "model.sigma = 16\n",
    "model.rho = 45.92\n",
    "model.beta = 4.0\n",
    "\n",
    "\n",
    "model = Rossler() # λ1z = 0.13, λ2 = 0, λ3 = −14.1\n",
    "model.a = 0.15\n",
    "model.b = 0.2\n",
    "model.c = 10\n",
    "\n",
    "\n",
    "# model = Rossler()\n",
    "# model.a = 0.15\n",
    "# model.c = 10\n",
    "m = 50\n",
    "# sol = eq.make_trajectory(10000, method=\"Radau\", resample=True, pts_per_period=30)\n",
    "\n",
    "initial_sol = model.make_trajectory(1000, resample=True, pts_per_period=30)\n",
    "sample_inds = np.random.choice(np.arange(initial_sol.shape[-1]), m, replace=False)\n",
    "sample_pts = initial_sol[:, sample_inds].T\n",
    "\n",
    "model.ic = sample_pts\n",
    "tpts, reference_sol = model.make_trajectory(200, method=\"Radau\", resample=True, pts_per_period=30, return_times=True)\n",
    "model.ic = sample_pts * (1 + 1e-5)\n",
    "tpts, perturbed_sol = model.make_trajectory(200, method=\"Radau\", resample=True, pts_per_period=30, return_times=True)\n",
    "\n",
    "errs_sol = np.sqrt(np.sum((reference_sol - perturbed_sol)**2, axis=-1))\n",
    "errs_sol /= errs_sol[:, 0][:, None]\n",
    "\n",
    "\n",
    "\n",
    "# def exponential(x, a, k):\n",
    "#     return a * np.exp(k * x)\n",
    "\n",
    "all_m = list()\n",
    "for item in errs_sol:\n",
    "    plt.semilogy(item)\n",
    "#     popt_exponential, pcov_exponential = scipy.optimize.curve_fit(exponential, np.arange(len(item)), item, p0=[1.0, 0.1])\n",
    "#     plt.semilogy(np.arange(len(item)), exponential(np.arange(len(item)), *popt_exponential))\n",
    "    \n",
    "    ## Need to fetch time vals because of resampling\n",
    "    \n",
    "    p = np.polyfit(np.arange(len(item)), np.log(item), 1)\n",
    "    poly = np.poly1d(p)\n",
    "    plt.semilogy(np.arange(len(item)), np.exp(poly(np.arange(len(item)))))\n",
    "    \n",
    "    dtval = np.median(np.diff(tpts))\n",
    "    lyap = p[0] / dtval\n",
    "    print(lyap)\n",
    "    \n",
    "    all_m.append(lyap)\n",
    "    \n",
    "print(\"median\", np.median(all_m))"
   ]
  },
  {
   "cell_type": "code",
   "execution_count": 11,
   "metadata": {},
   "outputs": [
    {
     "name": "stdout",
     "output_type": "stream",
     "text": [
      "1.193858565686893\n"
     ]
    }
   ],
   "source": [
    "print(np.median(all_m))"
   ]
  },
  {
   "cell_type": "code",
   "execution_count": 25,
   "metadata": {},
   "outputs": [
    {
     "name": "stdout",
     "output_type": "stream",
     "text": [
      "113\n"
     ]
    },
    {
     "name": "stderr",
     "output_type": "stream",
     "text": [
      "/Users/williamgilpin/miniconda3/envs/nn/lib/python3.8/site-packages/nolds/measures.py:240: RuntimeWarning: signal has very low mean frequency, setting min_tsep = 125\n",
      "  warnings.warn(msg.format(min_tsep), RuntimeWarning)\n",
      "/Users/williamgilpin/miniconda3/envs/nn/lib/python3.8/site-packages/nolds/measures.py:240: RuntimeWarning: signal has very low mean frequency, setting min_tsep = 125\n",
      "  warnings.warn(msg.format(min_tsep), RuntimeWarning)\n",
      "/Users/williamgilpin/miniconda3/envs/nn/lib/python3.8/site-packages/nolds/measures.py:240: RuntimeWarning: signal has very low mean frequency, setting min_tsep = 125\n",
      "  warnings.warn(msg.format(min_tsep), RuntimeWarning)\n",
      "/Users/williamgilpin/miniconda3/envs/nn/lib/python3.8/site-packages/nolds/measures.py:268: RuntimeWarning: autocorrelation declined too slowly to find suitable lag, setting lag to 24\n",
      "  warnings.warn(msg.format(lag), RuntimeWarning)\n"
     ]
    },
    {
     "name": "stdout",
     "output_type": "stream",
     "text": [
      "Lorenz [0.041520305325214175, 0.05030395715756524, 0.002049667299732009]\n"
     ]
    },
    {
     "name": "stderr",
     "output_type": "stream",
     "text": [
      "/Users/williamgilpin/miniconda3/envs/nn/lib/python3.8/site-packages/nolds/measures.py:240: RuntimeWarning: signal has very low mean frequency, setting min_tsep = 125\n",
      "  warnings.warn(msg.format(min_tsep), RuntimeWarning)\n",
      "/Users/williamgilpin/miniconda3/envs/nn/lib/python3.8/site-packages/nolds/measures.py:240: RuntimeWarning: signal has very low mean frequency, setting min_tsep = 125\n",
      "  warnings.warn(msg.format(min_tsep), RuntimeWarning)\n",
      "/Users/williamgilpin/miniconda3/envs/nn/lib/python3.8/site-packages/nolds/measures.py:240: RuntimeWarning: signal has very low mean frequency, setting min_tsep = 125\n",
      "  warnings.warn(msg.format(min_tsep), RuntimeWarning)\n",
      "/Users/williamgilpin/miniconda3/envs/nn/lib/python3.8/site-packages/nolds/measures.py:268: RuntimeWarning: autocorrelation declined too slowly to find suitable lag, setting lag to 24\n",
      "  warnings.warn(msg.format(lag), RuntimeWarning)\n"
     ]
    },
    {
     "name": "stdout",
     "output_type": "stream",
     "text": [
      "LorenzBounded [0.0423000859138661, 0.044693010193961054, 0.02393847786381157]\n"
     ]
    },
    {
     "name": "stderr",
     "output_type": "stream",
     "text": [
      "/Users/williamgilpin/miniconda3/envs/nn/lib/python3.8/site-packages/nolds/measures.py:240: RuntimeWarning: signal has very low mean frequency, setting min_tsep = 125\n",
      "  warnings.warn(msg.format(min_tsep), RuntimeWarning)\n",
      "/Users/williamgilpin/miniconda3/envs/nn/lib/python3.8/site-packages/nolds/measures.py:240: RuntimeWarning: signal has very low mean frequency, setting min_tsep = 125\n",
      "  warnings.warn(msg.format(min_tsep), RuntimeWarning)\n",
      "/Users/williamgilpin/miniconda3/envs/nn/lib/python3.8/site-packages/nolds/measures.py:240: RuntimeWarning: signal has very low mean frequency, setting min_tsep = 125\n",
      "  warnings.warn(msg.format(min_tsep), RuntimeWarning)\n",
      "/Users/williamgilpin/miniconda3/envs/nn/lib/python3.8/site-packages/nolds/measures.py:268: RuntimeWarning: autocorrelation declined too slowly to find suitable lag, setting lag to 24\n",
      "  warnings.warn(msg.format(lag), RuntimeWarning)\n",
      "/Users/williamgilpin/miniconda3/envs/nn/lib/python3.8/site-packages/nolds/measures.py:240: RuntimeWarning: signal has very low mean frequency, setting min_tsep = 125\n",
      "  warnings.warn(msg.format(min_tsep), RuntimeWarning)\n",
      "/Users/williamgilpin/miniconda3/envs/nn/lib/python3.8/site-packages/nolds/measures.py:240: RuntimeWarning: signal has very low mean frequency, setting min_tsep = 125\n",
      "  warnings.warn(msg.format(min_tsep), RuntimeWarning)\n",
      "/Users/williamgilpin/miniconda3/envs/nn/lib/python3.8/site-packages/nolds/measures.py:240: RuntimeWarning: signal has very low mean frequency, setting min_tsep = 125\n",
      "  warnings.warn(msg.format(min_tsep), RuntimeWarning)\n"
     ]
    },
    {
     "name": "stdout",
     "output_type": "stream",
     "text": [
      "LorenzCoupled [0.047665801084131244, 0.05192117942006962, 0.017020549354972443, 0.037983585210671106, 0.009941328386838547, -0.021754444863360672]\n"
     ]
    },
    {
     "name": "stderr",
     "output_type": "stream",
     "text": [
      "/Users/williamgilpin/miniconda3/envs/nn/lib/python3.8/site-packages/nolds/measures.py:240: RuntimeWarning: signal has very low mean frequency, setting min_tsep = 125\n",
      "  warnings.warn(msg.format(min_tsep), RuntimeWarning)\n",
      "/Users/williamgilpin/miniconda3/envs/nn/lib/python3.8/site-packages/nolds/measures.py:240: RuntimeWarning: signal has very low mean frequency, setting min_tsep = 125\n",
      "  warnings.warn(msg.format(min_tsep), RuntimeWarning)\n",
      "/Users/williamgilpin/miniconda3/envs/nn/lib/python3.8/site-packages/nolds/measures.py:240: RuntimeWarning: signal has very low mean frequency, setting min_tsep = 125\n",
      "  warnings.warn(msg.format(min_tsep), RuntimeWarning)\n"
     ]
    },
    {
     "name": "stdout",
     "output_type": "stream",
     "text": [
      "Lorenz84 [0.057068215662095315, 0.08058682794549635, 0.08688518037648407]\n"
     ]
    },
    {
     "name": "stderr",
     "output_type": "stream",
     "text": [
      "/Users/williamgilpin/miniconda3/envs/nn/lib/python3.8/site-packages/nolds/measures.py:240: RuntimeWarning: signal has very low mean frequency, setting min_tsep = 125\n",
      "  warnings.warn(msg.format(min_tsep), RuntimeWarning)\n",
      "/Users/williamgilpin/miniconda3/envs/nn/lib/python3.8/site-packages/nolds/measures.py:240: RuntimeWarning: signal has very low mean frequency, setting min_tsep = 125\n",
      "  warnings.warn(msg.format(min_tsep), RuntimeWarning)\n",
      "/Users/williamgilpin/miniconda3/envs/nn/lib/python3.8/site-packages/nolds/measures.py:240: RuntimeWarning: signal has very low mean frequency, setting min_tsep = 125\n",
      "  warnings.warn(msg.format(min_tsep), RuntimeWarning)\n",
      "/Users/williamgilpin/miniconda3/envs/nn/lib/python3.8/site-packages/nolds/measures.py:240: RuntimeWarning: signal has very low mean frequency, setting min_tsep = 125\n",
      "  warnings.warn(msg.format(min_tsep), RuntimeWarning)\n"
     ]
    },
    {
     "name": "stdout",
     "output_type": "stream",
     "text": [
      "Lorenz96 [0.03410654847783252, 0.03781151502652277, 0.029924379165907587, 0.03368810988906632]\n"
     ]
    },
    {
     "name": "stderr",
     "output_type": "stream",
     "text": [
      "/Users/williamgilpin/miniconda3/envs/nn/lib/python3.8/site-packages/nolds/measures.py:240: RuntimeWarning: signal has very low mean frequency, setting min_tsep = 125\n",
      "  warnings.warn(msg.format(min_tsep), RuntimeWarning)\n",
      "/Users/williamgilpin/miniconda3/envs/nn/lib/python3.8/site-packages/nolds/measures.py:240: RuntimeWarning: signal has very low mean frequency, setting min_tsep = 125\n",
      "  warnings.warn(msg.format(min_tsep), RuntimeWarning)\n",
      "/Users/williamgilpin/miniconda3/envs/nn/lib/python3.8/site-packages/nolds/measures.py:240: RuntimeWarning: signal has very low mean frequency, setting min_tsep = 125\n",
      "  warnings.warn(msg.format(min_tsep), RuntimeWarning)\n"
     ]
    },
    {
     "name": "stdout",
     "output_type": "stream",
     "text": [
      "Thomas [0.037537907030349385, 0.04201173589641887, 0.03938897866055481]\n"
     ]
    },
    {
     "name": "stderr",
     "output_type": "stream",
     "text": [
      "/Users/williamgilpin/miniconda3/envs/nn/lib/python3.8/site-packages/nolds/measures.py:240: RuntimeWarning: signal has very low mean frequency, setting min_tsep = 125\n",
      "  warnings.warn(msg.format(min_tsep), RuntimeWarning)\n",
      "/Users/williamgilpin/miniconda3/envs/nn/lib/python3.8/site-packages/nolds/measures.py:240: RuntimeWarning: signal has very low mean frequency, setting min_tsep = 125\n",
      "  warnings.warn(msg.format(min_tsep), RuntimeWarning)\n",
      "/Users/williamgilpin/miniconda3/envs/nn/lib/python3.8/site-packages/nolds/measures.py:240: RuntimeWarning: signal has very low mean frequency, setting min_tsep = 125\n",
      "  warnings.warn(msg.format(min_tsep), RuntimeWarning)\n",
      "/Users/williamgilpin/miniconda3/envs/nn/lib/python3.8/site-packages/nolds/measures.py:240: RuntimeWarning: signal has very low mean frequency, setting min_tsep = 125\n",
      "  warnings.warn(msg.format(min_tsep), RuntimeWarning)\n",
      "/Users/williamgilpin/miniconda3/envs/nn/lib/python3.8/site-packages/nolds/measures.py:240: RuntimeWarning: signal has very low mean frequency, setting min_tsep = 125\n",
      "  warnings.warn(msg.format(min_tsep), RuntimeWarning)\n",
      "/Users/williamgilpin/miniconda3/envs/nn/lib/python3.8/site-packages/nolds/measures.py:240: RuntimeWarning: signal has very low mean frequency, setting min_tsep = 125\n",
      "  warnings.warn(msg.format(min_tsep), RuntimeWarning)\n",
      "/Users/williamgilpin/miniconda3/envs/nn/lib/python3.8/site-packages/nolds/measures.py:240: RuntimeWarning: signal has very low mean frequency, setting min_tsep = 125\n",
      "  warnings.warn(msg.format(min_tsep), RuntimeWarning)\n"
     ]
    },
    {
     "name": "stdout",
     "output_type": "stream",
     "text": [
      "ThomasLabyrinth [0.004560366852470462, 0.012676187609702672, 0.021972162949686787]\n",
      "HenonHeiles [0.005855111430462135, 0.00834445361804245, 0.004446895498978437, 0.006531019139110621]\n"
     ]
    },
    {
     "name": "stderr",
     "output_type": "stream",
     "text": [
      "/Users/williamgilpin/miniconda3/envs/nn/lib/python3.8/site-packages/nolds/measures.py:240: RuntimeWarning: signal has very low mean frequency, setting min_tsep = 125\n",
      "  warnings.warn(msg.format(min_tsep), RuntimeWarning)\n",
      "/Users/williamgilpin/miniconda3/envs/nn/lib/python3.8/site-packages/nolds/measures.py:240: RuntimeWarning: signal has very low mean frequency, setting min_tsep = 125\n",
      "  warnings.warn(msg.format(min_tsep), RuntimeWarning)\n",
      "/Users/williamgilpin/miniconda3/envs/nn/lib/python3.8/site-packages/nolds/measures.py:240: RuntimeWarning: signal has very low mean frequency, setting min_tsep = 125\n",
      "  warnings.warn(msg.format(min_tsep), RuntimeWarning)\n"
     ]
    },
    {
     "name": "stdout",
     "output_type": "stream",
     "text": [
      "Chua [0.09306242255059846, 0.09638147878467584, 0.11436217107803076]\n"
     ]
    },
    {
     "name": "stderr",
     "output_type": "stream",
     "text": [
      "/Users/williamgilpin/miniconda3/envs/nn/lib/python3.8/site-packages/nolds/measures.py:240: RuntimeWarning: signal has very low mean frequency, setting min_tsep = 125\n",
      "  warnings.warn(msg.format(min_tsep), RuntimeWarning)\n",
      "/Users/williamgilpin/miniconda3/envs/nn/lib/python3.8/site-packages/nolds/measures.py:268: RuntimeWarning: autocorrelation declined too slowly to find suitable lag, setting lag to 24\n",
      "  warnings.warn(msg.format(lag), RuntimeWarning)\n",
      "/Users/williamgilpin/miniconda3/envs/nn/lib/python3.8/site-packages/nolds/measures.py:240: RuntimeWarning: signal has very low mean frequency, setting min_tsep = 125\n",
      "  warnings.warn(msg.format(min_tsep), RuntimeWarning)\n",
      "/Users/williamgilpin/miniconda3/envs/nn/lib/python3.8/site-packages/nolds/measures.py:240: RuntimeWarning: signal has very low mean frequency, setting min_tsep = 125\n",
      "  warnings.warn(msg.format(min_tsep), RuntimeWarning)\n"
     ]
    },
    {
     "name": "stdout",
     "output_type": "stream",
     "text": [
      "MultiChua [0.0387559821317483, 0.003416013359127162, 0.003145610748377058]\n"
     ]
    },
    {
     "name": "stderr",
     "output_type": "stream",
     "text": [
      "/Users/williamgilpin/miniconda3/envs/nn/lib/python3.8/site-packages/nolds/measures.py:240: RuntimeWarning: signal has very low mean frequency, setting min_tsep = 125\n",
      "  warnings.warn(msg.format(min_tsep), RuntimeWarning)\n",
      "/Users/williamgilpin/miniconda3/envs/nn/lib/python3.8/site-packages/nolds/measures.py:240: RuntimeWarning: signal has very low mean frequency, setting min_tsep = 125\n",
      "  warnings.warn(msg.format(min_tsep), RuntimeWarning)\n",
      "/Users/williamgilpin/miniconda3/envs/nn/lib/python3.8/site-packages/nolds/measures.py:240: RuntimeWarning: signal has very low mean frequency, setting min_tsep = 125\n",
      "  warnings.warn(msg.format(min_tsep), RuntimeWarning)\n",
      "/Users/williamgilpin/miniconda3/envs/nn/lib/python3.8/site-packages/nolds/measures.py:240: RuntimeWarning: signal has very low mean frequency, setting min_tsep = 125\n",
      "  warnings.warn(msg.format(min_tsep), RuntimeWarning)\n",
      "/Users/williamgilpin/miniconda3/envs/nn/lib/python3.8/site-packages/nolds/measures.py:268: RuntimeWarning: autocorrelation declined too slowly to find suitable lag, setting lag to 24\n",
      "  warnings.warn(msg.format(lag), RuntimeWarning)\n",
      "/Users/williamgilpin/miniconda3/envs/nn/lib/python3.8/site-packages/sklearn/metrics/_regression.py:594: UndefinedMetricWarning: R^2 score is not well-defined with less than two samples.\n",
      "  warnings.warn(msg, UndefinedMetricWarning)\n",
      "/Users/williamgilpin/miniconda3/envs/nn/lib/python3.8/site-packages/nolds/measures.py:240: RuntimeWarning: signal has very low mean frequency, setting min_tsep = 125\n",
      "  warnings.warn(msg.format(min_tsep), RuntimeWarning)\n",
      "/Users/williamgilpin/miniconda3/envs/nn/lib/python3.8/site-packages/nolds/measures.py:240: RuntimeWarning: signal has very low mean frequency, setting min_tsep = 125\n",
      "  warnings.warn(msg.format(min_tsep), RuntimeWarning)\n",
      "/Users/williamgilpin/miniconda3/envs/nn/lib/python3.8/site-packages/nolds/measures.py:268: RuntimeWarning: autocorrelation declined too slowly to find suitable lag, setting lag to 24\n",
      "  warnings.warn(msg.format(lag), RuntimeWarning)\n"
     ]
    },
    {
     "name": "stdout",
     "output_type": "stream",
     "text": [
      "JerkCircuit [0.02160009800043321, 0.027968556002566678, 0.04950363828723592]\n",
      "Colpitts [0.0007047077951670196, 0.011581898811168242, 0.015578241662664687]\n"
     ]
    },
    {
     "name": "stderr",
     "output_type": "stream",
     "text": [
      "/Users/williamgilpin/miniconda3/envs/nn/lib/python3.8/site-packages/nolds/measures.py:240: RuntimeWarning: signal has very low mean frequency, setting min_tsep = 125\n",
      "  warnings.warn(msg.format(min_tsep), RuntimeWarning)\n",
      "/Users/williamgilpin/miniconda3/envs/nn/lib/python3.8/site-packages/nolds/measures.py:240: RuntimeWarning: signal has very low mean frequency, setting min_tsep = 125\n",
      "  warnings.warn(msg.format(min_tsep), RuntimeWarning)\n",
      "/Users/williamgilpin/miniconda3/envs/nn/lib/python3.8/site-packages/nolds/measures.py:240: RuntimeWarning: signal has very low mean frequency, setting min_tsep = 125\n",
      "  warnings.warn(msg.format(min_tsep), RuntimeWarning)\n",
      "/Users/williamgilpin/miniconda3/envs/nn/lib/python3.8/site-packages/nolds/measures.py:268: RuntimeWarning: autocorrelation declined too slowly to find suitable lag, setting lag to 24\n",
      "  warnings.warn(msg.format(lag), RuntimeWarning)\n",
      "/Users/williamgilpin/miniconda3/envs/nn/lib/python3.8/site-packages/nolds/measures.py:45: RuntimeWarning: RANSAC did not reach consensus, using numpy's polyfit\n",
      "  warnings.warn(\n"
     ]
    },
    {
     "name": "stdout",
     "output_type": "stream",
     "text": [
      "Duffing [-0.008884701782599426, 0.005155558424784722, -1.2766361424485913e-16]\n"
     ]
    },
    {
     "name": "stderr",
     "output_type": "stream",
     "text": [
      "/Users/williamgilpin/miniconda3/envs/nn/lib/python3.8/site-packages/nolds/measures.py:240: RuntimeWarning: signal has very low mean frequency, setting min_tsep = 125\n",
      "  warnings.warn(msg.format(min_tsep), RuntimeWarning)\n",
      "/Users/williamgilpin/miniconda3/envs/nn/lib/python3.8/site-packages/nolds/measures.py:268: RuntimeWarning: autocorrelation declined too slowly to find suitable lag, setting lag to 24\n",
      "  warnings.warn(msg.format(lag), RuntimeWarning)\n",
      "/Users/williamgilpin/miniconda3/envs/nn/lib/python3.8/site-packages/nolds/measures.py:240: RuntimeWarning: signal has very low mean frequency, setting min_tsep = 125\n",
      "  warnings.warn(msg.format(min_tsep), RuntimeWarning)\n",
      "/Users/williamgilpin/miniconda3/envs/nn/lib/python3.8/site-packages/nolds/measures.py:268: RuntimeWarning: autocorrelation declined too slowly to find suitable lag, setting lag to 24\n",
      "  warnings.warn(msg.format(lag), RuntimeWarning)\n",
      "/Users/williamgilpin/miniconda3/envs/nn/lib/python3.8/site-packages/nolds/measures.py:240: RuntimeWarning: signal has very low mean frequency, setting min_tsep = 125\n",
      "  warnings.warn(msg.format(min_tsep), RuntimeWarning)\n"
     ]
    },
    {
     "name": "stdout",
     "output_type": "stream",
     "text": [
      "Torus [-0.007387084490039601, 0.008699257393344727, 0.001437438653841595]\n"
     ]
    },
    {
     "name": "stderr",
     "output_type": "stream",
     "text": [
      "/Users/williamgilpin/miniconda3/envs/nn/lib/python3.8/site-packages/nolds/measures.py:240: RuntimeWarning: signal has very low mean frequency, setting min_tsep = 125\n",
      "  warnings.warn(msg.format(min_tsep), RuntimeWarning)\n",
      "/Users/williamgilpin/miniconda3/envs/nn/lib/python3.8/site-packages/nolds/measures.py:240: RuntimeWarning: signal has very low mean frequency, setting min_tsep = 125\n",
      "  warnings.warn(msg.format(min_tsep), RuntimeWarning)\n",
      "/Users/williamgilpin/miniconda3/envs/nn/lib/python3.8/site-packages/nolds/measures.py:240: RuntimeWarning: signal has very low mean frequency, setting min_tsep = 125\n",
      "  warnings.warn(msg.format(min_tsep), RuntimeWarning)\n"
     ]
    },
    {
     "name": "stdout",
     "output_type": "stream",
     "text": [
      "Halvorsen [0.02168124779722747, 0.02449055040689339, 0.017564668969713322]\n"
     ]
    },
    {
     "name": "stderr",
     "output_type": "stream",
     "text": [
      "/Users/williamgilpin/miniconda3/envs/nn/lib/python3.8/site-packages/nolds/measures.py:240: RuntimeWarning: signal has very low mean frequency, setting min_tsep = 125\n",
      "  warnings.warn(msg.format(min_tsep), RuntimeWarning)\n",
      "/Users/williamgilpin/miniconda3/envs/nn/lib/python3.8/site-packages/nolds/measures.py:240: RuntimeWarning: signal has very low mean frequency, setting min_tsep = 125\n",
      "  warnings.warn(msg.format(min_tsep), RuntimeWarning)\n",
      "/Users/williamgilpin/miniconda3/envs/nn/lib/python3.8/site-packages/nolds/measures.py:240: RuntimeWarning: signal has very low mean frequency, setting min_tsep = 125\n",
      "  warnings.warn(msg.format(min_tsep), RuntimeWarning)\n",
      "/Users/williamgilpin/miniconda3/envs/nn/lib/python3.8/site-packages/nolds/measures.py:240: RuntimeWarning: signal has very low mean frequency, setting min_tsep = 125\n",
      "  warnings.warn(msg.format(min_tsep), RuntimeWarning)\n",
      "/Users/williamgilpin/miniconda3/envs/nn/lib/python3.8/site-packages/nolds/measures.py:240: RuntimeWarning: signal has very low mean frequency, setting min_tsep = 125\n",
      "  warnings.warn(msg.format(min_tsep), RuntimeWarning)\n",
      "/Users/williamgilpin/miniconda3/envs/nn/lib/python3.8/site-packages/nolds/measures.py:268: RuntimeWarning: autocorrelation declined too slowly to find suitable lag, setting lag to 24\n",
      "  warnings.warn(msg.format(lag), RuntimeWarning)\n",
      "/Users/williamgilpin/miniconda3/envs/nn/lib/python3.8/site-packages/nolds/measures.py:240: RuntimeWarning: signal has very low mean frequency, setting min_tsep = 125\n",
      "  warnings.warn(msg.format(min_tsep), RuntimeWarning)\n",
      "/Users/williamgilpin/miniconda3/envs/nn/lib/python3.8/site-packages/nolds/measures.py:268: RuntimeWarning: autocorrelation declined too slowly to find suitable lag, setting lag to 24\n",
      "  warnings.warn(msg.format(lag), RuntimeWarning)\n"
     ]
    },
    {
     "name": "stdout",
     "output_type": "stream",
     "text": [
      "MooreSpiegel [0.029655588367827855, 0.055896360892102225, 0.057279221993639946]\n",
      "Bouali2 [-0.007212022417470044, 0.01319348030065115, 0.0017358668764730649]\n"
     ]
    },
    {
     "name": "stderr",
     "output_type": "stream",
     "text": [
      "/Users/williamgilpin/miniconda3/envs/nn/lib/python3.8/site-packages/nolds/measures.py:240: RuntimeWarning: signal has very low mean frequency, setting min_tsep = 125\n",
      "  warnings.warn(msg.format(min_tsep), RuntimeWarning)\n",
      "/Users/williamgilpin/miniconda3/envs/nn/lib/python3.8/site-packages/nolds/measures.py:240: RuntimeWarning: signal has very low mean frequency, setting min_tsep = 125\n",
      "  warnings.warn(msg.format(min_tsep), RuntimeWarning)\n",
      "/Users/williamgilpin/miniconda3/envs/nn/lib/python3.8/site-packages/nolds/measures.py:268: RuntimeWarning: autocorrelation declined too slowly to find suitable lag, setting lag to 24\n",
      "  warnings.warn(msg.format(lag), RuntimeWarning)\n",
      "/Users/williamgilpin/miniconda3/envs/nn/lib/python3.8/site-packages/nolds/measures.py:240: RuntimeWarning: signal has very low mean frequency, setting min_tsep = 125\n",
      "  warnings.warn(msg.format(min_tsep), RuntimeWarning)\n",
      "/Users/williamgilpin/miniconda3/envs/nn/lib/python3.8/site-packages/nolds/measures.py:240: RuntimeWarning: signal has very low mean frequency, setting min_tsep = 125\n",
      "  warnings.warn(msg.format(min_tsep), RuntimeWarning)\n",
      "/Users/williamgilpin/miniconda3/envs/nn/lib/python3.8/site-packages/nolds/measures.py:268: RuntimeWarning: autocorrelation declined too slowly to find suitable lag, setting lag to 24\n",
      "  warnings.warn(msg.format(lag), RuntimeWarning)\n",
      "/Users/williamgilpin/miniconda3/envs/nn/lib/python3.8/site-packages/nolds/measures.py:240: RuntimeWarning: signal has very low mean frequency, setting min_tsep = 125\n",
      "  warnings.warn(msg.format(min_tsep), RuntimeWarning)\n",
      "/Users/williamgilpin/miniconda3/envs/nn/lib/python3.8/site-packages/nolds/measures.py:240: RuntimeWarning: signal has very low mean frequency, setting min_tsep = 125\n",
      "  warnings.warn(msg.format(min_tsep), RuntimeWarning)\n"
     ]
    },
    {
     "name": "stdout",
     "output_type": "stream",
     "text": [
      "Bouali [0.012020444260689161, 0.0014425999549141095, 0.016236671133148937]\n",
      "Arneodo [0.00607405602931978, 0.02295420302036113, 0.024757930894095205]\n"
     ]
    },
    {
     "name": "stderr",
     "output_type": "stream",
     "text": [
      "/Users/williamgilpin/miniconda3/envs/nn/lib/python3.8/site-packages/nolds/measures.py:240: RuntimeWarning: signal has very low mean frequency, setting min_tsep = 125\n",
      "  warnings.warn(msg.format(min_tsep), RuntimeWarning)\n",
      "/Users/williamgilpin/miniconda3/envs/nn/lib/python3.8/site-packages/nolds/measures.py:240: RuntimeWarning: signal has very low mean frequency, setting min_tsep = 125\n",
      "  warnings.warn(msg.format(min_tsep), RuntimeWarning)\n",
      "/Users/williamgilpin/miniconda3/envs/nn/lib/python3.8/site-packages/nolds/measures.py:240: RuntimeWarning: signal has very low mean frequency, setting min_tsep = 125\n",
      "  warnings.warn(msg.format(min_tsep), RuntimeWarning)\n"
     ]
    },
    {
     "name": "stdout",
     "output_type": "stream",
     "text": [
      "Coullet [0.006625423485175111, 0.017526233644413754, 0.021323099978884364]\n"
     ]
    },
    {
     "name": "stderr",
     "output_type": "stream",
     "text": [
      "/Users/williamgilpin/miniconda3/envs/nn/lib/python3.8/site-packages/nolds/measures.py:240: RuntimeWarning: signal has very low mean frequency, setting min_tsep = 125\n",
      "  warnings.warn(msg.format(min_tsep), RuntimeWarning)\n",
      "/Users/williamgilpin/miniconda3/envs/nn/lib/python3.8/site-packages/nolds/measures.py:240: RuntimeWarning: signal has very low mean frequency, setting min_tsep = 125\n",
      "  warnings.warn(msg.format(min_tsep), RuntimeWarning)\n",
      "/Users/williamgilpin/miniconda3/envs/nn/lib/python3.8/site-packages/nolds/measures.py:240: RuntimeWarning: signal has very low mean frequency, setting min_tsep = 125\n",
      "  warnings.warn(msg.format(min_tsep), RuntimeWarning)\n",
      "/Users/williamgilpin/miniconda3/envs/nn/lib/python3.8/site-packages/nolds/measures.py:268: RuntimeWarning: autocorrelation declined too slowly to find suitable lag, setting lag to 24\n",
      "  warnings.warn(msg.format(lag), RuntimeWarning)\n"
     ]
    },
    {
     "name": "stdout",
     "output_type": "stream",
     "text": [
      "Rucklidge [0.04220813302169169, 0.03838637269529184, -0.006373547538262915]\n"
     ]
    },
    {
     "name": "stderr",
     "output_type": "stream",
     "text": [
      "/Users/williamgilpin/miniconda3/envs/nn/lib/python3.8/site-packages/nolds/measures.py:240: RuntimeWarning: signal has very low mean frequency, setting min_tsep = 125\n",
      "  warnings.warn(msg.format(min_tsep), RuntimeWarning)\n",
      "/Users/williamgilpin/miniconda3/envs/nn/lib/python3.8/site-packages/nolds/measures.py:240: RuntimeWarning: signal has very low mean frequency, setting min_tsep = 125\n",
      "  warnings.warn(msg.format(min_tsep), RuntimeWarning)\n",
      "/Users/williamgilpin/miniconda3/envs/nn/lib/python3.8/site-packages/nolds/measures.py:240: RuntimeWarning: signal has very low mean frequency, setting min_tsep = 125\n",
      "  warnings.warn(msg.format(min_tsep), RuntimeWarning)\n",
      "/Users/williamgilpin/miniconda3/envs/nn/lib/python3.8/site-packages/nolds/measures.py:240: RuntimeWarning: signal has very low mean frequency, setting min_tsep = 125\n",
      "  warnings.warn(msg.format(min_tsep), RuntimeWarning)\n",
      "/Users/williamgilpin/miniconda3/envs/nn/lib/python3.8/site-packages/nolds/measures.py:240: RuntimeWarning: signal has very low mean frequency, setting min_tsep = 125\n",
      "  warnings.warn(msg.format(min_tsep), RuntimeWarning)\n"
     ]
    },
    {
     "name": "stdout",
     "output_type": "stream",
     "text": [
      "BurkeShaw [0.04039350278759585, 0.03922950840884246, 0.03811533968559557]\n",
      "ZhouChen [0.07122521207744915, 0.000626884042260501, 0.04203058730114943]\n"
     ]
    },
    {
     "name": "stderr",
     "output_type": "stream",
     "text": [
      "/Users/williamgilpin/miniconda3/envs/nn/lib/python3.8/site-packages/nolds/measures.py:240: RuntimeWarning: signal has very low mean frequency, setting min_tsep = 125\n",
      "  warnings.warn(msg.format(min_tsep), RuntimeWarning)\n",
      "/Users/williamgilpin/miniconda3/envs/nn/lib/python3.8/site-packages/nolds/measures.py:240: RuntimeWarning: signal has very low mean frequency, setting min_tsep = 125\n",
      "  warnings.warn(msg.format(min_tsep), RuntimeWarning)\n",
      "/Users/williamgilpin/miniconda3/envs/nn/lib/python3.8/site-packages/nolds/measures.py:240: RuntimeWarning: signal has very low mean frequency, setting min_tsep = 125\n",
      "  warnings.warn(msg.format(min_tsep), RuntimeWarning)\n",
      "/Users/williamgilpin/miniconda3/envs/nn/lib/python3.8/site-packages/nolds/measures.py:240: RuntimeWarning: signal has very low mean frequency, setting min_tsep = 125\n",
      "  warnings.warn(msg.format(min_tsep), RuntimeWarning)\n"
     ]
    },
    {
     "name": "stdout",
     "output_type": "stream",
     "text": [
      "LuChenCheng [0.008385051237909426, 0.012000034648672983, -0.003079599202663827]\n",
      "Chen [0.02861560529335996, 0.028918415980231503, 0.00797076104318019]\n"
     ]
    },
    {
     "name": "stderr",
     "output_type": "stream",
     "text": [
      "/Users/williamgilpin/miniconda3/envs/nn/lib/python3.8/site-packages/nolds/measures.py:240: RuntimeWarning: signal has very low mean frequency, setting min_tsep = 125\n",
      "  warnings.warn(msg.format(min_tsep), RuntimeWarning)\n",
      "/Users/williamgilpin/miniconda3/envs/nn/lib/python3.8/site-packages/nolds/measures.py:240: RuntimeWarning: signal has very low mean frequency, setting min_tsep = 125\n",
      "  warnings.warn(msg.format(min_tsep), RuntimeWarning)\n",
      "/Users/williamgilpin/miniconda3/envs/nn/lib/python3.8/site-packages/nolds/measures.py:240: RuntimeWarning: signal has very low mean frequency, setting min_tsep = 125\n",
      "  warnings.warn(msg.format(min_tsep), RuntimeWarning)\n",
      "/Users/williamgilpin/miniconda3/envs/nn/lib/python3.8/site-packages/nolds/measures.py:268: RuntimeWarning: autocorrelation declined too slowly to find suitable lag, setting lag to 24\n",
      "  warnings.warn(msg.format(lag), RuntimeWarning)\n",
      "/Users/williamgilpin/miniconda3/envs/nn/lib/python3.8/site-packages/nolds/measures.py:240: RuntimeWarning: signal has very low mean frequency, setting min_tsep = 125\n",
      "  warnings.warn(msg.format(min_tsep), RuntimeWarning)\n",
      "/Users/williamgilpin/miniconda3/envs/nn/lib/python3.8/site-packages/nolds/measures.py:240: RuntimeWarning: signal has very low mean frequency, setting min_tsep = 125\n",
      "  warnings.warn(msg.format(min_tsep), RuntimeWarning)\n",
      "/Users/williamgilpin/miniconda3/envs/nn/lib/python3.8/site-packages/nolds/measures.py:240: RuntimeWarning: signal has very low mean frequency, setting min_tsep = 125\n",
      "  warnings.warn(msg.format(min_tsep), RuntimeWarning)\n",
      "/Users/williamgilpin/miniconda3/envs/nn/lib/python3.8/site-packages/nolds/measures.py:268: RuntimeWarning: autocorrelation declined too slowly to find suitable lag, setting lag to 24\n",
      "  warnings.warn(msg.format(lag), RuntimeWarning)\n"
     ]
    },
    {
     "name": "stdout",
     "output_type": "stream",
     "text": [
      "ChenLee [0.018033845330539512, 0.020774702738998542, 0.006703300031178819]\n"
     ]
    },
    {
     "name": "stderr",
     "output_type": "stream",
     "text": [
      "/Users/williamgilpin/miniconda3/envs/nn/lib/python3.8/site-packages/nolds/measures.py:240: RuntimeWarning: signal has very low mean frequency, setting min_tsep = 125\n",
      "  warnings.warn(msg.format(min_tsep), RuntimeWarning)\n",
      "/Users/williamgilpin/miniconda3/envs/nn/lib/python3.8/site-packages/nolds/measures.py:240: RuntimeWarning: signal has very low mean frequency, setting min_tsep = 125\n",
      "  warnings.warn(msg.format(min_tsep), RuntimeWarning)\n",
      "/Users/williamgilpin/miniconda3/envs/nn/lib/python3.8/site-packages/nolds/measures.py:240: RuntimeWarning: signal has very low mean frequency, setting min_tsep = 125\n",
      "  warnings.warn(msg.format(min_tsep), RuntimeWarning)\n",
      "/Users/williamgilpin/miniconda3/envs/nn/lib/python3.8/site-packages/nolds/measures.py:268: RuntimeWarning: autocorrelation declined too slowly to find suitable lag, setting lag to 24\n",
      "  warnings.warn(msg.format(lag), RuntimeWarning)\n"
     ]
    },
    {
     "name": "stdout",
     "output_type": "stream",
     "text": [
      "LuChen [0.03776397794709171, 0.03728573349185455, 0.0014110064987490128]\n"
     ]
    },
    {
     "name": "stderr",
     "output_type": "stream",
     "text": [
      "/Users/williamgilpin/miniconda3/envs/nn/lib/python3.8/site-packages/nolds/measures.py:240: RuntimeWarning: signal has very low mean frequency, setting min_tsep = 125\n",
      "  warnings.warn(msg.format(min_tsep), RuntimeWarning)\n",
      "/Users/williamgilpin/miniconda3/envs/nn/lib/python3.8/site-packages/nolds/measures.py:240: RuntimeWarning: signal has very low mean frequency, setting min_tsep = 125\n",
      "  warnings.warn(msg.format(min_tsep), RuntimeWarning)\n",
      "/Users/williamgilpin/miniconda3/envs/nn/lib/python3.8/site-packages/nolds/measures.py:240: RuntimeWarning: signal has very low mean frequency, setting min_tsep = 125\n",
      "  warnings.warn(msg.format(min_tsep), RuntimeWarning)\n",
      "/Users/williamgilpin/miniconda3/envs/nn/lib/python3.8/site-packages/nolds/measures.py:268: RuntimeWarning: autocorrelation declined too slowly to find suitable lag, setting lag to 24\n",
      "  warnings.warn(msg.format(lag), RuntimeWarning)\n"
     ]
    },
    {
     "name": "stdout",
     "output_type": "stream",
     "text": [
      "QiChen [0.04884251257530734, 0.046020462907346536, 0.0034458832999769407]\n"
     ]
    },
    {
     "name": "stderr",
     "output_type": "stream",
     "text": [
      "/Users/williamgilpin/miniconda3/envs/nn/lib/python3.8/site-packages/nolds/measures.py:240: RuntimeWarning: signal has very low mean frequency, setting min_tsep = 125\n",
      "  warnings.warn(msg.format(min_tsep), RuntimeWarning)\n",
      "/Users/williamgilpin/miniconda3/envs/nn/lib/python3.8/site-packages/nolds/measures.py:240: RuntimeWarning: signal has very low mean frequency, setting min_tsep = 125\n",
      "  warnings.warn(msg.format(min_tsep), RuntimeWarning)\n",
      "/Users/williamgilpin/miniconda3/envs/nn/lib/python3.8/site-packages/nolds/measures.py:240: RuntimeWarning: signal has very low mean frequency, setting min_tsep = 125\n",
      "  warnings.warn(msg.format(min_tsep), RuntimeWarning)\n",
      "/Users/williamgilpin/miniconda3/envs/nn/lib/python3.8/site-packages/nolds/measures.py:268: RuntimeWarning: autocorrelation declined too slowly to find suitable lag, setting lag to 24\n",
      "  warnings.warn(msg.format(lag), RuntimeWarning)\n",
      "/Users/williamgilpin/miniconda3/envs/nn/lib/python3.8/site-packages/nolds/measures.py:240: RuntimeWarning: signal has very low mean frequency, setting min_tsep = 125\n",
      "  warnings.warn(msg.format(min_tsep), RuntimeWarning)\n",
      "/Users/williamgilpin/miniconda3/envs/nn/lib/python3.8/site-packages/nolds/measures.py:240: RuntimeWarning: signal has very low mean frequency, setting min_tsep = 125\n",
      "  warnings.warn(msg.format(min_tsep), RuntimeWarning)\n",
      "/Users/williamgilpin/miniconda3/envs/nn/lib/python3.8/site-packages/nolds/measures.py:240: RuntimeWarning: signal has very low mean frequency, setting min_tsep = 125\n",
      "  warnings.warn(msg.format(min_tsep), RuntimeWarning)\n",
      "/Users/williamgilpin/miniconda3/envs/nn/lib/python3.8/site-packages/nolds/measures.py:268: RuntimeWarning: autocorrelation declined too slowly to find suitable lag, setting lag to 24\n",
      "  warnings.warn(msg.format(lag), RuntimeWarning)\n"
     ]
    },
    {
     "name": "stdout",
     "output_type": "stream",
     "text": [
      "YuWang [0.04738469838647913, 0.061263927167519584, 0.00973069118289091]\n",
      "YuWang2 [0.009261902452978183, 0.012686447256266595, -0.0060393969381125]\n"
     ]
    },
    {
     "name": "stderr",
     "output_type": "stream",
     "text": [
      "/Users/williamgilpin/miniconda3/envs/nn/lib/python3.8/site-packages/nolds/measures.py:240: RuntimeWarning: signal has very low mean frequency, setting min_tsep = 125\n",
      "  warnings.warn(msg.format(min_tsep), RuntimeWarning)\n",
      "/Users/williamgilpin/miniconda3/envs/nn/lib/python3.8/site-packages/nolds/measures.py:240: RuntimeWarning: signal has very low mean frequency, setting min_tsep = 125\n",
      "  warnings.warn(msg.format(min_tsep), RuntimeWarning)\n",
      "/Users/williamgilpin/miniconda3/envs/nn/lib/python3.8/site-packages/nolds/measures.py:240: RuntimeWarning: signal has very low mean frequency, setting min_tsep = 125\n",
      "  warnings.warn(msg.format(min_tsep), RuntimeWarning)\n",
      "/Users/williamgilpin/miniconda3/envs/nn/lib/python3.8/site-packages/nolds/measures.py:268: RuntimeWarning: autocorrelation declined too slowly to find suitable lag, setting lag to 24\n",
      "  warnings.warn(msg.format(lag), RuntimeWarning)\n",
      "/Users/williamgilpin/miniconda3/envs/nn/lib/python3.8/site-packages/nolds/measures.py:240: RuntimeWarning: signal has very low mean frequency, setting min_tsep = 125\n",
      "  warnings.warn(msg.format(min_tsep), RuntimeWarning)\n",
      "/Users/williamgilpin/miniconda3/envs/nn/lib/python3.8/site-packages/nolds/measures.py:240: RuntimeWarning: signal has very low mean frequency, setting min_tsep = 125\n",
      "  warnings.warn(msg.format(min_tsep), RuntimeWarning)\n",
      "/Users/williamgilpin/miniconda3/envs/nn/lib/python3.8/site-packages/nolds/measures.py:240: RuntimeWarning: signal has very low mean frequency, setting min_tsep = 125\n",
      "  warnings.warn(msg.format(min_tsep), RuntimeWarning)\n",
      "/Users/williamgilpin/miniconda3/envs/nn/lib/python3.8/site-packages/nolds/measures.py:268: RuntimeWarning: autocorrelation declined too slowly to find suitable lag, setting lag to 24\n",
      "  warnings.warn(msg.format(lag), RuntimeWarning)\n"
     ]
    },
    {
     "name": "stdout",
     "output_type": "stream",
     "text": [
      "NewtonLiepnik [0.033374977470340544, 0.03829940458885706, -0.003480293821630462]\n",
      "DequanLi [-0.0007612319977000222, 0.001991569906249131, -0.000501028959416094]\n"
     ]
    },
    {
     "name": "stderr",
     "output_type": "stream",
     "text": [
      "/Users/williamgilpin/miniconda3/envs/nn/lib/python3.8/site-packages/nolds/measures.py:240: RuntimeWarning: signal has very low mean frequency, setting min_tsep = 125\n",
      "  warnings.warn(msg.format(min_tsep), RuntimeWarning)\n",
      "/Users/williamgilpin/miniconda3/envs/nn/lib/python3.8/site-packages/nolds/measures.py:240: RuntimeWarning: signal has very low mean frequency, setting min_tsep = 125\n",
      "  warnings.warn(msg.format(min_tsep), RuntimeWarning)\n",
      "/Users/williamgilpin/miniconda3/envs/nn/lib/python3.8/site-packages/nolds/measures.py:240: RuntimeWarning: signal has very low mean frequency, setting min_tsep = 125\n",
      "  warnings.warn(msg.format(min_tsep), RuntimeWarning)\n",
      "/Users/williamgilpin/miniconda3/envs/nn/lib/python3.8/site-packages/nolds/measures.py:268: RuntimeWarning: autocorrelation declined too slowly to find suitable lag, setting lag to 24\n",
      "  warnings.warn(msg.format(lag), RuntimeWarning)\n"
     ]
    },
    {
     "name": "stdout",
     "output_type": "stream",
     "text": [
      "Tsucs2 [0.026032932091476318, 0.02639386411896322, 0.0019134310974324893]\n"
     ]
    },
    {
     "name": "stderr",
     "output_type": "stream",
     "text": [
      "/Users/williamgilpin/miniconda3/envs/nn/lib/python3.8/site-packages/nolds/measures.py:240: RuntimeWarning: signal has very low mean frequency, setting min_tsep = 125\n",
      "  warnings.warn(msg.format(min_tsep), RuntimeWarning)\n",
      "/Users/williamgilpin/miniconda3/envs/nn/lib/python3.8/site-packages/nolds/measures.py:268: RuntimeWarning: autocorrelation declined too slowly to find suitable lag, setting lag to 24\n",
      "  warnings.warn(msg.format(lag), RuntimeWarning)\n",
      "/Users/williamgilpin/miniconda3/envs/nn/lib/python3.8/site-packages/nolds/measures.py:240: RuntimeWarning: signal has very low mean frequency, setting min_tsep = 125\n",
      "  warnings.warn(msg.format(min_tsep), RuntimeWarning)\n",
      "/Users/williamgilpin/miniconda3/envs/nn/lib/python3.8/site-packages/nolds/measures.py:268: RuntimeWarning: autocorrelation declined too slowly to find suitable lag, setting lag to 24\n",
      "  warnings.warn(msg.format(lag), RuntimeWarning)\n",
      "/Users/williamgilpin/miniconda3/envs/nn/lib/python3.8/site-packages/nolds/measures.py:240: RuntimeWarning: signal has very low mean frequency, setting min_tsep = 125\n",
      "  warnings.warn(msg.format(min_tsep), RuntimeWarning)\n",
      "/Users/williamgilpin/miniconda3/envs/nn/lib/python3.8/site-packages/nolds/measures.py:268: RuntimeWarning: autocorrelation declined too slowly to find suitable lag, setting lag to 24\n",
      "  warnings.warn(msg.format(lag), RuntimeWarning)\n",
      "/Users/williamgilpin/miniconda3/envs/nn/lib/python3.8/site-packages/nolds/measures.py:240: RuntimeWarning: signal has very low mean frequency, setting min_tsep = 125\n",
      "  warnings.warn(msg.format(min_tsep), RuntimeWarning)\n",
      "/Users/williamgilpin/miniconda3/envs/nn/lib/python3.8/site-packages/nolds/measures.py:268: RuntimeWarning: autocorrelation declined too slowly to find suitable lag, setting lag to 24\n",
      "  warnings.warn(msg.format(lag), RuntimeWarning)\n",
      "/Users/williamgilpin/miniconda3/envs/nn/lib/python3.8/site-packages/nolds/measures.py:240: RuntimeWarning: signal has very low mean frequency, setting min_tsep = 125\n",
      "  warnings.warn(msg.format(min_tsep), RuntimeWarning)\n",
      "/Users/williamgilpin/miniconda3/envs/nn/lib/python3.8/site-packages/nolds/measures.py:268: RuntimeWarning: autocorrelation declined too slowly to find suitable lag, setting lag to 24\n",
      "  warnings.warn(msg.format(lag), RuntimeWarning)\n",
      "/Users/williamgilpin/miniconda3/envs/nn/lib/python3.8/site-packages/nolds/measures.py:45: RuntimeWarning: RANSAC did not reach consensus, using numpy's polyfit\n",
      "  warnings.warn(\n"
     ]
    },
    {
     "name": "stdout",
     "output_type": "stream",
     "text": [
      "ArnoldWeb [0.028104735992767086, 0.03045970076447609, 9.73561652621297e-05, -0.0001089508372141031, -1.0905488268105643e-16]\n"
     ]
    },
    {
     "name": "stderr",
     "output_type": "stream",
     "text": [
      "/Users/williamgilpin/miniconda3/envs/nn/lib/python3.8/site-packages/nolds/measures.py:240: RuntimeWarning: signal has very low mean frequency, setting min_tsep = 125\n",
      "  warnings.warn(msg.format(min_tsep), RuntimeWarning)\n",
      "/Users/williamgilpin/miniconda3/envs/nn/lib/python3.8/site-packages/nolds/measures.py:240: RuntimeWarning: signal has very low mean frequency, setting min_tsep = 125\n",
      "  warnings.warn(msg.format(min_tsep), RuntimeWarning)\n",
      "/Users/williamgilpin/miniconda3/envs/nn/lib/python3.8/site-packages/nolds/measures.py:240: RuntimeWarning: signal has very low mean frequency, setting min_tsep = 125\n",
      "  warnings.warn(msg.format(min_tsep), RuntimeWarning)\n",
      "/Users/williamgilpin/miniconda3/envs/nn/lib/python3.8/site-packages/nolds/measures.py:268: RuntimeWarning: autocorrelation declined too slowly to find suitable lag, setting lag to 24\n",
      "  warnings.warn(msg.format(lag), RuntimeWarning)\n"
     ]
    },
    {
     "name": "stdout",
     "output_type": "stream",
     "text": [
      "PanXuZhou [0.02428350125936644, 0.030269925217879474, 0.009332612925723946]\n"
     ]
    },
    {
     "name": "stderr",
     "output_type": "stream",
     "text": [
      "/Users/williamgilpin/miniconda3/envs/nn/lib/python3.8/site-packages/nolds/measures.py:240: RuntimeWarning: signal has very low mean frequency, setting min_tsep = 125\n",
      "  warnings.warn(msg.format(min_tsep), RuntimeWarning)\n",
      "/Users/williamgilpin/miniconda3/envs/nn/lib/python3.8/site-packages/nolds/measures.py:240: RuntimeWarning: signal has very low mean frequency, setting min_tsep = 125\n",
      "  warnings.warn(msg.format(min_tsep), RuntimeWarning)\n",
      "/Users/williamgilpin/miniconda3/envs/nn/lib/python3.8/site-packages/nolds/measures.py:240: RuntimeWarning: signal has very low mean frequency, setting min_tsep = 125\n",
      "  warnings.warn(msg.format(min_tsep), RuntimeWarning)\n"
     ]
    },
    {
     "name": "stdout",
     "output_type": "stream",
     "text": [
      "WangSun [0.04553529865675626, 0.02277458536623131, 0.07787288746908586]\n"
     ]
    },
    {
     "name": "stderr",
     "output_type": "stream",
     "text": [
      "/Users/williamgilpin/miniconda3/envs/nn/lib/python3.8/site-packages/nolds/measures.py:240: RuntimeWarning: signal has very low mean frequency, setting min_tsep = 125\n",
      "  warnings.warn(msg.format(min_tsep), RuntimeWarning)\n",
      "/Users/williamgilpin/miniconda3/envs/nn/lib/python3.8/site-packages/nolds/measures.py:240: RuntimeWarning: signal has very low mean frequency, setting min_tsep = 125\n",
      "  warnings.warn(msg.format(min_tsep), RuntimeWarning)\n",
      "/Users/williamgilpin/miniconda3/envs/nn/lib/python3.8/site-packages/nolds/measures.py:240: RuntimeWarning: signal has very low mean frequency, setting min_tsep = 125\n",
      "  warnings.warn(msg.format(min_tsep), RuntimeWarning)\n",
      "/Users/williamgilpin/program_repos/thom/thom/base.py:133: UserWarning: Excessive integration required; scale factor 1801.8431108114187\n",
      "  if upscale_factor > 1e3: warnings.warn(f\"Excessive integration required; scale factor {upscale_factor}\")\n"
     ]
    },
    {
     "name": "stdout",
     "output_type": "stream",
     "text": [
      "Sakarya [0.04525331644187299, 0.05343521985792574, 0.03274326190016324]\n"
     ]
    },
    {
     "name": "stderr",
     "output_type": "stream",
     "text": [
      "/Users/williamgilpin/miniconda3/envs/nn/lib/python3.8/site-packages/nolds/measures.py:240: RuntimeWarning: signal has very low mean frequency, setting min_tsep = 125\n",
      "  warnings.warn(msg.format(min_tsep), RuntimeWarning)\n",
      "/Users/williamgilpin/miniconda3/envs/nn/lib/python3.8/site-packages/nolds/measures.py:240: RuntimeWarning: signal has very low mean frequency, setting min_tsep = 125\n",
      "  warnings.warn(msg.format(min_tsep), RuntimeWarning)\n",
      "/Users/williamgilpin/miniconda3/envs/nn/lib/python3.8/site-packages/nolds/measures.py:240: RuntimeWarning: signal has very low mean frequency, setting min_tsep = 125\n",
      "  warnings.warn(msg.format(min_tsep), RuntimeWarning)\n",
      "/Users/williamgilpin/miniconda3/envs/nn/lib/python3.8/site-packages/nolds/measures.py:240: RuntimeWarning: signal has very low mean frequency, setting min_tsep = 125\n",
      "  warnings.warn(msg.format(min_tsep), RuntimeWarning)\n",
      "/Users/williamgilpin/miniconda3/envs/nn/lib/python3.8/site-packages/nolds/measures.py:240: RuntimeWarning: signal has very low mean frequency, setting min_tsep = 125\n",
      "  warnings.warn(msg.format(min_tsep), RuntimeWarning)\n",
      "/Users/williamgilpin/miniconda3/envs/nn/lib/python3.8/site-packages/nolds/measures.py:240: RuntimeWarning: signal has very low mean frequency, setting min_tsep = 125\n",
      "  warnings.warn(msg.format(min_tsep), RuntimeWarning)\n"
     ]
    },
    {
     "name": "stdout",
     "output_type": "stream",
     "text": [
      "LiuChen [0.036910920214832325, 0.21857220451894716, 0.2525056194542045]\n",
      "Aizawa [0.007301286225095491, 0.007232814704738868, 0.010604669501010633]\n"
     ]
    },
    {
     "name": "stderr",
     "output_type": "stream",
     "text": [
      "/Users/williamgilpin/miniconda3/envs/nn/lib/python3.8/site-packages/nolds/measures.py:240: RuntimeWarning: signal has very low mean frequency, setting min_tsep = 125\n",
      "  warnings.warn(msg.format(min_tsep), RuntimeWarning)\n",
      "/Users/williamgilpin/miniconda3/envs/nn/lib/python3.8/site-packages/nolds/measures.py:240: RuntimeWarning: signal has very low mean frequency, setting min_tsep = 125\n",
      "  warnings.warn(msg.format(min_tsep), RuntimeWarning)\n",
      "/Users/williamgilpin/miniconda3/envs/nn/lib/python3.8/site-packages/nolds/measures.py:240: RuntimeWarning: signal has very low mean frequency, setting min_tsep = 125\n",
      "  warnings.warn(msg.format(min_tsep), RuntimeWarning)\n"
     ]
    },
    {
     "name": "stdout",
     "output_type": "stream",
     "text": [
      "SanUmSrisuchinwong [0.03551734646080285, 0.0405301072543725, 0.035044010637040914]\n"
     ]
    },
    {
     "name": "stderr",
     "output_type": "stream",
     "text": [
      "/Users/williamgilpin/miniconda3/envs/nn/lib/python3.8/site-packages/nolds/measures.py:240: RuntimeWarning: signal has very low mean frequency, setting min_tsep = 125\n",
      "  warnings.warn(msg.format(min_tsep), RuntimeWarning)\n",
      "/Users/williamgilpin/miniconda3/envs/nn/lib/python3.8/site-packages/nolds/measures.py:240: RuntimeWarning: signal has very low mean frequency, setting min_tsep = 125\n",
      "  warnings.warn(msg.format(min_tsep), RuntimeWarning)\n",
      "/Users/williamgilpin/miniconda3/envs/nn/lib/python3.8/site-packages/nolds/measures.py:268: RuntimeWarning: autocorrelation declined too slowly to find suitable lag, setting lag to 24\n",
      "  warnings.warn(msg.format(lag), RuntimeWarning)\n",
      "/Users/williamgilpin/miniconda3/envs/nn/lib/python3.8/site-packages/nolds/measures.py:240: RuntimeWarning: signal has very low mean frequency, setting min_tsep = 125\n",
      "  warnings.warn(msg.format(min_tsep), RuntimeWarning)\n"
     ]
    },
    {
     "name": "stdout",
     "output_type": "stream",
     "text": [
      "Finance [0.04560046275190069, 0.025614847461660404, 0.04901365071983265]\n"
     ]
    },
    {
     "name": "stderr",
     "output_type": "stream",
     "text": [
      "/Users/williamgilpin/miniconda3/envs/nn/lib/python3.8/site-packages/nolds/measures.py:240: RuntimeWarning: signal has very low mean frequency, setting min_tsep = 125\n",
      "  warnings.warn(msg.format(min_tsep), RuntimeWarning)\n",
      "/Users/williamgilpin/miniconda3/envs/nn/lib/python3.8/site-packages/nolds/measures.py:240: RuntimeWarning: signal has very low mean frequency, setting min_tsep = 125\n",
      "  warnings.warn(msg.format(min_tsep), RuntimeWarning)\n",
      "/Users/williamgilpin/miniconda3/envs/nn/lib/python3.8/site-packages/nolds/measures.py:240: RuntimeWarning: signal has very low mean frequency, setting min_tsep = 125\n",
      "  warnings.warn(msg.format(min_tsep), RuntimeWarning)\n"
     ]
    },
    {
     "name": "stdout",
     "output_type": "stream",
     "text": [
      "Dadras [0.02695718303026305, 0.03961922400876095, 0.07898189816483878]\n"
     ]
    },
    {
     "name": "stderr",
     "output_type": "stream",
     "text": [
      "/Users/williamgilpin/miniconda3/envs/nn/lib/python3.8/site-packages/nolds/measures.py:240: RuntimeWarning: signal has very low mean frequency, setting min_tsep = 125\n",
      "  warnings.warn(msg.format(min_tsep), RuntimeWarning)\n",
      "/Users/williamgilpin/miniconda3/envs/nn/lib/python3.8/site-packages/nolds/measures.py:240: RuntimeWarning: signal has very low mean frequency, setting min_tsep = 125\n",
      "  warnings.warn(msg.format(min_tsep), RuntimeWarning)\n",
      "/Users/williamgilpin/miniconda3/envs/nn/lib/python3.8/site-packages/nolds/measures.py:240: RuntimeWarning: signal has very low mean frequency, setting min_tsep = 125\n",
      "  warnings.warn(msg.format(min_tsep), RuntimeWarning)\n",
      "/Users/williamgilpin/miniconda3/envs/nn/lib/python3.8/site-packages/nolds/measures.py:240: RuntimeWarning: signal has very low mean frequency, setting min_tsep = 125\n",
      "  warnings.warn(msg.format(min_tsep), RuntimeWarning)\n",
      "/Users/williamgilpin/miniconda3/envs/nn/lib/python3.8/site-packages/nolds/measures.py:268: RuntimeWarning: autocorrelation declined too slowly to find suitable lag, setting lag to 24\n",
      "  warnings.warn(msg.format(lag), RuntimeWarning)\n",
      "/Users/williamgilpin/miniconda3/envs/nn/lib/python3.8/site-packages/nolds/measures.py:240: RuntimeWarning: signal has very low mean frequency, setting min_tsep = 125\n",
      "  warnings.warn(msg.format(min_tsep), RuntimeWarning)\n"
     ]
    },
    {
     "name": "stdout",
     "output_type": "stream",
     "text": [
      "RikitakeDynamo [0.016181751547899477, 0.018533311811576882, 0.015358237593021073]\n",
      "RabinovichFabrikant [0.033934795614946014, 0.015035827541933909, 0.014138668827208949]\n"
     ]
    },
    {
     "name": "stderr",
     "output_type": "stream",
     "text": [
      "/Users/williamgilpin/miniconda3/envs/nn/lib/python3.8/site-packages/nolds/measures.py:240: RuntimeWarning: signal has very low mean frequency, setting min_tsep = 125\n",
      "  warnings.warn(msg.format(min_tsep), RuntimeWarning)\n",
      "/Users/williamgilpin/miniconda3/envs/nn/lib/python3.8/site-packages/nolds/measures.py:240: RuntimeWarning: signal has very low mean frequency, setting min_tsep = 125\n",
      "  warnings.warn(msg.format(min_tsep), RuntimeWarning)\n",
      "/Users/williamgilpin/miniconda3/envs/nn/lib/python3.8/site-packages/nolds/measures.py:240: RuntimeWarning: signal has very low mean frequency, setting min_tsep = 125\n",
      "  warnings.warn(msg.format(min_tsep), RuntimeWarning)\n",
      "/Users/williamgilpin/miniconda3/envs/nn/lib/python3.8/site-packages/nolds/measures.py:240: RuntimeWarning: signal has very low mean frequency, setting min_tsep = 125\n",
      "  warnings.warn(msg.format(min_tsep), RuntimeWarning)\n",
      "/Users/williamgilpin/miniconda3/envs/nn/lib/python3.8/site-packages/nolds/measures.py:240: RuntimeWarning: signal has very low mean frequency, setting min_tsep = 125\n",
      "  warnings.warn(msg.format(min_tsep), RuntimeWarning)\n",
      "/Users/williamgilpin/miniconda3/envs/nn/lib/python3.8/site-packages/nolds/measures.py:240: RuntimeWarning: signal has very low mean frequency, setting min_tsep = 125\n",
      "  warnings.warn(msg.format(min_tsep), RuntimeWarning)\n",
      "/Users/williamgilpin/miniconda3/envs/nn/lib/python3.8/site-packages/nolds/measures.py:240: RuntimeWarning: signal has very low mean frequency, setting min_tsep = 125\n",
      "  warnings.warn(msg.format(min_tsep), RuntimeWarning)\n"
     ]
    },
    {
     "name": "stdout",
     "output_type": "stream",
     "text": [
      "AnishchenkoAstakhov [0.008109574210374861, 0.008075084161937689, -0.003771615915990564]\n",
      "GenesioTesi [0.014037217816015825, 0.014027748161688787, 0.018873152607365662]\n"
     ]
    },
    {
     "name": "stderr",
     "output_type": "stream",
     "text": [
      "/Users/williamgilpin/miniconda3/envs/nn/lib/python3.8/site-packages/nolds/measures.py:240: RuntimeWarning: signal has very low mean frequency, setting min_tsep = 125\n",
      "  warnings.warn(msg.format(min_tsep), RuntimeWarning)\n",
      "/Users/williamgilpin/miniconda3/envs/nn/lib/python3.8/site-packages/nolds/measures.py:240: RuntimeWarning: signal has very low mean frequency, setting min_tsep = 125\n",
      "  warnings.warn(msg.format(min_tsep), RuntimeWarning)\n",
      "/Users/williamgilpin/miniconda3/envs/nn/lib/python3.8/site-packages/nolds/measures.py:240: RuntimeWarning: signal has very low mean frequency, setting min_tsep = 125\n",
      "  warnings.warn(msg.format(min_tsep), RuntimeWarning)\n",
      "/Users/williamgilpin/miniconda3/envs/nn/lib/python3.8/site-packages/nolds/measures.py:240: RuntimeWarning: signal has very low mean frequency, setting min_tsep = 125\n",
      "  warnings.warn(msg.format(min_tsep), RuntimeWarning)\n",
      "/Users/williamgilpin/miniconda3/envs/nn/lib/python3.8/site-packages/nolds/measures.py:268: RuntimeWarning: autocorrelation declined too slowly to find suitable lag, setting lag to 24\n",
      "  warnings.warn(msg.format(lag), RuntimeWarning)\n",
      "/Users/williamgilpin/miniconda3/envs/nn/lib/python3.8/site-packages/nolds/measures.py:240: RuntimeWarning: signal has very low mean frequency, setting min_tsep = 125\n",
      "  warnings.warn(msg.format(min_tsep), RuntimeWarning)\n",
      "/Users/williamgilpin/miniconda3/envs/nn/lib/python3.8/site-packages/nolds/measures.py:240: RuntimeWarning: signal has very low mean frequency, setting min_tsep = 125\n",
      "  warnings.warn(msg.format(min_tsep), RuntimeWarning)\n"
     ]
    },
    {
     "name": "stdout",
     "output_type": "stream",
     "text": [
      "ShimizuMorioka [0.022146624998938762, 0.043710313076363486, 0.01019901176125317]\n",
      "SprottTorus [-0.004264978791190677, 0.08377349242231896, 0.011623541279205757]\n"
     ]
    },
    {
     "name": "stderr",
     "output_type": "stream",
     "text": [
      "/Users/williamgilpin/miniconda3/envs/nn/lib/python3.8/site-packages/nolds/measures.py:240: RuntimeWarning: signal has very low mean frequency, setting min_tsep = 125\n",
      "  warnings.warn(msg.format(min_tsep), RuntimeWarning)\n",
      "/Users/williamgilpin/miniconda3/envs/nn/lib/python3.8/site-packages/nolds/measures.py:240: RuntimeWarning: signal has very low mean frequency, setting min_tsep = 125\n",
      "  warnings.warn(msg.format(min_tsep), RuntimeWarning)\n",
      "/Users/williamgilpin/miniconda3/envs/nn/lib/python3.8/site-packages/nolds/measures.py:240: RuntimeWarning: signal has very low mean frequency, setting min_tsep = 125\n",
      "  warnings.warn(msg.format(min_tsep), RuntimeWarning)\n",
      "/Users/williamgilpin/miniconda3/envs/nn/lib/python3.8/site-packages/nolds/measures.py:240: RuntimeWarning: signal has very low mean frequency, setting min_tsep = 125\n",
      "  warnings.warn(msg.format(min_tsep), RuntimeWarning)\n"
     ]
    },
    {
     "name": "stdout",
     "output_type": "stream",
     "text": [
      "SprottJerk [0.01184305328844269, 0.020407480897760042, 0.02724492854641792]\n",
      "SprottB [0.04838616509634748, 0.03832868523615643, 0.03633181446028831]\n"
     ]
    },
    {
     "name": "stderr",
     "output_type": "stream",
     "text": [
      "/Users/williamgilpin/miniconda3/envs/nn/lib/python3.8/site-packages/nolds/measures.py:240: RuntimeWarning: signal has very low mean frequency, setting min_tsep = 125\n",
      "  warnings.warn(msg.format(min_tsep), RuntimeWarning)\n",
      "/Users/williamgilpin/miniconda3/envs/nn/lib/python3.8/site-packages/nolds/measures.py:240: RuntimeWarning: signal has very low mean frequency, setting min_tsep = 125\n",
      "  warnings.warn(msg.format(min_tsep), RuntimeWarning)\n",
      "/Users/williamgilpin/miniconda3/envs/nn/lib/python3.8/site-packages/nolds/measures.py:240: RuntimeWarning: signal has very low mean frequency, setting min_tsep = 125\n",
      "  warnings.warn(msg.format(min_tsep), RuntimeWarning)\n",
      "/Users/williamgilpin/miniconda3/envs/nn/lib/python3.8/site-packages/nolds/measures.py:240: RuntimeWarning: signal has very low mean frequency, setting min_tsep = 125\n",
      "  warnings.warn(msg.format(min_tsep), RuntimeWarning)\n",
      "/Users/williamgilpin/miniconda3/envs/nn/lib/python3.8/site-packages/nolds/measures.py:240: RuntimeWarning: signal has very low mean frequency, setting min_tsep = 125\n",
      "  warnings.warn(msg.format(min_tsep), RuntimeWarning)\n",
      "/Users/williamgilpin/miniconda3/envs/nn/lib/python3.8/site-packages/nolds/measures.py:240: RuntimeWarning: signal has very low mean frequency, setting min_tsep = 125\n",
      "  warnings.warn(msg.format(min_tsep), RuntimeWarning)\n",
      "/Users/williamgilpin/miniconda3/envs/nn/lib/python3.8/site-packages/nolds/measures.py:240: RuntimeWarning: signal has very low mean frequency, setting min_tsep = 125\n",
      "  warnings.warn(msg.format(min_tsep), RuntimeWarning)\n",
      "/Users/williamgilpin/miniconda3/envs/nn/lib/python3.8/site-packages/nolds/measures.py:240: RuntimeWarning: signal has very low mean frequency, setting min_tsep = 125\n",
      "  warnings.warn(msg.format(min_tsep), RuntimeWarning)\n"
     ]
    },
    {
     "name": "stdout",
     "output_type": "stream",
     "text": [
      "SprottC [0.032967338042466765, 0.015529020131946021, 0.0428221380128]\n",
      "SprottD [0.008292299744592604, 0.016218629344961696, -0.014972081551185092]\n"
     ]
    },
    {
     "name": "stderr",
     "output_type": "stream",
     "text": [
      "/Users/williamgilpin/miniconda3/envs/nn/lib/python3.8/site-packages/nolds/measures.py:240: RuntimeWarning: signal has very low mean frequency, setting min_tsep = 125\n",
      "  warnings.warn(msg.format(min_tsep), RuntimeWarning)\n",
      "/Users/williamgilpin/miniconda3/envs/nn/lib/python3.8/site-packages/nolds/measures.py:240: RuntimeWarning: signal has very low mean frequency, setting min_tsep = 125\n",
      "  warnings.warn(msg.format(min_tsep), RuntimeWarning)\n",
      "/Users/williamgilpin/miniconda3/envs/nn/lib/python3.8/site-packages/nolds/measures.py:240: RuntimeWarning: signal has very low mean frequency, setting min_tsep = 125\n",
      "  warnings.warn(msg.format(min_tsep), RuntimeWarning)\n"
     ]
    },
    {
     "name": "stdout",
     "output_type": "stream",
     "text": [
      "SprottE [0.047374623879454195, 0.03057619366878853, 0.032245610105363955]\n"
     ]
    },
    {
     "name": "stderr",
     "output_type": "stream",
     "text": [
      "/Users/williamgilpin/miniconda3/envs/nn/lib/python3.8/site-packages/nolds/measures.py:240: RuntimeWarning: signal has very low mean frequency, setting min_tsep = 125\n",
      "  warnings.warn(msg.format(min_tsep), RuntimeWarning)\n",
      "/Users/williamgilpin/miniconda3/envs/nn/lib/python3.8/site-packages/nolds/measures.py:240: RuntimeWarning: signal has very low mean frequency, setting min_tsep = 125\n",
      "  warnings.warn(msg.format(min_tsep), RuntimeWarning)\n",
      "/Users/williamgilpin/miniconda3/envs/nn/lib/python3.8/site-packages/nolds/measures.py:240: RuntimeWarning: signal has very low mean frequency, setting min_tsep = 125\n",
      "  warnings.warn(msg.format(min_tsep), RuntimeWarning)\n"
     ]
    },
    {
     "name": "stdout",
     "output_type": "stream",
     "text": [
      "SprottF [0.053566497722570605, 0.043658044583451246, 0.01754736518367009]\n"
     ]
    },
    {
     "name": "stderr",
     "output_type": "stream",
     "text": [
      "/Users/williamgilpin/miniconda3/envs/nn/lib/python3.8/site-packages/nolds/measures.py:240: RuntimeWarning: signal has very low mean frequency, setting min_tsep = 125\n",
      "  warnings.warn(msg.format(min_tsep), RuntimeWarning)\n",
      "/Users/williamgilpin/miniconda3/envs/nn/lib/python3.8/site-packages/nolds/measures.py:240: RuntimeWarning: signal has very low mean frequency, setting min_tsep = 125\n",
      "  warnings.warn(msg.format(min_tsep), RuntimeWarning)\n",
      "/Users/williamgilpin/miniconda3/envs/nn/lib/python3.8/site-packages/nolds/measures.py:240: RuntimeWarning: signal has very low mean frequency, setting min_tsep = 125\n",
      "  warnings.warn(msg.format(min_tsep), RuntimeWarning)\n"
     ]
    },
    {
     "name": "stdout",
     "output_type": "stream",
     "text": [
      "SprottG [0.013190625574355682, 0.012870138569882027, 0.015051926795701318]\n"
     ]
    },
    {
     "name": "stderr",
     "output_type": "stream",
     "text": [
      "/Users/williamgilpin/miniconda3/envs/nn/lib/python3.8/site-packages/nolds/measures.py:240: RuntimeWarning: signal has very low mean frequency, setting min_tsep = 125\n",
      "  warnings.warn(msg.format(min_tsep), RuntimeWarning)\n",
      "/Users/williamgilpin/miniconda3/envs/nn/lib/python3.8/site-packages/nolds/measures.py:240: RuntimeWarning: signal has very low mean frequency, setting min_tsep = 125\n",
      "  warnings.warn(msg.format(min_tsep), RuntimeWarning)\n",
      "/Users/williamgilpin/miniconda3/envs/nn/lib/python3.8/site-packages/nolds/measures.py:240: RuntimeWarning: signal has very low mean frequency, setting min_tsep = 125\n",
      "  warnings.warn(msg.format(min_tsep), RuntimeWarning)\n",
      "/Users/williamgilpin/miniconda3/envs/nn/lib/python3.8/site-packages/nolds/measures.py:240: RuntimeWarning: signal has very low mean frequency, setting min_tsep = 125\n",
      "  warnings.warn(msg.format(min_tsep), RuntimeWarning)\n",
      "/Users/williamgilpin/miniconda3/envs/nn/lib/python3.8/site-packages/nolds/measures.py:240: RuntimeWarning: signal has very low mean frequency, setting min_tsep = 125\n",
      "  warnings.warn(msg.format(min_tsep), RuntimeWarning)\n",
      "/Users/williamgilpin/miniconda3/envs/nn/lib/python3.8/site-packages/nolds/measures.py:240: RuntimeWarning: signal has very low mean frequency, setting min_tsep = 125\n",
      "  warnings.warn(msg.format(min_tsep), RuntimeWarning)\n"
     ]
    },
    {
     "name": "stdout",
     "output_type": "stream",
     "text": [
      "SprottH [0.05431403757976296, 0.042526172195330156, 0.05176570637753805]\n",
      "SprottI [-0.004637386745080065, -0.0036489015235040617, -0.003680469039687514]\n"
     ]
    },
    {
     "name": "stderr",
     "output_type": "stream",
     "text": [
      "/Users/williamgilpin/miniconda3/envs/nn/lib/python3.8/site-packages/nolds/measures.py:240: RuntimeWarning: signal has very low mean frequency, setting min_tsep = 125\n",
      "  warnings.warn(msg.format(min_tsep), RuntimeWarning)\n",
      "/Users/williamgilpin/miniconda3/envs/nn/lib/python3.8/site-packages/nolds/measures.py:240: RuntimeWarning: signal has very low mean frequency, setting min_tsep = 125\n",
      "  warnings.warn(msg.format(min_tsep), RuntimeWarning)\n",
      "/Users/williamgilpin/miniconda3/envs/nn/lib/python3.8/site-packages/nolds/measures.py:240: RuntimeWarning: signal has very low mean frequency, setting min_tsep = 125\n",
      "  warnings.warn(msg.format(min_tsep), RuntimeWarning)\n",
      "/Users/williamgilpin/miniconda3/envs/nn/lib/python3.8/site-packages/nolds/measures.py:240: RuntimeWarning: signal has very low mean frequency, setting min_tsep = 125\n",
      "  warnings.warn(msg.format(min_tsep), RuntimeWarning)\n",
      "/Users/williamgilpin/miniconda3/envs/nn/lib/python3.8/site-packages/nolds/measures.py:240: RuntimeWarning: signal has very low mean frequency, setting min_tsep = 125\n",
      "  warnings.warn(msg.format(min_tsep), RuntimeWarning)\n",
      "/Users/williamgilpin/miniconda3/envs/nn/lib/python3.8/site-packages/nolds/measures.py:240: RuntimeWarning: signal has very low mean frequency, setting min_tsep = 125\n",
      "  warnings.warn(msg.format(min_tsep), RuntimeWarning)\n"
     ]
    },
    {
     "name": "stdout",
     "output_type": "stream",
     "text": [
      "SprottJ [0.006042515200779854, 0.0069227685605672985, 0.006776705401060277]\n",
      "SprottK [0.003974298337348419, 0.0001612737938598006, 0.0016009865846848845]\n"
     ]
    },
    {
     "name": "stderr",
     "output_type": "stream",
     "text": [
      "/Users/williamgilpin/miniconda3/envs/nn/lib/python3.8/site-packages/nolds/measures.py:240: RuntimeWarning: signal has very low mean frequency, setting min_tsep = 125\n",
      "  warnings.warn(msg.format(min_tsep), RuntimeWarning)\n",
      "/Users/williamgilpin/miniconda3/envs/nn/lib/python3.8/site-packages/nolds/measures.py:240: RuntimeWarning: signal has very low mean frequency, setting min_tsep = 125\n",
      "  warnings.warn(msg.format(min_tsep), RuntimeWarning)\n",
      "/Users/williamgilpin/miniconda3/envs/nn/lib/python3.8/site-packages/nolds/measures.py:268: RuntimeWarning: autocorrelation declined too slowly to find suitable lag, setting lag to 24\n",
      "  warnings.warn(msg.format(lag), RuntimeWarning)\n",
      "/Users/williamgilpin/miniconda3/envs/nn/lib/python3.8/site-packages/nolds/measures.py:240: RuntimeWarning: signal has very low mean frequency, setting min_tsep = 125\n",
      "  warnings.warn(msg.format(min_tsep), RuntimeWarning)\n",
      "/Users/williamgilpin/miniconda3/envs/nn/lib/python3.8/site-packages/nolds/measures.py:240: RuntimeWarning: signal has very low mean frequency, setting min_tsep = 125\n",
      "  warnings.warn(msg.format(min_tsep), RuntimeWarning)\n",
      "/Users/williamgilpin/miniconda3/envs/nn/lib/python3.8/site-packages/nolds/measures.py:240: RuntimeWarning: signal has very low mean frequency, setting min_tsep = 125\n",
      "  warnings.warn(msg.format(min_tsep), RuntimeWarning)\n"
     ]
    },
    {
     "name": "stdout",
     "output_type": "stream",
     "text": [
      "SprottL [0.02074106738979655, -0.006525379829891383, 0.0067924285069444115]\n",
      "SprottM [0.02230833107815648, -0.016729141341555728, 0.02524897729543814]\n"
     ]
    },
    {
     "name": "stderr",
     "output_type": "stream",
     "text": [
      "/Users/williamgilpin/miniconda3/envs/nn/lib/python3.8/site-packages/nolds/measures.py:240: RuntimeWarning: signal has very low mean frequency, setting min_tsep = 125\n",
      "  warnings.warn(msg.format(min_tsep), RuntimeWarning)\n",
      "/Users/williamgilpin/miniconda3/envs/nn/lib/python3.8/site-packages/nolds/measures.py:240: RuntimeWarning: signal has very low mean frequency, setting min_tsep = 125\n",
      "  warnings.warn(msg.format(min_tsep), RuntimeWarning)\n",
      "/Users/williamgilpin/miniconda3/envs/nn/lib/python3.8/site-packages/nolds/measures.py:240: RuntimeWarning: signal has very low mean frequency, setting min_tsep = 125\n",
      "  warnings.warn(msg.format(min_tsep), RuntimeWarning)\n",
      "/Users/williamgilpin/miniconda3/envs/nn/lib/python3.8/site-packages/nolds/measures.py:240: RuntimeWarning: signal has very low mean frequency, setting min_tsep = 125\n",
      "  warnings.warn(msg.format(min_tsep), RuntimeWarning)\n",
      "/Users/williamgilpin/miniconda3/envs/nn/lib/python3.8/site-packages/nolds/measures.py:240: RuntimeWarning: signal has very low mean frequency, setting min_tsep = 125\n",
      "  warnings.warn(msg.format(min_tsep), RuntimeWarning)\n"
     ]
    },
    {
     "name": "stdout",
     "output_type": "stream",
     "text": [
      "SprottN [-0.0001862156936235896, -0.0006830905164991436, -0.0007785953973469093]\n"
     ]
    },
    {
     "name": "stderr",
     "output_type": "stream",
     "text": [
      "/Users/williamgilpin/miniconda3/envs/nn/lib/python3.8/site-packages/nolds/measures.py:240: RuntimeWarning: signal has very low mean frequency, setting min_tsep = 125\n",
      "  warnings.warn(msg.format(min_tsep), RuntimeWarning)\n",
      "/Users/williamgilpin/miniconda3/envs/nn/lib/python3.8/site-packages/nolds/measures.py:240: RuntimeWarning: signal has very low mean frequency, setting min_tsep = 125\n",
      "  warnings.warn(msg.format(min_tsep), RuntimeWarning)\n",
      "/Users/williamgilpin/miniconda3/envs/nn/lib/python3.8/site-packages/nolds/measures.py:240: RuntimeWarning: signal has very low mean frequency, setting min_tsep = 125\n",
      "  warnings.warn(msg.format(min_tsep), RuntimeWarning)\n",
      "/Users/williamgilpin/miniconda3/envs/nn/lib/python3.8/site-packages/nolds/measures.py:240: RuntimeWarning: signal has very low mean frequency, setting min_tsep = 125\n",
      "  warnings.warn(msg.format(min_tsep), RuntimeWarning)\n",
      "/Users/williamgilpin/miniconda3/envs/nn/lib/python3.8/site-packages/nolds/measures.py:240: RuntimeWarning: signal has very low mean frequency, setting min_tsep = 125\n",
      "  warnings.warn(msg.format(min_tsep), RuntimeWarning)\n"
     ]
    },
    {
     "name": "stdout",
     "output_type": "stream",
     "text": [
      "SprottO [0.010389567897784776, 0.005688218484845161, 0.006558401961075633]\n",
      "SprottP [0.019284966162272855, 0.019975133049756937, 0.014474857704980025]\n"
     ]
    },
    {
     "name": "stderr",
     "output_type": "stream",
     "text": [
      "/Users/williamgilpin/miniconda3/envs/nn/lib/python3.8/site-packages/nolds/measures.py:240: RuntimeWarning: signal has very low mean frequency, setting min_tsep = 125\n",
      "  warnings.warn(msg.format(min_tsep), RuntimeWarning)\n",
      "/Users/williamgilpin/miniconda3/envs/nn/lib/python3.8/site-packages/nolds/measures.py:240: RuntimeWarning: signal has very low mean frequency, setting min_tsep = 125\n",
      "  warnings.warn(msg.format(min_tsep), RuntimeWarning)\n",
      "/Users/williamgilpin/miniconda3/envs/nn/lib/python3.8/site-packages/nolds/measures.py:240: RuntimeWarning: signal has very low mean frequency, setting min_tsep = 125\n",
      "  warnings.warn(msg.format(min_tsep), RuntimeWarning)\n"
     ]
    },
    {
     "name": "stdout",
     "output_type": "stream",
     "text": [
      "SprottQ [0.017955195253953, 0.01653394452051112, 0.013334181501453076]\n"
     ]
    },
    {
     "name": "stderr",
     "output_type": "stream",
     "text": [
      "/Users/williamgilpin/miniconda3/envs/nn/lib/python3.8/site-packages/nolds/measures.py:240: RuntimeWarning: signal has very low mean frequency, setting min_tsep = 125\n",
      "  warnings.warn(msg.format(min_tsep), RuntimeWarning)\n",
      "/Users/williamgilpin/miniconda3/envs/nn/lib/python3.8/site-packages/nolds/measures.py:240: RuntimeWarning: signal has very low mean frequency, setting min_tsep = 125\n",
      "  warnings.warn(msg.format(min_tsep), RuntimeWarning)\n",
      "/Users/williamgilpin/miniconda3/envs/nn/lib/python3.8/site-packages/nolds/measures.py:240: RuntimeWarning: signal has very low mean frequency, setting min_tsep = 125\n",
      "  warnings.warn(msg.format(min_tsep), RuntimeWarning)\n",
      "/Users/williamgilpin/miniconda3/envs/nn/lib/python3.8/site-packages/nolds/measures.py:240: RuntimeWarning: signal has very low mean frequency, setting min_tsep = 125\n",
      "  warnings.warn(msg.format(min_tsep), RuntimeWarning)\n",
      "/Users/williamgilpin/miniconda3/envs/nn/lib/python3.8/site-packages/nolds/measures.py:240: RuntimeWarning: signal has very low mean frequency, setting min_tsep = 125\n",
      "  warnings.warn(msg.format(min_tsep), RuntimeWarning)\n",
      "/Users/williamgilpin/miniconda3/envs/nn/lib/python3.8/site-packages/nolds/measures.py:240: RuntimeWarning: signal has very low mean frequency, setting min_tsep = 125\n",
      "  warnings.warn(msg.format(min_tsep), RuntimeWarning)\n"
     ]
    },
    {
     "name": "stdout",
     "output_type": "stream",
     "text": [
      "SprottR [0.0016381119303904952, 0.0038835214941125113, 0.007164748853310594]\n",
      "SprottS [0.018065382596245377, 0.021382912612499146, 0.01897860722882407]\n"
     ]
    },
    {
     "name": "stderr",
     "output_type": "stream",
     "text": [
      "/Users/williamgilpin/miniconda3/envs/nn/lib/python3.8/site-packages/nolds/measures.py:240: RuntimeWarning: signal has very low mean frequency, setting min_tsep = 125\n",
      "  warnings.warn(msg.format(min_tsep), RuntimeWarning)\n",
      "/Users/williamgilpin/miniconda3/envs/nn/lib/python3.8/site-packages/nolds/measures.py:240: RuntimeWarning: signal has very low mean frequency, setting min_tsep = 125\n",
      "  warnings.warn(msg.format(min_tsep), RuntimeWarning)\n",
      "/Users/williamgilpin/miniconda3/envs/nn/lib/python3.8/site-packages/nolds/measures.py:240: RuntimeWarning: signal has very low mean frequency, setting min_tsep = 125\n",
      "  warnings.warn(msg.format(min_tsep), RuntimeWarning)\n"
     ]
    },
    {
     "name": "stdout",
     "output_type": "stream",
     "text": [
      "Hadley [0.008952037284248749, 0.02266818159504941, 0.019326473044273547]\n"
     ]
    },
    {
     "name": "stderr",
     "output_type": "stream",
     "text": [
      "/Users/williamgilpin/miniconda3/envs/nn/lib/python3.8/site-packages/nolds/measures.py:240: RuntimeWarning: signal has very low mean frequency, setting min_tsep = 125\n",
      "  warnings.warn(msg.format(min_tsep), RuntimeWarning)\n",
      "/Users/williamgilpin/miniconda3/envs/nn/lib/python3.8/site-packages/nolds/measures.py:240: RuntimeWarning: signal has very low mean frequency, setting min_tsep = 125\n",
      "  warnings.warn(msg.format(min_tsep), RuntimeWarning)\n",
      "/Users/williamgilpin/miniconda3/envs/nn/lib/python3.8/site-packages/nolds/measures.py:240: RuntimeWarning: signal has very low mean frequency, setting min_tsep = 125\n",
      "  warnings.warn(msg.format(min_tsep), RuntimeWarning)\n",
      "/Users/williamgilpin/miniconda3/envs/nn/lib/python3.8/site-packages/nolds/measures.py:268: RuntimeWarning: autocorrelation declined too slowly to find suitable lag, setting lag to 24\n",
      "  warnings.warn(msg.format(lag), RuntimeWarning)\n"
     ]
    },
    {
     "name": "stdout",
     "output_type": "stream",
     "text": [
      "RayleighBenard [0.027681120176960658, 0.026928035477946564, -0.012613947549114412]\n"
     ]
    },
    {
     "name": "stderr",
     "output_type": "stream",
     "text": [
      "/Users/williamgilpin/miniconda3/envs/nn/lib/python3.8/site-packages/nolds/measures.py:240: RuntimeWarning: signal has very low mean frequency, setting min_tsep = 125\n",
      "  warnings.warn(msg.format(min_tsep), RuntimeWarning)\n",
      "/Users/williamgilpin/miniconda3/envs/nn/lib/python3.8/site-packages/nolds/measures.py:240: RuntimeWarning: signal has very low mean frequency, setting min_tsep = 125\n",
      "  warnings.warn(msg.format(min_tsep), RuntimeWarning)\n",
      "/Users/williamgilpin/miniconda3/envs/nn/lib/python3.8/site-packages/nolds/measures.py:240: RuntimeWarning: signal has very low mean frequency, setting min_tsep = 125\n",
      "  warnings.warn(msg.format(min_tsep), RuntimeWarning)\n"
     ]
    },
    {
     "name": "stdout",
     "output_type": "stream",
     "text": [
      "NoseHoover [0.01333906899269362, 0.031859143380831956, 0.021287608818900315]\n"
     ]
    },
    {
     "name": "stderr",
     "output_type": "stream",
     "text": [
      "/Users/williamgilpin/miniconda3/envs/nn/lib/python3.8/site-packages/nolds/measures.py:240: RuntimeWarning: signal has very low mean frequency, setting min_tsep = 125\n",
      "  warnings.warn(msg.format(min_tsep), RuntimeWarning)\n",
      "/Users/williamgilpin/miniconda3/envs/nn/lib/python3.8/site-packages/nolds/measures.py:240: RuntimeWarning: signal has very low mean frequency, setting min_tsep = 125\n",
      "  warnings.warn(msg.format(min_tsep), RuntimeWarning)\n",
      "/Users/williamgilpin/miniconda3/envs/nn/lib/python3.8/site-packages/nolds/measures.py:268: RuntimeWarning: autocorrelation declined too slowly to find suitable lag, setting lag to 24\n",
      "  warnings.warn(msg.format(lag), RuntimeWarning)\n",
      "/Users/williamgilpin/miniconda3/envs/nn/lib/python3.8/site-packages/nolds/measures.py:240: RuntimeWarning: signal has very low mean frequency, setting min_tsep = 125\n",
      "  warnings.warn(msg.format(min_tsep), RuntimeWarning)\n",
      "/Users/williamgilpin/miniconda3/envs/nn/lib/python3.8/site-packages/nolds/measures.py:268: RuntimeWarning: autocorrelation declined too slowly to find suitable lag, setting lag to 24\n",
      "  warnings.warn(msg.format(lag), RuntimeWarning)\n"
     ]
    },
    {
     "name": "stdout",
     "output_type": "stream",
     "text": [
      "KawczynskiStrizhak [0.007876385920361096, -0.012629249593713813, -0.004960908869079967]\n"
     ]
    },
    {
     "name": "stderr",
     "output_type": "stream",
     "text": [
      "/Users/williamgilpin/miniconda3/envs/nn/lib/python3.8/site-packages/nolds/measures.py:240: RuntimeWarning: signal has very low mean frequency, setting min_tsep = 125\n",
      "  warnings.warn(msg.format(min_tsep), RuntimeWarning)\n",
      "/Users/williamgilpin/miniconda3/envs/nn/lib/python3.8/site-packages/nolds/measures.py:240: RuntimeWarning: signal has very low mean frequency, setting min_tsep = 125\n",
      "  warnings.warn(msg.format(min_tsep), RuntimeWarning)\n",
      "/Users/williamgilpin/miniconda3/envs/nn/lib/python3.8/site-packages/nolds/measures.py:240: RuntimeWarning: signal has very low mean frequency, setting min_tsep = 125\n",
      "  warnings.warn(msg.format(min_tsep), RuntimeWarning)\n"
     ]
    },
    {
     "name": "stdout",
     "output_type": "stream",
     "text": [
      "VallisElNino [0.029196411147153482, 0.03330381884610745, 0.023509408656815813]\n"
     ]
    },
    {
     "name": "stderr",
     "output_type": "stream",
     "text": [
      "/Users/williamgilpin/miniconda3/envs/nn/lib/python3.8/site-packages/nolds/measures.py:240: RuntimeWarning: signal has very low mean frequency, setting min_tsep = 125\n",
      "  warnings.warn(msg.format(min_tsep), RuntimeWarning)\n",
      "/Users/williamgilpin/miniconda3/envs/nn/lib/python3.8/site-packages/nolds/measures.py:268: RuntimeWarning: autocorrelation declined too slowly to find suitable lag, setting lag to 24\n",
      "  warnings.warn(msg.format(lag), RuntimeWarning)\n",
      "/Users/williamgilpin/miniconda3/envs/nn/lib/python3.8/site-packages/nolds/measures.py:240: RuntimeWarning: signal has very low mean frequency, setting min_tsep = 125\n",
      "  warnings.warn(msg.format(min_tsep), RuntimeWarning)\n",
      "/Users/williamgilpin/miniconda3/envs/nn/lib/python3.8/site-packages/nolds/measures.py:268: RuntimeWarning: autocorrelation declined too slowly to find suitable lag, setting lag to 24\n",
      "  warnings.warn(msg.format(lag), RuntimeWarning)\n",
      "/Users/williamgilpin/miniconda3/envs/nn/lib/python3.8/site-packages/nolds/measures.py:240: RuntimeWarning: signal has very low mean frequency, setting min_tsep = 125\n",
      "  warnings.warn(msg.format(min_tsep), RuntimeWarning)\n",
      "/Users/williamgilpin/miniconda3/envs/nn/lib/python3.8/site-packages/nolds/measures.py:240: RuntimeWarning: signal has very low mean frequency, setting min_tsep = 125\n",
      "  warnings.warn(msg.format(min_tsep), RuntimeWarning)\n"
     ]
    },
    {
     "name": "stdout",
     "output_type": "stream",
     "text": [
      "DoublePendulum [0.015603151391534164, 0.005160113384848954, 0.023827179691247737, 0.047837070056370314]\n"
     ]
    },
    {
     "name": "stderr",
     "output_type": "stream",
     "text": [
      "/Users/williamgilpin/miniconda3/envs/nn/lib/python3.8/site-packages/nolds/measures.py:240: RuntimeWarning: signal has very low mean frequency, setting min_tsep = 125\n",
      "  warnings.warn(msg.format(min_tsep), RuntimeWarning)\n",
      "/Users/williamgilpin/miniconda3/envs/nn/lib/python3.8/site-packages/nolds/measures.py:268: RuntimeWarning: autocorrelation declined too slowly to find suitable lag, setting lag to 24\n",
      "  warnings.warn(msg.format(lag), RuntimeWarning)\n",
      "/Users/williamgilpin/miniconda3/envs/nn/lib/python3.8/site-packages/nolds/measures.py:240: RuntimeWarning: signal has very low mean frequency, setting min_tsep = 125\n",
      "  warnings.warn(msg.format(min_tsep), RuntimeWarning)\n",
      "/Users/williamgilpin/miniconda3/envs/nn/lib/python3.8/site-packages/nolds/measures.py:240: RuntimeWarning: signal has very low mean frequency, setting min_tsep = 125\n",
      "  warnings.warn(msg.format(min_tsep), RuntimeWarning)\n",
      "/Users/williamgilpin/miniconda3/envs/nn/lib/python3.8/site-packages/nolds/measures.py:240: RuntimeWarning: signal has very low mean frequency, setting min_tsep = 125\n",
      "  warnings.warn(msg.format(min_tsep), RuntimeWarning)\n",
      "/Users/williamgilpin/miniconda3/envs/nn/lib/python3.8/site-packages/nolds/measures.py:240: RuntimeWarning: signal has very low mean frequency, setting min_tsep = 125\n",
      "  warnings.warn(msg.format(min_tsep), RuntimeWarning)\n"
     ]
    },
    {
     "name": "stdout",
     "output_type": "stream",
     "text": [
      "SwingingAtwood [-0.0065736998529995015, 0.009429494330757524, 0.009935469466044464, 0.005398851946780507]\n"
     ]
    },
    {
     "name": "stderr",
     "output_type": "stream",
     "text": [
      "/Users/williamgilpin/miniconda3/envs/nn/lib/python3.8/site-packages/nolds/measures.py:240: RuntimeWarning: signal has very low mean frequency, setting min_tsep = 125\n",
      "  warnings.warn(msg.format(min_tsep), RuntimeWarning)\n",
      "/Users/williamgilpin/miniconda3/envs/nn/lib/python3.8/site-packages/nolds/measures.py:240: RuntimeWarning: signal has very low mean frequency, setting min_tsep = 125\n",
      "  warnings.warn(msg.format(min_tsep), RuntimeWarning)\n",
      "/Users/williamgilpin/miniconda3/envs/nn/lib/python3.8/site-packages/nolds/measures.py:268: RuntimeWarning: autocorrelation declined too slowly to find suitable lag, setting lag to 24\n",
      "  warnings.warn(msg.format(lag), RuntimeWarning)\n",
      "/Users/williamgilpin/miniconda3/envs/nn/lib/python3.8/site-packages/nolds/measures.py:45: RuntimeWarning: RANSAC did not reach consensus, using numpy's polyfit\n",
      "  warnings.warn(\n"
     ]
    },
    {
     "name": "stdout",
     "output_type": "stream",
     "text": [
      "FluidTrampoline [0.011245839398606378, 0.018124333897927662, -5.886394792775286e-17]\n"
     ]
    },
    {
     "name": "stderr",
     "output_type": "stream",
     "text": [
      "/Users/williamgilpin/miniconda3/envs/nn/lib/python3.8/site-packages/nolds/measures.py:240: RuntimeWarning: signal has very low mean frequency, setting min_tsep = 125\n",
      "  warnings.warn(msg.format(min_tsep), RuntimeWarning)\n",
      "/Users/williamgilpin/miniconda3/envs/nn/lib/python3.8/site-packages/nolds/measures.py:240: RuntimeWarning: signal has very low mean frequency, setting min_tsep = 125\n",
      "  warnings.warn(msg.format(min_tsep), RuntimeWarning)\n",
      "/Users/williamgilpin/miniconda3/envs/nn/lib/python3.8/site-packages/nolds/measures.py:240: RuntimeWarning: signal has very low mean frequency, setting min_tsep = 125\n",
      "  warnings.warn(msg.format(min_tsep), RuntimeWarning)\n",
      "/Users/williamgilpin/miniconda3/envs/nn/lib/python3.8/site-packages/nolds/measures.py:268: RuntimeWarning: autocorrelation declined too slowly to find suitable lag, setting lag to 24\n",
      "  warnings.warn(msg.format(lag), RuntimeWarning)\n",
      "/Users/williamgilpin/miniconda3/envs/nn/lib/python3.8/site-packages/nolds/measures.py:45: RuntimeWarning: RANSAC did not reach consensus, using numpy's polyfit\n",
      "  warnings.warn(\n"
     ]
    },
    {
     "name": "stdout",
     "output_type": "stream",
     "text": [
      "DoubleGyre [0.005326570164073603, 0.0007643316095886008, -1.3578886217607056e-16]\n"
     ]
    },
    {
     "name": "stderr",
     "output_type": "stream",
     "text": [
      "/Users/williamgilpin/miniconda3/envs/nn/lib/python3.8/site-packages/nolds/measures.py:240: RuntimeWarning: signal has very low mean frequency, setting min_tsep = 125\n",
      "  warnings.warn(msg.format(min_tsep), RuntimeWarning)\n",
      "/Users/williamgilpin/miniconda3/envs/nn/lib/python3.8/site-packages/nolds/measures.py:268: RuntimeWarning: autocorrelation declined too slowly to find suitable lag, setting lag to 24\n",
      "  warnings.warn(msg.format(lag), RuntimeWarning)\n",
      "/Users/williamgilpin/miniconda3/envs/nn/lib/python3.8/site-packages/nolds/measures.py:240: RuntimeWarning: signal has very low mean frequency, setting min_tsep = 125\n",
      "  warnings.warn(msg.format(min_tsep), RuntimeWarning)\n",
      "/Users/williamgilpin/miniconda3/envs/nn/lib/python3.8/site-packages/nolds/measures.py:268: RuntimeWarning: autocorrelation declined too slowly to find suitable lag, setting lag to 24\n",
      "  warnings.warn(msg.format(lag), RuntimeWarning)\n"
     ]
    },
    {
     "name": "stdout",
     "output_type": "stream",
     "text": [
      "BlinkingRotlet [0.00767371460396539, 0.01728966863531805]\n"
     ]
    },
    {
     "name": "stderr",
     "output_type": "stream",
     "text": [
      "/Users/williamgilpin/miniconda3/envs/nn/lib/python3.8/site-packages/nolds/measures.py:240: RuntimeWarning: signal has very low mean frequency, setting min_tsep = 125\n",
      "  warnings.warn(msg.format(min_tsep), RuntimeWarning)\n",
      "/Users/williamgilpin/miniconda3/envs/nn/lib/python3.8/site-packages/nolds/measures.py:268: RuntimeWarning: autocorrelation declined too slowly to find suitable lag, setting lag to 24\n",
      "  warnings.warn(msg.format(lag), RuntimeWarning)\n",
      "/Users/williamgilpin/miniconda3/envs/nn/lib/python3.8/site-packages/nolds/measures.py:240: RuntimeWarning: signal has very low mean frequency, setting min_tsep = 125\n",
      "  warnings.warn(msg.format(min_tsep), RuntimeWarning)\n",
      "/Users/williamgilpin/miniconda3/envs/nn/lib/python3.8/site-packages/nolds/measures.py:268: RuntimeWarning: autocorrelation declined too slowly to find suitable lag, setting lag to 24\n",
      "  warnings.warn(msg.format(lag), RuntimeWarning)\n"
     ]
    },
    {
     "name": "stdout",
     "output_type": "stream",
     "text": [
      "BlinkingVortex [0.012440174599380613, 0.003042511473920998]\n"
     ]
    },
    {
     "name": "stderr",
     "output_type": "stream",
     "text": [
      "/Users/williamgilpin/miniconda3/envs/nn/lib/python3.8/site-packages/nolds/measures.py:240: RuntimeWarning: signal has very low mean frequency, setting min_tsep = 125\n",
      "  warnings.warn(msg.format(min_tsep), RuntimeWarning)\n",
      "/Users/williamgilpin/miniconda3/envs/nn/lib/python3.8/site-packages/nolds/measures.py:268: RuntimeWarning: autocorrelation declined too slowly to find suitable lag, setting lag to 24\n",
      "  warnings.warn(msg.format(lag), RuntimeWarning)\n",
      "/Users/williamgilpin/miniconda3/envs/nn/lib/python3.8/site-packages/nolds/measures.py:240: RuntimeWarning: signal has very low mean frequency, setting min_tsep = 125\n",
      "  warnings.warn(msg.format(min_tsep), RuntimeWarning)\n",
      "/Users/williamgilpin/miniconda3/envs/nn/lib/python3.8/site-packages/nolds/measures.py:240: RuntimeWarning: signal has very low mean frequency, setting min_tsep = 125\n",
      "  warnings.warn(msg.format(min_tsep), RuntimeWarning)\n",
      "/Users/williamgilpin/miniconda3/envs/nn/lib/python3.8/site-packages/nolds/measures.py:268: RuntimeWarning: autocorrelation declined too slowly to find suitable lag, setting lag to 24\n",
      "  warnings.warn(msg.format(lag), RuntimeWarning)\n",
      "/Users/williamgilpin/miniconda3/envs/nn/lib/python3.8/site-packages/nolds/measures.py:45: RuntimeWarning: RANSAC did not reach consensus, using numpy's polyfit\n",
      "  warnings.warn(\n"
     ]
    },
    {
     "name": "stdout",
     "output_type": "stream",
     "text": [
      "OscillatingFlow [-0.005745218212443198, 0.010088803348779004, -1.5861942264080584e-16]\n"
     ]
    },
    {
     "name": "stderr",
     "output_type": "stream",
     "text": [
      "/Users/williamgilpin/miniconda3/envs/nn/lib/python3.8/site-packages/nolds/measures.py:240: RuntimeWarning: signal has very low mean frequency, setting min_tsep = 125\n",
      "  warnings.warn(msg.format(min_tsep), RuntimeWarning)\n",
      "/Users/williamgilpin/miniconda3/envs/nn/lib/python3.8/site-packages/nolds/measures.py:268: RuntimeWarning: autocorrelation declined too slowly to find suitable lag, setting lag to 24\n",
      "  warnings.warn(msg.format(lag), RuntimeWarning)\n",
      "/Users/williamgilpin/miniconda3/envs/nn/lib/python3.8/site-packages/nolds/measures.py:240: RuntimeWarning: signal has very low mean frequency, setting min_tsep = 125\n",
      "  warnings.warn(msg.format(min_tsep), RuntimeWarning)\n",
      "/Users/williamgilpin/miniconda3/envs/nn/lib/python3.8/site-packages/nolds/measures.py:268: RuntimeWarning: autocorrelation declined too slowly to find suitable lag, setting lag to 24\n",
      "  warnings.warn(msg.format(lag), RuntimeWarning)\n",
      "/Users/williamgilpin/miniconda3/envs/nn/lib/python3.8/site-packages/nolds/measures.py:240: RuntimeWarning: signal has very low mean frequency, setting min_tsep = 125\n",
      "  warnings.warn(msg.format(min_tsep), RuntimeWarning)\n",
      "/Users/williamgilpin/miniconda3/envs/nn/lib/python3.8/site-packages/nolds/measures.py:268: RuntimeWarning: autocorrelation declined too slowly to find suitable lag, setting lag to 24\n",
      "  warnings.warn(msg.format(lag), RuntimeWarning)\n",
      "/Users/williamgilpin/miniconda3/envs/nn/lib/python3.8/site-packages/nolds/measures.py:45: RuntimeWarning: RANSAC did not reach consensus, using numpy's polyfit\n",
      "  warnings.warn(\n"
     ]
    },
    {
     "name": "stdout",
     "output_type": "stream",
     "text": [
      "BickleyJet [0.001247590538789477, -9.130535269132124e-06, -2.6828120992280796e-16]\n"
     ]
    },
    {
     "name": "stderr",
     "output_type": "stream",
     "text": [
      "/Users/williamgilpin/miniconda3/envs/nn/lib/python3.8/site-packages/nolds/measures.py:240: RuntimeWarning: signal has very low mean frequency, setting min_tsep = 125\n",
      "  warnings.warn(msg.format(min_tsep), RuntimeWarning)\n",
      "/Users/williamgilpin/miniconda3/envs/nn/lib/python3.8/site-packages/nolds/measures.py:268: RuntimeWarning: autocorrelation declined too slowly to find suitable lag, setting lag to 24\n",
      "  warnings.warn(msg.format(lag), RuntimeWarning)\n",
      "/Users/williamgilpin/miniconda3/envs/nn/lib/python3.8/site-packages/nolds/measures.py:240: RuntimeWarning: signal has very low mean frequency, setting min_tsep = 125\n",
      "  warnings.warn(msg.format(min_tsep), RuntimeWarning)\n",
      "/Users/williamgilpin/miniconda3/envs/nn/lib/python3.8/site-packages/nolds/measures.py:268: RuntimeWarning: autocorrelation declined too slowly to find suitable lag, setting lag to 24\n",
      "  warnings.warn(msg.format(lag), RuntimeWarning)\n",
      "/Users/williamgilpin/miniconda3/envs/nn/lib/python3.8/site-packages/nolds/measures.py:240: RuntimeWarning: signal has very low mean frequency, setting min_tsep = 125\n",
      "  warnings.warn(msg.format(min_tsep), RuntimeWarning)\n",
      "/Users/williamgilpin/miniconda3/envs/nn/lib/python3.8/site-packages/nolds/measures.py:268: RuntimeWarning: autocorrelation declined too slowly to find suitable lag, setting lag to 24\n",
      "  warnings.warn(msg.format(lag), RuntimeWarning)\n",
      "/Users/williamgilpin/program_repos/thom/thom/base.py:133: UserWarning: Excessive integration required; scale factor 1587.2891671013736\n",
      "  if upscale_factor > 1e3: warnings.warn(f\"Excessive integration required; scale factor {upscale_factor}\")\n",
      "/Users/williamgilpin/program_repos/thom/thom/thom.py:333: RuntimeWarning: invalid value encountered in sqrt\n",
      "  rf = (self.ci - self.z0*z)*np.sqrt(x)\n"
     ]
    },
    {
     "name": "stdout",
     "output_type": "stream",
     "text": [
      "ArnoldBeltramiChildress [0.002433925762510884, 0.013712154354965275, -0.00263465440320416]\n"
     ]
    },
    {
     "name": "stderr",
     "output_type": "stream",
     "text": [
      "/Users/williamgilpin/miniconda3/envs/nn/lib/python3.8/site-packages/nolds/measures.py:240: RuntimeWarning: signal has very low mean frequency, setting min_tsep = 125\n",
      "  warnings.warn(msg.format(min_tsep), RuntimeWarning)\n",
      "/Users/williamgilpin/miniconda3/envs/nn/lib/python3.8/site-packages/nolds/measures.py:240: RuntimeWarning: signal has very low mean frequency, setting min_tsep = 125\n",
      "  warnings.warn(msg.format(min_tsep), RuntimeWarning)\n",
      "/Users/williamgilpin/miniconda3/envs/nn/lib/python3.8/site-packages/nolds/measures.py:268: RuntimeWarning: autocorrelation declined too slowly to find suitable lag, setting lag to 24\n",
      "  warnings.warn(msg.format(lag), RuntimeWarning)\n",
      "/Users/williamgilpin/miniconda3/envs/nn/lib/python3.8/site-packages/nolds/measures.py:240: RuntimeWarning: signal has very low mean frequency, setting min_tsep = 125\n",
      "  warnings.warn(msg.format(min_tsep), RuntimeWarning)\n",
      "/Users/williamgilpin/miniconda3/envs/nn/lib/python3.8/site-packages/nolds/measures.py:268: RuntimeWarning: autocorrelation declined too slowly to find suitable lag, setting lag to 24\n",
      "  warnings.warn(msg.format(lag), RuntimeWarning)\n",
      "/Users/williamgilpin/miniconda3/envs/nn/lib/python3.8/site-packages/nolds/measures.py:240: RuntimeWarning: signal has very low mean frequency, setting min_tsep = 125\n",
      "  warnings.warn(msg.format(min_tsep), RuntimeWarning)\n",
      "/Users/williamgilpin/miniconda3/envs/nn/lib/python3.8/site-packages/nolds/measures.py:268: RuntimeWarning: autocorrelation declined too slowly to find suitable lag, setting lag to 24\n",
      "  warnings.warn(msg.format(lag), RuntimeWarning)\n",
      "/Users/williamgilpin/miniconda3/envs/nn/lib/python3.8/site-packages/nolds/measures.py:240: RuntimeWarning: signal has very low mean frequency, setting min_tsep = 125\n",
      "  warnings.warn(msg.format(min_tsep), RuntimeWarning)\n",
      "/Users/williamgilpin/miniconda3/envs/nn/lib/python3.8/site-packages/nolds/measures.py:268: RuntimeWarning: autocorrelation declined too slowly to find suitable lag, setting lag to 24\n",
      "  warnings.warn(msg.format(lag), RuntimeWarning)\n"
     ]
    },
    {
     "name": "stdout",
     "output_type": "stream",
     "text": [
      "BelousovZhabotinsky [0.006963346029065421, 0.011945424223304635, 0.012099781968539695]\n",
      "IsothermalChemical [0.02225950275148658, 0.001856010425912363, 0.02503481081553858]\n"
     ]
    },
    {
     "name": "stderr",
     "output_type": "stream",
     "text": [
      "/Users/williamgilpin/miniconda3/envs/nn/lib/python3.8/site-packages/nolds/measures.py:240: RuntimeWarning: signal has very low mean frequency, setting min_tsep = 125\n",
      "  warnings.warn(msg.format(min_tsep), RuntimeWarning)\n",
      "/Users/williamgilpin/miniconda3/envs/nn/lib/python3.8/site-packages/nolds/measures.py:268: RuntimeWarning: autocorrelation declined too slowly to find suitable lag, setting lag to 24\n",
      "  warnings.warn(msg.format(lag), RuntimeWarning)\n",
      "/Users/williamgilpin/miniconda3/envs/nn/lib/python3.8/site-packages/nolds/measures.py:240: RuntimeWarning: signal has very low mean frequency, setting min_tsep = 125\n",
      "  warnings.warn(msg.format(min_tsep), RuntimeWarning)\n",
      "/Users/williamgilpin/miniconda3/envs/nn/lib/python3.8/site-packages/nolds/measures.py:268: RuntimeWarning: autocorrelation declined too slowly to find suitable lag, setting lag to 24\n",
      "  warnings.warn(msg.format(lag), RuntimeWarning)\n",
      "/Users/williamgilpin/miniconda3/envs/nn/lib/python3.8/site-packages/nolds/measures.py:240: RuntimeWarning: signal has very low mean frequency, setting min_tsep = 125\n",
      "  warnings.warn(msg.format(min_tsep), RuntimeWarning)\n",
      "/Users/williamgilpin/miniconda3/envs/nn/lib/python3.8/site-packages/nolds/measures.py:268: RuntimeWarning: autocorrelation declined too slowly to find suitable lag, setting lag to 24\n",
      "  warnings.warn(msg.format(lag), RuntimeWarning)\n",
      "/Users/williamgilpin/miniconda3/envs/nn/lib/python3.8/site-packages/nolds/measures.py:240: RuntimeWarning: signal has very low mean frequency, setting min_tsep = 125\n",
      "  warnings.warn(msg.format(min_tsep), RuntimeWarning)\n",
      "/Users/williamgilpin/miniconda3/envs/nn/lib/python3.8/site-packages/nolds/measures.py:268: RuntimeWarning: autocorrelation declined too slowly to find suitable lag, setting lag to 24\n",
      "  warnings.warn(msg.format(lag), RuntimeWarning)\n",
      "/Users/williamgilpin/miniconda3/envs/nn/lib/python3.8/site-packages/nolds/measures.py:45: RuntimeWarning: RANSAC did not reach consensus, using numpy's polyfit\n",
      "  warnings.warn(\n",
      "/Users/williamgilpin/miniconda3/envs/nn/lib/python3.8/site-packages/nolds/measures.py:240: RuntimeWarning: signal has very low mean frequency, setting min_tsep = 125\n",
      "  warnings.warn(msg.format(min_tsep), RuntimeWarning)\n",
      "/Users/williamgilpin/miniconda3/envs/nn/lib/python3.8/site-packages/nolds/measures.py:240: RuntimeWarning: signal has very low mean frequency, setting min_tsep = 125\n",
      "  warnings.warn(msg.format(min_tsep), RuntimeWarning)\n"
     ]
    },
    {
     "name": "stdout",
     "output_type": "stream",
     "text": [
      "ForcedBrusselator [0.002736243043844704, 0.02813204618600704, -1.9391828308147195e-16]\n",
      "ForcedVanDerPol [-0.017007323411794856, 0.0975218771338897, -5.198600668269196e-09]\n"
     ]
    },
    {
     "name": "stderr",
     "output_type": "stream",
     "text": [
      "/Users/williamgilpin/miniconda3/envs/nn/lib/python3.8/site-packages/nolds/measures.py:240: RuntimeWarning: signal has very low mean frequency, setting min_tsep = 125\n",
      "  warnings.warn(msg.format(min_tsep), RuntimeWarning)\n",
      "/Users/williamgilpin/miniconda3/envs/nn/lib/python3.8/site-packages/nolds/measures.py:268: RuntimeWarning: autocorrelation declined too slowly to find suitable lag, setting lag to 24\n",
      "  warnings.warn(msg.format(lag), RuntimeWarning)\n",
      "/Users/williamgilpin/miniconda3/envs/nn/lib/python3.8/site-packages/nolds/measures.py:45: RuntimeWarning: RANSAC did not reach consensus, using numpy's polyfit\n",
      "  warnings.warn(\n",
      "/Users/williamgilpin/miniconda3/envs/nn/lib/python3.8/site-packages/nolds/measures.py:240: RuntimeWarning: signal has very low mean frequency, setting min_tsep = 125\n",
      "  warnings.warn(msg.format(min_tsep), RuntimeWarning)\n",
      "/Users/williamgilpin/miniconda3/envs/nn/lib/python3.8/site-packages/nolds/measures.py:268: RuntimeWarning: autocorrelation declined too slowly to find suitable lag, setting lag to 24\n",
      "  warnings.warn(msg.format(lag), RuntimeWarning)\n",
      "/Users/williamgilpin/miniconda3/envs/nn/lib/python3.8/site-packages/nolds/measures.py:240: RuntimeWarning: signal has very low mean frequency, setting min_tsep = 125\n",
      "  warnings.warn(msg.format(min_tsep), RuntimeWarning)\n",
      "/Users/williamgilpin/miniconda3/envs/nn/lib/python3.8/site-packages/nolds/measures.py:240: RuntimeWarning: signal has very low mean frequency, setting min_tsep = 125\n",
      "  warnings.warn(msg.format(min_tsep), RuntimeWarning)\n",
      "/Users/williamgilpin/miniconda3/envs/nn/lib/python3.8/site-packages/nolds/measures.py:268: RuntimeWarning: autocorrelation declined too slowly to find suitable lag, setting lag to 24\n",
      "  warnings.warn(msg.format(lag), RuntimeWarning)\n",
      "/Users/williamgilpin/miniconda3/envs/nn/lib/python3.8/site-packages/nolds/measures.py:45: RuntimeWarning: RANSAC did not reach consensus, using numpy's polyfit\n",
      "  warnings.warn(\n"
     ]
    },
    {
     "name": "stdout",
     "output_type": "stream",
     "text": [
      "StickSlipOscillator [-0.001839517650747665, 0.0003214318701562138, -2.7131969089372016e-17]\n"
     ]
    },
    {
     "name": "stderr",
     "output_type": "stream",
     "text": [
      "/Users/williamgilpin/miniconda3/envs/nn/lib/python3.8/site-packages/nolds/measures.py:240: RuntimeWarning: signal has very low mean frequency, setting min_tsep = 125\n",
      "  warnings.warn(msg.format(min_tsep), RuntimeWarning)\n",
      "/Users/williamgilpin/miniconda3/envs/nn/lib/python3.8/site-packages/nolds/measures.py:240: RuntimeWarning: signal has very low mean frequency, setting min_tsep = 125\n",
      "  warnings.warn(msg.format(min_tsep), RuntimeWarning)\n",
      "/Users/williamgilpin/miniconda3/envs/nn/lib/python3.8/site-packages/nolds/measures.py:240: RuntimeWarning: signal has very low mean frequency, setting min_tsep = 125\n",
      "  warnings.warn(msg.format(min_tsep), RuntimeWarning)\n",
      "/Users/williamgilpin/miniconda3/envs/nn/lib/python3.8/site-packages/nolds/measures.py:268: RuntimeWarning: autocorrelation declined too slowly to find suitable lag, setting lag to 24\n",
      "  warnings.warn(msg.format(lag), RuntimeWarning)\n",
      "/Users/williamgilpin/miniconda3/envs/nn/lib/python3.8/site-packages/nolds/measures.py:45: RuntimeWarning: RANSAC did not reach consensus, using numpy's polyfit\n",
      "  warnings.warn(\n"
     ]
    },
    {
     "name": "stdout",
     "output_type": "stream",
     "text": [
      "ForcedFitzHughNagumo [0.003917529250812996, 0.0012092100017745404, -2.1342878143689645e-17]\n"
     ]
    },
    {
     "name": "stderr",
     "output_type": "stream",
     "text": [
      "/Users/williamgilpin/miniconda3/envs/nn/lib/python3.8/site-packages/nolds/measures.py:240: RuntimeWarning: signal has very low mean frequency, setting min_tsep = 125\n",
      "  warnings.warn(msg.format(min_tsep), RuntimeWarning)\n",
      "/Users/williamgilpin/miniconda3/envs/nn/lib/python3.8/site-packages/nolds/measures.py:240: RuntimeWarning: signal has very low mean frequency, setting min_tsep = 125\n",
      "  warnings.warn(msg.format(min_tsep), RuntimeWarning)\n",
      "/Users/williamgilpin/miniconda3/envs/nn/lib/python3.8/site-packages/nolds/measures.py:240: RuntimeWarning: signal has very low mean frequency, setting min_tsep = 125\n",
      "  warnings.warn(msg.format(min_tsep), RuntimeWarning)\n"
     ]
    },
    {
     "name": "stdout",
     "output_type": "stream",
     "text": [
      "HindmarshRose [0.010042463926444353, -0.023802770267833454, 0.009285978804853606]\n"
     ]
    },
    {
     "name": "stderr",
     "output_type": "stream",
     "text": [
      "/Users/williamgilpin/miniconda3/envs/nn/lib/python3.8/site-packages/nolds/measures.py:240: RuntimeWarning: signal has very low mean frequency, setting min_tsep = 125\n",
      "  warnings.warn(msg.format(min_tsep), RuntimeWarning)\n",
      "/Users/williamgilpin/miniconda3/envs/nn/lib/python3.8/site-packages/nolds/measures.py:268: RuntimeWarning: autocorrelation declined too slowly to find suitable lag, setting lag to 24\n",
      "  warnings.warn(msg.format(lag), RuntimeWarning)\n",
      "/Users/williamgilpin/miniconda3/envs/nn/lib/python3.8/site-packages/nolds/measures.py:240: RuntimeWarning: signal has very low mean frequency, setting min_tsep = 125\n",
      "  warnings.warn(msg.format(min_tsep), RuntimeWarning)\n",
      "/Users/williamgilpin/miniconda3/envs/nn/lib/python3.8/site-packages/nolds/measures.py:268: RuntimeWarning: autocorrelation declined too slowly to find suitable lag, setting lag to 24\n",
      "  warnings.warn(msg.format(lag), RuntimeWarning)\n",
      "/Users/williamgilpin/miniconda3/envs/nn/lib/python3.8/site-packages/nolds/measures.py:240: RuntimeWarning: signal has very low mean frequency, setting min_tsep = 125\n",
      "  warnings.warn(msg.format(min_tsep), RuntimeWarning)\n",
      "/Users/williamgilpin/miniconda3/envs/nn/lib/python3.8/site-packages/nolds/measures.py:268: RuntimeWarning: autocorrelation declined too slowly to find suitable lag, setting lag to 24\n",
      "  warnings.warn(msg.format(lag), RuntimeWarning)\n",
      "/Users/williamgilpin/miniconda3/envs/nn/lib/python3.8/site-packages/nolds/measures.py:240: RuntimeWarning: signal has very low mean frequency, setting min_tsep = 125\n",
      "  warnings.warn(msg.format(min_tsep), RuntimeWarning)\n",
      "/Users/williamgilpin/miniconda3/envs/nn/lib/python3.8/site-packages/nolds/measures.py:268: RuntimeWarning: autocorrelation declined too slowly to find suitable lag, setting lag to 24\n",
      "  warnings.warn(msg.format(lag), RuntimeWarning)\n",
      "/Users/williamgilpin/miniconda3/envs/nn/lib/python3.8/site-packages/nolds/measures.py:240: RuntimeWarning: signal has very low mean frequency, setting min_tsep = 125\n",
      "  warnings.warn(msg.format(min_tsep), RuntimeWarning)\n",
      "/Users/williamgilpin/miniconda3/envs/nn/lib/python3.8/site-packages/nolds/measures.py:268: RuntimeWarning: autocorrelation declined too slowly to find suitable lag, setting lag to 24\n",
      "  warnings.warn(msg.format(lag), RuntimeWarning)\n",
      "/Users/williamgilpin/miniconda3/envs/nn/lib/python3.8/site-packages/nolds/measures.py:240: RuntimeWarning: signal has very low mean frequency, setting min_tsep = 125\n",
      "  warnings.warn(msg.format(min_tsep), RuntimeWarning)\n",
      "/Users/williamgilpin/miniconda3/envs/nn/lib/python3.8/site-packages/nolds/measures.py:268: RuntimeWarning: autocorrelation declined too slowly to find suitable lag, setting lag to 24\n",
      "  warnings.warn(msg.format(lag), RuntimeWarning)\n",
      "/Users/williamgilpin/miniconda3/envs/nn/lib/python3.8/site-packages/sklearn/metrics/_regression.py:594: UndefinedMetricWarning: R^2 score is not well-defined with less than two samples.\n",
      "  warnings.warn(msg, UndefinedMetricWarning)\n"
     ]
    },
    {
     "name": "stdout",
     "output_type": "stream",
     "text": [
      "CellCycle [-0.004593527251547492, 0.002933821931083403, -0.002106485562724656, 0.04364863590343849, 0.03769753539300228, 0.0008246309024911435]\n"
     ]
    },
    {
     "name": "stderr",
     "output_type": "stream",
     "text": [
      "/Users/williamgilpin/miniconda3/envs/nn/lib/python3.8/site-packages/nolds/measures.py:240: RuntimeWarning: signal has very low mean frequency, setting min_tsep = 125\n",
      "  warnings.warn(msg.format(min_tsep), RuntimeWarning)\n",
      "/Users/williamgilpin/miniconda3/envs/nn/lib/python3.8/site-packages/nolds/measures.py:240: RuntimeWarning: signal has very low mean frequency, setting min_tsep = 125\n",
      "  warnings.warn(msg.format(min_tsep), RuntimeWarning)\n",
      "/Users/williamgilpin/miniconda3/envs/nn/lib/python3.8/site-packages/nolds/measures.py:240: RuntimeWarning: signal has very low mean frequency, setting min_tsep = 125\n",
      "  warnings.warn(msg.format(min_tsep), RuntimeWarning)\n",
      "/Users/williamgilpin/miniconda3/envs/nn/lib/python3.8/site-packages/nolds/measures.py:240: RuntimeWarning: signal has very low mean frequency, setting min_tsep = 125\n",
      "  warnings.warn(msg.format(min_tsep), RuntimeWarning)\n",
      "/Users/williamgilpin/miniconda3/envs/nn/lib/python3.8/site-packages/nolds/measures.py:240: RuntimeWarning: signal has very low mean frequency, setting min_tsep = 125\n",
      "  warnings.warn(msg.format(min_tsep), RuntimeWarning)\n",
      "/Users/williamgilpin/miniconda3/envs/nn/lib/python3.8/site-packages/nolds/measures.py:268: RuntimeWarning: autocorrelation declined too slowly to find suitable lag, setting lag to 24\n",
      "  warnings.warn(msg.format(lag), RuntimeWarning)\n",
      "/Users/williamgilpin/miniconda3/envs/nn/lib/python3.8/site-packages/nolds/measures.py:45: RuntimeWarning: RANSAC did not reach consensus, using numpy's polyfit\n",
      "  warnings.warn(\n"
     ]
    },
    {
     "name": "stdout",
     "output_type": "stream",
     "text": [
      "CircadianRhythm [0.007324041869572327, 0.005411075182029501, -0.0013369435765271975, 0.004504079490734601, 1.7209160463100008e-08]\n",
      "CaTwoPlus [0.005809214088943011, -0.0008126471068832353, 0.005900905682490572]\n"
     ]
    },
    {
     "name": "stderr",
     "output_type": "stream",
     "text": [
      "/Users/williamgilpin/miniconda3/envs/nn/lib/python3.8/site-packages/nolds/measures.py:240: RuntimeWarning: signal has very low mean frequency, setting min_tsep = 125\n",
      "  warnings.warn(msg.format(min_tsep), RuntimeWarning)\n",
      "/Users/williamgilpin/miniconda3/envs/nn/lib/python3.8/site-packages/nolds/measures.py:268: RuntimeWarning: autocorrelation declined too slowly to find suitable lag, setting lag to 24\n",
      "  warnings.warn(msg.format(lag), RuntimeWarning)\n",
      "/Users/williamgilpin/miniconda3/envs/nn/lib/python3.8/site-packages/nolds/measures.py:240: RuntimeWarning: signal has very low mean frequency, setting min_tsep = 125\n",
      "  warnings.warn(msg.format(min_tsep), RuntimeWarning)\n",
      "/Users/williamgilpin/miniconda3/envs/nn/lib/python3.8/site-packages/nolds/measures.py:268: RuntimeWarning: autocorrelation declined too slowly to find suitable lag, setting lag to 24\n",
      "  warnings.warn(msg.format(lag), RuntimeWarning)\n",
      "/Users/williamgilpin/miniconda3/envs/nn/lib/python3.8/site-packages/nolds/measures.py:240: RuntimeWarning: signal has very low mean frequency, setting min_tsep = 125\n",
      "  warnings.warn(msg.format(min_tsep), RuntimeWarning)\n",
      "/Users/williamgilpin/miniconda3/envs/nn/lib/python3.8/site-packages/nolds/measures.py:268: RuntimeWarning: autocorrelation declined too slowly to find suitable lag, setting lag to 24\n",
      "  warnings.warn(msg.format(lag), RuntimeWarning)\n",
      "/Users/williamgilpin/miniconda3/envs/nn/lib/python3.8/site-packages/nolds/measures.py:240: RuntimeWarning: signal has very low mean frequency, setting min_tsep = 125\n",
      "  warnings.warn(msg.format(min_tsep), RuntimeWarning)\n",
      "/Users/williamgilpin/miniconda3/envs/nn/lib/python3.8/site-packages/nolds/measures.py:268: RuntimeWarning: autocorrelation declined too slowly to find suitable lag, setting lag to 24\n",
      "  warnings.warn(msg.format(lag), RuntimeWarning)\n",
      "/Users/williamgilpin/miniconda3/envs/nn/lib/python3.8/site-packages/nolds/measures.py:240: RuntimeWarning: signal has very low mean frequency, setting min_tsep = 125\n",
      "  warnings.warn(msg.format(min_tsep), RuntimeWarning)\n",
      "/Users/williamgilpin/miniconda3/envs/nn/lib/python3.8/site-packages/nolds/measures.py:268: RuntimeWarning: autocorrelation declined too slowly to find suitable lag, setting lag to 24\n",
      "  warnings.warn(msg.format(lag), RuntimeWarning)\n",
      "/Users/williamgilpin/miniconda3/envs/nn/lib/python3.8/site-packages/nolds/measures.py:240: RuntimeWarning: signal has very low mean frequency, setting min_tsep = 125\n",
      "  warnings.warn(msg.format(min_tsep), RuntimeWarning)\n",
      "/Users/williamgilpin/miniconda3/envs/nn/lib/python3.8/site-packages/nolds/measures.py:268: RuntimeWarning: autocorrelation declined too slowly to find suitable lag, setting lag to 24\n",
      "  warnings.warn(msg.format(lag), RuntimeWarning)\n",
      "/Users/williamgilpin/miniconda3/envs/nn/lib/python3.8/site-packages/nolds/measures.py:240: RuntimeWarning: signal has very low mean frequency, setting min_tsep = 125\n",
      "  warnings.warn(msg.format(min_tsep), RuntimeWarning)\n",
      "/Users/williamgilpin/miniconda3/envs/nn/lib/python3.8/site-packages/nolds/measures.py:268: RuntimeWarning: autocorrelation declined too slowly to find suitable lag, setting lag to 24\n",
      "  warnings.warn(msg.format(lag), RuntimeWarning)\n",
      "/Users/williamgilpin/miniconda3/envs/nn/lib/python3.8/site-packages/nolds/measures.py:240: RuntimeWarning: signal has very low mean frequency, setting min_tsep = 125\n",
      "  warnings.warn(msg.format(min_tsep), RuntimeWarning)\n",
      "/Users/williamgilpin/miniconda3/envs/nn/lib/python3.8/site-packages/nolds/measures.py:268: RuntimeWarning: autocorrelation declined too slowly to find suitable lag, setting lag to 24\n",
      "  warnings.warn(msg.format(lag), RuntimeWarning)\n"
     ]
    },
    {
     "name": "stdout",
     "output_type": "stream",
     "text": [
      "CaTwoPlusQuasiperiodic [0.00785457219310748, 0.009981284822736506, -0.00041886076285937524]\n"
     ]
    },
    {
     "name": "stderr",
     "output_type": "stream",
     "text": [
      "/Users/williamgilpin/miniconda3/envs/nn/lib/python3.8/site-packages/nolds/measures.py:240: RuntimeWarning: signal has very low mean frequency, setting min_tsep = 125\n",
      "  warnings.warn(msg.format(min_tsep), RuntimeWarning)\n",
      "/Users/williamgilpin/miniconda3/envs/nn/lib/python3.8/site-packages/nolds/measures.py:268: RuntimeWarning: autocorrelation declined too slowly to find suitable lag, setting lag to 24\n",
      "  warnings.warn(msg.format(lag), RuntimeWarning)\n"
     ]
    },
    {
     "name": "stdout",
     "output_type": "stream",
     "text": [
      "ExcitableCell [0.00017717418137117128, 0.00938923467289321, 0.008749438183648208]\n"
     ]
    },
    {
     "name": "stderr",
     "output_type": "stream",
     "text": [
      "/Users/williamgilpin/miniconda3/envs/nn/lib/python3.8/site-packages/nolds/measures.py:240: RuntimeWarning: signal has very low mean frequency, setting min_tsep = 125\n",
      "  warnings.warn(msg.format(min_tsep), RuntimeWarning)\n",
      "/Users/williamgilpin/miniconda3/envs/nn/lib/python3.8/site-packages/nolds/measures.py:240: RuntimeWarning: signal has very low mean frequency, setting min_tsep = 125\n",
      "  warnings.warn(msg.format(min_tsep), RuntimeWarning)\n",
      "/Users/williamgilpin/miniconda3/envs/nn/lib/python3.8/site-packages/nolds/measures.py:268: RuntimeWarning: autocorrelation declined too slowly to find suitable lag, setting lag to 24\n",
      "  warnings.warn(msg.format(lag), RuntimeWarning)\n",
      "/Users/williamgilpin/miniconda3/envs/nn/lib/python3.8/site-packages/nolds/measures.py:240: RuntimeWarning: signal has very low mean frequency, setting min_tsep = 125\n",
      "  warnings.warn(msg.format(min_tsep), RuntimeWarning)\n"
     ]
    },
    {
     "name": "stdout",
     "output_type": "stream",
     "text": [
      "ItikBanksTumor [0.046475989388343936, 0.003630316701659095, 0.04080237150192258]\n"
     ]
    },
    {
     "name": "stderr",
     "output_type": "stream",
     "text": [
      "/Users/williamgilpin/miniconda3/envs/nn/lib/python3.8/site-packages/nolds/measures.py:240: RuntimeWarning: signal has very low mean frequency, setting min_tsep = 125\n",
      "  warnings.warn(msg.format(min_tsep), RuntimeWarning)\n",
      "/Users/williamgilpin/miniconda3/envs/nn/lib/python3.8/site-packages/nolds/measures.py:240: RuntimeWarning: signal has very low mean frequency, setting min_tsep = 125\n",
      "  warnings.warn(msg.format(min_tsep), RuntimeWarning)\n",
      "/Users/williamgilpin/miniconda3/envs/nn/lib/python3.8/site-packages/nolds/measures.py:240: RuntimeWarning: signal has very low mean frequency, setting min_tsep = 125\n",
      "  warnings.warn(msg.format(min_tsep), RuntimeWarning)\n"
     ]
    },
    {
     "name": "stdout",
     "output_type": "stream",
     "text": [
      "Laser [0.04424156504017967, 0.048367292943753706, 0.008655968002604906]\n"
     ]
    },
    {
     "name": "stderr",
     "output_type": "stream",
     "text": [
      "/Users/williamgilpin/miniconda3/envs/nn/lib/python3.8/site-packages/nolds/measures.py:240: RuntimeWarning: signal has very low mean frequency, setting min_tsep = 125\n",
      "  warnings.warn(msg.format(min_tsep), RuntimeWarning)\n",
      "/Users/williamgilpin/miniconda3/envs/nn/lib/python3.8/site-packages/nolds/measures.py:268: RuntimeWarning: autocorrelation declined too slowly to find suitable lag, setting lag to 24\n",
      "  warnings.warn(msg.format(lag), RuntimeWarning)\n",
      "/Users/williamgilpin/miniconda3/envs/nn/lib/python3.8/site-packages/nolds/measures.py:240: RuntimeWarning: signal has very low mean frequency, setting min_tsep = 125\n",
      "  warnings.warn(msg.format(min_tsep), RuntimeWarning)\n",
      "/Users/williamgilpin/miniconda3/envs/nn/lib/python3.8/site-packages/nolds/measures.py:268: RuntimeWarning: autocorrelation declined too slowly to find suitable lag, setting lag to 24\n",
      "  warnings.warn(msg.format(lag), RuntimeWarning)\n",
      "/Users/williamgilpin/miniconda3/envs/nn/lib/python3.8/site-packages/nolds/measures.py:240: RuntimeWarning: signal has very low mean frequency, setting min_tsep = 125\n",
      "  warnings.warn(msg.format(min_tsep), RuntimeWarning)\n",
      "/Users/williamgilpin/miniconda3/envs/nn/lib/python3.8/site-packages/nolds/measures.py:268: RuntimeWarning: autocorrelation declined too slowly to find suitable lag, setting lag to 24\n",
      "  warnings.warn(msg.format(lag), RuntimeWarning)\n"
     ]
    },
    {
     "name": "stdout",
     "output_type": "stream",
     "text": [
      "WindmiReduced [0.009053146401547018, 0.03228781059928904, 0.008898807202237494]\n"
     ]
    },
    {
     "name": "stderr",
     "output_type": "stream",
     "text": [
      "/Users/williamgilpin/miniconda3/envs/nn/lib/python3.8/site-packages/nolds/measures.py:240: RuntimeWarning: signal has very low mean frequency, setting min_tsep = 125\n",
      "  warnings.warn(msg.format(min_tsep), RuntimeWarning)\n",
      "/Users/williamgilpin/miniconda3/envs/nn/lib/python3.8/site-packages/nolds/measures.py:240: RuntimeWarning: signal has very low mean frequency, setting min_tsep = 125\n",
      "  warnings.warn(msg.format(min_tsep), RuntimeWarning)\n",
      "/Users/williamgilpin/miniconda3/envs/nn/lib/python3.8/site-packages/nolds/measures.py:240: RuntimeWarning: signal has very low mean frequency, setting min_tsep = 125\n",
      "  warnings.warn(msg.format(min_tsep), RuntimeWarning)\n",
      "/Users/williamgilpin/miniconda3/envs/nn/lib/python3.8/site-packages/nolds/measures.py:268: RuntimeWarning: autocorrelation declined too slowly to find suitable lag, setting lag to 24\n",
      "  warnings.warn(msg.format(lag), RuntimeWarning)\n"
     ]
    },
    {
     "name": "stdout",
     "output_type": "stream",
     "text": [
      "TurchinHanski [0.0010407640383793802, -0.004656474559210633, -8.037880678147259e-09]\n"
     ]
    },
    {
     "name": "stderr",
     "output_type": "stream",
     "text": [
      "/Users/williamgilpin/miniconda3/envs/nn/lib/python3.8/site-packages/nolds/measures.py:240: RuntimeWarning: signal has very low mean frequency, setting min_tsep = 125\n",
      "  warnings.warn(msg.format(min_tsep), RuntimeWarning)\n",
      "/Users/williamgilpin/miniconda3/envs/nn/lib/python3.8/site-packages/nolds/measures.py:268: RuntimeWarning: autocorrelation declined too slowly to find suitable lag, setting lag to 24\n",
      "  warnings.warn(msg.format(lag), RuntimeWarning)\n",
      "/Users/williamgilpin/miniconda3/envs/nn/lib/python3.8/site-packages/nolds/measures.py:240: RuntimeWarning: signal has very low mean frequency, setting min_tsep = 125\n",
      "  warnings.warn(msg.format(min_tsep), RuntimeWarning)\n",
      "/Users/williamgilpin/miniconda3/envs/nn/lib/python3.8/site-packages/nolds/measures.py:268: RuntimeWarning: autocorrelation declined too slowly to find suitable lag, setting lag to 24\n",
      "  warnings.warn(msg.format(lag), RuntimeWarning)\n",
      "/Users/williamgilpin/miniconda3/envs/nn/lib/python3.8/site-packages/nolds/measures.py:240: RuntimeWarning: signal has very low mean frequency, setting min_tsep = 125\n",
      "  warnings.warn(msg.format(min_tsep), RuntimeWarning)\n"
     ]
    },
    {
     "name": "stdout",
     "output_type": "stream",
     "text": [
      "Blasius [0.0011848158888764064, 0.013178704899547302, 0.018273673380227947]\n"
     ]
    },
    {
     "name": "stderr",
     "output_type": "stream",
     "text": [
      "/Users/williamgilpin/miniconda3/envs/nn/lib/python3.8/site-packages/nolds/measures.py:240: RuntimeWarning: signal has very low mean frequency, setting min_tsep = 125\n",
      "  warnings.warn(msg.format(min_tsep), RuntimeWarning)\n",
      "/Users/williamgilpin/miniconda3/envs/nn/lib/python3.8/site-packages/nolds/measures.py:268: RuntimeWarning: autocorrelation declined too slowly to find suitable lag, setting lag to 24\n",
      "  warnings.warn(msg.format(lag), RuntimeWarning)\n",
      "/Users/williamgilpin/miniconda3/envs/nn/lib/python3.8/site-packages/sklearn/metrics/_regression.py:594: UndefinedMetricWarning: R^2 score is not well-defined with less than two samples.\n",
      "  warnings.warn(msg, UndefinedMetricWarning)\n",
      "/Users/williamgilpin/miniconda3/envs/nn/lib/python3.8/site-packages/nolds/measures.py:240: RuntimeWarning: signal has very low mean frequency, setting min_tsep = 125\n",
      "  warnings.warn(msg.format(min_tsep), RuntimeWarning)\n",
      "/Users/williamgilpin/miniconda3/envs/nn/lib/python3.8/site-packages/nolds/measures.py:240: RuntimeWarning: signal has very low mean frequency, setting min_tsep = 125\n",
      "  warnings.warn(msg.format(min_tsep), RuntimeWarning)\n",
      "/Users/williamgilpin/miniconda3/envs/nn/lib/python3.8/site-packages/nolds/measures.py:268: RuntimeWarning: autocorrelation declined too slowly to find suitable lag, setting lag to 24\n",
      "  warnings.warn(msg.format(lag), RuntimeWarning)\n"
     ]
    },
    {
     "name": "stdout",
     "output_type": "stream",
     "text": [
      "HastingsPowell [0.002260535661771058, 0.013052606443667186, -0.00937651363866671]\n"
     ]
    },
    {
     "name": "stderr",
     "output_type": "stream",
     "text": [
      "/Users/williamgilpin/miniconda3/envs/nn/lib/python3.8/site-packages/nolds/measures.py:240: RuntimeWarning: signal has very low mean frequency, setting min_tsep = 125\n",
      "  warnings.warn(msg.format(min_tsep), RuntimeWarning)\n",
      "/Users/williamgilpin/miniconda3/envs/nn/lib/python3.8/site-packages/nolds/measures.py:268: RuntimeWarning: autocorrelation declined too slowly to find suitable lag, setting lag to 24\n",
      "  warnings.warn(msg.format(lag), RuntimeWarning)\n",
      "/Users/williamgilpin/miniconda3/envs/nn/lib/python3.8/site-packages/nolds/measures.py:240: RuntimeWarning: signal has very low mean frequency, setting min_tsep = 125\n",
      "  warnings.warn(msg.format(min_tsep), RuntimeWarning)\n",
      "/Users/williamgilpin/miniconda3/envs/nn/lib/python3.8/site-packages/nolds/measures.py:268: RuntimeWarning: autocorrelation declined too slowly to find suitable lag, setting lag to 24\n",
      "  warnings.warn(msg.format(lag), RuntimeWarning)\n",
      "/Users/williamgilpin/miniconda3/envs/nn/lib/python3.8/site-packages/nolds/measures.py:240: RuntimeWarning: signal has very low mean frequency, setting min_tsep = 125\n",
      "  warnings.warn(msg.format(min_tsep), RuntimeWarning)\n",
      "/Users/williamgilpin/miniconda3/envs/nn/lib/python3.8/site-packages/nolds/measures.py:268: RuntimeWarning: autocorrelation declined too slowly to find suitable lag, setting lag to 24\n",
      "  warnings.warn(msg.format(lag), RuntimeWarning)\n"
     ]
    },
    {
     "name": "stdout",
     "output_type": "stream",
     "text": [
      "SaltonSea [0.0006772840566927106, 0.013110527430130534, 0.029395775284086052]\n"
     ]
    },
    {
     "name": "stderr",
     "output_type": "stream",
     "text": [
      "/Users/williamgilpin/miniconda3/envs/nn/lib/python3.8/site-packages/nolds/measures.py:240: RuntimeWarning: signal has very low mean frequency, setting min_tsep = 125\n",
      "  warnings.warn(msg.format(min_tsep), RuntimeWarning)\n",
      "/Users/williamgilpin/miniconda3/envs/nn/lib/python3.8/site-packages/nolds/measures.py:240: RuntimeWarning: signal has very low mean frequency, setting min_tsep = 125\n",
      "  warnings.warn(msg.format(min_tsep), RuntimeWarning)\n",
      "/Users/williamgilpin/miniconda3/envs/nn/lib/python3.8/site-packages/nolds/measures.py:268: RuntimeWarning: autocorrelation declined too slowly to find suitable lag, setting lag to 24\n",
      "  warnings.warn(msg.format(lag), RuntimeWarning)\n",
      "/Users/williamgilpin/miniconda3/envs/nn/lib/python3.8/site-packages/nolds/measures.py:240: RuntimeWarning: signal has very low mean frequency, setting min_tsep = 125\n",
      "  warnings.warn(msg.format(min_tsep), RuntimeWarning)\n",
      "/Users/williamgilpin/miniconda3/envs/nn/lib/python3.8/site-packages/nolds/measures.py:268: RuntimeWarning: autocorrelation declined too slowly to find suitable lag, setting lag to 24\n",
      "  warnings.warn(msg.format(lag), RuntimeWarning)\n"
     ]
    },
    {
     "name": "stdout",
     "output_type": "stream",
     "text": [
      "CoevolvingPredatorPrey [0.02091688489049216, 0.008586321771144859, -0.002080768303532021]\n"
     ]
    },
    {
     "name": "stderr",
     "output_type": "stream",
     "text": [
      "/Users/williamgilpin/miniconda3/envs/nn/lib/python3.8/site-packages/nolds/measures.py:240: RuntimeWarning: signal has very low mean frequency, setting min_tsep = 125\n",
      "  warnings.warn(msg.format(min_tsep), RuntimeWarning)\n",
      "/Users/williamgilpin/miniconda3/envs/nn/lib/python3.8/site-packages/nolds/measures.py:268: RuntimeWarning: autocorrelation declined too slowly to find suitable lag, setting lag to 24\n",
      "  warnings.warn(msg.format(lag), RuntimeWarning)\n",
      "/Users/williamgilpin/miniconda3/envs/nn/lib/python3.8/site-packages/nolds/measures.py:240: RuntimeWarning: signal has very low mean frequency, setting min_tsep = 125\n",
      "  warnings.warn(msg.format(min_tsep), RuntimeWarning)\n",
      "/Users/williamgilpin/miniconda3/envs/nn/lib/python3.8/site-packages/nolds/measures.py:268: RuntimeWarning: autocorrelation declined too slowly to find suitable lag, setting lag to 24\n",
      "  warnings.warn(msg.format(lag), RuntimeWarning)\n",
      "/Users/williamgilpin/miniconda3/envs/nn/lib/python3.8/site-packages/nolds/measures.py:240: RuntimeWarning: signal has very low mean frequency, setting min_tsep = 125\n",
      "  warnings.warn(msg.format(min_tsep), RuntimeWarning)\n",
      "/Users/williamgilpin/miniconda3/envs/nn/lib/python3.8/site-packages/nolds/measures.py:268: RuntimeWarning: autocorrelation declined too slowly to find suitable lag, setting lag to 24\n",
      "  warnings.warn(msg.format(lag), RuntimeWarning)\n",
      "/Users/williamgilpin/miniconda3/envs/nn/lib/python3.8/site-packages/nolds/measures.py:240: RuntimeWarning: signal has very low mean frequency, setting min_tsep = 125\n",
      "  warnings.warn(msg.format(min_tsep), RuntimeWarning)\n",
      "/Users/williamgilpin/miniconda3/envs/nn/lib/python3.8/site-packages/nolds/measures.py:268: RuntimeWarning: autocorrelation declined too slowly to find suitable lag, setting lag to 24\n",
      "  warnings.warn(msg.format(lag), RuntimeWarning)\n",
      "/Users/williamgilpin/miniconda3/envs/nn/lib/python3.8/site-packages/nolds/measures.py:240: RuntimeWarning: signal has very low mean frequency, setting min_tsep = 125\n",
      "  warnings.warn(msg.format(min_tsep), RuntimeWarning)\n",
      "/Users/williamgilpin/miniconda3/envs/nn/lib/python3.8/site-packages/nolds/measures.py:268: RuntimeWarning: autocorrelation declined too slowly to find suitable lag, setting lag to 24\n",
      "  warnings.warn(msg.format(lag), RuntimeWarning)\n",
      "/Users/williamgilpin/miniconda3/envs/nn/lib/python3.8/site-packages/nolds/measures.py:240: RuntimeWarning: signal has very low mean frequency, setting min_tsep = 125\n",
      "  warnings.warn(msg.format(min_tsep), RuntimeWarning)\n",
      "/Users/williamgilpin/miniconda3/envs/nn/lib/python3.8/site-packages/nolds/measures.py:268: RuntimeWarning: autocorrelation declined too slowly to find suitable lag, setting lag to 24\n",
      "  warnings.warn(msg.format(lag), RuntimeWarning)\n",
      "/Users/williamgilpin/miniconda3/envs/nn/lib/python3.8/site-packages/nolds/measures.py:240: RuntimeWarning: signal has very low mean frequency, setting min_tsep = 125\n",
      "  warnings.warn(msg.format(min_tsep), RuntimeWarning)\n",
      "/Users/williamgilpin/miniconda3/envs/nn/lib/python3.8/site-packages/nolds/measures.py:268: RuntimeWarning: autocorrelation declined too slowly to find suitable lag, setting lag to 24\n",
      "  warnings.warn(msg.format(lag), RuntimeWarning)\n",
      "/Users/williamgilpin/miniconda3/envs/nn/lib/python3.8/site-packages/nolds/measures.py:240: RuntimeWarning: signal has very low mean frequency, setting min_tsep = 125\n",
      "  warnings.warn(msg.format(min_tsep), RuntimeWarning)\n",
      "/Users/williamgilpin/miniconda3/envs/nn/lib/python3.8/site-packages/nolds/measures.py:240: RuntimeWarning: signal has very low mean frequency, setting min_tsep = 125\n",
      "  warnings.warn(msg.format(min_tsep), RuntimeWarning)\n",
      "/Users/williamgilpin/miniconda3/envs/nn/lib/python3.8/site-packages/nolds/measures.py:268: RuntimeWarning: autocorrelation declined too slowly to find suitable lag, setting lag to 24\n",
      "  warnings.warn(msg.format(lag), RuntimeWarning)\n",
      "/Users/williamgilpin/miniconda3/envs/nn/lib/python3.8/site-packages/nolds/measures.py:240: RuntimeWarning: signal has very low mean frequency, setting min_tsep = 125\n",
      "  warnings.warn(msg.format(min_tsep), RuntimeWarning)\n",
      "/Users/williamgilpin/miniconda3/envs/nn/lib/python3.8/site-packages/nolds/measures.py:268: RuntimeWarning: autocorrelation declined too slowly to find suitable lag, setting lag to 24\n",
      "  warnings.warn(msg.format(lag), RuntimeWarning)\n"
     ]
    },
    {
     "name": "stdout",
     "output_type": "stream",
     "text": [
      "MacArthur [0.0020108428494684, -0.0034786685454799393, 0.01105496439709507, -0.0042519105308275445, 0.015362739770549274, 0.02055459293253692, 0.0021726438996432515, 0.006609803941369287, 0.006925301118330478, -0.004645185353219126]\n"
     ]
    },
    {
     "name": "stderr",
     "output_type": "stream",
     "text": [
      "/Users/williamgilpin/miniconda3/envs/nn/lib/python3.8/site-packages/nolds/measures.py:240: RuntimeWarning: signal has very low mean frequency, setting min_tsep = 125\n",
      "  warnings.warn(msg.format(min_tsep), RuntimeWarning)\n",
      "/Users/williamgilpin/miniconda3/envs/nn/lib/python3.8/site-packages/nolds/measures.py:240: RuntimeWarning: signal has very low mean frequency, setting min_tsep = 125\n",
      "  warnings.warn(msg.format(min_tsep), RuntimeWarning)\n",
      "/Users/williamgilpin/miniconda3/envs/nn/lib/python3.8/site-packages/nolds/measures.py:268: RuntimeWarning: autocorrelation declined too slowly to find suitable lag, setting lag to 24\n",
      "  warnings.warn(msg.format(lag), RuntimeWarning)\n",
      "/Users/williamgilpin/miniconda3/envs/nn/lib/python3.8/site-packages/nolds/measures.py:240: RuntimeWarning: signal has very low mean frequency, setting min_tsep = 125\n",
      "  warnings.warn(msg.format(min_tsep), RuntimeWarning)\n"
     ]
    },
    {
     "name": "stdout",
     "output_type": "stream",
     "text": [
      "BeerRNN [0.01196102095391471, -0.004175625049351346, -0.002995166697340281]\n"
     ]
    },
    {
     "name": "stderr",
     "output_type": "stream",
     "text": [
      "/Users/williamgilpin/miniconda3/envs/nn/lib/python3.8/site-packages/nolds/measures.py:240: RuntimeWarning: signal has very low mean frequency, setting min_tsep = 125\n",
      "  warnings.warn(msg.format(min_tsep), RuntimeWarning)\n",
      "/Users/williamgilpin/miniconda3/envs/nn/lib/python3.8/site-packages/nolds/measures.py:240: RuntimeWarning: signal has very low mean frequency, setting min_tsep = 125\n",
      "  warnings.warn(msg.format(min_tsep), RuntimeWarning)\n",
      "/Users/williamgilpin/miniconda3/envs/nn/lib/python3.8/site-packages/nolds/measures.py:240: RuntimeWarning: signal has very low mean frequency, setting min_tsep = 125\n",
      "  warnings.warn(msg.format(min_tsep), RuntimeWarning)\n"
     ]
    },
    {
     "name": "stdout",
     "output_type": "stream",
     "text": [
      "CellularNeuralNetwork [0.01530430864234616, 0.01651222405577064, 0.015572910380542712]\n"
     ]
    },
    {
     "name": "stderr",
     "output_type": "stream",
     "text": [
      "/Users/williamgilpin/miniconda3/envs/nn/lib/python3.8/site-packages/nolds/measures.py:240: RuntimeWarning: signal has very low mean frequency, setting min_tsep = 125\n",
      "  warnings.warn(msg.format(min_tsep), RuntimeWarning)\n",
      "/Users/williamgilpin/miniconda3/envs/nn/lib/python3.8/site-packages/nolds/measures.py:240: RuntimeWarning: signal has very low mean frequency, setting min_tsep = 125\n",
      "  warnings.warn(msg.format(min_tsep), RuntimeWarning)\n",
      "/Users/williamgilpin/miniconda3/envs/nn/lib/python3.8/site-packages/nolds/measures.py:240: RuntimeWarning: signal has very low mean frequency, setting min_tsep = 125\n",
      "  warnings.warn(msg.format(min_tsep), RuntimeWarning)\n",
      "/Users/williamgilpin/miniconda3/envs/nn/lib/python3.8/site-packages/nolds/measures.py:240: RuntimeWarning: signal has very low mean frequency, setting min_tsep = 125\n",
      "  warnings.warn(msg.format(min_tsep), RuntimeWarning)\n",
      "/Users/williamgilpin/miniconda3/envs/nn/lib/python3.8/site-packages/nolds/measures.py:240: RuntimeWarning: signal has very low mean frequency, setting min_tsep = 125\n",
      "  warnings.warn(msg.format(min_tsep), RuntimeWarning)\n",
      "/Users/williamgilpin/miniconda3/envs/nn/lib/python3.8/site-packages/nolds/measures.py:240: RuntimeWarning: signal has very low mean frequency, setting min_tsep = 125\n",
      "  warnings.warn(msg.format(min_tsep), RuntimeWarning)\n"
     ]
    },
    {
     "name": "stdout",
     "output_type": "stream",
     "text": [
      "Hopfield [0.028552266439997157, 0.023908845441681967, 0.022535466834118494, 0.023790213308836274, 0.02538878070680718, 0.030063200489918965]\n"
     ]
    },
    {
     "name": "stderr",
     "output_type": "stream",
     "text": [
      "/Users/williamgilpin/miniconda3/envs/nn/lib/python3.8/site-packages/nolds/measures.py:240: RuntimeWarning: signal has very low mean frequency, setting min_tsep = 125\n",
      "  warnings.warn(msg.format(min_tsep), RuntimeWarning)\n",
      "/Users/williamgilpin/miniconda3/envs/nn/lib/python3.8/site-packages/nolds/measures.py:268: RuntimeWarning: autocorrelation declined too slowly to find suitable lag, setting lag to 24\n",
      "  warnings.warn(msg.format(lag), RuntimeWarning)\n",
      "/Users/williamgilpin/miniconda3/envs/nn/lib/python3.8/site-packages/nolds/measures.py:240: RuntimeWarning: signal has very low mean frequency, setting min_tsep = 125\n",
      "  warnings.warn(msg.format(min_tsep), RuntimeWarning)\n",
      "/Users/williamgilpin/miniconda3/envs/nn/lib/python3.8/site-packages/nolds/measures.py:268: RuntimeWarning: autocorrelation declined too slowly to find suitable lag, setting lag to 24\n",
      "  warnings.warn(msg.format(lag), RuntimeWarning)\n",
      "/Users/williamgilpin/miniconda3/envs/nn/lib/python3.8/site-packages/nolds/measures.py:240: RuntimeWarning: signal has very low mean frequency, setting min_tsep = 125\n",
      "  warnings.warn(msg.format(min_tsep), RuntimeWarning)\n",
      "/Users/williamgilpin/miniconda3/envs/nn/lib/python3.8/site-packages/nolds/measures.py:268: RuntimeWarning: autocorrelation declined too slowly to find suitable lag, setting lag to 24\n",
      "  warnings.warn(msg.format(lag), RuntimeWarning)\n"
     ]
    },
    {
     "name": "stdout",
     "output_type": "stream",
     "text": [
      "MackeyGlass [0.006033930540560767, 0.008058769276544841, 0.011780106009817694]\n"
     ]
    },
    {
     "name": "stderr",
     "output_type": "stream",
     "text": [
      "/Users/williamgilpin/miniconda3/envs/nn/lib/python3.8/site-packages/nolds/measures.py:240: RuntimeWarning: signal has very low mean frequency, setting min_tsep = 120\n",
      "  warnings.warn(msg.format(min_tsep), RuntimeWarning)\n",
      "/Users/williamgilpin/miniconda3/envs/nn/lib/python3.8/site-packages/nolds/measures.py:240: RuntimeWarning: signal has very low mean frequency, setting min_tsep = 120\n",
      "  warnings.warn(msg.format(min_tsep), RuntimeWarning)\n",
      "/Users/williamgilpin/miniconda3/envs/nn/lib/python3.8/site-packages/nolds/measures.py:240: RuntimeWarning: signal has very low mean frequency, setting min_tsep = 120\n",
      "  warnings.warn(msg.format(min_tsep), RuntimeWarning)\n"
     ]
    },
    {
     "name": "stdout",
     "output_type": "stream",
     "text": [
      "IkedaDelay [0.011920879364351707, 0.015723728122500787, 0.01006215679027682]\n"
     ]
    },
    {
     "name": "stderr",
     "output_type": "stream",
     "text": [
      "/Users/williamgilpin/miniconda3/envs/nn/lib/python3.8/site-packages/nolds/measures.py:240: RuntimeWarning: signal has very low mean frequency, setting min_tsep = 125\n",
      "  warnings.warn(msg.format(min_tsep), RuntimeWarning)\n",
      "/Users/williamgilpin/miniconda3/envs/nn/lib/python3.8/site-packages/nolds/measures.py:268: RuntimeWarning: autocorrelation declined too slowly to find suitable lag, setting lag to 24\n",
      "  warnings.warn(msg.format(lag), RuntimeWarning)\n",
      "/Users/williamgilpin/miniconda3/envs/nn/lib/python3.8/site-packages/nolds/measures.py:240: RuntimeWarning: signal has very low mean frequency, setting min_tsep = 125\n",
      "  warnings.warn(msg.format(min_tsep), RuntimeWarning)\n",
      "/Users/williamgilpin/miniconda3/envs/nn/lib/python3.8/site-packages/nolds/measures.py:268: RuntimeWarning: autocorrelation declined too slowly to find suitable lag, setting lag to 24\n",
      "  warnings.warn(msg.format(lag), RuntimeWarning)\n",
      "/Users/williamgilpin/miniconda3/envs/nn/lib/python3.8/site-packages/nolds/measures.py:240: RuntimeWarning: signal has very low mean frequency, setting min_tsep = 125\n",
      "  warnings.warn(msg.format(min_tsep), RuntimeWarning)\n",
      "/Users/williamgilpin/miniconda3/envs/nn/lib/python3.8/site-packages/nolds/measures.py:268: RuntimeWarning: autocorrelation declined too slowly to find suitable lag, setting lag to 24\n",
      "  warnings.warn(msg.format(lag), RuntimeWarning)\n",
      "/Users/williamgilpin/miniconda3/envs/nn/lib/python3.8/site-packages/nolds/measures.py:240: RuntimeWarning: signal has very low mean frequency, setting min_tsep = 85\n",
      "  warnings.warn(msg.format(min_tsep), RuntimeWarning)\n",
      "/Users/williamgilpin/miniconda3/envs/nn/lib/python3.8/site-packages/nolds/measures.py:268: RuntimeWarning: autocorrelation declined too slowly to find suitable lag, setting lag to 15\n",
      "  warnings.warn(msg.format(lag), RuntimeWarning)\n",
      "/Users/williamgilpin/miniconda3/envs/nn/lib/python3.8/site-packages/nolds/measures.py:240: RuntimeWarning: signal has very low mean frequency, setting min_tsep = 85\n",
      "  warnings.warn(msg.format(min_tsep), RuntimeWarning)\n",
      "/Users/williamgilpin/miniconda3/envs/nn/lib/python3.8/site-packages/nolds/measures.py:268: RuntimeWarning: autocorrelation declined too slowly to find suitable lag, setting lag to 15\n",
      "  warnings.warn(msg.format(lag), RuntimeWarning)\n",
      "/Users/williamgilpin/miniconda3/envs/nn/lib/python3.8/site-packages/nolds/measures.py:240: RuntimeWarning: signal has very low mean frequency, setting min_tsep = 85\n",
      "  warnings.warn(msg.format(min_tsep), RuntimeWarning)\n",
      "/Users/williamgilpin/miniconda3/envs/nn/lib/python3.8/site-packages/nolds/measures.py:268: RuntimeWarning: autocorrelation declined too slowly to find suitable lag, setting lag to 15\n",
      "  warnings.warn(msg.format(lag), RuntimeWarning)\n"
     ]
    },
    {
     "name": "stdout",
     "output_type": "stream",
     "text": [
      "SprottDelay [0.0008691875671053555, -0.000663938427295977, -0.005178574223149829]\n",
      "VossDelay [0.008810174129063016, 0.000967763976066135, 0.010787064483115718]\n"
     ]
    },
    {
     "name": "stderr",
     "output_type": "stream",
     "text": [
      "/Users/williamgilpin/miniconda3/envs/nn/lib/python3.8/site-packages/nolds/measures.py:240: RuntimeWarning: signal has very low mean frequency, setting min_tsep = 125\n",
      "  warnings.warn(msg.format(min_tsep), RuntimeWarning)\n",
      "/Users/williamgilpin/miniconda3/envs/nn/lib/python3.8/site-packages/nolds/measures.py:240: RuntimeWarning: signal has very low mean frequency, setting min_tsep = 125\n",
      "  warnings.warn(msg.format(min_tsep), RuntimeWarning)\n",
      "/Users/williamgilpin/miniconda3/envs/nn/lib/python3.8/site-packages/nolds/measures.py:240: RuntimeWarning: signal has very low mean frequency, setting min_tsep = 125\n",
      "  warnings.warn(msg.format(min_tsep), RuntimeWarning)\n"
     ]
    },
    {
     "name": "stdout",
     "output_type": "stream",
     "text": [
      "ScrollDelay [0.01510558823207603, 0.017825402941246675, 0.01930453080992053]\n"
     ]
    },
    {
     "name": "stderr",
     "output_type": "stream",
     "text": [
      "/Users/williamgilpin/miniconda3/envs/nn/lib/python3.8/site-packages/nolds/measures.py:240: RuntimeWarning: signal has very low mean frequency, setting min_tsep = 125\n",
      "  warnings.warn(msg.format(min_tsep), RuntimeWarning)\n",
      "/Users/williamgilpin/miniconda3/envs/nn/lib/python3.8/site-packages/nolds/measures.py:240: RuntimeWarning: signal has very low mean frequency, setting min_tsep = 125\n",
      "  warnings.warn(msg.format(min_tsep), RuntimeWarning)\n",
      "/Users/williamgilpin/miniconda3/envs/nn/lib/python3.8/site-packages/nolds/measures.py:240: RuntimeWarning: signal has very low mean frequency, setting min_tsep = 125\n",
      "  warnings.warn(msg.format(min_tsep), RuntimeWarning)\n"
     ]
    },
    {
     "name": "stdout",
     "output_type": "stream",
     "text": [
      "PiecewiseCircuit [0.06718038652736441, 0.06719309769962964, 0.06726942819760258]\n"
     ]
    },
    {
     "name": "stderr",
     "output_type": "stream",
     "text": [
      "/Users/williamgilpin/miniconda3/envs/nn/lib/python3.8/site-packages/nolds/measures.py:240: RuntimeWarning: signal has very low mean frequency, setting min_tsep = 125\n",
      "  warnings.warn(msg.format(min_tsep), RuntimeWarning)\n",
      "/Users/williamgilpin/miniconda3/envs/nn/lib/python3.8/site-packages/nolds/measures.py:240: RuntimeWarning: signal has very low mean frequency, setting min_tsep = 125\n",
      "  warnings.warn(msg.format(min_tsep), RuntimeWarning)\n",
      "/Users/williamgilpin/miniconda3/envs/nn/lib/python3.8/site-packages/nolds/measures.py:240: RuntimeWarning: signal has very low mean frequency, setting min_tsep = 125\n",
      "  warnings.warn(msg.format(min_tsep), RuntimeWarning)\n",
      "/Users/williamgilpin/miniconda3/envs/nn/lib/python3.8/site-packages/nolds/measures.py:240: RuntimeWarning: signal has very low mean frequency, setting min_tsep = 125\n",
      "  warnings.warn(msg.format(min_tsep), RuntimeWarning)\n",
      "/Users/williamgilpin/miniconda3/envs/nn/lib/python3.8/site-packages/nolds/measures.py:268: RuntimeWarning: autocorrelation declined too slowly to find suitable lag, setting lag to 24\n",
      "  warnings.warn(msg.format(lag), RuntimeWarning)\n"
     ]
    },
    {
     "name": "stdout",
     "output_type": "stream",
     "text": [
      "HyperRossler [0.019646490785412325, 0.023690375528837536, 0.011672590058166633, 0.009314395079794853]\n",
      "Rossler [0.015663199496448503, 0.01642167783321294, 0.015864653369965193]\n"
     ]
    },
    {
     "name": "stderr",
     "output_type": "stream",
     "text": [
      "/Users/williamgilpin/miniconda3/envs/nn/lib/python3.8/site-packages/nolds/measures.py:240: RuntimeWarning: signal has very low mean frequency, setting min_tsep = 125\n",
      "  warnings.warn(msg.format(min_tsep), RuntimeWarning)\n",
      "/Users/williamgilpin/miniconda3/envs/nn/lib/python3.8/site-packages/nolds/measures.py:240: RuntimeWarning: signal has very low mean frequency, setting min_tsep = 125\n",
      "  warnings.warn(msg.format(min_tsep), RuntimeWarning)\n",
      "/Users/williamgilpin/miniconda3/envs/nn/lib/python3.8/site-packages/nolds/measures.py:240: RuntimeWarning: signal has very low mean frequency, setting min_tsep = 125\n",
      "  warnings.warn(msg.format(min_tsep), RuntimeWarning)\n"
     ]
    }
   ],
   "source": [
    "## Find and write Lyapunov exponents of each attractor\n",
    "\n",
    "from nolds import lyap_r\n",
    "\n",
    "# We will make a local copy of the internal database\n",
    "path_output = \"./chaotic_attractors2.json\"\n",
    "\n",
    "total_length = 500\n",
    "\n",
    "with open(\"thom/data/chaotic_attractors.json\", \"r\") as file:\n",
    "    data = json.load(file)\n",
    "print(len(data.keys()))\n",
    "\n",
    "for i, item in enumerate(list(data.keys())):\n",
    "    \n",
    "    eq = getattr(thom, item)()\n",
    "    sol = eq.make_trajectory(total_length, method=\"Radau\", resample=True, pts_per_period=30)\n",
    "    \n",
    "    print(item, [lyap_r(item) for item in sol])\n",
    "    \n",
    "    \n",
    "#     data[item][\"period\"] = signif(period, 5)\n",
    "#     print(item, \" time period\", period,\" index period\", period/eq.dt, \" \", (1/eq.dt)/period)\n",
    "    \n",
    "# with open(path_output, 'w') as f:\n",
    "#     json.dump(data, f, indent=4)"
   ]
  },
  {
   "cell_type": "markdown",
   "metadata": {},
   "source": [
    "## Find and write period of each attractor\n",
    "+ Expressed in units of dt"
   ]
  },
  {
   "cell_type": "code",
   "execution_count": 18,
   "metadata": {},
   "outputs": [
    {
     "name": "stdout",
     "output_type": "stream",
     "text": [
      "106\n",
      "...Lorenz  time period 1.5008333333333332  index period 8333.333333333334   3699.5919041830366\n",
      "...LorenzBounded  time period 1.3715789473684208  index period 5263.157894736842   2797.7234188297984\n",
      "......LorenzCoupled  time period 1.620720720720721  index period 9009.00900900901   3429.7356847930764\n",
      "...Lorenz84  time period 6.258620689655172  index period 17241.379310344826   440.16422679082336\n",
      "....Lorenz96  time period 2.1969230769230768  index period 15384.615384615383   3187.549529615768\n",
      "...Thomas  time period 4.968965517241379  index period 17241.379310344826   698.2967819113202\n",
      "...ThomasLabyrinth  time period 6.05  index period 17241.379310344826   471.0437623207384\n",
      "....HenonHeiles  time period 6.37  index period 2500.0   61.61140944724708\n",
      "...Chua  time period 11.387931034482756  index period 17241.379310344826   132.94816568779763\n",
      "...MultiChua  time period 2.258630952380952  index period 2976.1904761904757   583.4050334067967\n"
     ]
    },
    {
     "name": "stderr",
     "output_type": "stream",
     "text": [
      "/Users/williamgilpin/program_repos/thom/thom/thom.py:264: RuntimeWarning: overflow encountered in exp\n",
      "  zdot = -z - x  - self.eps*(np.exp(y/self.y0) - 1)\n"
     ]
    },
    {
     "name": "stdout",
     "output_type": "stream",
     "text": [
      "...JerkCircuit  time period 9.727272727272728  index period 6493.506493506495   68.62732865003805\n",
      "...Colpitts  time period 4.267592592592592  index period 9259.25925925926   508.40561598024306\n",
      "..Duffing  time period 7.449579831932774  index period 4201.680672268908   75.71108776155715\n",
      "...Torus  time period 6.36  index period 16666.666666666668   412.0353888954814\n",
      "...Halvorsen  time period 1.488888888888889  index period 6944.444444444444   3132.657607484963\n",
      "...MooreSpiegel  time period 1.288709677419355  index period 8064.5161290322585   4855.8821179791385\n",
      "...Bouali2  time period 2.677922077922078  index period 6493.506493506493   905.4894770363165\n",
      "...Bouali  time period 3.041095890410959  index period 6849.315068493151   740.6054703352\n",
      "...Arneodo  time period 3.1640624999999996  index period 2604.1666666666665   260.12294873748925\n",
      "...Coullet  time period 5.766331658291457  index period 2512.5628140703516   75.56447899905544\n",
      "...Rucklidge  time period 6.0721311475409845  index period 8196.72131147541   222.30942906856865\n",
      "...BurkeShaw  time period 0.7833333333333333  index period 6666.666666666667   10864.644635581713\n",
      "...ZhouChen  time period 0.8751785714285715  index period 17857.14285714286   23314.0982308721\n",
      "...LuChenCheng  time period 0.9233333333333333  index period 8333.333333333334   9774.661470891058\n",
      "...Chen  time period 0.5868932038834951  index period 4854.368932038835   14093.362368396389\n",
      "...ChenLee  time period 2.8042857142857143  index period 14285.714285714286   1816.5921820619826\n",
      "...LuChen  time period 2.3384615384615386  index period 19230.76923076923   3516.707063711911\n",
      "...QiChen  time period 0.39179245283018865  index period 9433.962264150943   61458.506608152\n",
      "...YuWang  time period 1.3366176470588236  index period 14705.882352941177   8231.456848869277\n",
      "...YuWang2  time period 0.3926470588235294  index period 3676.470588235294   23846.596249070688\n",
      "...NewtonLiepnik  time period 8.50948275862069  index period 8620.689655172413   119.05172305765342\n",
      "...DequanLi  time period 0.08380645161290323  index period 3225.806451612904   459286.20404989686\n",
      "...Tsucs2  time period 0.3452631578947368  index period 8771.929824561403   73585.91116398969\n",
      "....ArnoldWeb  time period 67.25  index period 19230.76923076923   4.252184293919483\n",
      "...PanXuZhou  time period 11.8859375  index period 15625.0   110.5994943633054\n",
      "...WangSun  time period 26.958333333333332  index period 20833.333333333332   28.666368854945787\n",
      "...Sakarya  time period 4.984444444444445  index period 11111.111111111111   447.222835635272\n",
      "...LiuChen  time period 2.004054054054054  index period 13513.513513513513   3364.7237811856467\n",
      "...Aizawa  time period 2.583714285714286  index period 2857.1428571428573   427.99922505237447\n",
      "...SanUmSrisuchinwong  time period 7.465384615384616  index period 3846.1538461538466   69.01162872486947\n",
      "...Finance  time period 9.89318181818182  index period 11363.636363636364   116.10350923384401\n",
      "...Dadras  time period 3.2886363636363636  index period 22727.272727272728   2101.4333208043336\n",
      "...RikitakeDynamo  time period 5.897500000000001  index period 8333.333333333334   239.5978158981896\n",
      "...RabinovichFabrikant  time period 2.335648148148148  index period 4629.62962962963   848.6554606165915\n",
      "...AnishchenkoAstakhov  time period 6.814035087719298  index period 8771.929824561403   188.9236891480112\n",
      "...GenesioTesi  time period 5.943127962085307  index period 2369.6682464454975   67.08993739968307\n",
      "...ShimizuMorioka  time period 12.03804347826087  index period 5434.782608695652   37.50337581337994\n",
      "...SprottTorus  time period 13.606521739130434  index period 21739.130434782608   117.42158235741748\n",
      "...SprottJerk  time period 11.92079207920792  index period 4950.495049504951   34.83681195571793\n",
      "...SprottB  time period 8.284693877551021  index period 10204.081632653062   148.66919603536874\n",
      "...SprottC  time period 8.885245901639344  index period 8196.72131147541   103.82483898639725\n",
      "...SprottD  time period 4.833333333333333  index period 2732.24043715847   116.95678446813902\n",
      "...SprottE  time period 15.255357142857145  index period 17857.14285714286   76.73035619642636\n",
      "...SprottF  time period 19.244186046511626  index period 11627.906976744185   31.398033971942574\n",
      "...SprottG  time period 8.709677419354838  index period 4032.258064516129   53.155006858710564\n",
      "...SprottH  time period 20.228571428571428  index period 14285.714285714286   34.91174311340931\n",
      "...SprottI  time period 10.929577464788732  index period 3521.1267605633802   29.476432139440963\n",
      "...SprottJ  time period 4.836  index period 4000.0000000000005   171.0359510727717\n",
      "...SprottK  time period 7.005952380952381  index period 5952.380952380952   121.27083169413184\n",
      "...SprottL  time period 6.726190476190475  index period 7936.507936507936   175.42485707573033\n",
      "...SprottM  time period 5.364361702127661  index period 2659.5744680851067   92.42214601765015\n",
      "...SprottN  time period 4.813492063492064  index period 3968.2539682539687   171.26906982544824\n",
      "...SprottO  time period 9.755  index period 5000.0   52.54307152609511\n",
      "...SprottP  time period 5.341379310344828  index period 3448.2758620689656   120.8634988482542\n",
      "...SprottQ  time period 4.844311377245509  index period 2994.0119760479038   127.582007728261\n",
      "...SprottR  time period 7.013274336283186  index period 4424.778761061947   89.96009513479086\n",
      "...SprottS  time period 3.3505154639175254  index period 2577.319587628866   229.5857988165681\n",
      "...Hadley  time period 1.4540816326530612  index period 2040.8163265306123   965.2200677131424\n",
      "...RayleighBenard  time period 0.9196721311475411  index period 8196.72131147541   9691.1232488458\n",
      "...NoseHoover  time period 5.867261904761905  index period 5952.380952380952   172.90986376565635\n",
      "...KawczynskiStrizhak  time period 19.18  index period 20000.0   54.36667714131313\n",
      "...VallisElNino  time period 2.2086956521739127  index period 7246.376811594202   1485.419637505942\n",
      "....DoublePendulum  time period 4.0234375  index period 5208.333333333334   321.73940365098815\n",
      "..FluidTrampoline  time period 7.735074626865672  index period 3731.3432835820895   62.36431979026971\n",
      "..DoubleGyre  time period 13.95260663507109  index period 4739.336492890995   24.34483547967864\n",
      "..BlinkingRotlet  time period 4.723333333333334  index period 16666.666666666668   747.0532484614438\n",
      "..BlinkingVortex  time period 1.6569892473118282  index period 10752.688172043012   3916.315496691976\n",
      "..OscillatingFlow  time period 23.857142857142858  index period 8928.57142857143   15.687188497256983\n"
     ]
    },
    {
     "name": "stderr",
     "output_type": "stream",
     "text": [
      "/Users/williamgilpin/miniconda3/envs/nn/lib/python3.8/site-packages/scipy/integrate/_ivp/common.py:338: RuntimeWarning: overflow encountered in multiply\n",
      "  h_new = (y[ind] + new_factor * y_scale[ind]) - y[ind]\n",
      "/Users/williamgilpin/miniconda3/envs/nn/lib/python3.8/site-packages/scipy/integrate/_ivp/common.py:307: RuntimeWarning: overflow encountered in multiply\n",
      "  h = (y + factor * y_scale) - y\n",
      "/Users/williamgilpin/miniconda3/envs/nn/lib/python3.8/site-packages/scipy/integrate/_ivp/common.py:337: RuntimeWarning: overflow encountered in multiply\n",
      "  new_factor = NUM_JAC_FACTOR_INCREASE * factor[ind]\n",
      "/Users/williamgilpin/miniconda3/envs/nn/lib/python3.8/site-packages/scipy/integrate/_ivp/common.py:359: RuntimeWarning: overflow encountered in multiply\n",
      "  factor[max_diff < NUM_JAC_DIFF_SMALL * scale] *= NUM_JAC_FACTOR_INCREASE\n"
     ]
    },
    {
     "name": "stdout",
     "output_type": "stream",
     "text": [
      "..BickleyJet  time period 86956.52173913043  index period 869.5652173913044   1.1500000000000001e-07\n",
      "...ArnoldBeltramiChildress  time period 161.97727272727272  index period 22727.272727272728   0.8662418446037338\n"
     ]
    },
    {
     "name": "stderr",
     "output_type": "stream",
     "text": [
      "/Users/williamgilpin/program_repos/thom/thom/thom.py:313: RuntimeWarning: invalid value encountered in sqrt\n",
      "  rf = (self.ci - self.z0*z)*np.sqrt(x)\n"
     ]
    },
    {
     "name": "stdout",
     "output_type": "stream",
     "text": [
      "...BelousovZhabotinsky  time period 0.018257142857142857  index period 23809.52380952381   71430728.92813906\n",
      "...IsothermalChemical  time period 0.7678448275862069  index period 8620.689655172413   14621.606254286195\n",
      "..ForcedBrusselator  time period 20.410526315789472  index period 10526.315789473683   25.267832373731988\n",
      "..ForcedVanDerPol  time period 2.3163398692810455  index period 6535.9477124183   1218.1590734220304\n",
      "..StickSlipOscillator  time period 1.6129032258064515  index period 16129.032258064515   6200.0\n",
      "..ForcedFitzHughNagumo  time period 35.80357142857143  index period 17857.14285714286   13.930261627726196\n",
      "...HindmarshRose  time period 1.7519565217391304  index period 21739.130434782608   7082.645745721839\n",
      "......CellCycle  time period 204.70873786407765  index period 4854.368932038835   0.11584039195889985\n",
      "....CircadianRhythm  time period 27.0  index period 15625.0   21.43347050754458\n",
      "...CaTwoPlus  time period 1.3429824561403507  index period 8771.929824561403   4863.562149711535\n",
      "...CaTwoPlusQuasiperiodic  time period 0.6561403508771929  index period 8771.929824561403   20375.189453515974\n",
      "...ExcitableCell  time period 0.5528  index period 12499.999999999998   40904.7689855722\n",
      "...ItikBanksTumor  time period 49.74  index period 20000.0   8.083853488886074\n",
      "...Laser  time period 0.9466666666666667  index period 11111.111111111111   12398.333663955564\n",
      "...WindmiReduced  time period 4.673267326732673  index period 4950.495049504951   226.67696064349326\n",
      "..TurchinHanski  time period 2.9955882352941177  index period 7352.941176470588   819.4016969809145\n",
      "...Blasius  time period 6.60377358490566  index period 4716.981132075472   108.16326530612245\n",
      "...HastingsPowell  time period 135.1875  index period 20833.333333333332   1.139949701144374\n",
      "...SaltonSea  time period 0.9673758865248226  index period 3546.0992907801415   3789.312097419183\n",
      "...CoevolvingPredatorPrey  time period 122.77272727272728  index period 15151.51515151515   1.0051994857216666\n",
      "..........MacArthur  time period 43.40594059405941  index period 9900.990099009901   5.25509150727263\n",
      "...BeerRNN  time period 181.575  index period 24999.999999999996   0.7582770345809777\n",
      "...CellularNeuralNetwork  time period 3.2  index period 4424.778761061947   432.1073008849557\n",
      "......Hopfield  time period 10.865384615384615  index period 9615.384615384615   81.44725507087479\n",
      "....HyperRossler  time period 6.992424242424241  index period 15151.51515151515   309.88497867780063\n",
      "...Rossler  time period 5.90859375  index period 7812.499999999999   223.78025729799432\n"
     ]
    }
   ],
   "source": [
    "# We will make a local copy of the internal database\n",
    "path_output = \"./chaotic_attractors2.json\"\n",
    "\n",
    "\n",
    "total_length = 40000*100\n",
    "\n",
    "total_length = 500000\n",
    "\n",
    "with open(\"thom/data/chaotic_attractors.json\", \"r\") as file:\n",
    "    data = json.load(file)\n",
    "print(len(data.keys()))\n",
    "\n",
    "for i, item in enumerate(list(data.keys())):\n",
    "    \n",
    "    eq = getattr(thom, item)()\n",
    "    sol = eq.make_trajectory(total_length, method=\"Radau\")\n",
    "    \n",
    "    all_freqs = list()\n",
    "    for comp in sol:\n",
    "        try:\n",
    "            freqs, amps = find_significant_frequencies(comp, return_amplitudes=True, significance_threshold=0.95)\n",
    "            max_freq = freqs[np.argmax(np.abs(amps))]\n",
    "        except:\n",
    "            ## ignores time-like coordinates\n",
    "            continue\n",
    "        all_freqs.append(max_freq)\n",
    "        print(\".\", end='')\n",
    "    period = eq.dt * (1 / np.median(all_freqs))\n",
    "    \n",
    "#     freqs, amps = find_significant_frequencies(sol[0], return_amplitudes=True, significance_threshold=0.95)\n",
    "#     max_freq = freqs[np.argmax(np.abs(amps))]\n",
    "#     period = (1/max_freq) * eq.dt\n",
    "    \n",
    "    #period = np.median([1/freq_from_fft(item) * eq.dt for item in sol])\n",
    "    \n",
    "    data[item][\"period\"] = signif(period, 5)\n",
    "    print(item, \" time period\", period,\" index period\", period/eq.dt, \" \", (1/eq.dt)/period)\n",
    "    \n",
    "with open(path_output, 'w') as f:\n",
    "    json.dump(data, f, indent=4)"
   ]
  },
  {
   "cell_type": "code",
   "execution_count": null,
   "metadata": {},
   "outputs": [],
   "source": [
    "# Find the number of integration timepoints per period\n",
    "\n",
    "import thom\n",
    "\n",
    "transient_fraction = 0.1\n",
    "total_length = 100000\n",
    "points_per_period = 1000\n",
    "\n",
    "for item in list(data.keys())[:10]:\n",
    "    eq = getattr(thom, item)()\n",
    "    sol = eq.make_trajectory(total_length)\n",
    "    \n",
    "    \n",
    "    freq_ceiling = np.max(find_significant_frequencies(sol[0]))\n",
    "    freq_dominant = freq_from_fft(sol[0])\n",
    "    \n",
    "    timepoints_per_cycle = int(freq_ceiling/freq_dominant)\n",
    "    print(timepoints_per_cycle)\n",
    "    \n",
    "    sol = eq.make_trajectory(timepoints_per_cycle*2000)\n",
    "#     sol = eq.make_trajectory(50000)\n",
    "    \n",
    "    plt.plot(np.linspace(0, 1, len(sol[0])), sol[0])\n",
    "    \n",
    "#     plt.figure()\n",
    "#     plt.plot(sol[0], sol[1], 'k')\n",
    "    "
   ]
  },
  {
   "cell_type": "markdown",
   "metadata": {},
   "source": [
    "## Plot attractors with matching dominant timescales\n",
    "\n",
    "+ This does not look great, because the sub-leading timescales are clearly more important for some attractors"
   ]
  },
  {
   "cell_type": "code",
   "execution_count": 3,
   "metadata": {},
   "outputs": [
    {
     "name": "stdout",
     "output_type": "stream",
     "text": [
      "54226\n",
      "82329\n",
      "8698\n",
      "103244\n",
      "2807\n",
      "10818\n",
      "5741\n",
      "1251\n",
      "9800\n",
      "103575\n"
     ]
    },
    {
     "name": "stderr",
     "output_type": "stream",
     "text": [
      "/Users/williamgilpin/program_repos/thom/thom/thom.py:264: RuntimeWarning: overflow encountered in exp\n",
      "  zdot = -z - x  - self.eps*(np.exp(y/self.y0) - 1)\n"
     ]
    },
    {
     "name": "stdout",
     "output_type": "stream",
     "text": [
      "432\n",
      "86205\n",
      "1062\n",
      "102916\n",
      "26910\n",
      "819\n",
      "22441\n",
      "13451\n",
      "103295\n",
      "2677\n"
     ]
    },
    {
     "data": {
      "image/png": "[encoded data removed]",
      "text/plain": [
       "<Figure size 432x288 with 1 Axes>"
      ]
     },
     "metadata": {
      "needs_background": "light"
     },
     "output_type": "display_data"
    }
   ],
   "source": [
    "# Find the number of integration timepoints per period\n",
    "\n",
    "import thom\n",
    "\n",
    "transient_fraction = 0.1\n",
    "total_length = 100000\n",
    "points_per_period = 1000\n",
    "\n",
    "all_attractors = get_attractor_list()\n",
    "\n",
    "for item in all_attractors[:20]:\n",
    "    eq = getattr(thom, item)()\n",
    "    sol = eq.make_trajectory(total_length, method=\"Radau\", resample=False)\n",
    "    \n",
    "    \n",
    "    freq_ceiling = np.max(find_significant_frequencies(sol[0]))\n",
    "    freq_dominant = freq_from_fft(sol[0])\n",
    "    \n",
    "    timepoints_per_cycle = int(freq_ceiling/freq_dominant)\n",
    "    print(timepoints_per_cycle)\n",
    "    \n",
    "    sol = eq.make_trajectory(timepoints_per_cycle*200)\n",
    "#     sol = eq.make_trajectory(50000)\n",
    "    \n",
    "    samp = sol[0]\n",
    "    samp = (samp - np.mean(samp)) / np.std(samp)\n",
    "    plt.plot(np.linspace(0, 1, len(sol[0])), samp)\n",
    "    \n",
    "#     plt.figure()\n",
    "#     plt.plot(sol[0], sol[1], 'k')\n",
    "    "
   ]
  },
  {
   "cell_type": "code",
   "execution_count": 49,
   "metadata": {},
   "outputs": [
    {
     "name": "stdout",
     "output_type": "stream",
     "text": [
      "YuWang\n",
      "YuWang2\n",
      "ZhouChen\n"
     ]
    },
    {
     "data": {
      "image/png": "[encoded data removed]",
      "text/plain": [
       "<Figure size 432x288 with 1 Axes>"
      ]
     },
     "metadata": {
      "needs_background": "light"
     },
     "output_type": "display_data"
    }
   ],
   "source": [
    "# Find the number of integration timepoints per period\n",
    "\n",
    "import thom\n",
    "\n",
    "transient_fraction = 0.1\n",
    "total_length = 500\n",
    "\n",
    "all_attractors = get_attractor_list()\n",
    "\n",
    "for item in all_attractors[110:]:\n",
    "    print(item)\n",
    "    eq = getattr(thom, item)()\n",
    "    sol = eq.make_trajectory(total_length, method=\"Radau\", resample=True)\n",
    "    \n",
    "    \n",
    "#     freq_ceiling = np.max(find_significant_frequencies(sol[0]))\n",
    "#     freq_dominant = freq_from_fft(sol[0])\n",
    "    \n",
    "#     timepoints_per_cycle = int(freq_ceiling/freq_dominant)\n",
    "#     print(timepoints_per_cycle)\n",
    "    \n",
    "#     sol = eq.make_trajectory(total_length)\n",
    "#     sol = eq.make_trajectory(50000)\n",
    "    \n",
    "    samp = sol[0]\n",
    "    samp = (samp - np.mean(samp)) / np.std(samp)\n",
    "    plt.plot(samp)\n",
    "    \n",
    "#     plt.figure()\n",
    "#     plt.plot(sol[0], sol[1], 'k')\n",
    "    \n",
    "# plt.gca().legend()"
   ]
  },
  {
   "cell_type": "code",
   "execution_count": 43,
   "metadata": {},
   "outputs": [
    {
     "data": {
      "text/plain": [
       "[<matplotlib.lines.Line2D at 0x7fb688709b80>]"
      ]
     },
     "execution_count": 43,
     "metadata": {},
     "output_type": "execute_result"
    },
    {
     "data": {
      "image/png": "[encoded data removed]",
      "text/plain": [
       "<Figure size 432x288 with 1 Axes>"
      ]
     },
     "metadata": {
      "needs_background": "light"
     },
     "output_type": "display_data"
    }
   ],
   "source": [
    "all_attractors = get_attractor_list()\n",
    "\n",
    "eq = getattr(thom, all_attractors[50])()\n",
    "\n",
    "eq = getattr(thom, \"PanXuZhou\")()\n",
    "# eq.period *= 0.15\n",
    "# eq = getattr(thom, \"Lorenz\")()\n",
    "sol = eq.make_trajectory(total_length, method=\"Radau\", resample=True)\n",
    "\n",
    "samp = sol[0]\n",
    "samp = (samp - np.mean(samp)) / np.std(samp)\n",
    "plt.plot(samp)"
   ]
  },
  {
   "cell_type": "code",
   "execution_count": null,
   "metadata": {},
   "outputs": [],
   "source": []
  },
  {
   "cell_type": "code",
   "execution_count": null,
   "metadata": {},
   "outputs": [],
   "source": []
  },
  {
   "cell_type": "code",
   "execution_count": null,
   "metadata": {},
   "outputs": [],
   "source": []
  },
  {
   "cell_type": "code",
   "execution_count": null,
   "metadata": {},
   "outputs": [],
   "source": []
  },
  {
   "cell_type": "code",
   "execution_count": null,
   "metadata": {},
   "outputs": [],
   "source": []
  },
  {
   "cell_type": "code",
   "execution_count": 27,
   "metadata": {},
   "outputs": [],
   "source": [
    "\n",
    "# insert a control function that takes the current values of all vars and adds forcing\n",
    "\n",
    "# various functions for sampling from each system, and removing transients\n",
    "\n",
    "# function that goes to numba\n",
    "\n",
    "# function that couples attractors together (can use slaving to force chaos)"
   ]
  },
  {
   "cell_type": "code",
   "execution_count": null,
   "metadata": {},
   "outputs": [],
   "source": [
    "#https://stackoverflow.com/questions/1796180/how-can-i-get-a-list-of-all-classes-within-current-module-in-python"
   ]
  },
  {
   "cell_type": "code",
   "execution_count": null,
   "metadata": {},
   "outputs": [],
   "source": [
    "## Some day have an API working\n",
    "\n",
    "import inspect\n",
    "\n",
    "\n",
    "def generate_data(model, n_samples, params, frac_perturb_param=.1, \n",
    "                             n_classes=2, frac_transient=0.1, \n",
    "                             ic_range=None,\n",
    "                            random_state=0):\n",
    "    \"\"\"\n",
    "    Generate an ensemble of trajectories with random initial conditions, labelled by different\n",
    "    sets of parameters.\n",
    "\n",
    "    model : an instantiation of a dynamical system\n",
    "    tpts : the timesteps over which to run the simulation\n",
    "    params : iterable, the starting values for the parameters\n",
    "    n_samples : int, the number of different initial conditons\n",
    "    n_classes : int , the number of different parameters\n",
    "    frac_perturb_param : float, the amount to perturb the parameters by\n",
    "    frac_transient : float, the fraction of time for the time series to settle onto the attractor\n",
    "    ic_range : a starting value for the initial conditions\n",
    "    random_state : int, the seed for the random number generator\n",
    "    \"\"\"\n",
    "\n",
    "    num_per_class = int(n_samples/n_classes)\n",
    "\n",
    "    params = inspect.getfullargspec(model.__init__).defaults # get default values of params\n",
    "    \n",
    "    params = model.get_params()\n",
    "\n",
    "    param_fractional_perturb = frac_perturb*2*(np.random(len(model.default_params)) - 0.5)\n",
    "    params = model.default_params*param_fractional_perturb\n",
    "\n",
    "    mod = model(*params)\n",
    "    \n",
    "    \n",
    "    \n",
    "    \n",
    "    np.random.seed(random_state)\n",
    "    \n",
    "    ntpts = len(tpts0)\n",
    "    dt = tpts0[1] - tpts0[0]\n",
    "    t_range = tpts0[-1] - tpts0[0]\n",
    "    tpts = np.arange(tpts0[0], tpts0[0] + t_range*(1 + frac_transient), dt)\n",
    "    \n",
    "    all_params = list()\n",
    "    all_samples = list()\n",
    "    for i in range(n_classes):\n",
    "    \n",
    "        params_perturb = 1 + frac_perturb_param*(2*np.random.random(len(params)) - 1)\n",
    "        params_prime = params*params_perturb\n",
    "        all_params.append(params_prime)\n",
    "    \n",
    "        eq = Lorenz(*params_prime)\n",
    "        \n",
    "        all_samples_per_class = list()\n",
    "        for j in range(num_per_class):\n",
    "            ic_prime = (-8.60632853, -14.85273055,  15.53352487)*np.random.random(3)\n",
    "            sol = integrate_dyn(eq, ic_prime, tpts)\n",
    "            \n",
    "            all_samples_per_class.append(sol[:, -ntpts:]) # remove transient\n",
    "        all_samples.append(all_samples_per_class)\n",
    "    \n",
    "    all_samples, all_params = np.array(all_samples), np.array(all_params)\n",
    "    return all_samples, all_params"
   ]
  },
  {
   "cell_type": "code",
   "execution_count": null,
   "metadata": {},
   "outputs": [],
   "source": [
    "model = Lorenz() # λ1 = 2.16, λ2 = 0, λ3 = −32.4\n",
    "model.sigma = 16\n",
    "model.rho = 45.92\n",
    "model.beta = 4.0\n",
    "model.dt = 1e-4\n",
    "\n",
    "# model = Rossler() # λ1z = 0.13, λ2 = 0, λ3 = −14.1\n",
    "# model.a = 0.15\n",
    "# model.b = 0.2\n",
    "# model.c = 10\n",
    "# model.dt = 1e-3\n",
    "\n",
    "points_to_sample = 20 # number of points to sample in ensemble\n",
    "pts_to_estimate_jacobian = 200\n",
    "pts_per_trajectory = 1000 # number of timesteps to use to find the jacobian\n",
    "pred_step = 1\n",
    "\n",
    "lyap_list = list()\n",
    "\n",
    "initial_sol = model.make_trajectory(1000, resample=True, pts_per_period=30)\n",
    "sample_inds = np.random.choice(np.arange(initial_sol.shape[-1]), points_to_sample, replace=False)\n",
    "sample_pts = initial_sol[:, sample_inds].T\n",
    "d = initial_sol.shape[0]\n",
    "print(\"Finished selecting initial points on attractor.\")\n",
    "\n",
    "# analytic jacobian for lorenz\n",
    "def jac(X, t, model):\n",
    "    x, y, z = X\n",
    "    return np.array([[-model.sigma, model.sigma, 0], [model.rho - z, -1, -x], [y, x, -model.beta]])\n",
    "\n",
    "jac(initial_sol[:, -1], 0, model)\n",
    "\n",
    "all_estimates_lyap = list()\n",
    "for j, sample_pt in enumerate(sample_pts):\n",
    "    if j % 5 == 0: print(j)\n",
    "        \n",
    "\n",
    "#     model.ic = sample_pt\n",
    "#     model.ic = make_epsilon_ball(model.ic, pts_to_estimate_jacobian, eps=1e-8).T\n",
    "#     tpts, traj_ball = model.make_trajectory(pts_per_trajectory, pts_per_period=80, \n",
    "#                                             resample=True, return_times=True)\n",
    "#     dt = np.median(np.diff(tpts))\n",
    "#     traj_ball -= np.mean(traj_ball, axis=0) # subtract center of ball\n",
    "    \n",
    "    curr = sample_pt\n",
    "    \n",
    "    old_Q = np.identity(d)\n",
    "    lexp = np.zeros(d)\n",
    "    lexp_counts = np.zeros(lexp.shape)\n",
    "    for i in range(pred_step, pts_per_trajectory): # number of timepoints\n",
    "\n",
    "        x0 = make_epsilon_ball(curr, pts_to_estimate_jacobian, eps=1e-5).T\n",
    "        y0 = x0 + np.vstack(model.rhs(x0, 0)).T * model.dt\n",
    "        x = x0 - np.mean(x0, axis=0)\n",
    "        y = y0 - np.mean(y0, axis=0)\n",
    "        curr = model.make_trajectory(2, resample=False)[:, -1]\n",
    "            \n",
    "        \n",
    "            \n",
    "#         x = traj_ball[:, i - pred_step]\n",
    "#         y = traj_ball[:, i]\n",
    "        \n",
    "        \n",
    "        xinv = np.linalg.pinv(x.T)\n",
    "        tm = np.dot(y.T, xinv)\n",
    "        \n",
    "        \n",
    "        tm = jac(curr, 0, model)\n",
    "        \n",
    "        \n",
    "        mat_T = tm\n",
    "        # QR-decomposition of T * old_Q\n",
    "        mat_Q, mat_R = np.linalg.qr(np.dot(mat_T, old_Q))\n",
    "        # force diagonal of R to be positive\n",
    "        # (if QR = A then also QLL'R = A with L' = L^-1)\n",
    "        sign_diag = np.sign(np.diag(mat_R))\n",
    "        sign_diag[np.where(sign_diag == 0)] = 1\n",
    "        sign_diag = np.diag(sign_diag)\n",
    "        mat_Q = np.dot(mat_Q, sign_diag)\n",
    "        mat_R = np.dot(sign_diag, mat_R)\n",
    "\n",
    "        old_Q = mat_Q\n",
    "        # successively build sum for Lyapunov exponents\n",
    "        diag_R = np.diag(mat_R)\n",
    "        # filter zeros in mat_R (would lead to -infs)\n",
    "        idx = np.where(diag_R > 0)\n",
    "        lexp_i = np.zeros(diag_R.shape)\n",
    "        lexp_i[idx] = np.log(diag_R[idx])\n",
    "        lexp_i[np.where(diag_R == 0)] = np.inf\n",
    "#         if debug_plot or debug_data:\n",
    "#             debug_values.append(lexp_i / tau / m)\n",
    "        lexp[idx] += lexp_i[idx]\n",
    "        lexp_counts[idx] += 1\n",
    "\n",
    "    \n",
    "     # normalize exponents over number of individual mat_Rs\n",
    "    idx = np.where(lexp_counts > 0)\n",
    "    lexp[idx] /= lexp_counts[idx]\n",
    "    lexp[np.where(lexp_counts == 0)] = np.inf\n",
    "    # normalize with respect to timestep (also and number of steps?)\n",
    "    lexp /= (pred_step * dt)\n",
    "    all_estimates_lyap.append(lexp)\n",
    "    \n",
    "#     print(lexp)\n",
    "    print(\"\\nCurrent Median Estimate: \", np.median(np.array(all_estimates_lyap), axis=0))\n",
    "    \n",
    "  \n",
    "print(\"\\nFinal Estimate: \", np.median(np.array(all_estimates_lyap), axis=0))\n",
    "\n",
    "#     traj_ball -= np.mean(traj_ball, axis=0, keepdims=True)\n",
    "\n",
    "#     cov = np.einsum(\"kim,kin->imn\", traj_ball, traj_ball) / (traj_ball.shape[0] - 1)\n",
    "#     eigs, vecs = np.linalg.eigh(cov)\n",
    "#     rads = np.sqrt(eigs)\n",
    "#     rads /= rads[0, :][None, :]\n",
    "\n",
    "#     assert np.all(np.diff(np.argsort(eigs, axis=1), axis=1) == 1), \"Eigenvalues are not sorted; please report this bug.\"\n",
    "\n",
    "#     xinds = np.tile(np.arange(eigs.shape[0]), (eigs.shape[1], 1))\n",
    "\n",
    "#     # rads = np.sqrt(np.sum((traj_ball[[1, 2, 9]] - traj_ball[[3, 4, 8]])**2, axis=-1).T)\n",
    "#     # rads /= rads[0, :][None, :]\n",
    "\n",
    "    \n",
    "#     all_lyap = find_slope(xinds, np.log(rads.T)) / dt\n",
    "\n",
    "#     print(all_lyap)\n",
    "    \n",
    "#     lyap_list.append(all_lyap)\n",
    "    \n",
    "# print(\"\\nFinal estimate: \", np.median(np.array(lyap_list), axis=0)[::-1])    \n",
    "\n",
    "# p = np.polyfit(np.arange(len(item)), np.log(item), 1)\n",
    "# poly = np.poly1d(p)\n",
    "\n",
    "# cov = np.cov(x_std.T)\n",
    "# ev , eig = np.linalg.eig(cov)\n",
    "# a = eig.dot(x_std.T)\n"
   ]
  },
  {
   "cell_type": "code",
   "execution_count": null,
   "metadata": {},
   "outputs": [],
   "source": []
  },
  {
   "cell_type": "code",
   "execution_count": null,
   "metadata": {},
   "outputs": [],
   "source": []
  },
  {
   "cell_type": "code",
   "execution_count": null,
   "metadata": {},
   "outputs": [],
   "source": []
  }
 ],
 "metadata": {
  "kernelspec": {
   "display_name": "Python 3",
   "language": "python",
   "name": "python3"
  },
  "language_info": {
   "codemirror_mode": {
    "name": "ipython",
    "version": 3
   },
   "file_extension": ".py",
   "mimetype": "text/x-python",
   "name": "python",
   "nbconvert_exporter": "python",
   "pygments_lexer": "ipython3",
   "version": "3.8.5"
  }
 },
 "nbformat": 4,
 "nbformat_minor": 4
}
