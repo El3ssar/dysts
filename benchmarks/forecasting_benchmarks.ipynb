{
 "cells": [
  {
   "cell_type": "code",
   "execution_count": 1,
   "metadata": {},
   "outputs": [],
   "source": [
    "import sys\n",
    "\n",
    "import matplotlib.pyplot as plt\n",
    "import json\n",
    "\n",
    "import dysts\n",
    "from dysts.datasets import *\n",
    "\n",
    "from dysts.flows import *\n",
    "from dysts.base import *\n",
    "from dysts.utils import *\n",
    "from dysts.analysis import *\n",
    "\n",
    "\n",
    "\n",
    "# try:\n",
    "#     from private.lyap import lyap_r, lyap_e, corr_dim\n",
    "# except:\n",
    "#     from nolds import lyap_r, lyap_e, corr_dim\n",
    "\n",
    "\n",
    "%load_ext autoreload\n",
    "%autoreload 2"
   ]
  },
  {
   "cell_type": "code",
   "execution_count": 6,
   "metadata": {},
   "outputs": [],
   "source": [
    "\n",
    "\n",
    "\n",
    "# from darts.models import ExponentialSmoothing\n",
    "\n",
    "# model = ExponentialSmoothing()\n",
    "# model.fit(train)\n",
    "# prediction = model.predict(len(val))"
   ]
  },
  {
   "cell_type": "code",
   "execution_count": 6,
   "metadata": {},
   "outputs": [
    {
     "name": "stderr",
     "output_type": "stream",
     "text": [
      "Importing plotly failed. Interactive plots will not work.\n"
     ]
    }
   ],
   "source": [
    "import darts.models"
   ]
  },
  {
   "cell_type": "code",
   "execution_count": 104,
   "metadata": {},
   "outputs": [],
   "source": []
  },
  {
   "cell_type": "code",
   "execution_count": 106,
   "metadata": {},
   "outputs": [
    {
     "data": {
      "text/plain": [
       "<darts.models.random_forest.RandomForest at 0x7fb6bb7d8d60>"
      ]
     },
     "execution_count": 106,
     "metadata": {},
     "output_type": "execute_result"
    }
   ],
   "source": [
    "hyperparameters = {\"lags\": 10, \"lags_exog\": 10}\n",
    "darts.models.RandomForest(**hyperparameters)"
   ]
  },
  {
   "cell_type": "code",
   "execution_count": 185,
   "metadata": {},
   "outputs": [
    {
     "name": "stdout",
     "output_type": "stream",
     "text": [
      "AutoARIMA\n",
      "ExponentialSmoothing\n",
      "FFT\n"
     ]
    },
    {
     "name": "stderr",
     "output_type": "stream",
     "text": [
      "/Users/williamgilpin/miniconda3/envs/nn/lib/python3.8/site-packages/statsmodels/tsa/holtwinters/model.py:427: FutureWarning: After 0.13 initialization must be handled at model creation\n",
      "  warnings.warn(\n",
      "[2021-06-10 08:48:21,877] INFO | darts.models.theta | FourTheta model inferred seasonality of training series: 67\n",
      "[2021-06-10 08:48:21,877] INFO | darts.models.theta | FourTheta model inferred seasonality of training series: 67\n",
      "INFO:darts.models.theta:FourTheta model inferred seasonality of training series: 67\n",
      "[2021-06-10 08:48:21,888] WARNING | darts.models.theta | Time series has negative values. Fallback to additive and linear model\n",
      "[2021-06-10 08:48:21,888] WARNING | darts.models.theta | Time series has negative values. Fallback to additive and linear model\n",
      "WARNING:darts.models.theta:Time series has negative values. Fallback to additive and linear model\n"
     ]
    },
    {
     "name": "stdout",
     "output_type": "stream",
     "text": [
      "FourTheta\n",
      "LinearRegressionModel\n"
     ]
    },
    {
     "name": "stderr",
     "output_type": "stream",
     "text": [
      "[2021-06-10 08:48:24,600] INFO | darts.models.torch_forecasting_model | Train dataset contains 761 samples.\n",
      "[2021-06-10 08:48:24,600] INFO | darts.models.torch_forecasting_model | Train dataset contains 761 samples.\n",
      "INFO:darts.models.torch_forecasting_model:Train dataset contains 761 samples.\n"
     ]
    },
    {
     "name": "stdout",
     "output_type": "stream",
     "text": [
      "NaiveDrift\n",
      "NaiveMean\n",
      "NaiveSeasonal\n",
      "NBEATSModel\n"
     ]
    },
    {
     "name": "stderr",
     "output_type": "stream",
     "text": [
      "INFO:fbprophet:Disabling yearly seasonality. Run prophet with yearly_seasonality=True to override this.\n",
      "INFO:fbprophet:Disabling weekly seasonality. Run prophet with weekly_seasonality=True to override this.\n",
      "INFO:fbprophet:Disabling daily seasonality. Run prophet with daily_seasonality=True to override this.\n"
     ]
    },
    {
     "name": "stdout",
     "output_type": "stream",
     "text": [
      "Prophet\n",
      "RandomForest\n"
     ]
    },
    {
     "name": "stderr",
     "output_type": "stream",
     "text": [
      "[2021-06-10 08:52:03,852] INFO | darts.models.torch_forecasting_model | Train dataset contains 761 samples.\n",
      "[2021-06-10 08:52:03,852] INFO | darts.models.torch_forecasting_model | Train dataset contains 761 samples.\n",
      "INFO:darts.models.torch_forecasting_model:Train dataset contains 761 samples.\n",
      "[2021-06-10 08:52:03,872] INFO | darts.models.tcn_model | Number of layers chosen: 4\n",
      "[2021-06-10 08:52:03,872] INFO | darts.models.tcn_model | Number of layers chosen: 4\n",
      "INFO:darts.models.tcn_model:Number of layers chosen: 4\n"
     ]
    },
    {
     "name": "stdout",
     "output_type": "stream",
     "text": [
      "TCNModel\n"
     ]
    },
    {
     "name": "stderr",
     "output_type": "stream",
     "text": [
      "[2021-06-10 08:52:17,096] INFO | darts.models.theta | Theta model inferred seasonality of training series: 67\n",
      "[2021-06-10 08:52:17,096] INFO | darts.models.theta | Theta model inferred seasonality of training series: 67\n",
      "INFO:darts.models.theta:Theta model inferred seasonality of training series: 67\n"
     ]
    },
    {
     "name": "stdout",
     "output_type": "stream",
     "text": [
      "Theta\n"
     ]
    },
    {
     "name": "stderr",
     "output_type": "stream",
     "text": [
      "/Users/williamgilpin/miniconda3/envs/nn/lib/python3.8/site-packages/statsmodels/tsa/holtwinters/model.py:427: FutureWarning: After 0.13 initialization must be handled at model creation\n",
      "  warnings.warn(\n"
     ]
    }
   ],
   "source": [
    "\n",
    "import darts\n",
    "import darts.models\n",
    "\n",
    "all_models = [\n",
    "        'ARIMA',\n",
    "        'AutoARIMA',\n",
    "#         'EnsembleModel',\n",
    "        'ExponentialSmoothing',\n",
    "        'FFT',\n",
    "        'FourTheta',\n",
    "        'LinearRegressionModel',\n",
    "        'NBEATSModel',\n",
    "        'NaiveDrift',\n",
    "        'NaiveEnsembleModel',\n",
    "        'NaiveMean',\n",
    "        'NaiveSeasonal',\n",
    "        'Prophet',\n",
    "        'RNNModel',\n",
    "        'RandomForest',\n",
    "        'TCNModel',\n",
    "        'Theta',\n",
    "        'TransformerModel',\n",
    "        'VARIMA']\n",
    "\n",
    "all_models = [\n",
    "        ('AutoARIMA', {}),\n",
    "        ('ExponentialSmoothing', {}),\n",
    "        ('FFT', {}),\n",
    "        ('FourTheta', {\"season_mode\": darts.utils.utils.SeasonalityMode.ADDITIVE}),\n",
    "        ('LinearRegressionModel', {\"lags\": 10}),\n",
    "        ('NaiveDrift', {}),\n",
    "        ('NaiveMean', {}),\n",
    "        ('NaiveSeasonal', {}),\n",
    "        ('NBEATSModel', {\"input_chunk_length\": 40, \"output_chunk_length\": 1}),\n",
    "        ('Prophet', {}),\n",
    "        ('RandomForest', {\"lags\": 10, \"lags_exog\": None}),\n",
    "        ('TCNModel', {\"input_chunk_length\": 40, \"output_chunk_length\": 1}),\n",
    "        ('Theta', {\"season_mode\": darts.utils.utils.SeasonalityMode.ADDITIVE})\n",
    "#         ('VARIMA', {})\n",
    "]\n",
    "\n",
    "\n",
    "\n",
    "train_data = load_continuous(subsets=\"train\").to_array()[0]\n",
    "test_data = load_continuous(subsets=\"test\").to_array()[0]\n",
    "\n",
    "split_point = int(0.8 * len(train_data))\n",
    "\n",
    "all_predictions = list()\n",
    "for model_name, hyperparameters in all_models:\n",
    "    print(model_name)\n",
    "    model = getattr(darts.models, model_name)(**hyperparameters)\n",
    "    \n",
    "    train_df = TimeSeries.from_dataframe(pd.DataFrame(train_data))\n",
    "    train, val = train_df.split_after(split_point)\n",
    "    model.fit(train)\n",
    "    prediction = model.predict(len(val))\n",
    "    all_predictions.append(np.squeeze(prediction.values()))"
   ]
  },
  {
   "cell_type": "code",
   "execution_count": null,
   "metadata": {},
   "outputs": [],
   "source": [
    "\n",
    "names = \n",
    "models =\n",
    "metrics =\n",
    "benchmark_forecasts = pd.DataFrame"
   ]
  },
  {
   "cell_type": "code",
   "execution_count": null,
   "metadata": {},
   "outputs": [],
   "source": [
    "ModelMode.ADDITIVE"
   ]
  },
  {
   "cell_type": "code",
   "execution_count": 166,
   "metadata": {},
   "outputs": [
    {
     "data": {
      "text/plain": [
       "\u001b[0;31mInit signature:\u001b[0m\n",
       "\u001b[0mdarts\u001b[0m\u001b[0;34m.\u001b[0m\u001b[0mmodels\u001b[0m\u001b[0;34m.\u001b[0m\u001b[0mNBEATSModel\u001b[0m\u001b[0;34m(\u001b[0m\u001b[0;34m\u001b[0m\n",
       "\u001b[0;34m\u001b[0m    \u001b[0minput_chunk_length\u001b[0m\u001b[0;34m:\u001b[0m \u001b[0mint\u001b[0m\u001b[0;34m,\u001b[0m\u001b[0;34m\u001b[0m\n",
       "\u001b[0;34m\u001b[0m    \u001b[0moutput_chunk_length\u001b[0m\u001b[0;34m:\u001b[0m \u001b[0mint\u001b[0m\u001b[0;34m,\u001b[0m\u001b[0;34m\u001b[0m\n",
       "\u001b[0;34m\u001b[0m    \u001b[0mgeneric_architecture\u001b[0m\u001b[0;34m:\u001b[0m \u001b[0mbool\u001b[0m \u001b[0;34m=\u001b[0m \u001b[0;32mTrue\u001b[0m\u001b[0;34m,\u001b[0m\u001b[0;34m\u001b[0m\n",
       "\u001b[0;34m\u001b[0m    \u001b[0mnum_stacks\u001b[0m\u001b[0;34m:\u001b[0m \u001b[0mint\u001b[0m \u001b[0;34m=\u001b[0m \u001b[0;36m30\u001b[0m\u001b[0;34m,\u001b[0m\u001b[0;34m\u001b[0m\n",
       "\u001b[0;34m\u001b[0m    \u001b[0mnum_blocks\u001b[0m\u001b[0;34m:\u001b[0m \u001b[0mint\u001b[0m \u001b[0;34m=\u001b[0m \u001b[0;36m1\u001b[0m\u001b[0;34m,\u001b[0m\u001b[0;34m\u001b[0m\n",
       "\u001b[0;34m\u001b[0m    \u001b[0mnum_layers\u001b[0m\u001b[0;34m:\u001b[0m \u001b[0mint\u001b[0m \u001b[0;34m=\u001b[0m \u001b[0;36m4\u001b[0m\u001b[0;34m,\u001b[0m\u001b[0;34m\u001b[0m\n",
       "\u001b[0;34m\u001b[0m    \u001b[0mlayer_widths\u001b[0m\u001b[0;34m:\u001b[0m \u001b[0mUnion\u001b[0m\u001b[0;34m[\u001b[0m\u001b[0mint\u001b[0m\u001b[0;34m,\u001b[0m \u001b[0mList\u001b[0m\u001b[0;34m[\u001b[0m\u001b[0mint\u001b[0m\u001b[0;34m]\u001b[0m\u001b[0;34m]\u001b[0m \u001b[0;34m=\u001b[0m \u001b[0;36m256\u001b[0m\u001b[0;34m,\u001b[0m\u001b[0;34m\u001b[0m\n",
       "\u001b[0;34m\u001b[0m    \u001b[0mexpansion_coefficient_dim\u001b[0m\u001b[0;34m:\u001b[0m \u001b[0mint\u001b[0m \u001b[0;34m=\u001b[0m \u001b[0;36m5\u001b[0m\u001b[0;34m,\u001b[0m\u001b[0;34m\u001b[0m\n",
       "\u001b[0;34m\u001b[0m    \u001b[0mtrend_polynomial_degree\u001b[0m\u001b[0;34m:\u001b[0m \u001b[0mint\u001b[0m \u001b[0;34m=\u001b[0m \u001b[0;36m2\u001b[0m\u001b[0;34m,\u001b[0m\u001b[0;34m\u001b[0m\n",
       "\u001b[0;34m\u001b[0m    \u001b[0;34m**\u001b[0m\u001b[0mkwargs\u001b[0m\u001b[0;34m,\u001b[0m\u001b[0;34m\u001b[0m\n",
       "\u001b[0;34m\u001b[0m\u001b[0;34m)\u001b[0m\u001b[0;34m\u001b[0m\u001b[0;34m\u001b[0m\u001b[0m\n",
       "\u001b[0;31mDocstring:\u001b[0m     \n",
       "The base class for \"global\" forecasting models, handling several time series and optional covariates.\n",
       "\n",
       "All implementations have to implement the `fit()` and `predict()` methods defined below.\n",
       "The `fit()` method is meant to train the model on one or several training time series, along with optional\n",
       "covariates. Note that not all global models support covariates.\n",
       "\n",
       "If `fit()` has been called with only one training series as argument, then calling `predict()` will\n",
       "forecast the future of this series. Otherwise, the user has to provide to `predict()` the series they want\n",
       "to forecast, as well as covariates if needed.\n",
       "\u001b[0;31mInit docstring:\u001b[0m\n",
       "Neural Basis Expansion Analysis Time Series Forecasting (N-BEATS).\n",
       "\n",
       "This is an implementation of the N-BEATS architecture, as outlined in this paper:\n",
       "https://openreview.net/forum?id=r1ecqn4YwB\n",
       "\n",
       "In addition to the univariate version presented in the paper, our implementation also\n",
       "supports multivariate series (and covariates) by flattening the model inputs to a 1-D series\n",
       "and reshaping the outputs to a tensor of appropriate dimensions.\n",
       "\n",
       "Parameters\n",
       "----------\n",
       "input_chunk_length\n",
       "    The length of the input sequence fed to the model.\n",
       "output_chunk_length\n",
       "    The length of the forecast of the model.\n",
       "generic_architecture\n",
       "    Boolean value indicating whether the generic architecture of N-BEATS is used.\n",
       "    If not, the interpretable architecture outlined in the paper (consisting of one trend\n",
       "    and one seasonality stack with appropriate waveform generator functions).\n",
       "num_stacks\n",
       "    The number of stacks that make up the whole model. Only used if `generic_architecture` is set to `True`.\n",
       "    The interpretable architecture always uses two stacks - one for trend and one for seasonality.\n",
       "num_blocks\n",
       "    The number of blocks making up every stack.\n",
       "num_layers\n",
       "    The number of fully connected layers preceding the final forking layers in each block of every stack.\n",
       "    Only used if `generic_architecture` is set to `True`.\n",
       "layer_widths\n",
       "    Determines the number of neurons that make up each fully connected layer in each block of every stack.\n",
       "    If a list is passed, it must have a length equal to `num_stacks` and every entry in that list corresponds\n",
       "    to the layer width of the corresponding stack. If an integer is passed, every stack will have blocks\n",
       "    with FC layers of the same width.\n",
       "expansion_coefficient_dim\n",
       "    The dimensionality of the waveform generator parameters, also known as expansion coefficients.\n",
       "    Only used if `generic_architecture` is set to `True`.\n",
       "trend_polynomial_degree\n",
       "    The degree of the polynomial used as waveform generator in trend stacks. Only used if\n",
       "    `generic_architecture` is set to `False`.\n",
       "random_state\n",
       "    Control the randomness of the weights initialization. Check this\n",
       "    `link <https://scikit-learn.org/stable/glossary.html#term-random-state>`_ for more details.\n",
       "\u001b[0;31mFile:\u001b[0m           ~/miniconda3/envs/nn/lib/python3.8/site-packages/darts/models/nbeats.py\n",
       "\u001b[0;31mType:\u001b[0m           ABCMeta\n",
       "\u001b[0;31mSubclasses:\u001b[0m     \n"
      ]
     },
     "metadata": {},
     "output_type": "display_data"
    }
   ],
   "source": [
    "?darts.models.NBEATSModel"
   ]
  },
  {
   "cell_type": "code",
   "execution_count": 68,
   "metadata": {},
   "outputs": [
    {
     "data": {
      "text/plain": [
       "\u001b[0;31mInit signature:\u001b[0m\n",
       "\u001b[0mdarts\u001b[0m\u001b[0;34m.\u001b[0m\u001b[0mutils\u001b[0m\u001b[0;34m.\u001b[0m\u001b[0mutils\u001b[0m\u001b[0;34m.\u001b[0m\u001b[0mSeasonalityMode\u001b[0m\u001b[0;34m(\u001b[0m\u001b[0;34m\u001b[0m\n",
       "\u001b[0;34m\u001b[0m    \u001b[0mvalue\u001b[0m\u001b[0;34m,\u001b[0m\u001b[0;34m\u001b[0m\n",
       "\u001b[0;34m\u001b[0m    \u001b[0mnames\u001b[0m\u001b[0;34m=\u001b[0m\u001b[0;32mNone\u001b[0m\u001b[0;34m,\u001b[0m\u001b[0;34m\u001b[0m\n",
       "\u001b[0;34m\u001b[0m    \u001b[0;34m*\u001b[0m\u001b[0;34m,\u001b[0m\u001b[0;34m\u001b[0m\n",
       "\u001b[0;34m\u001b[0m    \u001b[0mmodule\u001b[0m\u001b[0;34m=\u001b[0m\u001b[0;32mNone\u001b[0m\u001b[0;34m,\u001b[0m\u001b[0;34m\u001b[0m\n",
       "\u001b[0;34m\u001b[0m    \u001b[0mqualname\u001b[0m\u001b[0;34m=\u001b[0m\u001b[0;32mNone\u001b[0m\u001b[0;34m,\u001b[0m\u001b[0;34m\u001b[0m\n",
       "\u001b[0;34m\u001b[0m    \u001b[0mtype\u001b[0m\u001b[0;34m=\u001b[0m\u001b[0;32mNone\u001b[0m\u001b[0;34m,\u001b[0m\u001b[0;34m\u001b[0m\n",
       "\u001b[0;34m\u001b[0m    \u001b[0mstart\u001b[0m\u001b[0;34m=\u001b[0m\u001b[0;36m1\u001b[0m\u001b[0;34m,\u001b[0m\u001b[0;34m\u001b[0m\n",
       "\u001b[0;34m\u001b[0m\u001b[0;34m)\u001b[0m\u001b[0;34m\u001b[0m\u001b[0;34m\u001b[0m\u001b[0m\n",
       "\u001b[0;31mDocstring:\u001b[0m      An enumeration.\n",
       "\u001b[0;31mFile:\u001b[0m           ~/miniconda3/envs/nn/lib/python3.8/site-packages/darts/utils/utils.py\n",
       "\u001b[0;31mType:\u001b[0m           EnumMeta\n",
       "\u001b[0;31mSubclasses:\u001b[0m     \n"
      ]
     },
     "metadata": {},
     "output_type": "display_data"
    }
   ],
   "source": [
    "?darts.utils.utils.SeasonalityMode "
   ]
  },
  {
   "cell_type": "code",
   "execution_count": 95,
   "metadata": {},
   "outputs": [
    {
     "ename": "IndexError",
     "evalue": "list index out of range",
     "output_type": "error",
     "traceback": [
      "\u001b[0;31m---------------------------------------------------------------------------\u001b[0m",
      "\u001b[0;31mIndexError\u001b[0m                                Traceback (most recent call last)",
      "\u001b[0;32m<ipython-input-95-77d387c4de71>\u001b[0m in \u001b[0;36m<module>\u001b[0;34m\u001b[0m\n\u001b[0;32m----> 1\u001b[0;31m \u001b[0mall_predictions\u001b[0m\u001b[0;34m[\u001b[0m\u001b[0;36m0\u001b[0m\u001b[0;34m]\u001b[0m\u001b[0;34m\u001b[0m\u001b[0;34m\u001b[0m\u001b[0m\n\u001b[0m",
      "\u001b[0;31mIndexError\u001b[0m: list index out of range"
     ]
    }
   ],
   "source": [
    "all_predictions[0]"
   ]
  },
  {
   "cell_type": "code",
   "execution_count": 62,
   "metadata": {},
   "outputs": [
    {
     "data": {
      "text/plain": [
       "199"
      ]
     },
     "execution_count": 62,
     "metadata": {},
     "output_type": "execute_result"
    }
   ],
   "source": [
    "len(val)"
   ]
  },
  {
   "cell_type": "code",
   "execution_count": 175,
   "metadata": {},
   "outputs": [
    {
     "data": {
      "text/plain": [
       "(200,)"
      ]
     },
     "execution_count": 175,
     "metadata": {},
     "output_type": "execute_result"
    }
   ],
   "source": [
    " train_data[split_point:].shape"
   ]
  },
  {
   "cell_type": "code",
   "execution_count": 184,
   "metadata": {},
   "outputs": [
    {
     "data": {
      "text/plain": [
       "[<matplotlib.lines.Line2D at 0x7fb689afb850>]"
      ]
     },
     "execution_count": 184,
     "metadata": {},
     "output_type": "execute_result"
    },
    {
     "data": {
      "image/png": "[encoded data removed]",
      "text/plain": [
       "<Figure size 432x288 with 1 Axes>"
      ]
     },
     "metadata": {
      "needs_background": "light"
     },
     "output_type": "display_data"
    }
   ],
   "source": [
    "plt.plot(np.arange(split_point, 1000), train_data[split_point:])\n",
    "plt.plot(np.arange(split_point, 999), all_predictions[0])"
   ]
  },
  {
   "cell_type": "code",
   "execution_count": 186,
   "metadata": {},
   "outputs": [
    {
     "data": {
      "image/png": "[encoded data removed]",
      "text/plain": [
       "<Figure size 432x288 with 1 Axes>"
      ]
     },
     "metadata": {
      "needs_background": "light"
     },
     "output_type": "display_data"
    }
   ],
   "source": [
    "plt.plot(np.arange(1000), train_data)\n",
    "# plt.plot(all_predictions)\n",
    "\n",
    "for pred in all_predictions:\n",
    "    plt.plot(np.arange(split_point, 999), pred)\n",
    "    \n"
   ]
  },
  {
   "cell_type": "code",
   "execution_count": 34,
   "metadata": {},
   "outputs": [
    {
     "data": {
      "text/plain": [
       "\u001b[0;31mSignature:\u001b[0m\n",
       "\u001b[0mtrain_df\u001b[0m\u001b[0;34m.\u001b[0m\u001b[0msplit_after\u001b[0m\u001b[0;34m(\u001b[0m\u001b[0;34m\u001b[0m\n",
       "\u001b[0;34m\u001b[0m    \u001b[0msplit_point\u001b[0m\u001b[0;34m:\u001b[0m \u001b[0mUnion\u001b[0m\u001b[0;34m[\u001b[0m\u001b[0mpandas\u001b[0m\u001b[0;34m.\u001b[0m\u001b[0m_libs\u001b[0m\u001b[0;34m.\u001b[0m\u001b[0mtslibs\u001b[0m\u001b[0;34m.\u001b[0m\u001b[0mtimestamps\u001b[0m\u001b[0;34m.\u001b[0m\u001b[0mTimestamp\u001b[0m\u001b[0;34m,\u001b[0m \u001b[0mfloat\u001b[0m\u001b[0;34m,\u001b[0m \u001b[0mint\u001b[0m\u001b[0;34m]\u001b[0m\u001b[0;34m,\u001b[0m\u001b[0;34m\u001b[0m\n",
       "\u001b[0;34m\u001b[0m\u001b[0;34m)\u001b[0m \u001b[0;34m->\u001b[0m \u001b[0mTuple\u001b[0m\u001b[0;34m[\u001b[0m\u001b[0mForwardRef\u001b[0m\u001b[0;34m(\u001b[0m\u001b[0;34m'TimeSeries'\u001b[0m\u001b[0;34m)\u001b[0m\u001b[0;34m,\u001b[0m \u001b[0mForwardRef\u001b[0m\u001b[0;34m(\u001b[0m\u001b[0;34m'TimeSeries'\u001b[0m\u001b[0;34m)\u001b[0m\u001b[0;34m]\u001b[0m\u001b[0;34m\u001b[0m\u001b[0;34m\u001b[0m\u001b[0m\n",
       "\u001b[0;31mDocstring:\u001b[0m\n",
       "Splits the TimeSeries in two, after a provided `split_point`.\n",
       "\n",
       "Parameters\n",
       "----------\n",
       "split_point\n",
       "    A timestamp, float or integer. If float, represents the proportion of the dataset to include in the\n",
       "    first TimeSeries (must be between 0.0 and 1.0). If integer, represents the index position after\n",
       "    which the split is performed. If timestamp, it will be contained in the first TimeSeries, but not\n",
       "    in the second one. The timestamp may not appear in the original TimeSeries index.\n",
       "\n",
       "Returns\n",
       "-------\n",
       "Tuple[TimeSeries, TimeSeries]\n",
       "    A tuple of two time series. The first time series contains the first samples up to the `split_point`,\n",
       "    and the second contains the remaining ones.\n",
       "\u001b[0;31mFile:\u001b[0m      ~/miniconda3/envs/nn/lib/python3.8/site-packages/darts/timeseries.py\n",
       "\u001b[0;31mType:\u001b[0m      method\n"
      ]
     },
     "metadata": {},
     "output_type": "display_data"
    }
   ],
   "source": [
    "?train_df.split_after"
   ]
  },
  {
   "cell_type": "code",
   "execution_count": 29,
   "metadata": {},
   "outputs": [
    {
     "data": {
      "text/html": [
       "<div>\n",
       "<style scoped>\n",
       "    .dataframe tbody tr th:only-of-type {\n",
       "        vertical-align: middle;\n",
       "    }\n",
       "\n",
       "    .dataframe tbody tr th {\n",
       "        vertical-align: top;\n",
       "    }\n",
       "\n",
       "    .dataframe thead th {\n",
       "        text-align: right;\n",
       "    }\n",
       "</style>\n",
       "<table border=\"1\" class=\"dataframe\">\n",
       "  <thead>\n",
       "    <tr style=\"text-align: right;\">\n",
       "      <th></th>\n",
       "      <th>0</th>\n",
       "      <th>1</th>\n",
       "    </tr>\n",
       "  </thead>\n",
       "  <tbody>\n",
       "    <tr>\n",
       "      <th>0</th>\n",
       "      <td>0.0</td>\n",
       "      <td>0.353756</td>\n",
       "    </tr>\n",
       "    <tr>\n",
       "      <th>1</th>\n",
       "      <td>1.0</td>\n",
       "      <td>0.353819</td>\n",
       "    </tr>\n",
       "    <tr>\n",
       "      <th>2</th>\n",
       "      <td>2.0</td>\n",
       "      <td>0.350929</td>\n",
       "    </tr>\n",
       "    <tr>\n",
       "      <th>3</th>\n",
       "      <td>3.0</td>\n",
       "      <td>0.344973</td>\n",
       "    </tr>\n",
       "    <tr>\n",
       "      <th>4</th>\n",
       "      <td>4.0</td>\n",
       "      <td>0.335860</td>\n",
       "    </tr>\n",
       "    <tr>\n",
       "      <th>...</th>\n",
       "      <td>...</td>\n",
       "      <td>...</td>\n",
       "    </tr>\n",
       "    <tr>\n",
       "      <th>995</th>\n",
       "      <td>995.0</td>\n",
       "      <td>-0.389878</td>\n",
       "    </tr>\n",
       "    <tr>\n",
       "      <th>996</th>\n",
       "      <td>996.0</td>\n",
       "      <td>-0.441711</td>\n",
       "    </tr>\n",
       "    <tr>\n",
       "      <th>997</th>\n",
       "      <td>997.0</td>\n",
       "      <td>-0.492419</td>\n",
       "    </tr>\n",
       "    <tr>\n",
       "      <th>998</th>\n",
       "      <td>998.0</td>\n",
       "      <td>-0.541439</td>\n",
       "    </tr>\n",
       "    <tr>\n",
       "      <th>999</th>\n",
       "      <td>999.0</td>\n",
       "      <td>-0.588207</td>\n",
       "    </tr>\n",
       "  </tbody>\n",
       "</table>\n",
       "<p>1000 rows × 2 columns</p>\n",
       "</div>"
      ],
      "text/plain": [
       "         0         1\n",
       "0      0.0  0.353756\n",
       "1      1.0  0.353819\n",
       "2      2.0  0.350929\n",
       "3      3.0  0.344973\n",
       "4      4.0  0.335860\n",
       "..     ...       ...\n",
       "995  995.0 -0.389878\n",
       "996  996.0 -0.441711\n",
       "997  997.0 -0.492419\n",
       "998  998.0 -0.541439\n",
       "999  999.0 -0.588207\n",
       "\n",
       "[1000 rows x 2 columns]"
      ]
     },
     "execution_count": 29,
     "metadata": {},
     "output_type": "execute_result"
    }
   ],
   "source": [
    "pd.DataFrame(np.vstack([np.arange(len(train_data)), train_data]).T, columns=[\"time\", \"vals\"])\n"
   ]
  },
  {
   "cell_type": "code",
   "execution_count": 9,
   "metadata": {},
   "outputs": [],
   "source": [
    "from darts import TimeSeries\n",
    "import pandas as pd\n",
    "# series = TimeSeries.from_dataframe(df, 'Month', '#Passengers')"
   ]
  },
  {
   "cell_type": "code",
   "execution_count": 12,
   "metadata": {},
   "outputs": [
    {
     "data": {
      "text/plain": [
       "                                      0\n",
       "1970-01-01 00:00:00.000000000  0.353756\n",
       "1970-01-01 00:00:00.000000001  0.353819\n",
       "1970-01-01 00:00:00.000000002  0.350929\n",
       "1970-01-01 00:00:00.000000003  0.344973\n",
       "1970-01-01 00:00:00.000000004  0.335860\n",
       "...                                 ...\n",
       "1970-01-01 00:00:00.000000995 -0.389878\n",
       "1970-01-01 00:00:00.000000996 -0.441711\n",
       "1970-01-01 00:00:00.000000997 -0.492419\n",
       "1970-01-01 00:00:00.000000998 -0.541439\n",
       "1970-01-01 00:00:00.000000999 -0.588207\n",
       "\n",
       "[1000 rows x 1 columns]\n",
       "Freq: N"
      ]
     },
     "execution_count": 12,
     "metadata": {},
     "output_type": "execute_result"
    }
   ],
   "source": []
  },
  {
   "cell_type": "code",
   "execution_count": 2,
   "metadata": {},
   "outputs": [
    {
     "data": {
      "text/plain": [
       "(131, 1000)"
      ]
     },
     "execution_count": 2,
     "metadata": {},
     "output_type": "execute_result"
    }
   ],
   "source": [
    "load_continuous(subsets=\"train\").to_array().shape"
   ]
  },
  {
   "cell_type": "code",
   "execution_count": 3,
   "metadata": {},
   "outputs": [
    {
     "data": {
      "text/plain": [
       "(131, 200)"
      ]
     },
     "execution_count": 3,
     "metadata": {},
     "output_type": "execute_result"
    }
   ],
   "source": [
    "load_continuous(subsets=\"test\").to_array().shape"
   ]
  },
  {
   "cell_type": "code",
   "execution_count": 4,
   "metadata": {},
   "outputs": [
    {
     "data": {
      "text/plain": [
       "(131, 200)"
      ]
     },
     "execution_count": 4,
     "metadata": {},
     "output_type": "execute_result"
    }
   ],
   "source": [
    "load_continuous(subsets=\"val\").to_array().shape"
   ]
  },
  {
   "cell_type": "code",
   "execution_count": null,
   "metadata": {},
   "outputs": [],
   "source": []
  }
 ],
 "metadata": {
  "kernelspec": {
   "display_name": "Python 3",
   "language": "python",
   "name": "python3"
  },
  "language_info": {
   "codemirror_mode": {
    "name": "ipython",
    "version": 3
   },
   "file_extension": ".py",
   "mimetype": "text/x-python",
   "name": "python",
   "nbconvert_exporter": "python",
   "pygments_lexer": "ipython3",
   "version": "3.8.5"
  }
 },
 "nbformat": 4,
 "nbformat_minor": 4
}
