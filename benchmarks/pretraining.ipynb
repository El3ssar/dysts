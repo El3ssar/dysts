{
 "cells": [
  {
   "cell_type": "markdown",
   "metadata": {},
   "source": [
    "This notebook uses `sktime`\n",
    "\n",
    "\n",
    "Examples of classification; try just training a CNN versus Random Weights versus raw time series?\n",
    "+ Justification: TimeNet paper suggests generic feature extractors exist\n",
    "\n",
    "\n",
    "https://github.com/hfawaz/dl-4-tsc/tree/master/classifiers\n",
    "https://pyts.readthedocs.io/en/stable/generated/pyts.datasets.load_basic_motions.html"
   ]
  },
  {
   "cell_type": "code",
   "execution_count": 2,
   "metadata": {},
   "outputs": [],
   "source": [
    "import sys\n",
    "\n",
    "import matplotlib.pyplot as plt\n",
    "import json\n",
    "\n",
    "import dysts\n",
    "from dysts.flows import *\n",
    "from dysts.base import *\n",
    "from dysts.utils import *\n",
    "from dysts.analysis import *\n",
    "\n",
    "\n",
    "# try:\n",
    "#     from private.lyap import lyap_r, lyap_e, corr_dim\n",
    "# except:\n",
    "#     from nolds import lyap_r, lyap_e, corr_dim\n",
    "\n",
    "%matplotlib inline\n",
    "%load_ext autoreload\n",
    "%autoreload 2"
   ]
  },
  {
   "cell_type": "code",
   "execution_count": 3,
   "metadata": {},
   "outputs": [],
   "source": [
    "## use basic motions dataset\n",
    "from sktime.datasets import load_basic_motions\n",
    "\n",
    "X_train = np.array([np.array(item[0]) for item in load_basic_motions(split=\"train\")[[\"dim_0\"]].values])\n",
    "X_train = standardize_ts(X_train)\n",
    "y_train = load_basic_motions(split=\"train\")[\"class_val\"].to_list()\n",
    "\n",
    "X_test = np.array([np.array(item[0]) for item in load_basic_motions(split=\"test\")[[\"dim_0\"]].values])\n",
    "X_test = standardize_ts(X_test)\n",
    "y_test = load_basic_motions(split=\"test\")[\"class_val\"].to_list()"
   ]
  },
  {
   "cell_type": "code",
   "execution_count": 6,
   "metadata": {},
   "outputs": [],
   "source": [
    "## Pre-processing: nothing, PCA, rockets, trained rockets\n",
    "\n",
    "\n",
    "## Featurize: tsfresh, random convolutions, pre-trained AE\n",
    "## try selecting chaotic systems with the closest power spectrum\n",
    "from sktime.transformations.panel.rocket import Rocket\n",
    "model = Rocket() "
   ]
  },
  {
   "cell_type": "code",
   "execution_count": 10,
   "metadata": {},
   "outputs": [],
   "source": [
    "import torch\n",
    "from torch import nn"
   ]
  },
  {
   "cell_type": "markdown",
   "metadata": {},
   "source": [
    "## Benchmarks: \n",
    "# tsfresh handcrafted features\n",
    "# ROCKET: Random convolutional transforms followed by an aggregation operation\n",
    "# What classifier to use? Just a random forest?"
   ]
  },
  {
   "cell_type": "code",
   "execution_count": 9,
   "metadata": {},
   "outputs": [],
   "source": [
    "# chunk_size = 30\n",
    "\n",
    "import torch\n",
    "from torch import nn\n",
    "\n",
    "class Autoencoder(nn.Module):\n",
    "    \"\"\"\n",
    "    A simple autoencoder for time series\n",
    "    \"\"\"\n",
    "    def __init__(self):\n",
    "        super(Autoencoder, self).__init__()\n",
    "\n",
    "        self.encoder = nn.Sequential(\n",
    "            nn.Conv1d(1, 16, 3, stride=3, padding=1),  # b, 16, 10, 10\n",
    "            nn.ELU(True),\n",
    "            nn.MaxPool1d(2, stride=2),  # b, 16, 5, 5\n",
    "            nn.Conv2d(16, 8, 3, stride=2, padding=1),  # b, 8, 3, 3\n",
    "            nn.ELU(True),\n",
    "            nn.MaxPool1d(2, stride=1)  # b, 8, 2, 2\n",
    "        )\n",
    "        self.decoder = nn.Sequential(\n",
    "            nn.ConvTranspose1d(8, 16, 3, stride=2),  # b, 16, 5, 5\n",
    "            nn.ELU(True),\n",
    "            nn.ConvTranspose1d(16, 8, 5, stride=3, padding=1),  # b, 8, 15, 15\n",
    "            nn.ELU(True),\n",
    "            nn.ConvTranspose1d(8, 1, 2, stride=2, padding=1),  # b, 1, 28, 28\n",
    "            nn.Tanh()\n",
    "        )\n",
    "#         self.encoder = nn.Sequential(\n",
    "#             nn.Linear(28 * 28, 128),\n",
    "#             nn.ReLU(True),\n",
    "#             nn.Linear(128, 64),\n",
    "#             nn.ReLU(True), nn.Linear(64, 12), nn.ReLU(True), nn.Linear(12, 3))\n",
    "#         self.decoder = nn.Sequential(\n",
    "#             nn.Linear(3, 12),\n",
    "#             nn.ReLU(True),\n",
    "#             nn.Linear(12, 64),\n",
    "#             nn.ReLU(True),\n",
    "#             nn.Linear(64, 128),\n",
    "#             nn.ReLU(True), nn.Linear(128, 28 * 28), nn.Tanh())\n",
    "\n",
    "    def forward(self, x):\n",
    "        x = self.encoder(x)\n",
    "        x = self.decoder(x)\n",
    "        return x"
   ]
  },
  {
   "cell_type": "code",
   "execution_count": null,
   "metadata": {},
   "outputs": [],
   "source": [
    "## Batchwise training classifier\n",
    "## Baseline is usually 1-NN with DTW\n",
    "## But really need an NN where we can pre-train\n",
    "## ROCKET vs trained convolutional?\n",
    "\n",
    "\n",
    "\n",
    "## Or, unsupervised learning on a bunch of chaotic ssytems\n",
    "## then train a classifier on the encoder outputs for new data\n",
    "\n",
    "\n",
    "\n"
   ]
  },
  {
   "cell_type": "code",
   "execution_count": null,
   "metadata": {},
   "outputs": [],
   "source": []
  },
  {
   "cell_type": "code",
   "execution_count": null,
   "metadata": {},
   "outputs": [],
   "source": []
  },
  {
   "cell_type": "code",
   "execution_count": null,
   "metadata": {},
   "outputs": [],
   "source": []
  },
  {
   "cell_type": "code",
   "execution_count": null,
   "metadata": {},
   "outputs": [],
   "source": []
  },
  {
   "cell_type": "code",
   "execution_count": null,
   "metadata": {},
   "outputs": [],
   "source": []
  },
  {
   "cell_type": "code",
   "execution_count": null,
   "metadata": {},
   "outputs": [],
   "source": []
  },
  {
   "cell_type": "code",
   "execution_count": null,
   "metadata": {},
   "outputs": [],
   "source": []
  }
 ],
 "metadata": {
  "kernelspec": {
   "display_name": "Python 3",
   "language": "python",
   "name": "python3"
  },
  "language_info": {
   "codemirror_mode": {
    "name": "ipython",
    "version": 3
   },
   "file_extension": ".py",
   "mimetype": "text/x-python",
   "name": "python",
   "nbconvert_exporter": "python",
   "pygments_lexer": "ipython3",
   "version": "3.8.10"
  }
 },
 "nbformat": 4,
 "nbformat_minor": 4
}
