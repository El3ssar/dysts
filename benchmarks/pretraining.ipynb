{
 "cells": [
  {
   "cell_type": "markdown",
   "metadata": {},
   "source": [
    "This notebook uses `sktime`"
   ]
  },
  {
   "cell_type": "code",
   "execution_count": 26,
   "metadata": {},
   "outputs": [],
   "source": [
    "import sys\n",
    "\n",
    "import matplotlib.pyplot as plt\n",
    "import json\n",
    "\n",
    "import dysts\n",
    "from dysts.flows import *\n",
    "from dysts.base import *\n",
    "from dysts.utils import *\n",
    "from dysts.analysis import *\n",
    "\n",
    "# try:\n",
    "#     from private.lyap import lyap_r, lyap_e, corr_dim\n",
    "# except:\n",
    "#     from nolds import lyap_r, lyap_e, corr_dim\n",
    "\n",
    "%matplotlib inline\n",
    "%load_ext autoreload\n",
    "%autoreload 2"
   ]
  },
  {
   "cell_type": "code",
   "execution_count": 55,
   "metadata": {},
   "outputs": [],
   "source": [
    "## use basic motions dataset\n",
    "from sktime.datasets import load_basic_motions\n",
    "\n",
    "X_train = np.array([np.array(item[0]) for item in load_basic_motions(split=\"train\")[[\"dim_0\"]].values])\n",
    "X_train = standardize_ts(X_train)\n",
    "y_train = load_basic_motions(split=\"train\")[\"class_val\"].to_list()\n",
    "\n",
    "X_test = np.array([np.array(item[0]) for item in load_basic_motions(split=\"test\")[[\"dim_0\"]].values])\n",
    "X_test = standardize_ts(X_test)\n",
    "y_test = load_basic_motions(split=\"test\")[\"class_val\"].to_list()"
   ]
  },
  {
   "cell_type": "code",
   "execution_count": 3,
   "metadata": {},
   "outputs": [
    {
     "name": "stdout",
     "output_type": "stream",
     "text": [
      "Help on function load_basic_motions in module sktime.datasets.base:\n",
      "\n",
      "load_basic_motions(split=None, return_X_y=False)\n",
      "    Loads the  BasicMotions time series classification problem and returns X and y.\n",
      "    \n",
      "    Parameters\n",
      "    ----------\n",
      "    split: None or str{\"train\", \"test\"}, optional (default=None)\n",
      "        Whether to load the train or test partition of the problem. By\n",
      "        default it loads both.\n",
      "    return_X_y: bool, optional (default=False)\n",
      "        If True, returns (features, target) separately instead of a single\n",
      "        dataframe with columns for\n",
      "        features and the target.\n",
      "    \n",
      "    Returns\n",
      "    -------\n",
      "    X: pandas DataFrame with m rows and c columns\n",
      "        The time series data for the problem with m cases and c dimensions\n",
      "    y: numpy array\n",
      "        The class labels for each case in X\n",
      "    \n",
      "    Details\n",
      "    -------\n",
      "    Dimensionality:     univariate\n",
      "    Series length:      100\n",
      "    Train cases:        40\n",
      "    Test cases:         40\n",
      "    Number of classes:  4\n",
      "    \n",
      "    The data was generated as part of a student project where four students performed\n",
      "    four activities whilst wearing a smart watch. The watch collects 3D accelerometer\n",
      "    and a 3D gyroscope It consists of four classes, which are walking, resting,\n",
      "    running and badminton. Participants were required to record motion a total of\n",
      "    five times, and the data is sampled once every tenth of a second, for a ten second\n",
      "    period.\n",
      "    \n",
      "    Dataset details: http://www.timeseriesclassification.com/description.php?Dataset\n",
      "    =BasicMotions\n",
      "\n"
     ]
    }
   ],
   "source": [
    "help(load_basic_motions)"
   ]
  },
  {
   "cell_type": "code",
   "execution_count": null,
   "metadata": {},
   "outputs": [],
   "source": []
  },
  {
   "cell_type": "code",
   "execution_count": null,
   "metadata": {},
   "outputs": [],
   "source": []
  },
  {
   "cell_type": "code",
   "execution_count": null,
   "metadata": {},
   "outputs": [],
   "source": []
  },
  {
   "cell_type": "code",
   "execution_count": null,
   "metadata": {},
   "outputs": [],
   "source": []
  },
  {
   "cell_type": "code",
   "execution_count": null,
   "metadata": {},
   "outputs": [],
   "source": []
  },
  {
   "cell_type": "code",
   "execution_count": null,
   "metadata": {},
   "outputs": [],
   "source": []
  },
  {
   "cell_type": "code",
   "execution_count": null,
   "metadata": {},
   "outputs": [],
   "source": []
  }
 ],
 "metadata": {
  "kernelspec": {
   "display_name": "Python 3",
   "language": "python",
   "name": "python3"
  },
  "language_info": {
   "codemirror_mode": {
    "name": "ipython",
    "version": 3
   },
   "file_extension": ".py",
   "mimetype": "text/x-python",
   "name": "python",
   "nbconvert_exporter": "python",
   "pygments_lexer": "ipython3",
   "version": "3.8.10"
  }
 },
 "nbformat": 4,
 "nbformat_minor": 4
}
