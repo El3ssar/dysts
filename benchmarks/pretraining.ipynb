{
 "cells": [
  {
   "cell_type": "markdown",
   "metadata": {},
   "source": [
    "This notebook uses `sktime`\n",
    "\n",
    "\n",
    "Examples of classification; try just training a CNN versus Random Weights versus raw time series?\n",
    "+ Justification: TimeNet paper suggests generic feature extractors exist\n",
    "\n",
    "\n",
    "https://github.com/hfawaz/dl-4-tsc/tree/master/classifiers\n",
    "https://pyts.readthedocs.io/en/stable/generated/pyts.datasets.load_basic_motions.html"
   ]
  },
  {
   "cell_type": "code",
   "execution_count": 26,
   "metadata": {},
   "outputs": [],
   "source": [
    "import sys\n",
    "\n",
    "import matplotlib.pyplot as plt\n",
    "import json\n",
    "\n",
    "import dysts\n",
    "from dysts.flows import *\n",
    "from dysts.base import *\n",
    "from dysts.utils import *\n",
    "from dysts.analysis import *\n",
    "\n",
    "# try:\n",
    "#     from private.lyap import lyap_r, lyap_e, corr_dim\n",
    "# except:\n",
    "#     from nolds import lyap_r, lyap_e, corr_dim\n",
    "\n",
    "%matplotlib inline\n",
    "%load_ext autoreload\n",
    "%autoreload 2"
   ]
  },
  {
   "cell_type": "code",
   "execution_count": 55,
   "metadata": {},
   "outputs": [],
   "source": [
    "## use basic motions dataset\n",
    "from sktime.datasets import load_basic_motions\n",
    "\n",
    "X_train = np.array([np.array(item[0]) for item in load_basic_motions(split=\"train\")[[\"dim_0\"]].values])\n",
    "X_train = standardize_ts(X_train)\n",
    "y_train = load_basic_motions(split=\"train\")[\"class_val\"].to_list()\n",
    "\n",
    "X_test = np.array([np.array(item[0]) for item in load_basic_motions(split=\"test\")[[\"dim_0\"]].values])\n",
    "X_test = standardize_ts(X_test)\n",
    "y_test = load_basic_motions(split=\"test\")[\"class_val\"].to_list()"
   ]
  },
  {
   "cell_type": "code",
   "execution_count": null,
   "metadata": {},
   "outputs": [],
   "source": [
    "## Batchwise training classifier\n",
    "## Baseline is usually 1-NN with DTW\n",
    "## But really need an NN where we can pre-train\n",
    "## ROCKET vs trained convolutional?\n",
    "\n",
    "\n",
    "\n",
    "## Or, unsupervised learning on a bunch of chaotic ssytems\n",
    "## then train a classifier on the encoder outputs for new data\n",
    "\n",
    "\n",
    "\n"
   ]
  },
  {
   "cell_type": "code",
   "execution_count": null,
   "metadata": {},
   "outputs": [],
   "source": []
  },
  {
   "cell_type": "code",
   "execution_count": null,
   "metadata": {},
   "outputs": [],
   "source": []
  },
  {
   "cell_type": "code",
   "execution_count": null,
   "metadata": {},
   "outputs": [],
   "source": []
  },
  {
   "cell_type": "code",
   "execution_count": null,
   "metadata": {},
   "outputs": [],
   "source": []
  },
  {
   "cell_type": "code",
   "execution_count": null,
   "metadata": {},
   "outputs": [],
   "source": []
  },
  {
   "cell_type": "code",
   "execution_count": null,
   "metadata": {},
   "outputs": [],
   "source": []
  },
  {
   "cell_type": "code",
   "execution_count": null,
   "metadata": {},
   "outputs": [],
   "source": []
  }
 ],
 "metadata": {
  "kernelspec": {
   "display_name": "Python 3",
   "language": "python",
   "name": "python3"
  },
  "language_info": {
   "codemirror_mode": {
    "name": "ipython",
    "version": 3
   },
   "file_extension": ".py",
   "mimetype": "text/x-python",
   "name": "python",
   "nbconvert_exporter": "python",
   "pygments_lexer": "ipython3",
   "version": "3.8.10"
  }
 },
 "nbformat": 4,
 "nbformat_minor": 4
}
