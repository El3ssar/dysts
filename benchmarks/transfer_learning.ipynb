{
 "cells": [
  {
   "cell_type": "markdown",
   "metadata": {},
   "source": [
    "This notebook uses `sktime`\n",
    "\n",
    "\n",
    "Examples of classification; try just training a CNN versus Random Weights versus raw time series?\n",
    "+ Justification: TimeNet paper suggests generic feature extractors exist\n",
    "\n",
    "\n",
    "https://github.com/hfawaz/dl-4-tsc/tree/master/classifiers\n",
    "https://pyts.readthedocs.io/en/stable/generated/pyts.datasets.load_basic_motions.html"
   ]
  },
  {
   "cell_type": "code",
   "execution_count": 1,
   "metadata": {},
   "outputs": [],
   "source": [
    "import sys\n",
    "\n",
    "import matplotlib.pyplot as plt\n",
    "import json\n",
    "\n",
    "import dysts\n",
    "from dysts.flows import *\n",
    "from dysts.base import *\n",
    "from dysts.utils import *\n",
    "from dysts.analysis import *\n",
    "\n",
    "\n",
    "# try:\n",
    "#     from private.lyap import lyap_r, lyap_e, corr_dim\n",
    "# except:\n",
    "#     from nolds import lyap_r, lyap_e, corr_dim\n",
    "\n",
    "%matplotlib inline\n",
    "%load_ext autoreload\n",
    "%autoreload 2"
   ]
  },
  {
   "cell_type": "markdown",
   "metadata": {},
   "source": [
    "## Benchmarks: \n",
    "# tsfresh handcrafted features\n",
    "# ROCKET: Random convolutional transforms followed by an aggregation operation\n",
    "\n",
    "https://github.com/White-Link/UnsupervisedScalableRepresentationLearningTimeSeries/tree/master/networks"
   ]
  },
  {
   "cell_type": "code",
   "execution_count": null,
   "metadata": {},
   "outputs": [],
   "source": [
    "## Batchwise training classifier\n",
    "## Baseline is usually 1-NN with DTW\n",
    "## But really need an NN where we can pre-train\n",
    "## ROCKET vs trained convolutional?\n",
    "\n",
    "\n",
    "\n",
    "## Or, unsupervised learning on a bunch of chaotic ssytems\n",
    "## then train a classifier on the encoder outputs for new data\n",
    "\n",
    "Classifier: logistic regression and Adam OR Ridge Regression\n",
    "\n"
   ]
  },
  {
   "cell_type": "code",
   "execution_count": 115,
   "metadata": {},
   "outputs": [
    {
     "name": "stdout",
     "output_type": "stream",
     "text": [
      "[0.80838896 0.82       0.84423077]\n",
      "[0.02719366 0.02787605 0.02405462]\n"
     ]
    }
   ],
   "source": [
    "import json\n",
    "from scipy.stats import sem \n",
    "semd = lambda x, **kwargs : 1.253 * sem(x, **kwargs)\n",
    "\n",
    "with open(\"./results/transfer_learning.json\", \"r\") as file:\n",
    "    all_scores = json.load(file)\n",
    "    \n",
    "all_vals = list()\n",
    "for key in all_scores:\n",
    "    all_vals.append((all_scores[key]['score_tsfresh'], all_scores[key]['score_random'], all_scores[key]['score_transfer']))\n",
    "all_vals = np.array(all_vals)\n",
    "\n",
    "all_orderings = np.argsort(all_vals, axis=1)\n",
    "all_orderings_keyed = [\"\".join([str(item) for item in item]) for item in all_orderings.tolist()]\n",
    "np.unique(all_orderings_keyed, return_counts=True)\n",
    "\n",
    "print(np.median(all_vals, axis=0))\n",
    "print(semd(all_vals, axis=0))"
   ]
  },
  {
   "cell_type": "code",
   "execution_count": 116,
   "metadata": {},
   "outputs": [
    {
     "name": "stdout",
     "output_type": "stream",
     "text": [
      "0.02981221898968528 0.011938367751696799\n",
      "0.018928198238543026 0.01009687782171268\n"
     ]
    }
   ],
   "source": [
    "print(np.median(all_vals[:, 2] - all_vals[:, 0]), semd(all_vals[:, 2] - all_vals[:, 0]))\n",
    "print(np.median(all_vals[:, 2] - all_vals[:, 1]), semd(all_vals[:, 2] - all_vals[:, 1]))"
   ]
  },
  {
   "cell_type": "code",
   "execution_count": null,
   "metadata": {},
   "outputs": [],
   "source": []
  },
  {
   "cell_type": "code",
   "execution_count": 2,
   "metadata": {},
   "outputs": [],
   "source": []
  },
  {
   "cell_type": "code",
   "execution_count": null,
   "metadata": {},
   "outputs": [],
   "source": []
  },
  {
   "cell_type": "code",
   "execution_count": null,
   "metadata": {},
   "outputs": [],
   "source": []
  },
  {
   "cell_type": "code",
   "execution_count": null,
   "metadata": {},
   "outputs": [],
   "source": [
    "## plot results vs sota\n"
   ]
  },
  {
   "cell_type": "code",
   "execution_count": null,
   "metadata": {},
   "outputs": [],
   "source": []
  }
 ],
 "metadata": {
  "kernelspec": {
   "display_name": "Python 3",
   "language": "python",
   "name": "python3"
  },
  "language_info": {
   "codemirror_mode": {
    "name": "ipython",
    "version": 3
   },
   "file_extension": ".py",
   "mimetype": "text/x-python",
   "name": "python",
   "nbconvert_exporter": "python",
   "pygments_lexer": "ipython3",
   "version": "3.8.10"
  }
 },
 "nbformat": 4,
 "nbformat_minor": 4
}
