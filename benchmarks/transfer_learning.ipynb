{
 "cells": [
  {
   "cell_type": "markdown",
   "metadata": {},
   "source": [
    "This notebook uses `sktime`\n",
    "\n",
    "\n",
    "Examples of classification; try just training a CNN versus Random Weights versus raw time series?\n",
    "+ Justification: TimeNet paper suggests generic feature extractors exist\n",
    "\n",
    "\n",
    "https://github.com/hfawaz/dl-4-tsc/tree/master/classifiers\n",
    "https://pyts.readthedocs.io/en/stable/generated/pyts.datasets.load_basic_motions.html"
   ]
  },
  {
   "cell_type": "code",
   "execution_count": 1,
   "metadata": {},
   "outputs": [],
   "source": [
    "import sys\n",
    "\n",
    "import matplotlib.pyplot as plt\n",
    "import json\n",
    "\n",
    "import dysts\n",
    "from dysts.flows import *\n",
    "from dysts.base import *\n",
    "from dysts.utils import *\n",
    "from dysts.analysis import *\n",
    "\n",
    "\n",
    "# try:\n",
    "#     from private.lyap import lyap_r, lyap_e, corr_dim\n",
    "# except:\n",
    "#     from nolds import lyap_r, lyap_e, corr_dim\n",
    "\n",
    "%matplotlib inline\n",
    "%load_ext autoreload\n",
    "%autoreload 2"
   ]
  },
  {
   "cell_type": "code",
   "execution_count": 24,
   "metadata": {},
   "outputs": [],
   "source": [
    "## use basic motions dataset\n",
    "from sktime.datasets import load_basic_motions\n",
    "from sktime.utils.data_processing import from_nested_to_2d_array\n",
    "\n",
    "X_train = np.array([np.array(item[0]) for item in load_basic_motions(split=\"train\")[[\"dim_0\"]].values])\n",
    "X_train = standardize_ts(X_train)\n",
    "y_train = load_basic_motions(split=\"train\")[\"class_val\"].to_list()\n",
    "\n",
    "X_test = np.array([np.array(item[0]) for item in load_basic_motions(split=\"test\")[[\"dim_0\"]].values])\n",
    "X_test = standardize_ts(X_test)\n",
    "y_test = load_basic_motions(split=\"test\")[\"class_val\"].to_list()"
   ]
  },
  {
   "cell_type": "code",
   "execution_count": 30,
   "metadata": {},
   "outputs": [],
   "source": []
  },
  {
   "cell_type": "code",
   "execution_count": 17,
   "metadata": {},
   "outputs": [],
   "source": [
    "# ?sktime.datasets.load_UCR_UEA_dataset"
   ]
  },
  {
   "cell_type": "code",
   "execution_count": 6,
   "metadata": {},
   "outputs": [],
   "source": [
    "## Pre-processing: nothing, PCA, rockets, trained rockets\n",
    "\n",
    "\n",
    "## Featurize: tsfresh, random convolutions, pre-trained AE\n",
    "## try selecting chaotic systems with the closest power spectrum\n",
    "from sktime.transformations.panel.rocket import Rocket\n",
    "model = Rocket() "
   ]
  },
  {
   "cell_type": "code",
   "execution_count": 10,
   "metadata": {},
   "outputs": [],
   "source": [
    "import torch\n",
    "from torch import nn"
   ]
  },
  {
   "cell_type": "markdown",
   "metadata": {},
   "source": [
    "## Benchmarks: \n",
    "# tsfresh handcrafted features\n",
    "# ROCKET: Random convolutional transforms followed by an aggregation operation\n",
    "# What classifier to use? Just a random forest?\n",
    "\n",
    "https://github.com/White-Link/UnsupervisedScalableRepresentationLearningTimeSeries/tree/master/networks"
   ]
  },
  {
   "cell_type": "code",
   "execution_count": 242,
   "metadata": {},
   "outputs": [
    {
     "name": "stdout",
     "output_type": "stream",
     "text": [
      "torch.Size([4, 1, 100])\n",
      "torch.Size([4, 8, 34])\n",
      "torch.Size([4, 1, 100])\n"
     ]
    }
   ],
   "source": [
    "# chunk_size = 30\n",
    "\n",
    "import torch\n",
    "from torch import nn\n",
    "from torch.utils.data import Dataset, DataLoader\n",
    "import torch.optim as optim\n",
    "\n",
    "from resources.causal_cnn import CausalConvolutionBlock, CausalCNNEncoder\n",
    "    \n",
    "class UnivariateTimeSeries(Dataset):\n",
    "    \"\"\"\n",
    "    A dataset representation for univariate time series\n",
    "    \n",
    "    Args\n",
    "    \"\"\"\n",
    "    def __init__(self, ts, seqlen):\n",
    "        self.ts = torch.tensor(ts[None, :], dtype=torch.float32, requires_grad=True)\n",
    "        self.seqlen = seqlen \n",
    "        \n",
    "    def __len__(self):\n",
    "        return self.ts.shape[-1] - self.seqlen\n",
    "    \n",
    "    def __getitem__(self, idx):\n",
    "        input_val = self.ts[:, idx : idx+self.seqlen]\n",
    "        output_val = self.ts[:, idx : idx+self.seqlen]\n",
    "        \n",
    "        return input_val, output_val\n",
    "    \n",
    "class TimeSeriesCollection(Dataset):\n",
    "    \"\"\"\n",
    "    A dataset representation for a collection time series\n",
    "    \n",
    "    ts (np.ndarray): A time series dataset of shape T x D\n",
    "    \"\"\"\n",
    "    def __init__(self, ts, seqlen):\n",
    "        self.nt, self.nb = ts.shape\n",
    "        self.ts = torch.tensor(ts[None, ...], dtype=torch.float32, requires_grad=True)\n",
    "        self.seqlen = seqlen\n",
    "        \n",
    "    def __len__(self):\n",
    "        return self.nb * (self.nt - self.seqlen)\n",
    "    \n",
    "    def __getitem__(self, idx):\n",
    "        \n",
    "        i, j = np.unravel_index(idx, (self.nb,  (self.nt - self.seqlen)))\n",
    "        \n",
    "        input_val = self.ts[:, j : j+self.seqlen, i]\n",
    "        output_val = self.ts[:, j : j+self.seqlen, i]\n",
    "        \n",
    "        return input_val, output_val\n",
    "    \n",
    "\n",
    "class Autoencoder(nn.Module):\n",
    "    \"\"\"\n",
    "    A simple autoencoder for time series\n",
    "    \"\"\"\n",
    "    def __init__(self):\n",
    "        super(Autoencoder, self).__init__()\n",
    "\n",
    "#         self.encoder = nn.Sequential(\n",
    "#             nn.Conv1d(1, 16, kernel_size=5, stride=3, padding=2),  # b, 16, 10, 10\n",
    "#             nn.ELU(True),\n",
    "#             nn.Conv1d(16, 8,  kernel_size=3, stride=3, padding=1),  # b, 8, 3, 3\n",
    "#             nn.ELU(True),\n",
    "#         )\n",
    "#         self.decoder = nn.Sequential(\n",
    "#             nn.ConvTranspose1d(8, 16, kernel_size=3, stride=1, padding=1),  # b, 16, 5, 5\n",
    "#             nn.ELU(True),\n",
    "#             nn.ConvTranspose1d(16, 8, kernel_size=3, stride=3, padding=1),  # b, 8, 15, 15\n",
    "#             nn.ELU(True),\n",
    "#             nn.ConvTranspose1d(8, 1, kernel_size=5, stride=3, padding=2),  # b, 1, 28, 28\n",
    "#         )\n",
    "        \n",
    "        self.encoder = nn.Sequential(\n",
    "            #nn.Conv1d(1, 16, kernel_size=5, stride=3, padding=2),  # b, 16, 10, 10\n",
    "            CausalConvolutionBlock(1, 16, 3, 2, final=False),\n",
    "#             CausalConvolutionBlock(16, 8, 3, 2, final=False),\n",
    "            nn.Conv1d(16, 8,  kernel_size=3, stride=3, padding=1),  # b, 8, 3, 3\n",
    "        )\n",
    "        self.decoder = nn.Sequential(\n",
    "            nn.ConvTranspose1d(8, 16, kernel_size=3, stride=1, padding=1),  # b, 16, 5, 5\n",
    "            nn.ELU(True),\n",
    "            nn.ConvTranspose1d(16, 8, kernel_size=3, stride=3, padding=1),  # b, 8, 15, 15\n",
    "            nn.ELU(True),\n",
    "            nn.ConvTranspose1d(8, 1, kernel_size=3, stride=1, padding=1),  # b, 1, 28, 28\n",
    "        )\n",
    "\n",
    "\n",
    "    def forward(self, x):\n",
    "        x = self.encoder(x)\n",
    "        x = self.decoder(x)\n",
    "        return x\n",
    "    \n",
    "    \n",
    "\n",
    "    \n",
    "from dysts.flows import Lorenz\n",
    "\n",
    "model = Lorenz()\n",
    "\n",
    "sol = model.make_trajectory(1000, resample=True)\n",
    "\n",
    "model = Autoencoder()\n",
    "print(inputs.shape)\n",
    "print(model.encoder(inputs).shape)\n",
    "print(model(inputs).shape)"
   ]
  },
  {
   "cell_type": "code",
   "execution_count": 236,
   "metadata": {},
   "outputs": [
    {
     "data": {
      "text/plain": [
       "(1000,)"
      ]
     },
     "execution_count": 236,
     "metadata": {},
     "output_type": "execute_result"
    }
   ],
   "source": [
    "sol.shape"
   ]
  },
  {
   "cell_type": "code",
   "execution_count": 233,
   "metadata": {},
   "outputs": [
    {
     "data": {
      "text/plain": [
       "(1, 0)"
      ]
     },
     "execution_count": 233,
     "metadata": {},
     "output_type": "execute_result"
    }
   ],
   "source": [
    "np.unravel_index(90, (7,  (100 - 10)))"
   ]
  },
  {
   "cell_type": "code",
   "execution_count": 226,
   "metadata": {},
   "outputs": [
    {
     "ename": "TypeError",
     "evalue": "dispatcher for __array_function__ did not return an iterable",
     "output_type": "error",
     "traceback": [
      "\u001b[0;31m---------------------------------------------------------------------------\u001b[0m",
      "\u001b[0;31mTypeError\u001b[0m                                 Traceback (most recent call last)",
      "\u001b[0;32m<ipython-input-226-54cdb994b60a>\u001b[0m in \u001b[0;36m<module>\u001b[0;34m\u001b[0m\n\u001b[0;32m----> 1\u001b[0;31m \u001b[0mnp\u001b[0m\u001b[0;34m.\u001b[0m\u001b[0mravel_multi_index\u001b[0m\u001b[0;34m(\u001b[0m\u001b[0;36m0\u001b[0m\u001b[0;34m,\u001b[0m \u001b[0;34m(\u001b[0m\u001b[0;36m7\u001b[0m\u001b[0;34m,\u001b[0m  \u001b[0;34m(\u001b[0m\u001b[0;36m100\u001b[0m \u001b[0;34m-\u001b[0m \u001b[0;36m10\u001b[0m\u001b[0;34m)\u001b[0m\u001b[0;34m)\u001b[0m\u001b[0;34m)\u001b[0m\u001b[0;34m\u001b[0m\u001b[0;34m\u001b[0m\u001b[0m\n\u001b[0m",
      "\u001b[0;32m<__array_function__ internals>\u001b[0m in \u001b[0;36mravel_multi_index\u001b[0;34m(*args, **kwargs)\u001b[0m\n",
      "\u001b[0;31mTypeError\u001b[0m: dispatcher for __array_function__ did not return an iterable"
     ]
    }
   ],
   "source": [
    "np.ravel_multi_index(0, (7,  (100 - 10)))"
   ]
  },
  {
   "cell_type": "code",
   "execution_count": 60,
   "metadata": {},
   "outputs": [],
   "source": []
  },
  {
   "cell_type": "code",
   "execution_count": 243,
   "metadata": {},
   "outputs": [
    {
     "data": {
      "text/plain": [
       "[<matplotlib.lines.Line2D at 0x7ff9358d8040>]"
      ]
     },
     "execution_count": 243,
     "metadata": {},
     "output_type": "execute_result"
    },
    {
     "data": {
      "image/png": "[encoded data removed]",
      "text/plain": [
       "<Figure size 432x288 with 1 Axes>"
      ]
     },
     "metadata": {
      "needs_background": "light"
     },
     "output_type": "display_data"
    }
   ],
   "source": [
    "\n",
    "\n",
    "    \n",
    "# training_data = UnivariateTimeSeries(sol[:, 0], 100)\n",
    "training_data = TimeSeriesCollection(sol, 100)\n",
    "\n",
    "\n",
    "\n",
    "\n",
    "\n",
    "\n",
    "model = Autoencoder()\n",
    "train_dataloader = DataLoader(training_data, batch_size=64, shuffle=True)\n",
    "\n",
    "\n",
    "criterion = nn.MSELoss()\n",
    "optimizer = optim.Adam(model.parameters(), lr=0.001)\n",
    "\n",
    "\n",
    "for epoch in range(100):  # loop over the dataset multiple times\n",
    "\n",
    "    running_loss = 0.0\n",
    "    for i, data in enumerate(train_dataloader, 0):\n",
    "        # get the inputs; data is a list of [inputs, labels]\n",
    "        inputs, outputs = data\n",
    "\n",
    "        # zero the parameter gradients\n",
    "        optimizer.zero_grad()\n",
    "\n",
    "        # forward + backward + optimize\n",
    "        outputs = model(inputs)\n",
    "        loss = criterion(inputs, outputs)\n",
    "        loss.backward()\n",
    "        optimizer.step()\n",
    "\n",
    "        # print statistics\n",
    "        running_loss += loss.item()\n",
    "        if i % 2000 == 1999:    # print every 2000 mini-batches\n",
    "            print('[%d, %5d] loss: %.3f' %\n",
    "                  (epoch + 1, i + 1, running_loss / 2000))\n",
    "            running_loss = 0.0\n",
    "            \n",
    "plt.plot(inputs[0, 0, :].detach().numpy())\n",
    "plt.plot(outputs[0, 0, :].detach().numpy())"
   ]
  },
  {
   "cell_type": "code",
   "execution_count": null,
   "metadata": {},
   "outputs": [],
   "source": [
    "## Batchwise training classifier\n",
    "## Baseline is usually 1-NN with DTW\n",
    "## But really need an NN where we can pre-train\n",
    "## ROCKET vs trained convolutional?\n",
    "\n",
    "\n",
    "\n",
    "## Or, unsupervised learning on a bunch of chaotic ssytems\n",
    "## then train a classifier on the encoder outputs for new data\n",
    "\n",
    "Classifier: logistic regression and Adam OR Ridge Regression\n",
    "\n"
   ]
  },
  {
   "cell_type": "code",
   "execution_count": null,
   "metadata": {},
   "outputs": [
    {
     "name": "stdout",
     "output_type": "stream",
     "text": [
      "Saving data to:  /Users/williamgilpin/program_repos/dysts/benchmarks/results/transfer_learning.json\n"
     ]
    },
    {
     "name": "stderr",
     "output_type": "stream",
     "text": [
      "Feature Extraction: 100%|██████████| 5/5 [00:23<00:00,  4.72s/it]\n",
      "/Users/williamgilpin/miniconda3/envs/dysts/lib/python3.8/site-packages/tsfresh/utilities/dataframe_functions.py:171: RuntimeWarning: The columns ['dim_0__query_similarity_count__query_None__threshold_0.0'] did not have any finite values. Filling with zeros.\n",
      "  warnings.warn(\"The columns {} did not have any finite values. Filling with zeros.\".format(\n",
      "Feature Extraction: 100%|██████████| 5/5 [00:25<00:00,  5.12s/it]\n",
      "/Users/williamgilpin/miniconda3/envs/dysts/lib/python3.8/site-packages/tsfresh/utilities/dataframe_functions.py:171: RuntimeWarning: The columns ['dim_0__query_similarity_count__query_None__threshold_0.0'] did not have any finite values. Filling with zeros.\n",
      "  warnings.warn(\"The columns {} did not have any finite values. Filling with zeros.\".format(\n"
     ]
    },
    {
     "name": "stdout",
     "output_type": "stream",
     "text": [
      "ACSF1 0.77\n"
     ]
    },
    {
     "name": "stderr",
     "output_type": "stream",
     "text": [
      "Feature Extraction:   0%|          | 0/5 [00:00<?, ?it/s]"
     ]
    }
   ],
   "source": [
    "import sktime.datasets\n",
    "from sktime.transformations.panel.tsfresh import TSFreshFeatureExtractor\n",
    "from sklearn.linear_model import RidgeClassifierCV\n",
    "\n",
    "cwd = os.getcwd()\n",
    "# cwd = os.path.dirname(os.path.realpath(__file__))\n",
    "output_path = cwd + \"/results/transfer_learning.json\"\n",
    "print(\"Saving data to: \", output_path)\n",
    "\n",
    "dataset_names = np.genfromtxt(\"./resources/ucr_ea_names.txt\", dtype='str')\n",
    "\n",
    "all_scores = dict()\n",
    "for name in dataset_names:\n",
    "    all_scores[name] = dict()\n",
    "    X_train, y_train = sktime.datasets.load_UCR_UEA_dataset(name, split=\"train\", return_X_y=True)\n",
    "    X_test, y_test = sktime.datasets.load_UCR_UEA_dataset(name, split=\"test\", return_X_y=True)\n",
    "    \n",
    "    transformer = TSFreshFeatureExtractor()\n",
    "    X_train_featurized = transformer.fit_transform(X_train)\n",
    "    X_test_featurized = transformer.fit_transform(X_test)\n",
    "\n",
    "    model = RidgeClassifierCV(alphas = np.logspace(-3, 3, 10), normalize = True)\n",
    "    model.fit(X_train_featurized, y_train)\n",
    "\n",
    "    score = model.score(X_test_featurized, y_test)\n",
    "    all_scores[name][\"score_tsfresh\"] = model.score(X_test_featurized, y_test)\n",
    "\n",
    "    print(name, score, flush=True)\n",
    "    \n",
    "    with open(output_path, 'w') as file:\n",
    "        json.dump(all_scores, file, indent=4)\n",
    "    "
   ]
  },
  {
   "cell_type": "code",
   "execution_count": 248,
   "metadata": {
    "tags": []
   },
   "outputs": [
    {
     "name": "stderr",
     "output_type": "stream",
     "text": [
      "/Users/williamgilpin/miniconda3/envs/dysts/lib/python3.8/site-packages/dysts/base.py:166: UserWarning: This system has at least one unbounded variable, which has been mapped to a bounded domain. Pass argument postprocess=False in order to generate trajectories from the raw system.\n",
      "  warnings.warn(\"This system has at least one unbounded variable, which has been mapped to a bounded domain. Pass argument postprocess=False in order to generate trajectories from the raw system.\")\n",
      "/Users/williamgilpin/miniconda3/envs/dysts/lib/python3.8/site-packages/dysts/base.py:166: UserWarning: This system has at least one unbounded variable, which has been mapped to a bounded domain. Pass argument postprocess=False in order to generate trajectories from the raw system.\n",
      "  warnings.warn(\"This system has at least one unbounded variable, which has been mapped to a bounded domain. Pass argument postprocess=False in order to generate trajectories from the raw system.\")\n",
      "/Users/williamgilpin/miniconda3/envs/dysts/lib/python3.8/site-packages/dysts/base.py:152: UserWarning: Expect slowdown due to excessive integration required; scale factor 1136.3949282164895\n",
      "  if upscale_factor > 1e3: warnings.warn(f\"Expect slowdown due to excessive integration required; scale factor {upscale_factor}\")\n",
      "/Users/williamgilpin/miniconda3/envs/dysts/lib/python3.8/site-packages/dysts/base.py:152: UserWarning: Expect slowdown due to excessive integration required; scale factor 2164.4852278655094\n",
      "  if upscale_factor > 1e3: warnings.warn(f\"Expect slowdown due to excessive integration required; scale factor {upscale_factor}\")\n",
      "/Users/williamgilpin/miniconda3/envs/dysts/lib/python3.8/site-packages/dysts/flows.py:371: RuntimeWarning: invalid value encountered in sqrt\n",
      "  rf = (self.ci - self.z0*z)*np.sqrt(x)\n"
     ]
    },
    {
     "name": "stdout",
     "output_type": "stream",
     "text": [
      "stopped at index\n"
     ]
    }
   ],
   "source": [
    "from dysts.utils import find_significant_frequencies\n",
    "\n",
    "from sktime.utils.data_processing import from_nested_to_3d_numpy, from_3d_numpy_to_nested\n",
    "\n",
    "X_train_np = from_nested_to_3d_numpy(X_train)\n",
    "X_test_np = from_nested_to_3d_numpy(X_test)\n",
    "\n",
    "all_freqs = list()\n",
    "for row in X_train_np:\n",
    "    freqs, amps = find_significant_frequencies(row[0], return_amplitudes=True)\n",
    "    sort_inds = np.argsort(amps)[::-1]\n",
    "    freqs, amps = freqs[sort_inds], amps[sort_inds]\n",
    "    all_freqs.append(freqs[0])\n",
    "main_freq = np.median(all_freqs)\n",
    "main_period = 2 * 1/main_freq\n",
    "\n",
    "all_sols = list()\n",
    "for equation_ind, equation_name in enumerate(get_attractor_list()):\n",
    "    equation = getattr(dysts.flows, equation_name)()\n",
    "    sol = equation.make_trajectory(1000, resample=True, pts_per_period=int(main_period))\n",
    "    all_sols.append(standardize_ts(sol)[:, 0])\n",
    "    if equation_ind > 5:\n",
    "        print(\"stopped at index\")\n",
    "        break\n",
    "all_sols = np.array(all_sols).T\n",
    "# plt.plot(all_sols[:100]);\n",
    "\n",
    "# plt.plot(row[0][:300])\n",
    "# plt.plot(sol[:300, 0]/5)\n",
    "\n",
    "\n"
   ]
  },
  {
   "cell_type": "code",
   "execution_count": 255,
   "metadata": {},
   "outputs": [],
   "source": [
    "training_data = TimeSeriesCollection(all_sols, 100)\n",
    "\n",
    "model = Autoencoder()\n",
    "train_dataloader = DataLoader(training_data, batch_size=64, shuffle=True)\n",
    "\n",
    "\n",
    "criterion = nn.MSELoss()\n",
    "optimizer = optim.Adam(model.parameters(), lr=0.001)\n",
    "\n",
    "\n",
    "for epoch in range(200):  # loop over the dataset multiple times\n",
    "\n",
    "    running_loss = 0.0\n",
    "    for i, data in enumerate(train_dataloader, 0):\n",
    "        # get the inputs; data is a list of [inputs, labels]\n",
    "        inputs, outputs = data\n",
    "\n",
    "        # zero the parameter gradients\n",
    "        optimizer.zero_grad()\n",
    "\n",
    "        # forward + backward + optimize\n",
    "        outputs = model(inputs)\n",
    "        loss = criterion(inputs, outputs)\n",
    "        loss.backward()\n",
    "        optimizer.step()\n",
    "\n",
    "        # print statistics\n",
    "        running_loss += loss.item()\n",
    "        if i % 200 == 199:    # print every 2000 mini-batches\n",
    "            print('[%d, %5d] loss: %.3f' %\n",
    "                  (epoch + 1, i + 1, running_loss / 200))\n",
    "            running_loss = 0.0"
   ]
  },
  {
   "cell_type": "code",
   "execution_count": 298,
   "metadata": {},
   "outputs": [
    {
     "name": "stderr",
     "output_type": "stream",
     "text": [
      "Feature Extraction: 100%|██████████| 5/5 [02:55<00:00, 35.04s/it]\n",
      "/Users/williamgilpin/miniconda3/envs/dysts/lib/python3.8/site-packages/tsfresh/utilities/dataframe_functions.py:171: RuntimeWarning: The columns ['var_0__fft_coefficient__attr_\"real\"__coeff_51'\n",
      " 'var_0__fft_coefficient__attr_\"real\"__coeff_52'\n",
      " 'var_0__fft_coefficient__attr_\"real\"__coeff_53' ...\n",
      " 'var_7__fft_coefficient__attr_\"angle\"__coeff_98'\n",
      " 'var_7__fft_coefficient__attr_\"angle\"__coeff_99'\n",
      " 'var_7__query_similarity_count__query_None__threshold_0.0'] did not have any finite values. Filling with zeros.\n",
      "  warnings.warn(\"The columns {} did not have any finite values. Filling with zeros.\".format(\n",
      "Feature Extraction: 100%|██████████| 5/5 [02:47<00:00, 33.41s/it]\n",
      "/Users/williamgilpin/miniconda3/envs/dysts/lib/python3.8/site-packages/tsfresh/utilities/dataframe_functions.py:171: RuntimeWarning: The columns ['var_0__fft_coefficient__attr_\"real\"__coeff_51'\n",
      " 'var_0__fft_coefficient__attr_\"real\"__coeff_52'\n",
      " 'var_0__fft_coefficient__attr_\"real\"__coeff_53' ...\n",
      " 'var_7__fft_coefficient__attr_\"angle\"__coeff_98'\n",
      " 'var_7__fft_coefficient__attr_\"angle\"__coeff_99'\n",
      " 'var_7__query_similarity_count__query_None__threshold_0.0'] did not have any finite values. Filling with zeros.\n",
      "  warnings.warn(\"The columns {} did not have any finite values. Filling with zeros.\".format(\n"
     ]
    }
   ],
   "source": [
    "X_train_nn = from_3d_numpy_to_nested(model.encoder(torch.tensor(X_train_np, dtype=torch.float32)).detach().numpy())\n",
    "X_test_nn = from_3d_numpy_to_nested(model.encoder(torch.tensor(X_test_np, dtype=torch.float32)).detach().numpy())\n",
    "\n",
    "transformer = TSFreshFeatureExtractor()\n",
    "X_train_featurized = transformer.fit_transform(X_train_nn)\n",
    "X_test_featurized = transformer.fit_transform(X_test_nn)\n",
    "\n",
    "model = RidgeClassifierCV(alphas = np.logspace(-3, 3, 10), normalize = True)\n",
    "model.fit(X_train_featurized, y_train)\n",
    "\n",
    "score = model.score(X_test_featurized, y_test)"
   ]
  },
  {
   "cell_type": "code",
   "execution_count": 301,
   "metadata": {},
   "outputs": [
    {
     "data": {
      "text/plain": [
       "0.6102564102564103"
      ]
     },
     "execution_count": 301,
     "metadata": {},
     "output_type": "execute_result"
    }
   ],
   "source": [
    "score"
   ]
  },
  {
   "cell_type": "code",
   "execution_count": 299,
   "metadata": {},
   "outputs": [
    {
     "data": {
      "text/plain": [
       "0.6282051282051282"
      ]
     },
     "execution_count": 299,
     "metadata": {},
     "output_type": "execute_result"
    }
   ],
   "source": [
    "score"
   ]
  },
  {
   "cell_type": "code",
   "execution_count": 297,
   "metadata": {},
   "outputs": [
    {
     "data": {
      "text/html": [
       "<div>\n",
       "<style scoped>\n",
       "    .dataframe tbody tr th:only-of-type {\n",
       "        vertical-align: middle;\n",
       "    }\n",
       "\n",
       "    .dataframe tbody tr th {\n",
       "        vertical-align: top;\n",
       "    }\n",
       "\n",
       "    .dataframe thead th {\n",
       "        text-align: right;\n",
       "    }\n",
       "</style>\n",
       "<table border=\"1\" class=\"dataframe\">\n",
       "  <thead>\n",
       "    <tr style=\"text-align: right;\">\n",
       "      <th></th>\n",
       "      <th>var_0</th>\n",
       "      <th>var_1</th>\n",
       "      <th>var_2</th>\n",
       "      <th>var_3</th>\n",
       "      <th>var_4</th>\n",
       "      <th>var_5</th>\n",
       "      <th>var_6</th>\n",
       "      <th>var_7</th>\n",
       "    </tr>\n",
       "  </thead>\n",
       "  <tbody>\n",
       "    <tr>\n",
       "      <th>0</th>\n",
       "      <td>0    -1.045549\n",
       "1    -1.185358\n",
       "2    -1.000528\n",
       "3...</td>\n",
       "      <td>0     0.148564\n",
       "1     0.524387\n",
       "2     0.416969\n",
       "3...</td>\n",
       "      <td>0    -0.308031\n",
       "1    -0.952667\n",
       "2    -0.993770\n",
       "3...</td>\n",
       "      <td>0     1.037275\n",
       "1     1.139595\n",
       "2     0.856233\n",
       "3...</td>\n",
       "      <td>0     0.542924\n",
       "1     0.831971\n",
       "2     0.602963\n",
       "3...</td>\n",
       "      <td>0     0.527383\n",
       "1     1.270000\n",
       "2     1.276315\n",
       "3...</td>\n",
       "      <td>0     0.629878\n",
       "1     0.189812\n",
       "2     0.439987\n",
       "3...</td>\n",
       "      <td>0    -0.162789\n",
       "1     0.281756\n",
       "2     0.543367\n",
       "3...</td>\n",
       "    </tr>\n",
       "    <tr>\n",
       "      <th>1</th>\n",
       "      <td>0    -1.206776\n",
       "1    -1.241949\n",
       "2    -0.760766\n",
       "3...</td>\n",
       "      <td>0     0.267801\n",
       "1     0.377145\n",
       "2     0.613703\n",
       "3...</td>\n",
       "      <td>0    -0.381799\n",
       "1    -1.140368\n",
       "2    -0.656760\n",
       "3...</td>\n",
       "      <td>0     1.250660\n",
       "1     1.172733\n",
       "2     0.512608\n",
       "3...</td>\n",
       "      <td>0     0.737092\n",
       "1     0.866945\n",
       "2     0.360313\n",
       "3...</td>\n",
       "      <td>0     0.682091\n",
       "1     1.404548\n",
       "2     1.021273\n",
       "3...</td>\n",
       "      <td>0     0.396572\n",
       "1     0.252289\n",
       "2     0.550952\n",
       "3...</td>\n",
       "      <td>0    -0.247439\n",
       "1     0.490853\n",
       "2     0.389029\n",
       "3...</td>\n",
       "    </tr>\n",
       "    <tr>\n",
       "      <th>2</th>\n",
       "      <td>0     0.049804\n",
       "1    -0.009496\n",
       "2    -0.232796\n",
       "3...</td>\n",
       "      <td>0     0.679538\n",
       "1     0.463804\n",
       "2     0.344650\n",
       "3...</td>\n",
       "      <td>0     0.769708\n",
       "1     1.001717\n",
       "2     0.458595\n",
       "3...</td>\n",
       "      <td>0    -0.626459\n",
       "1    -0.148588\n",
       "2     0.147706\n",
       "3...</td>\n",
       "      <td>0    -0.585258\n",
       "1    -0.376136\n",
       "2    -0.192336\n",
       "3...</td>\n",
       "      <td>0    -0.204803\n",
       "1    -0.751950\n",
       "2    -0.294768\n",
       "3...</td>\n",
       "      <td>0     1.349125\n",
       "1     1.063873\n",
       "2     0.976488\n",
       "3...</td>\n",
       "      <td>0    -0.229302\n",
       "1    -0.846248\n",
       "2    -0.478211\n",
       "3...</td>\n",
       "    </tr>\n",
       "    <tr>\n",
       "      <th>3</th>\n",
       "      <td>0    -0.991080\n",
       "1    -0.961166\n",
       "2    -0.894935\n",
       "3...</td>\n",
       "      <td>0     0.134388\n",
       "1     0.365111\n",
       "2     0.463720\n",
       "3...</td>\n",
       "      <td>0    -0.272047\n",
       "1    -0.650026\n",
       "2    -0.699576\n",
       "3...</td>\n",
       "      <td>0     0.962055\n",
       "1     0.916741\n",
       "2     0.796498\n",
       "3...</td>\n",
       "      <td>0     0.481211\n",
       "1     0.571132\n",
       "2     0.505261\n",
       "3...</td>\n",
       "      <td>0     0.481582\n",
       "1     0.833098\n",
       "2     0.973887\n",
       "3...</td>\n",
       "      <td>0     0.691561\n",
       "1     0.470084\n",
       "2     0.481187\n",
       "3...</td>\n",
       "      <td>0    -0.146556\n",
       "1     0.137433\n",
       "2     0.259968\n",
       "3...</td>\n",
       "    </tr>\n",
       "    <tr>\n",
       "      <th>4</th>\n",
       "      <td>0    -0.175037\n",
       "1    -0.132690\n",
       "2    -0.264104\n",
       "3...</td>\n",
       "      <td>0     0.483296\n",
       "1     0.344647\n",
       "2     0.286750\n",
       "3...</td>\n",
       "      <td>0     0.509804\n",
       "1     0.689456\n",
       "2     0.466997\n",
       "3...</td>\n",
       "      <td>0    -0.264451\n",
       "1     0.004228\n",
       "2     0.220129\n",
       "3...</td>\n",
       "      <td>0    -0.364079\n",
       "1    -0.268277\n",
       "2    -0.155716\n",
       "3...</td>\n",
       "      <td>0    -0.069723\n",
       "1    -0.521530\n",
       "2    -0.340714\n",
       "3...</td>\n",
       "      <td>0     1.249395\n",
       "1     1.062690\n",
       "2     0.963337\n",
       "3...</td>\n",
       "      <td>0    -0.175281\n",
       "1    -0.616859\n",
       "2    -0.531657\n",
       "3...</td>\n",
       "    </tr>\n",
       "    <tr>\n",
       "      <th>...</th>\n",
       "      <td>...</td>\n",
       "      <td>...</td>\n",
       "      <td>...</td>\n",
       "      <td>...</td>\n",
       "      <td>...</td>\n",
       "      <td>...</td>\n",
       "      <td>...</td>\n",
       "      <td>...</td>\n",
       "    </tr>\n",
       "    <tr>\n",
       "      <th>385</th>\n",
       "      <td>0    -0.015794\n",
       "1    -0.005064\n",
       "2    -0.163799\n",
       "3...</td>\n",
       "      <td>0     0.653103\n",
       "1     0.340941\n",
       "2     0.256193\n",
       "3...</td>\n",
       "      <td>0     0.707100\n",
       "1     0.876890\n",
       "2     0.625395\n",
       "3...</td>\n",
       "      <td>0    -0.527750\n",
       "1    -0.145082\n",
       "2     0.112195\n",
       "3...</td>\n",
       "      <td>0    -0.517386\n",
       "1    -0.400832\n",
       "2    -0.258077\n",
       "3...</td>\n",
       "      <td>0    -0.160217\n",
       "1    -0.702895\n",
       "2    -0.512268\n",
       "3...</td>\n",
       "      <td>0     1.303556\n",
       "1     1.156822\n",
       "2     1.037013\n",
       "3...</td>\n",
       "      <td>0    -0.227488\n",
       "1    -0.703360\n",
       "2    -0.613494\n",
       "3...</td>\n",
       "    </tr>\n",
       "    <tr>\n",
       "      <th>386</th>\n",
       "      <td>0    -0.926261\n",
       "1    -0.684305\n",
       "2    -0.846801\n",
       "3...</td>\n",
       "      <td>0    -0.084608\n",
       "1     0.553728\n",
       "2     0.369492\n",
       "3...</td>\n",
       "      <td>0    -0.313994\n",
       "1    -0.344021\n",
       "2    -0.474402\n",
       "3...</td>\n",
       "      <td>0     0.911013\n",
       "1     0.502584\n",
       "2     0.846717\n",
       "3...</td>\n",
       "      <td>0     0.383457\n",
       "1     0.282490\n",
       "2     0.453499\n",
       "3...</td>\n",
       "      <td>0     0.391388\n",
       "1     0.609813\n",
       "2     0.672877\n",
       "3...</td>\n",
       "      <td>0     0.878217\n",
       "1     0.615082\n",
       "2     0.542559\n",
       "3...</td>\n",
       "      <td>0    -0.036607\n",
       "1     0.069720\n",
       "2     0.007655\n",
       "3...</td>\n",
       "    </tr>\n",
       "    <tr>\n",
       "      <th>387</th>\n",
       "      <td>0    -0.092368\n",
       "1    -0.146139\n",
       "2    -0.183954\n",
       "3...</td>\n",
       "      <td>0     0.644357\n",
       "1     0.425007\n",
       "2     0.295079\n",
       "3...</td>\n",
       "      <td>0     0.643501\n",
       "1     0.720289\n",
       "2     0.561207\n",
       "3...</td>\n",
       "      <td>0    -0.417479\n",
       "1     0.011067\n",
       "2     0.115472\n",
       "3...</td>\n",
       "      <td>0    -0.435760\n",
       "1    -0.246566\n",
       "2    -0.237080\n",
       "3...</td>\n",
       "      <td>0    -0.104457\n",
       "1    -0.501388\n",
       "2    -0.425611\n",
       "3...</td>\n",
       "      <td>0     1.238543\n",
       "1     1.010241\n",
       "2     1.025866\n",
       "3...</td>\n",
       "      <td>0    -0.235378\n",
       "1    -0.664617\n",
       "2    -0.561674\n",
       "3...</td>\n",
       "    </tr>\n",
       "    <tr>\n",
       "      <th>388</th>\n",
       "      <td>0    -0.689760\n",
       "1    -0.668483\n",
       "2    -0.615910\n",
       "3...</td>\n",
       "      <td>0     0.424884\n",
       "1     0.416499\n",
       "2     0.344719\n",
       "3...</td>\n",
       "      <td>0     0.083339\n",
       "1    -0.218104\n",
       "2    -0.252719\n",
       "3...</td>\n",
       "      <td>0     0.475233\n",
       "1     0.583587\n",
       "2     0.536624\n",
       "3...</td>\n",
       "      <td>0     0.184752\n",
       "1     0.268030\n",
       "2     0.195182\n",
       "3...</td>\n",
       "      <td>0     0.301442\n",
       "1     0.420553\n",
       "2     0.426795\n",
       "3...</td>\n",
       "      <td>0     0.816409\n",
       "1     0.693562\n",
       "2     0.766236\n",
       "3...</td>\n",
       "      <td>0    -0.224868\n",
       "1    -0.085310\n",
       "2    -0.002331\n",
       "3...</td>\n",
       "    </tr>\n",
       "    <tr>\n",
       "      <th>389</th>\n",
       "      <td>0    -1.143727\n",
       "1    -1.082234\n",
       "2    -0.906464\n",
       "3...</td>\n",
       "      <td>0     0.244069\n",
       "1     0.336265\n",
       "2     0.494858\n",
       "3...</td>\n",
       "      <td>0    -0.343626\n",
       "1    -0.959911\n",
       "2    -0.756797\n",
       "3...</td>\n",
       "      <td>0     1.160161\n",
       "1     1.002304\n",
       "2     0.783793\n",
       "3...</td>\n",
       "      <td>0     0.662797\n",
       "1     0.694528\n",
       "2     0.515526\n",
       "3...</td>\n",
       "      <td>0     0.623177\n",
       "1     1.172094\n",
       "2     1.044807\n",
       "3...</td>\n",
       "      <td>0     0.478190\n",
       "1     0.414211\n",
       "2     0.461713\n",
       "3...</td>\n",
       "      <td>0    -0.223704\n",
       "1     0.417478\n",
       "2     0.320128\n",
       "3...</td>\n",
       "    </tr>\n",
       "  </tbody>\n",
       "</table>\n",
       "<p>390 rows × 8 columns</p>\n",
       "</div>"
      ],
      "text/plain": [
       "                                                 var_0  \\\n",
       "0    0    -1.045549\n",
       "1    -1.185358\n",
       "2    -1.000528\n",
       "3...   \n",
       "1    0    -1.206776\n",
       "1    -1.241949\n",
       "2    -0.760766\n",
       "3...   \n",
       "2    0     0.049804\n",
       "1    -0.009496\n",
       "2    -0.232796\n",
       "3...   \n",
       "3    0    -0.991080\n",
       "1    -0.961166\n",
       "2    -0.894935\n",
       "3...   \n",
       "4    0    -0.175037\n",
       "1    -0.132690\n",
       "2    -0.264104\n",
       "3...   \n",
       "..                                                 ...   \n",
       "385  0    -0.015794\n",
       "1    -0.005064\n",
       "2    -0.163799\n",
       "3...   \n",
       "386  0    -0.926261\n",
       "1    -0.684305\n",
       "2    -0.846801\n",
       "3...   \n",
       "387  0    -0.092368\n",
       "1    -0.146139\n",
       "2    -0.183954\n",
       "3...   \n",
       "388  0    -0.689760\n",
       "1    -0.668483\n",
       "2    -0.615910\n",
       "3...   \n",
       "389  0    -1.143727\n",
       "1    -1.082234\n",
       "2    -0.906464\n",
       "3...   \n",
       "\n",
       "                                                 var_1  \\\n",
       "0    0     0.148564\n",
       "1     0.524387\n",
       "2     0.416969\n",
       "3...   \n",
       "1    0     0.267801\n",
       "1     0.377145\n",
       "2     0.613703\n",
       "3...   \n",
       "2    0     0.679538\n",
       "1     0.463804\n",
       "2     0.344650\n",
       "3...   \n",
       "3    0     0.134388\n",
       "1     0.365111\n",
       "2     0.463720\n",
       "3...   \n",
       "4    0     0.483296\n",
       "1     0.344647\n",
       "2     0.286750\n",
       "3...   \n",
       "..                                                 ...   \n",
       "385  0     0.653103\n",
       "1     0.340941\n",
       "2     0.256193\n",
       "3...   \n",
       "386  0    -0.084608\n",
       "1     0.553728\n",
       "2     0.369492\n",
       "3...   \n",
       "387  0     0.644357\n",
       "1     0.425007\n",
       "2     0.295079\n",
       "3...   \n",
       "388  0     0.424884\n",
       "1     0.416499\n",
       "2     0.344719\n",
       "3...   \n",
       "389  0     0.244069\n",
       "1     0.336265\n",
       "2     0.494858\n",
       "3...   \n",
       "\n",
       "                                                 var_2  \\\n",
       "0    0    -0.308031\n",
       "1    -0.952667\n",
       "2    -0.993770\n",
       "3...   \n",
       "1    0    -0.381799\n",
       "1    -1.140368\n",
       "2    -0.656760\n",
       "3...   \n",
       "2    0     0.769708\n",
       "1     1.001717\n",
       "2     0.458595\n",
       "3...   \n",
       "3    0    -0.272047\n",
       "1    -0.650026\n",
       "2    -0.699576\n",
       "3...   \n",
       "4    0     0.509804\n",
       "1     0.689456\n",
       "2     0.466997\n",
       "3...   \n",
       "..                                                 ...   \n",
       "385  0     0.707100\n",
       "1     0.876890\n",
       "2     0.625395\n",
       "3...   \n",
       "386  0    -0.313994\n",
       "1    -0.344021\n",
       "2    -0.474402\n",
       "3...   \n",
       "387  0     0.643501\n",
       "1     0.720289\n",
       "2     0.561207\n",
       "3...   \n",
       "388  0     0.083339\n",
       "1    -0.218104\n",
       "2    -0.252719\n",
       "3...   \n",
       "389  0    -0.343626\n",
       "1    -0.959911\n",
       "2    -0.756797\n",
       "3...   \n",
       "\n",
       "                                                 var_3  \\\n",
       "0    0     1.037275\n",
       "1     1.139595\n",
       "2     0.856233\n",
       "3...   \n",
       "1    0     1.250660\n",
       "1     1.172733\n",
       "2     0.512608\n",
       "3...   \n",
       "2    0    -0.626459\n",
       "1    -0.148588\n",
       "2     0.147706\n",
       "3...   \n",
       "3    0     0.962055\n",
       "1     0.916741\n",
       "2     0.796498\n",
       "3...   \n",
       "4    0    -0.264451\n",
       "1     0.004228\n",
       "2     0.220129\n",
       "3...   \n",
       "..                                                 ...   \n",
       "385  0    -0.527750\n",
       "1    -0.145082\n",
       "2     0.112195\n",
       "3...   \n",
       "386  0     0.911013\n",
       "1     0.502584\n",
       "2     0.846717\n",
       "3...   \n",
       "387  0    -0.417479\n",
       "1     0.011067\n",
       "2     0.115472\n",
       "3...   \n",
       "388  0     0.475233\n",
       "1     0.583587\n",
       "2     0.536624\n",
       "3...   \n",
       "389  0     1.160161\n",
       "1     1.002304\n",
       "2     0.783793\n",
       "3...   \n",
       "\n",
       "                                                 var_4  \\\n",
       "0    0     0.542924\n",
       "1     0.831971\n",
       "2     0.602963\n",
       "3...   \n",
       "1    0     0.737092\n",
       "1     0.866945\n",
       "2     0.360313\n",
       "3...   \n",
       "2    0    -0.585258\n",
       "1    -0.376136\n",
       "2    -0.192336\n",
       "3...   \n",
       "3    0     0.481211\n",
       "1     0.571132\n",
       "2     0.505261\n",
       "3...   \n",
       "4    0    -0.364079\n",
       "1    -0.268277\n",
       "2    -0.155716\n",
       "3...   \n",
       "..                                                 ...   \n",
       "385  0    -0.517386\n",
       "1    -0.400832\n",
       "2    -0.258077\n",
       "3...   \n",
       "386  0     0.383457\n",
       "1     0.282490\n",
       "2     0.453499\n",
       "3...   \n",
       "387  0    -0.435760\n",
       "1    -0.246566\n",
       "2    -0.237080\n",
       "3...   \n",
       "388  0     0.184752\n",
       "1     0.268030\n",
       "2     0.195182\n",
       "3...   \n",
       "389  0     0.662797\n",
       "1     0.694528\n",
       "2     0.515526\n",
       "3...   \n",
       "\n",
       "                                                 var_5  \\\n",
       "0    0     0.527383\n",
       "1     1.270000\n",
       "2     1.276315\n",
       "3...   \n",
       "1    0     0.682091\n",
       "1     1.404548\n",
       "2     1.021273\n",
       "3...   \n",
       "2    0    -0.204803\n",
       "1    -0.751950\n",
       "2    -0.294768\n",
       "3...   \n",
       "3    0     0.481582\n",
       "1     0.833098\n",
       "2     0.973887\n",
       "3...   \n",
       "4    0    -0.069723\n",
       "1    -0.521530\n",
       "2    -0.340714\n",
       "3...   \n",
       "..                                                 ...   \n",
       "385  0    -0.160217\n",
       "1    -0.702895\n",
       "2    -0.512268\n",
       "3...   \n",
       "386  0     0.391388\n",
       "1     0.609813\n",
       "2     0.672877\n",
       "3...   \n",
       "387  0    -0.104457\n",
       "1    -0.501388\n",
       "2    -0.425611\n",
       "3...   \n",
       "388  0     0.301442\n",
       "1     0.420553\n",
       "2     0.426795\n",
       "3...   \n",
       "389  0     0.623177\n",
       "1     1.172094\n",
       "2     1.044807\n",
       "3...   \n",
       "\n",
       "                                                 var_6  \\\n",
       "0    0     0.629878\n",
       "1     0.189812\n",
       "2     0.439987\n",
       "3...   \n",
       "1    0     0.396572\n",
       "1     0.252289\n",
       "2     0.550952\n",
       "3...   \n",
       "2    0     1.349125\n",
       "1     1.063873\n",
       "2     0.976488\n",
       "3...   \n",
       "3    0     0.691561\n",
       "1     0.470084\n",
       "2     0.481187\n",
       "3...   \n",
       "4    0     1.249395\n",
       "1     1.062690\n",
       "2     0.963337\n",
       "3...   \n",
       "..                                                 ...   \n",
       "385  0     1.303556\n",
       "1     1.156822\n",
       "2     1.037013\n",
       "3...   \n",
       "386  0     0.878217\n",
       "1     0.615082\n",
       "2     0.542559\n",
       "3...   \n",
       "387  0     1.238543\n",
       "1     1.010241\n",
       "2     1.025866\n",
       "3...   \n",
       "388  0     0.816409\n",
       "1     0.693562\n",
       "2     0.766236\n",
       "3...   \n",
       "389  0     0.478190\n",
       "1     0.414211\n",
       "2     0.461713\n",
       "3...   \n",
       "\n",
       "                                                 var_7  \n",
       "0    0    -0.162789\n",
       "1     0.281756\n",
       "2     0.543367\n",
       "3...  \n",
       "1    0    -0.247439\n",
       "1     0.490853\n",
       "2     0.389029\n",
       "3...  \n",
       "2    0    -0.229302\n",
       "1    -0.846248\n",
       "2    -0.478211\n",
       "3...  \n",
       "3    0    -0.146556\n",
       "1     0.137433\n",
       "2     0.259968\n",
       "3...  \n",
       "4    0    -0.175281\n",
       "1    -0.616859\n",
       "2    -0.531657\n",
       "3...  \n",
       "..                                                 ...  \n",
       "385  0    -0.227488\n",
       "1    -0.703360\n",
       "2    -0.613494\n",
       "3...  \n",
       "386  0    -0.036607\n",
       "1     0.069720\n",
       "2     0.007655\n",
       "3...  \n",
       "387  0    -0.235378\n",
       "1    -0.664617\n",
       "2    -0.561674\n",
       "3...  \n",
       "388  0    -0.224868\n",
       "1    -0.085310\n",
       "2    -0.002331\n",
       "3...  \n",
       "389  0    -0.223704\n",
       "1     0.417478\n",
       "2     0.320128\n",
       "3...  \n",
       "\n",
       "[390 rows x 8 columns]"
      ]
     },
     "execution_count": 297,
     "metadata": {},
     "output_type": "execute_result"
    }
   ],
   "source": [
    "X_train_nn)"
   ]
  },
  {
   "cell_type": "code",
   "execution_count": 291,
   "metadata": {},
   "outputs": [
    {
     "data": {
      "text/plain": [
       "torch.Size([390, 8, 100])"
      ]
     },
     "execution_count": 291,
     "metadata": {},
     "output_type": "execute_result"
    }
   ],
   "source": [
    "X_train_nn.shape"
   ]
  },
  {
   "cell_type": "code",
   "execution_count": 290,
   "metadata": {},
   "outputs": [
    {
     "data": {
      "text/plain": [
       "(390, 1, 300)"
      ]
     },
     "execution_count": 290,
     "metadata": {},
     "output_type": "execute_result"
    }
   ],
   "source": [
    "X_train_np.shape"
   ]
  },
  {
   "cell_type": "code",
   "execution_count": 279,
   "metadata": {},
   "outputs": [
    {
     "data": {
      "text/plain": [
       "torch.Size([28, 8, 34])"
      ]
     },
     "execution_count": 279,
     "metadata": {},
     "output_type": "execute_result"
    }
   ],
   "source": [
    "model.encoder(inputs).shape"
   ]
  },
  {
   "cell_type": "code",
   "execution_count": 277,
   "metadata": {},
   "outputs": [
    {
     "data": {
      "text/plain": [
       "(390, 1, 300)"
      ]
     },
     "execution_count": 277,
     "metadata": {},
     "output_type": "execute_result"
    }
   ],
   "source": [
    "X_train_np.shape"
   ]
  },
  {
   "cell_type": "code",
   "execution_count": 268,
   "metadata": {},
   "outputs": [
    {
     "data": {
      "text/plain": [
       "torch.Size([390, 1, 300])"
      ]
     },
     "execution_count": 268,
     "metadata": {},
     "output_type": "execute_result"
    }
   ],
   "source": [
    "torch.tensor(X_train_np, dtype=torch.float32)"
   ]
  },
  {
   "cell_type": "code",
   "execution_count": 285,
   "metadata": {},
   "outputs": [
    {
     "data": {
      "image/png": "[encoded data removed]",
      "text/plain": [
       "<Figure size 432x288 with 1 Axes>"
      ]
     },
     "metadata": {
      "needs_background": "light"
     },
     "output_type": "display_data"
    }
   ],
   "source": [
    "plt.plot(X_train_np[0, :, :].T);"
   ]
  },
  {
   "cell_type": "code",
   "execution_count": 284,
   "metadata": {},
   "outputs": [
    {
     "data": {
      "image/png": "[encoded data removed]",
      "text/plain": [
       "<Figure size 432x288 with 1 Axes>"
      ]
     },
     "metadata": {
      "needs_background": "light"
     },
     "output_type": "display_data"
    }
   ],
   "source": [
    "plt.plot(X_train_featts.detach().numpy()[0, :, :].T);"
   ]
  },
  {
   "cell_type": "code",
   "execution_count": null,
   "metadata": {},
   "outputs": [],
   "source": []
  },
  {
   "cell_type": "code",
   "execution_count": null,
   "metadata": {},
   "outputs": [],
   "source": []
  },
  {
   "cell_type": "code",
   "execution_count": 254,
   "metadata": {},
   "outputs": [
    {
     "data": {
      "text/plain": [
       "(1000, 7)"
      ]
     },
     "execution_count": 254,
     "metadata": {},
     "output_type": "execute_result"
    }
   ],
   "source": [
    "all_sols.shape"
   ]
  },
  {
   "cell_type": "code",
   "execution_count": 203,
   "metadata": {},
   "outputs": [
    {
     "data": {
      "text/plain": [
       "(1000, 3)"
      ]
     },
     "execution_count": 203,
     "metadata": {},
     "output_type": "execute_result"
    }
   ],
   "source": [
    "sol.shape"
   ]
  },
  {
   "cell_type": "code",
   "execution_count": 181,
   "metadata": {},
   "outputs": [
    {
     "data": {
      "text/plain": [
       "0.5"
      ]
     },
     "execution_count": 181,
     "metadata": {},
     "output_type": "execute_result"
    }
   ],
   "source": [
    "main_freq"
   ]
  },
  {
   "cell_type": "code",
   "execution_count": 173,
   "metadata": {},
   "outputs": [
    {
     "name": "stderr",
     "output_type": "stream",
     "text": [
      "/Users/williamgilpin/miniconda3/envs/dysts/lib/python3.8/site-packages/numpy/core/_asarray.py:102: ComplexWarning: Casting complex values to real discards the imaginary part\n",
      "  return array(a, dtype, copy=False, order=order)\n"
     ]
    },
    {
     "data": {
      "text/plain": [
       "[<matplotlib.lines.Line2D at 0x7ff935593370>]"
      ]
     },
     "execution_count": 173,
     "metadata": {},
     "output_type": "execute_result"
    },
    {
     "data": {
      "image/png": "[encoded data removed]",
      "text/plain": [
       "<Figure size 432x288 with 1 Axes>"
      ]
     },
     "metadata": {
      "needs_background": "light"
     },
     "output_type": "display_data"
    }
   ],
   "source": [
    "plt.plot(freqs, amps,  '.')"
   ]
  },
  {
   "cell_type": "code",
   "execution_count": 48,
   "metadata": {},
   "outputs": [
    {
     "ename": "FileNotFoundError",
     "evalue": "[Errno 2] No such file or directory: '/Users/williamgilpin/miniconda3/envs/dysts/lib/python3.8/site-packages/sktime/datasets/data/AbnormalHeartbeat/AbnormalHeartbeat_TRAIN.ts'",
     "output_type": "error",
     "traceback": [
      "\u001b[0;31m---------------------------------------------------------------------------\u001b[0m",
      "\u001b[0;31mFileNotFoundError\u001b[0m                         Traceback (most recent call last)",
      "\u001b[0;32m<ipython-input-48-54d1931b100c>\u001b[0m in \u001b[0;36m<module>\u001b[0;34m\u001b[0m\n\u001b[1;32m      4\u001b[0m \u001b[0mX_test\u001b[0m\u001b[0;34m,\u001b[0m \u001b[0my_test\u001b[0m \u001b[0;34m=\u001b[0m \u001b[0mload_basic_motions\u001b[0m\u001b[0;34m(\u001b[0m\u001b[0msplit\u001b[0m\u001b[0;34m=\u001b[0m\u001b[0;34m\"test\"\u001b[0m\u001b[0;34m,\u001b[0m \u001b[0mreturn_X_y\u001b[0m\u001b[0;34m=\u001b[0m\u001b[0;32mTrue\u001b[0m\u001b[0;34m)\u001b[0m\u001b[0;34m\u001b[0m\u001b[0;34m\u001b[0m\u001b[0m\n\u001b[1;32m      5\u001b[0m \u001b[0;34m\u001b[0m\u001b[0m\n\u001b[0;32m----> 6\u001b[0;31m \u001b[0mX_train\u001b[0m\u001b[0;34m,\u001b[0m \u001b[0my_train\u001b[0m \u001b[0;34m=\u001b[0m \u001b[0msktime\u001b[0m\u001b[0;34m.\u001b[0m\u001b[0mdatasets\u001b[0m\u001b[0;34m.\u001b[0m\u001b[0mload_UCR_UEA_dataset\u001b[0m\u001b[0;34m(\u001b[0m\u001b[0;34m\"AbnormalHeartbeat\"\u001b[0m\u001b[0;34m,\u001b[0m \u001b[0msplit\u001b[0m\u001b[0;34m=\u001b[0m\u001b[0;34m\"train\"\u001b[0m\u001b[0;34m,\u001b[0m \u001b[0mreturn_X_y\u001b[0m\u001b[0;34m=\u001b[0m\u001b[0;32mTrue\u001b[0m\u001b[0;34m)\u001b[0m\u001b[0;34m\u001b[0m\u001b[0;34m\u001b[0m\u001b[0m\n\u001b[0m\u001b[1;32m      7\u001b[0m \u001b[0mX_test\u001b[0m\u001b[0;34m,\u001b[0m \u001b[0my_test\u001b[0m \u001b[0;34m=\u001b[0m \u001b[0msktime\u001b[0m\u001b[0;34m.\u001b[0m\u001b[0mdatasets\u001b[0m\u001b[0;34m.\u001b[0m\u001b[0mload_UCR_UEA_dataset\u001b[0m\u001b[0;34m(\u001b[0m\u001b[0;34m\"AbnormalHeartbeat\"\u001b[0m\u001b[0;34m,\u001b[0m \u001b[0msplit\u001b[0m\u001b[0;34m=\u001b[0m\u001b[0;34m\"test\"\u001b[0m\u001b[0;34m,\u001b[0m \u001b[0mreturn_X_y\u001b[0m\u001b[0;34m=\u001b[0m\u001b[0;32mTrue\u001b[0m\u001b[0;34m)\u001b[0m\u001b[0;34m\u001b[0m\u001b[0;34m\u001b[0m\u001b[0m\n\u001b[1;32m      8\u001b[0m \u001b[0;34m\u001b[0m\u001b[0m\n",
      "\u001b[0;32m~/miniconda3/envs/dysts/lib/python3.8/site-packages/sktime/datasets/base.py\u001b[0m in \u001b[0;36mload_UCR_UEA_dataset\u001b[0;34m(name, split, return_X_y, extract_path)\u001b[0m\n\u001b[1;32m    141\u001b[0m         \u001b[0mThe\u001b[0m \u001b[0;32mclass\u001b[0m \u001b[0mlabels\u001b[0m \u001b[0;32mfor\u001b[0m \u001b[0meach\u001b[0m \u001b[0mcase\u001b[0m \u001b[0;32min\u001b[0m \u001b[0mX\u001b[0m\u001b[0;34m\u001b[0m\u001b[0;34m\u001b[0m\u001b[0m\n\u001b[1;32m    142\u001b[0m     \"\"\"\n\u001b[0;32m--> 143\u001b[0;31m     \u001b[0;32mreturn\u001b[0m \u001b[0m_load_dataset\u001b[0m\u001b[0;34m(\u001b[0m\u001b[0mname\u001b[0m\u001b[0;34m,\u001b[0m \u001b[0msplit\u001b[0m\u001b[0;34m,\u001b[0m \u001b[0mreturn_X_y\u001b[0m\u001b[0;34m,\u001b[0m \u001b[0mextract_path\u001b[0m\u001b[0;34m)\u001b[0m\u001b[0;34m\u001b[0m\u001b[0;34m\u001b[0m\u001b[0m\n\u001b[0m\u001b[1;32m    144\u001b[0m \u001b[0;34m\u001b[0m\u001b[0m\n\u001b[1;32m    145\u001b[0m \u001b[0;34m\u001b[0m\u001b[0m\n",
      "\u001b[0;32m~/miniconda3/envs/dysts/lib/python3.8/site-packages/sktime/datasets/base.py\u001b[0m in \u001b[0;36m_load_dataset\u001b[0;34m(name, split, return_X_y, extract_path)\u001b[0m\n\u001b[1;32m    173\u001b[0m         \u001b[0mfname\u001b[0m \u001b[0;34m=\u001b[0m \u001b[0mname\u001b[0m \u001b[0;34m+\u001b[0m \u001b[0;34m\"_\"\u001b[0m \u001b[0;34m+\u001b[0m \u001b[0msplit\u001b[0m\u001b[0;34m.\u001b[0m\u001b[0mupper\u001b[0m\u001b[0;34m(\u001b[0m\u001b[0;34m)\u001b[0m \u001b[0;34m+\u001b[0m \u001b[0;34m\".ts\"\u001b[0m\u001b[0;34m\u001b[0m\u001b[0;34m\u001b[0m\u001b[0m\n\u001b[1;32m    174\u001b[0m         \u001b[0mabspath\u001b[0m \u001b[0;34m=\u001b[0m \u001b[0mos\u001b[0m\u001b[0;34m.\u001b[0m\u001b[0mpath\u001b[0m\u001b[0;34m.\u001b[0m\u001b[0mjoin\u001b[0m\u001b[0;34m(\u001b[0m\u001b[0mlocal_module\u001b[0m\u001b[0;34m,\u001b[0m \u001b[0mlocal_dirname\u001b[0m\u001b[0;34m,\u001b[0m \u001b[0mname\u001b[0m\u001b[0;34m,\u001b[0m \u001b[0mfname\u001b[0m\u001b[0;34m)\u001b[0m\u001b[0;34m\u001b[0m\u001b[0;34m\u001b[0m\u001b[0m\n\u001b[0;32m--> 175\u001b[0;31m         \u001b[0mX\u001b[0m\u001b[0;34m,\u001b[0m \u001b[0my\u001b[0m \u001b[0;34m=\u001b[0m \u001b[0mload_from_tsfile_to_dataframe\u001b[0m\u001b[0;34m(\u001b[0m\u001b[0mabspath\u001b[0m\u001b[0;34m)\u001b[0m\u001b[0;34m\u001b[0m\u001b[0;34m\u001b[0m\u001b[0m\n\u001b[0m\u001b[1;32m    176\u001b[0m \u001b[0;34m\u001b[0m\u001b[0m\n\u001b[1;32m    177\u001b[0m     \u001b[0;31m# if split is None, load both train and test set\u001b[0m\u001b[0;34m\u001b[0m\u001b[0;34m\u001b[0m\u001b[0;34m\u001b[0m\u001b[0m\n",
      "\u001b[0;32m~/miniconda3/envs/dysts/lib/python3.8/site-packages/sktime/utils/data_io.py\u001b[0m in \u001b[0;36mload_from_tsfile_to_dataframe\u001b[0;34m(full_file_path_and_name, return_separate_X_and_y, replace_missing_vals_with)\u001b[0m\n\u001b[1;32m     79\u001b[0m     \u001b[0;31m# Parse the file\u001b[0m\u001b[0;34m\u001b[0m\u001b[0;34m\u001b[0m\u001b[0;34m\u001b[0m\u001b[0m\n\u001b[1;32m     80\u001b[0m     \u001b[0;31m# print(full_file_path_and_name)\u001b[0m\u001b[0;34m\u001b[0m\u001b[0;34m\u001b[0m\u001b[0;34m\u001b[0m\u001b[0m\n\u001b[0;32m---> 81\u001b[0;31m     \u001b[0;32mwith\u001b[0m \u001b[0mopen\u001b[0m\u001b[0;34m(\u001b[0m\u001b[0mfull_file_path_and_name\u001b[0m\u001b[0;34m,\u001b[0m \u001b[0;34m\"r\"\u001b[0m\u001b[0;34m,\u001b[0m \u001b[0mencoding\u001b[0m\u001b[0;34m=\u001b[0m\u001b[0;34m\"utf-8\"\u001b[0m\u001b[0;34m)\u001b[0m \u001b[0;32mas\u001b[0m \u001b[0mfile\u001b[0m\u001b[0;34m:\u001b[0m\u001b[0;34m\u001b[0m\u001b[0;34m\u001b[0m\u001b[0m\n\u001b[0m\u001b[1;32m     82\u001b[0m         \u001b[0;32mfor\u001b[0m \u001b[0mline\u001b[0m \u001b[0;32min\u001b[0m \u001b[0mfile\u001b[0m\u001b[0;34m:\u001b[0m\u001b[0;34m\u001b[0m\u001b[0;34m\u001b[0m\u001b[0m\n\u001b[1;32m     83\u001b[0m             \u001b[0;31m# Strip white space from start/end of line and change to\u001b[0m\u001b[0;34m\u001b[0m\u001b[0;34m\u001b[0m\u001b[0;34m\u001b[0m\u001b[0m\n",
      "\u001b[0;31mFileNotFoundError\u001b[0m: [Errno 2] No such file or directory: '/Users/williamgilpin/miniconda3/envs/dysts/lib/python3.8/site-packages/sktime/datasets/data/AbnormalHeartbeat/AbnormalHeartbeat_TRAIN.ts'"
     ]
    }
   ],
   "source": [
    "from sktime.transformations.panel.tsfresh import TSFreshFeatureExtractor\n",
    "\n",
    "X_train, y_train = load_basic_motions(split=\"train\", return_X_y=True)\n",
    "X_test, y_test = load_basic_motions(split=\"test\", return_X_y=True)\n",
    "\n",
    "X_train, y_train = sktime.datasets.load_UCR_UEA_dataset(\"AbnormalHeartbeat\", split=\"train\", return_X_y=True)\n",
    "X_test, y_test = sktime.datasets.load_UCR_UEA_dataset(\"AbnormalHeartbeat\", split=\"test\", return_X_y=True)\n",
    "\n",
    "transformer = TSFreshFeatureExtractor()\n",
    "X_train_featurized = transformer.fit_transform(X_train)\n",
    "X_test_featurized = transformer.fit_transform(X_test)\n",
    "\n",
    "\n",
    "from sklearn.linear_model import RidgeClassifierCV\n",
    "\n",
    "model = RidgeClassifierCV(alphas = np.logspace(-3, 3, 10), normalize = True)\n",
    "model.fit(X_train_featurized, y_train)\n",
    "\n",
    "model.score(X_test_featurized, y_test)"
   ]
  },
  {
   "cell_type": "code",
   "execution_count": 38,
   "metadata": {},
   "outputs": [],
   "source": [
    "X_train_featurized = extracted_features"
   ]
  },
  {
   "cell_type": "code",
   "execution_count": 43,
   "metadata": {},
   "outputs": [
    {
     "data": {
      "text/plain": [
       "1.0"
      ]
     },
     "execution_count": 43,
     "metadata": {},
     "output_type": "execute_result"
    }
   ],
   "source": []
  },
  {
   "cell_type": "code",
   "execution_count": 44,
   "metadata": {},
   "outputs": [
    {
     "data": {
      "text/plain": [
       "array(['standing', 'standing', 'standing', 'standing', 'standing',\n",
       "       'standing', 'standing', 'standing', 'standing', 'standing',\n",
       "       'running', 'running', 'running', 'running', 'running', 'running',\n",
       "       'running', 'running', 'running', 'running', 'walking', 'walking',\n",
       "       'walking', 'walking', 'walking', 'walking', 'walking', 'walking',\n",
       "       'walking', 'walking', 'badminton', 'badminton', 'badminton',\n",
       "       'badminton', 'badminton', 'badminton', 'badminton', 'badminton',\n",
       "       'badminton', 'badminton'], dtype='<U9')"
      ]
     },
     "execution_count": 44,
     "metadata": {},
     "output_type": "execute_result"
    }
   ],
   "source": [
    "model.predict(X_test_featurized)"
   ]
  },
  {
   "cell_type": "code",
   "execution_count": 45,
   "metadata": {},
   "outputs": [
    {
     "data": {
      "text/plain": [
       "array(['standing', 'standing', 'standing', 'standing', 'standing',\n",
       "       'standing', 'standing', 'standing', 'standing', 'standing',\n",
       "       'running', 'running', 'running', 'running', 'running', 'running',\n",
       "       'running', 'running', 'running', 'running', 'walking', 'walking',\n",
       "       'walking', 'walking', 'walking', 'walking', 'walking', 'walking',\n",
       "       'walking', 'walking', 'badminton', 'badminton', 'badminton',\n",
       "       'badminton', 'badminton', 'badminton', 'badminton', 'badminton',\n",
       "       'badminton', 'badminton'], dtype='<U9')"
      ]
     },
     "execution_count": 45,
     "metadata": {},
     "output_type": "execute_result"
    }
   ],
   "source": [
    "y_test"
   ]
  },
  {
   "cell_type": "code",
   "execution_count": null,
   "metadata": {},
   "outputs": [],
   "source": []
  },
  {
   "cell_type": "code",
   "execution_count": null,
   "metadata": {},
   "outputs": [],
   "source": []
  },
  {
   "cell_type": "code",
   "execution_count": null,
   "metadata": {},
   "outputs": [],
   "source": []
  },
  {
   "cell_type": "markdown",
   "metadata": {},
   "source": [
    "### Load datasets"
   ]
  },
  {
   "cell_type": "code",
   "execution_count": null,
   "metadata": {},
   "outputs": [],
   "source": [
    "from sktime.utils.data_io import load_from_tsfile_to_dataframe\n",
    "\n",
    "\n",
    "BASE_PATH = \"./resources/ucr_univariate_ts\"\n",
    "dataset_names = np.genfromtxt(\"./resources/ucr_ea_names.txt\", dtype='str')\n",
    "\n",
    "for name in dataset_names:\n",
    "\n",
    "    X_train, y_train = load_from_tsfile_to_dataframe(\n",
    "        os.path.join(BASE_PATH, name + \"/\" + name + \"_TRAIN.ts\")\n",
    "    )\n",
    "    \n",
    "    X_test, y_test = load_from_tsfile_to_dataframe(\n",
    "        os.path.join(BASE_PATH, name + \"/\" + name + \"_TEST.ts\")\n",
    "    )\n",
    "\n",
    "    break\n"
   ]
  }
 ],
 "metadata": {
  "kernelspec": {
   "display_name": "Python 3",
   "language": "python",
   "name": "python3"
  },
  "language_info": {
   "codemirror_mode": {
    "name": "ipython",
    "version": 3
   },
   "file_extension": ".py",
   "mimetype": "text/x-python",
   "name": "python",
   "nbconvert_exporter": "python",
   "pygments_lexer": "ipython3",
   "version": "3.8.10"
  }
 },
 "nbformat": 4,
 "nbformat_minor": 4
}
