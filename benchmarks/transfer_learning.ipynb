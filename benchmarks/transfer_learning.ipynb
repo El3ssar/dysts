{
 "cells": [
  {
   "cell_type": "markdown",
   "metadata": {},
   "source": [
    "This notebook uses `sktime`\n",
    "\n",
    "\n",
    "Examples of classification; try just training a CNN versus Random Weights versus raw time series?\n",
    "+ Justification: TimeNet paper suggests generic feature extractors exist\n",
    "\n",
    "\n",
    "https://github.com/hfawaz/dl-4-tsc/tree/master/classifiers\n",
    "https://pyts.readthedocs.io/en/stable/generated/pyts.datasets.load_basic_motions.html"
   ]
  },
  {
   "cell_type": "code",
   "execution_count": 40,
   "metadata": {},
   "outputs": [
    {
     "name": "stdout",
     "output_type": "stream",
     "text": [
      "The autoreload extension is already loaded. To reload it, use:\n",
      "  %reload_ext autoreload\n"
     ]
    }
   ],
   "source": [
    "import sys\n",
    "\n",
    "import matplotlib.pyplot as plt\n",
    "import json\n",
    "\n",
    "import dysts\n",
    "from dysts.flows import *\n",
    "from dysts.base import *\n",
    "from dysts.utils import *\n",
    "from dysts.analysis import *\n",
    "\n",
    "\n",
    "import degas as dg\n",
    "dg.set_style()\n",
    "\n",
    "# try:\n",
    "#     from private.lyap import lyap_r, lyap_e, corr_dim\n",
    "# except:\n",
    "#     from nolds import lyap_r, lyap_e, corr_dim\n",
    "\n",
    "%matplotlib inline\n",
    "%load_ext autoreload\n",
    "%autoreload 2"
   ]
  },
  {
   "cell_type": "code",
   "execution_count": 5,
   "metadata": {},
   "outputs": [],
   "source": [
    "import numpy as np\n",
    "all_scores = np.linspace(0, 1, 100)\n",
    "\n",
    "\n",
    "\n",
    "np.savetxt(\"out.txt\", list(all_scores))"
   ]
  },
  {
   "cell_type": "code",
   "execution_count": 53,
   "metadata": {},
   "outputs": [
    {
     "ename": "NameError",
     "evalue": "name 'NaN' is not defined",
     "output_type": "error",
     "traceback": [
      "\u001b[0;31m---------------------------------------------------------------------------\u001b[0m",
      "\u001b[0;31mNameError\u001b[0m                                 Traceback (most recent call last)",
      "\u001b[0;32m<ipython-input-53-175f886afeeb>\u001b[0m in \u001b[0;36m<module>\u001b[0;34m\u001b[0m\n\u001b[0;32m----> 1\u001b[0;31m \u001b[0mNaN\u001b[0m\u001b[0;34m\u001b[0m\u001b[0;34m\u001b[0m\u001b[0m\n\u001b[0m",
      "\u001b[0;31mNameError\u001b[0m: name 'NaN' is not defined"
     ]
    }
   ],
   "source": [
    "NaN"
   ]
  },
  {
   "cell_type": "code",
   "execution_count": 8,
   "metadata": {},
   "outputs": [
    {
     "name": "stdout",
     "output_type": "stream",
     "text": [
      "Process is terminated.\n"
     ]
    }
   ],
   "source": [
    "%%bash\n",
    "\n",
    "python sweep_surrogate_transfer_learning.py"
   ]
  },
  {
   "cell_type": "code",
   "execution_count": 64,
   "metadata": {},
   "outputs": [],
   "source": [
    "dd = dict()\n",
    "\n",
    "dd[\"yeller\"] = 0\n",
    "dd[\"tom\"] = 1\n",
    "\n",
    "ee = dict()\n",
    "\n",
    "ee[\"ball\"] = 1\n",
    "ee[\"tom\"] = 2\n",
    "\n",
    "dd.update(dd)"
   ]
  },
  {
   "cell_type": "code",
   "execution_count": 65,
   "metadata": {},
   "outputs": [
    {
     "data": {
      "text/plain": [
       "{'yeller': 0, 'tom': 1}"
      ]
     },
     "execution_count": 65,
     "metadata": {},
     "output_type": "execute_result"
    }
   ],
   "source": [
    "dd"
   ]
  },
  {
   "cell_type": "markdown",
   "metadata": {},
   "source": [
    "## Import experiment results"
   ]
  },
  {
   "cell_type": "code",
   "execution_count": 51,
   "metadata": {},
   "outputs": [
    {
     "name": "stdout",
     "output_type": "stream",
     "text": [
      "[0.80838896 0.82       0.84423077]\n",
      "[0.02719366 0.02787605 0.02405462]\n"
     ]
    }
   ],
   "source": [
    "import json\n",
    "from scipy.stats import sem \n",
    "semd = lambda x, **kwargs : 1.253 * sem(x, **kwargs)\n",
    "\n",
    "with open(\"./results/transfer_learning.json\", \"r\") as file:\n",
    "    all_scores = json.load(file)\n",
    "    \n",
    "all_vals = list()\n",
    "for key in all_scores:\n",
    "    all_vals.append((all_scores[key]['score_tsfresh'], all_scores[key]['score_random'], all_scores[key]['score_transfer']))\n",
    "all_vals = np.array(all_vals)\n",
    "\n",
    "all_orderings = np.argsort(all_vals, axis=1)\n",
    "all_orderings_keyed = [\"\".join([str(item) for item in item]) for item in all_orderings.tolist()]\n",
    "np.unique(all_orderings_keyed, return_counts=True)\n",
    "\n",
    "print(np.median(all_vals, axis=0))\n",
    "print(semd(all_vals, axis=0))"
   ]
  },
  {
   "cell_type": "code",
   "execution_count": 52,
   "metadata": {},
   "outputs": [
    {
     "name": "stdout",
     "output_type": "stream",
     "text": [
      "0.02981221898968528 0.011938367751696799\n",
      "0.018928198238543026 0.01009687782171268\n"
     ]
    }
   ],
   "source": [
    "print(np.median(all_vals[:, 2] - all_vals[:, 0]), semd(all_vals[:, 2] - all_vals[:, 0]))\n",
    "print(np.median(all_vals[:, 2] - all_vals[:, 1]), semd(all_vals[:, 2] - all_vals[:, 1]))"
   ]
  },
  {
   "cell_type": "code",
   "execution_count": 25,
   "metadata": {},
   "outputs": [
    {
     "ename": "TypeError",
     "evalue": "list indices must be integers or slices, not list",
     "output_type": "error",
     "traceback": [
      "\u001b[0;31m---------------------------------------------------------------------------\u001b[0m",
      "\u001b[0;31mTypeError\u001b[0m                                 Traceback (most recent call last)",
      "\u001b[0;32m<ipython-input-25-85c497c11d71>\u001b[0m in \u001b[0;36m<module>\u001b[0;34m\u001b[0m\n\u001b[0;32m----> 1\u001b[0;31m \u001b[0mattractor_list\u001b[0m\u001b[0;34m[\u001b[0m\u001b[0;34m[\u001b[0m\u001b[0;36m7\u001b[0m\u001b[0;34m,\u001b[0m \u001b[0;36m4\u001b[0m\u001b[0;34m]\u001b[0m\u001b[0;34m]\u001b[0m\u001b[0;34m\u001b[0m\u001b[0;34m\u001b[0m\u001b[0m\n\u001b[0m",
      "\u001b[0;31mTypeError\u001b[0m: list indices must be integers or slices, not list"
     ]
    }
   ],
   "source": [
    "attractor_list[[7, 4]]"
   ]
  },
  {
   "cell_type": "code",
   "execution_count": null,
   "metadata": {},
   "outputs": [],
   "source": [
    " \n",
    "    \n",
    "    \n"
   ]
  },
  {
   "cell_type": "code",
   "execution_count": 2,
   "metadata": {},
   "outputs": [],
   "source": []
  },
  {
   "cell_type": "markdown",
   "metadata": {},
   "source": [
    "## Data scaling"
   ]
  },
  {
   "cell_type": "code",
   "execution_count": 50,
   "metadata": {},
   "outputs": [
    {
     "name": "stderr",
     "output_type": "stream",
     "text": [
      "<ipython-input-50-f3865886ca0f>:9: DeprecationWarning: `median_absolute_deviation` is deprecated, use `median_abs_deviation` instead!\n",
      "\n",
      "To preserve the existing default behavior, use\n",
      "`scipy.stats.median_abs_deviation(..., scale=1/1.4826)`.\n",
      "The value 1.4826 is not numerically precise for scaling\n",
      "with a normal distribution. For a numerically precise value, use\n",
      "`scipy.stats.median_abs_deviation(..., scale='normal')`.\n",
      "\n",
      "  dev_vals = median_absolute_deviation(all_vals, axis=0, scale='normal')\n"
     ]
    },
    {
     "data": {
      "image/png": "[encoded data removed]",
      "text/plain": [
       "<Figure size 432x288 with 1 Axes>"
      ]
     },
     "metadata": {
      "needs_background": "light"
     },
     "output_type": "display_data"
    }
   ],
   "source": [
    "## plot results vs sota\n",
    "from scipy.stats import sem, median_absolute_deviation\n",
    "\n",
    "semd = lambda x, **kwargs : 1.2533 * sem(x, **kwargs)\n",
    "\n",
    "all_vals = np.loadtxt('./results/sweep_surrogate_data.csv')\n",
    "\n",
    "med_vals = np.median(all_vals, axis=0)\n",
    "dev_vals = median_absolute_deviation(all_vals, axis=0, scale='normal')\n",
    "# plt.plot(med_vals)\n",
    "# plt.plot(med_vals + dev_vals)\n",
    "# plt.plot(med_vals - dev_vals)\n",
    "dg.plot_err(med_vals, dev_vals, x=np.linspace(0, 1, len(med_vals)))\n",
    "plt.xlim([0, 1])\n",
    "\n",
    "\n",
    "dg.fixed_aspect_ratio(1)\n",
    "\n",
    "\n",
    "dg.better_savefig(\"../private_writing/fig_resources/data_scaling.png\", dpi=600)"
   ]
  },
  {
   "cell_type": "code",
   "execution_count": null,
   "metadata": {},
   "outputs": [],
   "source": [
    "#!/usr/bin/python3                                                                                                                                \n",
    "\n",
    "import json\n",
    "import pandas as pd\n",
    "import numpy as np\n",
    "import time\n",
    "\n",
    "import pysindy as ps\n",
    "from dsr import DeepSymbolicRegressor\n",
    "from pysr import pysr, best_callable\n",
    "\n",
    "from sktime.performance_metrics.forecasting import mean_absolute_percentage_error\n",
    "metric_calc = lambda x0, x1 : mean_absolute_percentage_error(x0, x1, symmetric=True)\n",
    "\n",
    "import dysts\n",
    "from dysts.flows import *\n",
    "from dysts.base import *\n",
    "from dysts.utils import *\n",
    "# from dysts.analysis import *                                                                                                                    \n",
    "from dysts.analysis import sample_initial_conditions\n",
    "\n",
    "\n",
    "cwd = os.path.dirname(os.path.realpath(__file__))\n",
    "# cwd = \".\"                                                                                                                                       \n",
    "# dataname = os.path.splitext(os.path.basename(os.path.split(input_path)[-1]))[0]                                                                 \n",
    "output_path = cwd + \"/results/symbolic_scores_sweep.json\"\n",
    "\n",
    "operator_list = [\n",
    "            \"cos\",\n",
    "            \"exp\",\n",
    "            \"sin\",\n",
    "            \"log\",\n",
    "            \"tanh\",\n",
    "            \"inv(x) = 1/x\",\n",
    "        ]\n",
    "\n",
    "NPROCS = 24\n",
    "pysr_opts = {\n",
    "    \"populations\" : 2 * NPROCS,\n",
    "    \"niterations\" : 5,\n",
    "#    \"runtests\" : False,                                                                                                                          \n",
    "    \"procs\": NPROCS, # number of threads                                                                                                          \n",
    "#    \"procs\": 0,                                                                                                                                  \n",
    "    \"delete_tempfiles\" : True,\n",
    "    \"verbosity\": 0,\n",
    "    \"unary_operators\" : operator_list,\n",
    "#    \"multithreading\" : True,                                                                                                                     \n",
    "    \"binary_operators\" : [\"+\", \"*\"]\n",
    "}\n",
    "\n",
    "# get data                                                                                                                                        \n",
    "with open(cwd + \"/resources/symb_train_test_data.json\", \"r\") as file:\n",
    "    all_train_test = json.load(file)\n",
    "\n",
    "try:\n",
    "    with open(output_path, \"r\") as file:\n",
    "        sym_scores = json.load(file)\n",
    "except FileNotFoundError:\n",
    "    sym_scores = dict()\n",
    "    with open(output_path, 'w') as f:\n",
    "        json.dump(sym_scores, f, indent=4)\n",
    "\n",
    "for i, equation_name in enumerate(get_attractor_list()[100:]):\n",
    "\n",
    "#    with open(output_path, \"r\") as file:                                                                                                         \n",
    "#        sym_scores = json.load(file)                                                                                                             \n",
    "\n",
    "    with open(output_path, \"r\") as file:\n",
    "        sym_scores.update(json.load(file))\n",
    "\n",
    "    if equation_name in sym_scores.keys():\n",
    "        print(f\"Entry for {equation_name} found, skipping it.\", flush=True)\n",
    "        continue\n",
    "    print(equation_name, flush=True)\n",
    "\n",
    "\n",
    "    sym_scores[equation_name] = dict()\n",
    "\n",
    "    X_train = np.array(all_train_test[equation_name][\"X_train\"])\n",
    "    y_train = np.array(all_train_test[equation_name][\"y_train\"])\n",
    "    X_test = np.array(all_train_test[equation_name][\"X_test\"])\n",
    "    y_test = np.array(all_train_test[equation_name][\"y_test\"])\n",
    "    t_train = np.array(all_train_test[equation_name][\"t_train\"])\n",
    "    t_test = np.array(all_train_test[equation_name][\"t_test\"])                                                                                                            \n",
    "\n",
    "    ndim = min([X_test.shape[-1], y_test.shape[-1]])\n",
    "\n",
    "    ## SINDY-poly                                                                                                                                 \n",
    "    t0 = time.perf_counter()\n",
    "    sym_model = ps.SINDy()\n",
    "    sym_model.fit(X_train, t=t_train)\n",
    "    y_test_pred = sym_model.predict(X_test)\n",
    "    all_scores = list()\n",
    "    for i in range(ndim):\n",
    "        all_scores.append(metric_calc(y_test[:, i], y_test_pred[:, i]))\n",
    "    sym_scores[equation_name][\"SINDY-poly\"] = np.median(all_scores)\n",
    "    t1 = time.perf_counter()\n",
    "    elapsed = t1 - t0\n",
    "    sym_scores[equation_name][\"SINDY-poly-time\"] = elapsed\n",
    "\n",
    "    ## SINDY-fourier basis                                                                                                                        \n",
    "    t0 = time.perf_counter()\n",
    "    sym_model = ps.SINDy(feature_library=ps.FourierLibrary(n_frequencies=10))\n",
    "    sym_model.fit(X_train, t=t_train)\n",
    "    y_test_pred = sym_model.predict(X_test)\n",
    "    all_scores = list()\n",
    "    for i in range(ndim):\n",
    "        all_scores.append(metric_calc(y_test[:, i], y_test_pred[:, i]))\n",
    "    sym_scores[equation_name][\"SINDY-fourier\"] = np.median(all_scores)\n",
    "    t1 = time.perf_counter()\n",
    "    elapsed = t1 - t0\n",
    "    sym_scores[equation_name][\"SINDY-fourier-time\"] = elapsed\n",
    "\n",
    "    ## DSR                                                                                                                                        \n",
    "#    t0 = time.perf_counter()                                                                                                                     \n",
    "#    all_scores = list()                                                                                                                          \n",
    "#    for i in range(ndim):                                                                                                                        \n",
    "#        model = DeepSymbolicRegressor(cwd + \"/resources/config.json\")                                                                            \n",
    "#        model.fit(X_train, y_train[:, i])                                                                                                        \n",
    "#        y_test_pred = model.predict(X_test)                                                                                                      \n",
    "#        all_scores.append(metric_calc(y_test[:, i], y_test_pred))                                                                                \n",
    "#        print(\"iter complete\", flush=True)                                                                                                       \n",
    "#    final_score = np.median(all_scores)                                                                                                          \n",
    "#    sym_scores[equation_name][\"DSR\"] = final_score                                                                                               \n",
    "#    t1 = time.perf_counter()                                                                                                                     \n",
    "#    elapsed = t1 - t0                                                                                                                            \n",
    "#    sym_scores[equation_name][\"DSR-time\"] = elapsed                                                                                              \n",
    "\n",
    "    ## pySR                                                                                                                                        \n",
    "    t0 = time.perf_counter()\n",
    "    all_scores = list()\n",
    "    for i in range(ndim):\n",
    "        try:\n",
    "            models = pysr(X_train, y_train[:, i], **pysr_opts)\n",
    "            y_test_pred = best_callable(models)(X_test)\n",
    "            all_scores.append(metric_calc(y_test[:, i], y_test_pred))\n",
    "            print(\"iter complete\", flush=True)\n",
    "        except:\n",
    "            print(\"bad iteration\", flush=True)\n",
    "    try:\n",
    "        final_score = np.median(all_scores)\n",
    "    except:\n",
    "        final_score = None\n",
    "    sym_scores[equation_name][\"pySR\"] = final_score\n",
    "    t1 = time.perf_counter()\n",
    "    elapsed = t1 - t0\n",
    "    sym_scores[equation_name][\"pySR-time\"] = elapsed\n",
    "\n",
    "    print(equation_name, final_score, flush=True)\n",
    "\n",
    "    with open(output_path, \"r\") as file:\n",
    "        sym_scores.update(json.load(file))\n",
    "\n",
    "    sym_scores.update(curr_scores)\n",
    "\n",
    "    with open(output_path, 'w') as f:\n",
    "        json.dump(sym_scores, f, indent=4)\n",
    "\n"
   ]
  }
 ],
 "metadata": {
  "kernelspec": {
   "display_name": "Python 3",
   "language": "python",
   "name": "python3"
  },
  "language_info": {
   "codemirror_mode": {
    "name": "ipython",
    "version": 3
   },
   "file_extension": ".py",
   "mimetype": "text/x-python",
   "name": "python",
   "nbconvert_exporter": "python",
   "pygments_lexer": "ipython3",
   "version": "3.8.10"
  }
 },
 "nbformat": 4,
 "nbformat_minor": 4
}
