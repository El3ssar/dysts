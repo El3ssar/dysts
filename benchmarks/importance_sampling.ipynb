{
 "cells": [
  {
   "cell_type": "markdown",
   "metadata": {},
   "source": [
    "This notebook uses the `develop` branch of `darts`, in order to take advantage of model re-training"
   ]
  },
  {
   "cell_type": "code",
   "execution_count": 1,
   "metadata": {},
   "outputs": [],
   "source": [
    "import sys\n",
    "\n",
    "import matplotlib.pyplot as plt\n",
    "import json\n",
    "\n",
    "import dysts\n",
    "from dysts.flows import *\n",
    "from dysts.base import *\n",
    "from dysts.utils import *\n",
    "from dysts.analysis import *\n",
    "\n",
    "# try:\n",
    "#     from private.lyap import lyap_r, lyap_e, corr_dim\n",
    "# except:\n",
    "#     from nolds import lyap_r, lyap_e, corr_dim\n",
    "\n",
    "%matplotlib inline\n",
    "%load_ext autoreload\n",
    "%autoreload 2"
   ]
  },
  {
   "cell_type": "code",
   "execution_count": null,
   "metadata": {},
   "outputs": [],
   "source": [
    "\n",
    "for equation_name in equation_data.dataset:\n",
    "    \n",
    "    print(equation_name, flush=True)\n",
    "\n",
    "    with open(output_path, 'w') as f:\n",
    "        json.dump(all_hyperparameters, f, indent=4)   "
   ]
  },
  {
   "cell_type": "code",
   "execution_count": null,
   "metadata": {},
   "outputs": [],
   "source": [
    "output_path = \"\""
   ]
  },
  {
   "cell_type": "code",
   "execution_count": 96,
   "metadata": {},
   "outputs": [
    {
     "name": "stdout",
     "output_type": "stream",
     "text": [
      "400000\n",
      "400000\n"
     ]
    }
   ],
   "source": [
    "    print(n_ic * traj_len * n_iters* epoch_count)\n",
    "    print(full_epoch_count * 1000)"
   ]
  },
  {
   "cell_type": "code",
   "execution_count": null,
   "metadata": {},
   "outputs": [
    {
     "name": "stdout",
     "output_type": "stream",
     "text": [
      "Saving data to:  /Users/williamgilpin/program_repos/dysts/benchmarks/results/importance_sampling.json\n",
      "10 points sampled per iteration, with trajectory length 100, for a total of 20 iterations of length 20\n",
      "400000\n",
      "400000\n",
      "Aizawa 0\n"
     ]
    },
    {
     "name": "stderr",
     "output_type": "stream",
     "text": [
      "[2021-06-30 21:57:28,239] INFO | darts.models.torch_forecasting_model | Train dataset contains 975 samples.\n",
      "[2021-06-30 21:57:28,239] INFO | darts.models.torch_forecasting_model | Train dataset contains 975 samples.\n"
     ]
    },
    {
     "name": "stdout",
     "output_type": "stream",
     "text": [
      "0.6871950603001816\n"
     ]
    },
    {
     "name": "stderr",
     "output_type": "stream",
     "text": [
      "[2021-06-30 21:59:33,681] INFO | darts.models.torch_forecasting_model | Train dataset contains 750 samples.\n",
      "[2021-06-30 21:59:33,681] INFO | darts.models.torch_forecasting_model | Train dataset contains 750 samples.\n"
     ]
    },
    {
     "name": "stdout",
     "output_type": "stream",
     "text": [
      "0\n"
     ]
    },
    {
     "name": "stderr",
     "output_type": "stream",
     "text": [
      "[2021-06-30 21:59:42,553] INFO | darts.models.torch_forecasting_model | Train dataset contains 750 samples.\n",
      "[2021-06-30 21:59:42,553] INFO | darts.models.torch_forecasting_model | Train dataset contains 750 samples.\n"
     ]
    },
    {
     "name": "stdout",
     "output_type": "stream",
     "text": [
      "1\n"
     ]
    },
    {
     "name": "stderr",
     "output_type": "stream",
     "text": [
      "[2021-06-30 21:59:51,470] INFO | darts.models.torch_forecasting_model | Train dataset contains 750 samples.\n",
      "[2021-06-30 21:59:51,470] INFO | darts.models.torch_forecasting_model | Train dataset contains 750 samples.\n"
     ]
    },
    {
     "name": "stdout",
     "output_type": "stream",
     "text": [
      "2\n"
     ]
    },
    {
     "name": "stderr",
     "output_type": "stream",
     "text": [
      "[2021-06-30 22:00:00,487] INFO | darts.models.torch_forecasting_model | Train dataset contains 750 samples.\n",
      "[2021-06-30 22:00:00,487] INFO | darts.models.torch_forecasting_model | Train dataset contains 750 samples.\n"
     ]
    },
    {
     "name": "stdout",
     "output_type": "stream",
     "text": [
      "3\n"
     ]
    },
    {
     "name": "stderr",
     "output_type": "stream",
     "text": [
      "[2021-06-30 22:00:10,045] INFO | darts.models.torch_forecasting_model | Train dataset contains 750 samples.\n",
      "[2021-06-30 22:00:10,045] INFO | darts.models.torch_forecasting_model | Train dataset contains 750 samples.\n"
     ]
    },
    {
     "name": "stdout",
     "output_type": "stream",
     "text": [
      "4\n"
     ]
    },
    {
     "name": "stderr",
     "output_type": "stream",
     "text": [
      "[2021-06-30 22:00:18,497] INFO | darts.models.torch_forecasting_model | Train dataset contains 750 samples.\n",
      "[2021-06-30 22:00:18,497] INFO | darts.models.torch_forecasting_model | Train dataset contains 750 samples.\n"
     ]
    },
    {
     "name": "stdout",
     "output_type": "stream",
     "text": [
      "5\n"
     ]
    },
    {
     "name": "stderr",
     "output_type": "stream",
     "text": [
      "[2021-06-30 22:00:27,725] INFO | darts.models.torch_forecasting_model | Train dataset contains 750 samples.\n",
      "[2021-06-30 22:00:27,725] INFO | darts.models.torch_forecasting_model | Train dataset contains 750 samples.\n"
     ]
    },
    {
     "name": "stdout",
     "output_type": "stream",
     "text": [
      "6\n"
     ]
    },
    {
     "name": "stderr",
     "output_type": "stream",
     "text": [
      "[2021-06-30 22:00:37,196] INFO | darts.models.torch_forecasting_model | Train dataset contains 750 samples.\n",
      "[2021-06-30 22:00:37,196] INFO | darts.models.torch_forecasting_model | Train dataset contains 750 samples.\n"
     ]
    },
    {
     "name": "stdout",
     "output_type": "stream",
     "text": [
      "7\n"
     ]
    },
    {
     "name": "stderr",
     "output_type": "stream",
     "text": [
      "[2021-06-30 22:00:46,925] INFO | darts.models.torch_forecasting_model | Train dataset contains 750 samples.\n",
      "[2021-06-30 22:00:46,925] INFO | darts.models.torch_forecasting_model | Train dataset contains 750 samples.\n"
     ]
    },
    {
     "name": "stdout",
     "output_type": "stream",
     "text": [
      "8\n"
     ]
    },
    {
     "name": "stderr",
     "output_type": "stream",
     "text": [
      "[2021-06-30 22:00:56,083] INFO | darts.models.torch_forecasting_model | Train dataset contains 750 samples.\n",
      "[2021-06-30 22:00:56,083] INFO | darts.models.torch_forecasting_model | Train dataset contains 750 samples.\n"
     ]
    },
    {
     "name": "stdout",
     "output_type": "stream",
     "text": [
      "9\n"
     ]
    },
    {
     "name": "stderr",
     "output_type": "stream",
     "text": [
      "[2021-06-30 22:01:05,255] INFO | darts.models.torch_forecasting_model | Train dataset contains 750 samples.\n",
      "[2021-06-30 22:01:05,255] INFO | darts.models.torch_forecasting_model | Train dataset contains 750 samples.\n"
     ]
    },
    {
     "name": "stdout",
     "output_type": "stream",
     "text": [
      "10\n"
     ]
    },
    {
     "name": "stderr",
     "output_type": "stream",
     "text": [
      "[2021-06-30 22:01:13,988] INFO | darts.models.torch_forecasting_model | Train dataset contains 750 samples.\n",
      "[2021-06-30 22:01:13,988] INFO | darts.models.torch_forecasting_model | Train dataset contains 750 samples.\n"
     ]
    },
    {
     "name": "stdout",
     "output_type": "stream",
     "text": [
      "11\n"
     ]
    },
    {
     "name": "stderr",
     "output_type": "stream",
     "text": [
      "[2021-06-30 22:01:22,958] INFO | darts.models.torch_forecasting_model | Train dataset contains 750 samples.\n",
      "[2021-06-30 22:01:22,958] INFO | darts.models.torch_forecasting_model | Train dataset contains 750 samples.\n"
     ]
    },
    {
     "name": "stdout",
     "output_type": "stream",
     "text": [
      "12\n"
     ]
    },
    {
     "name": "stderr",
     "output_type": "stream",
     "text": [
      "[2021-06-30 22:01:31,482] INFO | darts.models.torch_forecasting_model | Train dataset contains 750 samples.\n",
      "[2021-06-30 22:01:31,482] INFO | darts.models.torch_forecasting_model | Train dataset contains 750 samples.\n"
     ]
    },
    {
     "name": "stdout",
     "output_type": "stream",
     "text": [
      "13\n"
     ]
    },
    {
     "name": "stderr",
     "output_type": "stream",
     "text": [
      "[2021-06-30 22:01:40,126] INFO | darts.models.torch_forecasting_model | Train dataset contains 750 samples.\n",
      "[2021-06-30 22:01:40,126] INFO | darts.models.torch_forecasting_model | Train dataset contains 750 samples.\n"
     ]
    },
    {
     "name": "stdout",
     "output_type": "stream",
     "text": [
      "14\n"
     ]
    },
    {
     "name": "stderr",
     "output_type": "stream",
     "text": [
      "[2021-06-30 22:01:49,028] INFO | darts.models.torch_forecasting_model | Train dataset contains 750 samples.\n",
      "[2021-06-30 22:01:49,028] INFO | darts.models.torch_forecasting_model | Train dataset contains 750 samples.\n"
     ]
    },
    {
     "name": "stdout",
     "output_type": "stream",
     "text": [
      "15\n"
     ]
    },
    {
     "name": "stderr",
     "output_type": "stream",
     "text": [
      "[2021-06-30 22:01:57,510] INFO | darts.models.torch_forecasting_model | Train dataset contains 750 samples.\n",
      "[2021-06-30 22:01:57,510] INFO | darts.models.torch_forecasting_model | Train dataset contains 750 samples.\n"
     ]
    },
    {
     "name": "stdout",
     "output_type": "stream",
     "text": [
      "16\n"
     ]
    },
    {
     "name": "stderr",
     "output_type": "stream",
     "text": [
      "[2021-06-30 22:02:05,808] INFO | darts.models.torch_forecasting_model | Train dataset contains 750 samples.\n",
      "[2021-06-30 22:02:05,808] INFO | darts.models.torch_forecasting_model | Train dataset contains 750 samples.\n"
     ]
    },
    {
     "name": "stdout",
     "output_type": "stream",
     "text": [
      "17\n"
     ]
    },
    {
     "name": "stderr",
     "output_type": "stream",
     "text": [
      "[2021-06-30 22:02:13,872] INFO | darts.models.torch_forecasting_model | Train dataset contains 750 samples.\n",
      "[2021-06-30 22:02:13,872] INFO | darts.models.torch_forecasting_model | Train dataset contains 750 samples.\n"
     ]
    },
    {
     "name": "stdout",
     "output_type": "stream",
     "text": [
      "18\n"
     ]
    },
    {
     "name": "stderr",
     "output_type": "stream",
     "text": [
      "[2021-06-30 22:02:21,911] INFO | darts.models.torch_forecasting_model | Train dataset contains 750 samples.\n",
      "[2021-06-30 22:02:21,911] INFO | darts.models.torch_forecasting_model | Train dataset contains 750 samples.\n"
     ]
    },
    {
     "name": "stdout",
     "output_type": "stream",
     "text": [
      "19\n",
      "0.6021738492229528\n"
     ]
    },
    {
     "data": {
      "image/png": "[encoded data removed]",
      "text/plain": [
       "<Figure size 432x288 with 1 Axes>"
      ]
     },
     "metadata": {
      "needs_background": "light"
     },
     "output_type": "display_data"
    },
    {
     "name": "stdout",
     "output_type": "stream",
     "text": [
      "AnishchenkoAstakhov 1\n"
     ]
    },
    {
     "name": "stderr",
     "output_type": "stream",
     "text": [
      "[2021-06-30 22:02:30,382] INFO | darts.models.torch_forecasting_model | Train dataset contains 975 samples.\n",
      "[2021-06-30 22:02:30,382] INFO | darts.models.torch_forecasting_model | Train dataset contains 975 samples.\n"
     ]
    },
    {
     "name": "stdout",
     "output_type": "stream",
     "text": [
      "1.4928008550386034\n"
     ]
    },
    {
     "name": "stderr",
     "output_type": "stream",
     "text": [
      "[2021-06-30 22:04:27,728] INFO | darts.models.torch_forecasting_model | Train dataset contains 750 samples.\n",
      "[2021-06-30 22:04:27,728] INFO | darts.models.torch_forecasting_model | Train dataset contains 750 samples.\n"
     ]
    },
    {
     "name": "stdout",
     "output_type": "stream",
     "text": [
      "0\n"
     ]
    },
    {
     "name": "stderr",
     "output_type": "stream",
     "text": [
      "[2021-06-30 22:04:36,354] INFO | darts.models.torch_forecasting_model | Train dataset contains 750 samples.\n",
      "[2021-06-30 22:04:36,354] INFO | darts.models.torch_forecasting_model | Train dataset contains 750 samples.\n"
     ]
    },
    {
     "name": "stdout",
     "output_type": "stream",
     "text": [
      "1\n"
     ]
    },
    {
     "name": "stderr",
     "output_type": "stream",
     "text": [
      "[2021-06-30 22:04:44,646] INFO | darts.models.torch_forecasting_model | Train dataset contains 750 samples.\n",
      "[2021-06-30 22:04:44,646] INFO | darts.models.torch_forecasting_model | Train dataset contains 750 samples.\n"
     ]
    },
    {
     "name": "stdout",
     "output_type": "stream",
     "text": [
      "2\n"
     ]
    },
    {
     "name": "stderr",
     "output_type": "stream",
     "text": [
      "[2021-06-30 22:04:52,863] INFO | darts.models.torch_forecasting_model | Train dataset contains 750 samples.\n",
      "[2021-06-30 22:04:52,863] INFO | darts.models.torch_forecasting_model | Train dataset contains 750 samples.\n"
     ]
    },
    {
     "name": "stdout",
     "output_type": "stream",
     "text": [
      "3\n"
     ]
    },
    {
     "name": "stderr",
     "output_type": "stream",
     "text": [
      "[2021-06-30 22:05:01,265] INFO | darts.models.torch_forecasting_model | Train dataset contains 750 samples.\n",
      "[2021-06-30 22:05:01,265] INFO | darts.models.torch_forecasting_model | Train dataset contains 750 samples.\n"
     ]
    },
    {
     "name": "stdout",
     "output_type": "stream",
     "text": [
      "4\n"
     ]
    },
    {
     "name": "stderr",
     "output_type": "stream",
     "text": [
      "[2021-06-30 22:05:09,841] INFO | darts.models.torch_forecasting_model | Train dataset contains 750 samples.\n",
      "[2021-06-30 22:05:09,841] INFO | darts.models.torch_forecasting_model | Train dataset contains 750 samples.\n"
     ]
    },
    {
     "name": "stdout",
     "output_type": "stream",
     "text": [
      "5\n"
     ]
    },
    {
     "name": "stderr",
     "output_type": "stream",
     "text": [
      "[2021-06-30 22:05:18,551] INFO | darts.models.torch_forecasting_model | Train dataset contains 750 samples.\n",
      "[2021-06-30 22:05:18,551] INFO | darts.models.torch_forecasting_model | Train dataset contains 750 samples.\n"
     ]
    },
    {
     "name": "stdout",
     "output_type": "stream",
     "text": [
      "6\n"
     ]
    },
    {
     "name": "stderr",
     "output_type": "stream",
     "text": [
      "[2021-06-30 22:05:27,136] INFO | darts.models.torch_forecasting_model | Train dataset contains 750 samples.\n",
      "[2021-06-30 22:05:27,136] INFO | darts.models.torch_forecasting_model | Train dataset contains 750 samples.\n"
     ]
    },
    {
     "name": "stdout",
     "output_type": "stream",
     "text": [
      "7\n"
     ]
    },
    {
     "name": "stderr",
     "output_type": "stream",
     "text": [
      "[2021-06-30 22:05:35,243] INFO | darts.models.torch_forecasting_model | Train dataset contains 750 samples.\n",
      "[2021-06-30 22:05:35,243] INFO | darts.models.torch_forecasting_model | Train dataset contains 750 samples.\n"
     ]
    },
    {
     "name": "stdout",
     "output_type": "stream",
     "text": [
      "8\n"
     ]
    },
    {
     "name": "stderr",
     "output_type": "stream",
     "text": [
      "[2021-06-30 22:05:43,284] INFO | darts.models.torch_forecasting_model | Train dataset contains 750 samples.\n",
      "[2021-06-30 22:05:43,284] INFO | darts.models.torch_forecasting_model | Train dataset contains 750 samples.\n"
     ]
    },
    {
     "name": "stdout",
     "output_type": "stream",
     "text": [
      "9\n"
     ]
    },
    {
     "name": "stderr",
     "output_type": "stream",
     "text": [
      "[2021-06-30 22:05:51,176] INFO | darts.models.torch_forecasting_model | Train dataset contains 750 samples.\n",
      "[2021-06-30 22:05:51,176] INFO | darts.models.torch_forecasting_model | Train dataset contains 750 samples.\n"
     ]
    },
    {
     "name": "stdout",
     "output_type": "stream",
     "text": [
      "10\n"
     ]
    },
    {
     "name": "stderr",
     "output_type": "stream",
     "text": [
      "[2021-06-30 22:05:59,170] INFO | darts.models.torch_forecasting_model | Train dataset contains 750 samples.\n",
      "[2021-06-30 22:05:59,170] INFO | darts.models.torch_forecasting_model | Train dataset contains 750 samples.\n"
     ]
    },
    {
     "name": "stdout",
     "output_type": "stream",
     "text": [
      "11\n"
     ]
    },
    {
     "name": "stderr",
     "output_type": "stream",
     "text": [
      "[2021-06-30 22:06:07,700] INFO | darts.models.torch_forecasting_model | Train dataset contains 750 samples.\n",
      "[2021-06-30 22:06:07,700] INFO | darts.models.torch_forecasting_model | Train dataset contains 750 samples.\n"
     ]
    },
    {
     "name": "stdout",
     "output_type": "stream",
     "text": [
      "12\n"
     ]
    },
    {
     "name": "stderr",
     "output_type": "stream",
     "text": [
      "[2021-06-30 22:06:15,712] INFO | darts.models.torch_forecasting_model | Train dataset contains 750 samples.\n",
      "[2021-06-30 22:06:15,712] INFO | darts.models.torch_forecasting_model | Train dataset contains 750 samples.\n"
     ]
    },
    {
     "name": "stdout",
     "output_type": "stream",
     "text": [
      "13\n"
     ]
    },
    {
     "name": "stderr",
     "output_type": "stream",
     "text": [
      "[2021-06-30 22:06:23,985] INFO | darts.models.torch_forecasting_model | Train dataset contains 750 samples.\n",
      "[2021-06-30 22:06:23,985] INFO | darts.models.torch_forecasting_model | Train dataset contains 750 samples.\n"
     ]
    },
    {
     "name": "stdout",
     "output_type": "stream",
     "text": [
      "14\n"
     ]
    },
    {
     "name": "stderr",
     "output_type": "stream",
     "text": [
      "[2021-06-30 22:06:32,305] INFO | darts.models.torch_forecasting_model | Train dataset contains 750 samples.\n",
      "[2021-06-30 22:06:32,305] INFO | darts.models.torch_forecasting_model | Train dataset contains 750 samples.\n"
     ]
    },
    {
     "name": "stdout",
     "output_type": "stream",
     "text": [
      "15\n"
     ]
    },
    {
     "name": "stderr",
     "output_type": "stream",
     "text": [
      "[2021-06-30 22:06:40,219] INFO | darts.models.torch_forecasting_model | Train dataset contains 750 samples.\n",
      "[2021-06-30 22:06:40,219] INFO | darts.models.torch_forecasting_model | Train dataset contains 750 samples.\n"
     ]
    },
    {
     "name": "stdout",
     "output_type": "stream",
     "text": [
      "16\n"
     ]
    },
    {
     "name": "stderr",
     "output_type": "stream",
     "text": [
      "[2021-06-30 22:06:48,228] INFO | darts.models.torch_forecasting_model | Train dataset contains 750 samples.\n",
      "[2021-06-30 22:06:48,228] INFO | darts.models.torch_forecasting_model | Train dataset contains 750 samples.\n"
     ]
    },
    {
     "name": "stdout",
     "output_type": "stream",
     "text": [
      "17\n"
     ]
    },
    {
     "name": "stderr",
     "output_type": "stream",
     "text": [
      "[2021-06-30 22:06:56,110] INFO | darts.models.torch_forecasting_model | Train dataset contains 750 samples.\n",
      "[2021-06-30 22:06:56,110] INFO | darts.models.torch_forecasting_model | Train dataset contains 750 samples.\n"
     ]
    },
    {
     "name": "stdout",
     "output_type": "stream",
     "text": [
      "18\n"
     ]
    },
    {
     "name": "stderr",
     "output_type": "stream",
     "text": [
      "[2021-06-30 22:07:04,038] INFO | darts.models.torch_forecasting_model | Train dataset contains 750 samples.\n",
      "[2021-06-30 22:07:04,038] INFO | darts.models.torch_forecasting_model | Train dataset contains 750 samples.\n"
     ]
    },
    {
     "name": "stdout",
     "output_type": "stream",
     "text": [
      "19\n",
      "1.1571854774028387\n"
     ]
    },
    {
     "data": {
      "image/png": "[encoded data removed]",
      "text/plain": [
       "<Figure size 432x288 with 1 Axes>"
      ]
     },
     "metadata": {
      "needs_background": "light"
     },
     "output_type": "display_data"
    },
    {
     "name": "stdout",
     "output_type": "stream",
     "text": [
      "Arneodo 2\n"
     ]
    },
    {
     "name": "stderr",
     "output_type": "stream",
     "text": [
      "[2021-06-30 22:07:12,230] INFO | darts.models.torch_forecasting_model | Train dataset contains 975 samples.\n",
      "[2021-06-30 22:07:12,230] INFO | darts.models.torch_forecasting_model | Train dataset contains 975 samples.\n"
     ]
    },
    {
     "name": "stdout",
     "output_type": "stream",
     "text": [
      "0.2418312061053734\n"
     ]
    },
    {
     "name": "stderr",
     "output_type": "stream",
     "text": [
      "[2021-06-30 22:09:03,969] INFO | darts.models.torch_forecasting_model | Train dataset contains 750 samples.\n",
      "[2021-06-30 22:09:03,969] INFO | darts.models.torch_forecasting_model | Train dataset contains 750 samples.\n"
     ]
    },
    {
     "name": "stdout",
     "output_type": "stream",
     "text": [
      "0\n"
     ]
    },
    {
     "name": "stderr",
     "output_type": "stream",
     "text": [
      "[2021-06-30 22:09:11,784] INFO | darts.models.torch_forecasting_model | Train dataset contains 750 samples.\n",
      "[2021-06-30 22:09:11,784] INFO | darts.models.torch_forecasting_model | Train dataset contains 750 samples.\n"
     ]
    },
    {
     "name": "stdout",
     "output_type": "stream",
     "text": [
      "1\n"
     ]
    },
    {
     "name": "stderr",
     "output_type": "stream",
     "text": [
      "[2021-06-30 22:09:19,605] INFO | darts.models.torch_forecasting_model | Train dataset contains 750 samples.\n",
      "[2021-06-30 22:09:19,605] INFO | darts.models.torch_forecasting_model | Train dataset contains 750 samples.\n"
     ]
    },
    {
     "name": "stdout",
     "output_type": "stream",
     "text": [
      "2\n"
     ]
    },
    {
     "name": "stderr",
     "output_type": "stream",
     "text": [
      "[2021-06-30 22:09:27,415] INFO | darts.models.torch_forecasting_model | Train dataset contains 750 samples.\n",
      "[2021-06-30 22:09:27,415] INFO | darts.models.torch_forecasting_model | Train dataset contains 750 samples.\n"
     ]
    },
    {
     "name": "stdout",
     "output_type": "stream",
     "text": [
      "3\n"
     ]
    },
    {
     "name": "stderr",
     "output_type": "stream",
     "text": [
      "[2021-06-30 22:09:35,209] INFO | darts.models.torch_forecasting_model | Train dataset contains 750 samples.\n",
      "[2021-06-30 22:09:35,209] INFO | darts.models.torch_forecasting_model | Train dataset contains 750 samples.\n"
     ]
    },
    {
     "name": "stdout",
     "output_type": "stream",
     "text": [
      "4\n"
     ]
    },
    {
     "name": "stderr",
     "output_type": "stream",
     "text": [
      "[2021-06-30 22:09:43,042] INFO | darts.models.torch_forecasting_model | Train dataset contains 750 samples.\n",
      "[2021-06-30 22:09:43,042] INFO | darts.models.torch_forecasting_model | Train dataset contains 750 samples.\n"
     ]
    },
    {
     "name": "stdout",
     "output_type": "stream",
     "text": [
      "5\n"
     ]
    },
    {
     "name": "stderr",
     "output_type": "stream",
     "text": [
      "[2021-06-30 22:09:50,909] INFO | darts.models.torch_forecasting_model | Train dataset contains 750 samples.\n",
      "[2021-06-30 22:09:50,909] INFO | darts.models.torch_forecasting_model | Train dataset contains 750 samples.\n"
     ]
    },
    {
     "name": "stdout",
     "output_type": "stream",
     "text": [
      "6\n"
     ]
    },
    {
     "name": "stderr",
     "output_type": "stream",
     "text": [
      "[2021-06-30 22:09:58,716] INFO | darts.models.torch_forecasting_model | Train dataset contains 750 samples.\n",
      "[2021-06-30 22:09:58,716] INFO | darts.models.torch_forecasting_model | Train dataset contains 750 samples.\n"
     ]
    },
    {
     "name": "stdout",
     "output_type": "stream",
     "text": [
      "7\n"
     ]
    },
    {
     "name": "stderr",
     "output_type": "stream",
     "text": [
      "[2021-06-30 22:10:06,518] INFO | darts.models.torch_forecasting_model | Train dataset contains 750 samples.\n",
      "[2021-06-30 22:10:06,518] INFO | darts.models.torch_forecasting_model | Train dataset contains 750 samples.\n"
     ]
    },
    {
     "name": "stdout",
     "output_type": "stream",
     "text": [
      "8\n"
     ]
    },
    {
     "name": "stderr",
     "output_type": "stream",
     "text": [
      "[2021-06-30 22:10:14,362] INFO | darts.models.torch_forecasting_model | Train dataset contains 750 samples.\n",
      "[2021-06-30 22:10:14,362] INFO | darts.models.torch_forecasting_model | Train dataset contains 750 samples.\n"
     ]
    },
    {
     "name": "stdout",
     "output_type": "stream",
     "text": [
      "9\n"
     ]
    },
    {
     "name": "stderr",
     "output_type": "stream",
     "text": [
      "[2021-06-30 22:10:22,182] INFO | darts.models.torch_forecasting_model | Train dataset contains 750 samples.\n",
      "[2021-06-30 22:10:22,182] INFO | darts.models.torch_forecasting_model | Train dataset contains 750 samples.\n"
     ]
    },
    {
     "name": "stdout",
     "output_type": "stream",
     "text": [
      "10\n"
     ]
    },
    {
     "name": "stderr",
     "output_type": "stream",
     "text": [
      "[2021-06-30 22:10:30,036] INFO | darts.models.torch_forecasting_model | Train dataset contains 750 samples.\n",
      "[2021-06-30 22:10:30,036] INFO | darts.models.torch_forecasting_model | Train dataset contains 750 samples.\n"
     ]
    },
    {
     "name": "stdout",
     "output_type": "stream",
     "text": [
      "11\n"
     ]
    },
    {
     "name": "stderr",
     "output_type": "stream",
     "text": [
      "[2021-06-30 22:10:37,892] INFO | darts.models.torch_forecasting_model | Train dataset contains 750 samples.\n",
      "[2021-06-30 22:10:37,892] INFO | darts.models.torch_forecasting_model | Train dataset contains 750 samples.\n"
     ]
    },
    {
     "name": "stdout",
     "output_type": "stream",
     "text": [
      "12\n"
     ]
    },
    {
     "name": "stderr",
     "output_type": "stream",
     "text": [
      "[2021-06-30 22:10:45,745] INFO | darts.models.torch_forecasting_model | Train dataset contains 750 samples.\n",
      "[2021-06-30 22:10:45,745] INFO | darts.models.torch_forecasting_model | Train dataset contains 750 samples.\n"
     ]
    },
    {
     "name": "stdout",
     "output_type": "stream",
     "text": [
      "13\n"
     ]
    },
    {
     "name": "stderr",
     "output_type": "stream",
     "text": [
      "[2021-06-30 22:10:53,568] INFO | darts.models.torch_forecasting_model | Train dataset contains 750 samples.\n",
      "[2021-06-30 22:10:53,568] INFO | darts.models.torch_forecasting_model | Train dataset contains 750 samples.\n"
     ]
    },
    {
     "name": "stdout",
     "output_type": "stream",
     "text": [
      "14\n"
     ]
    },
    {
     "name": "stderr",
     "output_type": "stream",
     "text": [
      "[2021-06-30 22:11:01,374] INFO | darts.models.torch_forecasting_model | Train dataset contains 750 samples.\n",
      "[2021-06-30 22:11:01,374] INFO | darts.models.torch_forecasting_model | Train dataset contains 750 samples.\n"
     ]
    },
    {
     "name": "stdout",
     "output_type": "stream",
     "text": [
      "15\n"
     ]
    },
    {
     "name": "stderr",
     "output_type": "stream",
     "text": [
      "[2021-06-30 22:11:09,183] INFO | darts.models.torch_forecasting_model | Train dataset contains 750 samples.\n",
      "[2021-06-30 22:11:09,183] INFO | darts.models.torch_forecasting_model | Train dataset contains 750 samples.\n"
     ]
    },
    {
     "name": "stdout",
     "output_type": "stream",
     "text": [
      "16\n"
     ]
    },
    {
     "name": "stderr",
     "output_type": "stream",
     "text": [
      "[2021-06-30 22:11:17,025] INFO | darts.models.torch_forecasting_model | Train dataset contains 750 samples.\n",
      "[2021-06-30 22:11:17,025] INFO | darts.models.torch_forecasting_model | Train dataset contains 750 samples.\n"
     ]
    },
    {
     "name": "stdout",
     "output_type": "stream",
     "text": [
      "17\n"
     ]
    },
    {
     "name": "stderr",
     "output_type": "stream",
     "text": [
      "[2021-06-30 22:11:24,872] INFO | darts.models.torch_forecasting_model | Train dataset contains 750 samples.\n",
      "[2021-06-30 22:11:24,872] INFO | darts.models.torch_forecasting_model | Train dataset contains 750 samples.\n"
     ]
    },
    {
     "name": "stdout",
     "output_type": "stream",
     "text": [
      "18\n"
     ]
    },
    {
     "name": "stderr",
     "output_type": "stream",
     "text": [
      "[2021-06-30 22:11:32,660] INFO | darts.models.torch_forecasting_model | Train dataset contains 750 samples.\n",
      "[2021-06-30 22:11:32,660] INFO | darts.models.torch_forecasting_model | Train dataset contains 750 samples.\n"
     ]
    },
    {
     "name": "stdout",
     "output_type": "stream",
     "text": [
      "19\n",
      "0.8260225673142876\n"
     ]
    },
    {
     "data": {
      "image/png": "[encoded data removed]",
      "text/plain": [
       "<Figure size 432x288 with 1 Axes>"
      ]
     },
     "metadata": {
      "needs_background": "light"
     },
     "output_type": "display_data"
    },
    {
     "name": "stdout",
     "output_type": "stream",
     "text": [
      "ArnoldBeltramiChildress 3\n"
     ]
    },
    {
     "name": "stderr",
     "output_type": "stream",
     "text": [
      "/Users/williamgilpin/miniconda3/envs/dysts/lib/python3.8/site-packages/dysts/base.py:166: UserWarning: This system has at least one unbounded variable, which has been mapped to a bounded domain. Pass argument postprocess=False in order to generate trajectories from the raw system.\n",
      "  warnings.warn(\"This system has at least one unbounded variable, which has been mapped to a bounded domain. Pass argument postprocess=False in order to generate trajectories from the raw system.\")\n",
      "[2021-06-30 22:11:40,790] INFO | darts.models.torch_forecasting_model | Train dataset contains 975 samples.\n",
      "[2021-06-30 22:11:40,790] INFO | darts.models.torch_forecasting_model | Train dataset contains 975 samples.\n"
     ]
    },
    {
     "name": "stdout",
     "output_type": "stream",
     "text": [
      "1.4398339915079612\n"
     ]
    },
    {
     "name": "stderr",
     "output_type": "stream",
     "text": [
      "/Users/williamgilpin/miniconda3/envs/dysts/lib/python3.8/site-packages/dysts/base.py:166: UserWarning: This system has at least one unbounded variable, which has been mapped to a bounded domain. Pass argument postprocess=False in order to generate trajectories from the raw system.\n",
      "  warnings.warn(\"This system has at least one unbounded variable, which has been mapped to a bounded domain. Pass argument postprocess=False in order to generate trajectories from the raw system.\")\n",
      "[2021-06-30 22:13:31,911] INFO | darts.models.torch_forecasting_model | Train dataset contains 750 samples.\n",
      "[2021-06-30 22:13:31,911] INFO | darts.models.torch_forecasting_model | Train dataset contains 750 samples.\n"
     ]
    },
    {
     "name": "stdout",
     "output_type": "stream",
     "text": [
      "0\n"
     ]
    },
    {
     "name": "stderr",
     "output_type": "stream",
     "text": [
      "[2021-06-30 22:13:39,691] INFO | darts.models.torch_forecasting_model | Train dataset contains 750 samples.\n",
      "[2021-06-30 22:13:39,691] INFO | darts.models.torch_forecasting_model | Train dataset contains 750 samples.\n"
     ]
    },
    {
     "name": "stdout",
     "output_type": "stream",
     "text": [
      "1\n"
     ]
    },
    {
     "name": "stderr",
     "output_type": "stream",
     "text": [
      "[2021-06-30 22:13:47,495] INFO | darts.models.torch_forecasting_model | Train dataset contains 750 samples.\n",
      "[2021-06-30 22:13:47,495] INFO | darts.models.torch_forecasting_model | Train dataset contains 750 samples.\n"
     ]
    },
    {
     "name": "stdout",
     "output_type": "stream",
     "text": [
      "2\n"
     ]
    },
    {
     "name": "stderr",
     "output_type": "stream",
     "text": [
      "[2021-06-30 22:13:55,331] INFO | darts.models.torch_forecasting_model | Train dataset contains 750 samples.\n",
      "[2021-06-30 22:13:55,331] INFO | darts.models.torch_forecasting_model | Train dataset contains 750 samples.\n"
     ]
    },
    {
     "name": "stdout",
     "output_type": "stream",
     "text": [
      "3\n"
     ]
    },
    {
     "name": "stderr",
     "output_type": "stream",
     "text": [
      "[2021-06-30 22:14:03,297] INFO | darts.models.torch_forecasting_model | Train dataset contains 750 samples.\n",
      "[2021-06-30 22:14:03,297] INFO | darts.models.torch_forecasting_model | Train dataset contains 750 samples.\n"
     ]
    },
    {
     "name": "stdout",
     "output_type": "stream",
     "text": [
      "4\n"
     ]
    },
    {
     "name": "stderr",
     "output_type": "stream",
     "text": [
      "[2021-06-30 22:14:11,081] INFO | darts.models.torch_forecasting_model | Train dataset contains 750 samples.\n",
      "[2021-06-30 22:14:11,081] INFO | darts.models.torch_forecasting_model | Train dataset contains 750 samples.\n"
     ]
    },
    {
     "name": "stdout",
     "output_type": "stream",
     "text": [
      "5\n"
     ]
    },
    {
     "name": "stderr",
     "output_type": "stream",
     "text": [
      "[2021-06-30 22:14:18,939] INFO | darts.models.torch_forecasting_model | Train dataset contains 750 samples.\n",
      "[2021-06-30 22:14:18,939] INFO | darts.models.torch_forecasting_model | Train dataset contains 750 samples.\n"
     ]
    },
    {
     "name": "stdout",
     "output_type": "stream",
     "text": [
      "6\n"
     ]
    },
    {
     "name": "stderr",
     "output_type": "stream",
     "text": [
      "[2021-06-30 22:14:26,746] INFO | darts.models.torch_forecasting_model | Train dataset contains 750 samples.\n",
      "[2021-06-30 22:14:26,746] INFO | darts.models.torch_forecasting_model | Train dataset contains 750 samples.\n"
     ]
    },
    {
     "name": "stdout",
     "output_type": "stream",
     "text": [
      "7\n"
     ]
    },
    {
     "name": "stderr",
     "output_type": "stream",
     "text": [
      "[2021-06-30 22:14:34,587] INFO | darts.models.torch_forecasting_model | Train dataset contains 750 samples.\n",
      "[2021-06-30 22:14:34,587] INFO | darts.models.torch_forecasting_model | Train dataset contains 750 samples.\n"
     ]
    },
    {
     "name": "stdout",
     "output_type": "stream",
     "text": [
      "8\n"
     ]
    },
    {
     "name": "stderr",
     "output_type": "stream",
     "text": [
      "[2021-06-30 22:14:42,392] INFO | darts.models.torch_forecasting_model | Train dataset contains 750 samples.\n",
      "[2021-06-30 22:14:42,392] INFO | darts.models.torch_forecasting_model | Train dataset contains 750 samples.\n"
     ]
    },
    {
     "name": "stdout",
     "output_type": "stream",
     "text": [
      "9\n"
     ]
    },
    {
     "name": "stderr",
     "output_type": "stream",
     "text": [
      "[2021-06-30 22:14:50,242] INFO | darts.models.torch_forecasting_model | Train dataset contains 750 samples.\n",
      "[2021-06-30 22:14:50,242] INFO | darts.models.torch_forecasting_model | Train dataset contains 750 samples.\n"
     ]
    },
    {
     "name": "stdout",
     "output_type": "stream",
     "text": [
      "10\n"
     ]
    },
    {
     "name": "stderr",
     "output_type": "stream",
     "text": [
      "[2021-06-30 22:14:58,078] INFO | darts.models.torch_forecasting_model | Train dataset contains 750 samples.\n",
      "[2021-06-30 22:14:58,078] INFO | darts.models.torch_forecasting_model | Train dataset contains 750 samples.\n"
     ]
    },
    {
     "name": "stdout",
     "output_type": "stream",
     "text": [
      "11\n"
     ]
    },
    {
     "name": "stderr",
     "output_type": "stream",
     "text": [
      "[2021-06-30 22:15:05,895] INFO | darts.models.torch_forecasting_model | Train dataset contains 750 samples.\n",
      "[2021-06-30 22:15:05,895] INFO | darts.models.torch_forecasting_model | Train dataset contains 750 samples.\n"
     ]
    },
    {
     "name": "stdout",
     "output_type": "stream",
     "text": [
      "12\n"
     ]
    },
    {
     "name": "stderr",
     "output_type": "stream",
     "text": [
      "[2021-06-30 22:15:13,718] INFO | darts.models.torch_forecasting_model | Train dataset contains 750 samples.\n",
      "[2021-06-30 22:15:13,718] INFO | darts.models.torch_forecasting_model | Train dataset contains 750 samples.\n"
     ]
    },
    {
     "name": "stdout",
     "output_type": "stream",
     "text": [
      "13\n"
     ]
    },
    {
     "name": "stderr",
     "output_type": "stream",
     "text": [
      "[2021-06-30 22:15:21,544] INFO | darts.models.torch_forecasting_model | Train dataset contains 750 samples.\n",
      "[2021-06-30 22:15:21,544] INFO | darts.models.torch_forecasting_model | Train dataset contains 750 samples.\n"
     ]
    },
    {
     "name": "stdout",
     "output_type": "stream",
     "text": [
      "14\n"
     ]
    },
    {
     "name": "stderr",
     "output_type": "stream",
     "text": [
      "[2021-06-30 22:15:29,430] INFO | darts.models.torch_forecasting_model | Train dataset contains 750 samples.\n",
      "[2021-06-30 22:15:29,430] INFO | darts.models.torch_forecasting_model | Train dataset contains 750 samples.\n"
     ]
    },
    {
     "name": "stdout",
     "output_type": "stream",
     "text": [
      "15\n"
     ]
    },
    {
     "name": "stderr",
     "output_type": "stream",
     "text": [
      "[2021-06-30 22:15:37,280] INFO | darts.models.torch_forecasting_model | Train dataset contains 750 samples.\n",
      "[2021-06-30 22:15:37,280] INFO | darts.models.torch_forecasting_model | Train dataset contains 750 samples.\n"
     ]
    },
    {
     "name": "stdout",
     "output_type": "stream",
     "text": [
      "16\n"
     ]
    },
    {
     "name": "stderr",
     "output_type": "stream",
     "text": [
      "[2021-06-30 22:15:45,106] INFO | darts.models.torch_forecasting_model | Train dataset contains 750 samples.\n",
      "[2021-06-30 22:15:45,106] INFO | darts.models.torch_forecasting_model | Train dataset contains 750 samples.\n"
     ]
    },
    {
     "name": "stdout",
     "output_type": "stream",
     "text": [
      "17\n"
     ]
    },
    {
     "name": "stderr",
     "output_type": "stream",
     "text": [
      "[2021-06-30 22:15:52,901] INFO | darts.models.torch_forecasting_model | Train dataset contains 750 samples.\n",
      "[2021-06-30 22:15:52,901] INFO | darts.models.torch_forecasting_model | Train dataset contains 750 samples.\n"
     ]
    },
    {
     "name": "stdout",
     "output_type": "stream",
     "text": [
      "18\n"
     ]
    },
    {
     "name": "stderr",
     "output_type": "stream",
     "text": [
      "[2021-06-30 22:16:00,757] INFO | darts.models.torch_forecasting_model | Train dataset contains 750 samples.\n",
      "[2021-06-30 22:16:00,757] INFO | darts.models.torch_forecasting_model | Train dataset contains 750 samples.\n"
     ]
    },
    {
     "name": "stdout",
     "output_type": "stream",
     "text": [
      "19\n",
      "1.4231449230860653\n"
     ]
    },
    {
     "data": {
      "image/png": "[encoded data removed]",
      "text/plain": [
       "<Figure size 432x288 with 1 Axes>"
      ]
     },
     "metadata": {
      "needs_background": "light"
     },
     "output_type": "display_data"
    },
    {
     "name": "stdout",
     "output_type": "stream",
     "text": [
      "ArnoldWeb 4\n"
     ]
    },
    {
     "name": "stderr",
     "output_type": "stream",
     "text": [
      "/Users/williamgilpin/miniconda3/envs/dysts/lib/python3.8/site-packages/dysts/base.py:166: UserWarning: This system has at least one unbounded variable, which has been mapped to a bounded domain. Pass argument postprocess=False in order to generate trajectories from the raw system.\n",
      "  warnings.warn(\"This system has at least one unbounded variable, which has been mapped to a bounded domain. Pass argument postprocess=False in order to generate trajectories from the raw system.\")\n",
      "[2021-06-30 22:16:08,978] INFO | darts.models.torch_forecasting_model | Train dataset contains 975 samples.\n",
      "[2021-06-30 22:16:08,978] INFO | darts.models.torch_forecasting_model | Train dataset contains 975 samples.\n"
     ]
    },
    {
     "name": "stdout",
     "output_type": "stream",
     "text": [
      "0.9846697263223697\n"
     ]
    },
    {
     "name": "stderr",
     "output_type": "stream",
     "text": [
      "/Users/williamgilpin/miniconda3/envs/dysts/lib/python3.8/site-packages/dysts/base.py:166: UserWarning: This system has at least one unbounded variable, which has been mapped to a bounded domain. Pass argument postprocess=False in order to generate trajectories from the raw system.\n",
      "  warnings.warn(\"This system has at least one unbounded variable, which has been mapped to a bounded domain. Pass argument postprocess=False in order to generate trajectories from the raw system.\")\n",
      "[2021-06-30 22:18:00,795] INFO | darts.models.torch_forecasting_model | Train dataset contains 750 samples.\n",
      "[2021-06-30 22:18:00,795] INFO | darts.models.torch_forecasting_model | Train dataset contains 750 samples.\n"
     ]
    },
    {
     "name": "stdout",
     "output_type": "stream",
     "text": [
      "0\n"
     ]
    },
    {
     "name": "stderr",
     "output_type": "stream",
     "text": [
      "[2021-06-30 22:18:08,702] INFO | darts.models.torch_forecasting_model | Train dataset contains 750 samples.\n",
      "[2021-06-30 22:18:08,702] INFO | darts.models.torch_forecasting_model | Train dataset contains 750 samples.\n"
     ]
    },
    {
     "name": "stdout",
     "output_type": "stream",
     "text": [
      "1\n"
     ]
    },
    {
     "name": "stderr",
     "output_type": "stream",
     "text": [
      "[2021-06-30 22:18:16,694] INFO | darts.models.torch_forecasting_model | Train dataset contains 750 samples.\n",
      "[2021-06-30 22:18:16,694] INFO | darts.models.torch_forecasting_model | Train dataset contains 750 samples.\n"
     ]
    },
    {
     "name": "stdout",
     "output_type": "stream",
     "text": [
      "2\n"
     ]
    },
    {
     "name": "stderr",
     "output_type": "stream",
     "text": [
      "[2021-06-30 22:18:24,618] INFO | darts.models.torch_forecasting_model | Train dataset contains 750 samples.\n",
      "[2021-06-30 22:18:24,618] INFO | darts.models.torch_forecasting_model | Train dataset contains 750 samples.\n"
     ]
    },
    {
     "name": "stdout",
     "output_type": "stream",
     "text": [
      "3\n"
     ]
    },
    {
     "name": "stderr",
     "output_type": "stream",
     "text": [
      "[2021-06-30 22:18:32,513] INFO | darts.models.torch_forecasting_model | Train dataset contains 750 samples.\n",
      "[2021-06-30 22:18:32,513] INFO | darts.models.torch_forecasting_model | Train dataset contains 750 samples.\n"
     ]
    },
    {
     "name": "stdout",
     "output_type": "stream",
     "text": [
      "4\n"
     ]
    },
    {
     "name": "stderr",
     "output_type": "stream",
     "text": [
      "[2021-06-30 22:18:40,472] INFO | darts.models.torch_forecasting_model | Train dataset contains 750 samples.\n",
      "[2021-06-30 22:18:40,472] INFO | darts.models.torch_forecasting_model | Train dataset contains 750 samples.\n"
     ]
    },
    {
     "name": "stdout",
     "output_type": "stream",
     "text": [
      "5\n"
     ]
    },
    {
     "name": "stderr",
     "output_type": "stream",
     "text": [
      "[2021-06-30 22:18:48,448] INFO | darts.models.torch_forecasting_model | Train dataset contains 750 samples.\n",
      "[2021-06-30 22:18:48,448] INFO | darts.models.torch_forecasting_model | Train dataset contains 750 samples.\n"
     ]
    },
    {
     "name": "stdout",
     "output_type": "stream",
     "text": [
      "6\n"
     ]
    },
    {
     "name": "stderr",
     "output_type": "stream",
     "text": [
      "[2021-06-30 22:18:56,358] INFO | darts.models.torch_forecasting_model | Train dataset contains 750 samples.\n",
      "[2021-06-30 22:18:56,358] INFO | darts.models.torch_forecasting_model | Train dataset contains 750 samples.\n"
     ]
    },
    {
     "name": "stdout",
     "output_type": "stream",
     "text": [
      "7\n"
     ]
    },
    {
     "name": "stderr",
     "output_type": "stream",
     "text": [
      "[2021-06-30 22:19:04,389] INFO | darts.models.torch_forecasting_model | Train dataset contains 750 samples.\n",
      "[2021-06-30 22:19:04,389] INFO | darts.models.torch_forecasting_model | Train dataset contains 750 samples.\n"
     ]
    },
    {
     "name": "stdout",
     "output_type": "stream",
     "text": [
      "8\n"
     ]
    },
    {
     "name": "stderr",
     "output_type": "stream",
     "text": [
      "[2021-06-30 22:19:12,259] INFO | darts.models.torch_forecasting_model | Train dataset contains 750 samples.\n",
      "[2021-06-30 22:19:12,259] INFO | darts.models.torch_forecasting_model | Train dataset contains 750 samples.\n"
     ]
    },
    {
     "name": "stdout",
     "output_type": "stream",
     "text": [
      "9\n"
     ]
    },
    {
     "name": "stderr",
     "output_type": "stream",
     "text": [
      "[2021-06-30 22:19:20,233] INFO | darts.models.torch_forecasting_model | Train dataset contains 750 samples.\n",
      "[2021-06-30 22:19:20,233] INFO | darts.models.torch_forecasting_model | Train dataset contains 750 samples.\n"
     ]
    },
    {
     "name": "stdout",
     "output_type": "stream",
     "text": [
      "10\n"
     ]
    },
    {
     "name": "stderr",
     "output_type": "stream",
     "text": [
      "[2021-06-30 22:19:28,179] INFO | darts.models.torch_forecasting_model | Train dataset contains 750 samples.\n",
      "[2021-06-30 22:19:28,179] INFO | darts.models.torch_forecasting_model | Train dataset contains 750 samples.\n"
     ]
    },
    {
     "name": "stdout",
     "output_type": "stream",
     "text": [
      "11\n"
     ]
    },
    {
     "name": "stderr",
     "output_type": "stream",
     "text": [
      "[2021-06-30 22:19:36,087] INFO | darts.models.torch_forecasting_model | Train dataset contains 750 samples.\n",
      "[2021-06-30 22:19:36,087] INFO | darts.models.torch_forecasting_model | Train dataset contains 750 samples.\n"
     ]
    },
    {
     "name": "stdout",
     "output_type": "stream",
     "text": [
      "12\n"
     ]
    },
    {
     "name": "stderr",
     "output_type": "stream",
     "text": [
      "[2021-06-30 22:19:44,009] INFO | darts.models.torch_forecasting_model | Train dataset contains 750 samples.\n",
      "[2021-06-30 22:19:44,009] INFO | darts.models.torch_forecasting_model | Train dataset contains 750 samples.\n"
     ]
    },
    {
     "name": "stdout",
     "output_type": "stream",
     "text": [
      "13\n"
     ]
    },
    {
     "name": "stderr",
     "output_type": "stream",
     "text": [
      "[2021-06-30 22:19:51,886] INFO | darts.models.torch_forecasting_model | Train dataset contains 750 samples.\n",
      "[2021-06-30 22:19:51,886] INFO | darts.models.torch_forecasting_model | Train dataset contains 750 samples.\n"
     ]
    },
    {
     "name": "stdout",
     "output_type": "stream",
     "text": [
      "14\n"
     ]
    },
    {
     "name": "stderr",
     "output_type": "stream",
     "text": [
      "[2021-06-30 22:19:59,763] INFO | darts.models.torch_forecasting_model | Train dataset contains 750 samples.\n",
      "[2021-06-30 22:19:59,763] INFO | darts.models.torch_forecasting_model | Train dataset contains 750 samples.\n"
     ]
    },
    {
     "name": "stdout",
     "output_type": "stream",
     "text": [
      "15\n"
     ]
    },
    {
     "name": "stderr",
     "output_type": "stream",
     "text": [
      "[2021-06-30 22:20:07,761] INFO | darts.models.torch_forecasting_model | Train dataset contains 750 samples.\n",
      "[2021-06-30 22:20:07,761] INFO | darts.models.torch_forecasting_model | Train dataset contains 750 samples.\n"
     ]
    },
    {
     "name": "stdout",
     "output_type": "stream",
     "text": [
      "16\n"
     ]
    },
    {
     "name": "stderr",
     "output_type": "stream",
     "text": [
      "[2021-06-30 22:20:15,724] INFO | darts.models.torch_forecasting_model | Train dataset contains 750 samples.\n",
      "[2021-06-30 22:20:15,724] INFO | darts.models.torch_forecasting_model | Train dataset contains 750 samples.\n"
     ]
    },
    {
     "name": "stdout",
     "output_type": "stream",
     "text": [
      "17\n"
     ]
    },
    {
     "name": "stderr",
     "output_type": "stream",
     "text": [
      "[2021-06-30 22:20:23,838] INFO | darts.models.torch_forecasting_model | Train dataset contains 750 samples.\n",
      "[2021-06-30 22:20:23,838] INFO | darts.models.torch_forecasting_model | Train dataset contains 750 samples.\n"
     ]
    },
    {
     "name": "stdout",
     "output_type": "stream",
     "text": [
      "18\n"
     ]
    },
    {
     "name": "stderr",
     "output_type": "stream",
     "text": [
      "[2021-06-30 22:20:31,797] INFO | darts.models.torch_forecasting_model | Train dataset contains 750 samples.\n",
      "[2021-06-30 22:20:31,797] INFO | darts.models.torch_forecasting_model | Train dataset contains 750 samples.\n"
     ]
    },
    {
     "name": "stdout",
     "output_type": "stream",
     "text": [
      "19\n",
      "0.43086855560126663\n"
     ]
    },
    {
     "data": {
      "image/png": "[encoded data removed]",
      "text/plain": [
       "<Figure size 432x288 with 1 Axes>"
      ]
     },
     "metadata": {
      "needs_background": "light"
     },
     "output_type": "display_data"
    },
    {
     "name": "stdout",
     "output_type": "stream",
     "text": [
      "BeerRNN 5\n"
     ]
    },
    {
     "name": "stderr",
     "output_type": "stream",
     "text": [
      "[2021-06-30 22:20:40,347] INFO | darts.models.torch_forecasting_model | Train dataset contains 975 samples.\n",
      "[2021-06-30 22:20:40,347] INFO | darts.models.torch_forecasting_model | Train dataset contains 975 samples.\n"
     ]
    },
    {
     "name": "stdout",
     "output_type": "stream",
     "text": [
      "0.4360069110148229\n",
      "0\n"
     ]
    },
    {
     "name": "stderr",
     "output_type": "stream",
     "text": [
      "[2021-06-30 22:22:32,178] INFO | darts.models.torch_forecasting_model | Train dataset contains 750 samples.\n",
      "[2021-06-30 22:22:32,178] INFO | darts.models.torch_forecasting_model | Train dataset contains 750 samples.\n"
     ]
    },
    {
     "name": "stdout",
     "output_type": "stream",
     "text": [
      "1\n"
     ]
    },
    {
     "name": "stderr",
     "output_type": "stream",
     "text": [
      "[2021-06-30 22:22:40,321] INFO | darts.models.torch_forecasting_model | Train dataset contains 750 samples.\n",
      "[2021-06-30 22:22:40,321] INFO | darts.models.torch_forecasting_model | Train dataset contains 750 samples.\n"
     ]
    },
    {
     "name": "stdout",
     "output_type": "stream",
     "text": [
      "2\n"
     ]
    },
    {
     "name": "stderr",
     "output_type": "stream",
     "text": [
      "[2021-06-30 22:22:48,466] INFO | darts.models.torch_forecasting_model | Train dataset contains 750 samples.\n",
      "[2021-06-30 22:22:48,466] INFO | darts.models.torch_forecasting_model | Train dataset contains 750 samples.\n"
     ]
    },
    {
     "name": "stdout",
     "output_type": "stream",
     "text": [
      "3\n"
     ]
    },
    {
     "name": "stderr",
     "output_type": "stream",
     "text": [
      "[2021-06-30 22:22:56,626] INFO | darts.models.torch_forecasting_model | Train dataset contains 750 samples.\n",
      "[2021-06-30 22:22:56,626] INFO | darts.models.torch_forecasting_model | Train dataset contains 750 samples.\n"
     ]
    },
    {
     "name": "stdout",
     "output_type": "stream",
     "text": [
      "4\n"
     ]
    },
    {
     "name": "stderr",
     "output_type": "stream",
     "text": [
      "[2021-06-30 22:23:04,767] INFO | darts.models.torch_forecasting_model | Train dataset contains 750 samples.\n",
      "[2021-06-30 22:23:04,767] INFO | darts.models.torch_forecasting_model | Train dataset contains 750 samples.\n"
     ]
    },
    {
     "name": "stdout",
     "output_type": "stream",
     "text": [
      "5\n"
     ]
    },
    {
     "name": "stderr",
     "output_type": "stream",
     "text": [
      "[2021-06-30 22:23:12,944] INFO | darts.models.torch_forecasting_model | Train dataset contains 750 samples.\n",
      "[2021-06-30 22:23:12,944] INFO | darts.models.torch_forecasting_model | Train dataset contains 750 samples.\n"
     ]
    },
    {
     "name": "stdout",
     "output_type": "stream",
     "text": [
      "6\n"
     ]
    },
    {
     "name": "stderr",
     "output_type": "stream",
     "text": [
      "[2021-06-30 22:23:21,100] INFO | darts.models.torch_forecasting_model | Train dataset contains 750 samples.\n",
      "[2021-06-30 22:23:21,100] INFO | darts.models.torch_forecasting_model | Train dataset contains 750 samples.\n"
     ]
    },
    {
     "name": "stdout",
     "output_type": "stream",
     "text": [
      "7\n"
     ]
    },
    {
     "name": "stderr",
     "output_type": "stream",
     "text": [
      "[2021-06-30 22:23:29,238] INFO | darts.models.torch_forecasting_model | Train dataset contains 750 samples.\n",
      "[2021-06-30 22:23:29,238] INFO | darts.models.torch_forecasting_model | Train dataset contains 750 samples.\n"
     ]
    },
    {
     "name": "stdout",
     "output_type": "stream",
     "text": [
      "8\n"
     ]
    },
    {
     "name": "stderr",
     "output_type": "stream",
     "text": [
      "[2021-06-30 22:23:37,395] INFO | darts.models.torch_forecasting_model | Train dataset contains 750 samples.\n",
      "[2021-06-30 22:23:37,395] INFO | darts.models.torch_forecasting_model | Train dataset contains 750 samples.\n"
     ]
    },
    {
     "name": "stdout",
     "output_type": "stream",
     "text": [
      "9\n"
     ]
    },
    {
     "name": "stderr",
     "output_type": "stream",
     "text": [
      "[2021-06-30 22:23:45,576] INFO | darts.models.torch_forecasting_model | Train dataset contains 750 samples.\n",
      "[2021-06-30 22:23:45,576] INFO | darts.models.torch_forecasting_model | Train dataset contains 750 samples.\n"
     ]
    },
    {
     "name": "stdout",
     "output_type": "stream",
     "text": [
      "10\n"
     ]
    },
    {
     "name": "stderr",
     "output_type": "stream",
     "text": [
      "[2021-06-30 22:23:53,727] INFO | darts.models.torch_forecasting_model | Train dataset contains 750 samples.\n",
      "[2021-06-30 22:23:53,727] INFO | darts.models.torch_forecasting_model | Train dataset contains 750 samples.\n"
     ]
    },
    {
     "name": "stdout",
     "output_type": "stream",
     "text": [
      "11\n"
     ]
    },
    {
     "name": "stderr",
     "output_type": "stream",
     "text": [
      "[2021-06-30 22:24:01,853] INFO | darts.models.torch_forecasting_model | Train dataset contains 750 samples.\n",
      "[2021-06-30 22:24:01,853] INFO | darts.models.torch_forecasting_model | Train dataset contains 750 samples.\n"
     ]
    },
    {
     "name": "stdout",
     "output_type": "stream",
     "text": [
      "12\n"
     ]
    },
    {
     "name": "stderr",
     "output_type": "stream",
     "text": [
      "[2021-06-30 22:24:09,977] INFO | darts.models.torch_forecasting_model | Train dataset contains 750 samples.\n",
      "[2021-06-30 22:24:09,977] INFO | darts.models.torch_forecasting_model | Train dataset contains 750 samples.\n"
     ]
    },
    {
     "name": "stdout",
     "output_type": "stream",
     "text": [
      "13\n"
     ]
    },
    {
     "name": "stderr",
     "output_type": "stream",
     "text": [
      "[2021-06-30 22:24:18,115] INFO | darts.models.torch_forecasting_model | Train dataset contains 750 samples.\n",
      "[2021-06-30 22:24:18,115] INFO | darts.models.torch_forecasting_model | Train dataset contains 750 samples.\n"
     ]
    },
    {
     "name": "stdout",
     "output_type": "stream",
     "text": [
      "14\n"
     ]
    },
    {
     "name": "stderr",
     "output_type": "stream",
     "text": [
      "[2021-06-30 22:24:26,265] INFO | darts.models.torch_forecasting_model | Train dataset contains 750 samples.\n",
      "[2021-06-30 22:24:26,265] INFO | darts.models.torch_forecasting_model | Train dataset contains 750 samples.\n"
     ]
    },
    {
     "name": "stdout",
     "output_type": "stream",
     "text": [
      "15\n"
     ]
    },
    {
     "name": "stderr",
     "output_type": "stream",
     "text": [
      "[2021-06-30 22:24:34,421] INFO | darts.models.torch_forecasting_model | Train dataset contains 750 samples.\n",
      "[2021-06-30 22:24:34,421] INFO | darts.models.torch_forecasting_model | Train dataset contains 750 samples.\n"
     ]
    },
    {
     "name": "stdout",
     "output_type": "stream",
     "text": [
      "16\n"
     ]
    },
    {
     "name": "stderr",
     "output_type": "stream",
     "text": [
      "[2021-06-30 22:24:42,568] INFO | darts.models.torch_forecasting_model | Train dataset contains 750 samples.\n",
      "[2021-06-30 22:24:42,568] INFO | darts.models.torch_forecasting_model | Train dataset contains 750 samples.\n"
     ]
    },
    {
     "name": "stdout",
     "output_type": "stream",
     "text": [
      "17\n"
     ]
    },
    {
     "name": "stderr",
     "output_type": "stream",
     "text": [
      "[2021-06-30 22:24:50,763] INFO | darts.models.torch_forecasting_model | Train dataset contains 750 samples.\n",
      "[2021-06-30 22:24:50,763] INFO | darts.models.torch_forecasting_model | Train dataset contains 750 samples.\n"
     ]
    },
    {
     "name": "stdout",
     "output_type": "stream",
     "text": [
      "18\n"
     ]
    },
    {
     "name": "stderr",
     "output_type": "stream",
     "text": [
      "[2021-06-30 22:24:58,913] INFO | darts.models.torch_forecasting_model | Train dataset contains 750 samples.\n",
      "[2021-06-30 22:24:58,913] INFO | darts.models.torch_forecasting_model | Train dataset contains 750 samples.\n"
     ]
    },
    {
     "name": "stdout",
     "output_type": "stream",
     "text": [
      "19\n"
     ]
    },
    {
     "name": "stderr",
     "output_type": "stream",
     "text": [
      "[2021-06-30 22:25:07,079] INFO | darts.models.torch_forecasting_model | Train dataset contains 750 samples.\n",
      "[2021-06-30 22:25:07,079] INFO | darts.models.torch_forecasting_model | Train dataset contains 750 samples.\n"
     ]
    },
    {
     "name": "stdout",
     "output_type": "stream",
     "text": [
      "0.3921402151861708\n"
     ]
    },
    {
     "data": {
      "image/png": "[encoded data removed]",
      "text/plain": [
       "<Figure size 432x288 with 1 Axes>"
      ]
     },
     "metadata": {
      "needs_background": "light"
     },
     "output_type": "display_data"
    },
    {
     "name": "stdout",
     "output_type": "stream",
     "text": [
      "BelousovZhabotinsky 6\n"
     ]
    },
    {
     "name": "stderr",
     "output_type": "stream",
     "text": [
      "/Users/williamgilpin/miniconda3/envs/dysts/lib/python3.8/site-packages/dysts/flows.py:371: RuntimeWarning: invalid value encountered in sqrt\n",
      "  rf = (self.ci - self.z0*z)*np.sqrt(x)\n",
      "[2021-06-30 22:25:15,446] INFO | darts.models.torch_forecasting_model | Train dataset contains 975 samples.\n",
      "[2021-06-30 22:25:15,446] INFO | darts.models.torch_forecasting_model | Train dataset contains 975 samples.\n"
     ]
    },
    {
     "name": "stdout",
     "output_type": "stream",
     "text": [
      "1.8456352937777751\n"
     ]
    },
    {
     "name": "stderr",
     "output_type": "stream",
     "text": [
      "/Users/williamgilpin/miniconda3/envs/dysts/lib/python3.8/site-packages/dysts/flows.py:371: RuntimeWarning: invalid value encountered in sqrt\n",
      "  rf = (self.ci - self.z0*z)*np.sqrt(x)\n",
      "[2021-06-30 22:27:07,256] INFO | darts.models.torch_forecasting_model | Train dataset contains 750 samples.\n",
      "[2021-06-30 22:27:07,256] INFO | darts.models.torch_forecasting_model | Train dataset contains 750 samples.\n"
     ]
    },
    {
     "name": "stdout",
     "output_type": "stream",
     "text": [
      "0\n"
     ]
    },
    {
     "name": "stderr",
     "output_type": "stream",
     "text": [
      "[2021-06-30 22:27:15,253] INFO | darts.models.torch_forecasting_model | Train dataset contains 750 samples.\n",
      "[2021-06-30 22:27:15,253] INFO | darts.models.torch_forecasting_model | Train dataset contains 750 samples.\n"
     ]
    },
    {
     "name": "stdout",
     "output_type": "stream",
     "text": [
      "1\n"
     ]
    },
    {
     "name": "stderr",
     "output_type": "stream",
     "text": [
      "[2021-06-30 22:27:23,203] INFO | darts.models.torch_forecasting_model | Train dataset contains 750 samples.\n",
      "[2021-06-30 22:27:23,203] INFO | darts.models.torch_forecasting_model | Train dataset contains 750 samples.\n"
     ]
    },
    {
     "name": "stdout",
     "output_type": "stream",
     "text": [
      "2\n"
     ]
    },
    {
     "name": "stderr",
     "output_type": "stream",
     "text": [
      "[2021-06-30 22:27:31,135] INFO | darts.models.torch_forecasting_model | Train dataset contains 750 samples.\n",
      "[2021-06-30 22:27:31,135] INFO | darts.models.torch_forecasting_model | Train dataset contains 750 samples.\n"
     ]
    },
    {
     "name": "stdout",
     "output_type": "stream",
     "text": [
      "3\n"
     ]
    },
    {
     "name": "stderr",
     "output_type": "stream",
     "text": [
      "[2021-06-30 22:27:39,078] INFO | darts.models.torch_forecasting_model | Train dataset contains 750 samples.\n",
      "[2021-06-30 22:27:39,078] INFO | darts.models.torch_forecasting_model | Train dataset contains 750 samples.\n"
     ]
    },
    {
     "name": "stdout",
     "output_type": "stream",
     "text": [
      "4\n"
     ]
    },
    {
     "name": "stderr",
     "output_type": "stream",
     "text": [
      "[2021-06-30 22:27:47,062] INFO | darts.models.torch_forecasting_model | Train dataset contains 750 samples.\n",
      "[2021-06-30 22:27:47,062] INFO | darts.models.torch_forecasting_model | Train dataset contains 750 samples.\n"
     ]
    },
    {
     "name": "stdout",
     "output_type": "stream",
     "text": [
      "5\n"
     ]
    },
    {
     "name": "stderr",
     "output_type": "stream",
     "text": [
      "[2021-06-30 22:27:55,020] INFO | darts.models.torch_forecasting_model | Train dataset contains 750 samples.\n",
      "[2021-06-30 22:27:55,020] INFO | darts.models.torch_forecasting_model | Train dataset contains 750 samples.\n"
     ]
    },
    {
     "name": "stdout",
     "output_type": "stream",
     "text": [
      "6\n"
     ]
    },
    {
     "name": "stderr",
     "output_type": "stream",
     "text": [
      "[2021-06-30 22:28:02,958] INFO | darts.models.torch_forecasting_model | Train dataset contains 750 samples.\n"
     ]
    },
    {
     "name": "stdout",
     "output_type": "stream",
     "text": [
      "7\n"
     ]
    },
    {
     "name": "stderr",
     "output_type": "stream",
     "text": [
      "[2021-06-30 22:28:02,958] INFO | darts.models.torch_forecasting_model | Train dataset contains 750 samples.\n",
      "[2021-06-30 22:28:10,902] INFO | darts.models.torch_forecasting_model | Train dataset contains 750 samples.\n",
      "[2021-06-30 22:28:10,902] INFO | darts.models.torch_forecasting_model | Train dataset contains 750 samples.\n"
     ]
    },
    {
     "name": "stdout",
     "output_type": "stream",
     "text": [
      "8\n"
     ]
    },
    {
     "name": "stderr",
     "output_type": "stream",
     "text": [
      "[2021-06-30 22:28:18,897] INFO | darts.models.torch_forecasting_model | Train dataset contains 750 samples.\n",
      "[2021-06-30 22:28:18,897] INFO | darts.models.torch_forecasting_model | Train dataset contains 750 samples.\n"
     ]
    },
    {
     "name": "stdout",
     "output_type": "stream",
     "text": [
      "9\n",
      "10\n"
     ]
    },
    {
     "name": "stderr",
     "output_type": "stream",
     "text": [
      "[2021-06-30 22:28:27,066] INFO | darts.models.torch_forecasting_model | Train dataset contains 750 samples.\n",
      "[2021-06-30 22:28:27,066] INFO | darts.models.torch_forecasting_model | Train dataset contains 750 samples.\n",
      "[2021-06-30 22:28:35,014] INFO | darts.models.torch_forecasting_model | Train dataset contains 750 samples.\n",
      "[2021-06-30 22:28:35,014] INFO | darts.models.torch_forecasting_model | Train dataset contains 750 samples.\n"
     ]
    },
    {
     "name": "stdout",
     "output_type": "stream",
     "text": [
      "11\n"
     ]
    },
    {
     "name": "stderr",
     "output_type": "stream",
     "text": [
      "[2021-06-30 22:28:42,962] INFO | darts.models.torch_forecasting_model | Train dataset contains 750 samples.\n",
      "[2021-06-30 22:28:42,962] INFO | darts.models.torch_forecasting_model | Train dataset contains 750 samples.\n"
     ]
    },
    {
     "name": "stdout",
     "output_type": "stream",
     "text": [
      "12\n"
     ]
    },
    {
     "name": "stderr",
     "output_type": "stream",
     "text": [
      "[2021-06-30 22:28:50,956] INFO | darts.models.torch_forecasting_model | Train dataset contains 750 samples.\n",
      "[2021-06-30 22:28:50,956] INFO | darts.models.torch_forecasting_model | Train dataset contains 750 samples.\n"
     ]
    },
    {
     "name": "stdout",
     "output_type": "stream",
     "text": [
      "13\n"
     ]
    },
    {
     "name": "stderr",
     "output_type": "stream",
     "text": [
      "[2021-06-30 22:28:58,937] INFO | darts.models.torch_forecasting_model | Train dataset contains 750 samples.\n",
      "[2021-06-30 22:28:58,937] INFO | darts.models.torch_forecasting_model | Train dataset contains 750 samples.\n"
     ]
    },
    {
     "name": "stdout",
     "output_type": "stream",
     "text": [
      "14\n"
     ]
    },
    {
     "name": "stderr",
     "output_type": "stream",
     "text": [
      "[2021-06-30 22:29:06,865] INFO | darts.models.torch_forecasting_model | Train dataset contains 750 samples.\n"
     ]
    },
    {
     "name": "stdout",
     "output_type": "stream",
     "text": [
      "15\n"
     ]
    },
    {
     "name": "stderr",
     "output_type": "stream",
     "text": [
      "[2021-06-30 22:29:06,865] INFO | darts.models.torch_forecasting_model | Train dataset contains 750 samples.\n",
      "[2021-06-30 22:29:14,840] INFO | darts.models.torch_forecasting_model | Train dataset contains 750 samples.\n",
      "[2021-06-30 22:29:14,840] INFO | darts.models.torch_forecasting_model | Train dataset contains 750 samples.\n"
     ]
    },
    {
     "name": "stdout",
     "output_type": "stream",
     "text": [
      "16\n"
     ]
    },
    {
     "name": "stderr",
     "output_type": "stream",
     "text": [
      "[2021-06-30 22:29:22,779] INFO | darts.models.torch_forecasting_model | Train dataset contains 750 samples.\n",
      "[2021-06-30 22:29:22,779] INFO | darts.models.torch_forecasting_model | Train dataset contains 750 samples.\n"
     ]
    },
    {
     "name": "stdout",
     "output_type": "stream",
     "text": [
      "17\n"
     ]
    },
    {
     "name": "stderr",
     "output_type": "stream",
     "text": [
      "[2021-06-30 22:29:30,740] INFO | darts.models.torch_forecasting_model | Train dataset contains 750 samples.\n",
      "[2021-06-30 22:29:30,740] INFO | darts.models.torch_forecasting_model | Train dataset contains 750 samples.\n"
     ]
    },
    {
     "name": "stdout",
     "output_type": "stream",
     "text": [
      "18\n"
     ]
    },
    {
     "name": "stderr",
     "output_type": "stream",
     "text": [
      "[2021-06-30 22:29:38,704] INFO | darts.models.torch_forecasting_model | Train dataset contains 750 samples.\n"
     ]
    },
    {
     "name": "stdout",
     "output_type": "stream",
     "text": [
      "19\n"
     ]
    },
    {
     "name": "stderr",
     "output_type": "stream",
     "text": [
      "[2021-06-30 22:29:38,704] INFO | darts.models.torch_forecasting_model | Train dataset contains 750 samples.\n"
     ]
    },
    {
     "name": "stdout",
     "output_type": "stream",
     "text": [
      "1.2779684440791785\n"
     ]
    },
    {
     "data": {
      "image/png": "[encoded data removed]",
      "text/plain": [
       "<Figure size 432x288 with 1 Axes>"
      ]
     },
     "metadata": {
      "needs_background": "light"
     },
     "output_type": "display_data"
    },
    {
     "name": "stdout",
     "output_type": "stream",
     "text": [
      "BickleyJet 7\n"
     ]
    },
    {
     "name": "stderr",
     "output_type": "stream",
     "text": [
      "/Users/williamgilpin/miniconda3/envs/dysts/lib/python3.8/site-packages/dysts/base.py:166: UserWarning: This system has at least one unbounded variable, which has been mapped to a bounded domain. Pass argument postprocess=False in order to generate trajectories from the raw system.\n",
      "  warnings.warn(\"This system has at least one unbounded variable, which has been mapped to a bounded domain. Pass argument postprocess=False in order to generate trajectories from the raw system.\")\n",
      "[2021-06-30 22:29:46,853] INFO | darts.models.torch_forecasting_model | Train dataset contains 975 samples.\n",
      "[2021-06-30 22:29:46,853] INFO | darts.models.torch_forecasting_model | Train dataset contains 975 samples.\n"
     ]
    },
    {
     "name": "stdout",
     "output_type": "stream",
     "text": [
      "0.453691995934401\n"
     ]
    },
    {
     "name": "stderr",
     "output_type": "stream",
     "text": [
      "/Users/williamgilpin/miniconda3/envs/dysts/lib/python3.8/site-packages/dysts/base.py:166: UserWarning: This system has at least one unbounded variable, which has been mapped to a bounded domain. Pass argument postprocess=False in order to generate trajectories from the raw system.\n",
      "  warnings.warn(\"This system has at least one unbounded variable, which has been mapped to a bounded domain. Pass argument postprocess=False in order to generate trajectories from the raw system.\")\n",
      "[2021-06-30 22:31:38,336] INFO | darts.models.torch_forecasting_model | Train dataset contains 750 samples.\n",
      "[2021-06-30 22:31:38,336] INFO | darts.models.torch_forecasting_model | Train dataset contains 750 samples.\n"
     ]
    },
    {
     "name": "stdout",
     "output_type": "stream",
     "text": [
      "0\n"
     ]
    },
    {
     "name": "stderr",
     "output_type": "stream",
     "text": [
      "[2021-06-30 22:31:46,144] INFO | darts.models.torch_forecasting_model | Train dataset contains 750 samples.\n",
      "[2021-06-30 22:31:46,144] INFO | darts.models.torch_forecasting_model | Train dataset contains 750 samples.\n"
     ]
    },
    {
     "name": "stdout",
     "output_type": "stream",
     "text": [
      "1\n"
     ]
    },
    {
     "name": "stderr",
     "output_type": "stream",
     "text": [
      "[2021-06-30 22:31:53,917] INFO | darts.models.torch_forecasting_model | Train dataset contains 750 samples.\n",
      "[2021-06-30 22:31:53,917] INFO | darts.models.torch_forecasting_model | Train dataset contains 750 samples.\n"
     ]
    },
    {
     "name": "stdout",
     "output_type": "stream",
     "text": [
      "2\n"
     ]
    },
    {
     "name": "stderr",
     "output_type": "stream",
     "text": [
      "[2021-06-30 22:32:01,759] INFO | darts.models.torch_forecasting_model | Train dataset contains 750 samples.\n",
      "[2021-06-30 22:32:01,759] INFO | darts.models.torch_forecasting_model | Train dataset contains 750 samples.\n"
     ]
    },
    {
     "name": "stdout",
     "output_type": "stream",
     "text": [
      "3\n"
     ]
    },
    {
     "name": "stderr",
     "output_type": "stream",
     "text": [
      "[2021-06-30 22:32:09,588] INFO | darts.models.torch_forecasting_model | Train dataset contains 750 samples.\n",
      "[2021-06-30 22:32:09,588] INFO | darts.models.torch_forecasting_model | Train dataset contains 750 samples.\n"
     ]
    },
    {
     "name": "stdout",
     "output_type": "stream",
     "text": [
      "4\n"
     ]
    },
    {
     "name": "stderr",
     "output_type": "stream",
     "text": [
      "[2021-06-30 22:32:17,469] INFO | darts.models.torch_forecasting_model | Train dataset contains 750 samples.\n",
      "[2021-06-30 22:32:17,469] INFO | darts.models.torch_forecasting_model | Train dataset contains 750 samples.\n"
     ]
    },
    {
     "name": "stdout",
     "output_type": "stream",
     "text": [
      "5\n"
     ]
    },
    {
     "name": "stderr",
     "output_type": "stream",
     "text": [
      "[2021-06-30 22:32:25,289] INFO | darts.models.torch_forecasting_model | Train dataset contains 750 samples.\n",
      "[2021-06-30 22:32:25,289] INFO | darts.models.torch_forecasting_model | Train dataset contains 750 samples.\n"
     ]
    },
    {
     "name": "stdout",
     "output_type": "stream",
     "text": [
      "6\n"
     ]
    },
    {
     "name": "stderr",
     "output_type": "stream",
     "text": [
      "[2021-06-30 22:32:33,110] INFO | darts.models.torch_forecasting_model | Train dataset contains 750 samples.\n",
      "[2021-06-30 22:32:33,110] INFO | darts.models.torch_forecasting_model | Train dataset contains 750 samples.\n"
     ]
    },
    {
     "name": "stdout",
     "output_type": "stream",
     "text": [
      "7\n"
     ]
    },
    {
     "name": "stderr",
     "output_type": "stream",
     "text": [
      "[2021-06-30 22:32:40,970] INFO | darts.models.torch_forecasting_model | Train dataset contains 750 samples.\n",
      "[2021-06-30 22:32:40,970] INFO | darts.models.torch_forecasting_model | Train dataset contains 750 samples.\n"
     ]
    },
    {
     "name": "stdout",
     "output_type": "stream",
     "text": [
      "8\n"
     ]
    },
    {
     "name": "stderr",
     "output_type": "stream",
     "text": [
      "[2021-06-30 22:32:48,828] INFO | darts.models.torch_forecasting_model | Train dataset contains 750 samples.\n",
      "[2021-06-30 22:32:48,828] INFO | darts.models.torch_forecasting_model | Train dataset contains 750 samples.\n"
     ]
    },
    {
     "name": "stdout",
     "output_type": "stream",
     "text": [
      "9\n"
     ]
    },
    {
     "name": "stderr",
     "output_type": "stream",
     "text": [
      "[2021-06-30 22:32:56,687] INFO | darts.models.torch_forecasting_model | Train dataset contains 750 samples.\n",
      "[2021-06-30 22:32:56,687] INFO | darts.models.torch_forecasting_model | Train dataset contains 750 samples.\n"
     ]
    },
    {
     "name": "stdout",
     "output_type": "stream",
     "text": [
      "10\n"
     ]
    },
    {
     "name": "stderr",
     "output_type": "stream",
     "text": [
      "[2021-06-30 22:33:04,518] INFO | darts.models.torch_forecasting_model | Train dataset contains 750 samples.\n",
      "[2021-06-30 22:33:04,518] INFO | darts.models.torch_forecasting_model | Train dataset contains 750 samples.\n"
     ]
    },
    {
     "name": "stdout",
     "output_type": "stream",
     "text": [
      "11\n"
     ]
    },
    {
     "name": "stderr",
     "output_type": "stream",
     "text": [
      "[2021-06-30 22:33:12,361] INFO | darts.models.torch_forecasting_model | Train dataset contains 750 samples.\n",
      "[2021-06-30 22:33:12,361] INFO | darts.models.torch_forecasting_model | Train dataset contains 750 samples.\n"
     ]
    },
    {
     "name": "stdout",
     "output_type": "stream",
     "text": [
      "12\n"
     ]
    },
    {
     "name": "stderr",
     "output_type": "stream",
     "text": [
      "[2021-06-30 22:33:20,255] INFO | darts.models.torch_forecasting_model | Train dataset contains 750 samples.\n",
      "[2021-06-30 22:33:20,255] INFO | darts.models.torch_forecasting_model | Train dataset contains 750 samples.\n"
     ]
    },
    {
     "name": "stdout",
     "output_type": "stream",
     "text": [
      "13\n"
     ]
    },
    {
     "name": "stderr",
     "output_type": "stream",
     "text": [
      "[2021-06-30 22:33:28,090] INFO | darts.models.torch_forecasting_model | Train dataset contains 750 samples.\n",
      "[2021-06-30 22:33:28,090] INFO | darts.models.torch_forecasting_model | Train dataset contains 750 samples.\n"
     ]
    },
    {
     "name": "stdout",
     "output_type": "stream",
     "text": [
      "14\n"
     ]
    },
    {
     "name": "stderr",
     "output_type": "stream",
     "text": [
      "[2021-06-30 22:33:35,988] INFO | darts.models.torch_forecasting_model | Train dataset contains 750 samples.\n",
      "[2021-06-30 22:33:35,988] INFO | darts.models.torch_forecasting_model | Train dataset contains 750 samples.\n"
     ]
    },
    {
     "name": "stdout",
     "output_type": "stream",
     "text": [
      "15\n"
     ]
    },
    {
     "name": "stderr",
     "output_type": "stream",
     "text": [
      "[2021-06-30 22:33:43,813] INFO | darts.models.torch_forecasting_model | Train dataset contains 750 samples.\n",
      "[2021-06-30 22:33:43,813] INFO | darts.models.torch_forecasting_model | Train dataset contains 750 samples.\n"
     ]
    },
    {
     "name": "stdout",
     "output_type": "stream",
     "text": [
      "16\n"
     ]
    },
    {
     "name": "stderr",
     "output_type": "stream",
     "text": [
      "[2021-06-30 22:33:51,650] INFO | darts.models.torch_forecasting_model | Train dataset contains 750 samples.\n",
      "[2021-06-30 22:33:51,650] INFO | darts.models.torch_forecasting_model | Train dataset contains 750 samples.\n"
     ]
    },
    {
     "name": "stdout",
     "output_type": "stream",
     "text": [
      "17\n"
     ]
    },
    {
     "name": "stderr",
     "output_type": "stream",
     "text": [
      "[2021-06-30 22:33:59,468] INFO | darts.models.torch_forecasting_model | Train dataset contains 750 samples.\n",
      "[2021-06-30 22:33:59,468] INFO | darts.models.torch_forecasting_model | Train dataset contains 750 samples.\n"
     ]
    },
    {
     "name": "stdout",
     "output_type": "stream",
     "text": [
      "18\n"
     ]
    },
    {
     "name": "stderr",
     "output_type": "stream",
     "text": [
      "[2021-06-30 22:34:07,325] INFO | darts.models.torch_forecasting_model | Train dataset contains 750 samples.\n",
      "[2021-06-30 22:34:07,325] INFO | darts.models.torch_forecasting_model | Train dataset contains 750 samples.\n"
     ]
    },
    {
     "name": "stdout",
     "output_type": "stream",
     "text": [
      "19\n",
      "0.4635087422943133\n"
     ]
    },
    {
     "data": {
      "image/png": "[encoded data removed]",
      "text/plain": [
       "<Figure size 432x288 with 1 Axes>"
      ]
     },
     "metadata": {
      "needs_background": "light"
     },
     "output_type": "display_data"
    },
    {
     "name": "stdout",
     "output_type": "stream",
     "text": [
      "Blasius 8\n"
     ]
    },
    {
     "name": "stderr",
     "output_type": "stream",
     "text": [
      "[2021-06-30 22:34:15,585] INFO | darts.models.torch_forecasting_model | Train dataset contains 975 samples.\n",
      "[2021-06-30 22:34:15,585] INFO | darts.models.torch_forecasting_model | Train dataset contains 975 samples.\n"
     ]
    },
    {
     "name": "stdout",
     "output_type": "stream",
     "text": [
      "0.15631394108764404\n"
     ]
    },
    {
     "name": "stderr",
     "output_type": "stream",
     "text": [
      "[2021-06-30 22:36:08,527] INFO | darts.models.torch_forecasting_model | Train dataset contains 750 samples.\n",
      "[2021-06-30 22:36:08,527] INFO | darts.models.torch_forecasting_model | Train dataset contains 750 samples.\n"
     ]
    },
    {
     "name": "stdout",
     "output_type": "stream",
     "text": [
      "0\n"
     ]
    },
    {
     "name": "stderr",
     "output_type": "stream",
     "text": [
      "[2021-06-30 22:36:16,510] INFO | darts.models.torch_forecasting_model | Train dataset contains 750 samples.\n",
      "[2021-06-30 22:36:16,510] INFO | darts.models.torch_forecasting_model | Train dataset contains 750 samples.\n"
     ]
    },
    {
     "name": "stdout",
     "output_type": "stream",
     "text": [
      "1\n"
     ]
    },
    {
     "name": "stderr",
     "output_type": "stream",
     "text": [
      "[2021-06-30 22:36:24,612] INFO | darts.models.torch_forecasting_model | Train dataset contains 750 samples.\n",
      "[2021-06-30 22:36:24,612] INFO | darts.models.torch_forecasting_model | Train dataset contains 750 samples.\n"
     ]
    },
    {
     "name": "stdout",
     "output_type": "stream",
     "text": [
      "2\n"
     ]
    },
    {
     "name": "stderr",
     "output_type": "stream",
     "text": [
      "[2021-06-30 22:36:32,578] INFO | darts.models.torch_forecasting_model | Train dataset contains 750 samples.\n",
      "[2021-06-30 22:36:32,578] INFO | darts.models.torch_forecasting_model | Train dataset contains 750 samples.\n"
     ]
    },
    {
     "name": "stdout",
     "output_type": "stream",
     "text": [
      "3\n"
     ]
    },
    {
     "name": "stderr",
     "output_type": "stream",
     "text": [
      "[2021-06-30 22:36:40,525] INFO | darts.models.torch_forecasting_model | Train dataset contains 750 samples.\n",
      "[2021-06-30 22:36:40,525] INFO | darts.models.torch_forecasting_model | Train dataset contains 750 samples.\n"
     ]
    },
    {
     "name": "stdout",
     "output_type": "stream",
     "text": [
      "4\n"
     ]
    },
    {
     "name": "stderr",
     "output_type": "stream",
     "text": [
      "[2021-06-30 22:36:48,463] INFO | darts.models.torch_forecasting_model | Train dataset contains 750 samples.\n",
      "[2021-06-30 22:36:48,463] INFO | darts.models.torch_forecasting_model | Train dataset contains 750 samples.\n"
     ]
    },
    {
     "name": "stdout",
     "output_type": "stream",
     "text": [
      "5\n"
     ]
    },
    {
     "name": "stderr",
     "output_type": "stream",
     "text": [
      "[2021-06-30 22:36:56,310] INFO | darts.models.torch_forecasting_model | Train dataset contains 750 samples.\n",
      "[2021-06-30 22:36:56,310] INFO | darts.models.torch_forecasting_model | Train dataset contains 750 samples.\n"
     ]
    },
    {
     "name": "stdout",
     "output_type": "stream",
     "text": [
      "6\n"
     ]
    },
    {
     "name": "stderr",
     "output_type": "stream",
     "text": [
      "[2021-06-30 22:37:04,187] INFO | darts.models.torch_forecasting_model | Train dataset contains 750 samples.\n",
      "[2021-06-30 22:37:04,187] INFO | darts.models.torch_forecasting_model | Train dataset contains 750 samples.\n"
     ]
    },
    {
     "name": "stdout",
     "output_type": "stream",
     "text": [
      "7\n"
     ]
    },
    {
     "name": "stderr",
     "output_type": "stream",
     "text": [
      "[2021-06-30 22:37:12,068] INFO | darts.models.torch_forecasting_model | Train dataset contains 750 samples.\n",
      "[2021-06-30 22:37:12,068] INFO | darts.models.torch_forecasting_model | Train dataset contains 750 samples.\n"
     ]
    },
    {
     "name": "stdout",
     "output_type": "stream",
     "text": [
      "8\n"
     ]
    },
    {
     "name": "stderr",
     "output_type": "stream",
     "text": [
      "[2021-06-30 22:37:19,957] INFO | darts.models.torch_forecasting_model | Train dataset contains 750 samples.\n",
      "[2021-06-30 22:37:19,957] INFO | darts.models.torch_forecasting_model | Train dataset contains 750 samples.\n"
     ]
    },
    {
     "name": "stdout",
     "output_type": "stream",
     "text": [
      "9\n"
     ]
    },
    {
     "name": "stderr",
     "output_type": "stream",
     "text": [
      "[2021-06-30 22:37:27,865] INFO | darts.models.torch_forecasting_model | Train dataset contains 750 samples.\n",
      "[2021-06-30 22:37:27,865] INFO | darts.models.torch_forecasting_model | Train dataset contains 750 samples.\n"
     ]
    },
    {
     "name": "stdout",
     "output_type": "stream",
     "text": [
      "10\n"
     ]
    },
    {
     "name": "stderr",
     "output_type": "stream",
     "text": [
      "[2021-06-30 22:37:35,766] INFO | darts.models.torch_forecasting_model | Train dataset contains 750 samples.\n",
      "[2021-06-30 22:37:35,766] INFO | darts.models.torch_forecasting_model | Train dataset contains 750 samples.\n"
     ]
    },
    {
     "name": "stdout",
     "output_type": "stream",
     "text": [
      "11\n"
     ]
    },
    {
     "name": "stderr",
     "output_type": "stream",
     "text": [
      "[2021-06-30 22:37:43,708] INFO | darts.models.torch_forecasting_model | Train dataset contains 750 samples.\n",
      "[2021-06-30 22:37:43,708] INFO | darts.models.torch_forecasting_model | Train dataset contains 750 samples.\n"
     ]
    },
    {
     "name": "stdout",
     "output_type": "stream",
     "text": [
      "12\n"
     ]
    },
    {
     "name": "stderr",
     "output_type": "stream",
     "text": [
      "[2021-06-30 22:37:51,572] INFO | darts.models.torch_forecasting_model | Train dataset contains 750 samples.\n",
      "[2021-06-30 22:37:51,572] INFO | darts.models.torch_forecasting_model | Train dataset contains 750 samples.\n"
     ]
    },
    {
     "name": "stdout",
     "output_type": "stream",
     "text": [
      "13\n"
     ]
    },
    {
     "name": "stderr",
     "output_type": "stream",
     "text": [
      "[2021-06-30 22:37:59,507] INFO | darts.models.torch_forecasting_model | Train dataset contains 750 samples.\n",
      "[2021-06-30 22:37:59,507] INFO | darts.models.torch_forecasting_model | Train dataset contains 750 samples.\n"
     ]
    },
    {
     "name": "stdout",
     "output_type": "stream",
     "text": [
      "14\n"
     ]
    },
    {
     "name": "stderr",
     "output_type": "stream",
     "text": [
      "[2021-06-30 22:38:07,419] INFO | darts.models.torch_forecasting_model | Train dataset contains 750 samples.\n",
      "[2021-06-30 22:38:07,419] INFO | darts.models.torch_forecasting_model | Train dataset contains 750 samples.\n"
     ]
    },
    {
     "name": "stdout",
     "output_type": "stream",
     "text": [
      "15\n"
     ]
    },
    {
     "name": "stderr",
     "output_type": "stream",
     "text": [
      "[2021-06-30 22:38:15,318] INFO | darts.models.torch_forecasting_model | Train dataset contains 750 samples.\n",
      "[2021-06-30 22:38:15,318] INFO | darts.models.torch_forecasting_model | Train dataset contains 750 samples.\n"
     ]
    },
    {
     "name": "stdout",
     "output_type": "stream",
     "text": [
      "16\n"
     ]
    },
    {
     "name": "stderr",
     "output_type": "stream",
     "text": [
      "[2021-06-30 22:38:23,204] INFO | darts.models.torch_forecasting_model | Train dataset contains 750 samples.\n",
      "[2021-06-30 22:38:23,204] INFO | darts.models.torch_forecasting_model | Train dataset contains 750 samples.\n"
     ]
    },
    {
     "name": "stdout",
     "output_type": "stream",
     "text": [
      "17\n"
     ]
    },
    {
     "name": "stderr",
     "output_type": "stream",
     "text": [
      "[2021-06-30 22:38:31,140] INFO | darts.models.torch_forecasting_model | Train dataset contains 750 samples.\n",
      "[2021-06-30 22:38:31,140] INFO | darts.models.torch_forecasting_model | Train dataset contains 750 samples.\n"
     ]
    },
    {
     "name": "stdout",
     "output_type": "stream",
     "text": [
      "18\n"
     ]
    },
    {
     "name": "stderr",
     "output_type": "stream",
     "text": [
      "[2021-06-30 22:38:39,025] INFO | darts.models.torch_forecasting_model | Train dataset contains 750 samples.\n",
      "[2021-06-30 22:38:39,025] INFO | darts.models.torch_forecasting_model | Train dataset contains 750 samples.\n"
     ]
    },
    {
     "name": "stdout",
     "output_type": "stream",
     "text": [
      "19\n",
      "0.41372565746981016\n"
     ]
    },
    {
     "data": {
      "image/png": "[encoded data removed]",
      "text/plain": [
       "<Figure size 432x288 with 1 Axes>"
      ]
     },
     "metadata": {
      "needs_background": "light"
     },
     "output_type": "display_data"
    },
    {
     "name": "stdout",
     "output_type": "stream",
     "text": [
      "BlinkingRotlet 9\n"
     ]
    },
    {
     "name": "stderr",
     "output_type": "stream",
     "text": [
      "/Users/williamgilpin/miniconda3/envs/dysts/lib/python3.8/site-packages/dysts/base.py:166: UserWarning: This system has at least one unbounded variable, which has been mapped to a bounded domain. Pass argument postprocess=False in order to generate trajectories from the raw system.\n",
      "  warnings.warn(\"This system has at least one unbounded variable, which has been mapped to a bounded domain. Pass argument postprocess=False in order to generate trajectories from the raw system.\")\n",
      "[2021-06-30 22:38:47,367] INFO | darts.models.torch_forecasting_model | Train dataset contains 975 samples.\n",
      "[2021-06-30 22:38:47,367] INFO | darts.models.torch_forecasting_model | Train dataset contains 975 samples.\n"
     ]
    },
    {
     "name": "stdout",
     "output_type": "stream",
     "text": [
      "1.0858541157150232\n",
      "0\n"
     ]
    },
    {
     "name": "stderr",
     "output_type": "stream",
     "text": [
      "/Users/williamgilpin/miniconda3/envs/dysts/lib/python3.8/site-packages/dysts/base.py:166: UserWarning: This system has at least one unbounded variable, which has been mapped to a bounded domain. Pass argument postprocess=False in order to generate trajectories from the raw system.\n",
      "  warnings.warn(\"This system has at least one unbounded variable, which has been mapped to a bounded domain. Pass argument postprocess=False in order to generate trajectories from the raw system.\")\n",
      "[2021-06-30 22:40:38,770] INFO | darts.models.torch_forecasting_model | Train dataset contains 750 samples.\n",
      "[2021-06-30 22:40:38,770] INFO | darts.models.torch_forecasting_model | Train dataset contains 750 samples.\n"
     ]
    },
    {
     "name": "stdout",
     "output_type": "stream",
     "text": [
      "1\n"
     ]
    },
    {
     "name": "stderr",
     "output_type": "stream",
     "text": [
      "[2021-06-30 22:40:46,898] INFO | darts.models.torch_forecasting_model | Train dataset contains 750 samples.\n",
      "[2021-06-30 22:40:46,898] INFO | darts.models.torch_forecasting_model | Train dataset contains 750 samples.\n"
     ]
    },
    {
     "name": "stdout",
     "output_type": "stream",
     "text": [
      "2\n"
     ]
    },
    {
     "name": "stderr",
     "output_type": "stream",
     "text": [
      "[2021-06-30 22:40:54,930] INFO | darts.models.torch_forecasting_model | Train dataset contains 750 samples.\n",
      "[2021-06-30 22:40:54,930] INFO | darts.models.torch_forecasting_model | Train dataset contains 750 samples.\n"
     ]
    },
    {
     "name": "stdout",
     "output_type": "stream",
     "text": [
      "3\n"
     ]
    },
    {
     "name": "stderr",
     "output_type": "stream",
     "text": [
      "[2021-06-30 22:41:03,066] INFO | darts.models.torch_forecasting_model | Train dataset contains 750 samples.\n",
      "[2021-06-30 22:41:03,066] INFO | darts.models.torch_forecasting_model | Train dataset contains 750 samples.\n"
     ]
    },
    {
     "name": "stdout",
     "output_type": "stream",
     "text": [
      "4\n"
     ]
    },
    {
     "name": "stderr",
     "output_type": "stream",
     "text": [
      "[2021-06-30 22:41:11,109] INFO | darts.models.torch_forecasting_model | Train dataset contains 750 samples.\n",
      "[2021-06-30 22:41:11,109] INFO | darts.models.torch_forecasting_model | Train dataset contains 750 samples.\n"
     ]
    },
    {
     "name": "stdout",
     "output_type": "stream",
     "text": [
      "5\n"
     ]
    },
    {
     "name": "stderr",
     "output_type": "stream",
     "text": [
      "[2021-06-30 22:41:19,241] INFO | darts.models.torch_forecasting_model | Train dataset contains 750 samples.\n",
      "[2021-06-30 22:41:19,241] INFO | darts.models.torch_forecasting_model | Train dataset contains 750 samples.\n"
     ]
    },
    {
     "name": "stdout",
     "output_type": "stream",
     "text": [
      "6\n"
     ]
    },
    {
     "name": "stderr",
     "output_type": "stream",
     "text": [
      "[2021-06-30 22:41:27,410] INFO | darts.models.torch_forecasting_model | Train dataset contains 750 samples.\n",
      "[2021-06-30 22:41:27,410] INFO | darts.models.torch_forecasting_model | Train dataset contains 750 samples.\n"
     ]
    },
    {
     "name": "stdout",
     "output_type": "stream",
     "text": [
      "7\n"
     ]
    },
    {
     "name": "stderr",
     "output_type": "stream",
     "text": [
      "[2021-06-30 22:41:35,523] INFO | darts.models.torch_forecasting_model | Train dataset contains 750 samples.\n",
      "[2021-06-30 22:41:35,523] INFO | darts.models.torch_forecasting_model | Train dataset contains 750 samples.\n"
     ]
    },
    {
     "name": "stdout",
     "output_type": "stream",
     "text": [
      "8\n"
     ]
    },
    {
     "name": "stderr",
     "output_type": "stream",
     "text": [
      "[2021-06-30 22:41:43,614] INFO | darts.models.torch_forecasting_model | Train dataset contains 750 samples.\n",
      "[2021-06-30 22:41:43,614] INFO | darts.models.torch_forecasting_model | Train dataset contains 750 samples.\n"
     ]
    },
    {
     "name": "stdout",
     "output_type": "stream",
     "text": [
      "9\n"
     ]
    },
    {
     "name": "stderr",
     "output_type": "stream",
     "text": [
      "[2021-06-30 22:41:51,713] INFO | darts.models.torch_forecasting_model | Train dataset contains 750 samples.\n",
      "[2021-06-30 22:41:51,713] INFO | darts.models.torch_forecasting_model | Train dataset contains 750 samples.\n",
      "[2021-06-30 22:41:59,685] INFO | darts.models.torch_forecasting_model | Train dataset contains 750 samples.\n"
     ]
    },
    {
     "name": "stdout",
     "output_type": "stream",
     "text": [
      "10\n"
     ]
    },
    {
     "name": "stderr",
     "output_type": "stream",
     "text": [
      "[2021-06-30 22:41:59,685] INFO | darts.models.torch_forecasting_model | Train dataset contains 750 samples.\n"
     ]
    },
    {
     "name": "stdout",
     "output_type": "stream",
     "text": [
      "11\n"
     ]
    },
    {
     "name": "stderr",
     "output_type": "stream",
     "text": [
      "[2021-06-30 22:42:07,644] INFO | darts.models.torch_forecasting_model | Train dataset contains 750 samples.\n",
      "[2021-06-30 22:42:07,644] INFO | darts.models.torch_forecasting_model | Train dataset contains 750 samples.\n"
     ]
    },
    {
     "name": "stdout",
     "output_type": "stream",
     "text": [
      "12\n"
     ]
    },
    {
     "name": "stderr",
     "output_type": "stream",
     "text": [
      "[2021-06-30 22:42:15,754] INFO | darts.models.torch_forecasting_model | Train dataset contains 750 samples.\n",
      "[2021-06-30 22:42:15,754] INFO | darts.models.torch_forecasting_model | Train dataset contains 750 samples.\n"
     ]
    },
    {
     "name": "stdout",
     "output_type": "stream",
     "text": [
      "13\n"
     ]
    },
    {
     "name": "stderr",
     "output_type": "stream",
     "text": [
      "[2021-06-30 22:42:23,788] INFO | darts.models.torch_forecasting_model | Train dataset contains 750 samples.\n",
      "[2021-06-30 22:42:23,788] INFO | darts.models.torch_forecasting_model | Train dataset contains 750 samples.\n"
     ]
    },
    {
     "name": "stdout",
     "output_type": "stream",
     "text": [
      "14\n"
     ]
    },
    {
     "name": "stderr",
     "output_type": "stream",
     "text": [
      "[2021-06-30 22:42:31,938] INFO | darts.models.torch_forecasting_model | Train dataset contains 750 samples.\n",
      "[2021-06-30 22:42:31,938] INFO | darts.models.torch_forecasting_model | Train dataset contains 750 samples.\n"
     ]
    },
    {
     "name": "stdout",
     "output_type": "stream",
     "text": [
      "15\n"
     ]
    },
    {
     "name": "stderr",
     "output_type": "stream",
     "text": [
      "[2021-06-30 22:42:40,057] INFO | darts.models.torch_forecasting_model | Train dataset contains 750 samples.\n",
      "[2021-06-30 22:42:40,057] INFO | darts.models.torch_forecasting_model | Train dataset contains 750 samples.\n"
     ]
    },
    {
     "name": "stdout",
     "output_type": "stream",
     "text": [
      "16\n"
     ]
    },
    {
     "name": "stderr",
     "output_type": "stream",
     "text": [
      "[2021-06-30 22:42:48,284] INFO | darts.models.torch_forecasting_model | Train dataset contains 750 samples.\n",
      "[2021-06-30 22:42:48,284] INFO | darts.models.torch_forecasting_model | Train dataset contains 750 samples.\n"
     ]
    },
    {
     "name": "stdout",
     "output_type": "stream",
     "text": [
      "17\n"
     ]
    },
    {
     "name": "stderr",
     "output_type": "stream",
     "text": [
      "[2021-06-30 22:42:56,409] INFO | darts.models.torch_forecasting_model | Train dataset contains 750 samples.\n",
      "[2021-06-30 22:42:56,409] INFO | darts.models.torch_forecasting_model | Train dataset contains 750 samples.\n"
     ]
    },
    {
     "name": "stdout",
     "output_type": "stream",
     "text": [
      "18\n"
     ]
    },
    {
     "name": "stderr",
     "output_type": "stream",
     "text": [
      "[2021-06-30 22:43:04,422] INFO | darts.models.torch_forecasting_model | Train dataset contains 750 samples.\n",
      "[2021-06-30 22:43:04,422] INFO | darts.models.torch_forecasting_model | Train dataset contains 750 samples.\n"
     ]
    },
    {
     "name": "stdout",
     "output_type": "stream",
     "text": [
      "19\n"
     ]
    },
    {
     "name": "stderr",
     "output_type": "stream",
     "text": [
      "[2021-06-30 22:43:12,548] INFO | darts.models.torch_forecasting_model | Train dataset contains 750 samples.\n",
      "[2021-06-30 22:43:12,548] INFO | darts.models.torch_forecasting_model | Train dataset contains 750 samples.\n"
     ]
    },
    {
     "name": "stdout",
     "output_type": "stream",
     "text": [
      "0.7785277054133237\n"
     ]
    },
    {
     "data": {
      "image/png": "[encoded data removed]",
      "text/plain": [
       "<Figure size 432x288 with 1 Axes>"
      ]
     },
     "metadata": {
      "needs_background": "light"
     },
     "output_type": "display_data"
    },
    {
     "name": "stdout",
     "output_type": "stream",
     "text": [
      "BlinkingVortex 10\n"
     ]
    },
    {
     "name": "stderr",
     "output_type": "stream",
     "text": [
      "/Users/williamgilpin/miniconda3/envs/dysts/lib/python3.8/site-packages/dysts/base.py:166: UserWarning: This system has at least one unbounded variable, which has been mapped to a bounded domain. Pass argument postprocess=False in order to generate trajectories from the raw system.\n",
      "  warnings.warn(\"This system has at least one unbounded variable, which has been mapped to a bounded domain. Pass argument postprocess=False in order to generate trajectories from the raw system.\")\n",
      "[2021-06-30 22:43:21,075] INFO | darts.models.torch_forecasting_model | Train dataset contains 975 samples.\n",
      "[2021-06-30 22:43:21,075] INFO | darts.models.torch_forecasting_model | Train dataset contains 975 samples.\n"
     ]
    },
    {
     "name": "stdout",
     "output_type": "stream",
     "text": [
      "1.2339444967464264\n",
      "0\n"
     ]
    },
    {
     "name": "stderr",
     "output_type": "stream",
     "text": [
      "/Users/williamgilpin/miniconda3/envs/dysts/lib/python3.8/site-packages/dysts/base.py:166: UserWarning: This system has at least one unbounded variable, which has been mapped to a bounded domain. Pass argument postprocess=False in order to generate trajectories from the raw system.\n",
      "  warnings.warn(\"This system has at least one unbounded variable, which has been mapped to a bounded domain. Pass argument postprocess=False in order to generate trajectories from the raw system.\")\n",
      "[2021-06-30 22:45:14,568] INFO | darts.models.torch_forecasting_model | Train dataset contains 750 samples.\n",
      "[2021-06-30 22:45:14,568] INFO | darts.models.torch_forecasting_model | Train dataset contains 750 samples.\n"
     ]
    },
    {
     "name": "stdout",
     "output_type": "stream",
     "text": [
      "1\n"
     ]
    },
    {
     "name": "stderr",
     "output_type": "stream",
     "text": [
      "[2021-06-30 22:45:23,519] INFO | darts.models.torch_forecasting_model | Train dataset contains 750 samples.\n",
      "[2021-06-30 22:45:23,519] INFO | darts.models.torch_forecasting_model | Train dataset contains 750 samples.\n"
     ]
    },
    {
     "name": "stdout",
     "output_type": "stream",
     "text": [
      "2\n"
     ]
    },
    {
     "name": "stderr",
     "output_type": "stream",
     "text": [
      "[2021-06-30 22:45:31,971] INFO | darts.models.torch_forecasting_model | Train dataset contains 750 samples.\n",
      "[2021-06-30 22:45:31,971] INFO | darts.models.torch_forecasting_model | Train dataset contains 750 samples.\n"
     ]
    },
    {
     "name": "stdout",
     "output_type": "stream",
     "text": [
      "3\n"
     ]
    },
    {
     "name": "stderr",
     "output_type": "stream",
     "text": [
      "[2021-06-30 22:45:40,428] INFO | darts.models.torch_forecasting_model | Train dataset contains 750 samples.\n",
      "[2021-06-30 22:45:40,428] INFO | darts.models.torch_forecasting_model | Train dataset contains 750 samples.\n"
     ]
    },
    {
     "name": "stdout",
     "output_type": "stream",
     "text": [
      "4\n"
     ]
    },
    {
     "name": "stderr",
     "output_type": "stream",
     "text": [
      "[2021-06-30 22:45:50,786] INFO | darts.models.torch_forecasting_model | Train dataset contains 750 samples.\n",
      "[2021-06-30 22:45:50,786] INFO | darts.models.torch_forecasting_model | Train dataset contains 750 samples.\n"
     ]
    },
    {
     "name": "stdout",
     "output_type": "stream",
     "text": [
      "5\n"
     ]
    },
    {
     "name": "stderr",
     "output_type": "stream",
     "text": [
      "[2021-06-30 22:45:59,907] INFO | darts.models.torch_forecasting_model | Train dataset contains 750 samples.\n",
      "[2021-06-30 22:45:59,907] INFO | darts.models.torch_forecasting_model | Train dataset contains 750 samples.\n"
     ]
    },
    {
     "name": "stdout",
     "output_type": "stream",
     "text": [
      "6\n"
     ]
    },
    {
     "name": "stderr",
     "output_type": "stream",
     "text": [
      "[2021-06-30 22:46:09,588] INFO | darts.models.torch_forecasting_model | Train dataset contains 750 samples.\n",
      "[2021-06-30 22:46:09,588] INFO | darts.models.torch_forecasting_model | Train dataset contains 750 samples.\n"
     ]
    },
    {
     "name": "stdout",
     "output_type": "stream",
     "text": [
      "7\n"
     ]
    },
    {
     "name": "stderr",
     "output_type": "stream",
     "text": [
      "[2021-06-30 22:46:19,151] INFO | darts.models.torch_forecasting_model | Train dataset contains 750 samples.\n",
      "[2021-06-30 22:46:19,151] INFO | darts.models.torch_forecasting_model | Train dataset contains 750 samples.\n"
     ]
    }
   ],
   "source": [
    "## Define a model that predicts a time series, given its previous values\n",
    "\n",
    "\n",
    "import pandas as pd\n",
    "from scipy.signal import savgol_filter\n",
    "import json\n",
    "\n",
    "import darts \n",
    "from darts import TimeSeries\n",
    "from darts.models import RNNModel\n",
    "\n",
    "from sktime.performance_metrics.forecasting import mean_absolute_percentage_error\n",
    "\n",
    "import dysts\n",
    "from dysts.flows import *\n",
    "from dysts.base import *\n",
    "from dysts.utils import *\n",
    "from dysts.analysis import *\n",
    "\n",
    "\n",
    "full_epoch_count = 400\n",
    "forecast_length = 200\n",
    "\n",
    "hyperparams = {\n",
    "    \"input_chunk_length\": 25, \n",
    "    \"output_chunk_length\": 1, \n",
    "    \"model\": \"LSTM\", \n",
    "    \"n_rnn_layers\": 2, \n",
    "    \"random_state\": 0\n",
    "}\n",
    "\n",
    "results = dict()\n",
    "\n",
    "# cwd = os.path.dirname(os.path.realpath(__file__))\n",
    "cwd = os.getcwd()\n",
    "output_path = cwd + \"/results/importance_sampling.json\"\n",
    "print(\"Saving data to: \", output_path)\n",
    "\n",
    "# equation_name = \"SprottA\"\n",
    "\n",
    "\n",
    "n_iters = 2 * 10\n",
    "epoch_count = 2 * 10\n",
    "n_ic = 5 * 2 * full_epoch_count// (n_iters * epoch_count)  # model retraining is not currently working in darts\n",
    "traj_len =  1000 // n_ic\n",
    "print(f\"{n_ic} points sampled per iteration, with trajectory length {traj_len}, for a total of {n_iters} iterations of length {epoch_count}\")\n",
    "print(n_ic * traj_len * n_iters* epoch_count)\n",
    "print(full_epoch_count * 1000)\n",
    "\n",
    "\n",
    "\n",
    "for equation_ind, equation_name in enumerate(get_attractor_list()):\n",
    "    np.random.seed(0)\n",
    "    \n",
    "    print(f\"{equation_name} {equation_ind}\", flush=True)\n",
    "    results[equation_name] = dict()\n",
    "\n",
    "    equation = getattr(dysts.flows, equation_name)()\n",
    "    if hasattr(equation, \"delay\"):\n",
    "        if equation.delay: \n",
    "            continue\n",
    "    sol = equation.make_trajectory(1200, resample=True)\n",
    "    y_train, y_test = sol[:-forecast_length, 0], sol[-forecast_length:, 0]\n",
    "    y_train_ts = TimeSeries.from_dataframe(pd.DataFrame(y_train))\n",
    "    results[equation_name][\"true_value\"] = y_test.tolist()\n",
    "\n",
    "    try:\n",
    "        del model\n",
    "    except:\n",
    "        pass\n",
    "    model = RNNModel(**hyperparams)\n",
    "    # hyperparams = {\"input_chunk_length\": 50, \"output_chunk_length\": 1}\n",
    "    # model = NBEATSModel(**hyperparams)\n",
    "    model.fit(y_train_ts, epochs=full_epoch_count)\n",
    "\n",
    "    y_val_pred = model.predict(forecast_length)\n",
    "    y_val_pred = np.squeeze(y_val_pred.values())\n",
    "    score = mean_absolute_percentage_error(y_test, y_val_pred, symmetric=True)\n",
    "    print(score)\n",
    "    plt.figure()\n",
    "    plt.plot(y_test)\n",
    "    plt.plot(y_val_pred)\n",
    "    \n",
    "    results[equation_name][\"prediction_value\"] = y_val_pred.tolist()\n",
    "    \n",
    "\n",
    "    pred_backtest = model.historical_forecasts(y_train_ts, retrain=False, start=(1 + model.input_chunk_length)).values()\n",
    "    # model = RNNModel(50, 1, model=\"LSTM\", n_rnn_layers=2, n_epochs=epoch_count)\n",
    "    model = RNNModel(**hyperparams)\n",
    "    # model = NBEATSModel(**hyperparams)\n",
    "    for i in range(n_iters):\n",
    "        print(i)\n",
    "\n",
    "        y_train_backtest = y_train_ts.values()[-len(pred_backtest):]\n",
    "        mse_back = np.squeeze(np.sqrt((pred_backtest - y_train_backtest)**2))\n",
    "        sample_probs = savgol_filter(mse_back, 21, 3)\n",
    "        sample_probs[sample_probs<0] = 0\n",
    "        sample_probs /= np.sum(sample_probs)\n",
    "\n",
    "        ic_indices = np.random.choice(np.arange(len(y_train_backtest)), n_ic, p=sample_probs, replace=True)\n",
    "        #ic_indices = np.random.choice(np.arange(len(y_train_backtest)), n_ic)\n",
    "\n",
    "        ic_vals = sol[ic_indices] + 1e-3 * (np.random.random(sol[ic_indices].shape) - 0.5)\n",
    "        equation.ic = ic_vals\n",
    "        new_sol = equation.make_trajectory(traj_len, resample=True)\n",
    "        y_train_list = list(new_sol[..., 0])\n",
    "        y_train_list = [TimeSeries.from_dataframe(pd.DataFrame(item)) for item in y_train_list]\n",
    "        model.fit(y_train_list, epochs=epoch_count)\n",
    "        pred_backtest = model.historical_forecasts(y_train_ts, retrain=False, start=(1 + model.input_chunk_length)).values()\n",
    "\n",
    "    y_val_pred = model.predict(forecast_length, series=y_train_ts)\n",
    "    y_val_pred = np.squeeze(y_val_pred.values())\n",
    "    score = mean_absolute_percentage_error(y_test, y_val_pred, symmetric=True)\n",
    "    print(score)\n",
    "    plt.plot(y_val_pred)\n",
    "    plt.show()\n",
    "\n",
    "    results[equation_name][\"prediction_adaptive\"] = y_val_pred.tolist()\n",
    "    \n",
    "    \n",
    "\n",
    "    with open(output_path, 'w') as f:\n",
    "        json.dump(results, f, indent=4)   "
   ]
  },
  {
   "cell_type": "code",
   "execution_count": 129,
   "metadata": {},
   "outputs": [
    {
     "ename": "NameError",
     "evalue": "name 'random_state' is not defined",
     "output_type": "error",
     "traceback": [
      "\u001b[0;31m---------------------------------------------------------------------------\u001b[0m",
      "\u001b[0;31mNameError\u001b[0m                                 Traceback (most recent call last)",
      "\u001b[0;32m<ipython-input-129-7b42502adc60>\u001b[0m in \u001b[0;36m<module>\u001b[0;34m\u001b[0m\n\u001b[0;32m----> 1\u001b[0;31m \u001b[0mrandom_state\u001b[0m\u001b[0;34m\u001b[0m\u001b[0;34m\u001b[0m\u001b[0m\n\u001b[0m",
      "\u001b[0;31mNameError\u001b[0m: name 'random_state' is not defined"
     ]
    }
   ],
   "source": [
    "random_state"
   ]
  },
  {
   "cell_type": "code",
   "execution_count": 35,
   "metadata": {},
   "outputs": [
    {
     "data": {
      "text/plain": [
       "8"
      ]
     },
     "execution_count": 35,
     "metadata": {},
     "output_type": "execute_result"
    }
   ],
   "source": [
    "2 * full_epoch_count// (n_iters * epoch_count) "
   ]
  },
  {
   "cell_type": "code",
   "execution_count": 31,
   "metadata": {},
   "outputs": [
    {
     "data": {
      "text/plain": [
       "4"
      ]
     },
     "execution_count": 31,
     "metadata": {},
     "output_type": "execute_result"
    }
   ],
   "source": [
    "full_epoch_count// (n_iters * epoch_count)"
   ]
  },
  {
   "cell_type": "code",
   "execution_count": 34,
   "metadata": {},
   "outputs": [
    {
     "data": {
      "text/plain": [
       "400000"
      ]
     },
     "execution_count": 34,
     "metadata": {},
     "output_type": "execute_result"
    }
   ],
   "source": [
    "10 * 8 * 250 * 20"
   ]
  },
  {
   "cell_type": "code",
   "execution_count": 24,
   "metadata": {},
   "outputs": [
    {
     "data": {
      "text/plain": [
       "250"
      ]
     },
     "execution_count": 24,
     "metadata": {},
     "output_type": "execute_result"
    }
   ],
   "source": [
    "1 round, 1 time series, length 1000, for 400 steps\n",
    "\n",
    "10 rounds, 4 time series, length 250, for 20 steps\n",
    "\n",
    "10 rounds, 8 time series, length 250, for 20 steps"
   ]
  },
  {
   "cell_type": "code",
   "execution_count": 124,
   "metadata": {},
   "outputs": [
    {
     "name": "stdout",
     "output_type": "stream",
     "text": [
      "The autoreload extension is already loaded. To reload it, use:\n",
      "  %reload_ext autoreload\n",
      "true_value 0.0\n",
      "prediction_value 1.2151159288530988\n",
      "prediction_adaptive 0.7504348565671389\n"
     ]
    },
    {
     "data": {
      "text/plain": [
       "<matplotlib.legend.Legend at 0x7fe11079f040>"
      ]
     },
     "execution_count": 124,
     "metadata": {},
     "output_type": "execute_result"
    },
    {
     "data": {
      "image/png": "[encoded data removed]",
      "text/plain": [
       "<Figure size 432x288 with 1 Axes>"
      ]
     },
     "metadata": {
      "needs_background": "light"
     },
     "output_type": "display_data"
    }
   ],
   "source": [
    "\n",
    "import matplotlib.pyplot as plt\n",
    "%matplotlib inline\n",
    "%load_ext autoreload\n",
    "%autoreload 2\n",
    "\n",
    "all_labels = list()\n",
    "for item in results[\"Aizawa\"]:\n",
    "    score = mean_absolute_percentage_error(results[\"Aizawa\"][\"true_value\"], results[\"Aizawa\"][item], symmetric=True)\n",
    "    all_labels.append(item)\n",
    "    plt.plot(results[\"Aizawa\"][item])\n",
    "    print(item, score)\n",
    "plt.legend(all_labels)"
   ]
  },
  {
   "cell_type": "code",
   "execution_count": 125,
   "metadata": {},
   "outputs": [
    {
     "name": "stdout",
     "output_type": "stream",
     "text": [
      "The autoreload extension is already loaded. To reload it, use:\n",
      "  %reload_ext autoreload\n"
     ]
    },
    {
     "data": {
      "image/png": "[encoded data removed]",
      "text/plain": [
       "<Figure size 432x288 with 1 Axes>"
      ]
     },
     "metadata": {
      "needs_background": "light"
     },
     "output_type": "display_data"
    },
    {
     "data": {
      "image/png": "[encoded data removed]",
      "text/plain": [
       "<Figure size 432x288 with 1 Axes>"
      ]
     },
     "metadata": {
      "needs_background": "light"
     },
     "output_type": "display_data"
    }
   ],
   "source": [
    "\n",
    "import matplotlib.pyplot as plt\n",
    "%matplotlib inline\n",
    "%load_ext autoreload\n",
    "%autoreload 2\n",
    "\n",
    "all_scores = dict()\n",
    "for equation_name in results.keys():\n",
    "    all_scores[equation_name] = dict()\n",
    "    plt.figure()\n",
    "    all_labels = list()\n",
    "    for item in results[equation_name]:\n",
    "        all_labels.append(item)\n",
    "        plt.plot(results[equation_name][item])\n",
    "        score = mean_absolute_percentage_error(results[equation_name][\"true_value\"], results[equation_name][item], symmetric=True)\n",
    "        all_scores[equation_name][item] = score\n",
    "    plt.legend(all_labels)\n"
   ]
  },
  {
   "cell_type": "code",
   "execution_count": 122,
   "metadata": {},
   "outputs": [
    {
     "name": "stdout",
     "output_type": "stream",
     "text": [
      "[0.99546551 0.67776267]\n",
      "[0.99546551 0.67776267]\n"
     ]
    }
   ],
   "source": [
    "score_vals = list()\n",
    "for item in all_scores:\n",
    "    try:\n",
    "        score_vals.append((all_scores[item][\"prediction_value\"], all_scores[item][\"prediction_adaptive\"]))\n",
    "    except KeyError:\n",
    "        pass\n",
    "score_vals = np.array(score_vals)\n",
    "\n",
    "print(np.mean(score_vals, axis=0))\n",
    "print(np.median(score_vals, axis=0))"
   ]
  },
  {
   "cell_type": "code",
   "execution_count": null,
   "metadata": {},
   "outputs": [],
   "source": []
  },
  {
   "cell_type": "code",
   "execution_count": 63,
   "metadata": {},
   "outputs": [
    {
     "name": "stdout",
     "output_type": "stream",
     "text": [
      "8 points sampled per iteration, for a total of 10 iterations of length 5\n",
      "0\n"
     ]
    },
    {
     "name": "stderr",
     "output_type": "stream",
     "text": [
      "[2021-06-30 04:00:17,051] INFO | darts.models.torch_forecasting_model | Train dataset contains 950 samples.\n",
      "[2021-06-30 04:00:17,051] INFO | darts.models.torch_forecasting_model | Train dataset contains 950 samples.\n"
     ]
    },
    {
     "name": "stdout",
     "output_type": "stream",
     "text": [
      "1\n"
     ]
    },
    {
     "name": "stderr",
     "output_type": "stream",
     "text": [
      "[2021-06-30 04:00:24,994] INFO | darts.models.torch_forecasting_model | Train dataset contains 950 samples.\n",
      "[2021-06-30 04:00:24,994] INFO | darts.models.torch_forecasting_model | Train dataset contains 950 samples.\n"
     ]
    },
    {
     "name": "stdout",
     "output_type": "stream",
     "text": [
      "2\n"
     ]
    },
    {
     "name": "stderr",
     "output_type": "stream",
     "text": [
      "[2021-06-30 04:00:33,292] INFO | darts.models.torch_forecasting_model | Train dataset contains 950 samples.\n",
      "[2021-06-30 04:00:33,292] INFO | darts.models.torch_forecasting_model | Train dataset contains 950 samples.\n"
     ]
    },
    {
     "name": "stdout",
     "output_type": "stream",
     "text": [
      "3\n"
     ]
    },
    {
     "name": "stderr",
     "output_type": "stream",
     "text": [
      "[2021-06-30 04:00:41,021] INFO | darts.models.torch_forecasting_model | Train dataset contains 950 samples.\n",
      "[2021-06-30 04:00:41,021] INFO | darts.models.torch_forecasting_model | Train dataset contains 950 samples.\n"
     ]
    },
    {
     "name": "stdout",
     "output_type": "stream",
     "text": [
      "4\n"
     ]
    },
    {
     "name": "stderr",
     "output_type": "stream",
     "text": [
      "[2021-06-30 04:00:48,496] INFO | darts.models.torch_forecasting_model | Train dataset contains 950 samples.\n",
      "[2021-06-30 04:00:48,496] INFO | darts.models.torch_forecasting_model | Train dataset contains 950 samples.\n"
     ]
    },
    {
     "name": "stdout",
     "output_type": "stream",
     "text": [
      "5\n"
     ]
    },
    {
     "name": "stderr",
     "output_type": "stream",
     "text": [
      "[2021-06-30 04:00:56,368] INFO | darts.models.torch_forecasting_model | Train dataset contains 950 samples.\n",
      "[2021-06-30 04:00:56,368] INFO | darts.models.torch_forecasting_model | Train dataset contains 950 samples.\n"
     ]
    },
    {
     "name": "stdout",
     "output_type": "stream",
     "text": [
      "6\n"
     ]
    },
    {
     "name": "stderr",
     "output_type": "stream",
     "text": [
      "[2021-06-30 04:01:03,937] INFO | darts.models.torch_forecasting_model | Train dataset contains 950 samples.\n",
      "[2021-06-30 04:01:03,937] INFO | darts.models.torch_forecasting_model | Train dataset contains 950 samples.\n"
     ]
    },
    {
     "name": "stdout",
     "output_type": "stream",
     "text": [
      "7\n"
     ]
    },
    {
     "name": "stderr",
     "output_type": "stream",
     "text": [
      "[2021-06-30 04:01:11,533] INFO | darts.models.torch_forecasting_model | Train dataset contains 950 samples.\n",
      "[2021-06-30 04:01:11,533] INFO | darts.models.torch_forecasting_model | Train dataset contains 950 samples.\n"
     ]
    },
    {
     "name": "stdout",
     "output_type": "stream",
     "text": [
      "8\n"
     ]
    },
    {
     "name": "stderr",
     "output_type": "stream",
     "text": [
      "[2021-06-30 04:01:19,300] INFO | darts.models.torch_forecasting_model | Train dataset contains 950 samples.\n",
      "[2021-06-30 04:01:19,300] INFO | darts.models.torch_forecasting_model | Train dataset contains 950 samples.\n"
     ]
    },
    {
     "name": "stdout",
     "output_type": "stream",
     "text": [
      "9\n"
     ]
    },
    {
     "name": "stderr",
     "output_type": "stream",
     "text": [
      "[2021-06-30 04:01:26,816] INFO | darts.models.torch_forecasting_model | Train dataset contains 950 samples.\n",
      "[2021-06-30 04:01:26,816] INFO | darts.models.torch_forecasting_model | Train dataset contains 950 samples.\n"
     ]
    },
    {
     "name": "stdout",
     "output_type": "stream",
     "text": [
      "1.0436703912213863\n"
     ]
    },
    {
     "data": {
      "image/png": "[encoded data removed]",
      "text/plain": [
       "<Figure size 432x288 with 1 Axes>"
      ]
     },
     "metadata": {
      "needs_background": "light"
     },
     "output_type": "display_data"
    }
   ],
   "source": []
  },
  {
   "cell_type": "code",
   "execution_count": null,
   "metadata": {},
   "outputs": [],
   "source": [
    "0.5482721423192519"
   ]
  },
  {
   "cell_type": "code",
   "execution_count": 69,
   "metadata": {},
   "outputs": [
    {
     "data": {
      "text/plain": [
       "[<matplotlib.lines.Line2D at 0x7f9b71dfa7f0>]"
      ]
     },
     "execution_count": 69,
     "metadata": {},
     "output_type": "execute_result"
    },
    {
     "data": {
      "image/png": "[encoded data removed]",
      "text/plain": [
       "<Figure size 432x288 with 1 Axes>"
      ]
     },
     "metadata": {
      "needs_background": "light"
     },
     "output_type": "display_data"
    }
   ],
   "source": [
    "plt.plot(pred_backtest)"
   ]
  },
  {
   "cell_type": "code",
   "execution_count": null,
   "metadata": {},
   "outputs": [],
   "source": [
    "ForcedFitzHughNagumo"
   ]
  },
  {
   "cell_type": "markdown",
   "metadata": {},
   "source": [
    "+ sample new ic along bad directions\n",
    "\n",
    "Compute jacobian of trajectories, and sample along direction of LLE\n"
   ]
  },
  {
   "cell_type": "code",
   "execution_count": null,
   "metadata": {},
   "outputs": [],
   "source": []
  },
  {
   "cell_type": "code",
   "execution_count": 111,
   "metadata": {},
   "outputs": [
    {
     "data": {
      "text/plain": [
       "(1000,)"
      ]
     },
     "execution_count": 111,
     "metadata": {},
     "output_type": "execute_result"
    }
   ],
   "source": [
    "y_train_list[0].shape"
   ]
  },
  {
   "cell_type": "code",
   "execution_count": 89,
   "metadata": {},
   "outputs": [
    {
     "data": {
      "text/plain": [
       "[<matplotlib.lines.Line2D at 0x7f94f8d8ed90>]"
      ]
     },
     "execution_count": 89,
     "metadata": {},
     "output_type": "execute_result"
    },
    {
     "data": {
      "image/png": "[encoded data removed]",
      "text/plain": [
       "<Figure size 432x288 with 1 Axes>"
      ]
     },
     "metadata": {
      "needs_background": "light"
     },
     "output_type": "display_data"
    }
   ],
   "source": [
    "\n",
    "\n",
    "plt.plot(sample_probs)"
   ]
  },
  {
   "cell_type": "code",
   "execution_count": 13,
   "metadata": {},
   "outputs": [],
   "source": [
    "# ?model.historical_forecasts"
   ]
  },
  {
   "cell_type": "code",
   "execution_count": 27,
   "metadata": {},
   "outputs": [
    {
     "data": {
      "text/plain": [
       "[<matplotlib.lines.Line2D at 0x7f9488389190>]"
      ]
     },
     "execution_count": 27,
     "metadata": {},
     "output_type": "execute_result"
    },
    {
     "data": {
      "image/png": "[encoded data removed]",
      "text/plain": [
       "<Figure size 432x288 with 1 Axes>"
      ]
     },
     "metadata": {
      "needs_background": "light"
     },
     "output_type": "display_data"
    }
   ],
   "source": [
    "plt.plot(y_train_backtest)\n",
    "plt.plot(pred_backtest)"
   ]
  },
  {
   "cell_type": "code",
   "execution_count": null,
   "metadata": {},
   "outputs": [],
   "source": []
  },
  {
   "cell_type": "markdown",
   "metadata": {},
   "source": [
    "## Dev code"
   ]
  },
  {
   "cell_type": "code",
   "execution_count": null,
   "metadata": {},
   "outputs": [],
   "source": [
    "##\n",
    "\n",
    "def adversarial_training(model, traj, n_iters, epochs_per_iter, samples_per_iter, null_sample=False):\n",
    "    \"\"\"\n",
    "    model (darts.model): A dynamical system model\n",
    "    traj (np.ndarray): A T x D trajectory of the dynamical system\n",
    "    \"\"\"\n",
    "    sol = equation.make_trajectory(1000, resample=True)\n",
    "    pred_backtest = model.historical_forecasts(y_train_ts, retrain=False, start=(1 + model.input_chunk_length)).values()\n",
    "    for i in range(n_iters):\n",
    "        y_train_backtest = y_train_ts.values()[-len(pred_backtest):]\n",
    "        # plt.plot(smape_indexwise(pred_backtest, y_train_backtest))\n",
    "        mse_back = np.squeeze(np.sqrt((pred_backtest - y_train_backtest)**2))\n",
    "        sample_probs = savgol_filter(mse_back, 21, 3)\n",
    "        sample_probs[sample_probs<0] = 0\n",
    "        sample_probs /= np.sum(sample_probs)\n",
    "\n",
    "        if null_sample:\n",
    "            ic_indices = np.random.choice(np.arange(len(y_train_backtest)), n_ic)\n",
    "        else:\n",
    "            ic_indices = np.random.choice(np.arange(len(y_train_backtest)), n_ic, p=sample_probs, replace=True)\n",
    "\n",
    "        ic_vals = sol[ic_indices] + 1e-3 * (np.random.random(sol[ic_indices].shape) - 0.5)\n",
    "        equation.ic = ic_vals\n",
    "        new_sol = equation.make_trajectory(1000, resample=True)\n",
    "        y_train_list = list(new_sol[..., 0])\n",
    "        y_train_list = [TimeSeries.from_dataframe(pd.DataFrame(item)) for item in y_train_list]\n",
    "        model.fit(y_train_ts, epochs=epoch_count)\n",
    "        pred_backtest = model.historical_forecasts(y_train_ts, retrain=False, start=(1 + model.input_chunk_length)).values()\n",
    "    \n",
    "    return model"
   ]
  },
  {
   "cell_type": "code",
   "execution_count": null,
   "metadata": {},
   "outputs": [],
   "source": []
  }
 ],
 "metadata": {
  "kernelspec": {
   "display_name": "Python 3",
   "language": "python",
   "name": "python3"
  },
  "language_info": {
   "codemirror_mode": {
    "name": "ipython",
    "version": 3
   },
   "file_extension": ".py",
   "mimetype": "text/x-python",
   "name": "python",
   "nbconvert_exporter": "python",
   "pygments_lexer": "ipython3",
   "version": "3.8.10"
  }
 },
 "nbformat": 4,
 "nbformat_minor": 4
}
