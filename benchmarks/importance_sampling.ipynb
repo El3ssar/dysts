{
 "cells": [
  {
   "cell_type": "markdown",
   "metadata": {},
   "source": [
    "This notebook uses the `develop` branch of `darts`, in order to take advantage of model re-training"
   ]
  },
  {
   "cell_type": "code",
   "execution_count": 1,
   "metadata": {},
   "outputs": [],
   "source": [
    "import matplotlib.pyplot as plt\n",
    "\n",
    "%matplotlib inline\n",
    "%load_ext autoreload\n",
    "%autoreload 2"
   ]
  },
  {
   "cell_type": "code",
   "execution_count": 39,
   "metadata": {},
   "outputs": [
    {
     "name": "stdout",
     "output_type": "stream",
     "text": [
      "{'base_score': (1.0021148404579692, 0.05459349593066693), 'importance_score': (0.9089366720137474, 0.054476572822865055), 'random_score': (0.9856664675420069, 0.05477055659363703)}\n",
      "{'base_time': (190.12413676899814, 0.3081875736570946), 'importance_time': (94.60819675200014, 0.1886756860950797), 'random_time': (77.9497153859993, 0.33144641235076255)}\n"
     ]
    }
   ],
   "source": [
    "import json\n",
    "from scipy.stats import sem\n",
    "seme = lambda x : 1.2533 * sem(x) # Standard error of median function\n",
    "import numpy as np\n",
    "\n",
    "\n",
    "\n",
    "with open(\"./results/importance_sampling.json\", 'r') as file:\n",
    "    results = json.load(file)   \n",
    "\n",
    "\n",
    "summary_stats = dict()\n",
    "for field in [\"base_score\", \"importance_score\",  \"random_score\"]:\n",
    "    all_scores = list()\n",
    "    for equation_name in results:\n",
    "        try: # skip delay equations\n",
    "            all_scores.append(results[equation_name][field])\n",
    "        except:\n",
    "            pass\n",
    "            #print(equation_name)\n",
    "            \n",
    "    summary_stats[field] = np.median(all_scores), seme(all_scores)\n",
    "    \n",
    "summary_times = dict()\n",
    "for field in [\"base_time\", \"importance_time\",  \"random_time\"]:\n",
    "    all_times = list()\n",
    "    for equation_name in results:\n",
    "        try: # skip delay equations\n",
    "            all_times.append(results[equation_name][field])\n",
    "        except:\n",
    "            pass\n",
    "            #print(equation_name)\n",
    "            \n",
    "    summary_times[field] = np.median(all_times), seme(all_times)\n",
    "\n",
    "print(summary_stats)\n",
    "print(summary_times)"
   ]
  },
  {
   "cell_type": "code",
   "execution_count": null,
   "metadata": {},
   "outputs": [],
   "source": []
  },
  {
   "cell_type": "code",
   "execution_count": null,
   "metadata": {},
   "outputs": [],
   "source": []
  },
  {
   "cell_type": "code",
   "execution_count": null,
   "metadata": {},
   "outputs": [],
   "source": []
  },
  {
   "cell_type": "code",
   "execution_count": null,
   "metadata": {},
   "outputs": [],
   "source": []
  },
  {
   "cell_type": "code",
   "execution_count": null,
   "metadata": {},
   "outputs": [],
   "source": []
  },
  {
   "cell_type": "code",
   "execution_count": null,
   "metadata": {},
   "outputs": [],
   "source": []
  }
 ],
 "metadata": {
  "kernelspec": {
   "display_name": "Python 3",
   "language": "python",
   "name": "python3"
  },
  "language_info": {
   "codemirror_mode": {
    "name": "ipython",
    "version": 3
   },
   "file_extension": ".py",
   "mimetype": "text/x-python",
   "name": "python",
   "nbconvert_exporter": "python",
   "pygments_lexer": "ipython3",
   "version": "3.8.10"
  }
 },
 "nbformat": 4,
 "nbformat_minor": 4
}
