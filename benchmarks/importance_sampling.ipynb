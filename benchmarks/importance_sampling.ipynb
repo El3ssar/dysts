{
 "cells": [
  {
   "cell_type": "code",
   "execution_count": 3,
   "metadata": {},
   "outputs": [],
   "source": [
    "import matplotlib.pyplot as plt\n",
    "import pandas as pd\n",
    "\n",
    "%matplotlib inline\n",
    "%load_ext autoreload\n",
    "%autoreload 2"
   ]
  },
  {
   "cell_type": "code",
   "execution_count": 30,
   "metadata": {},
   "outputs": [],
   "source": [
    "import json\n",
    "\n",
    "from scipy.stats import sem\n",
    "\n",
    "seme = lambda x: 1.2533 * sem(x)  # Standard error of median function\n",
    "import numpy as np\n",
    "\n",
    "with open(\"./results/importance_sampling.json\", \"r\") as file:\n",
    "    results = json.load(file)"
   ]
  },
  {
   "cell_type": "code",
   "execution_count": 32,
   "metadata": {},
   "outputs": [
    {
     "name": "stdout",
     "output_type": "stream",
     "text": [
      "base_score          1.002115\n",
      "importance_score    0.908937\n",
      "random_score        0.985666\n",
      "dtype: float64\n",
      "base_score          0.054580\n",
      "importance_score    0.054464\n",
      "random_score        0.054757\n",
      "dtype: float64 \n",
      "\n",
      "base_time          190.124137\n",
      "importance_time     94.608197\n",
      "random_time         77.949715\n",
      "dtype: float64\n",
      "base_time          0.308114\n",
      "importance_time    0.188631\n",
      "random_time        0.331367\n",
      "dtype: float64\n"
     ]
    }
   ],
   "source": [
    "model_names = [\"base_score\", \"importance_score\", \"random_score\"]\n",
    "data = dict()\n",
    "for item in results:\n",
    "    data[item] = dict()\n",
    "    try:\n",
    "        for model_name in model_names:\n",
    "            data[item][model_name] = results[item][model_name]\n",
    "    except:\n",
    "        pass\n",
    "data = pd.DataFrame(data).transpose()\n",
    "\n",
    "print(data.median())\n",
    "print(1.253 * data.sem(), \"\\n\")  # standard error of the median\n",
    "\n",
    "\n",
    "model_names = [\"base_time\", \"importance_time\", \"random_time\"]\n",
    "data = dict()\n",
    "for item in results:\n",
    "    data[item] = dict()\n",
    "    try:\n",
    "        for model_name in model_names:\n",
    "            data[item][model_name] = results[item][model_name]\n",
    "    except:\n",
    "        pass\n",
    "data = pd.DataFrame(data).transpose()\n",
    "\n",
    "print(data.median())\n",
    "print(1.253 * data.sem())  # standard error of the median"
   ]
  },
  {
   "cell_type": "code",
   "execution_count": 26,
   "metadata": {},
   "outputs": [
    {
     "data": {
      "image/png": "[encoded data removed]",
      "text/plain": [
       "<Figure size 432x288 with 1 Axes>"
      ]
     },
     "metadata": {
      "needs_background": "light"
     },
     "output_type": "display_data"
    }
   ],
   "source": [
    "import seaborn as sns\n",
    "\n",
    "data_long = pd.melt(data, value_vars=model_names)\n",
    "ax = sns.violinplot(\n",
    "    data=data_long,\n",
    "    x=\"variable\",\n",
    "    y=\"value\",\n",
    "    linewidth=0,\n",
    "    size=3,\n",
    "    alpha=0.1,\n",
    "    split=True,\n",
    "    width=1,\n",
    "    order=model_names,\n",
    "    scale=\"area\",\n",
    "    inner=None,\n",
    "    color=[71 / 255.0, 78 / 255.0, 123 / 255.0],\n",
    ")\n",
    "\n",
    "ax = sns.pointplot(\n",
    "    data=data_long,\n",
    "    x=\"variable\",\n",
    "    y=\"value\",\n",
    "    order=model_names,\n",
    "    linewidth=0,\n",
    "    size=0.1,\n",
    "    scale=0.5,\n",
    "    palette={\"w\"},\n",
    "    join=False,\n",
    "    ci=99,\n",
    ")"
   ]
  },
  {
   "cell_type": "code",
   "execution_count": 18,
   "metadata": {},
   "outputs": [
    {
     "data": {
      "text/plain": [
       "{}"
      ]
     },
     "execution_count": 18,
     "metadata": {},
     "output_type": "execute_result"
    }
   ],
   "source": [
    "results[item]"
   ]
  },
  {
   "cell_type": "code",
   "execution_count": 5,
   "metadata": {},
   "outputs": [
    {
     "data": {
      "text/plain": [
       "{'base_score': (1.0021148404579692, 0.05459349593066693),\n",
       " 'importance_score': (0.9089366720137474, 0.054476572822865055),\n",
       " 'random_score': (0.9856664675420069, 0.05477055659363703)}"
      ]
     },
     "execution_count": 5,
     "metadata": {},
     "output_type": "execute_result"
    }
   ],
   "source": [
    "summary_stats"
   ]
  },
  {
   "cell_type": "code",
   "execution_count": null,
   "metadata": {},
   "outputs": [],
   "source": []
  },
  {
   "cell_type": "code",
   "execution_count": null,
   "metadata": {},
   "outputs": [],
   "source": []
  },
  {
   "cell_type": "code",
   "execution_count": null,
   "metadata": {},
   "outputs": [],
   "source": []
  },
  {
   "cell_type": "code",
   "execution_count": null,
   "metadata": {},
   "outputs": [],
   "source": []
  },
  {
   "cell_type": "code",
   "execution_count": null,
   "metadata": {},
   "outputs": [],
   "source": []
  }
 ],
 "metadata": {
  "kernelspec": {
   "display_name": "Python 3",
   "language": "python",
   "name": "python3"
  },
  "language_info": {
   "codemirror_mode": {
    "name": "ipython",
    "version": 3
   },
   "file_extension": ".py",
   "mimetype": "text/x-python",
   "name": "python",
   "nbconvert_exporter": "python",
   "pygments_lexer": "ipython3",
   "version": "3.8.10"
  }
 },
 "nbformat": 4,
 "nbformat_minor": 4
}
