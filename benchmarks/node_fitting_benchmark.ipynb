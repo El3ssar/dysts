{
 "cells": [
  {
   "cell_type": "code",
   "execution_count": 1,
   "metadata": {},
   "outputs": [],
   "source": [
    "import sys\n",
    "\n",
    "import matplotlib.pyplot as plt\n",
    "import json\n",
    "\n",
    "import numpy as np\n",
    "\n",
    "# import dysts\n",
    "# from dysts.flows import *\n",
    "# from dysts.base import *\n",
    "# from dysts.utils import *\n",
    "# from dysts.analysis import *\n",
    "\n",
    "# try:\n",
    "#     from private.lyap import lyap_r, lyap_e, corr_dim\n",
    "# except:\n",
    "#     from nolds import lyap_r, lyap_e, corr_dim\n",
    "\n",
    "\n",
    "%load_ext autoreload\n",
    "%autoreload 2"
   ]
  },
  {
   "cell_type": "markdown",
   "metadata": {},
   "source": [
    "## Symbolic regression\n",
    "\n",
    "Available benchmarks\n",
    "\n",
    "+ Eureqa Python API (could not get this to work)\n",
    "+ PySR\n",
    "+ pySINDY\n",
    "+ AI Feynman 2.0"
   ]
  },
  {
   "cell_type": "code",
   "execution_count": 18,
   "metadata": {},
   "outputs": [
    {
     "data": {
      "text/plain": [
       "[<matplotlib.lines.Line2D at 0x7ff3994bc430>]"
      ]
     },
     "execution_count": 18,
     "metadata": {},
     "output_type": "execute_result"
    },
    {
     "data": {
      "image/png": "[encoded data removed]",
      "text/plain": [
       "<Figure size 432x288 with 1 Axes>"
      ]
     },
     "metadata": {
      "needs_background": "light"
     },
     "output_type": "display_data"
    }
   ],
   "source": [
    "from dysts.flows import Lorenz\n",
    "from dysts.analysis import sample_initial_conditions\n",
    "\n",
    "n_train = 150\n",
    "model = Lorenz()\n",
    "\n",
    "ic_train, ic_test = sample_initial_conditions(model, 2, traj_length=1000, pts_per_period=30)\n",
    "\n",
    "model.ic = ic_train\n",
    "tvals, sol = model.make_trajectory(n_train, pts_per_period=15, resample=True, return_times=True, standardize=False)\n",
    "dt = np.median(np.diff(tvals))\n",
    "dsol = np.vstack(model.rhs(sol, 0)).T * dt\n",
    "y_train = dsol[:, 0]\n",
    "X_train = sol\n",
    "\n",
    "model.ic = ic_test\n",
    "tvals, sol = model.make_trajectory(n_train, pts_per_period=15, resample=True, return_times=True, standardize=False)\n",
    "dt = np.median(np.diff(tvals))\n",
    "dsol = np.vstack(model.rhs(sol, 0)).T * dt\n",
    "y_test = dsol[:, 0]\n",
    "X_test = sol\n",
    "\n",
    "ndim = X_train.shape[-1]\n",
    "\n",
    "plt.plot(X_train[:, 0], X_train[:, 2], '.b')\n",
    "plt.plot(X_test[:, 0], X_test[:, 2], '.r')"
   ]
  },
  {
   "cell_type": "code",
   "execution_count": 100,
   "metadata": {},
   "outputs": [
    {
     "name": "stdout",
     "output_type": "stream",
     "text": [
      "Aizawa\n",
      "Entry for Aizawa found, skipping it.\n",
      "AnishchenkoAstakhov\n",
      "Entry for AnishchenkoAstakhov found, skipping it.\n",
      "Arneodo\n",
      "Entry for Arneodo found, skipping it.\n",
      "ArnoldBeltramiChildress\n",
      "Entry for ArnoldBeltramiChildress found, skipping it.\n",
      "ArnoldWeb\n",
      "Entry for ArnoldWeb found, skipping it.\n",
      "BeerRNN\n",
      "Entry for BeerRNN found, skipping it.\n",
      "BelousovZhabotinsky\n",
      "Entry for BelousovZhabotinsky found, skipping it.\n",
      "BickleyJet\n",
      "Entry for BickleyJet found, skipping it.\n",
      "Blasius\n",
      "Entry for Blasius found, skipping it.\n",
      "BlinkingRotlet\n",
      "Entry for BlinkingRotlet found, skipping it.\n",
      "BlinkingVortex\n",
      "Entry for BlinkingVortex found, skipping it.\n",
      "Bouali\n",
      "Entry for Bouali found, skipping it.\n",
      "Bouali2\n",
      "Entry for Bouali2 found, skipping it.\n",
      "BurkeShaw\n",
      "Entry for BurkeShaw found, skipping it.\n",
      "CaTwoPlus\n",
      "Entry for CaTwoPlus found, skipping it.\n",
      "CaTwoPlusQuasiperiodic\n",
      "Entry for CaTwoPlusQuasiperiodic found, skipping it.\n",
      "CellCycle\n",
      "Entry for CellCycle found, skipping it.\n",
      "CellularNeuralNetwork\n",
      "Entry for CellularNeuralNetwork found, skipping it.\n",
      "Chen\n",
      "Entry for Chen found, skipping it.\n",
      "ChenLee\n",
      "Entry for ChenLee found, skipping it.\n",
      "Chua\n",
      "Entry for Chua found, skipping it.\n",
      "CircadianRhythm\n",
      "Entry for CircadianRhythm found, skipping it.\n",
      "CoevolvingPredatorPrey\n",
      "Entry for CoevolvingPredatorPrey found, skipping it.\n",
      "Colpitts\n",
      "Entry for Colpitts found, skipping it.\n",
      "Coullet\n",
      "Entry for Coullet found, skipping it.\n",
      "Dadras\n",
      "Entry for Dadras found, skipping it.\n",
      "DequanLi\n",
      "Entry for DequanLi found, skipping it.\n",
      "DoubleGyre\n",
      "Entry for DoubleGyre found, skipping it.\n",
      "DoublePendulum\n",
      "Entry for DoublePendulum found, skipping it.\n",
      "Duffing\n",
      "Entry for Duffing found, skipping it.\n",
      "ExcitableCell\n",
      "Entry for ExcitableCell found, skipping it.\n",
      "Finance\n",
      "Entry for Finance found, skipping it.\n",
      "FluidTrampoline\n",
      "Entry for FluidTrampoline found, skipping it.\n",
      "ForcedBrusselator\n",
      "Entry for ForcedBrusselator found, skipping it.\n",
      "ForcedFitzHughNagumo\n",
      "Entry for ForcedFitzHughNagumo found, skipping it.\n",
      "ForcedVanDerPol\n",
      "Entry for ForcedVanDerPol found, skipping it.\n",
      "GenesioTesi\n",
      "Entry for GenesioTesi found, skipping it.\n",
      "GuckenheimerHolmes\n",
      "Entry for GuckenheimerHolmes found, skipping it.\n",
      "Hadley\n",
      "Entry for Hadley found, skipping it.\n",
      "Halvorsen\n",
      "Entry for Halvorsen found, skipping it.\n",
      "HastingsPowell\n",
      "Entry for HastingsPowell found, skipping it.\n",
      "HenonHeiles\n",
      "Entry for HenonHeiles found, skipping it.\n",
      "HindmarshRose\n",
      "Entry for HindmarshRose found, skipping it.\n",
      "Hopfield\n",
      "Entry for Hopfield found, skipping it.\n",
      "HyperBao\n",
      "Entry for HyperBao found, skipping it.\n",
      "HyperCai\n",
      "Entry for HyperCai found, skipping it.\n",
      "HyperJha\n",
      "Entry for HyperJha found, skipping it.\n",
      "HyperLorenz\n",
      "Entry for HyperLorenz found, skipping it.\n",
      "HyperLu\n",
      "Entry for HyperLu found, skipping it.\n",
      "HyperPang\n",
      "Entry for HyperPang found, skipping it.\n",
      "HyperQi\n",
      "Entry for HyperQi found, skipping it.\n",
      "HyperRossler\n",
      "Entry for HyperRossler found, skipping it.\n",
      "HyperWang\n",
      "Entry for HyperWang found, skipping it.\n",
      "HyperXu\n",
      "Entry for HyperXu found, skipping it.\n",
      "HyperYan\n",
      "Entry for HyperYan found, skipping it.\n",
      "HyperYangChen\n",
      "Entry for HyperYangChen found, skipping it.\n",
      "IkedaDelay\n",
      "Entry for IkedaDelay found, skipping it.\n",
      "IsothermalChemical\n",
      "Entry for IsothermalChemical found, skipping it.\n",
      "ItikBanksTumor\n",
      "Entry for ItikBanksTumor found, skipping it.\n",
      "JerkCircuit\n",
      "Entry for JerkCircuit found, skipping it.\n",
      "KawczynskiStrizhak\n",
      "Entry for KawczynskiStrizhak found, skipping it.\n",
      "Laser\n",
      "LiuChen\n"
     ]
    },
    {
     "name": "stderr",
     "output_type": "stream",
     "text": [
      "/Users/williamgilpin/miniconda3/envs/symb/lib/python3.8/site-packages/dysts/base.py:152: UserWarning: Expect slowdown due to excessive integration required; scale factor 1801.8431108114187\n",
      "  if upscale_factor > 1e3: warnings.warn(f\"Expect slowdown due to excessive integration required; scale factor {upscale_factor}\")\n",
      "/Users/williamgilpin/miniconda3/envs/symb/lib/python3.8/site-packages/dysts/base.py:152: UserWarning: Expect slowdown due to excessive integration required; scale factor 3603.686221622837\n",
      "  if upscale_factor > 1e3: warnings.warn(f\"Expect slowdown due to excessive integration required; scale factor {upscale_factor}\")\n",
      "/Users/williamgilpin/miniconda3/envs/symb/lib/python3.8/site-packages/dysts/base.py:152: UserWarning: Expect slowdown due to excessive integration required; scale factor 3603.686221622837\n",
      "  if upscale_factor > 1e3: warnings.warn(f\"Expect slowdown due to excessive integration required; scale factor {upscale_factor}\")\n",
      "/Users/williamgilpin/miniconda3/envs/symb/lib/python3.8/site-packages/pysindy/optimizers/stlsq.py:173: UserWarning: Sparsity parameter is too big (0.1) and eliminated all coefficients\n",
      "  warnings.warn(\n",
      "/Users/williamgilpin/miniconda3/envs/symb/lib/python3.8/site-packages/pysindy/optimizers/stlsq.py:173: UserWarning: Sparsity parameter is too big (0.1) and eliminated all coefficients\n",
      "  warnings.warn(\n",
      "/Users/williamgilpin/miniconda3/envs/symb/lib/python3.8/site-packages/pysindy/optimizers/stlsq.py:173: UserWarning: Sparsity parameter is too big (0.1) and eliminated all coefficients\n",
      "  warnings.warn(\n"
     ]
    },
    {
     "name": "stdout",
     "output_type": "stream",
     "text": [
      "Lorenz\n",
      "Lorenz84\n"
     ]
    },
    {
     "name": "stderr",
     "output_type": "stream",
     "text": [
      "/Users/williamgilpin/miniconda3/envs/symb/lib/python3.8/site-packages/dysts/base.py:152: UserWarning: Expect slowdown due to excessive integration required; scale factor 1149.4214876033059\n",
      "  if upscale_factor > 1e3: warnings.warn(f\"Expect slowdown due to excessive integration required; scale factor {upscale_factor}\")\n",
      "/Users/williamgilpin/miniconda3/envs/symb/lib/python3.8/site-packages/dysts/base.py:152: UserWarning: Expect slowdown due to excessive integration required; scale factor 1149.4214876033059\n",
      "  if upscale_factor > 1e3: warnings.warn(f\"Expect slowdown due to excessive integration required; scale factor {upscale_factor}\")\n"
     ]
    },
    {
     "name": "stdout",
     "output_type": "stream",
     "text": [
      "Lorenz96\n"
     ]
    },
    {
     "name": "stderr",
     "output_type": "stream",
     "text": [
      "/Users/williamgilpin/miniconda3/envs/symb/lib/python3.8/site-packages/dysts/base.py:152: UserWarning: Expect slowdown due to excessive integration required; scale factor 1025.6302521008402\n",
      "  if upscale_factor > 1e3: warnings.warn(f\"Expect slowdown due to excessive integration required; scale factor {upscale_factor}\")\n"
     ]
    },
    {
     "name": "stdout",
     "output_type": "stream",
     "text": [
      "LorenzBounded\n",
      "LorenzCoupled\n",
      "LorenzStenflo\n",
      "LuChen\n"
     ]
    },
    {
     "name": "stderr",
     "output_type": "stream",
     "text": [
      "/Users/williamgilpin/miniconda3/envs/symb/lib/python3.8/site-packages/dysts/base.py:152: UserWarning: Expect slowdown due to excessive integration required; scale factor 1282.0723684210525\n",
      "  if upscale_factor > 1e3: warnings.warn(f\"Expect slowdown due to excessive integration required; scale factor {upscale_factor}\")\n",
      "/Users/williamgilpin/miniconda3/envs/symb/lib/python3.8/site-packages/dysts/base.py:152: UserWarning: Expect slowdown due to excessive integration required; scale factor 1282.0723684210525\n",
      "  if upscale_factor > 1e3: warnings.warn(f\"Expect slowdown due to excessive integration required; scale factor {upscale_factor}\")\n"
     ]
    },
    {
     "name": "stdout",
     "output_type": "stream",
     "text": [
      "LuChenCheng\n",
      "MacArthur\n"
     ]
    },
    {
     "name": "stderr",
     "output_type": "stream",
     "text": [
      "/Users/williamgilpin/miniconda3/envs/symb/lib/python3.8/site-packages/pysindy/optimizers/stlsq.py:173: UserWarning: Sparsity parameter is too big (0.1) and eliminated all coefficients\n",
      "  warnings.warn(\n",
      "/Users/williamgilpin/miniconda3/envs/symb/lib/python3.8/site-packages/pysindy/optimizers/stlsq.py:173: UserWarning: Sparsity parameter is too big (0.1) and eliminated all coefficients\n",
      "  warnings.warn(\n",
      "/Users/williamgilpin/miniconda3/envs/symb/lib/python3.8/site-packages/pysindy/optimizers/stlsq.py:173: UserWarning: Sparsity parameter is too big (0.1) and eliminated all coefficients\n",
      "  warnings.warn(\n",
      "/Users/williamgilpin/miniconda3/envs/symb/lib/python3.8/site-packages/pysindy/optimizers/stlsq.py:173: UserWarning: Sparsity parameter is too big (0.1) and eliminated all coefficients\n",
      "  warnings.warn(\n",
      "/Users/williamgilpin/miniconda3/envs/symb/lib/python3.8/site-packages/pysindy/optimizers/stlsq.py:173: UserWarning: Sparsity parameter is too big (0.1) and eliminated all coefficients\n",
      "  warnings.warn(\n"
     ]
    },
    {
     "name": "stdout",
     "output_type": "stream",
     "text": [
      "MackeyGlass\n",
      "MooreSpiegel\n",
      "MultiChua\n",
      "NewtonLiepnik\n",
      "NoseHoover\n",
      "NuclearQuadrupole\n",
      "OscillatingFlow\n"
     ]
    },
    {
     "name": "stderr",
     "output_type": "stream",
     "text": [
      "/Users/williamgilpin/miniconda3/envs/symb/lib/python3.8/site-packages/dysts/base.py:166: UserWarning: This system has at least one unbounded variable, which has been mapped to a bounded domain. Pass argument postprocess=False in order to generate trajectories from the raw system.\n",
      "  warnings.warn(\"This system has at least one unbounded variable, which has been mapped to a bounded domain. Pass argument postprocess=False in order to generate trajectories from the raw system.\")\n",
      "/Users/williamgilpin/miniconda3/envs/symb/lib/python3.8/site-packages/dysts/base.py:166: UserWarning: This system has at least one unbounded variable, which has been mapped to a bounded domain. Pass argument postprocess=False in order to generate trajectories from the raw system.\n",
      "  warnings.warn(\"This system has at least one unbounded variable, which has been mapped to a bounded domain. Pass argument postprocess=False in order to generate trajectories from the raw system.\")\n",
      "/Users/williamgilpin/miniconda3/envs/symb/lib/python3.8/site-packages/pysindy/optimizers/stlsq.py:173: UserWarning: Sparsity parameter is too big (0.1) and eliminated all coefficients\n",
      "  warnings.warn(\n"
     ]
    },
    {
     "name": "stdout",
     "output_type": "stream",
     "text": [
      "PanXuZhou\n",
      "PehlivanWei\n",
      "PiecewiseCircuit\n",
      "Qi\n",
      "QiChen\n",
      "RabinovichFabrikant\n",
      "RayleighBenard\n",
      "RikitakeDynamo\n",
      "Rossler\n",
      "Rucklidge\n",
      "Sakarya\n",
      "SaltonSea\n",
      "SanUmSrisuchinwong\n",
      "ScrollDelay\n",
      "ShimizuMorioka\n",
      "SprottA\n",
      "SprottB\n",
      "SprottC\n",
      "SprottD\n",
      "SprottDelay\n",
      "SprottE\n",
      "SprottF\n",
      "SprottG\n",
      "SprottH\n",
      "SprottI\n",
      "SprottJ\n",
      "SprottJerk\n",
      "SprottK\n",
      "SprottL\n",
      "SprottM\n",
      "SprottMore\n",
      "SprottN\n",
      "SprottO\n",
      "SprottP\n",
      "SprottQ\n",
      "SprottR\n",
      "SprottS\n",
      "SprottTorus\n"
     ]
    },
    {
     "name": "stderr",
     "output_type": "stream",
     "text": [
      "/Users/williamgilpin/miniconda3/envs/symb/lib/python3.8/site-packages/dysts/base.py:152: UserWarning: Expect slowdown due to excessive integration required; scale factor 1449.3263034563563\n",
      "  if upscale_factor > 1e3: warnings.warn(f\"Expect slowdown due to excessive integration required; scale factor {upscale_factor}\")\n",
      "/Users/williamgilpin/miniconda3/envs/symb/lib/python3.8/site-packages/dysts/base.py:152: UserWarning: Expect slowdown due to excessive integration required; scale factor 1449.3263034563563\n",
      "  if upscale_factor > 1e3: warnings.warn(f\"Expect slowdown due to excessive integration required; scale factor {upscale_factor}\")\n"
     ]
    },
    {
     "name": "stdout",
     "output_type": "stream",
     "text": [
      "StickSlipOscillator\n"
     ]
    },
    {
     "name": "stderr",
     "output_type": "stream",
     "text": [
      "/Users/williamgilpin/miniconda3/envs/symb/lib/python3.8/site-packages/dysts/base.py:152: UserWarning: Expect slowdown due to excessive integration required; scale factor 1075.2666666666667\n",
      "  if upscale_factor > 1e3: warnings.warn(f\"Expect slowdown due to excessive integration required; scale factor {upscale_factor}\")\n",
      "/Users/williamgilpin/miniconda3/envs/symb/lib/python3.8/site-packages/dysts/base.py:166: UserWarning: This system has at least one unbounded variable, which has been mapped to a bounded domain. Pass argument postprocess=False in order to generate trajectories from the raw system.\n",
      "  warnings.warn(\"This system has at least one unbounded variable, which has been mapped to a bounded domain. Pass argument postprocess=False in order to generate trajectories from the raw system.\")\n",
      "/Users/williamgilpin/miniconda3/envs/symb/lib/python3.8/site-packages/dysts/base.py:152: UserWarning: Expect slowdown due to excessive integration required; scale factor 1075.2666666666667\n",
      "  if upscale_factor > 1e3: warnings.warn(f\"Expect slowdown due to excessive integration required; scale factor {upscale_factor}\")\n",
      "/Users/williamgilpin/miniconda3/envs/symb/lib/python3.8/site-packages/dysts/base.py:166: UserWarning: This system has at least one unbounded variable, which has been mapped to a bounded domain. Pass argument postprocess=False in order to generate trajectories from the raw system.\n",
      "  warnings.warn(\"This system has at least one unbounded variable, which has been mapped to a bounded domain. Pass argument postprocess=False in order to generate trajectories from the raw system.\")\n"
     ]
    },
    {
     "name": "stdout",
     "output_type": "stream",
     "text": [
      "SwingingAtwood\n"
     ]
    },
    {
     "name": "stderr",
     "output_type": "stream",
     "text": [
      "/Users/williamgilpin/miniconda3/envs/symb/lib/python3.8/site-packages/dysts/base.py:166: UserWarning: This system has at least one unbounded variable, which has been mapped to a bounded domain. Pass argument postprocess=False in order to generate trajectories from the raw system.\n",
      "  warnings.warn(\"This system has at least one unbounded variable, which has been mapped to a bounded domain. Pass argument postprocess=False in order to generate trajectories from the raw system.\")\n",
      "/Users/williamgilpin/miniconda3/envs/symb/lib/python3.8/site-packages/dysts/base.py:166: UserWarning: This system has at least one unbounded variable, which has been mapped to a bounded domain. Pass argument postprocess=False in order to generate trajectories from the raw system.\n",
      "  warnings.warn(\"This system has at least one unbounded variable, which has been mapped to a bounded domain. Pass argument postprocess=False in order to generate trajectories from the raw system.\")\n"
     ]
    },
    {
     "name": "stdout",
     "output_type": "stream",
     "text": [
      "Thomas\n"
     ]
    },
    {
     "name": "stderr",
     "output_type": "stream",
     "text": [
      "/Users/williamgilpin/miniconda3/envs/symb/lib/python3.8/site-packages/dysts/base.py:152: UserWarning: Expect slowdown due to excessive integration required; scale factor 1149.4332639370807\n",
      "  if upscale_factor > 1e3: warnings.warn(f\"Expect slowdown due to excessive integration required; scale factor {upscale_factor}\")\n",
      "/Users/williamgilpin/miniconda3/envs/symb/lib/python3.8/site-packages/dysts/base.py:152: UserWarning: Expect slowdown due to excessive integration required; scale factor 1149.4332639370807\n",
      "  if upscale_factor > 1e3: warnings.warn(f\"Expect slowdown due to excessive integration required; scale factor {upscale_factor}\")\n"
     ]
    },
    {
     "name": "stdout",
     "output_type": "stream",
     "text": [
      "ThomasLabyrinth\n"
     ]
    },
    {
     "name": "stderr",
     "output_type": "stream",
     "text": [
      "/Users/williamgilpin/miniconda3/envs/symb/lib/python3.8/site-packages/dysts/base.py:152: UserWarning: Expect slowdown due to excessive integration required; scale factor 1149.4252873563216\n",
      "  if upscale_factor > 1e3: warnings.warn(f\"Expect slowdown due to excessive integration required; scale factor {upscale_factor}\")\n"
     ]
    },
    {
     "name": "stdout",
     "output_type": "stream",
     "text": [
      "Torus\n"
     ]
    },
    {
     "name": "stderr",
     "output_type": "stream",
     "text": [
      "/Users/williamgilpin/miniconda3/envs/symb/lib/python3.8/site-packages/dysts/base.py:152: UserWarning: Expect slowdown due to excessive integration required; scale factor 1111.111111111111\n",
      "  if upscale_factor > 1e3: warnings.warn(f\"Expect slowdown due to excessive integration required; scale factor {upscale_factor}\")\n",
      "/Users/williamgilpin/miniconda3/envs/symb/lib/python3.8/site-packages/dysts/base.py:152: UserWarning: Expect slowdown due to excessive integration required; scale factor 1111.111111111111\n",
      "  if upscale_factor > 1e3: warnings.warn(f\"Expect slowdown due to excessive integration required; scale factor {upscale_factor}\")\n"
     ]
    },
    {
     "name": "stdout",
     "output_type": "stream",
     "text": [
      "Tsucs2\n",
      "TurchinHanski\n"
     ]
    },
    {
     "name": "stderr",
     "output_type": "stream",
     "text": [
      "/Users/williamgilpin/miniconda3/envs/symb/lib/python3.8/site-packages/dysts/base.py:166: UserWarning: This system has at least one unbounded variable, which has been mapped to a bounded domain. Pass argument postprocess=False in order to generate trajectories from the raw system.\n",
      "  warnings.warn(\"This system has at least one unbounded variable, which has been mapped to a bounded domain. Pass argument postprocess=False in order to generate trajectories from the raw system.\")\n",
      "/Users/williamgilpin/miniconda3/envs/symb/lib/python3.8/site-packages/dysts/base.py:166: UserWarning: This system has at least one unbounded variable, which has been mapped to a bounded domain. Pass argument postprocess=False in order to generate trajectories from the raw system.\n",
      "  warnings.warn(\"This system has at least one unbounded variable, which has been mapped to a bounded domain. Pass argument postprocess=False in order to generate trajectories from the raw system.\")\n"
     ]
    },
    {
     "name": "stdout",
     "output_type": "stream",
     "text": [
      "VallisElNino\n",
      "VossDelay\n",
      "WangSun\n"
     ]
    },
    {
     "name": "stderr",
     "output_type": "stream",
     "text": [
      "/Users/williamgilpin/miniconda3/envs/symb/lib/python3.8/site-packages/dysts/base.py:152: UserWarning: Expect slowdown due to excessive integration required; scale factor 1388.8717156105101\n",
      "  if upscale_factor > 1e3: warnings.warn(f\"Expect slowdown due to excessive integration required; scale factor {upscale_factor}\")\n",
      "/Users/williamgilpin/miniconda3/envs/symb/lib/python3.8/site-packages/dysts/base.py:152: UserWarning: Expect slowdown due to excessive integration required; scale factor 1388.8717156105101\n",
      "  if upscale_factor > 1e3: warnings.warn(f\"Expect slowdown due to excessive integration required; scale factor {upscale_factor}\")\n"
     ]
    },
    {
     "name": "stdout",
     "output_type": "stream",
     "text": [
      "WindmiReduced\n"
     ]
    },
    {
     "name": "stderr",
     "output_type": "stream",
     "text": [
      "/Users/williamgilpin/miniconda3/envs/symb/lib/python3.8/site-packages/pysindy/optimizers/stlsq.py:173: UserWarning: Sparsity parameter is too big (0.1) and eliminated all coefficients\n",
      "  warnings.warn(\n"
     ]
    },
    {
     "name": "stdout",
     "output_type": "stream",
     "text": [
      "YuWang\n",
      "YuWang2\n",
      "ZhouChen\n"
     ]
    },
    {
     "name": "stderr",
     "output_type": "stream",
     "text": [
      "/Users/williamgilpin/miniconda3/envs/symb/lib/python3.8/site-packages/dysts/base.py:152: UserWarning: Expect slowdown due to excessive integration required; scale factor 1190.478133714208\n",
      "  if upscale_factor > 1e3: warnings.warn(f\"Expect slowdown due to excessive integration required; scale factor {upscale_factor}\")\n",
      "/Users/williamgilpin/miniconda3/envs/symb/lib/python3.8/site-packages/dysts/base.py:152: UserWarning: Expect slowdown due to excessive integration required; scale factor 1190.478133714208\n",
      "  if upscale_factor > 1e3: warnings.warn(f\"Expect slowdown due to excessive integration required; scale factor {upscale_factor}\")\n"
     ]
    }
   ],
   "source": [
    "import dysts\n",
    "from dysts.flows import *\n",
    "from dysts.base import *\n",
    "from dysts.utils import *\n",
    "from dysts.analysis import *\n",
    "import json \n",
    "\n",
    "# cwd = os.path.dirname(os.path.realpath(__file__))\n",
    "cwd = \".\"\n",
    "# dataname = os.path.splitext(os.path.basename(os.path.split(input_path)[-1]))[0]\n",
    "output_path = cwd + \"/results/symbolic_scores.json\"\n",
    "\n",
    "\n",
    "\n",
    "# actual, predicted order\n",
    "metric_calc = lambda x0, x1 :  smape(TimeSeries.from_dataframe(pd.DataFrame(x0)), TimeSeries.from_dataframe(pd.DataFrame(x1)))\n",
    "\n",
    "\n",
    "\n",
    "try:\n",
    "    with open(output_path, \"r\") as file:\n",
    "        sym_scores = json.load(file)\n",
    "except FileNotFoundError:\n",
    "    sym_scores = dict()\n",
    "\n",
    "for i, equation_name in enumerate(get_attractor_list()):\n",
    "# for i, equation_name in enumerate([\"Lorenz\"]):\n",
    "    print(equation_name)\n",
    "    \n",
    "    if equation_name in sym_scores.keys():\n",
    "        print(f\"Entry for {equation_name} found, skipping it.\")\n",
    "        continue\n",
    "    \n",
    "    \n",
    "    \n",
    "    model = getattr(dysts.flows, equation_name)()\n",
    "    sym_scores[equation_name] = dict()\n",
    "    \n",
    "    ic_train, ic_test = sample_initial_conditions(model, 2, traj_length=1000, pts_per_period=30)\n",
    "\n",
    "    model.ic = ic_train\n",
    "    tvals, sol = model.make_trajectory(n_train, pts_per_period=15, resample=True, return_times=True, standardize=False)\n",
    "    dt = np.median(np.diff(tvals))\n",
    "    dsol = np.vstack([model.rhs(val, 0) for val in sol])# * dt\n",
    "    y_train = dsol[:, 0]\n",
    "    X_train = sol\n",
    "\n",
    "    model.ic = ic_test\n",
    "    tvals, sol = model.make_trajectory(n_train, pts_per_period=15, resample=True, return_times=True, standardize=False)\n",
    "    dt = np.median(np.diff(tvals))\n",
    "    dsol = np.vstack([model.rhs(val, 0) for val in sol])# * dt\n",
    "    y_test = dsol[:, 0]\n",
    "    X_test = sol\n",
    "\n",
    "    ndim = X_train.shape[-1]\n",
    "    \n",
    "    \n",
    "    ## SINDY\n",
    "    import pysindy as ps\n",
    "    sym_model = ps.SINDy()\n",
    "    sym_model.fit(X_train, t=tvals)\n",
    "    y_test_pred = sym_model.predict(X_test)[:, 0]\n",
    "    sym_scores[equation_name][\"SINDY\"] = metric_calc(y_test, y_test_pred)\n",
    "    \n",
    "#     break\n",
    "    \n",
    "    with open(output_path, 'w') as f:\n",
    "        json.dump(sym_scores, f, indent=4)   \n",
    "    "
   ]
  },
  {
   "cell_type": "code",
   "execution_count": 101,
   "metadata": {},
   "outputs": [
    {
     "data": {
      "text/plain": [
       "(array([44., 29., 11.,  9.,  8.,  3.,  6.,  2.,  3., 16.]),\n",
       " array([  0.36809715,  20.33128744,  40.29447772,  60.25766801,\n",
       "         80.22085829, 100.18404858, 120.14723886, 140.11042915,\n",
       "        160.07361943, 180.03680972, 200.        ]),\n",
       " <BarContainer object of 10 artists>)"
      ]
     },
     "execution_count": 101,
     "metadata": {},
     "output_type": "execute_result"
    },
    {
     "data": {
      "image/png": "[encoded data removed]",
      "text/plain": [
       "<Figure size 432x288 with 1 Axes>"
      ]
     },
     "metadata": {
      "needs_background": "light"
     },
     "output_type": "display_data"
    }
   ],
   "source": [
    "plt.hist([sym_scores[item][\"SINDY\"] for item in sym_scores])"
   ]
  },
  {
   "cell_type": "code",
   "execution_count": 5,
   "metadata": {},
   "outputs": [
    {
     "name": "stdout",
     "output_type": "stream",
     "text": [
      "-1.0072484*x0 + 1.0072483*x1\n"
     ]
    }
   ],
   "source": [
    "import darts\n",
    "from darts import TimeSeries\n",
    "from darts.metrics import smape\n",
    "from pysr import pysr, best\n",
    "import pandas as pd\n",
    "\n",
    "\n",
    "\n",
    "for i in range(ndim):\n",
    "\n",
    "# Learn equations\n",
    "equations = pysr(\n",
    "    X_train,\n",
    "    y_train,\n",
    "    niterations=5,\n",
    "    binary_operators=[\"+\", \"*\"],\n",
    "    unary_operators=[\n",
    "        \"cos\",\n",
    "        \"exp\",\n",
    "        \"sin\",  # Pre-defined library of operators (see docs)\n",
    "        \"inv(x) = 1/x\",  # Define your own operator! (Julia syntax)\n",
    "    ],\n",
    "    verbosity=0,\n",
    ")\n",
    "# print(best(equations))\n",
    "\n",
    "best_ind = np.argmax(equations[\"score\"].values) \n",
    "y_test_pred = equations[\"lambda_format\"].iloc[best_ind](X_test)\n",
    "\n",
    "print(metric_calc(y_test, y_test_pred))"
   ]
  },
  {
   "cell_type": "code",
   "execution_count": 27,
   "metadata": {},
   "outputs": [],
   "source": []
  },
  {
   "cell_type": "code",
   "execution_count": 29,
   "metadata": {},
   "outputs": [
    {
     "data": {
      "text/plain": [
       "(150, 3)"
      ]
     },
     "execution_count": 29,
     "metadata": {},
     "output_type": "execute_result"
    }
   ],
   "source": [
    "y_test_pred2.shape"
   ]
  },
  {
   "cell_type": "code",
   "execution_count": 26,
   "metadata": {},
   "outputs": [
    {
     "data": {
      "text/plain": [
       "[<matplotlib.lines.Line2D at 0x7ff3888be2e0>]"
      ]
     },
     "execution_count": 26,
     "metadata": {},
     "output_type": "execute_result"
    },
    {
     "data": {
      "image/png": "[encoded data removed]",
      "text/plain": [
       "<Figure size 432x288 with 1 Axes>"
      ]
     },
     "metadata": {
      "needs_background": "light"
     },
     "output_type": "display_data"
    }
   ],
   "source": [
    "plt.plot(y_test_pred2[:, 0])"
   ]
  },
  {
   "cell_type": "code",
   "execution_count": 16,
   "metadata": {},
   "outputs": [
    {
     "data": {
      "text/plain": [
       "[<matplotlib.lines.Line2D at 0x7ff3616ed6d0>]"
      ]
     },
     "execution_count": 16,
     "metadata": {},
     "output_type": "execute_result"
    },
    {
     "data": {
      "image/png": "[encoded data removed]",
      "text/plain": [
       "<Figure size 432x288 with 1 Axes>"
      ]
     },
     "metadata": {
      "needs_background": "light"
     },
     "output_type": "display_data"
    }
   ],
   "source": [
    "plt.plot(y_test_pred)\n",
    "plt.plot(y_test)"
   ]
  },
  {
   "cell_type": "markdown",
   "metadata": {},
   "source": [
    "## nODEs"
   ]
  },
  {
   "cell_type": "code",
   "execution_count": null,
   "metadata": {},
   "outputs": [],
   "source": []
  },
  {
   "cell_type": "code",
   "execution_count": null,
   "metadata": {},
   "outputs": [],
   "source": []
  },
  {
   "cell_type": "code",
   "execution_count": null,
   "metadata": {},
   "outputs": [],
   "source": []
  },
  {
   "cell_type": "code",
   "execution_count": null,
   "metadata": {},
   "outputs": [],
   "source": []
  },
  {
   "cell_type": "code",
   "execution_count": null,
   "metadata": {},
   "outputs": [],
   "source": []
  }
 ],
 "metadata": {
  "kernelspec": {
   "display_name": "Python 3",
   "language": "python",
   "name": "python3"
  },
  "language_info": {
   "codemirror_mode": {
    "name": "ipython",
    "version": 3
   },
   "file_extension": ".py",
   "mimetype": "text/x-python",
   "name": "python",
   "nbconvert_exporter": "python",
   "pygments_lexer": "ipython3",
   "version": "3.8.5"
  }
 },
 "nbformat": 4,
 "nbformat_minor": 4
}
