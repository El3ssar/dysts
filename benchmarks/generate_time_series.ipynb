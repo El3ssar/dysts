{
 "cells": [
  {
   "cell_type": "code",
   "execution_count": 1,
   "metadata": {},
   "outputs": [],
   "source": [
    "import sys\n",
    "\n",
    "import matplotlib.pyplot as plt\n",
    "import json\n",
    "import os.path\n",
    "import itertools\n",
    "\n",
    "import dysts\n",
    "from dysts.flows import *\n",
    "from dysts.base import *\n",
    "from dysts.utils import *\n",
    "from dysts.analysis import *\n",
    "\n",
    "%load_ext autoreload\n",
    "%autoreload 2"
   ]
  },
  {
   "cell_type": "code",
   "execution_count": 2,
   "metadata": {},
   "outputs": [
    {
     "name": "stdout",
     "output_type": "stream",
     "text": [
      "Aizawa\n",
      "AnishchenkoAstakhov\n",
      "Arneodo\n",
      "ArnoldBeltramiChildress\n"
     ]
    },
    {
     "name": "stderr",
     "output_type": "stream",
     "text": [
      "/Users/williamgilpin/miniconda3/envs/nn/lib/python3.8/site-packages/dysts/base.py:166: UserWarning: This system has at least one unbounded variable, which has been mapped to a bounded domain. Pass argument postprocess=False in order to generate trajectories from the raw system.\n",
      "  warnings.warn(\"This system has at least one unbounded variable, which has been mapped to a bounded domain. Pass argument postprocess=False in order to generate trajectories from the raw system.\")\n"
     ]
    },
    {
     "name": "stdout",
     "output_type": "stream",
     "text": [
      "ArnoldWeb\n"
     ]
    },
    {
     "name": "stderr",
     "output_type": "stream",
     "text": [
      "/Users/williamgilpin/miniconda3/envs/nn/lib/python3.8/site-packages/dysts/base.py:152: UserWarning: Expect slowdown due to excessive integration required; scale factor 1282.051282051282\n",
      "  if upscale_factor > 1e3: warnings.warn(f\"Expect slowdown due to excessive integration required; scale factor {upscale_factor}\")\n",
      "/Users/williamgilpin/miniconda3/envs/nn/lib/python3.8/site-packages/dysts/base.py:166: UserWarning: This system has at least one unbounded variable, which has been mapped to a bounded domain. Pass argument postprocess=False in order to generate trajectories from the raw system.\n",
      "  warnings.warn(\"This system has at least one unbounded variable, which has been mapped to a bounded domain. Pass argument postprocess=False in order to generate trajectories from the raw system.\")\n"
     ]
    },
    {
     "name": "stdout",
     "output_type": "stream",
     "text": [
      "BeerRNN\n"
     ]
    },
    {
     "name": "stderr",
     "output_type": "stream",
     "text": [
      "/Users/williamgilpin/miniconda3/envs/nn/lib/python3.8/site-packages/dysts/base.py:152: UserWarning: Expect slowdown due to excessive integration required; scale factor 1666.7125613841845\n",
      "  if upscale_factor > 1e3: warnings.warn(f\"Expect slowdown due to excessive integration required; scale factor {upscale_factor}\")\n"
     ]
    },
    {
     "name": "stdout",
     "output_type": "stream",
     "text": [
      "BelousovZhabotinsky\n"
     ]
    },
    {
     "name": "stderr",
     "output_type": "stream",
     "text": [
      "/Users/williamgilpin/miniconda3/envs/nn/lib/python3.8/site-packages/dysts/base.py:152: UserWarning: Expect slowdown due to excessive integration required; scale factor 1587.2891671013736\n",
      "  if upscale_factor > 1e3: warnings.warn(f\"Expect slowdown due to excessive integration required; scale factor {upscale_factor}\")\n",
      "/Users/williamgilpin/miniconda3/envs/nn/lib/python3.8/site-packages/dysts/flows.py:371: RuntimeWarning: invalid value encountered in sqrt\n",
      "  rf = (self.ci - self.z0*z)*np.sqrt(x)\n",
      "/Users/williamgilpin/miniconda3/envs/nn/lib/python3.8/site-packages/dysts/base.py:152: UserWarning: Expect slowdown due to excessive integration required; scale factor 3174.5783342027476\n",
      "  if upscale_factor > 1e3: warnings.warn(f\"Expect slowdown due to excessive integration required; scale factor {upscale_factor}\")\n"
     ]
    },
    {
     "name": "stdout",
     "output_type": "stream",
     "text": [
      "BickleyJet\n"
     ]
    },
    {
     "name": "stderr",
     "output_type": "stream",
     "text": [
      "/Users/williamgilpin/miniconda3/envs/nn/lib/python3.8/site-packages/dysts/base.py:166: UserWarning: This system has at least one unbounded variable, which has been mapped to a bounded domain. Pass argument postprocess=False in order to generate trajectories from the raw system.\n",
      "  warnings.warn(\"This system has at least one unbounded variable, which has been mapped to a bounded domain. Pass argument postprocess=False in order to generate trajectories from the raw system.\")\n"
     ]
    },
    {
     "name": "stdout",
     "output_type": "stream",
     "text": [
      "Blasius\n",
      "BlinkingRotlet\n"
     ]
    },
    {
     "name": "stderr",
     "output_type": "stream",
     "text": [
      "/Users/williamgilpin/miniconda3/envs/nn/lib/python3.8/site-packages/dysts/base.py:166: UserWarning: This system has at least one unbounded variable, which has been mapped to a bounded domain. Pass argument postprocess=False in order to generate trajectories from the raw system.\n",
      "  warnings.warn(\"This system has at least one unbounded variable, which has been mapped to a bounded domain. Pass argument postprocess=False in order to generate trajectories from the raw system.\")\n"
     ]
    },
    {
     "name": "stdout",
     "output_type": "stream",
     "text": [
      "BlinkingVortex\n"
     ]
    },
    {
     "name": "stderr",
     "output_type": "stream",
     "text": [
      "/Users/williamgilpin/miniconda3/envs/nn/lib/python3.8/site-packages/dysts/base.py:152: UserWarning: Expect slowdown due to excessive integration required; scale factor 1194.7508832648352\n",
      "  if upscale_factor > 1e3: warnings.warn(f\"Expect slowdown due to excessive integration required; scale factor {upscale_factor}\")\n"
     ]
    },
    {
     "name": "stdout",
     "output_type": "stream",
     "text": [
      "Bouali\n",
      "Bouali2\n",
      "BurkeShaw\n",
      "CaTwoPlus\n",
      "CaTwoPlusQuasiperiodic\n",
      "CellCycle\n",
      "CellularNeuralNetwork\n",
      "Chen\n",
      "ChenLee\n",
      "Chua\n",
      "CircadianRhythm\n"
     ]
    },
    {
     "name": "stderr",
     "output_type": "stream",
     "text": [
      "/Users/williamgilpin/miniconda3/envs/nn/lib/python3.8/site-packages/dysts/base.py:152: UserWarning: Expect slowdown due to excessive integration required; scale factor 1041.6666666666667\n",
      "  if upscale_factor > 1e3: warnings.warn(f\"Expect slowdown due to excessive integration required; scale factor {upscale_factor}\")\n",
      "/Users/williamgilpin/miniconda3/envs/nn/lib/python3.8/site-packages/dysts/base.py:166: UserWarning: This system has at least one unbounded variable, which has been mapped to a bounded domain. Pass argument postprocess=False in order to generate trajectories from the raw system.\n",
      "  warnings.warn(\"This system has at least one unbounded variable, which has been mapped to a bounded domain. Pass argument postprocess=False in order to generate trajectories from the raw system.\")\n"
     ]
    },
    {
     "name": "stdout",
     "output_type": "stream",
     "text": [
      "CoevolvingPredatorPrey\n"
     ]
    },
    {
     "name": "stderr",
     "output_type": "stream",
     "text": [
      "/Users/williamgilpin/miniconda3/envs/nn/lib/python3.8/site-packages/dysts/base.py:152: UserWarning: Expect slowdown due to excessive integration required; scale factor 1010.0785717224072\n",
      "  if upscale_factor > 1e3: warnings.warn(f\"Expect slowdown due to excessive integration required; scale factor {upscale_factor}\")\n"
     ]
    },
    {
     "name": "stdout",
     "output_type": "stream",
     "text": [
      "Colpitts\n",
      "Coullet\n",
      "Dadras\n"
     ]
    },
    {
     "name": "stderr",
     "output_type": "stream",
     "text": [
      "/Users/williamgilpin/miniconda3/envs/nn/lib/python3.8/site-packages/dysts/base.py:152: UserWarning: Expect slowdown due to excessive integration required; scale factor 1515.1347615756738\n",
      "  if upscale_factor > 1e3: warnings.warn(f\"Expect slowdown due to excessive integration required; scale factor {upscale_factor}\")\n"
     ]
    },
    {
     "name": "stdout",
     "output_type": "stream",
     "text": [
      "DequanLi\n",
      "DoubleGyre\n"
     ]
    },
    {
     "name": "stderr",
     "output_type": "stream",
     "text": [
      "/Users/williamgilpin/miniconda3/envs/nn/lib/python3.8/site-packages/dysts/base.py:166: UserWarning: This system has at least one unbounded variable, which has been mapped to a bounded domain. Pass argument postprocess=False in order to generate trajectories from the raw system.\n",
      "  warnings.warn(\"This system has at least one unbounded variable, which has been mapped to a bounded domain. Pass argument postprocess=False in order to generate trajectories from the raw system.\")\n"
     ]
    },
    {
     "name": "stdout",
     "output_type": "stream",
     "text": [
      "DoublePendulum\n"
     ]
    },
    {
     "name": "stderr",
     "output_type": "stream",
     "text": [
      "/Users/williamgilpin/miniconda3/envs/nn/lib/python3.8/site-packages/dysts/base.py:166: UserWarning: This system has at least one unbounded variable, which has been mapped to a bounded domain. Pass argument postprocess=False in order to generate trajectories from the raw system.\n",
      "  warnings.warn(\"This system has at least one unbounded variable, which has been mapped to a bounded domain. Pass argument postprocess=False in order to generate trajectories from the raw system.\")\n"
     ]
    },
    {
     "name": "stdout",
     "output_type": "stream",
     "text": [
      "Duffing\n"
     ]
    },
    {
     "name": "stderr",
     "output_type": "stream",
     "text": [
      "/Users/williamgilpin/miniconda3/envs/nn/lib/python3.8/site-packages/dysts/base.py:166: UserWarning: This system has at least one unbounded variable, which has been mapped to a bounded domain. Pass argument postprocess=False in order to generate trajectories from the raw system.\n",
      "  warnings.warn(\"This system has at least one unbounded variable, which has been mapped to a bounded domain. Pass argument postprocess=False in order to generate trajectories from the raw system.\")\n"
     ]
    },
    {
     "name": "stdout",
     "output_type": "stream",
     "text": [
      "ExcitableCell\n",
      "Finance\n",
      "FluidTrampoline\n"
     ]
    },
    {
     "name": "stderr",
     "output_type": "stream",
     "text": [
      "/Users/williamgilpin/miniconda3/envs/nn/lib/python3.8/site-packages/dysts/base.py:166: UserWarning: This system has at least one unbounded variable, which has been mapped to a bounded domain. Pass argument postprocess=False in order to generate trajectories from the raw system.\n",
      "  warnings.warn(\"This system has at least one unbounded variable, which has been mapped to a bounded domain. Pass argument postprocess=False in order to generate trajectories from the raw system.\")\n"
     ]
    },
    {
     "name": "stdout",
     "output_type": "stream",
     "text": [
      "ForcedBrusselator\n"
     ]
    },
    {
     "name": "stderr",
     "output_type": "stream",
     "text": [
      "/Users/williamgilpin/miniconda3/envs/nn/lib/python3.8/site-packages/dysts/base.py:166: UserWarning: This system has at least one unbounded variable, which has been mapped to a bounded domain. Pass argument postprocess=False in order to generate trajectories from the raw system.\n",
      "  warnings.warn(\"This system has at least one unbounded variable, which has been mapped to a bounded domain. Pass argument postprocess=False in order to generate trajectories from the raw system.\")\n"
     ]
    },
    {
     "name": "stdout",
     "output_type": "stream",
     "text": [
      "ForcedFitzHughNagumo\n"
     ]
    },
    {
     "name": "stderr",
     "output_type": "stream",
     "text": [
      "/Users/williamgilpin/miniconda3/envs/nn/lib/python3.8/site-packages/dysts/base.py:152: UserWarning: Expect slowdown due to excessive integration required; scale factor 1400.5769889002984\n",
      "  if upscale_factor > 1e3: warnings.warn(f\"Expect slowdown due to excessive integration required; scale factor {upscale_factor}\")\n",
      "/Users/williamgilpin/miniconda3/envs/nn/lib/python3.8/site-packages/dysts/base.py:166: UserWarning: This system has at least one unbounded variable, which has been mapped to a bounded domain. Pass argument postprocess=False in order to generate trajectories from the raw system.\n",
      "  warnings.warn(\"This system has at least one unbounded variable, which has been mapped to a bounded domain. Pass argument postprocess=False in order to generate trajectories from the raw system.\")\n",
      "/Users/williamgilpin/miniconda3/envs/nn/lib/python3.8/site-packages/dysts/base.py:152: UserWarning: Expect slowdown due to excessive integration required; scale factor 1361.6323363431152\n",
      "  if upscale_factor > 1e3: warnings.warn(f\"Expect slowdown due to excessive integration required; scale factor {upscale_factor}\")\n"
     ]
    },
    {
     "name": "stdout",
     "output_type": "stream",
     "text": [
      "ForcedVanDerPol\n"
     ]
    },
    {
     "name": "stderr",
     "output_type": "stream",
     "text": [
      "/Users/williamgilpin/miniconda3/envs/nn/lib/python3.8/site-packages/dysts/base.py:152: UserWarning: Expect slowdown due to excessive integration required; scale factor 2723.26467268623\n",
      "  if upscale_factor > 1e3: warnings.warn(f\"Expect slowdown due to excessive integration required; scale factor {upscale_factor}\")\n",
      "/Users/williamgilpin/miniconda3/envs/nn/lib/python3.8/site-packages/dysts/base.py:166: UserWarning: This system has at least one unbounded variable, which has been mapped to a bounded domain. Pass argument postprocess=False in order to generate trajectories from the raw system.\n",
      "  warnings.warn(\"This system has at least one unbounded variable, which has been mapped to a bounded domain. Pass argument postprocess=False in order to generate trajectories from the raw system.\")\n"
     ]
    },
    {
     "name": "stdout",
     "output_type": "stream",
     "text": [
      "GenesioTesi\n",
      "GuckenheimerHolmes\n",
      "Hadley\n",
      "Halvorsen\n",
      "HastingsPowell\n"
     ]
    },
    {
     "name": "stderr",
     "output_type": "stream",
     "text": [
      "/Users/williamgilpin/miniconda3/envs/nn/lib/python3.8/site-packages/dysts/base.py:152: UserWarning: Expect slowdown due to excessive integration required; scale factor 1388.9145733805929\n",
      "  if upscale_factor > 1e3: warnings.warn(f\"Expect slowdown due to excessive integration required; scale factor {upscale_factor}\")\n"
     ]
    },
    {
     "name": "stdout",
     "output_type": "stream",
     "text": [
      "HenonHeiles\n",
      "HindmarshRose\n"
     ]
    },
    {
     "name": "stderr",
     "output_type": "stream",
     "text": [
      "/Users/williamgilpin/miniconda3/envs/nn/lib/python3.8/site-packages/dysts/base.py:152: UserWarning: Expect slowdown due to excessive integration required; scale factor 1449.3113289490013\n",
      "  if upscale_factor > 1e3: warnings.warn(f\"Expect slowdown due to excessive integration required; scale factor {upscale_factor}\")\n"
     ]
    },
    {
     "name": "stdout",
     "output_type": "stream",
     "text": [
      "Hopfield\n",
      "HyperBao\n",
      "HyperCai\n",
      "HyperJha\n",
      "HyperLorenz\n",
      "HyperLu\n",
      "HyperPang\n",
      "HyperQi\n",
      "HyperRossler\n",
      "HyperWang\n",
      "HyperXu\n",
      "HyperYan\n",
      "HyperYangChen\n",
      "IkedaDelay\n",
      "IsothermalChemical\n",
      "ItikBanksTumor\n"
     ]
    },
    {
     "name": "stderr",
     "output_type": "stream",
     "text": [
      "/Users/williamgilpin/miniconda3/envs/nn/lib/python3.8/site-packages/dysts/base.py:152: UserWarning: Expect slowdown due to excessive integration required; scale factor 1333.3333333333333\n",
      "  if upscale_factor > 1e3: warnings.warn(f\"Expect slowdown due to excessive integration required; scale factor {upscale_factor}\")\n"
     ]
    },
    {
     "name": "stdout",
     "output_type": "stream",
     "text": [
      "JerkCircuit\n"
     ]
    },
    {
     "name": "stderr",
     "output_type": "stream",
     "text": [
      "/Users/williamgilpin/miniconda3/envs/nn/lib/python3.8/site-packages/dysts/base.py:152: UserWarning: Expect slowdown due to excessive integration required; scale factor 1731.6065865598578\n",
      "  if upscale_factor > 1e3: warnings.warn(f\"Expect slowdown due to excessive integration required; scale factor {upscale_factor}\")\n"
     ]
    },
    {
     "name": "stdout",
     "output_type": "stream",
     "text": [
      "KawczynskiStrizhak\n",
      "Laser\n",
      "LiuChen\n"
     ]
    },
    {
     "name": "stderr",
     "output_type": "stream",
     "text": [
      "/Users/williamgilpin/miniconda3/envs/nn/lib/python3.8/site-packages/dysts/base.py:152: UserWarning: Expect slowdown due to excessive integration required; scale factor 1801.8431108114187\n",
      "  if upscale_factor > 1e3: warnings.warn(f\"Expect slowdown due to excessive integration required; scale factor {upscale_factor}\")\n",
      "/Users/williamgilpin/miniconda3/envs/nn/lib/python3.8/site-packages/dysts/base.py:152: UserWarning: Expect slowdown due to excessive integration required; scale factor 3603.686221622837\n",
      "  if upscale_factor > 1e3: warnings.warn(f\"Expect slowdown due to excessive integration required; scale factor {upscale_factor}\")\n"
     ]
    },
    {
     "name": "stdout",
     "output_type": "stream",
     "text": [
      "Lorenz\n",
      "Lorenz84\n"
     ]
    },
    {
     "name": "stderr",
     "output_type": "stream",
     "text": [
      "/Users/williamgilpin/miniconda3/envs/nn/lib/python3.8/site-packages/dysts/base.py:152: UserWarning: Expect slowdown due to excessive integration required; scale factor 1149.4214876033059\n",
      "  if upscale_factor > 1e3: warnings.warn(f\"Expect slowdown due to excessive integration required; scale factor {upscale_factor}\")\n"
     ]
    },
    {
     "name": "stdout",
     "output_type": "stream",
     "text": [
      "Lorenz96\n"
     ]
    },
    {
     "name": "stderr",
     "output_type": "stream",
     "text": [
      "/Users/williamgilpin/miniconda3/envs/nn/lib/python3.8/site-packages/dysts/base.py:152: UserWarning: Expect slowdown due to excessive integration required; scale factor 1025.6302521008404\n",
      "  if upscale_factor > 1e3: warnings.warn(f\"Expect slowdown due to excessive integration required; scale factor {upscale_factor}\")\n"
     ]
    },
    {
     "name": "stdout",
     "output_type": "stream",
     "text": [
      "LorenzBounded\n",
      "LorenzCoupled\n",
      "LorenzStenflo\n",
      "LuChen\n"
     ]
    },
    {
     "name": "stderr",
     "output_type": "stream",
     "text": [
      "/Users/williamgilpin/miniconda3/envs/nn/lib/python3.8/site-packages/dysts/base.py:152: UserWarning: Expect slowdown due to excessive integration required; scale factor 1282.0723684210525\n",
      "  if upscale_factor > 1e3: warnings.warn(f\"Expect slowdown due to excessive integration required; scale factor {upscale_factor}\")\n"
     ]
    },
    {
     "name": "stdout",
     "output_type": "stream",
     "text": [
      "LuChenCheng\n",
      "MacArthur\n",
      "MackeyGlass\n",
      "MooreSpiegel\n",
      "MultiChua\n",
      "NewtonLiepnik\n",
      "NoseHoover\n",
      "NuclearQuadrupole\n",
      "OscillatingFlow\n"
     ]
    },
    {
     "name": "stderr",
     "output_type": "stream",
     "text": [
      "/Users/williamgilpin/miniconda3/envs/nn/lib/python3.8/site-packages/dysts/base.py:166: UserWarning: This system has at least one unbounded variable, which has been mapped to a bounded domain. Pass argument postprocess=False in order to generate trajectories from the raw system.\n",
      "  warnings.warn(\"This system has at least one unbounded variable, which has been mapped to a bounded domain. Pass argument postprocess=False in order to generate trajectories from the raw system.\")\n"
     ]
    },
    {
     "name": "stdout",
     "output_type": "stream",
     "text": [
      "PanXuZhou\n",
      "PehlivanWei\n",
      "PiecewiseCircuit\n"
     ]
    },
    {
     "name": "stderr",
     "output_type": "stream",
     "text": [
      "/Users/williamgilpin/miniconda3/envs/nn/lib/python3.8/site-packages/dysts/base.py:345: RuntimeWarning: invalid value encountered in double_scalars\n",
      "  x_next = x_next + self.rhs([x_next, history.pop()], t) * self.dt + noise * noise_vals[i]\n"
     ]
    },
    {
     "name": "stdout",
     "output_type": "stream",
     "text": [
      "Qi\n",
      "QiChen\n",
      "RabinovichFabrikant\n",
      "RayleighBenard\n",
      "RikitakeDynamo\n",
      "Rossler\n",
      "Rucklidge\n",
      "Sakarya\n",
      "SaltonSea\n",
      "SanUmSrisuchinwong\n",
      "ScrollDelay\n",
      "ShimizuMorioka\n",
      "SprottA\n",
      "SprottB\n",
      "SprottC\n",
      "SprottD\n",
      "SprottDelay\n",
      "SprottE\n",
      "SprottF\n",
      "SprottG\n",
      "SprottH\n",
      "SprottI\n",
      "SprottJ\n",
      "SprottJerk\n",
      "SprottK\n",
      "SprottL\n",
      "SprottM\n",
      "SprottMore\n",
      "SprottN\n",
      "SprottO\n",
      "SprottP\n",
      "SprottQ\n",
      "SprottR\n",
      "SprottS\n",
      "SprottTorus\n"
     ]
    },
    {
     "name": "stderr",
     "output_type": "stream",
     "text": [
      "/Users/williamgilpin/miniconda3/envs/nn/lib/python3.8/site-packages/dysts/base.py:152: UserWarning: Expect slowdown due to excessive integration required; scale factor 1449.326303456356\n",
      "  if upscale_factor > 1e3: warnings.warn(f\"Expect slowdown due to excessive integration required; scale factor {upscale_factor}\")\n"
     ]
    },
    {
     "name": "stdout",
     "output_type": "stream",
     "text": [
      "StickSlipOscillator\n"
     ]
    },
    {
     "name": "stderr",
     "output_type": "stream",
     "text": [
      "/Users/williamgilpin/miniconda3/envs/nn/lib/python3.8/site-packages/dysts/base.py:152: UserWarning: Expect slowdown due to excessive integration required; scale factor 1075.2666666666667\n",
      "  if upscale_factor > 1e3: warnings.warn(f\"Expect slowdown due to excessive integration required; scale factor {upscale_factor}\")\n",
      "/Users/williamgilpin/miniconda3/envs/nn/lib/python3.8/site-packages/dysts/base.py:166: UserWarning: This system has at least one unbounded variable, which has been mapped to a bounded domain. Pass argument postprocess=False in order to generate trajectories from the raw system.\n",
      "  warnings.warn(\"This system has at least one unbounded variable, which has been mapped to a bounded domain. Pass argument postprocess=False in order to generate trajectories from the raw system.\")\n"
     ]
    },
    {
     "name": "stdout",
     "output_type": "stream",
     "text": [
      "SwingingAtwood\n"
     ]
    },
    {
     "name": "stderr",
     "output_type": "stream",
     "text": [
      "/Users/williamgilpin/miniconda3/envs/nn/lib/python3.8/site-packages/dysts/base.py:166: UserWarning: This system has at least one unbounded variable, which has been mapped to a bounded domain. Pass argument postprocess=False in order to generate trajectories from the raw system.\n",
      "  warnings.warn(\"This system has at least one unbounded variable, which has been mapped to a bounded domain. Pass argument postprocess=False in order to generate trajectories from the raw system.\")\n"
     ]
    },
    {
     "name": "stdout",
     "output_type": "stream",
     "text": [
      "Thomas\n"
     ]
    },
    {
     "name": "stderr",
     "output_type": "stream",
     "text": [
      "/Users/williamgilpin/miniconda3/envs/nn/lib/python3.8/site-packages/dysts/base.py:152: UserWarning: Expect slowdown due to excessive integration required; scale factor 1149.4332639370807\n",
      "  if upscale_factor > 1e3: warnings.warn(f\"Expect slowdown due to excessive integration required; scale factor {upscale_factor}\")\n"
     ]
    },
    {
     "name": "stdout",
     "output_type": "stream",
     "text": [
      "ThomasLabyrinth\n"
     ]
    },
    {
     "name": "stderr",
     "output_type": "stream",
     "text": [
      "/Users/williamgilpin/miniconda3/envs/nn/lib/python3.8/site-packages/dysts/base.py:152: UserWarning: Expect slowdown due to excessive integration required; scale factor 1149.4252873563216\n",
      "  if upscale_factor > 1e3: warnings.warn(f\"Expect slowdown due to excessive integration required; scale factor {upscale_factor}\")\n"
     ]
    },
    {
     "name": "stdout",
     "output_type": "stream",
     "text": [
      "Torus\n"
     ]
    },
    {
     "name": "stderr",
     "output_type": "stream",
     "text": [
      "/Users/williamgilpin/miniconda3/envs/nn/lib/python3.8/site-packages/dysts/base.py:152: UserWarning: Expect slowdown due to excessive integration required; scale factor 1111.1111111111113\n",
      "  if upscale_factor > 1e3: warnings.warn(f\"Expect slowdown due to excessive integration required; scale factor {upscale_factor}\")\n"
     ]
    },
    {
     "name": "stdout",
     "output_type": "stream",
     "text": [
      "Tsucs2\n",
      "TurchinHanski\n"
     ]
    },
    {
     "name": "stderr",
     "output_type": "stream",
     "text": [
      "/Users/williamgilpin/miniconda3/envs/nn/lib/python3.8/site-packages/dysts/base.py:166: UserWarning: This system has at least one unbounded variable, which has been mapped to a bounded domain. Pass argument postprocess=False in order to generate trajectories from the raw system.\n",
      "  warnings.warn(\"This system has at least one unbounded variable, which has been mapped to a bounded domain. Pass argument postprocess=False in order to generate trajectories from the raw system.\")\n"
     ]
    },
    {
     "name": "stdout",
     "output_type": "stream",
     "text": [
      "VallisElNino\n",
      "VossDelay\n",
      "WangSun\n"
     ]
    },
    {
     "name": "stderr",
     "output_type": "stream",
     "text": [
      "/Users/williamgilpin/miniconda3/envs/nn/lib/python3.8/site-packages/dysts/base.py:152: UserWarning: Expect slowdown due to excessive integration required; scale factor 1388.87171561051\n",
      "  if upscale_factor > 1e3: warnings.warn(f\"Expect slowdown due to excessive integration required; scale factor {upscale_factor}\")\n"
     ]
    },
    {
     "name": "stdout",
     "output_type": "stream",
     "text": [
      "WindmiReduced\n",
      "YuWang\n",
      "YuWang2\n",
      "ZhouChen\n"
     ]
    },
    {
     "name": "stderr",
     "output_type": "stream",
     "text": [
      "/Users/williamgilpin/miniconda3/envs/nn/lib/python3.8/site-packages/dysts/base.py:152: UserWarning: Expect slowdown due to excessive integration required; scale factor 1190.478133714208\n",
      "  if upscale_factor > 1e3: warnings.warn(f\"Expect slowdown due to excessive integration required; scale factor {upscale_factor}\")\n"
     ]
    },
    {
     "name": "stdout",
     "output_type": "stream",
     "text": [
      "Aizawa\n",
      "AnishchenkoAstakhov\n",
      "Arneodo\n",
      "ArnoldBeltramiChildress\n",
      "ArnoldWeb\n"
     ]
    },
    {
     "name": "stderr",
     "output_type": "stream",
     "text": [
      "/Users/williamgilpin/miniconda3/envs/nn/lib/python3.8/site-packages/dysts/base.py:166: UserWarning: This system has at least one unbounded variable, which has been mapped to a bounded domain. Pass argument postprocess=False in order to generate trajectories from the raw system.\n",
      "  warnings.warn(\"This system has at least one unbounded variable, which has been mapped to a bounded domain. Pass argument postprocess=False in order to generate trajectories from the raw system.\")\n"
     ]
    },
    {
     "name": "stdout",
     "output_type": "stream",
     "text": [
      "BeerRNN\n",
      "BelousovZhabotinsky\n"
     ]
    },
    {
     "name": "stderr",
     "output_type": "stream",
     "text": [
      "/Users/williamgilpin/miniconda3/envs/nn/lib/python3.8/site-packages/dysts/base.py:152: UserWarning: Expect slowdown due to excessive integration required; scale factor 1587.2891671013736\n",
      "  if upscale_factor > 1e3: warnings.warn(f\"Expect slowdown due to excessive integration required; scale factor {upscale_factor}\")\n",
      "/Users/williamgilpin/miniconda3/envs/nn/lib/python3.8/site-packages/dysts/flows.py:371: RuntimeWarning: invalid value encountered in sqrt\n",
      "  rf = (self.ci - self.z0*z)*np.sqrt(x)\n"
     ]
    },
    {
     "name": "stdout",
     "output_type": "stream",
     "text": [
      "BickleyJet\n",
      "Blasius\n",
      "BlinkingRotlet\n",
      "BlinkingVortex\n",
      "Bouali\n",
      "Bouali2\n",
      "BurkeShaw\n",
      "CaTwoPlus\n",
      "CaTwoPlusQuasiperiodic\n",
      "CellCycle\n",
      "CellularNeuralNetwork\n",
      "Chen\n",
      "ChenLee\n",
      "Chua\n",
      "CircadianRhythm\n",
      "CoevolvingPredatorPrey\n",
      "Colpitts\n",
      "Coullet\n",
      "Dadras\n",
      "DequanLi\n",
      "DoubleGyre\n",
      "DoublePendulum\n",
      "Duffing\n",
      "ExcitableCell\n",
      "Finance\n",
      "FluidTrampoline\n",
      "ForcedBrusselator\n",
      "ForcedFitzHughNagumo\n",
      "ForcedVanDerPol\n"
     ]
    },
    {
     "name": "stderr",
     "output_type": "stream",
     "text": [
      "/Users/williamgilpin/miniconda3/envs/nn/lib/python3.8/site-packages/dysts/base.py:152: UserWarning: Expect slowdown due to excessive integration required; scale factor 1361.6323363431152\n",
      "  if upscale_factor > 1e3: warnings.warn(f\"Expect slowdown due to excessive integration required; scale factor {upscale_factor}\")\n"
     ]
    },
    {
     "name": "stdout",
     "output_type": "stream",
     "text": [
      "GenesioTesi\n",
      "GuckenheimerHolmes\n",
      "Hadley\n",
      "Halvorsen\n",
      "HastingsPowell\n",
      "HenonHeiles\n",
      "HindmarshRose\n",
      "Hopfield\n",
      "HyperBao\n",
      "HyperCai\n",
      "HyperJha\n",
      "HyperLorenz\n",
      "HyperLu\n",
      "HyperPang\n",
      "HyperQi\n",
      "HyperRossler\n",
      "HyperWang\n",
      "HyperXu\n",
      "HyperYan\n",
      "HyperYangChen\n",
      "IkedaDelay\n",
      "IsothermalChemical\n",
      "ItikBanksTumor\n",
      "JerkCircuit\n",
      "KawczynskiStrizhak\n",
      "Laser\n",
      "LiuChen\n"
     ]
    },
    {
     "name": "stderr",
     "output_type": "stream",
     "text": [
      "/Users/williamgilpin/miniconda3/envs/nn/lib/python3.8/site-packages/dysts/base.py:152: UserWarning: Expect slowdown due to excessive integration required; scale factor 1801.8431108114187\n",
      "  if upscale_factor > 1e3: warnings.warn(f\"Expect slowdown due to excessive integration required; scale factor {upscale_factor}\")\n"
     ]
    },
    {
     "name": "stdout",
     "output_type": "stream",
     "text": [
      "Lorenz\n",
      "Lorenz84\n",
      "Lorenz96\n",
      "LorenzBounded\n",
      "LorenzCoupled\n",
      "LorenzStenflo\n",
      "LuChen\n",
      "LuChenCheng\n",
      "MacArthur\n",
      "MackeyGlass\n",
      "MooreSpiegel\n",
      "MultiChua\n",
      "NewtonLiepnik\n",
      "NoseHoover\n",
      "NuclearQuadrupole\n",
      "OscillatingFlow\n",
      "PanXuZhou\n",
      "PehlivanWei\n",
      "PiecewiseCircuit\n",
      "Qi\n",
      "QiChen\n",
      "RabinovichFabrikant\n",
      "RayleighBenard\n",
      "RikitakeDynamo\n",
      "Rossler\n",
      "Rucklidge\n",
      "Sakarya\n",
      "SaltonSea\n",
      "SanUmSrisuchinwong\n",
      "ScrollDelay\n",
      "ShimizuMorioka\n",
      "SprottA\n",
      "SprottB\n",
      "SprottC\n",
      "SprottD\n",
      "SprottDelay\n",
      "SprottE\n",
      "SprottF\n",
      "SprottG\n",
      "SprottH\n",
      "SprottI\n",
      "SprottJ\n",
      "SprottJerk\n",
      "SprottK\n",
      "SprottL\n",
      "SprottM\n",
      "SprottMore\n",
      "SprottN\n",
      "SprottO\n",
      "SprottP\n",
      "SprottQ\n",
      "SprottR\n",
      "SprottS\n",
      "SprottTorus\n",
      "StickSlipOscillator\n",
      "SwingingAtwood\n",
      "Thomas\n",
      "ThomasLabyrinth\n",
      "Torus\n",
      "Tsucs2\n",
      "TurchinHanski\n",
      "VallisElNino\n",
      "VossDelay\n",
      "WangSun\n",
      "WindmiReduced\n",
      "YuWang\n",
      "YuWang2\n",
      "ZhouChen\n",
      "Aizawa\n",
      "AnishchenkoAstakhov\n",
      "Arneodo\n",
      "ArnoldBeltramiChildress\n",
      "ArnoldWeb\n"
     ]
    },
    {
     "name": "stderr",
     "output_type": "stream",
     "text": [
      "/Users/williamgilpin/miniconda3/envs/nn/lib/python3.8/site-packages/dysts/base.py:152: UserWarning: Expect slowdown due to excessive integration required; scale factor 1282.051282051282\n",
      "  if upscale_factor > 1e3: warnings.warn(f\"Expect slowdown due to excessive integration required; scale factor {upscale_factor}\")\n"
     ]
    },
    {
     "name": "stdout",
     "output_type": "stream",
     "text": [
      "BeerRNN\n"
     ]
    },
    {
     "name": "stderr",
     "output_type": "stream",
     "text": [
      "/Users/williamgilpin/miniconda3/envs/nn/lib/python3.8/site-packages/dysts/base.py:152: UserWarning: Expect slowdown due to excessive integration required; scale factor 1666.7125613841845\n",
      "  if upscale_factor > 1e3: warnings.warn(f\"Expect slowdown due to excessive integration required; scale factor {upscale_factor}\")\n"
     ]
    },
    {
     "name": "stdout",
     "output_type": "stream",
     "text": [
      "BelousovZhabotinsky\n"
     ]
    },
    {
     "name": "stderr",
     "output_type": "stream",
     "text": [
      "/Users/williamgilpin/miniconda3/envs/nn/lib/python3.8/site-packages/dysts/base.py:152: UserWarning: Expect slowdown due to excessive integration required; scale factor 3174.5783342027476\n",
      "  if upscale_factor > 1e3: warnings.warn(f\"Expect slowdown due to excessive integration required; scale factor {upscale_factor}\")\n"
     ]
    },
    {
     "name": "stdout",
     "output_type": "stream",
     "text": [
      "BickleyJet\n",
      "Blasius\n",
      "BlinkingRotlet\n",
      "BlinkingVortex\n"
     ]
    },
    {
     "name": "stderr",
     "output_type": "stream",
     "text": [
      "/Users/williamgilpin/miniconda3/envs/nn/lib/python3.8/site-packages/dysts/base.py:152: UserWarning: Expect slowdown due to excessive integration required; scale factor 1194.7508832648352\n",
      "  if upscale_factor > 1e3: warnings.warn(f\"Expect slowdown due to excessive integration required; scale factor {upscale_factor}\")\n"
     ]
    },
    {
     "name": "stdout",
     "output_type": "stream",
     "text": [
      "Bouali\n",
      "Bouali2\n",
      "BurkeShaw\n",
      "CaTwoPlus\n",
      "CaTwoPlusQuasiperiodic\n",
      "CellCycle\n",
      "CellularNeuralNetwork\n",
      "Chen\n",
      "ChenLee\n",
      "Chua\n",
      "CircadianRhythm\n"
     ]
    },
    {
     "name": "stderr",
     "output_type": "stream",
     "text": [
      "/Users/williamgilpin/miniconda3/envs/nn/lib/python3.8/site-packages/dysts/base.py:152: UserWarning: Expect slowdown due to excessive integration required; scale factor 1041.6666666666667\n",
      "  if upscale_factor > 1e3: warnings.warn(f\"Expect slowdown due to excessive integration required; scale factor {upscale_factor}\")\n"
     ]
    },
    {
     "name": "stdout",
     "output_type": "stream",
     "text": [
      "CoevolvingPredatorPrey\n"
     ]
    },
    {
     "name": "stderr",
     "output_type": "stream",
     "text": [
      "/Users/williamgilpin/miniconda3/envs/nn/lib/python3.8/site-packages/dysts/base.py:152: UserWarning: Expect slowdown due to excessive integration required; scale factor 1010.0785717224072\n",
      "  if upscale_factor > 1e3: warnings.warn(f\"Expect slowdown due to excessive integration required; scale factor {upscale_factor}\")\n"
     ]
    },
    {
     "name": "stdout",
     "output_type": "stream",
     "text": [
      "Colpitts\n",
      "Coullet\n",
      "Dadras\n"
     ]
    },
    {
     "name": "stderr",
     "output_type": "stream",
     "text": [
      "/Users/williamgilpin/miniconda3/envs/nn/lib/python3.8/site-packages/dysts/base.py:152: UserWarning: Expect slowdown due to excessive integration required; scale factor 1515.1347615756738\n",
      "  if upscale_factor > 1e3: warnings.warn(f\"Expect slowdown due to excessive integration required; scale factor {upscale_factor}\")\n"
     ]
    },
    {
     "name": "stdout",
     "output_type": "stream",
     "text": [
      "DequanLi\n",
      "DoubleGyre\n",
      "DoublePendulum\n",
      "Duffing\n",
      "ExcitableCell\n",
      "Finance\n",
      "FluidTrampoline\n",
      "ForcedBrusselator\n",
      "ForcedFitzHughNagumo\n"
     ]
    },
    {
     "name": "stderr",
     "output_type": "stream",
     "text": [
      "/Users/williamgilpin/miniconda3/envs/nn/lib/python3.8/site-packages/dysts/base.py:152: UserWarning: Expect slowdown due to excessive integration required; scale factor 1400.5769889002984\n",
      "  if upscale_factor > 1e3: warnings.warn(f\"Expect slowdown due to excessive integration required; scale factor {upscale_factor}\")\n"
     ]
    },
    {
     "name": "stdout",
     "output_type": "stream",
     "text": [
      "ForcedVanDerPol\n"
     ]
    },
    {
     "name": "stderr",
     "output_type": "stream",
     "text": [
      "/Users/williamgilpin/miniconda3/envs/nn/lib/python3.8/site-packages/dysts/base.py:152: UserWarning: Expect slowdown due to excessive integration required; scale factor 2723.26467268623\n",
      "  if upscale_factor > 1e3: warnings.warn(f\"Expect slowdown due to excessive integration required; scale factor {upscale_factor}\")\n"
     ]
    },
    {
     "name": "stdout",
     "output_type": "stream",
     "text": [
      "GenesioTesi\n",
      "GuckenheimerHolmes\n",
      "Hadley\n",
      "Halvorsen\n",
      "HastingsPowell\n"
     ]
    },
    {
     "name": "stderr",
     "output_type": "stream",
     "text": [
      "/Users/williamgilpin/miniconda3/envs/nn/lib/python3.8/site-packages/dysts/base.py:152: UserWarning: Expect slowdown due to excessive integration required; scale factor 1388.9145733805929\n",
      "  if upscale_factor > 1e3: warnings.warn(f\"Expect slowdown due to excessive integration required; scale factor {upscale_factor}\")\n"
     ]
    },
    {
     "name": "stdout",
     "output_type": "stream",
     "text": [
      "HenonHeiles\n",
      "HindmarshRose\n"
     ]
    },
    {
     "name": "stderr",
     "output_type": "stream",
     "text": [
      "/Users/williamgilpin/miniconda3/envs/nn/lib/python3.8/site-packages/dysts/base.py:152: UserWarning: Expect slowdown due to excessive integration required; scale factor 1449.3113289490013\n",
      "  if upscale_factor > 1e3: warnings.warn(f\"Expect slowdown due to excessive integration required; scale factor {upscale_factor}\")\n"
     ]
    },
    {
     "name": "stdout",
     "output_type": "stream",
     "text": [
      "Hopfield\n",
      "HyperBao\n",
      "HyperCai\n",
      "HyperJha\n",
      "HyperLorenz\n",
      "HyperLu\n",
      "HyperPang\n",
      "HyperQi\n",
      "HyperRossler\n",
      "HyperWang\n",
      "HyperXu\n",
      "HyperYan\n",
      "HyperYangChen\n",
      "IkedaDelay\n",
      "IsothermalChemical\n",
      "ItikBanksTumor\n"
     ]
    },
    {
     "name": "stderr",
     "output_type": "stream",
     "text": [
      "/Users/williamgilpin/miniconda3/envs/nn/lib/python3.8/site-packages/dysts/base.py:152: UserWarning: Expect slowdown due to excessive integration required; scale factor 1333.3333333333333\n",
      "  if upscale_factor > 1e3: warnings.warn(f\"Expect slowdown due to excessive integration required; scale factor {upscale_factor}\")\n"
     ]
    },
    {
     "name": "stdout",
     "output_type": "stream",
     "text": [
      "JerkCircuit\n"
     ]
    },
    {
     "name": "stderr",
     "output_type": "stream",
     "text": [
      "/Users/williamgilpin/miniconda3/envs/nn/lib/python3.8/site-packages/dysts/base.py:152: UserWarning: Expect slowdown due to excessive integration required; scale factor 1731.6065865598578\n",
      "  if upscale_factor > 1e3: warnings.warn(f\"Expect slowdown due to excessive integration required; scale factor {upscale_factor}\")\n"
     ]
    },
    {
     "name": "stdout",
     "output_type": "stream",
     "text": [
      "KawczynskiStrizhak\n",
      "Laser\n",
      "LiuChen\n"
     ]
    },
    {
     "name": "stderr",
     "output_type": "stream",
     "text": [
      "/Users/williamgilpin/miniconda3/envs/nn/lib/python3.8/site-packages/dysts/base.py:152: UserWarning: Expect slowdown due to excessive integration required; scale factor 3603.686221622837\n",
      "  if upscale_factor > 1e3: warnings.warn(f\"Expect slowdown due to excessive integration required; scale factor {upscale_factor}\")\n"
     ]
    },
    {
     "name": "stdout",
     "output_type": "stream",
     "text": [
      "Lorenz\n",
      "Lorenz84\n"
     ]
    },
    {
     "name": "stderr",
     "output_type": "stream",
     "text": [
      "/Users/williamgilpin/miniconda3/envs/nn/lib/python3.8/site-packages/dysts/base.py:152: UserWarning: Expect slowdown due to excessive integration required; scale factor 1149.4214876033059\n",
      "  if upscale_factor > 1e3: warnings.warn(f\"Expect slowdown due to excessive integration required; scale factor {upscale_factor}\")\n"
     ]
    },
    {
     "name": "stdout",
     "output_type": "stream",
     "text": [
      "Lorenz96\n"
     ]
    },
    {
     "name": "stderr",
     "output_type": "stream",
     "text": [
      "/Users/williamgilpin/miniconda3/envs/nn/lib/python3.8/site-packages/dysts/base.py:152: UserWarning: Expect slowdown due to excessive integration required; scale factor 1025.6302521008404\n",
      "  if upscale_factor > 1e3: warnings.warn(f\"Expect slowdown due to excessive integration required; scale factor {upscale_factor}\")\n"
     ]
    },
    {
     "name": "stdout",
     "output_type": "stream",
     "text": [
      "LorenzBounded\n",
      "LorenzCoupled\n",
      "LorenzStenflo\n",
      "LuChen\n"
     ]
    },
    {
     "name": "stderr",
     "output_type": "stream",
     "text": [
      "/Users/williamgilpin/miniconda3/envs/nn/lib/python3.8/site-packages/dysts/base.py:152: UserWarning: Expect slowdown due to excessive integration required; scale factor 1282.0723684210525\n",
      "  if upscale_factor > 1e3: warnings.warn(f\"Expect slowdown due to excessive integration required; scale factor {upscale_factor}\")\n"
     ]
    },
    {
     "name": "stdout",
     "output_type": "stream",
     "text": [
      "LuChenCheng\n",
      "MacArthur\n",
      "MackeyGlass\n",
      "MooreSpiegel\n",
      "MultiChua\n",
      "NewtonLiepnik\n",
      "NoseHoover\n",
      "NuclearQuadrupole\n",
      "OscillatingFlow\n",
      "PanXuZhou\n",
      "PehlivanWei\n",
      "PiecewiseCircuit\n",
      "Qi\n",
      "QiChen\n",
      "RabinovichFabrikant\n",
      "RayleighBenard\n",
      "RikitakeDynamo\n",
      "Rossler\n",
      "Rucklidge\n",
      "Sakarya\n",
      "SaltonSea\n",
      "SanUmSrisuchinwong\n",
      "ScrollDelay\n",
      "ShimizuMorioka\n",
      "SprottA\n",
      "SprottB\n",
      "SprottC\n",
      "SprottD\n",
      "SprottDelay\n",
      "SprottE\n",
      "SprottF\n",
      "SprottG\n",
      "SprottH\n",
      "SprottI\n",
      "SprottJ\n",
      "SprottJerk\n",
      "SprottK\n",
      "SprottL\n",
      "SprottM\n",
      "SprottMore\n",
      "SprottN\n",
      "SprottO\n",
      "SprottP\n",
      "SprottQ\n",
      "SprottR\n",
      "SprottS\n",
      "SprottTorus\n"
     ]
    },
    {
     "name": "stderr",
     "output_type": "stream",
     "text": [
      "/Users/williamgilpin/miniconda3/envs/nn/lib/python3.8/site-packages/dysts/base.py:152: UserWarning: Expect slowdown due to excessive integration required; scale factor 1449.326303456356\n",
      "  if upscale_factor > 1e3: warnings.warn(f\"Expect slowdown due to excessive integration required; scale factor {upscale_factor}\")\n"
     ]
    },
    {
     "name": "stdout",
     "output_type": "stream",
     "text": [
      "StickSlipOscillator\n",
      "SwingingAtwood\n"
     ]
    },
    {
     "name": "stderr",
     "output_type": "stream",
     "text": [
      "/Users/williamgilpin/miniconda3/envs/nn/lib/python3.8/site-packages/dysts/base.py:152: UserWarning: Expect slowdown due to excessive integration required; scale factor 1075.2666666666667\n",
      "  if upscale_factor > 1e3: warnings.warn(f\"Expect slowdown due to excessive integration required; scale factor {upscale_factor}\")\n"
     ]
    },
    {
     "name": "stdout",
     "output_type": "stream",
     "text": [
      "Thomas\n"
     ]
    },
    {
     "name": "stderr",
     "output_type": "stream",
     "text": [
      "/Users/williamgilpin/miniconda3/envs/nn/lib/python3.8/site-packages/dysts/base.py:152: UserWarning: Expect slowdown due to excessive integration required; scale factor 1149.4332639370807\n",
      "  if upscale_factor > 1e3: warnings.warn(f\"Expect slowdown due to excessive integration required; scale factor {upscale_factor}\")\n"
     ]
    },
    {
     "name": "stdout",
     "output_type": "stream",
     "text": [
      "ThomasLabyrinth\n"
     ]
    },
    {
     "name": "stderr",
     "output_type": "stream",
     "text": [
      "/Users/williamgilpin/miniconda3/envs/nn/lib/python3.8/site-packages/dysts/base.py:152: UserWarning: Expect slowdown due to excessive integration required; scale factor 1149.4252873563216\n",
      "  if upscale_factor > 1e3: warnings.warn(f\"Expect slowdown due to excessive integration required; scale factor {upscale_factor}\")\n"
     ]
    },
    {
     "name": "stdout",
     "output_type": "stream",
     "text": [
      "Torus\n"
     ]
    },
    {
     "name": "stderr",
     "output_type": "stream",
     "text": [
      "/Users/williamgilpin/miniconda3/envs/nn/lib/python3.8/site-packages/dysts/base.py:152: UserWarning: Expect slowdown due to excessive integration required; scale factor 1111.1111111111113\n",
      "  if upscale_factor > 1e3: warnings.warn(f\"Expect slowdown due to excessive integration required; scale factor {upscale_factor}\")\n"
     ]
    },
    {
     "name": "stdout",
     "output_type": "stream",
     "text": [
      "Tsucs2\n",
      "TurchinHanski\n",
      "VallisElNino\n",
      "VossDelay\n",
      "WangSun\n"
     ]
    },
    {
     "name": "stderr",
     "output_type": "stream",
     "text": [
      "/Users/williamgilpin/miniconda3/envs/nn/lib/python3.8/site-packages/dysts/base.py:152: UserWarning: Expect slowdown due to excessive integration required; scale factor 1388.87171561051\n",
      "  if upscale_factor > 1e3: warnings.warn(f\"Expect slowdown due to excessive integration required; scale factor {upscale_factor}\")\n"
     ]
    },
    {
     "name": "stdout",
     "output_type": "stream",
     "text": [
      "WindmiReduced\n",
      "YuWang\n",
      "YuWang2\n",
      "ZhouChen\n",
      "Aizawa\n",
      "AnishchenkoAstakhov\n",
      "Arneodo\n",
      "ArnoldBeltramiChildress\n",
      "ArnoldWeb\n",
      "BeerRNN\n",
      "BelousovZhabotinsky\n",
      "BickleyJet\n",
      "Blasius\n",
      "BlinkingRotlet\n",
      "BlinkingVortex\n",
      "Bouali\n",
      "Bouali2\n",
      "BurkeShaw\n",
      "CaTwoPlus\n",
      "CaTwoPlusQuasiperiodic\n",
      "CellCycle\n",
      "CellularNeuralNetwork\n",
      "Chen\n",
      "ChenLee\n",
      "Chua\n",
      "CircadianRhythm\n",
      "CoevolvingPredatorPrey\n",
      "Colpitts\n",
      "Coullet\n",
      "Dadras\n",
      "DequanLi\n",
      "DoubleGyre\n",
      "DoublePendulum\n",
      "Duffing\n",
      "ExcitableCell\n",
      "Finance\n",
      "FluidTrampoline\n",
      "ForcedBrusselator\n",
      "ForcedFitzHughNagumo\n",
      "ForcedVanDerPol\n",
      "GenesioTesi\n",
      "GuckenheimerHolmes\n",
      "Hadley\n",
      "Halvorsen\n",
      "HastingsPowell\n",
      "HenonHeiles\n",
      "HindmarshRose\n",
      "Hopfield\n",
      "HyperBao\n",
      "HyperCai\n",
      "HyperJha\n",
      "HyperLorenz\n",
      "HyperLu\n",
      "HyperPang\n",
      "HyperQi\n",
      "HyperRossler\n",
      "HyperWang\n",
      "HyperXu\n",
      "HyperYan\n",
      "HyperYangChen\n",
      "IkedaDelay\n",
      "IsothermalChemical\n",
      "ItikBanksTumor\n",
      "JerkCircuit\n",
      "KawczynskiStrizhak\n",
      "Laser\n",
      "LiuChen\n",
      "Lorenz\n",
      "Lorenz84\n",
      "Lorenz96\n",
      "LorenzBounded\n",
      "LorenzCoupled\n",
      "LorenzStenflo\n",
      "LuChen\n",
      "LuChenCheng\n",
      "MacArthur\n",
      "MackeyGlass\n",
      "MooreSpiegel\n",
      "MultiChua\n",
      "NewtonLiepnik\n",
      "NoseHoover\n",
      "NuclearQuadrupole\n",
      "OscillatingFlow\n",
      "PanXuZhou\n",
      "PehlivanWei\n",
      "PiecewiseCircuit\n",
      "Qi\n",
      "QiChen\n",
      "RabinovichFabrikant\n",
      "RayleighBenard\n",
      "RikitakeDynamo\n",
      "Rossler\n",
      "Rucklidge\n",
      "Sakarya\n",
      "SaltonSea\n",
      "SanUmSrisuchinwong\n",
      "ScrollDelay\n",
      "ShimizuMorioka\n",
      "SprottA\n",
      "SprottB\n",
      "SprottC\n",
      "SprottD\n",
      "SprottDelay\n",
      "SprottE\n",
      "SprottF\n",
      "SprottG\n",
      "SprottH\n",
      "SprottI\n",
      "SprottJ\n",
      "SprottJerk\n",
      "SprottK\n",
      "SprottL\n",
      "SprottM\n",
      "SprottMore\n",
      "SprottN\n",
      "SprottO\n",
      "SprottP\n",
      "SprottQ\n",
      "SprottR\n",
      "SprottS\n",
      "SprottTorus\n",
      "StickSlipOscillator\n",
      "SwingingAtwood\n",
      "Thomas\n",
      "ThomasLabyrinth\n",
      "Torus\n",
      "Tsucs2\n",
      "TurchinHanski\n",
      "VallisElNino\n",
      "VossDelay\n",
      "WangSun\n",
      "WindmiReduced\n",
      "YuWang\n",
      "YuWang2\n",
      "ZhouChen\n",
      "Aizawa\n",
      "AnishchenkoAstakhov\n",
      "Arneodo\n",
      "ArnoldBeltramiChildress\n",
      "ArnoldWeb\n",
      "BeerRNN\n",
      "BelousovZhabotinsky\n",
      "BickleyJet\n",
      "Blasius\n",
      "BlinkingRotlet\n",
      "BlinkingVortex\n",
      "Bouali\n",
      "Bouali2\n",
      "BurkeShaw\n",
      "CaTwoPlus\n",
      "CaTwoPlusQuasiperiodic\n",
      "CellCycle\n",
      "CellularNeuralNetwork\n",
      "Chen\n",
      "ChenLee\n",
      "Chua\n",
      "CircadianRhythm\n",
      "CoevolvingPredatorPrey\n",
      "Colpitts\n",
      "Coullet\n",
      "Dadras\n",
      "DequanLi\n",
      "DoubleGyre\n",
      "DoublePendulum\n",
      "Duffing\n",
      "ExcitableCell\n",
      "Finance\n",
      "FluidTrampoline\n",
      "ForcedBrusselator\n",
      "ForcedFitzHughNagumo\n",
      "ForcedVanDerPol\n",
      "GenesioTesi\n",
      "GuckenheimerHolmes\n",
      "Hadley\n",
      "Halvorsen\n",
      "HastingsPowell\n",
      "HenonHeiles\n",
      "HindmarshRose\n",
      "Hopfield\n",
      "HyperBao\n",
      "HyperCai\n",
      "HyperJha\n",
      "HyperLorenz\n",
      "HyperLu\n",
      "HyperPang\n",
      "HyperQi\n",
      "HyperRossler\n",
      "HyperWang\n",
      "HyperXu\n",
      "HyperYan\n",
      "HyperYangChen\n",
      "IkedaDelay\n",
      "IsothermalChemical\n",
      "ItikBanksTumor\n",
      "JerkCircuit\n",
      "KawczynskiStrizhak\n",
      "Laser\n",
      "LiuChen\n",
      "Lorenz\n",
      "Lorenz84\n",
      "Lorenz96\n",
      "LorenzBounded\n",
      "LorenzCoupled\n",
      "LorenzStenflo\n",
      "LuChen\n",
      "LuChenCheng\n",
      "MacArthur\n",
      "MackeyGlass\n",
      "MooreSpiegel\n",
      "MultiChua\n",
      "NewtonLiepnik\n",
      "NoseHoover\n",
      "NuclearQuadrupole\n",
      "OscillatingFlow\n",
      "PanXuZhou\n",
      "PehlivanWei\n",
      "PiecewiseCircuit\n",
      "Qi\n",
      "QiChen\n",
      "RabinovichFabrikant\n",
      "RayleighBenard\n",
      "RikitakeDynamo\n",
      "Rossler\n",
      "Rucklidge\n",
      "Sakarya\n",
      "SaltonSea\n",
      "SanUmSrisuchinwong\n",
      "ScrollDelay\n",
      "ShimizuMorioka\n",
      "SprottA\n",
      "SprottB\n",
      "SprottC\n",
      "SprottD\n",
      "SprottDelay\n",
      "SprottE\n",
      "SprottF\n",
      "SprottG\n",
      "SprottH\n",
      "SprottI\n",
      "SprottJ\n",
      "SprottJerk\n",
      "SprottK\n",
      "SprottL\n",
      "SprottM\n",
      "SprottMore\n",
      "SprottN\n",
      "SprottO\n",
      "SprottP\n",
      "SprottQ\n",
      "SprottR\n",
      "SprottS\n",
      "SprottTorus\n",
      "StickSlipOscillator\n",
      "SwingingAtwood\n",
      "Thomas\n",
      "ThomasLabyrinth\n",
      "Torus\n",
      "Tsucs2\n",
      "TurchinHanski\n",
      "VallisElNino\n",
      "VossDelay\n",
      "WangSun\n",
      "WindmiReduced\n",
      "YuWang\n",
      "YuWang2\n",
      "ZhouChen\n",
      "Aizawa\n",
      "AnishchenkoAstakhov\n",
      "Arneodo\n",
      "ArnoldBeltramiChildress\n",
      "ArnoldWeb\n",
      "BeerRNN\n",
      "BelousovZhabotinsky\n",
      "BickleyJet\n",
      "Blasius\n",
      "BlinkingRotlet\n",
      "BlinkingVortex\n",
      "Bouali\n",
      "Bouali2\n",
      "BurkeShaw\n",
      "CaTwoPlus\n",
      "CaTwoPlusQuasiperiodic\n",
      "CellCycle\n",
      "CellularNeuralNetwork\n",
      "Chen\n",
      "ChenLee\n",
      "Chua\n",
      "CircadianRhythm\n",
      "CoevolvingPredatorPrey\n",
      "Colpitts\n",
      "Coullet\n",
      "Dadras\n",
      "DequanLi\n",
      "DoubleGyre\n",
      "DoublePendulum\n",
      "Duffing\n",
      "ExcitableCell\n",
      "Finance\n",
      "FluidTrampoline\n",
      "ForcedBrusselator\n",
      "ForcedFitzHughNagumo\n",
      "ForcedVanDerPol\n",
      "GenesioTesi\n",
      "GuckenheimerHolmes\n",
      "Hadley\n",
      "Halvorsen\n",
      "HastingsPowell\n",
      "HenonHeiles\n",
      "HindmarshRose\n",
      "Hopfield\n",
      "HyperBao\n",
      "HyperCai\n",
      "HyperJha\n",
      "HyperLorenz\n",
      "HyperLu\n",
      "HyperPang\n",
      "HyperQi\n",
      "HyperRossler\n",
      "HyperWang\n",
      "HyperXu\n",
      "HyperYan\n",
      "HyperYangChen\n",
      "IkedaDelay\n",
      "IsothermalChemical\n",
      "ItikBanksTumor\n",
      "JerkCircuit\n",
      "KawczynskiStrizhak\n",
      "Laser\n",
      "LiuChen\n",
      "Lorenz\n",
      "Lorenz84\n",
      "Lorenz96\n",
      "LorenzBounded\n",
      "LorenzCoupled\n",
      "LorenzStenflo\n",
      "LuChen\n",
      "LuChenCheng\n",
      "MacArthur\n",
      "MackeyGlass\n",
      "MooreSpiegel\n",
      "MultiChua\n",
      "NewtonLiepnik\n",
      "NoseHoover\n",
      "NuclearQuadrupole\n",
      "OscillatingFlow\n",
      "PanXuZhou\n",
      "PehlivanWei\n",
      "PiecewiseCircuit\n",
      "Qi\n",
      "QiChen\n",
      "RabinovichFabrikant\n",
      "RayleighBenard\n",
      "RikitakeDynamo\n",
      "Rossler\n",
      "Rucklidge\n",
      "Sakarya\n",
      "SaltonSea\n",
      "SanUmSrisuchinwong\n",
      "ScrollDelay\n",
      "ShimizuMorioka\n",
      "SprottA\n",
      "SprottB\n",
      "SprottC\n",
      "SprottD\n",
      "SprottDelay\n",
      "SprottE\n",
      "SprottF\n",
      "SprottG\n",
      "SprottH\n",
      "SprottI\n",
      "SprottJ\n",
      "SprottJerk\n",
      "SprottK\n",
      "SprottL\n",
      "SprottM\n",
      "SprottMore\n",
      "SprottN\n",
      "SprottO\n",
      "SprottP\n",
      "SprottQ\n",
      "SprottR\n",
      "SprottS\n",
      "SprottTorus\n",
      "StickSlipOscillator\n",
      "SwingingAtwood\n",
      "Thomas\n",
      "ThomasLabyrinth\n",
      "Torus\n",
      "Tsucs2\n",
      "TurchinHanski\n",
      "VallisElNino\n",
      "VossDelay\n",
      "WangSun\n",
      "WindmiReduced\n",
      "YuWang\n",
      "YuWang2\n",
      "ZhouChen\n",
      "Aizawa\n",
      "AnishchenkoAstakhov\n",
      "Arneodo\n",
      "ArnoldBeltramiChildress\n",
      "ArnoldWeb\n",
      "BeerRNN\n",
      "BelousovZhabotinsky\n",
      "BickleyJet\n",
      "Blasius\n",
      "BlinkingRotlet\n",
      "BlinkingVortex\n",
      "Bouali\n",
      "Bouali2\n",
      "BurkeShaw\n",
      "CaTwoPlus\n",
      "CaTwoPlusQuasiperiodic\n",
      "CellCycle\n",
      "CellularNeuralNetwork\n",
      "Chen\n",
      "ChenLee\n",
      "Chua\n",
      "CircadianRhythm\n",
      "CoevolvingPredatorPrey\n",
      "Colpitts\n",
      "Coullet\n",
      "Dadras\n",
      "DequanLi\n",
      "DoubleGyre\n",
      "DoublePendulum\n",
      "Duffing\n",
      "ExcitableCell\n",
      "Finance\n",
      "FluidTrampoline\n",
      "ForcedBrusselator\n",
      "ForcedFitzHughNagumo\n",
      "ForcedVanDerPol\n",
      "GenesioTesi\n",
      "GuckenheimerHolmes\n",
      "Hadley\n",
      "Halvorsen\n",
      "HastingsPowell\n",
      "HenonHeiles\n",
      "HindmarshRose\n",
      "Hopfield\n",
      "HyperBao\n",
      "HyperCai\n",
      "HyperJha\n",
      "HyperLorenz\n",
      "HyperLu\n",
      "HyperPang\n",
      "HyperQi\n",
      "HyperRossler\n",
      "HyperWang\n",
      "HyperXu\n",
      "HyperYan\n",
      "HyperYangChen\n",
      "IkedaDelay\n",
      "IsothermalChemical\n",
      "ItikBanksTumor\n",
      "JerkCircuit\n",
      "KawczynskiStrizhak\n",
      "Laser\n",
      "LiuChen\n",
      "Lorenz\n",
      "Lorenz84\n",
      "Lorenz96\n",
      "LorenzBounded\n",
      "LorenzCoupled\n",
      "LorenzStenflo\n",
      "LuChen\n",
      "LuChenCheng\n",
      "MacArthur\n",
      "MackeyGlass\n",
      "MooreSpiegel\n",
      "MultiChua\n",
      "NewtonLiepnik\n",
      "NoseHoover\n",
      "NuclearQuadrupole\n",
      "OscillatingFlow\n",
      "PanXuZhou\n",
      "PehlivanWei\n",
      "PiecewiseCircuit\n",
      "Qi\n",
      "QiChen\n",
      "RabinovichFabrikant\n",
      "RayleighBenard\n",
      "RikitakeDynamo\n",
      "Rossler\n",
      "Rucklidge\n",
      "Sakarya\n",
      "SaltonSea\n",
      "SanUmSrisuchinwong\n",
      "ScrollDelay\n",
      "ShimizuMorioka\n",
      "SprottA\n",
      "SprottB\n",
      "SprottC\n",
      "SprottD\n",
      "SprottDelay\n",
      "SprottE\n",
      "SprottF\n",
      "SprottG\n",
      "SprottH\n",
      "SprottI\n",
      "SprottJ\n",
      "SprottJerk\n",
      "SprottK\n",
      "SprottL\n",
      "SprottM\n",
      "SprottMore\n",
      "SprottN\n",
      "SprottO\n",
      "SprottP\n",
      "SprottQ\n",
      "SprottR\n",
      "SprottS\n",
      "SprottTorus\n",
      "StickSlipOscillator\n",
      "SwingingAtwood\n",
      "Thomas\n",
      "ThomasLabyrinth\n",
      "Torus\n",
      "Tsucs2\n",
      "TurchinHanski\n",
      "VallisElNino\n",
      "VossDelay\n",
      "WangSun\n",
      "WindmiReduced\n",
      "YuWang\n",
      "YuWang2\n",
      "ZhouChen\n",
      "Aizawa\n",
      "AnishchenkoAstakhov\n",
      "Arneodo\n",
      "ArnoldBeltramiChildress\n",
      "ArnoldWeb\n",
      "BeerRNN\n",
      "BelousovZhabotinsky\n",
      "BickleyJet\n",
      "Blasius\n",
      "BlinkingRotlet\n",
      "BlinkingVortex\n",
      "Bouali\n",
      "Bouali2\n",
      "BurkeShaw\n",
      "CaTwoPlus\n",
      "CaTwoPlusQuasiperiodic\n",
      "CellCycle\n",
      "CellularNeuralNetwork\n",
      "Chen\n",
      "ChenLee\n",
      "Chua\n",
      "CircadianRhythm\n",
      "CoevolvingPredatorPrey\n",
      "Colpitts\n",
      "Coullet\n",
      "Dadras\n",
      "DequanLi\n",
      "DoubleGyre\n",
      "DoublePendulum\n",
      "Duffing\n",
      "ExcitableCell\n",
      "Finance\n",
      "FluidTrampoline\n",
      "ForcedBrusselator\n",
      "ForcedFitzHughNagumo\n",
      "ForcedVanDerPol\n",
      "GenesioTesi\n",
      "GuckenheimerHolmes\n",
      "Hadley\n",
      "Halvorsen\n",
      "HastingsPowell\n",
      "HenonHeiles\n",
      "HindmarshRose\n",
      "Hopfield\n",
      "HyperBao\n",
      "HyperCai\n",
      "HyperJha\n",
      "HyperLorenz\n",
      "HyperLu\n",
      "HyperPang\n",
      "HyperQi\n",
      "HyperRossler\n",
      "HyperWang\n",
      "HyperXu\n",
      "HyperYan\n",
      "HyperYangChen\n",
      "IkedaDelay\n",
      "IsothermalChemical\n",
      "ItikBanksTumor\n",
      "JerkCircuit\n",
      "KawczynskiStrizhak\n",
      "Laser\n",
      "LiuChen\n",
      "Lorenz\n",
      "Lorenz84\n",
      "Lorenz96\n",
      "LorenzBounded\n",
      "LorenzCoupled\n",
      "LorenzStenflo\n",
      "LuChen\n",
      "LuChenCheng\n",
      "MacArthur\n",
      "MackeyGlass\n",
      "MooreSpiegel\n",
      "MultiChua\n",
      "NewtonLiepnik\n",
      "NoseHoover\n",
      "NuclearQuadrupole\n",
      "OscillatingFlow\n",
      "PanXuZhou\n",
      "PehlivanWei\n",
      "PiecewiseCircuit\n",
      "Qi\n",
      "QiChen\n",
      "RabinovichFabrikant\n",
      "RayleighBenard\n",
      "RikitakeDynamo\n",
      "Rossler\n",
      "Rucklidge\n",
      "Sakarya\n",
      "SaltonSea\n",
      "SanUmSrisuchinwong\n",
      "ScrollDelay\n",
      "ShimizuMorioka\n",
      "SprottA\n",
      "SprottB\n",
      "SprottC\n",
      "SprottD\n",
      "SprottDelay\n",
      "SprottE\n",
      "SprottF\n",
      "SprottG\n",
      "SprottH\n",
      "SprottI\n",
      "SprottJ\n",
      "SprottJerk\n",
      "SprottK\n",
      "SprottL\n",
      "SprottM\n",
      "SprottMore\n",
      "SprottN\n",
      "SprottO\n",
      "SprottP\n",
      "SprottQ\n",
      "SprottR\n",
      "SprottS\n",
      "SprottTorus\n",
      "StickSlipOscillator\n",
      "SwingingAtwood\n",
      "Thomas\n",
      "ThomasLabyrinth\n",
      "Torus\n",
      "Tsucs2\n",
      "TurchinHanski\n",
      "VallisElNino\n",
      "VossDelay\n",
      "WangSun\n",
      "WindmiReduced\n",
      "YuWang\n",
      "YuWang2\n",
      "ZhouChen\n"
     ]
    }
   ],
   "source": [
    "\n",
    "DATA_BASEPATH = \"../dysts/data/\"\n",
    "np.random.seed(0)\n",
    "\n",
    "# ts_type = \"multivariate\"\n",
    "# subset = \"train\"\n",
    "# pts_per_period = 15 # granularity 15 or 100\n",
    "# pts_per_period = 100 # granularity 15 or 100\n",
    "\n",
    "\n",
    "# num_periods = {\n",
    "#     \"large\": 100,\n",
    "#     \"train\": 10,\n",
    "#     \"val\": 2,\n",
    "#     \"test\": 2\n",
    "# }\n",
    "\n",
    "## iterate over uni/multi, train partition, and granularity\n",
    "# for (ts_type, subset, pts_per_period) in itertools.product(\n",
    "#                                                       [\"univariate\", \"multivariate\"], \n",
    "#                                                       [\"train\", \"val\", \"test\"], \n",
    "#                                                       [15, 100]\n",
    "#                                                     ):\n",
    "\n",
    "# for (ts_type, subset, pts_per_period) in [(\"univariate\", \"large\", 100)]:\n",
    "\n",
    "\n",
    "num_periods = {\n",
    "    \"train\": 12,\n",
    "    \"test\": 12\n",
    "}\n",
    "for (ts_type, subset, pts_per_period) in itertools.product(\n",
    "                                                      [\"univariate\", \"multivariate\"], \n",
    "                                                      [\"train\", \"test\"], \n",
    "                                                      [15, 100]\n",
    "                                                    ):\n",
    "    output_path = os.path.join(DATA_BASEPATH, f\"{subset}_{ts_type}__pts_per_period_{pts_per_period}__periods_{num_periods[subset]}.json\")\n",
    "    dataset = dict()\n",
    "\n",
    "    for i, name in enumerate(get_attractor_list()):\n",
    "        print(name)\n",
    "        dataset[name] = dict()\n",
    "        model = getattr(dysts.flows, name)()\n",
    "        # make initial conditions for train, val, test\n",
    "        [train_ic, val_ic, test_ic] = sample_initial_conditions(model, 3)\n",
    "\n",
    "        if subset == \"train\":\n",
    "            model.ic = train_ic\n",
    "        elif subset == \"val\":\n",
    "            model.ic = val_ic\n",
    "        elif subset == \"test\":\n",
    "            model.ic = test_ic\n",
    "        else:\n",
    "            pass\n",
    "        tpts, sol = model.make_trajectory(num_periods[subset] * pts_per_period, pts_per_period=pts_per_period, \n",
    "                                       resample=True, return_times=True)\n",
    "\n",
    "\n",
    "        if ts_type == \"univariate\":\n",
    "            values = sol[:, 0].tolist()\n",
    "        elif ts_type == \"multivariate\":\n",
    "            values = sol.tolist()\n",
    "        else:\n",
    "            warnings.warn(\"Specified time series type not \\\"univariate\\\" or \\\"multivariate\\\", falling back to univariate\")\n",
    "            values = sol[:, 0]\n",
    "\n",
    "        dataset[name][\"time\"] = tpts.tolist()\n",
    "        dataset[name][\"dt\"] = np.median(np.diff(tpts))\n",
    "\n",
    "        dataset[name][\"values\"] = values\n",
    "        with open(output_path, 'w') as f:\n",
    "            json.dump(dataset, f, indent=4)    \n",
    "    \n",
    "#     dataset[name][\"values\"] = 7\n",
    "    \n",
    "#     break\n",
    "#     with open(output_path_multi, 'w') as f:\n",
    "#         json.dump(dataset, f, indent=4)    "
   ]
  },
  {
   "cell_type": "code",
   "execution_count": null,
   "metadata": {},
   "outputs": [],
   "source": []
  },
  {
   "cell_type": "code",
   "execution_count": null,
   "metadata": {},
   "outputs": [],
   "source": []
  }
 ],
 "metadata": {
  "kernelspec": {
   "display_name": "Python 3",
   "language": "python",
   "name": "python3"
  },
  "language_info": {
   "codemirror_mode": {
    "name": "ipython",
    "version": 3
   },
   "file_extension": ".py",
   "mimetype": "text/x-python",
   "name": "python",
   "nbconvert_exporter": "python",
   "pygments_lexer": "ipython3",
   "version": "3.8.10"
  }
 },
 "nbformat": 4,
 "nbformat_minor": 4
}
