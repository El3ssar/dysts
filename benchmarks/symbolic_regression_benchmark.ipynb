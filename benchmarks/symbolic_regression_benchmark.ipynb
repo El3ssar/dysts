{
 "cells": [
  {
   "cell_type": "code",
   "execution_count": 2,
   "metadata": {},
   "outputs": [],
   "source": [
    "import sys\n",
    "\n",
    "import matplotlib.pyplot as plt\n",
    "import json\n",
    "\n",
    "import numpy as np\n",
    "\n",
    "import dysts\n",
    "from dysts.flows import *\n",
    "from dysts.base import *\n",
    "from dysts.utils import *\n",
    "from dysts.analysis import *\n",
    "\n",
    "# try:\n",
    "#     from private.lyap import lyap_r, lyap_e, corr_dim\n",
    "# except:\n",
    "#     from nolds import lyap_r, lyap_e, corr_dim\n",
    "\n",
    "%matplotlib inline\n",
    "%load_ext autoreload\n",
    "%autoreload 2"
   ]
  },
  {
   "cell_type": "code",
   "execution_count": 2,
   "metadata": {},
   "outputs": [],
   "source": [
    "\n",
    "# get data\n",
    "with open(\"./resources/symb_train_test_data.json\", \"r\") as file:\n",
    "    all_train_test = json.load(file)"
   ]
  },
  {
   "cell_type": "markdown",
   "metadata": {},
   "source": [
    "## Make training data"
   ]
  },
  {
   "cell_type": "code",
   "execution_count": null,
   "metadata": {},
   "outputs": [],
   "source": [
    "import sys\n",
    "import json\n",
    "import os\n",
    "import numpy as np\n",
    "\n",
    "\n",
    "from dysts.base import get_attractor_list\n",
    "from dysts.analysis import sample_initial_conditions\n",
    "import dysts.flows\n",
    "\n",
    "n_train = 150\n",
    "\n",
    "all_train_test = dict()\n",
    "for i, equation_name in enumerate(get_attractor_list()):\n",
    "    \n",
    "    all_train_test[equation_name] = dict()\n",
    "    model = getattr(dysts.flows, equation_name)()\n",
    "    \n",
    "    np.random.seed(0)\n",
    "    ic_train, ic_test = sample_initial_conditions(model, 2, traj_length=1000, pts_per_period=30)\n",
    "    \n",
    "    model.ic = ic_train\n",
    "    tvals, sol = model.make_trajectory(n_train, pts_per_period=15, resample=True, return_times=True, standardize=False)\n",
    "    dt = np.median(np.diff(tvals))\n",
    "    dsol = np.vstack([model.rhs(val, 0) for val in sol])# * dt\n",
    "    X_train, y_train = sol, dsol\n",
    "    t_train = tvals\n",
    "\n",
    "    model.ic = ic_test\n",
    "    tvals, sol = model.make_trajectory(n_train, pts_per_period=15, resample=True, return_times=True, standardize=False)\n",
    "    dt = np.median(np.diff(tvals))\n",
    "    dsol = np.vstack([model.rhs(val, 0) for val in sol])# * dt\n",
    "    X_test, y_test = sol, dsol\n",
    "    t_test = tvals\n",
    "    \n",
    "    all_train_test[equation_name][\"X_train\"] = X_train.tolist()\n",
    "    all_train_test[equation_name][\"X_test\"] = X_test.tolist()\n",
    "    all_train_test[equation_name][\"y_train\"] = y_train.tolist()\n",
    "    all_train_test[equation_name][\"y_test\"] = y_test.tolist()\n",
    "    all_train_test[equation_name][\"t_train\"] = t_train.tolist()\n",
    "    all_train_test[equation_name][\"t_test\"] = t_test.tolist()\n",
    "    \n",
    "    np.any(np.isnan(X_test)) or np.any(np.isnan(X_train))\n",
    "    \n",
    "# with open(\"./resources/symb_train_test_data.json\", 'w') as file:\n",
    "#     json.dump(all_train_test, file, indent=4)"
   ]
  },
  {
   "cell_type": "code",
   "execution_count": null,
   "metadata": {},
   "outputs": [],
   "source": [
    "pip install pysr\n",
    "\n",
    "\n",
    "# Learn equations\n",
    "equations = pysr(\n",
    "    X,\n",
    "    y,\n",
    "    niterations=5,\n",
    "    binary_operators=[\"+\", \"*\"],\n",
    "    unary_operators=[\n",
    "        \"cos\",\n",
    "        \"exp\",\n",
    "        \"sin\",  # Pre-defined library of operators (see docs)\n",
    "        \"inv(x) = 1/x\",  # Define your own operator! (Julia syntax)\n",
    "    ],\n",
    ")"
   ]
  },
  {
   "cell_type": "code",
   "execution_count": 4,
   "metadata": {},
   "outputs": [
    {
     "name": "stdout",
     "output_type": "stream",
     "text": [
      "Help on method fit in module dsr.task.regression.sklearn:\n",
      "\n",
      "fit(X, y) method of dsr.task.regression.sklearn.DeepSymbolicRegressor instance\n",
      "\n"
     ]
    }
   ],
   "source": [
    "help(model.fit)"
   ]
  },
  {
   "cell_type": "markdown",
   "metadata": {},
   "source": [
    "## Symbolic regression\n",
    "\n",
    "Available benchmarks\n",
    "\n",
    "+ Eureqa Python API (could not get this to work)\n",
    "+ PySR\n",
    "+ pySINDY\n",
    "+ AI Feynman 2.0\n",
    "+ Wolfram (only works on univariate problems)"
   ]
  },
  {
   "cell_type": "code",
   "execution_count": 13,
   "metadata": {},
   "outputs": [
    {
     "ename": "ModuleNotFoundError",
     "evalue": "No module named 'pysindy'",
     "output_type": "error",
     "traceback": [
      "\u001b[0;31m---------------------------------------------------------------------------\u001b[0m",
      "\u001b[0;31mModuleNotFoundError\u001b[0m                       Traceback (most recent call last)",
      "\u001b[0;32m<ipython-input-13-a99f36019750>\u001b[0m in \u001b[0;36m<module>\u001b[0;34m\u001b[0m\n\u001b[0;32m----> 1\u001b[0;31m \u001b[0;32mimport\u001b[0m \u001b[0mpysindy\u001b[0m \u001b[0;32mas\u001b[0m \u001b[0mps\u001b[0m\u001b[0;34m\u001b[0m\u001b[0;34m\u001b[0m\u001b[0m\n\u001b[0m",
      "\u001b[0;31mModuleNotFoundError\u001b[0m: No module named 'pysindy'"
     ]
    }
   ],
   "source": [
    "import pysindy as ps"
   ]
  },
  {
   "cell_type": "code",
   "execution_count": 1,
   "metadata": {},
   "outputs": [
    {
     "name": "stderr",
     "output_type": "stream",
     "text": [
      "/Users/williamgilpin/miniconda3/envs/symb2/lib/python3.7/site-packages/tensorflow/python/framework/dtypes.py:516: FutureWarning: Passing (type, 1) or '1type' as a synonym of type is deprecated; in a future version of numpy, it will be understood as (type, (1,)) / '(1,)type'.\n",
      "  _np_qint8 = np.dtype([(\"qint8\", np.int8, 1)])\n",
      "/Users/williamgilpin/miniconda3/envs/symb2/lib/python3.7/site-packages/tensorflow/python/framework/dtypes.py:517: FutureWarning: Passing (type, 1) or '1type' as a synonym of type is deprecated; in a future version of numpy, it will be understood as (type, (1,)) / '(1,)type'.\n",
      "  _np_quint8 = np.dtype([(\"quint8\", np.uint8, 1)])\n",
      "/Users/williamgilpin/miniconda3/envs/symb2/lib/python3.7/site-packages/tensorflow/python/framework/dtypes.py:518: FutureWarning: Passing (type, 1) or '1type' as a synonym of type is deprecated; in a future version of numpy, it will be understood as (type, (1,)) / '(1,)type'.\n",
      "  _np_qint16 = np.dtype([(\"qint16\", np.int16, 1)])\n",
      "/Users/williamgilpin/miniconda3/envs/symb2/lib/python3.7/site-packages/tensorflow/python/framework/dtypes.py:519: FutureWarning: Passing (type, 1) or '1type' as a synonym of type is deprecated; in a future version of numpy, it will be understood as (type, (1,)) / '(1,)type'.\n",
      "  _np_quint16 = np.dtype([(\"quint16\", np.uint16, 1)])\n",
      "/Users/williamgilpin/miniconda3/envs/symb2/lib/python3.7/site-packages/tensorflow/python/framework/dtypes.py:520: FutureWarning: Passing (type, 1) or '1type' as a synonym of type is deprecated; in a future version of numpy, it will be understood as (type, (1,)) / '(1,)type'.\n",
      "  _np_qint32 = np.dtype([(\"qint32\", np.int32, 1)])\n",
      "/Users/williamgilpin/miniconda3/envs/symb2/lib/python3.7/site-packages/tensorflow/python/framework/dtypes.py:525: FutureWarning: Passing (type, 1) or '1type' as a synonym of type is deprecated; in a future version of numpy, it will be understood as (type, (1,)) / '(1,)type'.\n",
      "  np_resource = np.dtype([(\"resource\", np.ubyte, 1)])\n"
     ]
    },
    {
     "name": "stdout",
     "output_type": "stream",
     "text": [
      "WARNING:tensorflow:\n",
      "The TensorFlow contrib module will not be included in TensorFlow 2.0.\n",
      "For more information, please see:\n",
      "  * https://github.com/tensorflow/community/blob/master/rfcs/20180907-contrib-sunset.md\n",
      "  * https://github.com/tensorflow/addons\n",
      "  * https://github.com/tensorflow/io (for I/O related ops)\n",
      "If you depend on functionality not listed there, please file an issue.\n",
      "\n",
      "Aizawa\n"
     ]
    }
   ],
   "source": []
  },
  {
   "cell_type": "code",
   "execution_count": null,
   "metadata": {},
   "outputs": [],
   "source": [
    "## update cores"
   ]
  },
  {
   "cell_type": "code",
   "execution_count": 47,
   "metadata": {},
   "outputs": [],
   "source": [
    "dd = dict()\n",
    "\n",
    "dd.update({\"tt\" : 7})"
   ]
  },
  {
   "cell_type": "code",
   "execution_count": 48,
   "metadata": {},
   "outputs": [
    {
     "data": {
      "text/plain": [
       "{'tt': 7}"
      ]
     },
     "execution_count": 48,
     "metadata": {},
     "output_type": "execute_result"
    }
   ],
   "source": [
    "dd"
   ]
  },
  {
   "cell_type": "code",
   "execution_count": 18,
   "metadata": {},
   "outputs": [
    {
     "data": {
      "text/plain": [
       "(150, 3)"
      ]
     },
     "execution_count": 18,
     "metadata": {},
     "output_type": "execute_result"
    }
   ],
   "source": [
    "X_train.shape"
   ]
  },
  {
   "cell_type": "code",
   "execution_count": 19,
   "metadata": {},
   "outputs": [
    {
     "data": {
      "text/plain": [
       "(150, 3)"
      ]
     },
     "execution_count": 19,
     "metadata": {},
     "output_type": "execute_result"
    }
   ],
   "source": [
    "y_train.shape"
   ]
  },
  {
   "cell_type": "code",
   "execution_count": 60,
   "metadata": {},
   "outputs": [
    {
     "data": {
      "image/png": "[encoded data removed]",
      "text/plain": [
       "<Figure size 432x288 with 1 Axes>"
      ]
     },
     "metadata": {
      "needs_background": "light"
     },
     "output_type": "display_data"
    },
    {
     "data": {
      "image/png": "[encoded data removed]",
      "text/plain": [
       "<Figure size 432x288 with 1 Axes>"
      ]
     },
     "metadata": {
      "needs_background": "light"
     },
     "output_type": "display_data"
    },
    {
     "data": {
      "image/png": "[encoded data removed]",
      "text/plain": [
       "<Figure size 432x288 with 1 Axes>"
      ]
     },
     "metadata": {
      "needs_background": "light"
     },
     "output_type": "display_data"
    }
   ],
   "source": [
    "score_vals = np.array([(sym_scores[item][\"SINDY-poly\"], sym_scores[item][\"SINDY-fourier\"]) for item in sym_scores])\n",
    "\n",
    "plt.figure()\n",
    "plt.hist(score_vals[:, 0])\n",
    "\n",
    "plt.figure()\n",
    "plt.hist(score_vals[:, 1])\n",
    "\n",
    "plt.figure()\n",
    "plt.plot(*score_vals.T, '.');"
   ]
  },
  {
   "cell_type": "code",
   "execution_count": 75,
   "metadata": {},
   "outputs": [
    {
     "data": {
      "text/plain": [
       "[<matplotlib.lines.Line2D at 0x7fa958c25a90>]"
      ]
     },
     "execution_count": 75,
     "metadata": {},
     "output_type": "execute_result"
    },
    {
     "data": {
      "image/png": "[encoded data removed]",
      "text/plain": [
       "<Figure size 432x288 with 1 Axes>"
      ]
     },
     "metadata": {
      "needs_background": "light"
     },
     "output_type": "display_data"
    }
   ],
   "source": [
    "plt.plot(y_train[:, 1])"
   ]
  },
  {
   "cell_type": "code",
   "execution_count": 43,
   "metadata": {},
   "outputs": [],
   "source": [
    "from pysr import pysr, best_callable\n",
    "\n",
    "operator_list = [\n",
    "            \"cos\",\n",
    "            \"exp\",\n",
    "            \"sin\",\n",
    "            \"log\",\n",
    "            \"tanh\",\n",
    "            \"inv(x) = 1/x\",\n",
    "        ]\n",
    "# base operators +, −, ×, ÷,sin, cos, exp, log, x\n",
    "pysr_opts = {\n",
    "    \"populations\" : 3,  # number of workers, defaults to 20\n",
    "    \"niterations\" : 5,\n",
    "    \"procs\": 1, # number of threads\n",
    "    \"delete_tempfiles\" : True,\n",
    "    \"verbosity\": 0,\n",
    "    \"unary_operators\" : operator_list,\n",
    "    \"binary_operators\" : [\"+\", \"*\", \"÷\", \"-\"]\n",
    "}\n",
    "\n",
    "models = pysr(\n",
    "    X_train[:10],\n",
    "    y_train[:10, i],\n",
    "    **pysr_opts\n",
    ")\n",
    "# print(best(equations))\n",
    "\n",
    "y_test_pred = best_callable(models)(X_test)\n",
    "# plt.plot(best_callable(equations)(y_test))\n"
   ]
  },
  {
   "cell_type": "code",
   "execution_count": null,
   "metadata": {},
   "outputs": [],
   "source": []
  },
  {
   "cell_type": "code",
   "execution_count": 39,
   "metadata": {},
   "outputs": [],
   "source": [
    "# try 100 points"
   ]
  },
  {
   "cell_type": "code",
   "execution_count": 45,
   "metadata": {},
   "outputs": [
    {
     "data": {
      "text/plain": [
       "[<matplotlib.lines.Line2D at 0x7fe7b85df590>]"
      ]
     },
     "execution_count": 45,
     "metadata": {},
     "output_type": "execute_result"
    },
    {
     "data": {
      "image/png": "[encoded data removed]",
      "text/plain": [
       "<Figure size 432x288 with 1 Axes>"
      ]
     },
     "metadata": {
      "needs_background": "light"
     },
     "output_type": "display_data"
    }
   ],
   "source": [
    "import matplotlib.pyplot as plt\n",
    "%matplotlib inline\n",
    "\n",
    "plt.plot(best_callable(equations)(X_test))\n",
    "plt.plot(y_test[:, i])"
   ]
  },
  {
   "cell_type": "code",
   "execution_count": 42,
   "metadata": {},
   "outputs": [
    {
     "data": {
      "text/plain": [
       "[<matplotlib.lines.Line2D at 0x7fe759761b90>]"
      ]
     },
     "execution_count": 42,
     "metadata": {},
     "output_type": "execute_result"
    },
    {
     "data": {
      "image/png": "[encoded data removed]",
      "text/plain": [
       "<Figure size 432x288 with 1 Axes>"
      ]
     },
     "metadata": {
      "needs_background": "light"
     },
     "output_type": "display_data"
    }
   ],
   "source": [
    "import matplotlib.pyplot as plt\n",
    "%matplotlib inline\n",
    "\n",
    "plt.plot(best_callable(equations)(X_test))\n",
    "plt.plot(y_test[:, i])"
   ]
  },
  {
   "cell_type": "code",
   "execution_count": 29,
   "metadata": {},
   "outputs": [
    {
     "data": {
      "text/plain": [
       "3    PySRFunction(X=>x0 - 3.5865989*x1)\n",
       "Name: lambda_format, dtype: object"
      ]
     },
     "execution_count": 29,
     "metadata": {},
     "output_type": "execute_result"
    }
   ],
   "source": [
    "equations[equations.score == equations.score.max()][\"lambda_format\"]"
   ]
  },
  {
   "cell_type": "code",
   "execution_count": 25,
   "metadata": {},
   "outputs": [
    {
     "data": {
      "text/plain": [
       "0    0.000000\n",
       "1    1.236611\n",
       "2    0.037664\n",
       "3    4.657180\n",
       "4    0.082358\n",
       "5    0.396391\n",
       "6    0.006367\n",
       "7    0.017575\n",
       "Name: score, dtype: float64"
      ]
     },
     "execution_count": 25,
     "metadata": {},
     "output_type": "execute_result"
    }
   ],
   "source": [
    "equations[\"score\"]"
   ]
  },
  {
   "cell_type": "code",
   "execution_count": 23,
   "metadata": {},
   "outputs": [
    {
     "data": {
      "text/html": [
       "<div>\n",
       "<style scoped>\n",
       "    .dataframe tbody tr th:only-of-type {\n",
       "        vertical-align: middle;\n",
       "    }\n",
       "\n",
       "    .dataframe tbody tr th {\n",
       "        vertical-align: top;\n",
       "    }\n",
       "\n",
       "    .dataframe thead th {\n",
       "        text-align: right;\n",
       "    }\n",
       "</style>\n",
       "<table border=\"1\" class=\"dataframe\">\n",
       "  <thead>\n",
       "    <tr style=\"text-align: right;\">\n",
       "      <th></th>\n",
       "      <th>Complexity</th>\n",
       "      <th>MSE</th>\n",
       "      <th>score</th>\n",
       "      <th>Equation</th>\n",
       "      <th>sympy_format</th>\n",
       "      <th>lambda_format</th>\n",
       "    </tr>\n",
       "  </thead>\n",
       "  <tbody>\n",
       "    <tr>\n",
       "      <th>0</th>\n",
       "      <td>1</td>\n",
       "      <td>2.714743</td>\n",
       "      <td>0.000000</td>\n",
       "      <td>0.18005764</td>\n",
       "      <td>0.180057640000000</td>\n",
       "      <td>PySRFunction(X=&gt;0.180057640000000)</td>\n",
       "    </tr>\n",
       "    <tr>\n",
       "      <th>1</th>\n",
       "      <td>3</td>\n",
       "      <td>0.228887</td>\n",
       "      <td>1.236611</td>\n",
       "      <td>(x1 * -3.2937198)</td>\n",
       "      <td>-3.2937198*x1</td>\n",
       "      <td>PySRFunction(X=&gt;-3.2937198*x1)</td>\n",
       "    </tr>\n",
       "    <tr>\n",
       "      <th>2</th>\n",
       "      <td>4</td>\n",
       "      <td>0.220427</td>\n",
       "      <td>0.037664</td>\n",
       "      <td>(sin(x1) * -3.5874171)</td>\n",
       "      <td>-3.5874171*sin(x1)</td>\n",
       "      <td>PySRFunction(X=&gt;-3.5874171*sin(x1))</td>\n",
       "    </tr>\n",
       "    <tr>\n",
       "      <th>3</th>\n",
       "      <td>5</td>\n",
       "      <td>0.002093</td>\n",
       "      <td>4.657180</td>\n",
       "      <td>((x1 * -3.5865989) + x0)</td>\n",
       "      <td>x0 - 3.5865989*x1</td>\n",
       "      <td>PySRFunction(X=&gt;x0 - 3.5865989*x1)</td>\n",
       "    </tr>\n",
       "    <tr>\n",
       "      <th>4</th>\n",
       "      <td>6</td>\n",
       "      <td>0.001927</td>\n",
       "      <td>0.082358</td>\n",
       "      <td>((x1 * -3.5550137) + sin(x0))</td>\n",
       "      <td>-3.5550137*x1 + sin(x0)</td>\n",
       "      <td>PySRFunction(X=&gt;-3.5550137*x1 + sin(x0))</td>\n",
       "    </tr>\n",
       "    <tr>\n",
       "      <th>5</th>\n",
       "      <td>7</td>\n",
       "      <td>0.001296</td>\n",
       "      <td>0.396391</td>\n",
       "      <td>(((x1 * -3.5874171) + -0.028219834) + x0)</td>\n",
       "      <td>x0 - 3.5874171*x1 - 0.028219834</td>\n",
       "      <td>PySRFunction(X=&gt;x0 - 3.5874171*x1 - 0.028219834)</td>\n",
       "    </tr>\n",
       "    <tr>\n",
       "      <th>6</th>\n",
       "      <td>12</td>\n",
       "      <td>0.001256</td>\n",
       "      <td>0.006367</td>\n",
       "      <td>(inv(inv(x1) * -0.24654017) + ((tanh(x1) * 0.5...</td>\n",
       "      <td>x0 + inv(-0.24654017*inv(x1)) + 0.55652875*tan...</td>\n",
       "      <td>PySRFunction(X=&gt;x0 + inv(-0.24654017*inv(x1)) ...</td>\n",
       "    </tr>\n",
       "    <tr>\n",
       "      <th>7</th>\n",
       "      <td>13</td>\n",
       "      <td>0.001234</td>\n",
       "      <td>0.017575</td>\n",
       "      <td>(inv(inv(x1) * -0.24564007) + ((sin(sin(x1)) *...</td>\n",
       "      <td>x0 + inv(-0.24564007*inv(x1)) + 0.5780935*sin(...</td>\n",
       "      <td>PySRFunction(X=&gt;x0 + inv(-0.24564007*inv(x1)) ...</td>\n",
       "    </tr>\n",
       "  </tbody>\n",
       "</table>\n",
       "</div>"
      ],
      "text/plain": [
       "   Complexity       MSE     score  \\\n",
       "0           1  2.714743  0.000000   \n",
       "1           3  0.228887  1.236611   \n",
       "2           4  0.220427  0.037664   \n",
       "3           5  0.002093  4.657180   \n",
       "4           6  0.001927  0.082358   \n",
       "5           7  0.001296  0.396391   \n",
       "6          12  0.001256  0.006367   \n",
       "7          13  0.001234  0.017575   \n",
       "\n",
       "                                            Equation  \\\n",
       "0                                         0.18005764   \n",
       "1                                  (x1 * -3.2937198)   \n",
       "2                             (sin(x1) * -3.5874171)   \n",
       "3                           ((x1 * -3.5865989) + x0)   \n",
       "4                      ((x1 * -3.5550137) + sin(x0))   \n",
       "5          (((x1 * -3.5874171) + -0.028219834) + x0)   \n",
       "6  (inv(inv(x1) * -0.24654017) + ((tanh(x1) * 0.5...   \n",
       "7  (inv(inv(x1) * -0.24564007) + ((sin(sin(x1)) *...   \n",
       "\n",
       "                                        sympy_format  \\\n",
       "0                                  0.180057640000000   \n",
       "1                                      -3.2937198*x1   \n",
       "2                                 -3.5874171*sin(x1)   \n",
       "3                                  x0 - 3.5865989*x1   \n",
       "4                            -3.5550137*x1 + sin(x0)   \n",
       "5                    x0 - 3.5874171*x1 - 0.028219834   \n",
       "6  x0 + inv(-0.24654017*inv(x1)) + 0.55652875*tan...   \n",
       "7  x0 + inv(-0.24564007*inv(x1)) + 0.5780935*sin(...   \n",
       "\n",
       "                                       lambda_format  \n",
       "0                 PySRFunction(X=>0.180057640000000)  \n",
       "1                     PySRFunction(X=>-3.2937198*x1)  \n",
       "2                PySRFunction(X=>-3.5874171*sin(x1))  \n",
       "3                 PySRFunction(X=>x0 - 3.5865989*x1)  \n",
       "4           PySRFunction(X=>-3.5550137*x1 + sin(x0))  \n",
       "5   PySRFunction(X=>x0 - 3.5874171*x1 - 0.028219834)  \n",
       "6  PySRFunction(X=>x0 + inv(-0.24654017*inv(x1)) ...  \n",
       "7  PySRFunction(X=>x0 + inv(-0.24564007*inv(x1)) ...  "
      ]
     },
     "execution_count": 23,
     "metadata": {},
     "output_type": "execute_result"
    }
   ],
   "source": [
    "equations#.lambda_format"
   ]
  },
  {
   "cell_type": "markdown",
   "metadata": {},
   "source": [
    "## nODEs"
   ]
  },
  {
   "cell_type": "code",
   "execution_count": 4,
   "metadata": {},
   "outputs": [
    {
     "data": {
      "text/plain": [
       "(150, 3)"
      ]
     },
     "execution_count": 4,
     "metadata": {},
     "output_type": "execute_result"
    }
   ],
   "source": [
    "y_train.shape"
   ]
  },
  {
   "cell_type": "code",
   "execution_count": null,
   "metadata": {},
   "outputs": [],
   "source": []
  },
  {
   "cell_type": "code",
   "execution_count": null,
   "metadata": {},
   "outputs": [],
   "source": []
  },
  {
   "cell_type": "code",
   "execution_count": null,
   "metadata": {},
   "outputs": [],
   "source": []
  },
  {
   "cell_type": "code",
   "execution_count": null,
   "metadata": {},
   "outputs": [],
   "source": []
  }
 ],
 "metadata": {
  "kernelspec": {
   "display_name": "Python 3",
   "language": "python",
   "name": "python3"
  },
  "language_info": {
   "codemirror_mode": {
    "name": "ipython",
    "version": 3
   },
   "file_extension": ".py",
   "mimetype": "text/x-python",
   "name": "python",
   "nbconvert_exporter": "python",
   "pygments_lexer": "ipython3",
   "version": "3.7.10"
  }
 },
 "nbformat": 4,
 "nbformat_minor": 4
}
