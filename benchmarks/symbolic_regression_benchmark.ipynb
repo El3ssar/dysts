{
 "cells": [
  {
   "cell_type": "code",
   "execution_count": 71,
   "metadata": {},
   "outputs": [
    {
     "name": "stdout",
     "output_type": "stream",
     "text": [
      "The autoreload extension is already loaded. To reload it, use:\n",
      "  %reload_ext autoreload\n"
     ]
    }
   ],
   "source": [
    "import sys\n",
    "\n",
    "import matplotlib.pyplot as plt\n",
    "import json\n",
    "\n",
    "import numpy as np\n",
    "import pandas as pd\n",
    "\n",
    "import dysts\n",
    "from dysts.flows import *\n",
    "from dysts.base import *\n",
    "from dysts.utils import *\n",
    "from dysts.analysis import *\n",
    "\n",
    "# try:\n",
    "#     from private.lyap import lyap_r, lyap_e, corr_dim\n",
    "# except:\n",
    "#     from nolds import lyap_r, lyap_e, corr_dim\n",
    "\n",
    "import degas as dg\n",
    "dg.set_style()\n",
    "\n",
    "%matplotlib inline\n",
    "%load_ext autoreload\n",
    "%autoreload 2"
   ]
  },
  {
   "cell_type": "code",
   "execution_count": 87,
   "metadata": {},
   "outputs": [],
   "source": [
    "# get data\n",
    "with open(\"results/symbolic_scores_sweep.json\", \"r\") as file:\n",
    "    data = json.load(file)\n",
    "    \n",
    "data = pd.DataFrame(data).transpose()"
   ]
  },
  {
   "cell_type": "code",
   "execution_count": 91,
   "metadata": {},
   "outputs": [],
   "source": [
    "attributes =  ['maximum_lyapunov_estimated', 'kaplan_yorke_dimension', 'pesin_entropy', 'correlation_dimension']"
   ]
  },
  {
   "cell_type": "code",
   "execution_count": 102,
   "metadata": {},
   "outputs": [
    {
     "data": {
      "text/plain": [
       "Index(['Aizawa', 'AnishchenkoAstakhov', 'Arneodo', 'ArnoldBeltramiChildress',\n",
       "       'ArnoldWeb', 'BeerRNN', 'BelousovZhabotinsky', 'BickleyJet', 'Blasius',\n",
       "       'BlinkingRotlet',\n",
       "       ...\n",
       "       'Torus', 'Tsucs2', 'TurchinHanski', 'VallisElNino', 'VossDelay',\n",
       "       'WangSun', 'WindmiReduced', 'YuWang', 'YuWang2', 'ZhouChen'],\n",
       "      dtype='object', length=131)"
      ]
     },
     "execution_count": 102,
     "metadata": {},
     "output_type": "execute_result"
    }
   ],
   "source": []
  },
  {
   "cell_type": "code",
   "execution_count": 125,
   "metadata": {},
   "outputs": [],
   "source": [
    "\n",
    "\n",
    "all_properties = dict()\n",
    "model_names = [\"SINDY-poly\", \"SINDY-fourier\", \"pySR\", \"DSR\"]\n",
    "attributes =  ['maximum_lyapunov_estimated', 'kaplan_yorke_dimension', 'pesin_entropy', 'correlation_dimension']\n",
    "for equation_name in data.index:\n",
    "    eq = getattr(dysts.flows, equation_name)()\n",
    "    attr_vals = [getattr(eq, item) for item in attributes]\n",
    "    \n",
    "    all_properties[equation_name] = dict(zip(attributes, attr_vals))\n",
    "all_properties = pd.DataFrame(all_properties).transpose()\n",
    "\n",
    "data = pd.merge(data, all_properties, how=\"outer\", left_index=True, right_index=True)\n",
    "\n",
    "#     try:\n",
    "        \n",
    "#         for model_name in data[equation_name]:\n",
    "#             if data[equation_name][model_name] is None:\n",
    "#                 data[equation_name][model_name] = np.nan\n",
    "#         all_vals.append((data[equation_name]['SINDY-poly'], data[equation_name]['SINDY-fourier'], data[equation_name]['pySR'], data[equation_name]['DSR']))\n",
    "\n",
    "        \n",
    "#         for attribute_name in attributes:\n",
    "#         all_properties.append(eq.multiscale_entropy)\n",
    "\n",
    "#     except:\n",
    "#         pass\n",
    "\n",
    "# all_vals = np.array(all_vals)"
   ]
  },
  {
   "cell_type": "code",
   "execution_count": 151,
   "metadata": {},
   "outputs": [
    {
     "data": {
      "text/plain": [
       "<AxesSubplot:>"
      ]
     },
     "execution_count": 151,
     "metadata": {},
     "output_type": "execute_result"
    },
    {
     "data": {
      "image/png": "[encoded data removed]",
      "text/plain": [
       "<Figure size 432x288 with 2 Axes>"
      ]
     },
     "metadata": {
      "needs_background": "light"
     },
     "output_type": "display_data"
    }
   ],
   "source": [
    "sns.heatmap(data[model_names + attributes].corr(method=\"pearson\"), vmin=0, vmax=1, cmap=\"mako\")"
   ]
  },
  {
   "cell_type": "code",
   "execution_count": 118,
   "metadata": {},
   "outputs": [
    {
     "data": {
      "text/plain": [
       "{'maximum_lyapunov_estimated': 0.5917259125455694,\n",
       " 'kaplan_yorke_dimension': 2.045920730005392,\n",
       " 'pesin_entropy': 0.5969734164748293,\n",
       " 'correlation_dimension': 1.6212203970681585}"
      ]
     },
     "execution_count": 118,
     "metadata": {},
     "output_type": "execute_result"
    }
   ],
   "source": [
    "dict(zip(attributes, attr_vals))"
   ]
  },
  {
   "cell_type": "code",
   "execution_count": 116,
   "metadata": {},
   "outputs": [
    {
     "data": {
      "text/html": [
       "<div>\n",
       "<style scoped>\n",
       "    .dataframe tbody tr th:only-of-type {\n",
       "        vertical-align: middle;\n",
       "    }\n",
       "\n",
       "    .dataframe tbody tr th {\n",
       "        vertical-align: top;\n",
       "    }\n",
       "\n",
       "    .dataframe thead th {\n",
       "        text-align: right;\n",
       "    }\n",
       "</style>\n",
       "<table border=\"1\" class=\"dataframe\">\n",
       "  <thead>\n",
       "    <tr style=\"text-align: right;\">\n",
       "      <th></th>\n",
       "      <th>Aizawa</th>\n",
       "      <th>AnishchenkoAstakhov</th>\n",
       "      <th>Arneodo</th>\n",
       "      <th>ArnoldBeltramiChildress</th>\n",
       "      <th>ArnoldWeb</th>\n",
       "      <th>BeerRNN</th>\n",
       "      <th>BelousovZhabotinsky</th>\n",
       "      <th>BickleyJet</th>\n",
       "      <th>Blasius</th>\n",
       "      <th>BlinkingRotlet</th>\n",
       "      <th>...</th>\n",
       "      <th>Torus</th>\n",
       "      <th>Tsucs2</th>\n",
       "      <th>TurchinHanski</th>\n",
       "      <th>VallisElNino</th>\n",
       "      <th>VossDelay</th>\n",
       "      <th>WangSun</th>\n",
       "      <th>WindmiReduced</th>\n",
       "      <th>YuWang</th>\n",
       "      <th>YuWang2</th>\n",
       "      <th>ZhouChen</th>\n",
       "    </tr>\n",
       "  </thead>\n",
       "  <tbody>\n",
       "    <tr>\n",
       "      <th>maximum_lyapunov_estimated</th>\n",
       "      <td>maximum_lyapunov_estimated</td>\n",
       "      <td>maximum_lyapunov_estimated</td>\n",
       "      <td>maximum_lyapunov_estimated</td>\n",
       "      <td>maximum_lyapunov_estimated</td>\n",
       "      <td>maximum_lyapunov_estimated</td>\n",
       "      <td>maximum_lyapunov_estimated</td>\n",
       "      <td>maximum_lyapunov_estimated</td>\n",
       "      <td>maximum_lyapunov_estimated</td>\n",
       "      <td>maximum_lyapunov_estimated</td>\n",
       "      <td>maximum_lyapunov_estimated</td>\n",
       "      <td>...</td>\n",
       "      <td>maximum_lyapunov_estimated</td>\n",
       "      <td>maximum_lyapunov_estimated</td>\n",
       "      <td>maximum_lyapunov_estimated</td>\n",
       "      <td>maximum_lyapunov_estimated</td>\n",
       "      <td>maximum_lyapunov_estimated</td>\n",
       "      <td>maximum_lyapunov_estimated</td>\n",
       "      <td>maximum_lyapunov_estimated</td>\n",
       "      <td>maximum_lyapunov_estimated</td>\n",
       "      <td>maximum_lyapunov_estimated</td>\n",
       "      <td>maximum_lyapunov_estimated</td>\n",
       "    </tr>\n",
       "    <tr>\n",
       "      <th>kaplan_yorke_dimension</th>\n",
       "      <td>kaplan_yorke_dimension</td>\n",
       "      <td>kaplan_yorke_dimension</td>\n",
       "      <td>kaplan_yorke_dimension</td>\n",
       "      <td>kaplan_yorke_dimension</td>\n",
       "      <td>kaplan_yorke_dimension</td>\n",
       "      <td>kaplan_yorke_dimension</td>\n",
       "      <td>kaplan_yorke_dimension</td>\n",
       "      <td>kaplan_yorke_dimension</td>\n",
       "      <td>kaplan_yorke_dimension</td>\n",
       "      <td>kaplan_yorke_dimension</td>\n",
       "      <td>...</td>\n",
       "      <td>kaplan_yorke_dimension</td>\n",
       "      <td>kaplan_yorke_dimension</td>\n",
       "      <td>kaplan_yorke_dimension</td>\n",
       "      <td>kaplan_yorke_dimension</td>\n",
       "      <td>kaplan_yorke_dimension</td>\n",
       "      <td>kaplan_yorke_dimension</td>\n",
       "      <td>kaplan_yorke_dimension</td>\n",
       "      <td>kaplan_yorke_dimension</td>\n",
       "      <td>kaplan_yorke_dimension</td>\n",
       "      <td>kaplan_yorke_dimension</td>\n",
       "    </tr>\n",
       "    <tr>\n",
       "      <th>pesin_entropy</th>\n",
       "      <td>pesin_entropy</td>\n",
       "      <td>pesin_entropy</td>\n",
       "      <td>pesin_entropy</td>\n",
       "      <td>pesin_entropy</td>\n",
       "      <td>pesin_entropy</td>\n",
       "      <td>pesin_entropy</td>\n",
       "      <td>pesin_entropy</td>\n",
       "      <td>pesin_entropy</td>\n",
       "      <td>pesin_entropy</td>\n",
       "      <td>pesin_entropy</td>\n",
       "      <td>...</td>\n",
       "      <td>pesin_entropy</td>\n",
       "      <td>pesin_entropy</td>\n",
       "      <td>pesin_entropy</td>\n",
       "      <td>pesin_entropy</td>\n",
       "      <td>pesin_entropy</td>\n",
       "      <td>pesin_entropy</td>\n",
       "      <td>pesin_entropy</td>\n",
       "      <td>pesin_entropy</td>\n",
       "      <td>pesin_entropy</td>\n",
       "      <td>pesin_entropy</td>\n",
       "    </tr>\n",
       "    <tr>\n",
       "      <th>correlation_dimension</th>\n",
       "      <td>correlation_dimension</td>\n",
       "      <td>correlation_dimension</td>\n",
       "      <td>correlation_dimension</td>\n",
       "      <td>correlation_dimension</td>\n",
       "      <td>correlation_dimension</td>\n",
       "      <td>correlation_dimension</td>\n",
       "      <td>correlation_dimension</td>\n",
       "      <td>correlation_dimension</td>\n",
       "      <td>correlation_dimension</td>\n",
       "      <td>correlation_dimension</td>\n",
       "      <td>...</td>\n",
       "      <td>correlation_dimension</td>\n",
       "      <td>correlation_dimension</td>\n",
       "      <td>correlation_dimension</td>\n",
       "      <td>correlation_dimension</td>\n",
       "      <td>correlation_dimension</td>\n",
       "      <td>correlation_dimension</td>\n",
       "      <td>correlation_dimension</td>\n",
       "      <td>correlation_dimension</td>\n",
       "      <td>correlation_dimension</td>\n",
       "      <td>correlation_dimension</td>\n",
       "    </tr>\n",
       "  </tbody>\n",
       "</table>\n",
       "<p>4 rows × 131 columns</p>\n",
       "</div>"
      ],
      "text/plain": [
       "                                                Aizawa  \\\n",
       "maximum_lyapunov_estimated  maximum_lyapunov_estimated   \n",
       "kaplan_yorke_dimension          kaplan_yorke_dimension   \n",
       "pesin_entropy                            pesin_entropy   \n",
       "correlation_dimension            correlation_dimension   \n",
       "\n",
       "                                   AnishchenkoAstakhov  \\\n",
       "maximum_lyapunov_estimated  maximum_lyapunov_estimated   \n",
       "kaplan_yorke_dimension          kaplan_yorke_dimension   \n",
       "pesin_entropy                            pesin_entropy   \n",
       "correlation_dimension            correlation_dimension   \n",
       "\n",
       "                                               Arneodo  \\\n",
       "maximum_lyapunov_estimated  maximum_lyapunov_estimated   \n",
       "kaplan_yorke_dimension          kaplan_yorke_dimension   \n",
       "pesin_entropy                            pesin_entropy   \n",
       "correlation_dimension            correlation_dimension   \n",
       "\n",
       "                               ArnoldBeltramiChildress  \\\n",
       "maximum_lyapunov_estimated  maximum_lyapunov_estimated   \n",
       "kaplan_yorke_dimension          kaplan_yorke_dimension   \n",
       "pesin_entropy                            pesin_entropy   \n",
       "correlation_dimension            correlation_dimension   \n",
       "\n",
       "                                             ArnoldWeb  \\\n",
       "maximum_lyapunov_estimated  maximum_lyapunov_estimated   \n",
       "kaplan_yorke_dimension          kaplan_yorke_dimension   \n",
       "pesin_entropy                            pesin_entropy   \n",
       "correlation_dimension            correlation_dimension   \n",
       "\n",
       "                                               BeerRNN  \\\n",
       "maximum_lyapunov_estimated  maximum_lyapunov_estimated   \n",
       "kaplan_yorke_dimension          kaplan_yorke_dimension   \n",
       "pesin_entropy                            pesin_entropy   \n",
       "correlation_dimension            correlation_dimension   \n",
       "\n",
       "                                   BelousovZhabotinsky  \\\n",
       "maximum_lyapunov_estimated  maximum_lyapunov_estimated   \n",
       "kaplan_yorke_dimension          kaplan_yorke_dimension   \n",
       "pesin_entropy                            pesin_entropy   \n",
       "correlation_dimension            correlation_dimension   \n",
       "\n",
       "                                            BickleyJet  \\\n",
       "maximum_lyapunov_estimated  maximum_lyapunov_estimated   \n",
       "kaplan_yorke_dimension          kaplan_yorke_dimension   \n",
       "pesin_entropy                            pesin_entropy   \n",
       "correlation_dimension            correlation_dimension   \n",
       "\n",
       "                                               Blasius  \\\n",
       "maximum_lyapunov_estimated  maximum_lyapunov_estimated   \n",
       "kaplan_yorke_dimension          kaplan_yorke_dimension   \n",
       "pesin_entropy                            pesin_entropy   \n",
       "correlation_dimension            correlation_dimension   \n",
       "\n",
       "                                        BlinkingRotlet  ...  \\\n",
       "maximum_lyapunov_estimated  maximum_lyapunov_estimated  ...   \n",
       "kaplan_yorke_dimension          kaplan_yorke_dimension  ...   \n",
       "pesin_entropy                            pesin_entropy  ...   \n",
       "correlation_dimension            correlation_dimension  ...   \n",
       "\n",
       "                                                 Torus  \\\n",
       "maximum_lyapunov_estimated  maximum_lyapunov_estimated   \n",
       "kaplan_yorke_dimension          kaplan_yorke_dimension   \n",
       "pesin_entropy                            pesin_entropy   \n",
       "correlation_dimension            correlation_dimension   \n",
       "\n",
       "                                                Tsucs2  \\\n",
       "maximum_lyapunov_estimated  maximum_lyapunov_estimated   \n",
       "kaplan_yorke_dimension          kaplan_yorke_dimension   \n",
       "pesin_entropy                            pesin_entropy   \n",
       "correlation_dimension            correlation_dimension   \n",
       "\n",
       "                                         TurchinHanski  \\\n",
       "maximum_lyapunov_estimated  maximum_lyapunov_estimated   \n",
       "kaplan_yorke_dimension          kaplan_yorke_dimension   \n",
       "pesin_entropy                            pesin_entropy   \n",
       "correlation_dimension            correlation_dimension   \n",
       "\n",
       "                                          VallisElNino  \\\n",
       "maximum_lyapunov_estimated  maximum_lyapunov_estimated   \n",
       "kaplan_yorke_dimension          kaplan_yorke_dimension   \n",
       "pesin_entropy                            pesin_entropy   \n",
       "correlation_dimension            correlation_dimension   \n",
       "\n",
       "                                             VossDelay  \\\n",
       "maximum_lyapunov_estimated  maximum_lyapunov_estimated   \n",
       "kaplan_yorke_dimension          kaplan_yorke_dimension   \n",
       "pesin_entropy                            pesin_entropy   \n",
       "correlation_dimension            correlation_dimension   \n",
       "\n",
       "                                               WangSun  \\\n",
       "maximum_lyapunov_estimated  maximum_lyapunov_estimated   \n",
       "kaplan_yorke_dimension          kaplan_yorke_dimension   \n",
       "pesin_entropy                            pesin_entropy   \n",
       "correlation_dimension            correlation_dimension   \n",
       "\n",
       "                                         WindmiReduced  \\\n",
       "maximum_lyapunov_estimated  maximum_lyapunov_estimated   \n",
       "kaplan_yorke_dimension          kaplan_yorke_dimension   \n",
       "pesin_entropy                            pesin_entropy   \n",
       "correlation_dimension            correlation_dimension   \n",
       "\n",
       "                                                YuWang  \\\n",
       "maximum_lyapunov_estimated  maximum_lyapunov_estimated   \n",
       "kaplan_yorke_dimension          kaplan_yorke_dimension   \n",
       "pesin_entropy                            pesin_entropy   \n",
       "correlation_dimension            correlation_dimension   \n",
       "\n",
       "                                               YuWang2  \\\n",
       "maximum_lyapunov_estimated  maximum_lyapunov_estimated   \n",
       "kaplan_yorke_dimension          kaplan_yorke_dimension   \n",
       "pesin_entropy                            pesin_entropy   \n",
       "correlation_dimension            correlation_dimension   \n",
       "\n",
       "                                              ZhouChen  \n",
       "maximum_lyapunov_estimated  maximum_lyapunov_estimated  \n",
       "kaplan_yorke_dimension          kaplan_yorke_dimension  \n",
       "pesin_entropy                            pesin_entropy  \n",
       "correlation_dimension            correlation_dimension  \n",
       "\n",
       "[4 rows x 131 columns]"
      ]
     },
     "execution_count": 116,
     "metadata": {},
     "output_type": "execute_result"
    }
   ],
   "source": [
    "all_properties"
   ]
  },
  {
   "cell_type": "code",
   "execution_count": 114,
   "metadata": {},
   "outputs": [
    {
     "data": {
      "text/plain": [
       "{'maximum_lyapunov_estimated': 0.5917259125455694,\n",
       " 'kaplan_yorke_dimension': 2.045920730005392,\n",
       " 'pesin_entropy': 0.5969734164748293,\n",
       " 'correlation_dimension': 1.6212203970681585}"
      ]
     },
     "execution_count": 114,
     "metadata": {},
     "output_type": "execute_result"
    }
   ],
   "source": [
    "dict(zip(attributes, attr_vals))"
   ]
  },
  {
   "cell_type": "code",
   "execution_count": 113,
   "metadata": {},
   "outputs": [
    {
     "data": {
      "text/html": [
       "<div>\n",
       "<style scoped>\n",
       "    .dataframe tbody tr th:only-of-type {\n",
       "        vertical-align: middle;\n",
       "    }\n",
       "\n",
       "    .dataframe tbody tr th {\n",
       "        vertical-align: top;\n",
       "    }\n",
       "\n",
       "    .dataframe thead th {\n",
       "        text-align: right;\n",
       "    }\n",
       "</style>\n",
       "<table border=\"1\" class=\"dataframe\">\n",
       "  <thead>\n",
       "    <tr style=\"text-align: right;\">\n",
       "      <th></th>\n",
       "      <th>maximum_lyapunov_estimated</th>\n",
       "      <th>kaplan_yorke_dimension</th>\n",
       "      <th>pesin_entropy</th>\n",
       "      <th>correlation_dimension</th>\n",
       "    </tr>\n",
       "  </thead>\n",
       "  <tbody>\n",
       "    <tr>\n",
       "      <th>Aizawa</th>\n",
       "      <td>maximum_lyapunov_estimated</td>\n",
       "      <td>kaplan_yorke_dimension</td>\n",
       "      <td>pesin_entropy</td>\n",
       "      <td>correlation_dimension</td>\n",
       "    </tr>\n",
       "    <tr>\n",
       "      <th>AnishchenkoAstakhov</th>\n",
       "      <td>maximum_lyapunov_estimated</td>\n",
       "      <td>kaplan_yorke_dimension</td>\n",
       "      <td>pesin_entropy</td>\n",
       "      <td>correlation_dimension</td>\n",
       "    </tr>\n",
       "    <tr>\n",
       "      <th>Arneodo</th>\n",
       "      <td>maximum_lyapunov_estimated</td>\n",
       "      <td>kaplan_yorke_dimension</td>\n",
       "      <td>pesin_entropy</td>\n",
       "      <td>correlation_dimension</td>\n",
       "    </tr>\n",
       "    <tr>\n",
       "      <th>ArnoldBeltramiChildress</th>\n",
       "      <td>maximum_lyapunov_estimated</td>\n",
       "      <td>kaplan_yorke_dimension</td>\n",
       "      <td>pesin_entropy</td>\n",
       "      <td>correlation_dimension</td>\n",
       "    </tr>\n",
       "    <tr>\n",
       "      <th>ArnoldWeb</th>\n",
       "      <td>maximum_lyapunov_estimated</td>\n",
       "      <td>kaplan_yorke_dimension</td>\n",
       "      <td>pesin_entropy</td>\n",
       "      <td>correlation_dimension</td>\n",
       "    </tr>\n",
       "    <tr>\n",
       "      <th>...</th>\n",
       "      <td>...</td>\n",
       "      <td>...</td>\n",
       "      <td>...</td>\n",
       "      <td>...</td>\n",
       "    </tr>\n",
       "    <tr>\n",
       "      <th>WangSun</th>\n",
       "      <td>maximum_lyapunov_estimated</td>\n",
       "      <td>kaplan_yorke_dimension</td>\n",
       "      <td>pesin_entropy</td>\n",
       "      <td>correlation_dimension</td>\n",
       "    </tr>\n",
       "    <tr>\n",
       "      <th>WindmiReduced</th>\n",
       "      <td>maximum_lyapunov_estimated</td>\n",
       "      <td>kaplan_yorke_dimension</td>\n",
       "      <td>pesin_entropy</td>\n",
       "      <td>correlation_dimension</td>\n",
       "    </tr>\n",
       "    <tr>\n",
       "      <th>YuWang</th>\n",
       "      <td>maximum_lyapunov_estimated</td>\n",
       "      <td>kaplan_yorke_dimension</td>\n",
       "      <td>pesin_entropy</td>\n",
       "      <td>correlation_dimension</td>\n",
       "    </tr>\n",
       "    <tr>\n",
       "      <th>YuWang2</th>\n",
       "      <td>maximum_lyapunov_estimated</td>\n",
       "      <td>kaplan_yorke_dimension</td>\n",
       "      <td>pesin_entropy</td>\n",
       "      <td>correlation_dimension</td>\n",
       "    </tr>\n",
       "    <tr>\n",
       "      <th>ZhouChen</th>\n",
       "      <td>maximum_lyapunov_estimated</td>\n",
       "      <td>kaplan_yorke_dimension</td>\n",
       "      <td>pesin_entropy</td>\n",
       "      <td>correlation_dimension</td>\n",
       "    </tr>\n",
       "  </tbody>\n",
       "</table>\n",
       "<p>131 rows × 4 columns</p>\n",
       "</div>"
      ],
      "text/plain": [
       "                         maximum_lyapunov_estimated  kaplan_yorke_dimension  \\\n",
       "Aizawa                   maximum_lyapunov_estimated  kaplan_yorke_dimension   \n",
       "AnishchenkoAstakhov      maximum_lyapunov_estimated  kaplan_yorke_dimension   \n",
       "Arneodo                  maximum_lyapunov_estimated  kaplan_yorke_dimension   \n",
       "ArnoldBeltramiChildress  maximum_lyapunov_estimated  kaplan_yorke_dimension   \n",
       "ArnoldWeb                maximum_lyapunov_estimated  kaplan_yorke_dimension   \n",
       "...                                             ...                     ...   \n",
       "WangSun                  maximum_lyapunov_estimated  kaplan_yorke_dimension   \n",
       "WindmiReduced            maximum_lyapunov_estimated  kaplan_yorke_dimension   \n",
       "YuWang                   maximum_lyapunov_estimated  kaplan_yorke_dimension   \n",
       "YuWang2                  maximum_lyapunov_estimated  kaplan_yorke_dimension   \n",
       "ZhouChen                 maximum_lyapunov_estimated  kaplan_yorke_dimension   \n",
       "\n",
       "                         pesin_entropy  correlation_dimension  \n",
       "Aizawa                   pesin_entropy  correlation_dimension  \n",
       "AnishchenkoAstakhov      pesin_entropy  correlation_dimension  \n",
       "Arneodo                  pesin_entropy  correlation_dimension  \n",
       "ArnoldBeltramiChildress  pesin_entropy  correlation_dimension  \n",
       "ArnoldWeb                pesin_entropy  correlation_dimension  \n",
       "...                                ...                    ...  \n",
       "WangSun                  pesin_entropy  correlation_dimension  \n",
       "WindmiReduced            pesin_entropy  correlation_dimension  \n",
       "YuWang                   pesin_entropy  correlation_dimension  \n",
       "YuWang2                  pesin_entropy  correlation_dimension  \n",
       "ZhouChen                 pesin_entropy  correlation_dimension  \n",
       "\n",
       "[131 rows x 4 columns]"
      ]
     },
     "execution_count": 113,
     "metadata": {},
     "output_type": "execute_result"
    }
   ],
   "source": [
    "all_properties"
   ]
  },
  {
   "cell_type": "code",
   "execution_count": 90,
   "metadata": {},
   "outputs": [
    {
     "data": {
      "text/html": [
       "<div>\n",
       "<style scoped>\n",
       "    .dataframe tbody tr th:only-of-type {\n",
       "        vertical-align: middle;\n",
       "    }\n",
       "\n",
       "    .dataframe tbody tr th {\n",
       "        vertical-align: top;\n",
       "    }\n",
       "\n",
       "    .dataframe thead th {\n",
       "        text-align: right;\n",
       "    }\n",
       "</style>\n",
       "<table border=\"1\" class=\"dataframe\">\n",
       "  <thead>\n",
       "    <tr style=\"text-align: right;\">\n",
       "      <th></th>\n",
       "      <th>DSR</th>\n",
       "      <th>DSR-time</th>\n",
       "      <th>SINDY-fourier</th>\n",
       "      <th>SINDY-fourier-time</th>\n",
       "      <th>SINDY-poly</th>\n",
       "      <th>SINDY-poly-time</th>\n",
       "      <th>pySR</th>\n",
       "      <th>pySR-time</th>\n",
       "    </tr>\n",
       "  </thead>\n",
       "  <tbody>\n",
       "    <tr>\n",
       "      <th>Aizawa</th>\n",
       "      <td>3.249331e-01</td>\n",
       "      <td>5361.771297</td>\n",
       "      <td>0.388293</td>\n",
       "      <td>0.009932</td>\n",
       "      <td>0.131491</td>\n",
       "      <td>0.006207</td>\n",
       "      <td>4.751207e-06</td>\n",
       "      <td>1387.807501</td>\n",
       "    </tr>\n",
       "    <tr>\n",
       "      <th>AnishchenkoAstakhov</th>\n",
       "      <td>1.436066e-01</td>\n",
       "      <td>3221.558293</td>\n",
       "      <td>0.764143</td>\n",
       "      <td>0.014582</td>\n",
       "      <td>0.304306</td>\n",
       "      <td>0.007079</td>\n",
       "      <td>2.875846e-07</td>\n",
       "      <td>1286.368810</td>\n",
       "    </tr>\n",
       "    <tr>\n",
       "      <th>Arneodo</th>\n",
       "      <td>1.413602e-17</td>\n",
       "      <td>2036.648555</td>\n",
       "      <td>0.917730</td>\n",
       "      <td>0.013027</td>\n",
       "      <td>0.043507</td>\n",
       "      <td>0.008142</td>\n",
       "      <td>0.000000e+00</td>\n",
       "      <td>1495.600544</td>\n",
       "    </tr>\n",
       "    <tr>\n",
       "      <th>ArnoldBeltramiChildress</th>\n",
       "      <td>1.546481e-01</td>\n",
       "      <td>4580.716868</td>\n",
       "      <td>1.668508</td>\n",
       "      <td>0.062753</td>\n",
       "      <td>1.734974</td>\n",
       "      <td>0.456489</td>\n",
       "      <td>1.339280e-07</td>\n",
       "      <td>2154.610185</td>\n",
       "    </tr>\n",
       "    <tr>\n",
       "      <th>ArnoldWeb</th>\n",
       "      <td>9.986501e-02</td>\n",
       "      <td>3291.492841</td>\n",
       "      <td>2.000000</td>\n",
       "      <td>0.039134</td>\n",
       "      <td>2.000000</td>\n",
       "      <td>0.515162</td>\n",
       "      <td>3.027251e-02</td>\n",
       "      <td>2246.691568</td>\n",
       "    </tr>\n",
       "    <tr>\n",
       "      <th>...</th>\n",
       "      <td>...</td>\n",
       "      <td>...</td>\n",
       "      <td>...</td>\n",
       "      <td>...</td>\n",
       "      <td>...</td>\n",
       "      <td>...</td>\n",
       "      <td>...</td>\n",
       "      <td>...</td>\n",
       "    </tr>\n",
       "    <tr>\n",
       "      <th>WangSun</th>\n",
       "      <td>9.921188e-01</td>\n",
       "      <td>7299.893262</td>\n",
       "      <td>2.000000</td>\n",
       "      <td>0.008599</td>\n",
       "      <td>1.125077</td>\n",
       "      <td>0.011500</td>\n",
       "      <td>0.000000e+00</td>\n",
       "      <td>1208.652250</td>\n",
       "    </tr>\n",
       "    <tr>\n",
       "      <th>WindmiReduced</th>\n",
       "      <td>7.043811e-01</td>\n",
       "      <td>7479.440121</td>\n",
       "      <td>0.690714</td>\n",
       "      <td>0.014131</td>\n",
       "      <td>0.880745</td>\n",
       "      <td>0.044827</td>\n",
       "      <td>2.079038e-06</td>\n",
       "      <td>1560.164032</td>\n",
       "    </tr>\n",
       "    <tr>\n",
       "      <th>YuWang</th>\n",
       "      <td>2.220408e-01</td>\n",
       "      <td>7916.629846</td>\n",
       "      <td>1.065476</td>\n",
       "      <td>0.011153</td>\n",
       "      <td>0.891156</td>\n",
       "      <td>0.010294</td>\n",
       "      <td>1.000000e-07</td>\n",
       "      <td>1294.967133</td>\n",
       "    </tr>\n",
       "    <tr>\n",
       "      <th>YuWang2</th>\n",
       "      <td>4.758330e-01</td>\n",
       "      <td>4838.172874</td>\n",
       "      <td>0.894389</td>\n",
       "      <td>0.009378</td>\n",
       "      <td>0.284701</td>\n",
       "      <td>0.009987</td>\n",
       "      <td>8.953337e-07</td>\n",
       "      <td>1325.018273</td>\n",
       "    </tr>\n",
       "    <tr>\n",
       "      <th>ZhouChen</th>\n",
       "      <td>8.035604e-01</td>\n",
       "      <td>4681.604307</td>\n",
       "      <td>1.356090</td>\n",
       "      <td>0.048496</td>\n",
       "      <td>0.675092</td>\n",
       "      <td>0.478760</td>\n",
       "      <td>2.262178e-06</td>\n",
       "      <td>1745.643605</td>\n",
       "    </tr>\n",
       "  </tbody>\n",
       "</table>\n",
       "<p>131 rows × 8 columns</p>\n",
       "</div>"
      ],
      "text/plain": [
       "                                  DSR     DSR-time  SINDY-fourier  \\\n",
       "Aizawa                   3.249331e-01  5361.771297       0.388293   \n",
       "AnishchenkoAstakhov      1.436066e-01  3221.558293       0.764143   \n",
       "Arneodo                  1.413602e-17  2036.648555       0.917730   \n",
       "ArnoldBeltramiChildress  1.546481e-01  4580.716868       1.668508   \n",
       "ArnoldWeb                9.986501e-02  3291.492841       2.000000   \n",
       "...                               ...          ...            ...   \n",
       "WangSun                  9.921188e-01  7299.893262       2.000000   \n",
       "WindmiReduced            7.043811e-01  7479.440121       0.690714   \n",
       "YuWang                   2.220408e-01  7916.629846       1.065476   \n",
       "YuWang2                  4.758330e-01  4838.172874       0.894389   \n",
       "ZhouChen                 8.035604e-01  4681.604307       1.356090   \n",
       "\n",
       "                         SINDY-fourier-time  SINDY-poly  SINDY-poly-time  \\\n",
       "Aizawa                             0.009932    0.131491         0.006207   \n",
       "AnishchenkoAstakhov                0.014582    0.304306         0.007079   \n",
       "Arneodo                            0.013027    0.043507         0.008142   \n",
       "ArnoldBeltramiChildress            0.062753    1.734974         0.456489   \n",
       "ArnoldWeb                          0.039134    2.000000         0.515162   \n",
       "...                                     ...         ...              ...   \n",
       "WangSun                            0.008599    1.125077         0.011500   \n",
       "WindmiReduced                      0.014131    0.880745         0.044827   \n",
       "YuWang                             0.011153    0.891156         0.010294   \n",
       "YuWang2                            0.009378    0.284701         0.009987   \n",
       "ZhouChen                           0.048496    0.675092         0.478760   \n",
       "\n",
       "                                 pySR    pySR-time  \n",
       "Aizawa                   4.751207e-06  1387.807501  \n",
       "AnishchenkoAstakhov      2.875846e-07  1286.368810  \n",
       "Arneodo                  0.000000e+00  1495.600544  \n",
       "ArnoldBeltramiChildress  1.339280e-07  2154.610185  \n",
       "ArnoldWeb                3.027251e-02  2246.691568  \n",
       "...                               ...          ...  \n",
       "WangSun                  0.000000e+00  1208.652250  \n",
       "WindmiReduced            2.079038e-06  1560.164032  \n",
       "YuWang                   1.000000e-07  1294.967133  \n",
       "YuWang2                  8.953337e-07  1325.018273  \n",
       "ZhouChen                 2.262178e-06  1745.643605  \n",
       "\n",
       "[131 rows x 8 columns]"
      ]
     },
     "execution_count": 90,
     "metadata": {},
     "output_type": "execute_result"
    }
   ],
   "source": [
    "data"
   ]
  },
  {
   "cell_type": "code",
   "execution_count": 156,
   "metadata": {},
   "outputs": [],
   "source": [
    "model_names = [\"SINDY-poly\", \"SINDY-fourier\", \"pySR\", \"DSR\"]"
   ]
  },
  {
   "cell_type": "code",
   "execution_count": 82,
   "metadata": {},
   "outputs": [
    {
     "data": {
      "image/png": "[encoded data removed]",
      "text/plain": [
       "<Figure size 432x288 with 2 Axes>"
      ]
     },
     "metadata": {
      "needs_background": "light"
     },
     "output_type": "display_data"
    }
   ],
   "source": [
    "import seaborn as sns\n",
    "\n",
    "ax = sns.heatmap(pd.DataFrame(all_vals).corr(method=\"spearman\"), cmap=\"mako\", vmin=0, vmax=1)\n",
    "\n",
    "# dg.fixed_aspect_ratio(1, ax=ax)"
   ]
  },
  {
   "cell_type": "code",
   "execution_count": 67,
   "metadata": {},
   "outputs": [],
   "source": [
    "all_lowest_scores = np.nanmin(all_vals, axis=1)"
   ]
  },
  {
   "cell_type": "code",
   "execution_count": 68,
   "metadata": {},
   "outputs": [
    {
     "data": {
      "text/plain": [
       "array([4.75120693e-06, 2.87584559e-07, 0.00000000e+00, 1.33928046e-07,\n",
       "       3.02725060e-02, 7.53056808e-01, 3.09313911e-01, 1.59508208e-01,\n",
       "       1.72336496e-01, 1.12953714e+00, 1.17586347e+00, 7.67534676e-06,\n",
       "       2.49996906e-07, 4.50001013e-06, 1.82722778e-01, 2.27054044e-01,\n",
       "       1.48684930e+00, 1.37107767e-01, 2.28571402e-07, 1.95454788e-07,\n",
       "       0.00000000e+00, 1.28712338e-01, 1.38801810e+00, 2.56689114e-01,\n",
       "       0.00000000e+00, 1.07707131e-05, 1.20543997e-06, 5.85676035e-01,\n",
       "       3.90952495e-01, 1.24810715e-02, 1.04454844e+00, 5.70820380e-07,\n",
       "       1.80161260e-02, 4.85633188e-02, 5.84801080e-01, 6.78525497e-03,\n",
       "       0.00000000e+00, 2.99365678e-01, 2.92458287e-05, 3.06709870e-05,\n",
       "       1.10878950e+00, 5.57454122e-18, 1.71389866e-06, 5.66396304e-01,\n",
       "       1.90869705e-07, 4.84840036e-06, 2.23519994e-06, 6.50002956e-07,\n",
       "       0.00000000e+00, 0.00000000e+00, 4.26235042e-06, 1.08920647e-07,\n",
       "       9.08180010e-08, 3.93331756e-07, 3.01068331e-01, 3.03472134e-07,\n",
       "       1.04018626e-01, 6.00558669e-01, 0.00000000e+00, 1.40853867e-05,\n",
       "       1.22217235e-16, 0.00000000e+00, 4.06029246e-16, 5.52289179e-05,\n",
       "       6.13872393e-06, 2.39962027e-01, 9.80390011e-07, 3.29500660e-06,\n",
       "       1.16408685e-06, 0.00000000e+00, 9.38639526e-01, 0.00000000e+00,\n",
       "       0.00000000e+00, 2.46661699e-01, 0.00000000e+00, 1.88799926e-01,\n",
       "       1.15402114e-05, 5.99999820e-07, 1.70404698e-07, 3.79060115e-07,\n",
       "       2.87249564e-06, 1.56532959e-01, 6.92511583e-06, 1.39108494e-16,\n",
       "       0.00000000e+00, 1.81966813e-16, 2.42072457e-07, 1.53572823e-01,\n",
       "       4.93885143e-17, 0.00000000e+00, 0.00000000e+00, 0.00000000e+00,\n",
       "       0.00000000e+00, 0.00000000e+00, 0.00000000e+00, 0.00000000e+00,\n",
       "       0.00000000e+00, 2.71822137e-10, 0.00000000e+00, 0.00000000e+00,\n",
       "       0.00000000e+00, 0.00000000e+00, 1.56353093e-06, 3.45199628e-06,\n",
       "       7.53027777e-07, 0.00000000e+00, 0.00000000e+00, 0.00000000e+00,\n",
       "       0.00000000e+00, 9.02702829e-08, 0.00000000e+00, 5.94685233e-07,\n",
       "       6.90163323e-02, 1.48616086e-06, 3.08796611e-06, 1.00338693e+00,\n",
       "       1.52781861e-06, 4.32991178e-01, 5.41132540e-07, 0.00000000e+00,\n",
       "       2.07903806e-06, 1.00000005e-07, 8.95333719e-07, 2.26217822e-06])"
      ]
     },
     "execution_count": 68,
     "metadata": {},
     "output_type": "execute_result"
    }
   ],
   "source": [
    "all_lowest_scores"
   ]
  },
  {
   "cell_type": "code",
   "execution_count": 69,
   "metadata": {},
   "outputs": [
    {
     "data": {
      "text/plain": [
       "[<matplotlib.lines.Line2D at 0x7fd3027e7220>]"
      ]
     },
     "execution_count": 69,
     "metadata": {},
     "output_type": "execute_result"
    },
    {
     "data": {
      "image/png": "[encoded data removed]",
      "text/plain": [
       "<Figure size 432x288 with 1 Axes>"
      ]
     },
     "metadata": {
      "needs_background": "light"
     },
     "output_type": "display_data"
    },
    {
     "data": {
      "image/png": "[encoded data removed]",
      "text/plain": [
       "<Figure size 432x288 with 1 Axes>"
      ]
     },
     "metadata": {
      "needs_background": "light"
     },
     "output_type": "display_data"
    }
   ],
   "source": [
    "all_lowest_scores = all_vals[:, 2]\n",
    "all_lowest_scores = np.nanmin(all_vals, axis=1)\n",
    "\n",
    "plt.figure()\n",
    "plt.loglog(all_properties, all_lowest_scores, '.')\n",
    "\n",
    "plt.figure()\n",
    "plt.plot(all_properties, all_lowest_scores, '.')"
   ]
  },
  {
   "cell_type": "code",
   "execution_count": 18,
   "metadata": {},
   "outputs": [
    {
     "data": {
      "text/plain": [
       "array(['SprottO', 'SprottN', 'Colpitts', 'SprottMore', 'ScrollDelay',\n",
       "       'ShimizuMorioka', 'SprottA', 'SprottJerk', 'SprottC', 'SprottJ',\n",
       "       'SprottH', 'ForcedVanDerPol', 'SprottF', 'SprottE', 'SprottDelay',\n",
       "       'HyperLu', 'HyperLorenz', 'SprottI', 'SprottP', 'SprottB',\n",
       "       'ItikBanksTumor', 'NewtonLiepnik', 'Arneodo', 'VallisElNino',\n",
       "       'MooreSpiegel', 'MackeyGlass', 'ChenLee', 'RikitakeDynamo',\n",
       "       'Laser', 'SprottR', 'LuChen', 'HastingsPowell', 'SprottD',\n",
       "       'SaltonSea', 'KawczynskiStrizhak', 'RayleighBenard', 'Rossler',\n",
       "       'LiuChen', 'SprottG', 'SprottQ', 'HyperRossler', 'WangSun',\n",
       "       'HyperQi', 'ArnoldBeltramiChildress', 'PanXuZhou', 'Hopfield',\n",
       "       'Chen', 'CellularNeuralNetwork', 'Rucklidge', 'Bouali',\n",
       "       'AnishchenkoAstakhov', 'HyperYan', 'HyperYangChen',\n",
       "       'PiecewiseCircuit', 'HyperWang', 'StickSlipOscillator', 'Tsucs2',\n",
       "       'ExcitableCell', 'SprottS', 'OscillatingFlow', 'HyperJha',\n",
       "       'SprottM', 'WindmiReduced', 'LorenzBounded', 'LorenzStenflo',\n",
       "       'Dadras', 'SwingingAtwood', 'ThomasLabyrinth', 'SprottK',\n",
       "       'HenonHeiles', 'VossDelay', 'HyperCai', 'YuWang', 'Qi', 'Thomas',\n",
       "       'LorenzCoupled', 'SprottL', 'HyperPang', 'Bouali2',\n",
       "       'SanUmSrisuchinwong', 'Aizawa', 'HyperBao', 'Lorenz84',\n",
       "       'RabinovichFabrikant', 'BlinkingVortex', 'Coullet',\n",
       "       'NuclearQuadrupole', 'JerkCircuit', 'GuckenheimerHolmes', 'Hadley',\n",
       "       'Lorenz', 'ForcedFitzHughNagumo', 'DoublePendulum', 'Finance',\n",
       "       'ArnoldWeb', 'TurchinHanski', 'FluidTrampoline', 'SprottTorus',\n",
       "       'PehlivanWei', 'IkedaDelay', 'Chua', 'CellCycle', 'Sakarya',\n",
       "       'QiChen', 'BickleyJet', 'Blasius', 'BurkeShaw', 'NoseHoover',\n",
       "       'CaTwoPlus', 'Lorenz96', 'MultiChua', 'CoevolvingPredatorPrey',\n",
       "       'GenesioTesi', 'HyperXu', 'BelousovZhabotinsky', 'DoubleGyre',\n",
       "       'Torus', 'HindmarshRose', 'ForcedBrusselator', 'DequanLi',\n",
       "       'IsothermalChemical', 'BeerRNN', 'MacArthur', 'LuChenCheng',\n",
       "       'Duffing', 'Halvorsen', 'BlinkingRotlet', 'CircadianRhythm',\n",
       "       'CaTwoPlusQuasiperiodic'], dtype='<U23')"
      ]
     },
     "execution_count": 18,
     "metadata": {},
     "output_type": "execute_result"
    }
   ],
   "source": [
    "all_lowest_scores = np.min(all_vals, axis=1)\n",
    "\n",
    "\n",
    "\n",
    "np.array(list(data.keys()))[np.argsort(all_lowest_scores)]"
   ]
  },
  {
   "cell_type": "code",
   "execution_count": 164,
   "metadata": {},
   "outputs": [
    {
     "data": {
      "text/plain": [
       "2.0"
      ]
     },
     "execution_count": 164,
     "metadata": {},
     "output_type": "execute_result"
    }
   ],
   "source": [
    "np.max(data_long[\"value\"])"
   ]
  },
  {
   "cell_type": "code",
   "execution_count": 192,
   "metadata": {},
   "outputs": [
    {
     "data": {
      "image/png": "[encoded data removed]",
      "text/plain": [
       "<Figure size 461.625x360 with 1 Axes>"
      ]
     },
     "metadata": {
      "needs_background": "light"
     },
     "output_type": "display_data"
    }
   ],
   "source": [
    "data_long = pd.melt(data, value_vars=model_names)\n",
    "# sns.displot(data_long, x=\"value\", hue=\"variable\", multiple=\"stack\", kind=\"kde\")\n",
    "# sns.displot(data_long, x=\"value\", hue=\"variable\", kind=\"kde\", fill=True)\n",
    "sns.displot(data_long, x=\"value\", hue=\"variable\", kind=\"ecdf\")\n",
    "plt.xlim([-1e-8, 2])\n",
    "\n",
    "dg.fixed_aspect_ratio(1/1.5)"
   ]
  },
  {
   "cell_type": "code",
   "execution_count": 194,
   "metadata": {},
   "outputs": [
    {
     "data": {
      "text/html": [
       "<div>\n",
       "<style scoped>\n",
       "    .dataframe tbody tr th:only-of-type {\n",
       "        vertical-align: middle;\n",
       "    }\n",
       "\n",
       "    .dataframe tbody tr th {\n",
       "        vertical-align: top;\n",
       "    }\n",
       "\n",
       "    .dataframe thead th {\n",
       "        text-align: right;\n",
       "    }\n",
       "</style>\n",
       "<table border=\"1\" class=\"dataframe\">\n",
       "  <thead>\n",
       "    <tr style=\"text-align: right;\">\n",
       "      <th></th>\n",
       "      <th>variable</th>\n",
       "      <th>value</th>\n",
       "    </tr>\n",
       "  </thead>\n",
       "  <tbody>\n",
       "    <tr>\n",
       "      <th>0</th>\n",
       "      <td>SINDY-poly</td>\n",
       "      <td>0.131491</td>\n",
       "    </tr>\n",
       "    <tr>\n",
       "      <th>1</th>\n",
       "      <td>SINDY-poly</td>\n",
       "      <td>0.304306</td>\n",
       "    </tr>\n",
       "    <tr>\n",
       "      <th>2</th>\n",
       "      <td>SINDY-poly</td>\n",
       "      <td>0.043507</td>\n",
       "    </tr>\n",
       "    <tr>\n",
       "      <th>3</th>\n",
       "      <td>SINDY-poly</td>\n",
       "      <td>1.734974</td>\n",
       "    </tr>\n",
       "    <tr>\n",
       "      <th>4</th>\n",
       "      <td>SINDY-poly</td>\n",
       "      <td>2.000000</td>\n",
       "    </tr>\n",
       "    <tr>\n",
       "      <th>...</th>\n",
       "      <td>...</td>\n",
       "      <td>...</td>\n",
       "    </tr>\n",
       "    <tr>\n",
       "      <th>519</th>\n",
       "      <td>DSR</td>\n",
       "      <td>0.992119</td>\n",
       "    </tr>\n",
       "    <tr>\n",
       "      <th>520</th>\n",
       "      <td>DSR</td>\n",
       "      <td>0.704381</td>\n",
       "    </tr>\n",
       "    <tr>\n",
       "      <th>521</th>\n",
       "      <td>DSR</td>\n",
       "      <td>0.222041</td>\n",
       "    </tr>\n",
       "    <tr>\n",
       "      <th>522</th>\n",
       "      <td>DSR</td>\n",
       "      <td>0.475833</td>\n",
       "    </tr>\n",
       "    <tr>\n",
       "      <th>523</th>\n",
       "      <td>DSR</td>\n",
       "      <td>0.803560</td>\n",
       "    </tr>\n",
       "  </tbody>\n",
       "</table>\n",
       "<p>524 rows × 2 columns</p>\n",
       "</div>"
      ],
      "text/plain": [
       "       variable     value\n",
       "0    SINDY-poly  0.131491\n",
       "1    SINDY-poly  0.304306\n",
       "2    SINDY-poly  0.043507\n",
       "3    SINDY-poly  1.734974\n",
       "4    SINDY-poly  2.000000\n",
       "..          ...       ...\n",
       "519         DSR  0.992119\n",
       "520         DSR  0.704381\n",
       "521         DSR  0.222041\n",
       "522         DSR  0.475833\n",
       "523         DSR  0.803560\n",
       "\n",
       "[524 rows x 2 columns]"
      ]
     },
     "execution_count": 194,
     "metadata": {},
     "output_type": "execute_result"
    }
   ],
   "source": [
    "data_long"
   ]
  },
  {
   "cell_type": "code",
   "execution_count": 201,
   "metadata": {},
   "outputs": [
    {
     "name": "stderr",
     "output_type": "stream",
     "text": [
      "/Users/williamgilpin/miniconda3/envs/dysts/lib/python3.8/site-packages/seaborn/categorical.py:1296: UserWarning: 37.4% of the points cannot be placed; you may want to decrease the size of the markers or use stripplot.\n",
      "  warnings.warn(msg, UserWarning)\n",
      "/Users/williamgilpin/miniconda3/envs/dysts/lib/python3.8/site-packages/seaborn/categorical.py:1296: UserWarning: 26.7% of the points cannot be placed; you may want to decrease the size of the markers or use stripplot.\n",
      "  warnings.warn(msg, UserWarning)\n",
      "/Users/williamgilpin/miniconda3/envs/dysts/lib/python3.8/site-packages/seaborn/categorical.py:1296: UserWarning: 67.9% of the points cannot be placed; you may want to decrease the size of the markers or use stripplot.\n",
      "  warnings.warn(msg, UserWarning)\n",
      "/Users/williamgilpin/miniconda3/envs/dysts/lib/python3.8/site-packages/seaborn/categorical.py:1296: UserWarning: 38.2% of the points cannot be placed; you may want to decrease the size of the markers or use stripplot.\n",
      "  warnings.warn(msg, UserWarning)\n"
     ]
    },
    {
     "data": {
      "text/plain": [
       "<AxesSubplot:xlabel='variable', ylabel='value'>"
      ]
     },
     "execution_count": 201,
     "metadata": {},
     "output_type": "execute_result"
    },
    {
     "data": {
      "image/png": "[encoded data removed]",
      "text/plain": [
       "<Figure size 432x288 with 1 Axes>"
      ]
     },
     "metadata": {
      "needs_background": "light"
     },
     "output_type": "display_data"
    }
   ],
   "source": [
    "sns.set_style()\n",
    "sns.swarmplot(data=data_long,  y=\"value\", x=\"variable\", hue=\"variable\", \n",
    "              dodge=True, linewidth=0, size=4, alpha=0.8, color='k')"
   ]
  },
  {
   "cell_type": "code",
   "execution_count": null,
   "metadata": {},
   "outputs": [],
   "source": [
    "sns.displot(data, x=\"flipper_length_mm\", hue=\"species\", kind=\"kde\", multiple=\"stack\")"
   ]
  },
  {
   "cell_type": "code",
   "execution_count": 153,
   "metadata": {},
   "outputs": [
    {
     "data": {
      "text/plain": [
       "Aizawa                     3.249331e-01\n",
       "AnishchenkoAstakhov        1.436066e-01\n",
       "Arneodo                    1.413602e-17\n",
       "ArnoldBeltramiChildress    1.546481e-01\n",
       "ArnoldWeb                  9.986501e-02\n",
       "                               ...     \n",
       "WangSun                    9.921188e-01\n",
       "WindmiReduced              7.043811e-01\n",
       "YuWang                     2.220408e-01\n",
       "YuWang2                    4.758330e-01\n",
       "ZhouChen                   8.035604e-01\n",
       "Name: DSR, Length: 131, dtype: float64"
      ]
     },
     "execution_count": 153,
     "metadata": {},
     "output_type": "execute_result"
    }
   ],
   "source": [
    "data[\"DSR\"]"
   ]
  },
  {
   "cell_type": "code",
   "execution_count": 152,
   "metadata": {},
   "outputs": [
    {
     "ename": "IndexError",
     "evalue": "too many indices for array: array is 1-dimensional, but 2 were indexed",
     "output_type": "error",
     "traceback": [
      "\u001b[0;31m---------------------------------------------------------------------------\u001b[0m",
      "\u001b[0;31mIndexError\u001b[0m                                Traceback (most recent call last)",
      "\u001b[0;32m<ipython-input-152-41c10de96539>\u001b[0m in \u001b[0;36m<module>\u001b[0;34m\u001b[0m\n\u001b[0;32m----> 1\u001b[0;31m \u001b[0mplt\u001b[0m\u001b[0;34m.\u001b[0m\u001b[0mhist\u001b[0m\u001b[0;34m(\u001b[0m\u001b[0mnp\u001b[0m\u001b[0;34m.\u001b[0m\u001b[0marray\u001b[0m\u001b[0;34m(\u001b[0m\u001b[0mall_vals\u001b[0m\u001b[0;34m)\u001b[0m\u001b[0;34m[\u001b[0m\u001b[0;34m:\u001b[0m\u001b[0;34m,\u001b[0m \u001b[0;36m0\u001b[0m\u001b[0;34m]\u001b[0m\u001b[0;34m)\u001b[0m\u001b[0;34m\u001b[0m\u001b[0;34m\u001b[0m\u001b[0m\n\u001b[0m\u001b[1;32m      2\u001b[0m \u001b[0mplt\u001b[0m\u001b[0;34m.\u001b[0m\u001b[0mhist\u001b[0m\u001b[0;34m(\u001b[0m\u001b[0mnp\u001b[0m\u001b[0;34m.\u001b[0m\u001b[0marray\u001b[0m\u001b[0;34m(\u001b[0m\u001b[0mall_vals\u001b[0m\u001b[0;34m)\u001b[0m\u001b[0;34m[\u001b[0m\u001b[0;34m:\u001b[0m\u001b[0;34m,\u001b[0m \u001b[0;36m2\u001b[0m\u001b[0;34m]\u001b[0m\u001b[0;34m)\u001b[0m\u001b[0;34m\u001b[0m\u001b[0;34m\u001b[0m\u001b[0m\n\u001b[1;32m      3\u001b[0m \u001b[0mplt\u001b[0m\u001b[0;34m.\u001b[0m\u001b[0mhist\u001b[0m\u001b[0;34m(\u001b[0m\u001b[0mnp\u001b[0m\u001b[0;34m.\u001b[0m\u001b[0marray\u001b[0m\u001b[0;34m(\u001b[0m\u001b[0mall_vals\u001b[0m\u001b[0;34m)\u001b[0m\u001b[0;34m[\u001b[0m\u001b[0;34m:\u001b[0m\u001b[0;34m,\u001b[0m \u001b[0;36m3\u001b[0m\u001b[0;34m]\u001b[0m\u001b[0;34m)\u001b[0m\u001b[0;34m\u001b[0m\u001b[0;34m\u001b[0m\u001b[0m\n",
      "\u001b[0;31mIndexError\u001b[0m: too many indices for array: array is 1-dimensional, but 2 were indexed"
     ]
    }
   ],
   "source": [
    "plt.hist(np.array(all_vals)[:, 0])\n",
    "plt.hist(np.array(all_vals)[:, 2])\n",
    "plt.hist(np.array(all_vals)[:, 3])"
   ]
  },
  {
   "cell_type": "code",
   "execution_count": 5,
   "metadata": {},
   "outputs": [
    {
     "data": {
      "text/plain": [
       "array([3.64590112e-01, 1.30863024e+00, 1.48616086e-06, 3.09681602e-01])"
      ]
     },
     "execution_count": 5,
     "metadata": {},
     "output_type": "execute_result"
    }
   ],
   "source": [
    "np.median(np.array(all_vals), axis=0)"
   ]
  },
  {
   "cell_type": "code",
   "execution_count": 6,
   "metadata": {},
   "outputs": [
    {
     "data": {
      "text/plain": [
       "array([0.64209014, 1.10681756, 0.17108804, 0.38674856])"
      ]
     },
     "execution_count": 6,
     "metadata": {},
     "output_type": "execute_result"
    }
   ],
   "source": [
    "np.mean(np.array(all_vals), axis=0)"
   ]
  },
  {
   "cell_type": "code",
   "execution_count": null,
   "metadata": {},
   "outputs": [],
   "source": []
  },
  {
   "cell_type": "markdown",
   "metadata": {},
   "source": [
    "## Make training data"
   ]
  },
  {
   "cell_type": "code",
   "execution_count": null,
   "metadata": {},
   "outputs": [],
   "source": [
    "import sys\n",
    "import json\n",
    "import os\n",
    "import numpy as np\n",
    "\n",
    "\n",
    "from dysts.base import get_attractor_list\n",
    "from dysts.analysis import sample_initial_conditions\n",
    "import dysts.flows\n",
    "\n",
    "n_train = 150\n",
    "\n",
    "all_train_test = dict()\n",
    "for i, equation_name in enumerate(get_attractor_list()):\n",
    "    \n",
    "    all_train_test[equation_name] = dict()\n",
    "    model = getattr(dysts.flows, equation_name)()\n",
    "    \n",
    "    np.random.seed(0)\n",
    "    ic_train, ic_test = sample_initial_conditions(model, 2, traj_length=1000, pts_per_period=30)\n",
    "    \n",
    "    model.ic = ic_train\n",
    "    tvals, sol = model.make_trajectory(n_train, pts_per_period=15, resample=True, return_times=True, standardize=False)\n",
    "    dt = np.median(np.diff(tvals))\n",
    "    dsol = np.vstack([model.rhs(val, 0) for val in sol])# * dt\n",
    "    X_train, y_train = sol, dsol\n",
    "    t_train = tvals\n",
    "\n",
    "    model.ic = ic_test\n",
    "    tvals, sol = model.make_trajectory(n_train, pts_per_period=15, resample=True, return_times=True, standardize=False)\n",
    "    dt = np.median(np.diff(tvals))\n",
    "    dsol = np.vstack([model.rhs(val, 0) for val in sol])# * dt\n",
    "    X_test, y_test = sol, dsol\n",
    "    t_test = tvals\n",
    "    \n",
    "    all_train_test[equation_name][\"X_train\"] = X_train.tolist()\n",
    "    all_train_test[equation_name][\"X_test\"] = X_test.tolist()\n",
    "    all_train_test[equation_name][\"y_train\"] = y_train.tolist()\n",
    "    all_train_test[equation_name][\"y_test\"] = y_test.tolist()\n",
    "    all_train_test[equation_name][\"t_train\"] = t_train.tolist()\n",
    "    all_train_test[equation_name][\"t_test\"] = t_test.tolist()\n",
    "    \n",
    "    np.any(np.isnan(X_test)) or np.any(np.isnan(X_train))\n",
    "    \n",
    "# with open(\"./resources/symb_train_test_data.json\", 'w') as file:\n",
    "#     json.dump(all_train_test, file, indent=4)"
   ]
  },
  {
   "cell_type": "code",
   "execution_count": null,
   "metadata": {},
   "outputs": [],
   "source": [
    "pip install pysr\n",
    "\n",
    "\n",
    "# Learn equations\n",
    "equations = pysr(\n",
    "    X,\n",
    "    y,\n",
    "    niterations=5,\n",
    "    binary_operators=[\"+\", \"*\"],\n",
    "    unary_operators=[\n",
    "        \"cos\",\n",
    "        \"exp\",\n",
    "        \"sin\",  # Pre-defined library of operators (see docs)\n",
    "        \"inv(x) = 1/x\",  # Define your own operator! (Julia syntax)\n",
    "    ],\n",
    ")"
   ]
  },
  {
   "cell_type": "code",
   "execution_count": 4,
   "metadata": {},
   "outputs": [
    {
     "name": "stdout",
     "output_type": "stream",
     "text": [
      "Help on method fit in module dsr.task.regression.sklearn:\n",
      "\n",
      "fit(X, y) method of dsr.task.regression.sklearn.DeepSymbolicRegressor instance\n",
      "\n"
     ]
    }
   ],
   "source": [
    "help(model.fit)"
   ]
  },
  {
   "cell_type": "markdown",
   "metadata": {},
   "source": [
    "## Symbolic regression\n",
    "\n",
    "Available benchmarks\n",
    "\n",
    "+ Eureqa Python API (could not get this to work)\n",
    "+ PySR\n",
    "+ pySINDY\n",
    "+ AI Feynman 2.0\n",
    "+ Wolfram (only works on univariate problems)"
   ]
  },
  {
   "cell_type": "code",
   "execution_count": 67,
   "metadata": {},
   "outputs": [
    {
     "name": "stdout",
     "output_type": "stream",
     "text": [
      "Help on function pysr in module pysr.sr:\n",
      "\n",
      "pysr(X, y, weights=None, binary_operators=None, unary_operators=None, procs=4, loss='L2DistLoss()', populations=20, niterations=100, ncyclesperiteration=300, alpha=0.1, annealing=False, fractionReplaced=0.1, fractionReplacedHof=0.1, npop=1000, parsimony=0.0001, migration=True, hofMigration=True, shouldOptimizeConstants=True, topn=10, weightAddNode=1, weightInsertNode=3, weightDeleteNode=3, weightDoNothing=1, weightMutateConstant=10, weightMutateOperator=1, weightRandomize=1, weightSimplify=0.01, perturbationFactor=1.0, timeout=None, extra_sympy_mappings=None, extra_torch_mappings=None, extra_jax_mappings=None, equation_file=None, verbosity=1000000000.0, progress=None, maxsize=20, fast_cycle=False, maxdepth=None, variable_names=None, batching=False, batchSize=50, select_k_features=None, warmupMaxsizeBy=0.0, constraints=None, useFrequency=True, tempdir=None, delete_tempfiles=True, julia_optimization=3, julia_project=None, user_input=True, update=True, temp_equation_file=False, output_jax_format=False, output_torch_format=False, optimizer_algorithm='BFGS', optimizer_nrestarts=3, optimize_probability=1.0, optimizer_iterations=10, tournament_selection_n=10, tournament_selection_p=1.0, denoise=False, Xresampled=None, precision=32, multithreading=False)\n",
      "    Run symbolic regression to fit f(X[i, :]) ~ y[i] for all i.\n",
      "    Note: most default parameters have been tuned over several example\n",
      "    equations, but you should adjust `niterations`,\n",
      "    `binary_operators`, `unary_operators` to your requirements.\n",
      "    You can view more detailed explanations of the options on the\n",
      "    [options page](https://pysr.readthedocs.io/en/latest/docs/options/) of the documentation.\n",
      "    \n",
      "    :param X: 2D array. Rows are examples, columns are features. If pandas DataFrame, the columns are used for variable names (so make sure they don't contain spaces).\n",
      "    :type X: np.ndarray/pandas.DataFrame\n",
      "    :param y: 1D array (rows are examples) or 2D array (rows are examples, columns are outputs). Putting in a 2D array will trigger a search for equations for each feature of y.\n",
      "    :type y: np.ndarray\n",
      "    :param weights: same shape as y. Each element is how to weight the mean-square-error loss for that particular element of y.\n",
      "    :type weights: np.ndarray\n",
      "    :param binary_operators: List of strings giving the binary operators in Julia's Base. Default is [\"+\", \"-\", \"*\", \"/\",].\n",
      "    :type binary_operators: list\n",
      "    :param unary_operators: Same but for operators taking a single scalar. Default is [].\n",
      "    :type unary_operators: list\n",
      "    :param procs: Number of processes (=number of populations running).\n",
      "    :type procs: int\n",
      "    :param loss: String of Julia code specifying the loss function.  Can either be a loss from LossFunctions.jl, or your own loss written as a function. Examples of custom written losses include: `myloss(x, y) = abs(x-y)` for non-weighted, or `myloss(x, y, w) = w*abs(x-y)` for weighted.  Among the included losses, these are as follows. Regression: `LPDistLoss{P}()`, `L1DistLoss()`, `L2DistLoss()` (mean square), `LogitDistLoss()`, `HuberLoss(d)`, `L1EpsilonInsLoss(ϵ)`, `L2EpsilonInsLoss(ϵ)`, `PeriodicLoss(c)`, `QuantileLoss(τ)`.  Classification: `ZeroOneLoss()`, `PerceptronLoss()`, `L1HingeLoss()`, `SmoothedL1HingeLoss(γ)`, `ModifiedHuberLoss()`, `L2MarginLoss()`, `ExpLoss()`, `SigmoidLoss()`, `DWDMarginLoss(q)`.\n",
      "    :type loss: str\n",
      "    :param populations: Number of populations running.\n",
      "    :type populations: int\n",
      "    :param niterations: Number of iterations of the algorithm to run. The best equations are printed, and migrate between populations, at the end of each.\n",
      "    :type niterations: int\n",
      "    :param ncyclesperiteration: Number of total mutations to run, per 10 samples of the population, per iteration.\n",
      "    :type ncyclesperiteration: int\n",
      "    :param alpha: Initial temperature.\n",
      "    :type alpha: float\n",
      "    :param annealing: Whether to use annealing. You should (and it is default).\n",
      "    :type annealing: bool\n",
      "    :param fractionReplaced: How much of population to replace with migrating equations from other populations.\n",
      "    :type fractionReplaced: float\n",
      "    :param fractionReplacedHof: How much of population to replace with migrating equations from hall of fame.\n",
      "    :type fractionReplacedHof: float\n",
      "    :param npop: Number of individuals in each population\n",
      "    :type npop: int\n",
      "    :param parsimony: Multiplicative factor for how much to punish complexity.\n",
      "    :type parsimony: float\n",
      "    :param migration: Whether to migrate.\n",
      "    :type migration: bool\n",
      "    :param hofMigration: Whether to have the hall of fame migrate.\n",
      "    :type hofMigration: bool\n",
      "    :param shouldOptimizeConstants: Whether to numerically optimize constants (Nelder-Mead/Newton) at the end of each iteration.\n",
      "    :type shouldOptimizeConstants: bool\n",
      "    :param topn: How many top individuals migrate from each population.\n",
      "    :type topn: int\n",
      "    :param perturbationFactor: Constants are perturbed by a max factor of (perturbationFactor*T + 1). Either multiplied by this or divided by this.\n",
      "    :type perturbationFactor: float\n",
      "    :param weightAddNode: Relative likelihood for mutation to add a node\n",
      "    :type weightAddNode: float\n",
      "    :param weightInsertNode: Relative likelihood for mutation to insert a node\n",
      "    :type weightInsertNode: float\n",
      "    :param weightDeleteNode: Relative likelihood for mutation to delete a node\n",
      "    :type weightDeleteNode: float\n",
      "    :param weightDoNothing: Relative likelihood for mutation to leave the individual\n",
      "    :type weightDoNothing: float\n",
      "    :param weightMutateConstant: Relative likelihood for mutation to change the constant slightly in a random direction.\n",
      "    :type weightMutateConstant: float\n",
      "    :param weightMutateOperator: Relative likelihood for mutation to swap an operator.\n",
      "    :type weightMutateOperator: float\n",
      "    :param weightRandomize: Relative likelihood for mutation to completely delete and then randomly generate the equation\n",
      "    :type weightRandomize: float\n",
      "    :param weightSimplify: Relative likelihood for mutation to simplify constant parts by evaluation\n",
      "    :type weightSimplify: float\n",
      "    :param timeout: Time in seconds to timeout search\n",
      "    :type timeout: float\n",
      "    :param equation_file: Where to save the files (.csv separated by |)\n",
      "    :type equation_file: str\n",
      "    :param verbosity: What verbosity level to use. 0 means minimal print statements.\n",
      "    :type verbosity: int\n",
      "    :param progress: Whether to use a progress bar instead of printing to stdout.\n",
      "    :type progress: bool\n",
      "    :param maxsize: Max size of an equation.\n",
      "    :type maxsize: int\n",
      "    :param maxdepth: Max depth of an equation. You can use both maxsize and maxdepth.  maxdepth is by default set to = maxsize, which means that it is redundant.\n",
      "    :type maxdepth: int\n",
      "    :param fast_cycle: (experimental) - batch over population subsamples. This is a slightly different algorithm than regularized evolution, but does cycles 15% faster. May be algorithmically less efficient.\n",
      "    :type fast_cycle: bool\n",
      "    :param variable_names: a list of names for the variables, other than \"x0\", \"x1\", etc.\n",
      "    :type variable_names: list\n",
      "    :param batching: whether to compare population members on small batches during evolution. Still uses full dataset for comparing against hall of fame.\n",
      "    :type batching: bool\n",
      "    :param batchSize: the amount of data to use if doing batching.\n",
      "    :type batchSize: int\n",
      "    :param select_k_features: whether to run feature selection in Python using random forests, before passing to the symbolic regression code. None means no feature selection; an int means select that many features.\n",
      "    :type select_k_features: None/int\n",
      "    :param warmupMaxsizeBy: whether to slowly increase max size from a small number up to the maxsize (if greater than 0).  If greater than 0, says the fraction of training time at which the current maxsize will reach the user-passed maxsize.\n",
      "    :type warmupMaxsizeBy: float\n",
      "    :param constraints: dictionary of int (unary) or 2-tuples (binary), this enforces maxsize constraints on the individual arguments of operators. E.g., `'pow': (-1, 1)` says that power laws can have any complexity left argument, but only 1 complexity exponent. Use this to force more interpretable solutions.\n",
      "    :type constraints: dict\n",
      "    :param useFrequency: whether to measure the frequency of complexities, and use that instead of parsimony to explore equation space. Will naturally find equations of all complexities.\n",
      "    :type useFrequency: bool\n",
      "    :param julia_optimization: Optimization level (0, 1, 2, 3)\n",
      "    :type julia_optimization: int\n",
      "    :param tempdir: directory for the temporary files\n",
      "    :type tempdir: str/None\n",
      "    :param delete_tempfiles: whether to delete the temporary files after finishing\n",
      "    :type delete_tempfiles: bool\n",
      "    :param julia_project: a Julia environment location containing a Project.toml (and potentially the source code for SymbolicRegression.jl).  Default gives the Python package directory, where a Project.toml file should be present from the install.\n",
      "    :type julia_project: str/None\n",
      "    :param user_input: Whether to ask for user input or not for installing (to be used for automated scripts). Will choose to install when asked.\n",
      "    :type user_input: bool\n",
      "    :param update: Whether to automatically update Julia packages.\n",
      "    :type update: bool\n",
      "    :param temp_equation_file: Whether to put the hall of fame file in the temp directory. Deletion is then controlled with the delete_tempfiles argument.\n",
      "    :type temp_equation_file: bool\n",
      "    :param output_jax_format: Whether to create a 'jax_format' column in the output, containing jax-callable functions and the default parameters in a jax array.\n",
      "    :type output_jax_format: bool\n",
      "    :param output_torch_format: Whether to create a 'torch_format' column in the output, containing a torch module with trainable parameters.\n",
      "    :type output_torch_format: bool\n",
      "    :param tournament_selection_n: Number of expressions to consider in each tournament.\n",
      "    :type tournament_selection_n: int\n",
      "    :param tournament_selection_p: Probability of selecting the best expression in each tournament. The probability will decay as p*(1-p)^n for other expressions, sorted by loss.\n",
      "    :type tournament_selection_p: float\n",
      "    :param denoise: Whether to use a Gaussian Process to denoise the data before inputting to PySR. Can help PySR fit noisy data.\n",
      "    :type denoise: bool\n",
      "    :param precision: What precision to use for the data. By default this is 32 (float32), but you can select 64 or 16 as well.\n",
      "    :type precision: int\n",
      "    :param multithreading: Use multithreading instead of distributed\n",
      "    :type multithreading: bool\n",
      "    :returns: Results dataframe, giving complexity, MSE, and equations (as strings), as well as functional forms. If list, each element corresponds to a dataframe of equations for each output.\n",
      "    :type: pd.DataFrame/list\n",
      "\n"
     ]
    }
   ],
   "source": [
    "help(pysr)"
   ]
  },
  {
   "cell_type": "code",
   "execution_count": 68,
   "metadata": {},
   "outputs": [
    {
     "data": {
      "text/plain": [
       "\u001b[0;31mSignature:\u001b[0m\n",
       "\u001b[0mpysr\u001b[0m\u001b[0;34m(\u001b[0m\u001b[0;34m\u001b[0m\n",
       "\u001b[0;34m\u001b[0m    \u001b[0mX\u001b[0m\u001b[0;34m,\u001b[0m\u001b[0;34m\u001b[0m\n",
       "\u001b[0;34m\u001b[0m    \u001b[0my\u001b[0m\u001b[0;34m,\u001b[0m\u001b[0;34m\u001b[0m\n",
       "\u001b[0;34m\u001b[0m    \u001b[0mweights\u001b[0m\u001b[0;34m=\u001b[0m\u001b[0;32mNone\u001b[0m\u001b[0;34m,\u001b[0m\u001b[0;34m\u001b[0m\n",
       "\u001b[0;34m\u001b[0m    \u001b[0mbinary_operators\u001b[0m\u001b[0;34m=\u001b[0m\u001b[0;32mNone\u001b[0m\u001b[0;34m,\u001b[0m\u001b[0;34m\u001b[0m\n",
       "\u001b[0;34m\u001b[0m    \u001b[0munary_operators\u001b[0m\u001b[0;34m=\u001b[0m\u001b[0;32mNone\u001b[0m\u001b[0;34m,\u001b[0m\u001b[0;34m\u001b[0m\n",
       "\u001b[0;34m\u001b[0m    \u001b[0mprocs\u001b[0m\u001b[0;34m=\u001b[0m\u001b[0;36m4\u001b[0m\u001b[0;34m,\u001b[0m\u001b[0;34m\u001b[0m\n",
       "\u001b[0;34m\u001b[0m    \u001b[0mloss\u001b[0m\u001b[0;34m=\u001b[0m\u001b[0;34m'L2DistLoss()'\u001b[0m\u001b[0;34m,\u001b[0m\u001b[0;34m\u001b[0m\n",
       "\u001b[0;34m\u001b[0m    \u001b[0mpopulations\u001b[0m\u001b[0;34m=\u001b[0m\u001b[0;36m20\u001b[0m\u001b[0;34m,\u001b[0m\u001b[0;34m\u001b[0m\n",
       "\u001b[0;34m\u001b[0m    \u001b[0mniterations\u001b[0m\u001b[0;34m=\u001b[0m\u001b[0;36m100\u001b[0m\u001b[0;34m,\u001b[0m\u001b[0;34m\u001b[0m\n",
       "\u001b[0;34m\u001b[0m    \u001b[0mncyclesperiteration\u001b[0m\u001b[0;34m=\u001b[0m\u001b[0;36m300\u001b[0m\u001b[0;34m,\u001b[0m\u001b[0;34m\u001b[0m\n",
       "\u001b[0;34m\u001b[0m    \u001b[0malpha\u001b[0m\u001b[0;34m=\u001b[0m\u001b[0;36m0.1\u001b[0m\u001b[0;34m,\u001b[0m\u001b[0;34m\u001b[0m\n",
       "\u001b[0;34m\u001b[0m    \u001b[0mannealing\u001b[0m\u001b[0;34m=\u001b[0m\u001b[0;32mFalse\u001b[0m\u001b[0;34m,\u001b[0m\u001b[0;34m\u001b[0m\n",
       "\u001b[0;34m\u001b[0m    \u001b[0mfractionReplaced\u001b[0m\u001b[0;34m=\u001b[0m\u001b[0;36m0.1\u001b[0m\u001b[0;34m,\u001b[0m\u001b[0;34m\u001b[0m\n",
       "\u001b[0;34m\u001b[0m    \u001b[0mfractionReplacedHof\u001b[0m\u001b[0;34m=\u001b[0m\u001b[0;36m0.1\u001b[0m\u001b[0;34m,\u001b[0m\u001b[0;34m\u001b[0m\n",
       "\u001b[0;34m\u001b[0m    \u001b[0mnpop\u001b[0m\u001b[0;34m=\u001b[0m\u001b[0;36m1000\u001b[0m\u001b[0;34m,\u001b[0m\u001b[0;34m\u001b[0m\n",
       "\u001b[0;34m\u001b[0m    \u001b[0mparsimony\u001b[0m\u001b[0;34m=\u001b[0m\u001b[0;36m0.0001\u001b[0m\u001b[0;34m,\u001b[0m\u001b[0;34m\u001b[0m\n",
       "\u001b[0;34m\u001b[0m    \u001b[0mmigration\u001b[0m\u001b[0;34m=\u001b[0m\u001b[0;32mTrue\u001b[0m\u001b[0;34m,\u001b[0m\u001b[0;34m\u001b[0m\n",
       "\u001b[0;34m\u001b[0m    \u001b[0mhofMigration\u001b[0m\u001b[0;34m=\u001b[0m\u001b[0;32mTrue\u001b[0m\u001b[0;34m,\u001b[0m\u001b[0;34m\u001b[0m\n",
       "\u001b[0;34m\u001b[0m    \u001b[0mshouldOptimizeConstants\u001b[0m\u001b[0;34m=\u001b[0m\u001b[0;32mTrue\u001b[0m\u001b[0;34m,\u001b[0m\u001b[0;34m\u001b[0m\n",
       "\u001b[0;34m\u001b[0m    \u001b[0mtopn\u001b[0m\u001b[0;34m=\u001b[0m\u001b[0;36m10\u001b[0m\u001b[0;34m,\u001b[0m\u001b[0;34m\u001b[0m\n",
       "\u001b[0;34m\u001b[0m    \u001b[0mweightAddNode\u001b[0m\u001b[0;34m=\u001b[0m\u001b[0;36m1\u001b[0m\u001b[0;34m,\u001b[0m\u001b[0;34m\u001b[0m\n",
       "\u001b[0;34m\u001b[0m    \u001b[0mweightInsertNode\u001b[0m\u001b[0;34m=\u001b[0m\u001b[0;36m3\u001b[0m\u001b[0;34m,\u001b[0m\u001b[0;34m\u001b[0m\n",
       "\u001b[0;34m\u001b[0m    \u001b[0mweightDeleteNode\u001b[0m\u001b[0;34m=\u001b[0m\u001b[0;36m3\u001b[0m\u001b[0;34m,\u001b[0m\u001b[0;34m\u001b[0m\n",
       "\u001b[0;34m\u001b[0m    \u001b[0mweightDoNothing\u001b[0m\u001b[0;34m=\u001b[0m\u001b[0;36m1\u001b[0m\u001b[0;34m,\u001b[0m\u001b[0;34m\u001b[0m\n",
       "\u001b[0;34m\u001b[0m    \u001b[0mweightMutateConstant\u001b[0m\u001b[0;34m=\u001b[0m\u001b[0;36m10\u001b[0m\u001b[0;34m,\u001b[0m\u001b[0;34m\u001b[0m\n",
       "\u001b[0;34m\u001b[0m    \u001b[0mweightMutateOperator\u001b[0m\u001b[0;34m=\u001b[0m\u001b[0;36m1\u001b[0m\u001b[0;34m,\u001b[0m\u001b[0;34m\u001b[0m\n",
       "\u001b[0;34m\u001b[0m    \u001b[0mweightRandomize\u001b[0m\u001b[0;34m=\u001b[0m\u001b[0;36m1\u001b[0m\u001b[0;34m,\u001b[0m\u001b[0;34m\u001b[0m\n",
       "\u001b[0;34m\u001b[0m    \u001b[0mweightSimplify\u001b[0m\u001b[0;34m=\u001b[0m\u001b[0;36m0.01\u001b[0m\u001b[0;34m,\u001b[0m\u001b[0;34m\u001b[0m\n",
       "\u001b[0;34m\u001b[0m    \u001b[0mperturbationFactor\u001b[0m\u001b[0;34m=\u001b[0m\u001b[0;36m1.0\u001b[0m\u001b[0;34m,\u001b[0m\u001b[0;34m\u001b[0m\n",
       "\u001b[0;34m\u001b[0m    \u001b[0mtimeout\u001b[0m\u001b[0;34m=\u001b[0m\u001b[0;32mNone\u001b[0m\u001b[0;34m,\u001b[0m\u001b[0;34m\u001b[0m\n",
       "\u001b[0;34m\u001b[0m    \u001b[0mextra_sympy_mappings\u001b[0m\u001b[0;34m=\u001b[0m\u001b[0;32mNone\u001b[0m\u001b[0;34m,\u001b[0m\u001b[0;34m\u001b[0m\n",
       "\u001b[0;34m\u001b[0m    \u001b[0mextra_torch_mappings\u001b[0m\u001b[0;34m=\u001b[0m\u001b[0;32mNone\u001b[0m\u001b[0;34m,\u001b[0m\u001b[0;34m\u001b[0m\n",
       "\u001b[0;34m\u001b[0m    \u001b[0mextra_jax_mappings\u001b[0m\u001b[0;34m=\u001b[0m\u001b[0;32mNone\u001b[0m\u001b[0;34m,\u001b[0m\u001b[0;34m\u001b[0m\n",
       "\u001b[0;34m\u001b[0m    \u001b[0mequation_file\u001b[0m\u001b[0;34m=\u001b[0m\u001b[0;32mNone\u001b[0m\u001b[0;34m,\u001b[0m\u001b[0;34m\u001b[0m\n",
       "\u001b[0;34m\u001b[0m    \u001b[0mverbosity\u001b[0m\u001b[0;34m=\u001b[0m\u001b[0;36m1000000000.0\u001b[0m\u001b[0;34m,\u001b[0m\u001b[0;34m\u001b[0m\n",
       "\u001b[0;34m\u001b[0m    \u001b[0mprogress\u001b[0m\u001b[0;34m=\u001b[0m\u001b[0;32mNone\u001b[0m\u001b[0;34m,\u001b[0m\u001b[0;34m\u001b[0m\n",
       "\u001b[0;34m\u001b[0m    \u001b[0mmaxsize\u001b[0m\u001b[0;34m=\u001b[0m\u001b[0;36m20\u001b[0m\u001b[0;34m,\u001b[0m\u001b[0;34m\u001b[0m\n",
       "\u001b[0;34m\u001b[0m    \u001b[0mfast_cycle\u001b[0m\u001b[0;34m=\u001b[0m\u001b[0;32mFalse\u001b[0m\u001b[0;34m,\u001b[0m\u001b[0;34m\u001b[0m\n",
       "\u001b[0;34m\u001b[0m    \u001b[0mmaxdepth\u001b[0m\u001b[0;34m=\u001b[0m\u001b[0;32mNone\u001b[0m\u001b[0;34m,\u001b[0m\u001b[0;34m\u001b[0m\n",
       "\u001b[0;34m\u001b[0m    \u001b[0mvariable_names\u001b[0m\u001b[0;34m=\u001b[0m\u001b[0;32mNone\u001b[0m\u001b[0;34m,\u001b[0m\u001b[0;34m\u001b[0m\n",
       "\u001b[0;34m\u001b[0m    \u001b[0mbatching\u001b[0m\u001b[0;34m=\u001b[0m\u001b[0;32mFalse\u001b[0m\u001b[0;34m,\u001b[0m\u001b[0;34m\u001b[0m\n",
       "\u001b[0;34m\u001b[0m    \u001b[0mbatchSize\u001b[0m\u001b[0;34m=\u001b[0m\u001b[0;36m50\u001b[0m\u001b[0;34m,\u001b[0m\u001b[0;34m\u001b[0m\n",
       "\u001b[0;34m\u001b[0m    \u001b[0mselect_k_features\u001b[0m\u001b[0;34m=\u001b[0m\u001b[0;32mNone\u001b[0m\u001b[0;34m,\u001b[0m\u001b[0;34m\u001b[0m\n",
       "\u001b[0;34m\u001b[0m    \u001b[0mwarmupMaxsizeBy\u001b[0m\u001b[0;34m=\u001b[0m\u001b[0;36m0.0\u001b[0m\u001b[0;34m,\u001b[0m\u001b[0;34m\u001b[0m\n",
       "\u001b[0;34m\u001b[0m    \u001b[0mconstraints\u001b[0m\u001b[0;34m=\u001b[0m\u001b[0;32mNone\u001b[0m\u001b[0;34m,\u001b[0m\u001b[0;34m\u001b[0m\n",
       "\u001b[0;34m\u001b[0m    \u001b[0museFrequency\u001b[0m\u001b[0;34m=\u001b[0m\u001b[0;32mTrue\u001b[0m\u001b[0;34m,\u001b[0m\u001b[0;34m\u001b[0m\n",
       "\u001b[0;34m\u001b[0m    \u001b[0mtempdir\u001b[0m\u001b[0;34m=\u001b[0m\u001b[0;32mNone\u001b[0m\u001b[0;34m,\u001b[0m\u001b[0;34m\u001b[0m\n",
       "\u001b[0;34m\u001b[0m    \u001b[0mdelete_tempfiles\u001b[0m\u001b[0;34m=\u001b[0m\u001b[0;32mTrue\u001b[0m\u001b[0;34m,\u001b[0m\u001b[0;34m\u001b[0m\n",
       "\u001b[0;34m\u001b[0m    \u001b[0mjulia_optimization\u001b[0m\u001b[0;34m=\u001b[0m\u001b[0;36m3\u001b[0m\u001b[0;34m,\u001b[0m\u001b[0;34m\u001b[0m\n",
       "\u001b[0;34m\u001b[0m    \u001b[0mjulia_project\u001b[0m\u001b[0;34m=\u001b[0m\u001b[0;32mNone\u001b[0m\u001b[0;34m,\u001b[0m\u001b[0;34m\u001b[0m\n",
       "\u001b[0;34m\u001b[0m    \u001b[0muser_input\u001b[0m\u001b[0;34m=\u001b[0m\u001b[0;32mTrue\u001b[0m\u001b[0;34m,\u001b[0m\u001b[0;34m\u001b[0m\n",
       "\u001b[0;34m\u001b[0m    \u001b[0mupdate\u001b[0m\u001b[0;34m=\u001b[0m\u001b[0;32mTrue\u001b[0m\u001b[0;34m,\u001b[0m\u001b[0;34m\u001b[0m\n",
       "\u001b[0;34m\u001b[0m    \u001b[0mtemp_equation_file\u001b[0m\u001b[0;34m=\u001b[0m\u001b[0;32mFalse\u001b[0m\u001b[0;34m,\u001b[0m\u001b[0;34m\u001b[0m\n",
       "\u001b[0;34m\u001b[0m    \u001b[0moutput_jax_format\u001b[0m\u001b[0;34m=\u001b[0m\u001b[0;32mFalse\u001b[0m\u001b[0;34m,\u001b[0m\u001b[0;34m\u001b[0m\n",
       "\u001b[0;34m\u001b[0m    \u001b[0moutput_torch_format\u001b[0m\u001b[0;34m=\u001b[0m\u001b[0;32mFalse\u001b[0m\u001b[0;34m,\u001b[0m\u001b[0;34m\u001b[0m\n",
       "\u001b[0;34m\u001b[0m    \u001b[0moptimizer_algorithm\u001b[0m\u001b[0;34m=\u001b[0m\u001b[0;34m'BFGS'\u001b[0m\u001b[0;34m,\u001b[0m\u001b[0;34m\u001b[0m\n",
       "\u001b[0;34m\u001b[0m    \u001b[0moptimizer_nrestarts\u001b[0m\u001b[0;34m=\u001b[0m\u001b[0;36m3\u001b[0m\u001b[0;34m,\u001b[0m\u001b[0;34m\u001b[0m\n",
       "\u001b[0;34m\u001b[0m    \u001b[0moptimize_probability\u001b[0m\u001b[0;34m=\u001b[0m\u001b[0;36m1.0\u001b[0m\u001b[0;34m,\u001b[0m\u001b[0;34m\u001b[0m\n",
       "\u001b[0;34m\u001b[0m    \u001b[0moptimizer_iterations\u001b[0m\u001b[0;34m=\u001b[0m\u001b[0;36m10\u001b[0m\u001b[0;34m,\u001b[0m\u001b[0;34m\u001b[0m\n",
       "\u001b[0;34m\u001b[0m    \u001b[0mtournament_selection_n\u001b[0m\u001b[0;34m=\u001b[0m\u001b[0;36m10\u001b[0m\u001b[0;34m,\u001b[0m\u001b[0;34m\u001b[0m\n",
       "\u001b[0;34m\u001b[0m    \u001b[0mtournament_selection_p\u001b[0m\u001b[0;34m=\u001b[0m\u001b[0;36m1.0\u001b[0m\u001b[0;34m,\u001b[0m\u001b[0;34m\u001b[0m\n",
       "\u001b[0;34m\u001b[0m    \u001b[0mdenoise\u001b[0m\u001b[0;34m=\u001b[0m\u001b[0;32mFalse\u001b[0m\u001b[0;34m,\u001b[0m\u001b[0;34m\u001b[0m\n",
       "\u001b[0;34m\u001b[0m    \u001b[0mXresampled\u001b[0m\u001b[0;34m=\u001b[0m\u001b[0;32mNone\u001b[0m\u001b[0;34m,\u001b[0m\u001b[0;34m\u001b[0m\n",
       "\u001b[0;34m\u001b[0m    \u001b[0mprecision\u001b[0m\u001b[0;34m=\u001b[0m\u001b[0;36m32\u001b[0m\u001b[0;34m,\u001b[0m\u001b[0;34m\u001b[0m\n",
       "\u001b[0;34m\u001b[0m    \u001b[0mmultithreading\u001b[0m\u001b[0;34m=\u001b[0m\u001b[0;32mFalse\u001b[0m\u001b[0;34m,\u001b[0m\u001b[0;34m\u001b[0m\n",
       "\u001b[0;34m\u001b[0m\u001b[0;34m)\u001b[0m\u001b[0;34m\u001b[0m\u001b[0;34m\u001b[0m\u001b[0m\n",
       "\u001b[0;31mDocstring:\u001b[0m\n",
       "Run symbolic regression to fit f(X[i, :]) ~ y[i] for all i.\n",
       "Note: most default parameters have been tuned over several example\n",
       "equations, but you should adjust `niterations`,\n",
       "`binary_operators`, `unary_operators` to your requirements.\n",
       "You can view more detailed explanations of the options on the\n",
       "[options page](https://pysr.readthedocs.io/en/latest/docs/options/) of the documentation.\n",
       "\n",
       ":param X: 2D array. Rows are examples, columns are features. If pandas DataFrame, the columns are used for variable names (so make sure they don't contain spaces).\n",
       ":type X: np.ndarray/pandas.DataFrame\n",
       ":param y: 1D array (rows are examples) or 2D array (rows are examples, columns are outputs). Putting in a 2D array will trigger a search for equations for each feature of y.\n",
       ":type y: np.ndarray\n",
       ":param weights: same shape as y. Each element is how to weight the mean-square-error loss for that particular element of y.\n",
       ":type weights: np.ndarray\n",
       ":param binary_operators: List of strings giving the binary operators in Julia's Base. Default is [\"+\", \"-\", \"*\", \"/\",].\n",
       ":type binary_operators: list\n",
       ":param unary_operators: Same but for operators taking a single scalar. Default is [].\n",
       ":type unary_operators: list\n",
       ":param procs: Number of processes (=number of populations running).\n",
       ":type procs: int\n",
       ":param loss: String of Julia code specifying the loss function.  Can either be a loss from LossFunctions.jl, or your own loss written as a function. Examples of custom written losses include: `myloss(x, y) = abs(x-y)` for non-weighted, or `myloss(x, y, w) = w*abs(x-y)` for weighted.  Among the included losses, these are as follows. Regression: `LPDistLoss{P}()`, `L1DistLoss()`, `L2DistLoss()` (mean square), `LogitDistLoss()`, `HuberLoss(d)`, `L1EpsilonInsLoss(ϵ)`, `L2EpsilonInsLoss(ϵ)`, `PeriodicLoss(c)`, `QuantileLoss(τ)`.  Classification: `ZeroOneLoss()`, `PerceptronLoss()`, `L1HingeLoss()`, `SmoothedL1HingeLoss(γ)`, `ModifiedHuberLoss()`, `L2MarginLoss()`, `ExpLoss()`, `SigmoidLoss()`, `DWDMarginLoss(q)`.\n",
       ":type loss: str\n",
       ":param populations: Number of populations running.\n",
       ":type populations: int\n",
       ":param niterations: Number of iterations of the algorithm to run. The best equations are printed, and migrate between populations, at the end of each.\n",
       ":type niterations: int\n",
       ":param ncyclesperiteration: Number of total mutations to run, per 10 samples of the population, per iteration.\n",
       ":type ncyclesperiteration: int\n",
       ":param alpha: Initial temperature.\n",
       ":type alpha: float\n",
       ":param annealing: Whether to use annealing. You should (and it is default).\n",
       ":type annealing: bool\n",
       ":param fractionReplaced: How much of population to replace with migrating equations from other populations.\n",
       ":type fractionReplaced: float\n",
       ":param fractionReplacedHof: How much of population to replace with migrating equations from hall of fame.\n",
       ":type fractionReplacedHof: float\n",
       ":param npop: Number of individuals in each population\n",
       ":type npop: int\n",
       ":param parsimony: Multiplicative factor for how much to punish complexity.\n",
       ":type parsimony: float\n",
       ":param migration: Whether to migrate.\n",
       ":type migration: bool\n",
       ":param hofMigration: Whether to have the hall of fame migrate.\n",
       ":type hofMigration: bool\n",
       ":param shouldOptimizeConstants: Whether to numerically optimize constants (Nelder-Mead/Newton) at the end of each iteration.\n",
       ":type shouldOptimizeConstants: bool\n",
       ":param topn: How many top individuals migrate from each population.\n",
       ":type topn: int\n",
       ":param perturbationFactor: Constants are perturbed by a max factor of (perturbationFactor*T + 1). Either multiplied by this or divided by this.\n",
       ":type perturbationFactor: float\n",
       ":param weightAddNode: Relative likelihood for mutation to add a node\n",
       ":type weightAddNode: float\n",
       ":param weightInsertNode: Relative likelihood for mutation to insert a node\n",
       ":type weightInsertNode: float\n",
       ":param weightDeleteNode: Relative likelihood for mutation to delete a node\n",
       ":type weightDeleteNode: float\n",
       ":param weightDoNothing: Relative likelihood for mutation to leave the individual\n",
       ":type weightDoNothing: float\n",
       ":param weightMutateConstant: Relative likelihood for mutation to change the constant slightly in a random direction.\n",
       ":type weightMutateConstant: float\n",
       ":param weightMutateOperator: Relative likelihood for mutation to swap an operator.\n",
       ":type weightMutateOperator: float\n",
       ":param weightRandomize: Relative likelihood for mutation to completely delete and then randomly generate the equation\n",
       ":type weightRandomize: float\n",
       ":param weightSimplify: Relative likelihood for mutation to simplify constant parts by evaluation\n",
       ":type weightSimplify: float\n",
       ":param timeout: Time in seconds to timeout search\n",
       ":type timeout: float\n",
       ":param equation_file: Where to save the files (.csv separated by |)\n",
       ":type equation_file: str\n",
       ":param verbosity: What verbosity level to use. 0 means minimal print statements.\n",
       ":type verbosity: int\n",
       ":param progress: Whether to use a progress bar instead of printing to stdout.\n",
       ":type progress: bool\n",
       ":param maxsize: Max size of an equation.\n",
       ":type maxsize: int\n",
       ":param maxdepth: Max depth of an equation. You can use both maxsize and maxdepth.  maxdepth is by default set to = maxsize, which means that it is redundant.\n",
       ":type maxdepth: int\n",
       ":param fast_cycle: (experimental) - batch over population subsamples. This is a slightly different algorithm than regularized evolution, but does cycles 15% faster. May be algorithmically less efficient.\n",
       ":type fast_cycle: bool\n",
       ":param variable_names: a list of names for the variables, other than \"x0\", \"x1\", etc.\n",
       ":type variable_names: list\n",
       ":param batching: whether to compare population members on small batches during evolution. Still uses full dataset for comparing against hall of fame.\n",
       ":type batching: bool\n",
       ":param batchSize: the amount of data to use if doing batching.\n",
       ":type batchSize: int\n",
       ":param select_k_features: whether to run feature selection in Python using random forests, before passing to the symbolic regression code. None means no feature selection; an int means select that many features.\n",
       ":type select_k_features: None/int\n",
       ":param warmupMaxsizeBy: whether to slowly increase max size from a small number up to the maxsize (if greater than 0).  If greater than 0, says the fraction of training time at which the current maxsize will reach the user-passed maxsize.\n",
       ":type warmupMaxsizeBy: float\n",
       ":param constraints: dictionary of int (unary) or 2-tuples (binary), this enforces maxsize constraints on the individual arguments of operators. E.g., `'pow': (-1, 1)` says that power laws can have any complexity left argument, but only 1 complexity exponent. Use this to force more interpretable solutions.\n",
       ":type constraints: dict\n",
       ":param useFrequency: whether to measure the frequency of complexities, and use that instead of parsimony to explore equation space. Will naturally find equations of all complexities.\n",
       ":type useFrequency: bool\n",
       ":param julia_optimization: Optimization level (0, 1, 2, 3)\n",
       ":type julia_optimization: int\n",
       ":param tempdir: directory for the temporary files\n",
       ":type tempdir: str/None\n",
       ":param delete_tempfiles: whether to delete the temporary files after finishing\n",
       ":type delete_tempfiles: bool\n",
       ":param julia_project: a Julia environment location containing a Project.toml (and potentially the source code for SymbolicRegression.jl).  Default gives the Python package directory, where a Project.toml file should be present from the install.\n",
       ":type julia_project: str/None\n",
       ":param user_input: Whether to ask for user input or not for installing (to be used for automated scripts). Will choose to install when asked.\n",
       ":type user_input: bool\n",
       ":param update: Whether to automatically update Julia packages.\n",
       ":type update: bool\n",
       ":param temp_equation_file: Whether to put the hall of fame file in the temp directory. Deletion is then controlled with the delete_tempfiles argument.\n",
       ":type temp_equation_file: bool\n",
       ":param output_jax_format: Whether to create a 'jax_format' column in the output, containing jax-callable functions and the default parameters in a jax array.\n",
       ":type output_jax_format: bool\n",
       ":param output_torch_format: Whether to create a 'torch_format' column in the output, containing a torch module with trainable parameters.\n",
       ":type output_torch_format: bool\n",
       ":param tournament_selection_n: Number of expressions to consider in each tournament.\n",
       ":type tournament_selection_n: int\n",
       ":param tournament_selection_p: Probability of selecting the best expression in each tournament. The probability will decay as p*(1-p)^n for other expressions, sorted by loss.\n",
       ":type tournament_selection_p: float\n",
       ":param denoise: Whether to use a Gaussian Process to denoise the data before inputting to PySR. Can help PySR fit noisy data.\n",
       ":type denoise: bool\n",
       ":param precision: What precision to use for the data. By default this is 32 (float32), but you can select 64 or 16 as well.\n",
       ":type precision: int\n",
       ":param multithreading: Use multithreading instead of distributed\n",
       ":type multithreading: bool\n",
       ":returns: Results dataframe, giving complexity, MSE, and equations (as strings), as well as functional forms. If list, each element corresponds to a dataframe of equations for each output.\n",
       ":type: pd.DataFrame/list\n",
       "\u001b[0;31mFile:\u001b[0m      ~/miniconda3/envs/symb2/lib/python3.7/site-packages/pysr/sr.py\n",
       "\u001b[0;31mType:\u001b[0m      function\n"
      ]
     },
     "metadata": {},
     "output_type": "display_data"
    }
   ],
   "source": [
    "?pysr"
   ]
  },
  {
   "cell_type": "code",
   "execution_count": null,
   "metadata": {},
   "outputs": [],
   "source": [
    "ADD SORT KEYS TO CLUSTER PY FILE"
   ]
  },
  {
   "cell_type": "code",
   "execution_count": 3,
   "metadata": {},
   "outputs": [],
   "source": [
    "# get data\n",
    "\n",
    "import json\n",
    "with open(\"./results/symbolic_scores_sweep.json\", \"r\") as file:\n",
    "    results_symb = json.load(file)"
   ]
  },
  {
   "cell_type": "code",
   "execution_count": 6,
   "metadata": {},
   "outputs": [],
   "source": [
    "# with open(\"./results/symbolic_scores_sweep.json\", \"r\") as file:\n",
    "#     results_symb = json.load(file)\n",
    "#     json.dump(\"./results/symbolic_scores_sweep.json\", sort_keys=True)\n",
    "    \n",
    "# with open(\"./results/symbolic_scores_sweep.json\", 'w') as f:\n",
    "#     json.dump(results_symb, f, indent=4, sort_keys=True)"
   ]
  },
  {
   "cell_type": "code",
   "execution_count": 57,
   "metadata": {},
   "outputs": [
    {
     "name": "stdout",
     "output_type": "stream",
     "text": [
      "Killing process... will return when done.\n",
      "x0**2\n"
     ]
    }
   ],
   "source": [
    "# Dataset\n",
    "X = 2 * np.random.randn(100, 5)\n",
    "y = 2 * np.cos(X[:, 3]) + X[:, 0] ** 2 - 2\n",
    "\n",
    "# Learn equations\n",
    "equations = pysr(\n",
    "    X,\n",
    "    y,\n",
    "    niterations=5,\n",
    "    binary_operators=[\"+\", \"*\"],\n",
    "    delete_tempfiles=True,\n",
    "    verbosity=0,\n",
    "    multithreading=False,\n",
    "    unary_operators=[\n",
    "        \"cos\",\n",
    "        \"exp\",\n",
    "        \"sin\",  # Pre-defined library of operators (see docs)\n",
    "        \"log\",\n",
    "        \"tanh\",\n",
    "        \"inv(x) = 1/x\",  # Define your own operator! (Julia syntax)\n",
    "    ],\n",
    ")\n",
    "\n",
    "# ...# (you can use ctl-c to exit early)\n",
    "\n",
    "print(best(equations))"
   ]
  },
  {
   "cell_type": "code",
   "execution_count": 47,
   "metadata": {},
   "outputs": [],
   "source": [
    "dd = dict()\n",
    "\n",
    "dd.update({\"tt\" : 7})"
   ]
  },
  {
   "cell_type": "code",
   "execution_count": 48,
   "metadata": {},
   "outputs": [
    {
     "data": {
      "text/plain": [
       "{'tt': 7}"
      ]
     },
     "execution_count": 48,
     "metadata": {},
     "output_type": "execute_result"
    }
   ],
   "source": [
    "dd"
   ]
  },
  {
   "cell_type": "code",
   "execution_count": 18,
   "metadata": {},
   "outputs": [
    {
     "data": {
      "text/plain": [
       "(150, 3)"
      ]
     },
     "execution_count": 18,
     "metadata": {},
     "output_type": "execute_result"
    }
   ],
   "source": [
    "X_train.shape"
   ]
  },
  {
   "cell_type": "code",
   "execution_count": 19,
   "metadata": {},
   "outputs": [
    {
     "data": {
      "text/plain": [
       "(150, 3)"
      ]
     },
     "execution_count": 19,
     "metadata": {},
     "output_type": "execute_result"
    }
   ],
   "source": [
    "y_train.shape"
   ]
  },
  {
   "cell_type": "code",
   "execution_count": 60,
   "metadata": {},
   "outputs": [
    {
     "data": {
      "image/png": "[encoded data removed]",
      "text/plain": [
       "<Figure size 432x288 with 1 Axes>"
      ]
     },
     "metadata": {
      "needs_background": "light"
     },
     "output_type": "display_data"
    },
    {
     "data": {
      "image/png": "[encoded data removed]",
      "text/plain": [
       "<Figure size 432x288 with 1 Axes>"
      ]
     },
     "metadata": {
      "needs_background": "light"
     },
     "output_type": "display_data"
    },
    {
     "data": {
      "image/png": "[encoded data removed]",
      "text/plain": [
       "<Figure size 432x288 with 1 Axes>"
      ]
     },
     "metadata": {
      "needs_background": "light"
     },
     "output_type": "display_data"
    }
   ],
   "source": [
    "score_vals = np.array([(sym_scores[item][\"SINDY-poly\"], sym_scores[item][\"SINDY-fourier\"]) for item in sym_scores])\n",
    "\n",
    "plt.figure()\n",
    "plt.hist(score_vals[:, 0])\n",
    "\n",
    "plt.figure()\n",
    "plt.hist(score_vals[:, 1])\n",
    "\n",
    "plt.figure()\n",
    "plt.plot(*score_vals.T, '.');"
   ]
  },
  {
   "cell_type": "code",
   "execution_count": 75,
   "metadata": {},
   "outputs": [
    {
     "data": {
      "text/plain": [
       "[<matplotlib.lines.Line2D at 0x7fa958c25a90>]"
      ]
     },
     "execution_count": 75,
     "metadata": {},
     "output_type": "execute_result"
    },
    {
     "data": {
      "image/png": "[encoded data removed]",
      "text/plain": [
       "<Figure size 432x288 with 1 Axes>"
      ]
     },
     "metadata": {
      "needs_background": "light"
     },
     "output_type": "display_data"
    }
   ],
   "source": [
    "plt.plot(y_train[:, 1])"
   ]
  },
  {
   "cell_type": "code",
   "execution_count": 43,
   "metadata": {},
   "outputs": [],
   "source": [
    "from pysr import pysr, best_callable\n",
    "\n",
    "operator_list = [\n",
    "            \"cos\",\n",
    "            \"exp\",\n",
    "            \"sin\",\n",
    "            \"log\",\n",
    "            \"tanh\",\n",
    "            \"inv(x) = 1/x\",\n",
    "        ]\n",
    "# base operators +, −, ×, ÷,sin, cos, exp, log, x\n",
    "pysr_opts = {\n",
    "    \"populations\" : 3,  # number of workers, defaults to 20\n",
    "    \"niterations\" : 5,\n",
    "    \"procs\": 1, # number of threads\n",
    "    \"delete_tempfiles\" : True,\n",
    "    \"verbosity\": 0,\n",
    "    \"unary_operators\" : operator_list,\n",
    "    \"binary_operators\" : [\"+\", \"*\", \"÷\", \"-\"]\n",
    "}\n",
    "\n",
    "models = pysr(\n",
    "    X_train[:10],\n",
    "    y_train[:10, i],\n",
    "    **pysr_opts\n",
    ")\n",
    "# print(best(equations))\n",
    "\n",
    "y_test_pred = best_callable(models)(X_test)\n",
    "# plt.plot(best_callable(equations)(y_test))\n"
   ]
  },
  {
   "cell_type": "code",
   "execution_count": null,
   "metadata": {},
   "outputs": [],
   "source": []
  },
  {
   "cell_type": "code",
   "execution_count": 39,
   "metadata": {},
   "outputs": [],
   "source": [
    "# try 100 points"
   ]
  },
  {
   "cell_type": "code",
   "execution_count": 45,
   "metadata": {},
   "outputs": [
    {
     "data": {
      "text/plain": [
       "[<matplotlib.lines.Line2D at 0x7fe7b85df590>]"
      ]
     },
     "execution_count": 45,
     "metadata": {},
     "output_type": "execute_result"
    },
    {
     "data": {
      "image/png": "[encoded data removed]",
      "text/plain": [
       "<Figure size 432x288 with 1 Axes>"
      ]
     },
     "metadata": {
      "needs_background": "light"
     },
     "output_type": "display_data"
    }
   ],
   "source": [
    "import matplotlib.pyplot as plt\n",
    "%matplotlib inline\n",
    "\n",
    "plt.plot(best_callable(equations)(X_test))\n",
    "plt.plot(y_test[:, i])"
   ]
  },
  {
   "cell_type": "code",
   "execution_count": 42,
   "metadata": {},
   "outputs": [
    {
     "data": {
      "text/plain": [
       "[<matplotlib.lines.Line2D at 0x7fe759761b90>]"
      ]
     },
     "execution_count": 42,
     "metadata": {},
     "output_type": "execute_result"
    },
    {
     "data": {
      "image/png": "[encoded data removed]",
      "text/plain": [
       "<Figure size 432x288 with 1 Axes>"
      ]
     },
     "metadata": {
      "needs_background": "light"
     },
     "output_type": "display_data"
    }
   ],
   "source": [
    "import matplotlib.pyplot as plt\n",
    "%matplotlib inline\n",
    "\n",
    "plt.plot(best_callable(equations)(X_test))\n",
    "plt.plot(y_test[:, i])"
   ]
  },
  {
   "cell_type": "code",
   "execution_count": 29,
   "metadata": {},
   "outputs": [
    {
     "data": {
      "text/plain": [
       "3    PySRFunction(X=>x0 - 3.5865989*x1)\n",
       "Name: lambda_format, dtype: object"
      ]
     },
     "execution_count": 29,
     "metadata": {},
     "output_type": "execute_result"
    }
   ],
   "source": [
    "equations[equations.score == equations.score.max()][\"lambda_format\"]"
   ]
  },
  {
   "cell_type": "code",
   "execution_count": 25,
   "metadata": {},
   "outputs": [
    {
     "data": {
      "text/plain": [
       "0    0.000000\n",
       "1    1.236611\n",
       "2    0.037664\n",
       "3    4.657180\n",
       "4    0.082358\n",
       "5    0.396391\n",
       "6    0.006367\n",
       "7    0.017575\n",
       "Name: score, dtype: float64"
      ]
     },
     "execution_count": 25,
     "metadata": {},
     "output_type": "execute_result"
    }
   ],
   "source": [
    "equations[\"score\"]"
   ]
  },
  {
   "cell_type": "code",
   "execution_count": 23,
   "metadata": {},
   "outputs": [
    {
     "data": {
      "text/html": [
       "<div>\n",
       "<style scoped>\n",
       "    .dataframe tbody tr th:only-of-type {\n",
       "        vertical-align: middle;\n",
       "    }\n",
       "\n",
       "    .dataframe tbody tr th {\n",
       "        vertical-align: top;\n",
       "    }\n",
       "\n",
       "    .dataframe thead th {\n",
       "        text-align: right;\n",
       "    }\n",
       "</style>\n",
       "<table border=\"1\" class=\"dataframe\">\n",
       "  <thead>\n",
       "    <tr style=\"text-align: right;\">\n",
       "      <th></th>\n",
       "      <th>Complexity</th>\n",
       "      <th>MSE</th>\n",
       "      <th>score</th>\n",
       "      <th>Equation</th>\n",
       "      <th>sympy_format</th>\n",
       "      <th>lambda_format</th>\n",
       "    </tr>\n",
       "  </thead>\n",
       "  <tbody>\n",
       "    <tr>\n",
       "      <th>0</th>\n",
       "      <td>1</td>\n",
       "      <td>2.714743</td>\n",
       "      <td>0.000000</td>\n",
       "      <td>0.18005764</td>\n",
       "      <td>0.180057640000000</td>\n",
       "      <td>PySRFunction(X=&gt;0.180057640000000)</td>\n",
       "    </tr>\n",
       "    <tr>\n",
       "      <th>1</th>\n",
       "      <td>3</td>\n",
       "      <td>0.228887</td>\n",
       "      <td>1.236611</td>\n",
       "      <td>(x1 * -3.2937198)</td>\n",
       "      <td>-3.2937198*x1</td>\n",
       "      <td>PySRFunction(X=&gt;-3.2937198*x1)</td>\n",
       "    </tr>\n",
       "    <tr>\n",
       "      <th>2</th>\n",
       "      <td>4</td>\n",
       "      <td>0.220427</td>\n",
       "      <td>0.037664</td>\n",
       "      <td>(sin(x1) * -3.5874171)</td>\n",
       "      <td>-3.5874171*sin(x1)</td>\n",
       "      <td>PySRFunction(X=&gt;-3.5874171*sin(x1))</td>\n",
       "    </tr>\n",
       "    <tr>\n",
       "      <th>3</th>\n",
       "      <td>5</td>\n",
       "      <td>0.002093</td>\n",
       "      <td>4.657180</td>\n",
       "      <td>((x1 * -3.5865989) + x0)</td>\n",
       "      <td>x0 - 3.5865989*x1</td>\n",
       "      <td>PySRFunction(X=&gt;x0 - 3.5865989*x1)</td>\n",
       "    </tr>\n",
       "    <tr>\n",
       "      <th>4</th>\n",
       "      <td>6</td>\n",
       "      <td>0.001927</td>\n",
       "      <td>0.082358</td>\n",
       "      <td>((x1 * -3.5550137) + sin(x0))</td>\n",
       "      <td>-3.5550137*x1 + sin(x0)</td>\n",
       "      <td>PySRFunction(X=&gt;-3.5550137*x1 + sin(x0))</td>\n",
       "    </tr>\n",
       "    <tr>\n",
       "      <th>5</th>\n",
       "      <td>7</td>\n",
       "      <td>0.001296</td>\n",
       "      <td>0.396391</td>\n",
       "      <td>(((x1 * -3.5874171) + -0.028219834) + x0)</td>\n",
       "      <td>x0 - 3.5874171*x1 - 0.028219834</td>\n",
       "      <td>PySRFunction(X=&gt;x0 - 3.5874171*x1 - 0.028219834)</td>\n",
       "    </tr>\n",
       "    <tr>\n",
       "      <th>6</th>\n",
       "      <td>12</td>\n",
       "      <td>0.001256</td>\n",
       "      <td>0.006367</td>\n",
       "      <td>(inv(inv(x1) * -0.24654017) + ((tanh(x1) * 0.5...</td>\n",
       "      <td>x0 + inv(-0.24654017*inv(x1)) + 0.55652875*tan...</td>\n",
       "      <td>PySRFunction(X=&gt;x0 + inv(-0.24654017*inv(x1)) ...</td>\n",
       "    </tr>\n",
       "    <tr>\n",
       "      <th>7</th>\n",
       "      <td>13</td>\n",
       "      <td>0.001234</td>\n",
       "      <td>0.017575</td>\n",
       "      <td>(inv(inv(x1) * -0.24564007) + ((sin(sin(x1)) *...</td>\n",
       "      <td>x0 + inv(-0.24564007*inv(x1)) + 0.5780935*sin(...</td>\n",
       "      <td>PySRFunction(X=&gt;x0 + inv(-0.24564007*inv(x1)) ...</td>\n",
       "    </tr>\n",
       "  </tbody>\n",
       "</table>\n",
       "</div>"
      ],
      "text/plain": [
       "   Complexity       MSE     score  \\\n",
       "0           1  2.714743  0.000000   \n",
       "1           3  0.228887  1.236611   \n",
       "2           4  0.220427  0.037664   \n",
       "3           5  0.002093  4.657180   \n",
       "4           6  0.001927  0.082358   \n",
       "5           7  0.001296  0.396391   \n",
       "6          12  0.001256  0.006367   \n",
       "7          13  0.001234  0.017575   \n",
       "\n",
       "                                            Equation  \\\n",
       "0                                         0.18005764   \n",
       "1                                  (x1 * -3.2937198)   \n",
       "2                             (sin(x1) * -3.5874171)   \n",
       "3                           ((x1 * -3.5865989) + x0)   \n",
       "4                      ((x1 * -3.5550137) + sin(x0))   \n",
       "5          (((x1 * -3.5874171) + -0.028219834) + x0)   \n",
       "6  (inv(inv(x1) * -0.24654017) + ((tanh(x1) * 0.5...   \n",
       "7  (inv(inv(x1) * -0.24564007) + ((sin(sin(x1)) *...   \n",
       "\n",
       "                                        sympy_format  \\\n",
       "0                                  0.180057640000000   \n",
       "1                                      -3.2937198*x1   \n",
       "2                                 -3.5874171*sin(x1)   \n",
       "3                                  x0 - 3.5865989*x1   \n",
       "4                            -3.5550137*x1 + sin(x0)   \n",
       "5                    x0 - 3.5874171*x1 - 0.028219834   \n",
       "6  x0 + inv(-0.24654017*inv(x1)) + 0.55652875*tan...   \n",
       "7  x0 + inv(-0.24564007*inv(x1)) + 0.5780935*sin(...   \n",
       "\n",
       "                                       lambda_format  \n",
       "0                 PySRFunction(X=>0.180057640000000)  \n",
       "1                     PySRFunction(X=>-3.2937198*x1)  \n",
       "2                PySRFunction(X=>-3.5874171*sin(x1))  \n",
       "3                 PySRFunction(X=>x0 - 3.5865989*x1)  \n",
       "4           PySRFunction(X=>-3.5550137*x1 + sin(x0))  \n",
       "5   PySRFunction(X=>x0 - 3.5874171*x1 - 0.028219834)  \n",
       "6  PySRFunction(X=>x0 + inv(-0.24654017*inv(x1)) ...  \n",
       "7  PySRFunction(X=>x0 + inv(-0.24564007*inv(x1)) ...  "
      ]
     },
     "execution_count": 23,
     "metadata": {},
     "output_type": "execute_result"
    }
   ],
   "source": [
    "equations#.lambda_format"
   ]
  },
  {
   "cell_type": "markdown",
   "metadata": {},
   "source": [
    "## nODEs"
   ]
  },
  {
   "cell_type": "code",
   "execution_count": 4,
   "metadata": {},
   "outputs": [
    {
     "data": {
      "text/plain": [
       "(150, 3)"
      ]
     },
     "execution_count": 4,
     "metadata": {},
     "output_type": "execute_result"
    }
   ],
   "source": [
    "y_train.shape"
   ]
  },
  {
   "cell_type": "code",
   "execution_count": null,
   "metadata": {},
   "outputs": [],
   "source": []
  },
  {
   "cell_type": "code",
   "execution_count": null,
   "metadata": {},
   "outputs": [],
   "source": []
  },
  {
   "cell_type": "code",
   "execution_count": null,
   "metadata": {},
   "outputs": [],
   "source": []
  },
  {
   "cell_type": "code",
   "execution_count": null,
   "metadata": {},
   "outputs": [],
   "source": []
  }
 ],
 "metadata": {
  "kernelspec": {
   "display_name": "Python 3",
   "language": "python",
   "name": "python3"
  },
  "language_info": {
   "codemirror_mode": {
    "name": "ipython",
    "version": 3
   },
   "file_extension": ".py",
   "mimetype": "text/x-python",
   "name": "python",
   "nbconvert_exporter": "python",
   "pygments_lexer": "ipython3",
   "version": "3.8.10"
  }
 },
 "nbformat": 4,
 "nbformat_minor": 4
}
