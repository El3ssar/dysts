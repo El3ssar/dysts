{
 "cells": [
  {
   "cell_type": "code",
   "execution_count": 1,
   "metadata": {},
   "outputs": [],
   "source": [
    "import sys\n",
    "\n",
    "import matplotlib.pyplot as plt\n",
    "import json\n",
    "\n",
    "from thom import *\n",
    "from thom.base import *\n",
    "from thom.utils import *\n",
    "\n",
    "from private.lyap import lyap_r, lyap_e, corr_dim\n",
    "\n",
    "%load_ext autoreload\n",
    "%autoreload 2"
   ]
  },
  {
   "cell_type": "code",
   "execution_count": 2,
   "metadata": {},
   "outputs": [],
   "source": [
    "try:\n",
    "    from private.lyap import lyap_r, lyap_e, corr_dim\n",
    "except:\n",
    "    from nolds import lyap_r, lyap_e, corr_dim"
   ]
  },
  {
   "cell_type": "code",
   "execution_count": null,
   "metadata": {},
   "outputs": [],
   "source": []
  },
  {
   "cell_type": "code",
   "execution_count": 3,
   "metadata": {},
   "outputs": [
    {
     "name": "stdout",
     "output_type": "stream",
     "text": [
      "113\n",
      "Lorenz : "
     ]
    },
    {
     "name": "stderr",
     "output_type": "stream",
     "text": [
      "/Users/williamgilpin/program_repos/thom/private/lyap.py:332: RuntimeWarning: signal has very low mean frequency, setting min_tsep = 2500\n",
      "  warnings.warn(msg.format(min_tsep), RuntimeWarning)\n"
     ]
    },
    {
     "name": "stdout",
     "output_type": "stream",
     "text": [
      "lyap: 0.9200316147079158 corr_dim: 1.9611111444516849 \n",
      "\n",
      "LorenzBounded : "
     ]
    },
    {
     "name": "stderr",
     "output_type": "stream",
     "text": [
      "/Users/williamgilpin/program_repos/thom/private/lyap.py:332: RuntimeWarning: signal has very low mean frequency, setting min_tsep = 2500\n",
      "  warnings.warn(msg.format(min_tsep), RuntimeWarning)\n"
     ]
    },
    {
     "name": "stdout",
     "output_type": "stream",
     "text": [
      "lyap: 0.6444812234320899 corr_dim: 1.9494161061592994 \n",
      "\n",
      "LorenzCoupled : "
     ]
    },
    {
     "name": "stderr",
     "output_type": "stream",
     "text": [
      "/Users/williamgilpin/program_repos/thom/private/lyap.py:332: RuntimeWarning: signal has very low mean frequency, setting min_tsep = 2500\n",
      "  warnings.warn(msg.format(min_tsep), RuntimeWarning)\n"
     ]
    },
    {
     "name": "stdout",
     "output_type": "stream",
     "text": [
      "lyap: 0.8543606597738541 corr_dim: 2.3305096636696225 \n",
      "\n",
      "Lorenz84 : "
     ]
    },
    {
     "name": "stderr",
     "output_type": "stream",
     "text": [
      "/Users/williamgilpin/program_repos/thom/private/lyap.py:332: RuntimeWarning: signal has very low mean frequency, setting min_tsep = 2500\n",
      "  warnings.warn(msg.format(min_tsep), RuntimeWarning)\n"
     ]
    },
    {
     "name": "stdout",
     "output_type": "stream",
     "text": [
      "lyap: 2.4891816276081475 corr_dim: 1.8837465866111642 \n",
      "\n",
      "Lorenz96 : "
     ]
    },
    {
     "name": "stderr",
     "output_type": "stream",
     "text": [
      "/Users/williamgilpin/program_repos/thom/private/lyap.py:332: RuntimeWarning: signal has very low mean frequency, setting min_tsep = 2500\n",
      "  warnings.warn(msg.format(min_tsep), RuntimeWarning)\n"
     ]
    },
    {
     "name": "stdout",
     "output_type": "stream",
     "text": [
      "lyap: 2.75012240154637 corr_dim: 1.9656212865764306 \n",
      "\n",
      "Thomas : "
     ]
    },
    {
     "name": "stderr",
     "output_type": "stream",
     "text": [
      "/Users/williamgilpin/program_repos/thom/private/lyap.py:332: RuntimeWarning: signal has very low mean frequency, setting min_tsep = 2500\n",
      "  warnings.warn(msg.format(min_tsep), RuntimeWarning)\n"
     ]
    },
    {
     "name": "stdout",
     "output_type": "stream",
     "text": [
      "lyap: 1.839558174791724 corr_dim: 1.507557151551688 \n",
      "\n",
      "ThomasLabyrinth : "
     ]
    },
    {
     "name": "stderr",
     "output_type": "stream",
     "text": [
      "/Users/williamgilpin/program_repos/thom/private/lyap.py:332: RuntimeWarning: signal has very low mean frequency, setting min_tsep = 2500\n",
      "  warnings.warn(msg.format(min_tsep), RuntimeWarning)\n"
     ]
    },
    {
     "name": "stdout",
     "output_type": "stream",
     "text": [
      "lyap: 2.872193077290254 corr_dim: 1.9767126704686035 \n",
      "\n",
      "HenonHeiles : "
     ]
    },
    {
     "name": "stderr",
     "output_type": "stream",
     "text": [
      "/Users/williamgilpin/program_repos/thom/private/lyap.py:332: RuntimeWarning: signal has very low mean frequency, setting min_tsep = 2500\n",
      "  warnings.warn(msg.format(min_tsep), RuntimeWarning)\n"
     ]
    },
    {
     "name": "stdout",
     "output_type": "stream",
     "text": [
      "lyap: 0.0081001240451988 corr_dim: 1.4773465830488295 \n",
      "\n",
      "Chua : "
     ]
    },
    {
     "name": "stderr",
     "output_type": "stream",
     "text": [
      "/Users/williamgilpin/program_repos/thom/private/lyap.py:332: RuntimeWarning: signal has very low mean frequency, setting min_tsep = 2500\n",
      "  warnings.warn(msg.format(min_tsep), RuntimeWarning)\n"
     ]
    },
    {
     "name": "stdout",
     "output_type": "stream",
     "text": [
      "lyap: -0.3634336175026816 corr_dim: 1.8674307901244593 \n",
      "\n",
      "MultiChua : "
     ]
    },
    {
     "name": "stderr",
     "output_type": "stream",
     "text": [
      "/Users/williamgilpin/program_repos/thom/private/lyap.py:332: RuntimeWarning: signal has very low mean frequency, setting min_tsep = 2500\n",
      "  warnings.warn(msg.format(min_tsep), RuntimeWarning)\n"
     ]
    },
    {
     "name": "stdout",
     "output_type": "stream",
     "text": [
      "lyap: 0.8365610484343113 corr_dim: 1.7621568990381224 \n",
      "\n",
      "JerkCircuit : "
     ]
    },
    {
     "name": "stderr",
     "output_type": "stream",
     "text": [
      "/Users/williamgilpin/program_repos/thom/private/lyap.py:332: RuntimeWarning: signal has very low mean frequency, setting min_tsep = 2500\n",
      "  warnings.warn(msg.format(min_tsep), RuntimeWarning)\n"
     ]
    },
    {
     "name": "stdout",
     "output_type": "stream",
     "text": [
      "lyap: 0.08068877612500243 corr_dim: 1.9083409039953982 \n",
      "\n",
      "Colpitts : "
     ]
    },
    {
     "name": "stderr",
     "output_type": "stream",
     "text": [
      "/Users/williamgilpin/program_repos/thom/private/lyap.py:332: RuntimeWarning: signal has very low mean frequency, setting min_tsep = 2500\n",
      "  warnings.warn(msg.format(min_tsep), RuntimeWarning)\n"
     ]
    },
    {
     "name": "stdout",
     "output_type": "stream",
     "text": [
      "lyap: 0.6354496952509584 corr_dim: 1.7284957872707167 \n",
      "\n",
      "Duffing : "
     ]
    },
    {
     "name": "stderr",
     "output_type": "stream",
     "text": [
      "/Users/williamgilpin/program_repos/thom/private/lyap.py:332: RuntimeWarning: signal has very low mean frequency, setting min_tsep = 2500\n",
      "  warnings.warn(msg.format(min_tsep), RuntimeWarning)\n",
      "/Users/williamgilpin/program_repos/thom/private/lyap.py:70: RuntimeWarning: RANSAC did not reach consensus, using numpy's polyfit\n",
      "  warnings.warn(\n"
     ]
    },
    {
     "name": "stdout",
     "output_type": "stream",
     "text": [
      "lyap: 1.7323855576077178e-07 corr_dim: 0.972153047585096 \n",
      "\n",
      "Torus : "
     ]
    },
    {
     "name": "stderr",
     "output_type": "stream",
     "text": [
      "/Users/williamgilpin/program_repos/thom/private/lyap.py:332: RuntimeWarning: signal has very low mean frequency, setting min_tsep = 2500\n",
      "  warnings.warn(msg.format(min_tsep), RuntimeWarning)\n"
     ]
    },
    {
     "name": "stdout",
     "output_type": "stream",
     "text": [
      "lyap: 0.014633497397441231 corr_dim: 1.276902257684396 \n",
      "\n",
      "Halvorsen : "
     ]
    },
    {
     "name": "stderr",
     "output_type": "stream",
     "text": [
      "/Users/williamgilpin/program_repos/thom/private/lyap.py:332: RuntimeWarning: signal has very low mean frequency, setting min_tsep = 2500\n",
      "  warnings.warn(msg.format(min_tsep), RuntimeWarning)\n"
     ]
    },
    {
     "name": "stdout",
     "output_type": "stream",
     "text": [
      "lyap: 1.3206250377703448 corr_dim: 1.7894552680520515 \n",
      "\n",
      "MooreSpiegel : "
     ]
    },
    {
     "name": "stderr",
     "output_type": "stream",
     "text": [
      "/Users/williamgilpin/program_repos/thom/private/lyap.py:332: RuntimeWarning: signal has very low mean frequency, setting min_tsep = 2500\n",
      "  warnings.warn(msg.format(min_tsep), RuntimeWarning)\n"
     ]
    },
    {
     "name": "stdout",
     "output_type": "stream",
     "text": [
      "lyap: 3.709026832718412 corr_dim: 1.5087315189497819 \n",
      "\n",
      "Bouali2 : "
     ]
    },
    {
     "name": "stderr",
     "output_type": "stream",
     "text": [
      "/Users/williamgilpin/program_repos/thom/private/lyap.py:332: RuntimeWarning: signal has very low mean frequency, setting min_tsep = 2500\n",
      "  warnings.warn(msg.format(min_tsep), RuntimeWarning)\n"
     ]
    },
    {
     "name": "stdout",
     "output_type": "stream",
     "text": [
      "lyap: 0.32197886959973626 corr_dim: 1.7996232237557674 \n",
      "\n",
      "Bouali : "
     ]
    },
    {
     "name": "stderr",
     "output_type": "stream",
     "text": [
      "/Users/williamgilpin/program_repos/thom/private/lyap.py:332: RuntimeWarning: signal has very low mean frequency, setting min_tsep = 2500\n",
      "  warnings.warn(msg.format(min_tsep), RuntimeWarning)\n"
     ]
    },
    {
     "name": "stdout",
     "output_type": "stream",
     "text": [
      "lyap: 1.1296427882709654 corr_dim: 1.7106666154758565 \n",
      "\n",
      "Arneodo : "
     ]
    },
    {
     "name": "stderr",
     "output_type": "stream",
     "text": [
      "/Users/williamgilpin/program_repos/thom/private/lyap.py:332: RuntimeWarning: signal has very low mean frequency, setting min_tsep = 2500\n",
      "  warnings.warn(msg.format(min_tsep), RuntimeWarning)\n"
     ]
    },
    {
     "name": "stdout",
     "output_type": "stream",
     "text": [
      "lyap: 1.094949612559203 corr_dim: 1.7327118073180199 \n",
      "\n",
      "Coullet : "
     ]
    },
    {
     "name": "stderr",
     "output_type": "stream",
     "text": [
      "/Users/williamgilpin/program_repos/thom/private/lyap.py:332: RuntimeWarning: signal has very low mean frequency, setting min_tsep = 2500\n",
      "  warnings.warn(msg.format(min_tsep), RuntimeWarning)\n"
     ]
    },
    {
     "name": "stdout",
     "output_type": "stream",
     "text": [
      "lyap: 0.13469269906451933 corr_dim: 1.8807140562554663 \n",
      "\n",
      "Rucklidge : "
     ]
    },
    {
     "name": "stderr",
     "output_type": "stream",
     "text": [
      "/Users/williamgilpin/program_repos/thom/private/lyap.py:332: RuntimeWarning: signal has very low mean frequency, setting min_tsep = 2500\n",
      "  warnings.warn(msg.format(min_tsep), RuntimeWarning)\n"
     ]
    },
    {
     "name": "stdout",
     "output_type": "stream",
     "text": [
      "lyap: 0.7044749301482364 corr_dim: 1.5966540190890004 \n",
      "\n",
      "BurkeShaw : "
     ]
    },
    {
     "name": "stderr",
     "output_type": "stream",
     "text": [
      "/Users/williamgilpin/program_repos/thom/private/lyap.py:332: RuntimeWarning: signal has very low mean frequency, setting min_tsep = 2500\n",
      "  warnings.warn(msg.format(min_tsep), RuntimeWarning)\n"
     ]
    },
    {
     "name": "stdout",
     "output_type": "stream",
     "text": [
      "lyap: 1.1702258383166757 corr_dim: 1.8630741559971837 \n",
      "\n",
      "ZhouChen : "
     ]
    },
    {
     "name": "stderr",
     "output_type": "stream",
     "text": [
      "/Users/williamgilpin/program_repos/thom/private/lyap.py:332: RuntimeWarning: signal has very low mean frequency, setting min_tsep = 2500\n",
      "  warnings.warn(msg.format(min_tsep), RuntimeWarning)\n"
     ]
    },
    {
     "name": "stdout",
     "output_type": "stream",
     "text": [
      "lyap: 1.169546322991023 corr_dim: 1.4986854685245683 \n",
      "\n",
      "LuChenCheng : "
     ]
    },
    {
     "name": "stderr",
     "output_type": "stream",
     "text": [
      "/Users/williamgilpin/program_repos/thom/private/lyap.py:332: RuntimeWarning: signal has very low mean frequency, setting min_tsep = 2500\n",
      "  warnings.warn(msg.format(min_tsep), RuntimeWarning)\n"
     ]
    },
    {
     "name": "stdout",
     "output_type": "stream",
     "text": [
      "lyap: 0.5930947442700552 corr_dim: 1.6689393979514533 \n",
      "\n",
      "Chen : "
     ]
    },
    {
     "name": "stderr",
     "output_type": "stream",
     "text": [
      "/Users/williamgilpin/program_repos/thom/private/lyap.py:332: RuntimeWarning: signal has very low mean frequency, setting min_tsep = 2500\n",
      "  warnings.warn(msg.format(min_tsep), RuntimeWarning)\n"
     ]
    },
    {
     "name": "stdout",
     "output_type": "stream",
     "text": [
      "lyap: 5.792324455021567 corr_dim: 2.0266363677414048 \n",
      "\n",
      "ChenLee : "
     ]
    },
    {
     "name": "stderr",
     "output_type": "stream",
     "text": [
      "/Users/williamgilpin/program_repos/thom/private/lyap.py:332: RuntimeWarning: signal has very low mean frequency, setting min_tsep = 2500\n",
      "  warnings.warn(msg.format(min_tsep), RuntimeWarning)\n"
     ]
    },
    {
     "name": "stdout",
     "output_type": "stream",
     "text": [
      "lyap: 0.47570876826294145 corr_dim: 1.228681445662647 \n",
      "\n",
      "LuChen : "
     ]
    },
    {
     "name": "stderr",
     "output_type": "stream",
     "text": [
      "/Users/williamgilpin/program_repos/thom/private/lyap.py:332: RuntimeWarning: signal has very low mean frequency, setting min_tsep = 2500\n",
      "  warnings.warn(msg.format(min_tsep), RuntimeWarning)\n"
     ]
    },
    {
     "name": "stdout",
     "output_type": "stream",
     "text": [
      "lyap: 1.1433594038641137 corr_dim: 1.3180558314769866 \n",
      "\n",
      "QiChen : "
     ]
    },
    {
     "name": "stderr",
     "output_type": "stream",
     "text": [
      "/Users/williamgilpin/program_repos/thom/private/lyap.py:332: RuntimeWarning: signal has very low mean frequency, setting min_tsep = 2500\n",
      "  warnings.warn(msg.format(min_tsep), RuntimeWarning)\n"
     ]
    },
    {
     "name": "stdout",
     "output_type": "stream",
     "text": [
      "lyap: 11.463311190569497 corr_dim: 1.8395787669885308 \n",
      "\n",
      "YuWang : "
     ]
    },
    {
     "name": "stderr",
     "output_type": "stream",
     "text": [
      "/Users/williamgilpin/program_repos/thom/private/lyap.py:332: RuntimeWarning: signal has very low mean frequency, setting min_tsep = 2500\n",
      "  warnings.warn(msg.format(min_tsep), RuntimeWarning)\n"
     ]
    },
    {
     "name": "stdout",
     "output_type": "stream",
     "text": [
      "lyap: 2.696211590579598 corr_dim: 1.8003170989699977 \n",
      "\n",
      "YuWang2 : "
     ]
    },
    {
     "name": "stderr",
     "output_type": "stream",
     "text": [
      "/Users/williamgilpin/program_repos/thom/private/lyap.py:332: RuntimeWarning: signal has very low mean frequency, setting min_tsep = 2500\n",
      "  warnings.warn(msg.format(min_tsep), RuntimeWarning)\n"
     ]
    },
    {
     "name": "stdout",
     "output_type": "stream",
     "text": [
      "lyap: 9.599533991353322 corr_dim: 1.528292342520241 \n",
      "\n",
      "NewtonLiepnik : "
     ]
    },
    {
     "name": "stderr",
     "output_type": "stream",
     "text": [
      "/Users/williamgilpin/program_repos/thom/private/lyap.py:332: RuntimeWarning: signal has very low mean frequency, setting min_tsep = 2500\n",
      "  warnings.warn(msg.format(min_tsep), RuntimeWarning)\n"
     ]
    },
    {
     "name": "stdout",
     "output_type": "stream",
     "text": [
      "lyap: 0.5309432152776121 corr_dim: 1.8559418957240343 \n",
      "\n",
      "DequanLi : "
     ]
    },
    {
     "name": "stderr",
     "output_type": "stream",
     "text": [
      "/Users/williamgilpin/program_repos/thom/private/lyap.py:332: RuntimeWarning: signal has very low mean frequency, setting min_tsep = 2500\n",
      "  warnings.warn(msg.format(min_tsep), RuntimeWarning)\n"
     ]
    },
    {
     "name": "stdout",
     "output_type": "stream",
     "text": [
      "lyap: 7.545880826172301 corr_dim: 1.5732491054518905 \n",
      "\n",
      "Tsucs2 : "
     ]
    },
    {
     "name": "stderr",
     "output_type": "stream",
     "text": [
      "/Users/williamgilpin/program_repos/thom/private/lyap.py:332: RuntimeWarning: signal has very low mean frequency, setting min_tsep = 2500\n",
      "  warnings.warn(msg.format(min_tsep), RuntimeWarning)\n"
     ]
    },
    {
     "name": "stdout",
     "output_type": "stream",
     "text": [
      "lyap: 5.009196151591202 corr_dim: 1.4801755921312727 \n",
      "\n",
      "ArnoldWeb : "
     ]
    },
    {
     "name": "stderr",
     "output_type": "stream",
     "text": [
      "/Users/williamgilpin/program_repos/thom/private/lyap.py:332: RuntimeWarning: signal has very low mean frequency, setting min_tsep = 2500\n",
      "  warnings.warn(msg.format(min_tsep), RuntimeWarning)\n",
      "/Users/williamgilpin/program_repos/thom/private/lyap.py:70: RuntimeWarning: RANSAC did not reach consensus, using numpy's polyfit\n",
      "  warnings.warn(\n"
     ]
    },
    {
     "name": "stdout",
     "output_type": "stream",
     "text": [
      "lyap: 1.5352362514348538e-07 corr_dim: 0.6852860306555901 \n",
      "\n",
      "PanXuZhou : "
     ]
    },
    {
     "name": "stderr",
     "output_type": "stream",
     "text": [
      "/Users/williamgilpin/program_repos/thom/private/lyap.py:332: RuntimeWarning: signal has very low mean frequency, setting min_tsep = 2500\n",
      "  warnings.warn(msg.format(min_tsep), RuntimeWarning)\n"
     ]
    },
    {
     "name": "stdout",
     "output_type": "stream",
     "text": [
      "lyap: 0.9467474179565575 corr_dim: 1.8873147311664846 \n",
      "\n",
      "WangSun : "
     ]
    },
    {
     "name": "stderr",
     "output_type": "stream",
     "text": [
      "/Users/williamgilpin/program_repos/thom/private/lyap.py:332: RuntimeWarning: signal has very low mean frequency, setting min_tsep = 2500\n",
      "  warnings.warn(msg.format(min_tsep), RuntimeWarning)\n"
     ]
    },
    {
     "name": "stdout",
     "output_type": "stream",
     "text": [
      "lyap: 0.10268806161924655 corr_dim: 1.7673800957943318 \n",
      "\n",
      "Sakarya : "
     ]
    },
    {
     "name": "stderr",
     "output_type": "stream",
     "text": [
      "/Users/williamgilpin/program_repos/thom/private/lyap.py:332: RuntimeWarning: signal has very low mean frequency, setting min_tsep = 2500\n",
      "  warnings.warn(msg.format(min_tsep), RuntimeWarning)\n"
     ]
    },
    {
     "name": "stdout",
     "output_type": "stream",
     "text": [
      "lyap: 0.6947898218660326 corr_dim: 1.9773088819978868 \n",
      "\n",
      "LiuChen : "
     ]
    },
    {
     "name": "stderr",
     "output_type": "stream",
     "text": [
      "/Users/williamgilpin/program_repos/thom/private/lyap.py:332: RuntimeWarning: signal has very low mean frequency, setting min_tsep = 2500\n",
      "  warnings.warn(msg.format(min_tsep), RuntimeWarning)\n"
     ]
    },
    {
     "name": "stdout",
     "output_type": "stream",
     "text": [
      "lyap: 0.6305689013488812 corr_dim: 1.0806721467012719 \n",
      "\n",
      "Aizawa : "
     ]
    },
    {
     "name": "stderr",
     "output_type": "stream",
     "text": [
      "/Users/williamgilpin/program_repos/thom/private/lyap.py:332: RuntimeWarning: signal has very low mean frequency, setting min_tsep = 2500\n",
      "  warnings.warn(msg.format(min_tsep), RuntimeWarning)\n"
     ]
    },
    {
     "name": "stdout",
     "output_type": "stream",
     "text": [
      "lyap: 0.05441820747789935 corr_dim: 1.9254712287156384 \n",
      "\n",
      "SanUmSrisuchinwong : "
     ]
    },
    {
     "name": "stderr",
     "output_type": "stream",
     "text": [
      "/Users/williamgilpin/program_repos/thom/private/lyap.py:332: RuntimeWarning: signal has very low mean frequency, setting min_tsep = 2500\n",
      "  warnings.warn(msg.format(min_tsep), RuntimeWarning)\n"
     ]
    },
    {
     "name": "stdout",
     "output_type": "stream",
     "text": [
      "lyap: 0.2683193971297475 corr_dim: 1.948956126304092 \n",
      "\n",
      "Finance : "
     ]
    },
    {
     "name": "stderr",
     "output_type": "stream",
     "text": [
      "/Users/williamgilpin/program_repos/thom/private/lyap.py:332: RuntimeWarning: signal has very low mean frequency, setting min_tsep = 2500\n",
      "  warnings.warn(msg.format(min_tsep), RuntimeWarning)\n"
     ]
    },
    {
     "name": "stdout",
     "output_type": "stream",
     "text": [
      "lyap: 0.18494298884317922 corr_dim: 1.913411571363341 \n",
      "\n",
      "Dadras : "
     ]
    },
    {
     "name": "stderr",
     "output_type": "stream",
     "text": [
      "/Users/williamgilpin/program_repos/thom/private/lyap.py:332: RuntimeWarning: signal has very low mean frequency, setting min_tsep = 2500\n",
      "  warnings.warn(msg.format(min_tsep), RuntimeWarning)\n"
     ]
    },
    {
     "name": "stdout",
     "output_type": "stream",
     "text": [
      "lyap: 0.6532449210966365 corr_dim: 1.7332390509724065 \n",
      "\n",
      "RikitakeDynamo : "
     ]
    },
    {
     "name": "stderr",
     "output_type": "stream",
     "text": [
      "/Users/williamgilpin/program_repos/thom/private/lyap.py:332: RuntimeWarning: signal has very low mean frequency, setting min_tsep = 2500\n",
      "  warnings.warn(msg.format(min_tsep), RuntimeWarning)\n"
     ]
    },
    {
     "name": "stdout",
     "output_type": "stream",
     "text": [
      "lyap: 0.13182883778293894 corr_dim: 1.8301764912191174 \n",
      "\n",
      "RabinovichFabrikant : "
     ]
    },
    {
     "name": "stderr",
     "output_type": "stream",
     "text": [
      "/Users/williamgilpin/program_repos/thom/private/lyap.py:332: RuntimeWarning: signal has very low mean frequency, setting min_tsep = 2500\n",
      "  warnings.warn(msg.format(min_tsep), RuntimeWarning)\n"
     ]
    },
    {
     "name": "stdout",
     "output_type": "stream",
     "text": [
      "lyap: 0.5806234249566777 corr_dim: 1.9976896484379494 \n",
      "\n",
      "AnishchenkoAstakhov : "
     ]
    },
    {
     "name": "stderr",
     "output_type": "stream",
     "text": [
      "/Users/williamgilpin/program_repos/thom/private/lyap.py:332: RuntimeWarning: signal has very low mean frequency, setting min_tsep = 2500\n",
      "  warnings.warn(msg.format(min_tsep), RuntimeWarning)\n"
     ]
    },
    {
     "name": "stdout",
     "output_type": "stream",
     "text": [
      "lyap: 0.06615741606726022 corr_dim: 1.9159032163961631 \n",
      "\n",
      "GenesioTesi : "
     ]
    },
    {
     "name": "stderr",
     "output_type": "stream",
     "text": [
      "/Users/williamgilpin/program_repos/thom/private/lyap.py:332: RuntimeWarning: signal has very low mean frequency, setting min_tsep = 2500\n",
      "  warnings.warn(msg.format(min_tsep), RuntimeWarning)\n"
     ]
    },
    {
     "name": "stdout",
     "output_type": "stream",
     "text": [
      "lyap: 0.07493731260035158 corr_dim: 1.949849341423151 \n",
      "\n",
      "ShimizuMorioka : "
     ]
    },
    {
     "name": "stderr",
     "output_type": "stream",
     "text": [
      "/Users/williamgilpin/program_repos/thom/private/lyap.py:332: RuntimeWarning: signal has very low mean frequency, setting min_tsep = 2500\n",
      "  warnings.warn(msg.format(min_tsep), RuntimeWarning)\n"
     ]
    },
    {
     "name": "stdout",
     "output_type": "stream",
     "text": [
      "lyap: 0.11025370726734905 corr_dim: 1.6823665904621319 \n",
      "\n",
      "SprottTorus : "
     ]
    },
    {
     "name": "stderr",
     "output_type": "stream",
     "text": [
      "/Users/williamgilpin/program_repos/thom/private/lyap.py:332: RuntimeWarning: signal has very low mean frequency, setting min_tsep = 2500\n",
      "  warnings.warn(msg.format(min_tsep), RuntimeWarning)\n"
     ]
    },
    {
     "name": "stdout",
     "output_type": "stream",
     "text": [
      "lyap: 0.1173788893597375 corr_dim: 1.006920639170857 \n",
      "\n",
      "SprottJerk : "
     ]
    },
    {
     "name": "stderr",
     "output_type": "stream",
     "text": [
      "/Users/williamgilpin/program_repos/thom/private/lyap.py:332: RuntimeWarning: signal has very low mean frequency, setting min_tsep = 2500\n",
      "  warnings.warn(msg.format(min_tsep), RuntimeWarning)\n"
     ]
    },
    {
     "ename": "KeyboardInterrupt",
     "evalue": "",
     "output_type": "error",
     "traceback": [
      "\u001b[0;31m---------------------------------------------------------------------------\u001b[0m",
      "\u001b[0;31mKeyboardInterrupt\u001b[0m                         Traceback (most recent call last)",
      "\u001b[0;32m<ipython-input-3-5e46ada0fa00>\u001b[0m in \u001b[0;36m<module>\u001b[0;34m\u001b[0m\n\u001b[1;32m     19\u001b[0m \u001b[0;34m\u001b[0m\u001b[0m\n\u001b[1;32m     20\u001b[0m     \u001b[0;32mif\u001b[0m \u001b[0;34m\"maximum_lyapunov_estimated\"\u001b[0m \u001b[0;32mnot\u001b[0m \u001b[0;32min\u001b[0m \u001b[0mdata\u001b[0m\u001b[0;34m[\u001b[0m\u001b[0mitem\u001b[0m\u001b[0;34m]\u001b[0m \u001b[0;32mor\u001b[0m \u001b[0mRECALCULATE\u001b[0m\u001b[0;34m:\u001b[0m\u001b[0;34m\u001b[0m\u001b[0;34m\u001b[0m\u001b[0m\n\u001b[0;32m---> 21\u001b[0;31m         \u001b[0mlyap\u001b[0m \u001b[0;34m=\u001b[0m \u001b[0mlyap_r\u001b[0m\u001b[0;34m(\u001b[0m\u001b[0msol\u001b[0m\u001b[0;34m.\u001b[0m\u001b[0mT\u001b[0m\u001b[0;34m,\u001b[0m \u001b[0mtau\u001b[0m\u001b[0;34m=\u001b[0m\u001b[0mdt\u001b[0m\u001b[0;34m)\u001b[0m\u001b[0;34m\u001b[0m\u001b[0;34m\u001b[0m\u001b[0m\n\u001b[0m\u001b[1;32m     22\u001b[0m         \u001b[0mdata\u001b[0m\u001b[0;34m[\u001b[0m\u001b[0mitem\u001b[0m\u001b[0;34m]\u001b[0m\u001b[0;34m[\u001b[0m\u001b[0;34m\"maximum_lyapunov_estimated\"\u001b[0m\u001b[0;34m]\u001b[0m \u001b[0;34m=\u001b[0m \u001b[0mlyap\u001b[0m\u001b[0;34m\u001b[0m\u001b[0;34m\u001b[0m\u001b[0m\n\u001b[1;32m     23\u001b[0m         \u001b[0mprint\u001b[0m\u001b[0;34m(\u001b[0m\u001b[0;34mf\"lyap: {lyap} \"\u001b[0m\u001b[0;34m,\u001b[0m \u001b[0mend\u001b[0m\u001b[0;34m=\u001b[0m\u001b[0;34m\"\"\u001b[0m\u001b[0;34m)\u001b[0m\u001b[0;34m\u001b[0m\u001b[0;34m\u001b[0m\u001b[0m\n",
      "\u001b[0;31mKeyboardInterrupt\u001b[0m: "
     ]
    }
   ],
   "source": [
    "# We will make a local copy of the internal database\n",
    "OUTPUT_FILE = \"./chaotic_attractors2.json\"\n",
    "INPUT_FILE = \"thom/data/chaotic_attractors.json\"\n",
    "RECALCULATE = True\n",
    "\n",
    "total_length = 40000*100\n",
    "total_length = 500000\n",
    "\n",
    "with open(INPUT_FILE, \"r\") as file:\n",
    "    data = json.load(file)\n",
    "print(len(data.keys()))\n",
    "\n",
    "for i, item in enumerate(list(data.keys())):\n",
    "    \n",
    "    model = getattr(thom, item)()\n",
    "    tpts, sol = model.make_trajectory(10000, resample=True, pts_per_period=300, return_times=True)\n",
    "    dt = np.median(np.diff(tpts))\n",
    "    print(item, \": \", end=\"\")\n",
    "    \n",
    "    if \"maximum_lyapunov_estimated\" not in data[item] or RECALCULATE:\n",
    "        lyap = lyap_r(sol.T, tau=dt)\n",
    "        data[item][\"maximum_lyapunov_estimated\"] = lyap\n",
    "        print(f\"lyap: {lyap} \", end=\"\")\n",
    "    \n",
    "    if \"correlation_dimension\" not in data[item] or RECALCULATE:\n",
    "        cdim = corr_dim(sol.T)\n",
    "        data[item][\"correlation_dimension\"] = cdim\n",
    "        print(f\"corr_dim: {cdim} \", end=\"\")\n",
    "    \n",
    "#     if \"permutation_entropy\" not in data[item] or RECALCULATE:\n",
    "        \n",
    "        \n",
    "    print(\"\\n\")\n",
    "    # Save new file\n",
    "    with open(OUTPUT_FILE, 'w') as f:\n",
    "        json.dump(data, f, indent=4)\n",
    "\n",
    "#     eq = getattr(thom, item)()\n",
    "#     sol = eq.make_trajectory(total_length, method=\"Radau\")\n",
    "    \n",
    "# #     all_freqs = list()\n",
    "# #     for comp in sol:\n",
    "# #         try:\n",
    "# #             freqs, amps = find_significant_frequencies(comp, return_amplitudes=True, significance_threshold=0.95)\n",
    "# #             max_freq = freqs[np.argmax(np.abs(amps))]\n",
    "# #         except:\n",
    "# #             ## ignores time-like coordinates\n",
    "# #             continue\n",
    "# #         all_freqs.append(max_freq)\n",
    "# #         print(\".\", end='')\n",
    "# #     period = eq.dt * (1 / np.median(all_freqs))\n",
    "    \n",
    "# #     freqs, amps = find_significant_frequencies(sol[0], return_amplitudes=True, significance_threshold=0.95)\n",
    "# #     max_freq = freqs[np.argmax(np.abs(amps))]\n",
    "# #     period = (1/max_freq) * eq.dt\n",
    "    \n",
    "#     #period = np.median([1/freq_from_fft(item) * eq.dt for item in sol])\n",
    "    \n",
    "#     data[item][\"period\"] = signif(period, 5)\n",
    "#     print(item, \" time period\", period,\" index period\", period/eq.dt, \" \", (1/eq.dt)/period)\n",
    "    \n"
   ]
  },
  {
   "cell_type": "code",
   "execution_count": 12,
   "metadata": {},
   "outputs": [
    {
     "name": "stdout",
     "output_type": "stream",
     "text": [
      "ti\n"
     ]
    }
   ],
   "source": [
    "print(\"t\", end=\"\")\n",
    "print(\"i\")"
   ]
  },
  {
   "cell_type": "code",
   "execution_count": 11,
   "metadata": {},
   "outputs": [
    {
     "name": "stdout",
     "output_type": "stream",
     "text": [
      "y\n",
      "t\n",
      "y\n",
      "t\n",
      "y\n",
      "t\n",
      "y\n",
      "t\n"
     ]
    }
   ],
   "source": [
    "\n",
    "for i in range(4):\n",
    "    if True:\n",
    "        pass\n",
    "        print(\"y\")\n",
    "\n",
    "    print(\"t\")"
   ]
  },
  {
   "cell_type": "code",
   "execution_count": 4,
   "metadata": {},
   "outputs": [
    {
     "data": {
      "text/plain": [
       "False"
      ]
     },
     "execution_count": 4,
     "metadata": {},
     "output_type": "execute_result"
    }
   ],
   "source": [
    "hasattr(data[\"Lorenz\"], \"period\")"
   ]
  },
  {
   "cell_type": "code",
   "execution_count": 6,
   "metadata": {},
   "outputs": [
    {
     "data": {
      "text/plain": [
       "True"
      ]
     },
     "execution_count": 6,
     "metadata": {},
     "output_type": "execute_result"
    }
   ],
   "source": [
    "\"period\" in data[\"Lorenz\"]"
   ]
  },
  {
   "cell_type": "code",
   "execution_count": null,
   "metadata": {},
   "outputs": [],
   "source": []
  }
 ],
 "metadata": {
  "kernelspec": {
   "display_name": "Python 3",
   "language": "python",
   "name": "python3"
  },
  "language_info": {
   "codemirror_mode": {
    "name": "ipython",
    "version": 3
   },
   "file_extension": ".py",
   "mimetype": "text/x-python",
   "name": "python",
   "nbconvert_exporter": "python",
   "pygments_lexer": "ipython3",
   "version": "3.8.5"
  }
 },
 "nbformat": 4,
 "nbformat_minor": 4
}
