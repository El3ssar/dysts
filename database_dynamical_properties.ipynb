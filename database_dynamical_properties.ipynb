{
 "cells": [
  {
   "cell_type": "code",
   "execution_count": 1,
   "metadata": {},
   "outputs": [],
   "source": [
    "import sys\n",
    "\n",
    "import matplotlib.pyplot as plt\n",
    "import json\n",
    "\n",
    "from dysts.flows import *\n",
    "from dysts.base import *\n",
    "from dysts.utils import *\n",
    "from dysts.analysis import *\n",
    "\n",
    "try:\n",
    "    from private.lyap import lyap_r, lyap_e, corr_dim\n",
    "except:\n",
    "    from nolds import lyap_r, lyap_e, corr_dim\n",
    "    \n",
    "\n",
    "\n",
    "%load_ext autoreload\n",
    "%autoreload 2"
   ]
  },
  {
   "cell_type": "code",
   "execution_count": 13,
   "metadata": {},
   "outputs": [
    {
     "data": {
      "text/plain": [
       "(3, 2)"
      ]
     },
     "execution_count": 13,
     "metadata": {},
     "output_type": "execute_result"
    }
   ],
   "source": [
    "initial_sol[:, sample_inds].shape"
   ]
  },
  {
   "cell_type": "code",
   "execution_count": 8,
   "metadata": {},
   "outputs": [
    {
     "data": {
      "text/plain": [
       "2.233395240695977"
      ]
     },
     "execution_count": 8,
     "metadata": {},
     "output_type": "execute_result"
    }
   ],
   "source": [
    "wait to converge"
   ]
  },
  {
   "cell_type": "code",
   "execution_count": 10,
   "metadata": {},
   "outputs": [
    {
     "name": "stdout",
     "output_type": "stream",
     "text": [
      "113\n",
      "Lorenz : 0\n",
      "5\n",
      "lyap: 0.9661809672411203 spectrum: [  0.96618097   0.05471143 -14.80708968] corr_dim: 1.974849388900799 \n",
      "\n",
      "LorenzBounded : 0\n",
      "5\n",
      "lyap: 0.7097341659115661 spectrum: [  0.70973417   0.01547853 -11.60808975] corr_dim: 1.945768001251856 \n",
      "\n",
      "LorenzCoupled : 0\n",
      "5\n",
      "lyap: 1.165053829164494 spectrum: [  1.16505383   0.15359761  -1.37632043  -2.21299175 -13.32268403\n",
      " -14.95860893] corr_dim: 2.347985128940106 \n",
      "\n",
      "Lorenz84 : 0\n"
     ]
    },
    {
     "name": "stderr",
     "output_type": "stream",
     "text": [
      "/Users/williamgilpin/program_repos/thom/thom/base.py:139: UserWarning: Excessive integration required; scale factor 1724.1322314049587\n",
      "  if upscale_factor > 1e3: warnings.warn(f\"Excessive integration required; scale factor {upscale_factor}\")\n",
      "/Users/williamgilpin/program_repos/thom/thom/base.py:139: UserWarning: Excessive integration required; scale factor 1724.1322314049587\n",
      "  if upscale_factor > 1e3: warnings.warn(f\"Excessive integration required; scale factor {upscale_factor}\")\n",
      "/Users/williamgilpin/program_repos/thom/thom/base.py:139: UserWarning: Excessive integration required; scale factor 1724.1322314049587\n",
      "  if upscale_factor > 1e3: warnings.warn(f\"Excessive integration required; scale factor {upscale_factor}\")\n",
      "/Users/williamgilpin/program_repos/thom/thom/base.py:139: UserWarning: Excessive integration required; scale factor 1724.1322314049587\n",
      "  if upscale_factor > 1e3: warnings.warn(f\"Excessive integration required; scale factor {upscale_factor}\")\n",
      "/Users/williamgilpin/program_repos/thom/thom/base.py:139: UserWarning: Excessive integration required; scale factor 1724.1322314049587\n",
      "  if upscale_factor > 1e3: warnings.warn(f\"Excessive integration required; scale factor {upscale_factor}\")\n"
     ]
    },
    {
     "name": "stdout",
     "output_type": "stream",
     "text": [
      "5\n"
     ]
    },
    {
     "name": "stderr",
     "output_type": "stream",
     "text": [
      "/Users/williamgilpin/program_repos/thom/thom/base.py:139: UserWarning: Excessive integration required; scale factor 1724.1322314049587\n",
      "  if upscale_factor > 1e3: warnings.warn(f\"Excessive integration required; scale factor {upscale_factor}\")\n",
      "/Users/williamgilpin/program_repos/thom/thom/base.py:139: UserWarning: Excessive integration required; scale factor 1724.1322314049587\n",
      "  if upscale_factor > 1e3: warnings.warn(f\"Excessive integration required; scale factor {upscale_factor}\")\n",
      "/Users/williamgilpin/program_repos/thom/thom/base.py:139: UserWarning: Excessive integration required; scale factor 1724.1322314049587\n",
      "  if upscale_factor > 1e3: warnings.warn(f\"Excessive integration required; scale factor {upscale_factor}\")\n",
      "/Users/williamgilpin/program_repos/thom/thom/base.py:139: UserWarning: Excessive integration required; scale factor 1724.1322314049587\n",
      "  if upscale_factor > 1e3: warnings.warn(f\"Excessive integration required; scale factor {upscale_factor}\")\n",
      "/Users/williamgilpin/program_repos/thom/thom/base.py:139: UserWarning: Excessive integration required; scale factor 1724.1322314049587\n",
      "  if upscale_factor > 1e3: warnings.warn(f\"Excessive integration required; scale factor {upscale_factor}\")\n"
     ]
    },
    {
     "name": "stdout",
     "output_type": "stream",
     "text": [
      "lyap: 1.165591135743354 spectrum: [ 1.16559114 -0.15347385 -2.21764311] corr_dim: 1.844632538057218 \n",
      "\n",
      "Lorenz96 : 0\n"
     ]
    },
    {
     "name": "stderr",
     "output_type": "stream",
     "text": [
      "/Users/williamgilpin/program_repos/thom/thom/base.py:139: UserWarning: Excessive integration required; scale factor 1538.4453781512605\n",
      "  if upscale_factor > 1e3: warnings.warn(f\"Excessive integration required; scale factor {upscale_factor}\")\n",
      "/Users/williamgilpin/program_repos/thom/thom/base.py:139: UserWarning: Excessive integration required; scale factor 1538.4453781512605\n",
      "  if upscale_factor > 1e3: warnings.warn(f\"Excessive integration required; scale factor {upscale_factor}\")\n",
      "/Users/williamgilpin/program_repos/thom/thom/base.py:139: UserWarning: Excessive integration required; scale factor 1538.4453781512605\n",
      "  if upscale_factor > 1e3: warnings.warn(f\"Excessive integration required; scale factor {upscale_factor}\")\n",
      "/Users/williamgilpin/program_repos/thom/thom/base.py:139: UserWarning: Excessive integration required; scale factor 1538.4453781512605\n",
      "  if upscale_factor > 1e3: warnings.warn(f\"Excessive integration required; scale factor {upscale_factor}\")\n",
      "/Users/williamgilpin/program_repos/thom/thom/base.py:139: UserWarning: Excessive integration required; scale factor 1538.4453781512605\n",
      "  if upscale_factor > 1e3: warnings.warn(f\"Excessive integration required; scale factor {upscale_factor}\")\n"
     ]
    },
    {
     "name": "stdout",
     "output_type": "stream",
     "text": [
      "5\n"
     ]
    },
    {
     "name": "stderr",
     "output_type": "stream",
     "text": [
      "/Users/williamgilpin/program_repos/thom/thom/base.py:139: UserWarning: Excessive integration required; scale factor 1538.4453781512605\n",
      "  if upscale_factor > 1e3: warnings.warn(f\"Excessive integration required; scale factor {upscale_factor}\")\n",
      "/Users/williamgilpin/program_repos/thom/thom/base.py:139: UserWarning: Excessive integration required; scale factor 1538.4453781512605\n",
      "  if upscale_factor > 1e3: warnings.warn(f\"Excessive integration required; scale factor {upscale_factor}\")\n",
      "/Users/williamgilpin/program_repos/thom/thom/base.py:139: UserWarning: Excessive integration required; scale factor 1538.4453781512605\n",
      "  if upscale_factor > 1e3: warnings.warn(f\"Excessive integration required; scale factor {upscale_factor}\")\n",
      "/Users/williamgilpin/program_repos/thom/thom/base.py:139: UserWarning: Excessive integration required; scale factor 1538.4453781512605\n",
      "  if upscale_factor > 1e3: warnings.warn(f\"Excessive integration required; scale factor {upscale_factor}\")\n",
      "/Users/williamgilpin/program_repos/thom/thom/base.py:139: UserWarning: Excessive integration required; scale factor 1538.4453781512605\n",
      "  if upscale_factor > 1e3: warnings.warn(f\"Excessive integration required; scale factor {upscale_factor}\")\n"
     ]
    },
    {
     "name": "stdout",
     "output_type": "stream",
     "text": [
      "lyap: 1.4274719070283224 spectrum: [ 1.42747191  0.32885869 -1.36127509 -3.33895319] corr_dim: 2.1365708772424234 \n",
      "\n",
      "Thomas : 0\n"
     ]
    },
    {
     "name": "stderr",
     "output_type": "stream",
     "text": [
      "/Users/williamgilpin/program_repos/thom/thom/base.py:139: UserWarning: Excessive integration required; scale factor 1724.149895905621\n",
      "  if upscale_factor > 1e3: warnings.warn(f\"Excessive integration required; scale factor {upscale_factor}\")\n",
      "/Users/williamgilpin/program_repos/thom/thom/base.py:139: UserWarning: Excessive integration required; scale factor 1724.149895905621\n",
      "  if upscale_factor > 1e3: warnings.warn(f\"Excessive integration required; scale factor {upscale_factor}\")\n",
      "/Users/williamgilpin/program_repos/thom/thom/base.py:139: UserWarning: Excessive integration required; scale factor 1724.149895905621\n",
      "  if upscale_factor > 1e3: warnings.warn(f\"Excessive integration required; scale factor {upscale_factor}\")\n",
      "/Users/williamgilpin/program_repos/thom/thom/base.py:139: UserWarning: Excessive integration required; scale factor 1724.149895905621\n",
      "  if upscale_factor > 1e3: warnings.warn(f\"Excessive integration required; scale factor {upscale_factor}\")\n",
      "/Users/williamgilpin/program_repos/thom/thom/base.py:139: UserWarning: Excessive integration required; scale factor 1724.149895905621\n",
      "  if upscale_factor > 1e3: warnings.warn(f\"Excessive integration required; scale factor {upscale_factor}\")\n"
     ]
    },
    {
     "name": "stdout",
     "output_type": "stream",
     "text": [
      "5\n"
     ]
    },
    {
     "name": "stderr",
     "output_type": "stream",
     "text": [
      "/Users/williamgilpin/program_repos/thom/thom/base.py:139: UserWarning: Excessive integration required; scale factor 1724.149895905621\n",
      "  if upscale_factor > 1e3: warnings.warn(f\"Excessive integration required; scale factor {upscale_factor}\")\n",
      "/Users/williamgilpin/program_repos/thom/thom/base.py:139: UserWarning: Excessive integration required; scale factor 1724.149895905621\n",
      "  if upscale_factor > 1e3: warnings.warn(f\"Excessive integration required; scale factor {upscale_factor}\")\n",
      "/Users/williamgilpin/program_repos/thom/thom/base.py:139: UserWarning: Excessive integration required; scale factor 1724.149895905621\n",
      "  if upscale_factor > 1e3: warnings.warn(f\"Excessive integration required; scale factor {upscale_factor}\")\n",
      "/Users/williamgilpin/program_repos/thom/thom/base.py:139: UserWarning: Excessive integration required; scale factor 1724.149895905621\n",
      "  if upscale_factor > 1e3: warnings.warn(f\"Excessive integration required; scale factor {upscale_factor}\")\n",
      "/Users/williamgilpin/program_repos/thom/thom/base.py:139: UserWarning: Excessive integration required; scale factor 1724.149895905621\n",
      "  if upscale_factor > 1e3: warnings.warn(f\"Excessive integration required; scale factor {upscale_factor}\")\n"
     ]
    },
    {
     "name": "stdout",
     "output_type": "stream",
     "text": [
      "lyap: 0.8672551932507562 spectrum: [ 0.86725519  0.07111166 -6.54378596] corr_dim: 1.5846767735831016 \n",
      "\n",
      "ThomasLabyrinth : 0\n"
     ]
    },
    {
     "name": "stderr",
     "output_type": "stream",
     "text": [
      "/Users/williamgilpin/program_repos/thom/thom/base.py:139: UserWarning: Excessive integration required; scale factor 1724.1379310344826\n",
      "  if upscale_factor > 1e3: warnings.warn(f\"Excessive integration required; scale factor {upscale_factor}\")\n",
      "/Users/williamgilpin/program_repos/thom/thom/base.py:139: UserWarning: Excessive integration required; scale factor 1724.1379310344826\n",
      "  if upscale_factor > 1e3: warnings.warn(f\"Excessive integration required; scale factor {upscale_factor}\")\n",
      "/Users/williamgilpin/program_repos/thom/thom/base.py:139: UserWarning: Excessive integration required; scale factor 1724.1379310344826\n",
      "  if upscale_factor > 1e3: warnings.warn(f\"Excessive integration required; scale factor {upscale_factor}\")\n",
      "/Users/williamgilpin/program_repos/thom/thom/base.py:139: UserWarning: Excessive integration required; scale factor 1724.1379310344826\n",
      "  if upscale_factor > 1e3: warnings.warn(f\"Excessive integration required; scale factor {upscale_factor}\")\n",
      "/Users/williamgilpin/program_repos/thom/thom/base.py:139: UserWarning: Excessive integration required; scale factor 1724.1379310344826\n",
      "  if upscale_factor > 1e3: warnings.warn(f\"Excessive integration required; scale factor {upscale_factor}\")\n"
     ]
    },
    {
     "name": "stdout",
     "output_type": "stream",
     "text": [
      "5\n"
     ]
    },
    {
     "name": "stderr",
     "output_type": "stream",
     "text": [
      "/Users/williamgilpin/program_repos/thom/thom/base.py:139: UserWarning: Excessive integration required; scale factor 1724.1379310344826\n",
      "  if upscale_factor > 1e3: warnings.warn(f\"Excessive integration required; scale factor {upscale_factor}\")\n",
      "/Users/williamgilpin/program_repos/thom/thom/base.py:139: UserWarning: Excessive integration required; scale factor 1724.1379310344826\n",
      "  if upscale_factor > 1e3: warnings.warn(f\"Excessive integration required; scale factor {upscale_factor}\")\n",
      "/Users/williamgilpin/program_repos/thom/thom/base.py:139: UserWarning: Excessive integration required; scale factor 1724.1379310344826\n",
      "  if upscale_factor > 1e3: warnings.warn(f\"Excessive integration required; scale factor {upscale_factor}\")\n",
      "/Users/williamgilpin/program_repos/thom/thom/base.py:139: UserWarning: Excessive integration required; scale factor 1724.1379310344826\n",
      "  if upscale_factor > 1e3: warnings.warn(f\"Excessive integration required; scale factor {upscale_factor}\")\n",
      "/Users/williamgilpin/program_repos/thom/thom/base.py:139: UserWarning: Excessive integration required; scale factor 1724.1379310344826\n",
      "  if upscale_factor > 1e3: warnings.warn(f\"Excessive integration required; scale factor {upscale_factor}\")\n"
     ]
    },
    {
     "name": "stdout",
     "output_type": "stream",
     "text": [
      "lyap: 1.363020860454817 spectrum: [ 1.36302086  0.05012969 -2.91516288] corr_dim: 2.0497894444332876 \n",
      "\n",
      "HenonHeiles : 0\n",
      "5\n",
      "lyap: 0.03924657167941366 spectrum: [ 0.03924657  0.02355036 -0.00806153 -0.02925366] corr_dim: 1.4678262667686064 \n",
      "\n",
      "Chua : 0\n"
     ]
    },
    {
     "name": "stderr",
     "output_type": "stream",
     "text": [
      "/Users/williamgilpin/program_repos/thom/thom/base.py:139: UserWarning: Excessive integration required; scale factor 1724.1483724451173\n",
      "  if upscale_factor > 1e3: warnings.warn(f\"Excessive integration required; scale factor {upscale_factor}\")\n",
      "/Users/williamgilpin/program_repos/thom/thom/base.py:139: UserWarning: Excessive integration required; scale factor 1724.1483724451173\n",
      "  if upscale_factor > 1e3: warnings.warn(f\"Excessive integration required; scale factor {upscale_factor}\")\n",
      "/Users/williamgilpin/program_repos/thom/thom/base.py:139: UserWarning: Excessive integration required; scale factor 1724.1483724451173\n",
      "  if upscale_factor > 1e3: warnings.warn(f\"Excessive integration required; scale factor {upscale_factor}\")\n",
      "/Users/williamgilpin/program_repos/thom/thom/base.py:139: UserWarning: Excessive integration required; scale factor 1724.1483724451173\n",
      "  if upscale_factor > 1e3: warnings.warn(f\"Excessive integration required; scale factor {upscale_factor}\")\n",
      "/Users/williamgilpin/program_repos/thom/thom/base.py:139: UserWarning: Excessive integration required; scale factor 1724.1483724451173\n",
      "  if upscale_factor > 1e3: warnings.warn(f\"Excessive integration required; scale factor {upscale_factor}\")\n"
     ]
    },
    {
     "name": "stdout",
     "output_type": "stream",
     "text": [
      "5\n"
     ]
    },
    {
     "name": "stderr",
     "output_type": "stream",
     "text": [
      "/Users/williamgilpin/program_repos/thom/thom/base.py:139: UserWarning: Excessive integration required; scale factor 1724.1483724451173\n",
      "  if upscale_factor > 1e3: warnings.warn(f\"Excessive integration required; scale factor {upscale_factor}\")\n",
      "/Users/williamgilpin/program_repos/thom/thom/base.py:139: UserWarning: Excessive integration required; scale factor 1724.1483724451173\n",
      "  if upscale_factor > 1e3: warnings.warn(f\"Excessive integration required; scale factor {upscale_factor}\")\n",
      "/Users/williamgilpin/program_repos/thom/thom/base.py:139: UserWarning: Excessive integration required; scale factor 1724.1483724451173\n",
      "  if upscale_factor > 1e3: warnings.warn(f\"Excessive integration required; scale factor {upscale_factor}\")\n",
      "/Users/williamgilpin/program_repos/thom/thom/base.py:139: UserWarning: Excessive integration required; scale factor 1724.1483724451173\n",
      "  if upscale_factor > 1e3: warnings.warn(f\"Excessive integration required; scale factor {upscale_factor}\")\n",
      "/Users/williamgilpin/program_repos/thom/thom/base.py:139: UserWarning: Excessive integration required; scale factor 1724.1483724451173\n",
      "  if upscale_factor > 1e3: warnings.warn(f\"Excessive integration required; scale factor {upscale_factor}\")\n"
     ]
    },
    {
     "name": "stdout",
     "output_type": "stream",
     "text": [
      "lyap: 0.5696738571078162 spectrum: [ 0.56967386  0.19372077 -4.51193829] corr_dim: 1.8524828859352602 \n",
      "\n",
      "MultiChua : 0\n",
      "5\n",
      "lyap: 0.19237703594892158 spectrum: [ 0.19237704 -0.01291667 -3.09894265] corr_dim: 1.710408909216266 \n",
      "\n",
      "JerkCircuit : 0\n"
     ]
    },
    {
     "name": "stderr",
     "output_type": "stream",
     "text": [
      "/Users/williamgilpin/program_repos/thom/thom/base.py:139: UserWarning: Excessive integration required; scale factor 2597.4098798397863\n",
      "  if upscale_factor > 1e3: warnings.warn(f\"Excessive integration required; scale factor {upscale_factor}\")\n",
      "/Users/williamgilpin/program_repos/thom/thom/base.py:139: UserWarning: Excessive integration required; scale factor 2597.4098798397863\n",
      "  if upscale_factor > 1e3: warnings.warn(f\"Excessive integration required; scale factor {upscale_factor}\")\n",
      "/Users/williamgilpin/program_repos/thom/thom/base.py:139: UserWarning: Excessive integration required; scale factor 2597.4098798397863\n",
      "  if upscale_factor > 1e3: warnings.warn(f\"Excessive integration required; scale factor {upscale_factor}\")\n",
      "/Users/williamgilpin/program_repos/thom/thom/base.py:139: UserWarning: Excessive integration required; scale factor 2597.4098798397863\n",
      "  if upscale_factor > 1e3: warnings.warn(f\"Excessive integration required; scale factor {upscale_factor}\")\n",
      "/Users/williamgilpin/program_repos/thom/thom/base.py:139: UserWarning: Excessive integration required; scale factor 2597.4098798397863\n",
      "  if upscale_factor > 1e3: warnings.warn(f\"Excessive integration required; scale factor {upscale_factor}\")\n"
     ]
    },
    {
     "name": "stdout",
     "output_type": "stream",
     "text": [
      "5\n"
     ]
    },
    {
     "name": "stderr",
     "output_type": "stream",
     "text": [
      "/Users/williamgilpin/program_repos/thom/thom/base.py:139: UserWarning: Excessive integration required; scale factor 2597.4098798397863\n",
      "  if upscale_factor > 1e3: warnings.warn(f\"Excessive integration required; scale factor {upscale_factor}\")\n",
      "/Users/williamgilpin/program_repos/thom/thom/base.py:139: UserWarning: Excessive integration required; scale factor 2597.4098798397863\n",
      "  if upscale_factor > 1e3: warnings.warn(f\"Excessive integration required; scale factor {upscale_factor}\")\n",
      "/Users/williamgilpin/program_repos/thom/thom/base.py:139: UserWarning: Excessive integration required; scale factor 2597.4098798397863\n",
      "  if upscale_factor > 1e3: warnings.warn(f\"Excessive integration required; scale factor {upscale_factor}\")\n",
      "/Users/williamgilpin/program_repos/thom/thom/base.py:139: UserWarning: Excessive integration required; scale factor 2597.4098798397863\n",
      "  if upscale_factor > 1e3: warnings.warn(f\"Excessive integration required; scale factor {upscale_factor}\")\n",
      "/Users/williamgilpin/program_repos/thom/thom/base.py:139: UserWarning: Excessive integration required; scale factor 2597.4098798397863\n",
      "  if upscale_factor > 1e3: warnings.warn(f\"Excessive integration required; scale factor {upscale_factor}\")\n"
     ]
    },
    {
     "name": "stdout",
     "output_type": "stream",
     "text": [
      "lyap: 0.39406956483581457 spectrum: [ 0.39406956  0.14773499 -1.10360937] corr_dim: 1.8041597348008964 \n",
      "\n",
      "Colpitts : 0\n",
      "5\n",
      "lyap: 0.12813943102744185 spectrum: [ 0.12813943 -0.01512766 -0.97901907] corr_dim: 1.7247879952870946 \n",
      "\n",
      "Duffing : 0\n",
      "5\n",
      "lyap: 0.08234421729115945 spectrum: [ 0.08234422 -0.15843591  0.        ] corr_dim: 0.9509356131512681 \n",
      "\n",
      "Torus : 0\n"
     ]
    },
    {
     "name": "stderr",
     "output_type": "stream",
     "text": [
      "/Users/williamgilpin/program_repos/thom/thom/base.py:139: UserWarning: Excessive integration required; scale factor 1666.6666666666665\n",
      "  if upscale_factor > 1e3: warnings.warn(f\"Excessive integration required; scale factor {upscale_factor}\")\n",
      "/Users/williamgilpin/program_repos/thom/thom/base.py:139: UserWarning: Excessive integration required; scale factor 1666.6666666666665\n",
      "  if upscale_factor > 1e3: warnings.warn(f\"Excessive integration required; scale factor {upscale_factor}\")\n",
      "/Users/williamgilpin/program_repos/thom/thom/base.py:139: UserWarning: Excessive integration required; scale factor 1666.6666666666665\n",
      "  if upscale_factor > 1e3: warnings.warn(f\"Excessive integration required; scale factor {upscale_factor}\")\n",
      "/Users/williamgilpin/program_repos/thom/thom/base.py:139: UserWarning: Excessive integration required; scale factor 1666.6666666666665\n",
      "  if upscale_factor > 1e3: warnings.warn(f\"Excessive integration required; scale factor {upscale_factor}\")\n",
      "/Users/williamgilpin/program_repos/thom/thom/base.py:139: UserWarning: Excessive integration required; scale factor 1666.6666666666665\n",
      "  if upscale_factor > 1e3: warnings.warn(f\"Excessive integration required; scale factor {upscale_factor}\")\n"
     ]
    },
    {
     "name": "stdout",
     "output_type": "stream",
     "text": [
      "5\n"
     ]
    },
    {
     "name": "stderr",
     "output_type": "stream",
     "text": [
      "/Users/williamgilpin/program_repos/thom/thom/base.py:139: UserWarning: Excessive integration required; scale factor 1666.6666666666665\n",
      "  if upscale_factor > 1e3: warnings.warn(f\"Excessive integration required; scale factor {upscale_factor}\")\n",
      "/Users/williamgilpin/program_repos/thom/thom/base.py:139: UserWarning: Excessive integration required; scale factor 1666.6666666666665\n",
      "  if upscale_factor > 1e3: warnings.warn(f\"Excessive integration required; scale factor {upscale_factor}\")\n",
      "/Users/williamgilpin/program_repos/thom/thom/base.py:139: UserWarning: Excessive integration required; scale factor 1666.6666666666665\n",
      "  if upscale_factor > 1e3: warnings.warn(f\"Excessive integration required; scale factor {upscale_factor}\")\n",
      "/Users/williamgilpin/program_repos/thom/thom/base.py:139: UserWarning: Excessive integration required; scale factor 1666.6666666666665\n",
      "  if upscale_factor > 1e3: warnings.warn(f\"Excessive integration required; scale factor {upscale_factor}\")\n",
      "/Users/williamgilpin/program_repos/thom/thom/base.py:139: UserWarning: Excessive integration required; scale factor 1666.6666666666665\n",
      "  if upscale_factor > 1e3: warnings.warn(f\"Excessive integration required; scale factor {upscale_factor}\")\n"
     ]
    },
    {
     "name": "stdout",
     "output_type": "stream",
     "text": [
      "lyap: 0.0 spectrum: [0. 0. 0.] corr_dim: 1.048274997941354 \n",
      "\n",
      "Halvorsen : 0\n",
      "5\n",
      "lyap: 0.8203354508866685 spectrum: [ 0.82033545 -0.13714648 -4.81872882] corr_dim: 1.8489884189225716 \n",
      "\n",
      "MooreSpiegel : 0\n",
      "5\n",
      "lyap: 0.6964938190920522 spectrum: [ 0.69649382  0.03530802 -1.5597578 ] corr_dim: 1.7059745995619235 \n",
      "\n",
      "Bouali2 : 0\n",
      "5\n",
      "lyap: 0.06785009046531985 spectrum: [ 0.06785009 -0.0645234   0.01000297] corr_dim: 1.781299236468819 \n",
      "\n",
      "Bouali : 0\n",
      "5\n",
      "lyap: 0.07881338733099656 spectrum: [ 0.07881339 -0.07164855 -0.13772236] corr_dim: 1.723831273362832 \n",
      "\n",
      "Arneodo : 0\n",
      "5\n",
      "lyap: 0.29933042424375794 spectrum: [ 0.29933042 -0.03473558 -1.23932483] corr_dim: 1.8067506276080032 \n",
      "\n",
      "Coullet : 0\n",
      "5\n",
      "lyap: 0.15011712257760557 spectrum: [ 0.15011712 -0.00647638 -0.5821669 ] corr_dim: 1.8456015688084608 \n",
      "\n",
      "Rucklidge : 0\n",
      "5\n",
      "lyap: 0.17766282600329933 spectrum: [ 0.17766283  0.0559359  -3.27002763] corr_dim: 1.8152313976058352 \n",
      "\n",
      "BurkeShaw : 0\n",
      "5\n",
      "lyap: 2.3695985562209914 spectrum: [  2.36959856   0.38750779 -11.6063654 ] corr_dim: 1.959098829445948 \n",
      "\n",
      "ZhouChen : 0\n"
     ]
    },
    {
     "name": "stderr",
     "output_type": "stream",
     "text": [
      "/Users/williamgilpin/program_repos/thom/thom/base.py:139: UserWarning: Excessive integration required; scale factor 1785.717200571312\n",
      "  if upscale_factor > 1e3: warnings.warn(f\"Excessive integration required; scale factor {upscale_factor}\")\n",
      "/Users/williamgilpin/program_repos/thom/thom/base.py:139: UserWarning: Excessive integration required; scale factor 1785.717200571312\n",
      "  if upscale_factor > 1e3: warnings.warn(f\"Excessive integration required; scale factor {upscale_factor}\")\n",
      "/Users/williamgilpin/program_repos/thom/thom/base.py:139: UserWarning: Excessive integration required; scale factor 1785.717200571312\n",
      "  if upscale_factor > 1e3: warnings.warn(f\"Excessive integration required; scale factor {upscale_factor}\")\n",
      "/Users/williamgilpin/program_repos/thom/thom/base.py:139: UserWarning: Excessive integration required; scale factor 1785.717200571312\n",
      "  if upscale_factor > 1e3: warnings.warn(f\"Excessive integration required; scale factor {upscale_factor}\")\n",
      "/Users/williamgilpin/program_repos/thom/thom/base.py:139: UserWarning: Excessive integration required; scale factor 1785.717200571312\n",
      "  if upscale_factor > 1e3: warnings.warn(f\"Excessive integration required; scale factor {upscale_factor}\")\n"
     ]
    },
    {
     "name": "stdout",
     "output_type": "stream",
     "text": [
      "5\n"
     ]
    },
    {
     "name": "stderr",
     "output_type": "stream",
     "text": [
      "/Users/williamgilpin/program_repos/thom/thom/base.py:139: UserWarning: Excessive integration required; scale factor 1785.717200571312\n",
      "  if upscale_factor > 1e3: warnings.warn(f\"Excessive integration required; scale factor {upscale_factor}\")\n",
      "/Users/williamgilpin/program_repos/thom/thom/base.py:139: UserWarning: Excessive integration required; scale factor 1785.717200571312\n",
      "  if upscale_factor > 1e3: warnings.warn(f\"Excessive integration required; scale factor {upscale_factor}\")\n",
      "/Users/williamgilpin/program_repos/thom/thom/base.py:139: UserWarning: Excessive integration required; scale factor 1785.717200571312\n",
      "  if upscale_factor > 1e3: warnings.warn(f\"Excessive integration required; scale factor {upscale_factor}\")\n",
      "/Users/williamgilpin/program_repos/thom/thom/base.py:139: UserWarning: Excessive integration required; scale factor 1785.717200571312\n",
      "  if upscale_factor > 1e3: warnings.warn(f\"Excessive integration required; scale factor {upscale_factor}\")\n",
      "/Users/williamgilpin/program_repos/thom/thom/base.py:139: UserWarning: Excessive integration required; scale factor 1785.717200571312\n",
      "  if upscale_factor > 1e3: warnings.warn(f\"Excessive integration required; scale factor {upscale_factor}\")\n"
     ]
    },
    {
     "name": "stdout",
     "output_type": "stream",
     "text": [
      "lyap: 0.7386191209276499 spectrum: [  0.73861912   0.02301343 -11.45971706] corr_dim: 1.608645083366182 \n",
      "\n",
      "LuChenCheng : 0\n",
      "5\n",
      "lyap: 0.27894875308309197 spectrum: [  0.27894875  -0.05369835 -11.43617511] corr_dim: 1.6868297463135076 \n",
      "\n",
      "Chen : 0\n",
      "5\n",
      "lyap: 2.021950737439808 spectrum: [  2.02195074   0.14918037 -12.00977051] corr_dim: 2.046406235612868 \n",
      "\n",
      "ChenLee : 0\n"
     ]
    },
    {
     "name": "stderr",
     "output_type": "stream",
     "text": [
      "/Users/williamgilpin/program_repos/thom/thom/base.py:139: UserWarning: Excessive integration required; scale factor 1428.5787060621499\n",
      "  if upscale_factor > 1e3: warnings.warn(f\"Excessive integration required; scale factor {upscale_factor}\")\n",
      "/Users/williamgilpin/program_repos/thom/thom/base.py:139: UserWarning: Excessive integration required; scale factor 1428.5787060621499\n",
      "  if upscale_factor > 1e3: warnings.warn(f\"Excessive integration required; scale factor {upscale_factor}\")\n",
      "/Users/williamgilpin/program_repos/thom/thom/base.py:139: UserWarning: Excessive integration required; scale factor 1428.5787060621499\n",
      "  if upscale_factor > 1e3: warnings.warn(f\"Excessive integration required; scale factor {upscale_factor}\")\n",
      "/Users/williamgilpin/program_repos/thom/thom/base.py:139: UserWarning: Excessive integration required; scale factor 1428.5787060621499\n",
      "  if upscale_factor > 1e3: warnings.warn(f\"Excessive integration required; scale factor {upscale_factor}\")\n",
      "/Users/williamgilpin/program_repos/thom/thom/base.py:139: UserWarning: Excessive integration required; scale factor 1428.5787060621499\n",
      "  if upscale_factor > 1e3: warnings.warn(f\"Excessive integration required; scale factor {upscale_factor}\")\n"
     ]
    },
    {
     "name": "stdout",
     "output_type": "stream",
     "text": [
      "5\n"
     ]
    },
    {
     "name": "stderr",
     "output_type": "stream",
     "text": [
      "/Users/williamgilpin/program_repos/thom/thom/base.py:139: UserWarning: Excessive integration required; scale factor 1428.5787060621499\n",
      "  if upscale_factor > 1e3: warnings.warn(f\"Excessive integration required; scale factor {upscale_factor}\")\n",
      "/Users/williamgilpin/program_repos/thom/thom/base.py:139: UserWarning: Excessive integration required; scale factor 1428.5787060621499\n",
      "  if upscale_factor > 1e3: warnings.warn(f\"Excessive integration required; scale factor {upscale_factor}\")\n",
      "/Users/williamgilpin/program_repos/thom/thom/base.py:139: UserWarning: Excessive integration required; scale factor 1428.5787060621499\n",
      "  if upscale_factor > 1e3: warnings.warn(f\"Excessive integration required; scale factor {upscale_factor}\")\n",
      "/Users/williamgilpin/program_repos/thom/thom/base.py:139: UserWarning: Excessive integration required; scale factor 1428.5787060621499\n",
      "  if upscale_factor > 1e3: warnings.warn(f\"Excessive integration required; scale factor {upscale_factor}\")\n",
      "/Users/williamgilpin/program_repos/thom/thom/base.py:139: UserWarning: Excessive integration required; scale factor 1428.5787060621499\n",
      "  if upscale_factor > 1e3: warnings.warn(f\"Excessive integration required; scale factor {upscale_factor}\")\n"
     ]
    },
    {
     "name": "stdout",
     "output_type": "stream",
     "text": [
      "lyap: 0.20719103368642416 spectrum: [ 0.20719103 -0.0507264  -5.47658696] corr_dim: 1.2269886532010605 \n",
      "\n",
      "LuChen : 0\n"
     ]
    },
    {
     "name": "stderr",
     "output_type": "stream",
     "text": [
      "/Users/williamgilpin/program_repos/thom/thom/base.py:139: UserWarning: Excessive integration required; scale factor 1923.1085526315785\n",
      "  if upscale_factor > 1e3: warnings.warn(f\"Excessive integration required; scale factor {upscale_factor}\")\n",
      "/Users/williamgilpin/program_repos/thom/thom/base.py:139: UserWarning: Excessive integration required; scale factor 1923.1085526315785\n",
      "  if upscale_factor > 1e3: warnings.warn(f\"Excessive integration required; scale factor {upscale_factor}\")\n",
      "/Users/williamgilpin/program_repos/thom/thom/base.py:139: UserWarning: Excessive integration required; scale factor 1923.1085526315785\n",
      "  if upscale_factor > 1e3: warnings.warn(f\"Excessive integration required; scale factor {upscale_factor}\")\n",
      "/Users/williamgilpin/program_repos/thom/thom/base.py:139: UserWarning: Excessive integration required; scale factor 1923.1085526315785\n",
      "  if upscale_factor > 1e3: warnings.warn(f\"Excessive integration required; scale factor {upscale_factor}\")\n",
      "/Users/williamgilpin/program_repos/thom/thom/base.py:139: UserWarning: Excessive integration required; scale factor 1923.1085526315785\n",
      "  if upscale_factor > 1e3: warnings.warn(f\"Excessive integration required; scale factor {upscale_factor}\")\n"
     ]
    },
    {
     "name": "stdout",
     "output_type": "stream",
     "text": [
      "5\n"
     ]
    },
    {
     "name": "stderr",
     "output_type": "stream",
     "text": [
      "/Users/williamgilpin/program_repos/thom/thom/base.py:139: UserWarning: Excessive integration required; scale factor 1923.1085526315785\n",
      "  if upscale_factor > 1e3: warnings.warn(f\"Excessive integration required; scale factor {upscale_factor}\")\n",
      "/Users/williamgilpin/program_repos/thom/thom/base.py:139: UserWarning: Excessive integration required; scale factor 1923.1085526315785\n",
      "  if upscale_factor > 1e3: warnings.warn(f\"Excessive integration required; scale factor {upscale_factor}\")\n",
      "/Users/williamgilpin/program_repos/thom/thom/base.py:139: UserWarning: Excessive integration required; scale factor 1923.1085526315785\n",
      "  if upscale_factor > 1e3: warnings.warn(f\"Excessive integration required; scale factor {upscale_factor}\")\n",
      "/Users/williamgilpin/program_repos/thom/thom/base.py:139: UserWarning: Excessive integration required; scale factor 1923.1085526315785\n",
      "  if upscale_factor > 1e3: warnings.warn(f\"Excessive integration required; scale factor {upscale_factor}\")\n",
      "/Users/williamgilpin/program_repos/thom/thom/base.py:139: UserWarning: Excessive integration required; scale factor 1923.1085526315785\n",
      "  if upscale_factor > 1e3: warnings.warn(f\"Excessive integration required; scale factor {upscale_factor}\")\n"
     ]
    },
    {
     "name": "stdout",
     "output_type": "stream",
     "text": [
      "lyap: 0.6671656882683574 spectrum: [  0.66716569   0.24497427 -22.67368377] corr_dim: 1.3736072166527764 \n",
      "\n",
      "QiChen : 0\n",
      "5\n",
      "lyap: 3.9088873988770074 spectrum: [  3.9088874    0.48084751 -44.20555218] corr_dim: 1.8498391996179264 \n",
      "\n",
      "YuWang : 0\n"
     ]
    },
    {
     "name": "stderr",
     "output_type": "stream",
     "text": [
      "/Users/williamgilpin/program_repos/thom/thom/base.py:139: UserWarning: Excessive integration required; scale factor 1470.5688194520849\n",
      "  if upscale_factor > 1e3: warnings.warn(f\"Excessive integration required; scale factor {upscale_factor}\")\n",
      "/Users/williamgilpin/program_repos/thom/thom/base.py:139: UserWarning: Excessive integration required; scale factor 1470.5688194520849\n",
      "  if upscale_factor > 1e3: warnings.warn(f\"Excessive integration required; scale factor {upscale_factor}\")\n",
      "/Users/williamgilpin/program_repos/thom/thom/base.py:139: UserWarning: Excessive integration required; scale factor 1470.5688194520849\n",
      "  if upscale_factor > 1e3: warnings.warn(f\"Excessive integration required; scale factor {upscale_factor}\")\n",
      "/Users/williamgilpin/program_repos/thom/thom/base.py:139: UserWarning: Excessive integration required; scale factor 1470.5688194520849\n",
      "  if upscale_factor > 1e3: warnings.warn(f\"Excessive integration required; scale factor {upscale_factor}\")\n",
      "/Users/williamgilpin/program_repos/thom/thom/base.py:139: UserWarning: Excessive integration required; scale factor 1470.5688194520849\n",
      "  if upscale_factor > 1e3: warnings.warn(f\"Excessive integration required; scale factor {upscale_factor}\")\n"
     ]
    },
    {
     "name": "stdout",
     "output_type": "stream",
     "text": [
      "5\n"
     ]
    },
    {
     "name": "stderr",
     "output_type": "stream",
     "text": [
      "/Users/williamgilpin/program_repos/thom/thom/base.py:139: UserWarning: Excessive integration required; scale factor 1470.5688194520849\n",
      "  if upscale_factor > 1e3: warnings.warn(f\"Excessive integration required; scale factor {upscale_factor}\")\n",
      "/Users/williamgilpin/program_repos/thom/thom/base.py:139: UserWarning: Excessive integration required; scale factor 1470.5688194520849\n",
      "  if upscale_factor > 1e3: warnings.warn(f\"Excessive integration required; scale factor {upscale_factor}\")\n",
      "/Users/williamgilpin/program_repos/thom/thom/base.py:139: UserWarning: Excessive integration required; scale factor 1470.5688194520849\n",
      "  if upscale_factor > 1e3: warnings.warn(f\"Excessive integration required; scale factor {upscale_factor}\")\n",
      "/Users/williamgilpin/program_repos/thom/thom/base.py:139: UserWarning: Excessive integration required; scale factor 1470.5688194520849\n",
      "  if upscale_factor > 1e3: warnings.warn(f\"Excessive integration required; scale factor {upscale_factor}\")\n",
      "/Users/williamgilpin/program_repos/thom/thom/base.py:139: UserWarning: Excessive integration required; scale factor 1470.5688194520849\n",
      "  if upscale_factor > 1e3: warnings.warn(f\"Excessive integration required; scale factor {upscale_factor}\")\n"
     ]
    },
    {
     "name": "stdout",
     "output_type": "stream",
     "text": [
      "lyap: 2.439381754736897 spectrum: [  2.43938175  -0.17729952 -13.88669307] corr_dim: 1.8399990660116579 \n",
      "\n",
      "YuWang2 : 0\n",
      "5\n",
      "lyap: 0.9783626759741436 spectrum: [  0.97836268  -0.3667228  -12.88555843] corr_dim: 1.5060990795209823 \n",
      "\n",
      "NewtonLiepnik : 0\n",
      "5\n",
      "lyap: 0.15811587737659566 spectrum: [ 0.15811588  0.01508719 -0.77979551] corr_dim: 1.9325268796105086 \n",
      "\n",
      "DequanLi : 0\n",
      "5\n",
      "lyap: 2.61534255455007 spectrum: [ 2.61534255 -0.26131238 -3.50110099] corr_dim: 1.8044921656101853 \n",
      "\n",
      "Tsucs2 : 0\n",
      "5\n",
      "lyap: 0.73309020909867 spectrum: [ 0.73309021 -0.51635759 -1.45060085] corr_dim: 1.4646390990886637 \n",
      "\n",
      "ArnoldWeb : 0\n"
     ]
    },
    {
     "name": "stderr",
     "output_type": "stream",
     "text": [
      "/Users/williamgilpin/program_repos/thom/thom/base.py:139: UserWarning: Excessive integration required; scale factor 1923.076923076923\n",
      "  if upscale_factor > 1e3: warnings.warn(f\"Excessive integration required; scale factor {upscale_factor}\")\n",
      "/Users/williamgilpin/program_repos/thom/thom/base.py:139: UserWarning: Excessive integration required; scale factor 1923.076923076923\n",
      "  if upscale_factor > 1e3: warnings.warn(f\"Excessive integration required; scale factor {upscale_factor}\")\n",
      "/Users/williamgilpin/program_repos/thom/thom/base.py:139: UserWarning: Excessive integration required; scale factor 1923.076923076923\n",
      "  if upscale_factor > 1e3: warnings.warn(f\"Excessive integration required; scale factor {upscale_factor}\")\n",
      "/Users/williamgilpin/program_repos/thom/thom/base.py:139: UserWarning: Excessive integration required; scale factor 1923.076923076923\n",
      "  if upscale_factor > 1e3: warnings.warn(f\"Excessive integration required; scale factor {upscale_factor}\")\n",
      "/Users/williamgilpin/program_repos/thom/thom/base.py:139: UserWarning: Excessive integration required; scale factor 1923.076923076923\n",
      "  if upscale_factor > 1e3: warnings.warn(f\"Excessive integration required; scale factor {upscale_factor}\")\n"
     ]
    },
    {
     "name": "stdout",
     "output_type": "stream",
     "text": [
      "5\n"
     ]
    },
    {
     "name": "stderr",
     "output_type": "stream",
     "text": [
      "/Users/williamgilpin/program_repos/thom/thom/base.py:139: UserWarning: Excessive integration required; scale factor 1923.076923076923\n",
      "  if upscale_factor > 1e3: warnings.warn(f\"Excessive integration required; scale factor {upscale_factor}\")\n",
      "/Users/williamgilpin/program_repos/thom/thom/base.py:139: UserWarning: Excessive integration required; scale factor 1923.076923076923\n",
      "  if upscale_factor > 1e3: warnings.warn(f\"Excessive integration required; scale factor {upscale_factor}\")\n",
      "/Users/williamgilpin/program_repos/thom/thom/base.py:139: UserWarning: Excessive integration required; scale factor 1923.076923076923\n",
      "  if upscale_factor > 1e3: warnings.warn(f\"Excessive integration required; scale factor {upscale_factor}\")\n",
      "/Users/williamgilpin/program_repos/thom/thom/base.py:139: UserWarning: Excessive integration required; scale factor 1923.076923076923\n",
      "  if upscale_factor > 1e3: warnings.warn(f\"Excessive integration required; scale factor {upscale_factor}\")\n",
      "/Users/williamgilpin/program_repos/thom/thom/base.py:139: UserWarning: Excessive integration required; scale factor 1923.076923076923\n",
      "  if upscale_factor > 1e3: warnings.warn(f\"Excessive integration required; scale factor {upscale_factor}\")\n"
     ]
    },
    {
     "name": "stdout",
     "output_type": "stream",
     "text": [
      "lyap: 0.013010638541663825 spectrum: [ 0.01301064  0.00981671 -0.0096071  -0.01326228  0.        ] corr_dim: 0.8168596188462223 \n",
      "\n",
      "PanXuZhou : 0\n",
      "5\n",
      "lyap: 0.7100181076864012 spectrum: [  0.71001811   0.02018116 -13.57930607] corr_dim: 1.8389969518169405 \n",
      "\n",
      "WangSun : 0\n"
     ]
    },
    {
     "name": "stderr",
     "output_type": "stream",
     "text": [
      "/Users/williamgilpin/program_repos/thom/thom/base.py:139: UserWarning: Excessive integration required; scale factor 2083.3075734157646\n",
      "  if upscale_factor > 1e3: warnings.warn(f\"Excessive integration required; scale factor {upscale_factor}\")\n",
      "/Users/williamgilpin/program_repos/thom/thom/base.py:139: UserWarning: Excessive integration required; scale factor 2083.3075734157646\n",
      "  if upscale_factor > 1e3: warnings.warn(f\"Excessive integration required; scale factor {upscale_factor}\")\n",
      "/Users/williamgilpin/program_repos/thom/thom/base.py:139: UserWarning: Excessive integration required; scale factor 2083.3075734157646\n",
      "  if upscale_factor > 1e3: warnings.warn(f\"Excessive integration required; scale factor {upscale_factor}\")\n",
      "/Users/williamgilpin/program_repos/thom/thom/base.py:139: UserWarning: Excessive integration required; scale factor 2083.3075734157646\n",
      "  if upscale_factor > 1e3: warnings.warn(f\"Excessive integration required; scale factor {upscale_factor}\")\n",
      "/Users/williamgilpin/program_repos/thom/thom/base.py:139: UserWarning: Excessive integration required; scale factor 2083.3075734157646\n",
      "  if upscale_factor > 1e3: warnings.warn(f\"Excessive integration required; scale factor {upscale_factor}\")\n"
     ]
    },
    {
     "name": "stdout",
     "output_type": "stream",
     "text": [
      "5\n"
     ]
    },
    {
     "name": "stderr",
     "output_type": "stream",
     "text": [
      "/Users/williamgilpin/program_repos/thom/thom/base.py:139: UserWarning: Excessive integration required; scale factor 2083.3075734157646\n",
      "  if upscale_factor > 1e3: warnings.warn(f\"Excessive integration required; scale factor {upscale_factor}\")\n",
      "/Users/williamgilpin/program_repos/thom/thom/base.py:139: UserWarning: Excessive integration required; scale factor 2083.3075734157646\n",
      "  if upscale_factor > 1e3: warnings.warn(f\"Excessive integration required; scale factor {upscale_factor}\")\n",
      "/Users/williamgilpin/program_repos/thom/thom/base.py:139: UserWarning: Excessive integration required; scale factor 2083.3075734157646\n",
      "  if upscale_factor > 1e3: warnings.warn(f\"Excessive integration required; scale factor {upscale_factor}\")\n",
      "/Users/williamgilpin/program_repos/thom/thom/base.py:139: UserWarning: Excessive integration required; scale factor 2083.3075734157646\n",
      "  if upscale_factor > 1e3: warnings.warn(f\"Excessive integration required; scale factor {upscale_factor}\")\n",
      "/Users/williamgilpin/program_repos/thom/thom/base.py:139: UserWarning: Excessive integration required; scale factor 2083.3075734157646\n",
      "  if upscale_factor > 1e3: warnings.warn(f\"Excessive integration required; scale factor {upscale_factor}\")\n"
     ]
    },
    {
     "name": "stdout",
     "output_type": "stream",
     "text": [
      "lyap: 0.08962411414494373 spectrum: [ 0.08962411 -0.02127741 -1.31330407] corr_dim: 1.7049893946367984 \n",
      "\n",
      "Sakarya : 0\n"
     ]
    },
    {
     "name": "stderr",
     "output_type": "stream",
     "text": [
      "/Users/williamgilpin/program_repos/thom/thom/base.py:139: UserWarning: Excessive integration required; scale factor 1111.1012037449843\n",
      "  if upscale_factor > 1e3: warnings.warn(f\"Excessive integration required; scale factor {upscale_factor}\")\n",
      "/Users/williamgilpin/program_repos/thom/thom/base.py:139: UserWarning: Excessive integration required; scale factor 1111.1012037449843\n",
      "  if upscale_factor > 1e3: warnings.warn(f\"Excessive integration required; scale factor {upscale_factor}\")\n",
      "/Users/williamgilpin/program_repos/thom/thom/base.py:139: UserWarning: Excessive integration required; scale factor 1111.1012037449843\n",
      "  if upscale_factor > 1e3: warnings.warn(f\"Excessive integration required; scale factor {upscale_factor}\")\n",
      "/Users/williamgilpin/program_repos/thom/thom/base.py:139: UserWarning: Excessive integration required; scale factor 1111.1012037449843\n",
      "  if upscale_factor > 1e3: warnings.warn(f\"Excessive integration required; scale factor {upscale_factor}\")\n",
      "/Users/williamgilpin/program_repos/thom/thom/base.py:139: UserWarning: Excessive integration required; scale factor 1111.1012037449843\n",
      "  if upscale_factor > 1e3: warnings.warn(f\"Excessive integration required; scale factor {upscale_factor}\")\n"
     ]
    },
    {
     "name": "stdout",
     "output_type": "stream",
     "text": [
      "5\n"
     ]
    },
    {
     "name": "stderr",
     "output_type": "stream",
     "text": [
      "/Users/williamgilpin/program_repos/thom/thom/base.py:139: UserWarning: Excessive integration required; scale factor 1111.1012037449843\n",
      "  if upscale_factor > 1e3: warnings.warn(f\"Excessive integration required; scale factor {upscale_factor}\")\n",
      "/Users/williamgilpin/program_repos/thom/thom/base.py:139: UserWarning: Excessive integration required; scale factor 1111.1012037449843\n",
      "  if upscale_factor > 1e3: warnings.warn(f\"Excessive integration required; scale factor {upscale_factor}\")\n",
      "/Users/williamgilpin/program_repos/thom/thom/base.py:139: UserWarning: Excessive integration required; scale factor 1111.1012037449843\n",
      "  if upscale_factor > 1e3: warnings.warn(f\"Excessive integration required; scale factor {upscale_factor}\")\n",
      "/Users/williamgilpin/program_repos/thom/thom/base.py:139: UserWarning: Excessive integration required; scale factor 1111.1012037449843\n",
      "  if upscale_factor > 1e3: warnings.warn(f\"Excessive integration required; scale factor {upscale_factor}\")\n",
      "/Users/williamgilpin/program_repos/thom/thom/base.py:139: UserWarning: Excessive integration required; scale factor 1111.1012037449843\n",
      "  if upscale_factor > 1e3: warnings.warn(f\"Excessive integration required; scale factor {upscale_factor}\")\n"
     ]
    },
    {
     "name": "stdout",
     "output_type": "stream",
     "text": [
      "lyap: 0.2647703554373596 spectrum: [ 0.26477036  0.04502638 -1.2559904 ] corr_dim: 2.0016362224265936 \n",
      "\n",
      "LiuChen : "
     ]
    },
    {
     "name": "stderr",
     "output_type": "stream",
     "text": [
      "/Users/williamgilpin/program_repos/thom/thom/base.py:139: UserWarning: Excessive integration required; scale factor 1801.8431108114187\n",
      "  if upscale_factor > 1e3: warnings.warn(f\"Excessive integration required; scale factor {upscale_factor}\")\n"
     ]
    },
    {
     "name": "stdout",
     "output_type": "stream",
     "text": [
      "0\n"
     ]
    },
    {
     "name": "stderr",
     "output_type": "stream",
     "text": [
      "/Users/williamgilpin/program_repos/thom/thom/base.py:139: UserWarning: Excessive integration required; scale factor 1081.105866486851\n",
      "  if upscale_factor > 1e3: warnings.warn(f\"Excessive integration required; scale factor {upscale_factor}\")\n",
      "/Users/williamgilpin/program_repos/thom/thom/base.py:139: UserWarning: Excessive integration required; scale factor 5405.529332434256\n",
      "  if upscale_factor > 1e3: warnings.warn(f\"Excessive integration required; scale factor {upscale_factor}\")\n",
      "/Users/williamgilpin/program_repos/thom/thom/base.py:139: UserWarning: Excessive integration required; scale factor 1081.105866486851\n",
      "  if upscale_factor > 1e3: warnings.warn(f\"Excessive integration required; scale factor {upscale_factor}\")\n",
      "/Users/williamgilpin/program_repos/thom/thom/base.py:139: UserWarning: Excessive integration required; scale factor 5405.529332434256\n",
      "  if upscale_factor > 1e3: warnings.warn(f\"Excessive integration required; scale factor {upscale_factor}\")\n",
      "/Users/williamgilpin/program_repos/thom/thom/base.py:139: UserWarning: Excessive integration required; scale factor 1081.105866486851\n",
      "  if upscale_factor > 1e3: warnings.warn(f\"Excessive integration required; scale factor {upscale_factor}\")\n",
      "/Users/williamgilpin/program_repos/thom/thom/base.py:139: UserWarning: Excessive integration required; scale factor 5405.529332434256\n",
      "  if upscale_factor > 1e3: warnings.warn(f\"Excessive integration required; scale factor {upscale_factor}\")\n",
      "/Users/williamgilpin/program_repos/thom/thom/base.py:139: UserWarning: Excessive integration required; scale factor 1081.105866486851\n",
      "  if upscale_factor > 1e3: warnings.warn(f\"Excessive integration required; scale factor {upscale_factor}\")\n",
      "/Users/williamgilpin/program_repos/thom/thom/base.py:139: UserWarning: Excessive integration required; scale factor 5405.529332434256\n",
      "  if upscale_factor > 1e3: warnings.warn(f\"Excessive integration required; scale factor {upscale_factor}\")\n",
      "/Users/williamgilpin/program_repos/thom/thom/base.py:139: UserWarning: Excessive integration required; scale factor 1081.105866486851\n",
      "  if upscale_factor > 1e3: warnings.warn(f\"Excessive integration required; scale factor {upscale_factor}\")\n",
      "/Users/williamgilpin/program_repos/thom/thom/base.py:139: UserWarning: Excessive integration required; scale factor 5405.529332434256\n",
      "  if upscale_factor > 1e3: warnings.warn(f\"Excessive integration required; scale factor {upscale_factor}\")\n"
     ]
    },
    {
     "name": "stdout",
     "output_type": "stream",
     "text": [
      "5\n"
     ]
    },
    {
     "name": "stderr",
     "output_type": "stream",
     "text": [
      "/Users/williamgilpin/program_repos/thom/thom/base.py:139: UserWarning: Excessive integration required; scale factor 1081.105866486851\n",
      "  if upscale_factor > 1e3: warnings.warn(f\"Excessive integration required; scale factor {upscale_factor}\")\n",
      "/Users/williamgilpin/program_repos/thom/thom/base.py:139: UserWarning: Excessive integration required; scale factor 5405.529332434256\n",
      "  if upscale_factor > 1e3: warnings.warn(f\"Excessive integration required; scale factor {upscale_factor}\")\n",
      "/Users/williamgilpin/program_repos/thom/thom/base.py:139: UserWarning: Excessive integration required; scale factor 1081.105866486851\n",
      "  if upscale_factor > 1e3: warnings.warn(f\"Excessive integration required; scale factor {upscale_factor}\")\n",
      "/Users/williamgilpin/program_repos/thom/thom/base.py:139: UserWarning: Excessive integration required; scale factor 5405.529332434256\n",
      "  if upscale_factor > 1e3: warnings.warn(f\"Excessive integration required; scale factor {upscale_factor}\")\n",
      "/Users/williamgilpin/program_repos/thom/thom/base.py:139: UserWarning: Excessive integration required; scale factor 1081.105866486851\n",
      "  if upscale_factor > 1e3: warnings.warn(f\"Excessive integration required; scale factor {upscale_factor}\")\n",
      "/Users/williamgilpin/program_repos/thom/thom/base.py:139: UserWarning: Excessive integration required; scale factor 5405.529332434256\n",
      "  if upscale_factor > 1e3: warnings.warn(f\"Excessive integration required; scale factor {upscale_factor}\")\n",
      "/Users/williamgilpin/program_repos/thom/thom/base.py:139: UserWarning: Excessive integration required; scale factor 1081.105866486851\n",
      "  if upscale_factor > 1e3: warnings.warn(f\"Excessive integration required; scale factor {upscale_factor}\")\n",
      "/Users/williamgilpin/program_repos/thom/thom/base.py:139: UserWarning: Excessive integration required; scale factor 5405.529332434256\n",
      "  if upscale_factor > 1e3: warnings.warn(f\"Excessive integration required; scale factor {upscale_factor}\")\n",
      "/Users/williamgilpin/program_repos/thom/thom/base.py:139: UserWarning: Excessive integration required; scale factor 1081.105866486851\n",
      "  if upscale_factor > 1e3: warnings.warn(f\"Excessive integration required; scale factor {upscale_factor}\")\n",
      "/Users/williamgilpin/program_repos/thom/thom/base.py:139: UserWarning: Excessive integration required; scale factor 5405.529332434256\n",
      "  if upscale_factor > 1e3: warnings.warn(f\"Excessive integration required; scale factor {upscale_factor}\")\n"
     ]
    },
    {
     "name": "stdout",
     "output_type": "stream",
     "text": [
      "lyap: 0.29662240762517633 spectrum: [  0.29662241  -1.02717769 -18.91670906] corr_dim: 1.0570054685135126 \n",
      "\n",
      "Aizawa : 0\n",
      "5\n",
      "lyap: 0.14439499681023366 spectrum: [ 0.144395    0.04538163 -0.37254265] corr_dim: 1.9159655908503084 \n",
      "\n",
      "SanUmSrisuchinwong : 0\n",
      "5\n",
      "lyap: 0.23188249324204668 spectrum: [ 0.23188249  0.0058935  -1.22967356] corr_dim: 1.9435429281329442 \n",
      "\n",
      "Finance : 0\n"
     ]
    },
    {
     "name": "stderr",
     "output_type": "stream",
     "text": [
      "/Users/williamgilpin/program_repos/thom/thom/base.py:139: UserWarning: Excessive integration required; scale factor 1136.3657247875028\n",
      "  if upscale_factor > 1e3: warnings.warn(f\"Excessive integration required; scale factor {upscale_factor}\")\n",
      "/Users/williamgilpin/program_repos/thom/thom/base.py:139: UserWarning: Excessive integration required; scale factor 1136.3657247875028\n",
      "  if upscale_factor > 1e3: warnings.warn(f\"Excessive integration required; scale factor {upscale_factor}\")\n",
      "/Users/williamgilpin/program_repos/thom/thom/base.py:139: UserWarning: Excessive integration required; scale factor 1136.3657247875028\n",
      "  if upscale_factor > 1e3: warnings.warn(f\"Excessive integration required; scale factor {upscale_factor}\")\n",
      "/Users/williamgilpin/program_repos/thom/thom/base.py:139: UserWarning: Excessive integration required; scale factor 1136.3657247875028\n",
      "  if upscale_factor > 1e3: warnings.warn(f\"Excessive integration required; scale factor {upscale_factor}\")\n",
      "/Users/williamgilpin/program_repos/thom/thom/base.py:139: UserWarning: Excessive integration required; scale factor 1136.3657247875028\n",
      "  if upscale_factor > 1e3: warnings.warn(f\"Excessive integration required; scale factor {upscale_factor}\")\n"
     ]
    },
    {
     "name": "stdout",
     "output_type": "stream",
     "text": [
      "5\n"
     ]
    },
    {
     "name": "stderr",
     "output_type": "stream",
     "text": [
      "/Users/williamgilpin/program_repos/thom/thom/base.py:139: UserWarning: Excessive integration required; scale factor 1136.3657247875028\n",
      "  if upscale_factor > 1e3: warnings.warn(f\"Excessive integration required; scale factor {upscale_factor}\")\n",
      "/Users/williamgilpin/program_repos/thom/thom/base.py:139: UserWarning: Excessive integration required; scale factor 1136.3657247875028\n",
      "  if upscale_factor > 1e3: warnings.warn(f\"Excessive integration required; scale factor {upscale_factor}\")\n",
      "/Users/williamgilpin/program_repos/thom/thom/base.py:139: UserWarning: Excessive integration required; scale factor 1136.3657247875028\n",
      "  if upscale_factor > 1e3: warnings.warn(f\"Excessive integration required; scale factor {upscale_factor}\")\n",
      "/Users/williamgilpin/program_repos/thom/thom/base.py:139: UserWarning: Excessive integration required; scale factor 1136.3657247875028\n",
      "  if upscale_factor > 1e3: warnings.warn(f\"Excessive integration required; scale factor {upscale_factor}\")\n",
      "/Users/williamgilpin/program_repos/thom/thom/base.py:139: UserWarning: Excessive integration required; scale factor 1136.3657247875028\n",
      "  if upscale_factor > 1e3: warnings.warn(f\"Excessive integration required; scale factor {upscale_factor}\")\n"
     ]
    },
    {
     "name": "stdout",
     "output_type": "stream",
     "text": [
      "lyap: 0.11474489170305249 spectrum: [ 0.11474489 -0.00461947 -0.62772027] corr_dim: 1.9261063279903297 \n",
      "\n",
      "Dadras : 0\n"
     ]
    },
    {
     "name": "stderr",
     "output_type": "stream",
     "text": [
      "/Users/williamgilpin/program_repos/thom/thom/base.py:139: UserWarning: Excessive integration required; scale factor 2272.702142363511\n",
      "  if upscale_factor > 1e3: warnings.warn(f\"Excessive integration required; scale factor {upscale_factor}\")\n",
      "/Users/williamgilpin/program_repos/thom/thom/base.py:139: UserWarning: Excessive integration required; scale factor 2272.702142363511\n",
      "  if upscale_factor > 1e3: warnings.warn(f\"Excessive integration required; scale factor {upscale_factor}\")\n",
      "/Users/williamgilpin/program_repos/thom/thom/base.py:139: UserWarning: Excessive integration required; scale factor 2272.702142363511\n",
      "  if upscale_factor > 1e3: warnings.warn(f\"Excessive integration required; scale factor {upscale_factor}\")\n",
      "/Users/williamgilpin/program_repos/thom/thom/base.py:139: UserWarning: Excessive integration required; scale factor 2272.702142363511\n",
      "  if upscale_factor > 1e3: warnings.warn(f\"Excessive integration required; scale factor {upscale_factor}\")\n",
      "/Users/williamgilpin/program_repos/thom/thom/base.py:139: UserWarning: Excessive integration required; scale factor 2272.702142363511\n",
      "  if upscale_factor > 1e3: warnings.warn(f\"Excessive integration required; scale factor {upscale_factor}\")\n"
     ]
    },
    {
     "name": "stdout",
     "output_type": "stream",
     "text": [
      "5\n"
     ]
    },
    {
     "name": "stderr",
     "output_type": "stream",
     "text": [
      "/Users/williamgilpin/program_repos/thom/thom/base.py:139: UserWarning: Excessive integration required; scale factor 2272.702142363511\n",
      "  if upscale_factor > 1e3: warnings.warn(f\"Excessive integration required; scale factor {upscale_factor}\")\n",
      "/Users/williamgilpin/program_repos/thom/thom/base.py:139: UserWarning: Excessive integration required; scale factor 2272.702142363511\n",
      "  if upscale_factor > 1e3: warnings.warn(f\"Excessive integration required; scale factor {upscale_factor}\")\n",
      "/Users/williamgilpin/program_repos/thom/thom/base.py:139: UserWarning: Excessive integration required; scale factor 2272.702142363511\n",
      "  if upscale_factor > 1e3: warnings.warn(f\"Excessive integration required; scale factor {upscale_factor}\")\n",
      "/Users/williamgilpin/program_repos/thom/thom/base.py:139: UserWarning: Excessive integration required; scale factor 2272.702142363511\n",
      "  if upscale_factor > 1e3: warnings.warn(f\"Excessive integration required; scale factor {upscale_factor}\")\n",
      "/Users/williamgilpin/program_repos/thom/thom/base.py:139: UserWarning: Excessive integration required; scale factor 2272.702142363511\n",
      "  if upscale_factor > 1e3: warnings.warn(f\"Excessive integration required; scale factor {upscale_factor}\")\n"
     ]
    },
    {
     "name": "stdout",
     "output_type": "stream",
     "text": [
      "lyap: 0.4827027734037002 spectrum: [  0.48270277  -0.01160144 -11.15001845] corr_dim: 1.80264514161987 \n",
      "\n",
      "RikitakeDynamo : 0\n",
      "5\n",
      "lyap: 0.14083061293290852 spectrum: [ 0.14083061 -0.03243169 -2.12496291] corr_dim: 1.8694891113506753 \n",
      "\n",
      "RabinovichFabrikant : 0\n",
      "5\n",
      "lyap: 0.2714956662656254 spectrum: [ 0.27149567  0.00850703 -0.71580379] corr_dim: 2.051757386583561 \n",
      "\n",
      "AnishchenkoAstakhov : 0\n",
      "5\n",
      "lyap: 0.06722750350024173 spectrum: [ 0.0672275  -0.02056951 -0.42626539] corr_dim: 1.9453760315594668 \n",
      "\n",
      "GenesioTesi : 0\n",
      "5\n",
      "lyap: 0.10698665292529815 spectrum: [ 0.10698665  0.00697118 -0.54205497] corr_dim: 1.8686505222251444 \n",
      "\n",
      "ShimizuMorioka : 0\n",
      "5\n",
      "lyap: 0.05080258550020102 spectrum: [ 0.05080259 -0.0128933  -1.40376088] corr_dim: 1.6454441944333176 \n",
      "\n",
      "SprottTorus : 0\n"
     ]
    },
    {
     "name": "stderr",
     "output_type": "stream",
     "text": [
      "/Users/williamgilpin/program_repos/thom/thom/base.py:139: UserWarning: Excessive integration required; scale factor 2173.989455184534\n",
      "  if upscale_factor > 1e3: warnings.warn(f\"Excessive integration required; scale factor {upscale_factor}\")\n",
      "/Users/williamgilpin/program_repos/thom/thom/base.py:139: UserWarning: Excessive integration required; scale factor 2173.989455184534\n",
      "  if upscale_factor > 1e3: warnings.warn(f\"Excessive integration required; scale factor {upscale_factor}\")\n",
      "/Users/williamgilpin/program_repos/thom/thom/base.py:139: UserWarning: Excessive integration required; scale factor 2173.989455184534\n",
      "  if upscale_factor > 1e3: warnings.warn(f\"Excessive integration required; scale factor {upscale_factor}\")\n",
      "/Users/williamgilpin/program_repos/thom/thom/base.py:139: UserWarning: Excessive integration required; scale factor 2173.989455184534\n",
      "  if upscale_factor > 1e3: warnings.warn(f\"Excessive integration required; scale factor {upscale_factor}\")\n",
      "/Users/williamgilpin/program_repos/thom/thom/base.py:139: UserWarning: Excessive integration required; scale factor 2173.989455184534\n",
      "  if upscale_factor > 1e3: warnings.warn(f\"Excessive integration required; scale factor {upscale_factor}\")\n"
     ]
    },
    {
     "name": "stdout",
     "output_type": "stream",
     "text": [
      "5\n"
     ]
    },
    {
     "name": "stderr",
     "output_type": "stream",
     "text": [
      "/Users/williamgilpin/program_repos/thom/thom/base.py:139: UserWarning: Excessive integration required; scale factor 2173.989455184534\n",
      "  if upscale_factor > 1e3: warnings.warn(f\"Excessive integration required; scale factor {upscale_factor}\")\n",
      "/Users/williamgilpin/program_repos/thom/thom/base.py:139: UserWarning: Excessive integration required; scale factor 2173.989455184534\n",
      "  if upscale_factor > 1e3: warnings.warn(f\"Excessive integration required; scale factor {upscale_factor}\")\n",
      "/Users/williamgilpin/program_repos/thom/thom/base.py:139: UserWarning: Excessive integration required; scale factor 2173.989455184534\n",
      "  if upscale_factor > 1e3: warnings.warn(f\"Excessive integration required; scale factor {upscale_factor}\")\n",
      "/Users/williamgilpin/program_repos/thom/thom/base.py:139: UserWarning: Excessive integration required; scale factor 2173.989455184534\n",
      "  if upscale_factor > 1e3: warnings.warn(f\"Excessive integration required; scale factor {upscale_factor}\")\n",
      "/Users/williamgilpin/program_repos/thom/thom/base.py:139: UserWarning: Excessive integration required; scale factor 2173.989455184534\n",
      "  if upscale_factor > 1e3: warnings.warn(f\"Excessive integration required; scale factor {upscale_factor}\")\n"
     ]
    },
    {
     "name": "stdout",
     "output_type": "stream",
     "text": [
      "lyap: 0.28423840086968155 spectrum: [ 0.2842384  -0.01787616 -0.39873038] corr_dim: 1.0708358553214101 \n",
      "\n",
      "SprottJerk : 0\n",
      "5\n",
      "lyap: 0.060908417219865715 spectrum: [ 0.06090842 -0.00829218 -2.12005074] corr_dim: 1.142991177823796 \n",
      "\n",
      "SprottB : 0\n"
     ]
    },
    {
     "name": "stderr",
     "output_type": "stream",
     "text": [
      "/Users/williamgilpin/program_repos/thom/thom/base.py:139: UserWarning: Excessive integration required; scale factor 1020.4089173543541\n",
      "  if upscale_factor > 1e3: warnings.warn(f\"Excessive integration required; scale factor {upscale_factor}\")\n",
      "/Users/williamgilpin/program_repos/thom/thom/base.py:139: UserWarning: Excessive integration required; scale factor 1020.4089173543541\n",
      "  if upscale_factor > 1e3: warnings.warn(f\"Excessive integration required; scale factor {upscale_factor}\")\n",
      "/Users/williamgilpin/program_repos/thom/thom/base.py:139: UserWarning: Excessive integration required; scale factor 1020.4089173543541\n",
      "  if upscale_factor > 1e3: warnings.warn(f\"Excessive integration required; scale factor {upscale_factor}\")\n",
      "/Users/williamgilpin/program_repos/thom/thom/base.py:139: UserWarning: Excessive integration required; scale factor 1020.4089173543541\n",
      "  if upscale_factor > 1e3: warnings.warn(f\"Excessive integration required; scale factor {upscale_factor}\")\n",
      "/Users/williamgilpin/program_repos/thom/thom/base.py:139: UserWarning: Excessive integration required; scale factor 1020.4089173543541\n",
      "  if upscale_factor > 1e3: warnings.warn(f\"Excessive integration required; scale factor {upscale_factor}\")\n"
     ]
    },
    {
     "name": "stdout",
     "output_type": "stream",
     "text": [
      "5\n"
     ]
    },
    {
     "name": "stderr",
     "output_type": "stream",
     "text": [
      "/Users/williamgilpin/program_repos/thom/thom/base.py:139: UserWarning: Excessive integration required; scale factor 1020.4089173543541\n",
      "  if upscale_factor > 1e3: warnings.warn(f\"Excessive integration required; scale factor {upscale_factor}\")\n",
      "/Users/williamgilpin/program_repos/thom/thom/base.py:139: UserWarning: Excessive integration required; scale factor 1020.4089173543541\n",
      "  if upscale_factor > 1e3: warnings.warn(f\"Excessive integration required; scale factor {upscale_factor}\")\n",
      "/Users/williamgilpin/program_repos/thom/thom/base.py:139: UserWarning: Excessive integration required; scale factor 1020.4089173543541\n",
      "  if upscale_factor > 1e3: warnings.warn(f\"Excessive integration required; scale factor {upscale_factor}\")\n",
      "/Users/williamgilpin/program_repos/thom/thom/base.py:139: UserWarning: Excessive integration required; scale factor 1020.4089173543541\n",
      "  if upscale_factor > 1e3: warnings.warn(f\"Excessive integration required; scale factor {upscale_factor}\")\n",
      "/Users/williamgilpin/program_repos/thom/thom/base.py:139: UserWarning: Excessive integration required; scale factor 1020.4089173543541\n",
      "  if upscale_factor > 1e3: warnings.warn(f\"Excessive integration required; scale factor {upscale_factor}\")\n"
     ]
    },
    {
     "name": "stdout",
     "output_type": "stream",
     "text": [
      "lyap: 0.21461610039989906 spectrum: [ 0.2146161   0.00982522 -1.21657112] corr_dim: 1.9372977853258373 \n",
      "\n",
      "SprottC : 0\n",
      "5\n",
      "lyap: 0.17765619073209343 spectrum: [ 1.77656191e-01 -1.32591271e-04 -1.16358879e+00] corr_dim: 1.8682224119721211 \n",
      "\n",
      "SprottD : 0\n",
      "5\n",
      "lyap: 0.09926709604534886 spectrum: [ 0.0992671   0.01447593 -1.30588496] corr_dim: 1.9340163405979591 \n",
      "\n",
      "SprottE : 0\n"
     ]
    },
    {
     "name": "stderr",
     "output_type": "stream",
     "text": [
      "/Users/williamgilpin/program_repos/thom/thom/base.py:139: UserWarning: Excessive integration required; scale factor 1785.6724803933043\n",
      "  if upscale_factor > 1e3: warnings.warn(f\"Excessive integration required; scale factor {upscale_factor}\")\n",
      "/Users/williamgilpin/program_repos/thom/thom/base.py:139: UserWarning: Excessive integration required; scale factor 1785.6724803933043\n",
      "  if upscale_factor > 1e3: warnings.warn(f\"Excessive integration required; scale factor {upscale_factor}\")\n",
      "/Users/williamgilpin/program_repos/thom/thom/base.py:139: UserWarning: Excessive integration required; scale factor 1785.6724803933043\n",
      "  if upscale_factor > 1e3: warnings.warn(f\"Excessive integration required; scale factor {upscale_factor}\")\n",
      "/Users/williamgilpin/program_repos/thom/thom/base.py:139: UserWarning: Excessive integration required; scale factor 1785.6724803933043\n",
      "  if upscale_factor > 1e3: warnings.warn(f\"Excessive integration required; scale factor {upscale_factor}\")\n",
      "/Users/williamgilpin/program_repos/thom/thom/base.py:139: UserWarning: Excessive integration required; scale factor 1785.6724803933043\n",
      "  if upscale_factor > 1e3: warnings.warn(f\"Excessive integration required; scale factor {upscale_factor}\")\n"
     ]
    },
    {
     "name": "stdout",
     "output_type": "stream",
     "text": [
      "5\n"
     ]
    },
    {
     "name": "stderr",
     "output_type": "stream",
     "text": [
      "/Users/williamgilpin/program_repos/thom/thom/base.py:139: UserWarning: Excessive integration required; scale factor 1785.6724803933043\n",
      "  if upscale_factor > 1e3: warnings.warn(f\"Excessive integration required; scale factor {upscale_factor}\")\n",
      "/Users/williamgilpin/program_repos/thom/thom/base.py:139: UserWarning: Excessive integration required; scale factor 1785.6724803933043\n",
      "  if upscale_factor > 1e3: warnings.warn(f\"Excessive integration required; scale factor {upscale_factor}\")\n",
      "/Users/williamgilpin/program_repos/thom/thom/base.py:139: UserWarning: Excessive integration required; scale factor 1785.6724803933043\n",
      "  if upscale_factor > 1e3: warnings.warn(f\"Excessive integration required; scale factor {upscale_factor}\")\n",
      "/Users/williamgilpin/program_repos/thom/thom/base.py:139: UserWarning: Excessive integration required; scale factor 1785.6724803933043\n",
      "  if upscale_factor > 1e3: warnings.warn(f\"Excessive integration required; scale factor {upscale_factor}\")\n",
      "/Users/williamgilpin/program_repos/thom/thom/base.py:139: UserWarning: Excessive integration required; scale factor 1785.6724803933043\n",
      "  if upscale_factor > 1e3: warnings.warn(f\"Excessive integration required; scale factor {upscale_factor}\")\n"
     ]
    },
    {
     "name": "stdout",
     "output_type": "stream",
     "text": [
      "lyap: 0.12053487396002593 spectrum: [ 0.12053487  0.01140691 -1.12852401] corr_dim: 1.5305385116032928 \n",
      "\n",
      "SprottF : 0\n"
     ]
    },
    {
     "name": "stderr",
     "output_type": "stream",
     "text": [
      "/Users/williamgilpin/program_repos/thom/thom/base.py:139: UserWarning: Excessive integration required; scale factor 1162.7794561933533\n",
      "  if upscale_factor > 1e3: warnings.warn(f\"Excessive integration required; scale factor {upscale_factor}\")\n",
      "/Users/williamgilpin/program_repos/thom/thom/base.py:139: UserWarning: Excessive integration required; scale factor 1162.7794561933533\n",
      "  if upscale_factor > 1e3: warnings.warn(f\"Excessive integration required; scale factor {upscale_factor}\")\n",
      "/Users/williamgilpin/program_repos/thom/thom/base.py:139: UserWarning: Excessive integration required; scale factor 1162.7794561933533\n",
      "  if upscale_factor > 1e3: warnings.warn(f\"Excessive integration required; scale factor {upscale_factor}\")\n",
      "/Users/williamgilpin/program_repos/thom/thom/base.py:139: UserWarning: Excessive integration required; scale factor 1162.7794561933533\n",
      "  if upscale_factor > 1e3: warnings.warn(f\"Excessive integration required; scale factor {upscale_factor}\")\n",
      "/Users/williamgilpin/program_repos/thom/thom/base.py:139: UserWarning: Excessive integration required; scale factor 1162.7794561933533\n",
      "  if upscale_factor > 1e3: warnings.warn(f\"Excessive integration required; scale factor {upscale_factor}\")\n"
     ]
    },
    {
     "name": "stdout",
     "output_type": "stream",
     "text": [
      "5\n"
     ]
    },
    {
     "name": "stderr",
     "output_type": "stream",
     "text": [
      "/Users/williamgilpin/program_repos/thom/thom/base.py:139: UserWarning: Excessive integration required; scale factor 1162.7794561933533\n",
      "  if upscale_factor > 1e3: warnings.warn(f\"Excessive integration required; scale factor {upscale_factor}\")\n",
      "/Users/williamgilpin/program_repos/thom/thom/base.py:139: UserWarning: Excessive integration required; scale factor 1162.7794561933533\n",
      "  if upscale_factor > 1e3: warnings.warn(f\"Excessive integration required; scale factor {upscale_factor}\")\n",
      "/Users/williamgilpin/program_repos/thom/thom/base.py:139: UserWarning: Excessive integration required; scale factor 1162.7794561933533\n",
      "  if upscale_factor > 1e3: warnings.warn(f\"Excessive integration required; scale factor {upscale_factor}\")\n",
      "/Users/williamgilpin/program_repos/thom/thom/base.py:139: UserWarning: Excessive integration required; scale factor 1162.7794561933533\n",
      "  if upscale_factor > 1e3: warnings.warn(f\"Excessive integration required; scale factor {upscale_factor}\")\n",
      "/Users/williamgilpin/program_repos/thom/thom/base.py:139: UserWarning: Excessive integration required; scale factor 1162.7794561933533\n",
      "  if upscale_factor > 1e3: warnings.warn(f\"Excessive integration required; scale factor {upscale_factor}\")\n"
     ]
    },
    {
     "name": "stdout",
     "output_type": "stream",
     "text": [
      "lyap: 0.11996294443009152 spectrum: [ 0.11996294  0.03060148 -0.59987143] corr_dim: 2.211310060127852 \n",
      "\n",
      "SprottG : 0\n",
      "5\n",
      "lyap: 0.03958683615174103 spectrum: [ 0.03958684 -0.01320272 -0.6122119 ] corr_dim: 1.426724087455231 \n",
      "\n",
      "SprottH : 0\n"
     ]
    },
    {
     "name": "stderr",
     "output_type": "stream",
     "text": [
      "/Users/williamgilpin/program_repos/thom/thom/base.py:139: UserWarning: Excessive integration required; scale factor 1428.6016949152543\n",
      "  if upscale_factor > 1e3: warnings.warn(f\"Excessive integration required; scale factor {upscale_factor}\")\n",
      "/Users/williamgilpin/program_repos/thom/thom/base.py:139: UserWarning: Excessive integration required; scale factor 1428.6016949152543\n",
      "  if upscale_factor > 1e3: warnings.warn(f\"Excessive integration required; scale factor {upscale_factor}\")\n",
      "/Users/williamgilpin/program_repos/thom/thom/base.py:139: UserWarning: Excessive integration required; scale factor 1428.6016949152543\n",
      "  if upscale_factor > 1e3: warnings.warn(f\"Excessive integration required; scale factor {upscale_factor}\")\n",
      "/Users/williamgilpin/program_repos/thom/thom/base.py:139: UserWarning: Excessive integration required; scale factor 1428.6016949152543\n",
      "  if upscale_factor > 1e3: warnings.warn(f\"Excessive integration required; scale factor {upscale_factor}\")\n",
      "/Users/williamgilpin/program_repos/thom/thom/base.py:139: UserWarning: Excessive integration required; scale factor 1428.6016949152543\n",
      "  if upscale_factor > 1e3: warnings.warn(f\"Excessive integration required; scale factor {upscale_factor}\")\n"
     ]
    },
    {
     "name": "stdout",
     "output_type": "stream",
     "text": [
      "5\n"
     ]
    },
    {
     "name": "stderr",
     "output_type": "stream",
     "text": [
      "/Users/williamgilpin/program_repos/thom/thom/base.py:139: UserWarning: Excessive integration required; scale factor 1428.6016949152543\n",
      "  if upscale_factor > 1e3: warnings.warn(f\"Excessive integration required; scale factor {upscale_factor}\")\n",
      "/Users/williamgilpin/program_repos/thom/thom/base.py:139: UserWarning: Excessive integration required; scale factor 1428.6016949152543\n",
      "  if upscale_factor > 1e3: warnings.warn(f\"Excessive integration required; scale factor {upscale_factor}\")\n",
      "/Users/williamgilpin/program_repos/thom/thom/base.py:139: UserWarning: Excessive integration required; scale factor 1428.6016949152543\n",
      "  if upscale_factor > 1e3: warnings.warn(f\"Excessive integration required; scale factor {upscale_factor}\")\n",
      "/Users/williamgilpin/program_repos/thom/thom/base.py:139: UserWarning: Excessive integration required; scale factor 1428.6016949152543\n",
      "  if upscale_factor > 1e3: warnings.warn(f\"Excessive integration required; scale factor {upscale_factor}\")\n",
      "/Users/williamgilpin/program_repos/thom/thom/base.py:139: UserWarning: Excessive integration required; scale factor 1428.6016949152543\n",
      "  if upscale_factor > 1e3: warnings.warn(f\"Excessive integration required; scale factor {upscale_factor}\")\n"
     ]
    },
    {
     "name": "stdout",
     "output_type": "stream",
     "text": [
      "lyap: 0.12833921473790494 spectrum: [ 0.12833921  0.03705079 -0.61218572] corr_dim: 2.154127662056536 \n",
      "\n",
      "SprottI : 0\n",
      "5\n",
      "lyap: 0.023547365181134018 spectrum: [ 0.02354737 -0.00333905 -1.02702463] corr_dim: 1.5853493521138096 \n",
      "\n",
      "SprottJ : 0\n",
      "5\n",
      "lyap: 0.04881307721165381 spectrum: [ 0.04881308 -0.02032755 -2.0387927 ] corr_dim: 1.7698840105145996 \n",
      "\n",
      "SprottK : 0\n",
      "5\n",
      "lyap: 0.0472612566221831 spectrum: [ 0.04726126 -0.02778343 -0.86736123] corr_dim: 1.8223196793093077 \n",
      "\n",
      "SprottL : 0\n",
      "5\n",
      "lyap: 0.04366989494873552 spectrum: [ 0.04366989 -0.03115571 -0.99160274] corr_dim: 1.4073746364914945 \n",
      "\n",
      "SprottM : 0\n",
      "5\n",
      "lyap: 0.057518765022120645 spectrum: [ 0.05751877 -0.00530853 -1.03934174] corr_dim: 1.565785890019658 \n",
      "\n",
      "SprottN : 0\n",
      "5\n",
      "lyap: 0.05001271658235358 spectrum: [ 0.05001272  0.00752922 -2.06755197] corr_dim: 1.7709729730442934 \n",
      "\n",
      "SprottO : 0\n",
      "5\n",
      "lyap: 0.06978132904892258 spectrum: [ 0.06978133  0.01187367 -0.31936505] corr_dim: 1.7159849986045284 \n",
      "\n",
      "SprottP : 0\n",
      "5\n",
      "lyap: 0.11511629409089315 spectrum: [ 0.11511629  0.01493391 -0.51078089] corr_dim: 2.002213093011733 \n",
      "\n",
      "SprottQ : 0\n",
      "5\n",
      "lyap: 0.13071894296290024 spectrum: [ 1.30718943e-01 -5.60519777e-04 -6.06186010e-01] corr_dim: 1.8396304860093846 \n",
      "\n",
      "SprottR : 0\n",
      "5\n",
      "lyap: 0.07812056545245927 spectrum: [ 0.07812057  0.00547125 -1.08454847] corr_dim: 1.8164555581619684 \n",
      "\n",
      "SprottS : 0\n",
      "5\n",
      "lyap: 0.18893898458874667 spectrum: [ 0.18893898  0.00877208 -1.17428709] corr_dim: 1.8987990751778387 \n",
      "\n",
      "Hadley : 0\n",
      "5\n",
      "lyap: 0.27953762934224274 spectrum: [ 0.27953763 -0.02350226 -0.45272918] corr_dim: 1.8251489355365844 \n",
      "\n",
      "RayleighBenard : 0\n",
      "5\n",
      "lyap: 1.7025381527267804 spectrum: [  1.70253815   0.34559284 -19.07355061] corr_dim: 1.918922035674015 \n",
      "\n",
      "NoseHoover : 0\n",
      "5\n",
      "lyap: 0.06224316022653118 spectrum: [ 0.06224316 -0.00214713 -0.03780682] corr_dim: 1.9564444567436652 \n",
      "\n",
      "KawczynskiStrizhak : 0\n"
     ]
    },
    {
     "name": "stderr",
     "output_type": "stream",
     "text": [
      "/Users/williamgilpin/program_repos/thom/thom/base.py:139: UserWarning: Excessive integration required; scale factor 2000.0\n",
      "  if upscale_factor > 1e3: warnings.warn(f\"Excessive integration required; scale factor {upscale_factor}\")\n",
      "/Users/williamgilpin/program_repos/thom/thom/base.py:139: UserWarning: Excessive integration required; scale factor 2000.0\n",
      "  if upscale_factor > 1e3: warnings.warn(f\"Excessive integration required; scale factor {upscale_factor}\")\n",
      "/Users/williamgilpin/program_repos/thom/thom/base.py:139: UserWarning: Excessive integration required; scale factor 2000.0\n",
      "  if upscale_factor > 1e3: warnings.warn(f\"Excessive integration required; scale factor {upscale_factor}\")\n",
      "/Users/williamgilpin/program_repos/thom/thom/base.py:139: UserWarning: Excessive integration required; scale factor 2000.0\n",
      "  if upscale_factor > 1e3: warnings.warn(f\"Excessive integration required; scale factor {upscale_factor}\")\n",
      "/Users/williamgilpin/program_repos/thom/thom/base.py:139: UserWarning: Excessive integration required; scale factor 2000.0\n",
      "  if upscale_factor > 1e3: warnings.warn(f\"Excessive integration required; scale factor {upscale_factor}\")\n"
     ]
    },
    {
     "name": "stdout",
     "output_type": "stream",
     "text": [
      "5\n"
     ]
    },
    {
     "name": "stderr",
     "output_type": "stream",
     "text": [
      "/Users/williamgilpin/program_repos/thom/thom/base.py:139: UserWarning: Excessive integration required; scale factor 2000.0\n",
      "  if upscale_factor > 1e3: warnings.warn(f\"Excessive integration required; scale factor {upscale_factor}\")\n",
      "/Users/williamgilpin/program_repos/thom/thom/base.py:139: UserWarning: Excessive integration required; scale factor 2000.0\n",
      "  if upscale_factor > 1e3: warnings.warn(f\"Excessive integration required; scale factor {upscale_factor}\")\n",
      "/Users/williamgilpin/program_repos/thom/thom/base.py:139: UserWarning: Excessive integration required; scale factor 2000.0\n",
      "  if upscale_factor > 1e3: warnings.warn(f\"Excessive integration required; scale factor {upscale_factor}\")\n",
      "/Users/williamgilpin/program_repos/thom/thom/base.py:139: UserWarning: Excessive integration required; scale factor 2000.0\n",
      "  if upscale_factor > 1e3: warnings.warn(f\"Excessive integration required; scale factor {upscale_factor}\")\n",
      "/Users/williamgilpin/program_repos/thom/thom/base.py:139: UserWarning: Excessive integration required; scale factor 2000.0\n",
      "  if upscale_factor > 1e3: warnings.warn(f\"Excessive integration required; scale factor {upscale_factor}\")\n"
     ]
    },
    {
     "name": "stdout",
     "output_type": "stream",
     "text": [
      "lyap: 0.03572511935064669 spectrum: [ 0.03572512 -0.08346785 -0.31911605] corr_dim: 0.5049651080080511 \n",
      "\n",
      "VallisElNino : 0\n",
      "5\n",
      "lyap: 0.5840243323066412 spectrum: [ 0.58402433  0.07396845 -5.61313055] corr_dim: 1.3086093668876084 \n",
      "\n",
      "DoublePendulum : 0\n",
      "5\n",
      "lyap: 1.4102813189200663 spectrum: [ 1.41028132  0.22223437 -0.20082471 -1.50304354] corr_dim: 1.1836377337676542 \n",
      "\n",
      "SwingingAtwood : 0\n",
      "5\n",
      "lyap: 0.8782955927998393 spectrum: [ 0.87829559  0.11723731 -0.311414   -0.50523283] corr_dim: 1.9272092764669615 \n",
      "\n",
      "FluidTrampoline : 0\n",
      "5\n",
      "lyap: 0.064924248101058 spectrum: [ 0.06492425 -0.0777601   0.        ] corr_dim: 1.0629315269536577 \n",
      "\n",
      "DoubleGyre : 0\n"
     ]
    },
    {
     "name": "stderr",
     "output_type": "stream",
     "text": [
      "/Users/williamgilpin/miniconda3/envs/nn/lib/python3.8/site-packages/sklearn/metrics/_regression.py:594: UndefinedMetricWarning: R^2 score is not well-defined with less than two samples.\n",
      "  warnings.warn(msg, UndefinedMetricWarning)\n",
      "/Users/williamgilpin/program_repos/thom/private/lyap.py:70: RuntimeWarning: RANSAC did not reach consensus, using numpy's polyfit\n",
      "  warnings.warn(\n",
      "/Users/williamgilpin/program_repos/thom/private/lyap.py:70: RuntimeWarning: RANSAC did not reach consensus, using numpy's polyfit\n",
      "  warnings.warn(\n",
      "/Users/williamgilpin/program_repos/thom/private/lyap.py:70: RuntimeWarning: RANSAC did not reach consensus, using numpy's polyfit\n",
      "  warnings.warn(\n"
     ]
    },
    {
     "name": "stdout",
     "output_type": "stream",
     "text": [
      "5\n"
     ]
    },
    {
     "name": "stderr",
     "output_type": "stream",
     "text": [
      "/Users/williamgilpin/program_repos/thom/private/lyap.py:70: RuntimeWarning: RANSAC did not reach consensus, using numpy's polyfit\n",
      "  warnings.warn(\n",
      "/Users/williamgilpin/program_repos/thom/private/lyap.py:70: RuntimeWarning: RANSAC did not reach consensus, using numpy's polyfit\n",
      "  warnings.warn(\n",
      "/Users/williamgilpin/program_repos/thom/private/lyap.py:70: RuntimeWarning: RANSAC did not reach consensus, using numpy's polyfit\n",
      "  warnings.warn(\n",
      "/Users/williamgilpin/miniconda3/envs/nn/lib/python3.8/site-packages/sklearn/metrics/_regression.py:594: UndefinedMetricWarning: R^2 score is not well-defined with less than two samples.\n",
      "  warnings.warn(msg, UndefinedMetricWarning)\n"
     ]
    },
    {
     "name": "stdout",
     "output_type": "stream",
     "text": [
      "lyap: 0.07332296639384146 spectrum: [ 0.07332297 -0.07531755  0.        ] corr_dim: 0.10774883846585599 \n",
      "\n",
      "BlinkingRotlet : 0\n"
     ]
    },
    {
     "name": "stderr",
     "output_type": "stream",
     "text": [
      "/Users/williamgilpin/program_repos/thom/thom/base.py:139: UserWarning: Excessive integration required; scale factor 1666.6549047282992\n",
      "  if upscale_factor > 1e3: warnings.warn(f\"Excessive integration required; scale factor {upscale_factor}\")\n",
      "/Users/williamgilpin/program_repos/thom/thom/base.py:139: UserWarning: Excessive integration required; scale factor 1666.6549047282992\n",
      "  if upscale_factor > 1e3: warnings.warn(f\"Excessive integration required; scale factor {upscale_factor}\")\n",
      "/Users/williamgilpin/program_repos/thom/thom/base.py:139: UserWarning: Excessive integration required; scale factor 1666.6549047282992\n",
      "  if upscale_factor > 1e3: warnings.warn(f\"Excessive integration required; scale factor {upscale_factor}\")\n",
      "/Users/williamgilpin/program_repos/thom/thom/base.py:139: UserWarning: Excessive integration required; scale factor 1666.6549047282992\n",
      "  if upscale_factor > 1e3: warnings.warn(f\"Excessive integration required; scale factor {upscale_factor}\")\n",
      "/Users/williamgilpin/program_repos/thom/thom/base.py:139: UserWarning: Excessive integration required; scale factor 1666.6549047282992\n",
      "  if upscale_factor > 1e3: warnings.warn(f\"Excessive integration required; scale factor {upscale_factor}\")\n"
     ]
    },
    {
     "name": "stdout",
     "output_type": "stream",
     "text": [
      "5\n"
     ]
    },
    {
     "name": "stderr",
     "output_type": "stream",
     "text": [
      "/Users/williamgilpin/program_repos/thom/thom/base.py:139: UserWarning: Excessive integration required; scale factor 1666.6549047282992\n",
      "  if upscale_factor > 1e3: warnings.warn(f\"Excessive integration required; scale factor {upscale_factor}\")\n",
      "/Users/williamgilpin/program_repos/thom/thom/base.py:139: UserWarning: Excessive integration required; scale factor 1666.6549047282992\n",
      "  if upscale_factor > 1e3: warnings.warn(f\"Excessive integration required; scale factor {upscale_factor}\")\n",
      "/Users/williamgilpin/program_repos/thom/thom/base.py:139: UserWarning: Excessive integration required; scale factor 1666.6549047282992\n",
      "  if upscale_factor > 1e3: warnings.warn(f\"Excessive integration required; scale factor {upscale_factor}\")\n",
      "/Users/williamgilpin/program_repos/thom/thom/base.py:139: UserWarning: Excessive integration required; scale factor 1666.6549047282992\n",
      "  if upscale_factor > 1e3: warnings.warn(f\"Excessive integration required; scale factor {upscale_factor}\")\n",
      "/Users/williamgilpin/program_repos/thom/thom/base.py:139: UserWarning: Excessive integration required; scale factor 1666.6549047282992\n",
      "  if upscale_factor > 1e3: warnings.warn(f\"Excessive integration required; scale factor {upscale_factor}\")\n"
     ]
    },
    {
     "name": "stdout",
     "output_type": "stream",
     "text": [
      "lyap: 0.5728078850698255 spectrum: [ 0.57280789 -1.98668426] corr_dim: 0.689629500454578 \n",
      "\n",
      "BlinkingVortex : 0\n"
     ]
    },
    {
     "name": "stderr",
     "output_type": "stream",
     "text": [
      "/Users/williamgilpin/program_repos/thom/thom/base.py:139: UserWarning: Excessive integration required; scale factor 1075.2757949383515\n",
      "  if upscale_factor > 1e3: warnings.warn(f\"Excessive integration required; scale factor {upscale_factor}\")\n",
      "/Users/williamgilpin/program_repos/thom/thom/base.py:139: UserWarning: Excessive integration required; scale factor 1075.2757949383515\n",
      "  if upscale_factor > 1e3: warnings.warn(f\"Excessive integration required; scale factor {upscale_factor}\")\n",
      "/Users/williamgilpin/program_repos/thom/thom/base.py:139: UserWarning: Excessive integration required; scale factor 1075.2757949383515\n",
      "  if upscale_factor > 1e3: warnings.warn(f\"Excessive integration required; scale factor {upscale_factor}\")\n",
      "/Users/williamgilpin/program_repos/thom/thom/base.py:139: UserWarning: Excessive integration required; scale factor 1075.2757949383515\n",
      "  if upscale_factor > 1e3: warnings.warn(f\"Excessive integration required; scale factor {upscale_factor}\")\n",
      "/Users/williamgilpin/program_repos/thom/thom/base.py:139: UserWarning: Excessive integration required; scale factor 1075.2757949383515\n",
      "  if upscale_factor > 1e3: warnings.warn(f\"Excessive integration required; scale factor {upscale_factor}\")\n"
     ]
    },
    {
     "name": "stdout",
     "output_type": "stream",
     "text": [
      "5\n"
     ]
    },
    {
     "name": "stderr",
     "output_type": "stream",
     "text": [
      "/Users/williamgilpin/program_repos/thom/thom/base.py:139: UserWarning: Excessive integration required; scale factor 1075.2757949383515\n",
      "  if upscale_factor > 1e3: warnings.warn(f\"Excessive integration required; scale factor {upscale_factor}\")\n",
      "/Users/williamgilpin/program_repos/thom/thom/base.py:139: UserWarning: Excessive integration required; scale factor 1075.2757949383515\n",
      "  if upscale_factor > 1e3: warnings.warn(f\"Excessive integration required; scale factor {upscale_factor}\")\n",
      "/Users/williamgilpin/program_repos/thom/thom/base.py:139: UserWarning: Excessive integration required; scale factor 1075.2757949383515\n",
      "  if upscale_factor > 1e3: warnings.warn(f\"Excessive integration required; scale factor {upscale_factor}\")\n",
      "/Users/williamgilpin/program_repos/thom/thom/base.py:139: UserWarning: Excessive integration required; scale factor 1075.2757949383515\n",
      "  if upscale_factor > 1e3: warnings.warn(f\"Excessive integration required; scale factor {upscale_factor}\")\n",
      "/Users/williamgilpin/program_repos/thom/thom/base.py:139: UserWarning: Excessive integration required; scale factor 1075.2757949383515\n",
      "  if upscale_factor > 1e3: warnings.warn(f\"Excessive integration required; scale factor {upscale_factor}\")\n"
     ]
    },
    {
     "name": "stdout",
     "output_type": "stream",
     "text": [
      "lyap: 0.7101417577713229 spectrum: [ 0.71014176 -1.33957651] corr_dim: 0.8836613274138262 \n",
      "\n",
      "OscillatingFlow : 0\n",
      "5\n",
      "lyap: 0.08024955732020635 spectrum: [ 0.08024956 -0.07993309  0.        ] corr_dim: 0.953712586546198 \n",
      "\n",
      "BickleyJet : 0\n",
      "5\n",
      "lyap: 3.670434375219976e-06 spectrum: [ 3.67043438e-06 -3.66560603e-06  0.00000000e+00] corr_dim: 0.9479513852100462 \n",
      "\n",
      "ArnoldBeltramiChildress : 0\n"
     ]
    },
    {
     "name": "stderr",
     "output_type": "stream",
     "text": [
      "/Users/williamgilpin/program_repos/thom/thom/base.py:139: UserWarning: Excessive integration required; scale factor 2272.7655394976846\n",
      "  if upscale_factor > 1e3: warnings.warn(f\"Excessive integration required; scale factor {upscale_factor}\")\n",
      "/Users/williamgilpin/program_repos/thom/thom/base.py:139: UserWarning: Excessive integration required; scale factor 2272.7655394976846\n",
      "  if upscale_factor > 1e3: warnings.warn(f\"Excessive integration required; scale factor {upscale_factor}\")\n",
      "/Users/williamgilpin/program_repos/thom/thom/base.py:139: UserWarning: Excessive integration required; scale factor 2272.7655394976846\n",
      "  if upscale_factor > 1e3: warnings.warn(f\"Excessive integration required; scale factor {upscale_factor}\")\n",
      "/Users/williamgilpin/program_repos/thom/thom/base.py:139: UserWarning: Excessive integration required; scale factor 2272.7655394976846\n",
      "  if upscale_factor > 1e3: warnings.warn(f\"Excessive integration required; scale factor {upscale_factor}\")\n",
      "/Users/williamgilpin/program_repos/thom/thom/base.py:139: UserWarning: Excessive integration required; scale factor 2272.7655394976846\n",
      "  if upscale_factor > 1e3: warnings.warn(f\"Excessive integration required; scale factor {upscale_factor}\")\n"
     ]
    },
    {
     "name": "stdout",
     "output_type": "stream",
     "text": [
      "5\n"
     ]
    },
    {
     "name": "stderr",
     "output_type": "stream",
     "text": [
      "/Users/williamgilpin/program_repos/thom/thom/base.py:139: UserWarning: Excessive integration required; scale factor 2272.7655394976846\n",
      "  if upscale_factor > 1e3: warnings.warn(f\"Excessive integration required; scale factor {upscale_factor}\")\n",
      "/Users/williamgilpin/program_repos/thom/thom/base.py:139: UserWarning: Excessive integration required; scale factor 2272.7655394976846\n",
      "  if upscale_factor > 1e3: warnings.warn(f\"Excessive integration required; scale factor {upscale_factor}\")\n",
      "/Users/williamgilpin/program_repos/thom/thom/base.py:139: UserWarning: Excessive integration required; scale factor 2272.7655394976846\n",
      "  if upscale_factor > 1e3: warnings.warn(f\"Excessive integration required; scale factor {upscale_factor}\")\n",
      "/Users/williamgilpin/program_repos/thom/thom/base.py:139: UserWarning: Excessive integration required; scale factor 2272.7655394976846\n",
      "  if upscale_factor > 1e3: warnings.warn(f\"Excessive integration required; scale factor {upscale_factor}\")\n",
      "/Users/williamgilpin/program_repos/thom/thom/base.py:139: UserWarning: Excessive integration required; scale factor 2272.7655394976846\n",
      "  if upscale_factor > 1e3: warnings.warn(f\"Excessive integration required; scale factor {upscale_factor}\")\n"
     ]
    },
    {
     "name": "stdout",
     "output_type": "stream",
     "text": [
      "lyap: 0.12916796788157683 spectrum: [ 0.12916797 -0.01800145 -0.4185246 ] corr_dim: 0.7512995977666088 \n",
      "\n",
      "BelousovZhabotinsky : "
     ]
    },
    {
     "name": "stderr",
     "output_type": "stream",
     "text": [
      "/Users/williamgilpin/program_repos/thom/thom/base.py:139: UserWarning: Excessive integration required; scale factor 1587.2891671013736\n",
      "  if upscale_factor > 1e3: warnings.warn(f\"Excessive integration required; scale factor {upscale_factor}\")\n",
      "/Users/williamgilpin/program_repos/thom/thom/thom.py:333: RuntimeWarning: invalid value encountered in sqrt\n",
      "  rf = (self.ci - self.z0*z)*np.sqrt(x)\n"
     ]
    },
    {
     "name": "stdout",
     "output_type": "stream",
     "text": [
      "0\n"
     ]
    },
    {
     "name": "stderr",
     "output_type": "stream",
     "text": [
      "/Users/williamgilpin/program_repos/thom/thom/base.py:139: UserWarning: Excessive integration required; scale factor 4761.867501304121\n",
      "  if upscale_factor > 1e3: warnings.warn(f\"Excessive integration required; scale factor {upscale_factor}\")\n",
      "/Users/williamgilpin/program_repos/thom/thom/thom.py:333: RuntimeWarning: invalid value encountered in sqrt\n",
      "  rf = (self.ci - self.z0*z)*np.sqrt(x)\n",
      "/Users/williamgilpin/program_repos/thom/thom/base.py:139: UserWarning: Excessive integration required; scale factor 4761.867501304121\n",
      "  if upscale_factor > 1e3: warnings.warn(f\"Excessive integration required; scale factor {upscale_factor}\")\n",
      "/Users/williamgilpin/program_repos/thom/thom/thom.py:333: RuntimeWarning: invalid value encountered in sqrt\n",
      "  rf = (self.ci - self.z0*z)*np.sqrt(x)\n",
      "/Users/williamgilpin/program_repos/thom/thom/base.py:139: UserWarning: Excessive integration required; scale factor 4761.867501304121\n",
      "  if upscale_factor > 1e3: warnings.warn(f\"Excessive integration required; scale factor {upscale_factor}\")\n",
      "/Users/williamgilpin/program_repos/thom/thom/thom.py:333: RuntimeWarning: invalid value encountered in sqrt\n",
      "  rf = (self.ci - self.z0*z)*np.sqrt(x)\n",
      "/Users/williamgilpin/program_repos/thom/thom/base.py:139: UserWarning: Excessive integration required; scale factor 4761.867501304121\n",
      "  if upscale_factor > 1e3: warnings.warn(f\"Excessive integration required; scale factor {upscale_factor}\")\n",
      "/Users/williamgilpin/program_repos/thom/thom/thom.py:333: RuntimeWarning: invalid value encountered in sqrt\n",
      "  rf = (self.ci - self.z0*z)*np.sqrt(x)\n",
      "/Users/williamgilpin/program_repos/thom/thom/base.py:139: UserWarning: Excessive integration required; scale factor 4761.867501304121\n",
      "  if upscale_factor > 1e3: warnings.warn(f\"Excessive integration required; scale factor {upscale_factor}\")\n"
     ]
    },
    {
     "name": "stdout",
     "output_type": "stream",
     "text": [
      "5\n"
     ]
    },
    {
     "name": "stderr",
     "output_type": "stream",
     "text": [
      "/Users/williamgilpin/program_repos/thom/thom/thom.py:333: RuntimeWarning: invalid value encountered in sqrt\n",
      "  rf = (self.ci - self.z0*z)*np.sqrt(x)\n",
      "/Users/williamgilpin/program_repos/thom/thom/base.py:139: UserWarning: Excessive integration required; scale factor 4761.867501304121\n",
      "  if upscale_factor > 1e3: warnings.warn(f\"Excessive integration required; scale factor {upscale_factor}\")\n",
      "/Users/williamgilpin/program_repos/thom/thom/thom.py:333: RuntimeWarning: invalid value encountered in sqrt\n",
      "  rf = (self.ci - self.z0*z)*np.sqrt(x)\n",
      "/Users/williamgilpin/program_repos/thom/thom/base.py:139: UserWarning: Excessive integration required; scale factor 4761.867501304121\n",
      "  if upscale_factor > 1e3: warnings.warn(f\"Excessive integration required; scale factor {upscale_factor}\")\n",
      "/Users/williamgilpin/program_repos/thom/thom/thom.py:333: RuntimeWarning: invalid value encountered in sqrt\n",
      "  rf = (self.ci - self.z0*z)*np.sqrt(x)\n",
      "/Users/williamgilpin/program_repos/thom/thom/base.py:139: UserWarning: Excessive integration required; scale factor 4761.867501304121\n",
      "  if upscale_factor > 1e3: warnings.warn(f\"Excessive integration required; scale factor {upscale_factor}\")\n",
      "/Users/williamgilpin/program_repos/thom/thom/thom.py:333: RuntimeWarning: invalid value encountered in sqrt\n",
      "  rf = (self.ci - self.z0*z)*np.sqrt(x)\n",
      "/Users/williamgilpin/program_repos/thom/thom/base.py:139: UserWarning: Excessive integration required; scale factor 4761.867501304121\n",
      "  if upscale_factor > 1e3: warnings.warn(f\"Excessive integration required; scale factor {upscale_factor}\")\n",
      "/Users/williamgilpin/program_repos/thom/thom/thom.py:333: RuntimeWarning: invalid value encountered in sqrt\n",
      "  rf = (self.ci - self.z0*z)*np.sqrt(x)\n",
      "/Users/williamgilpin/program_repos/thom/thom/base.py:139: UserWarning: Excessive integration required; scale factor 4761.867501304121\n",
      "  if upscale_factor > 1e3: warnings.warn(f\"Excessive integration required; scale factor {upscale_factor}\")\n"
     ]
    },
    {
     "name": "stdout",
     "output_type": "stream",
     "text": [
      "lyap: 28.73357223365256 spectrum: [   28.73357223   -47.212858   -5946.28077289] corr_dim: 0.8562900177356954 \n",
      "\n",
      "IsothermalChemical : 0\n",
      "5\n",
      "lyap: 0.8199828193689307 spectrum: [ 0.81998282 -0.40014234 -7.51865289] corr_dim: 1.0888240945571184 \n",
      "\n",
      "ForcedBrusselator : 0\n"
     ]
    },
    {
     "name": "stderr",
     "output_type": "stream",
     "text": [
      "/Users/williamgilpin/program_repos/thom/thom/base.py:139: UserWarning: Excessive integration required; scale factor 1052.6560082516762\n",
      "  if upscale_factor > 1e3: warnings.warn(f\"Excessive integration required; scale factor {upscale_factor}\")\n",
      "/Users/williamgilpin/program_repos/thom/thom/base.py:139: UserWarning: Excessive integration required; scale factor 1052.6560082516762\n",
      "  if upscale_factor > 1e3: warnings.warn(f\"Excessive integration required; scale factor {upscale_factor}\")\n",
      "/Users/williamgilpin/program_repos/thom/thom/base.py:139: UserWarning: Excessive integration required; scale factor 1052.6560082516762\n",
      "  if upscale_factor > 1e3: warnings.warn(f\"Excessive integration required; scale factor {upscale_factor}\")\n",
      "/Users/williamgilpin/program_repos/thom/thom/base.py:139: UserWarning: Excessive integration required; scale factor 1052.6560082516762\n",
      "  if upscale_factor > 1e3: warnings.warn(f\"Excessive integration required; scale factor {upscale_factor}\")\n",
      "/Users/williamgilpin/program_repos/thom/thom/base.py:139: UserWarning: Excessive integration required; scale factor 1052.6560082516762\n",
      "  if upscale_factor > 1e3: warnings.warn(f\"Excessive integration required; scale factor {upscale_factor}\")\n"
     ]
    },
    {
     "name": "stdout",
     "output_type": "stream",
     "text": [
      "5\n"
     ]
    },
    {
     "name": "stderr",
     "output_type": "stream",
     "text": [
      "/Users/williamgilpin/program_repos/thom/thom/base.py:139: UserWarning: Excessive integration required; scale factor 1052.6560082516762\n",
      "  if upscale_factor > 1e3: warnings.warn(f\"Excessive integration required; scale factor {upscale_factor}\")\n",
      "/Users/williamgilpin/program_repos/thom/thom/base.py:139: UserWarning: Excessive integration required; scale factor 1052.6560082516762\n",
      "  if upscale_factor > 1e3: warnings.warn(f\"Excessive integration required; scale factor {upscale_factor}\")\n",
      "/Users/williamgilpin/program_repos/thom/thom/base.py:139: UserWarning: Excessive integration required; scale factor 1052.6560082516762\n",
      "  if upscale_factor > 1e3: warnings.warn(f\"Excessive integration required; scale factor {upscale_factor}\")\n",
      "/Users/williamgilpin/program_repos/thom/thom/base.py:139: UserWarning: Excessive integration required; scale factor 1052.6560082516762\n",
      "  if upscale_factor > 1e3: warnings.warn(f\"Excessive integration required; scale factor {upscale_factor}\")\n",
      "/Users/williamgilpin/program_repos/thom/thom/base.py:139: UserWarning: Excessive integration required; scale factor 1052.6560082516762\n",
      "  if upscale_factor > 1e3: warnings.warn(f\"Excessive integration required; scale factor {upscale_factor}\")\n"
     ]
    },
    {
     "name": "stdout",
     "output_type": "stream",
     "text": [
      "lyap: 0.008870723681793835 spectrum: [ 0.00887072 -0.24568355  0.        ] corr_dim: 0.00491386017298545 \n",
      "\n",
      "ForcedVanDerPol : 0\n"
     ]
    },
    {
     "name": "stderr",
     "output_type": "stream",
     "text": [
      "/Users/williamgilpin/program_repos/thom/private/lyap.py:70: RuntimeWarning: RANSAC did not reach consensus, using numpy's polyfit\n",
      "  warnings.warn(\n",
      "/Users/williamgilpin/program_repos/thom/private/lyap.py:70: RuntimeWarning: RANSAC did not reach consensus, using numpy's polyfit\n",
      "  warnings.warn(\n",
      "/Users/williamgilpin/program_repos/thom/private/lyap.py:70: RuntimeWarning: RANSAC did not reach consensus, using numpy's polyfit\n",
      "  warnings.warn(\n",
      "/Users/williamgilpin/program_repos/thom/private/lyap.py:70: RuntimeWarning: RANSAC did not reach consensus, using numpy's polyfit\n",
      "  warnings.warn(\n",
      "/Users/williamgilpin/program_repos/thom/private/lyap.py:70: RuntimeWarning: RANSAC did not reach consensus, using numpy's polyfit\n",
      "  warnings.warn(\n"
     ]
    },
    {
     "name": "stdout",
     "output_type": "stream",
     "text": [
      "5\n"
     ]
    },
    {
     "name": "stderr",
     "output_type": "stream",
     "text": [
      "/Users/williamgilpin/program_repos/thom/private/lyap.py:70: RuntimeWarning: RANSAC did not reach consensus, using numpy's polyfit\n",
      "  warnings.warn(\n",
      "/Users/williamgilpin/program_repos/thom/private/lyap.py:70: RuntimeWarning: RANSAC did not reach consensus, using numpy's polyfit\n",
      "  warnings.warn(\n",
      "/Users/williamgilpin/program_repos/thom/private/lyap.py:70: RuntimeWarning: RANSAC did not reach consensus, using numpy's polyfit\n",
      "  warnings.warn(\n",
      "/Users/williamgilpin/program_repos/thom/private/lyap.py:70: RuntimeWarning: RANSAC did not reach consensus, using numpy's polyfit\n",
      "  warnings.warn(\n",
      "/Users/williamgilpin/program_repos/thom/private/lyap.py:70: RuntimeWarning: RANSAC did not reach consensus, using numpy's polyfit\n",
      "  warnings.warn(\n"
     ]
    },
    {
     "name": "stdout",
     "output_type": "stream",
     "text": [
      "lyap: 0.1439282045900237 spectrum: [  0.1439282  -14.31251966   0.        ] corr_dim: 0.1539766747344126 \n",
      "\n",
      "StickSlipOscillator : 0\n"
     ]
    },
    {
     "name": "stderr",
     "output_type": "stream",
     "text": [
      "/Users/williamgilpin/program_repos/thom/thom/base.py:139: UserWarning: Excessive integration required; scale factor 1612.8999999999999\n",
      "  if upscale_factor > 1e3: warnings.warn(f\"Excessive integration required; scale factor {upscale_factor}\")\n",
      "/Users/williamgilpin/program_repos/thom/thom/base.py:139: UserWarning: Excessive integration required; scale factor 1612.8999999999999\n",
      "  if upscale_factor > 1e3: warnings.warn(f\"Excessive integration required; scale factor {upscale_factor}\")\n",
      "/Users/williamgilpin/program_repos/thom/thom/base.py:139: UserWarning: Excessive integration required; scale factor 1612.8999999999999\n",
      "  if upscale_factor > 1e3: warnings.warn(f\"Excessive integration required; scale factor {upscale_factor}\")\n",
      "/Users/williamgilpin/program_repos/thom/thom/base.py:139: UserWarning: Excessive integration required; scale factor 1612.8999999999999\n",
      "  if upscale_factor > 1e3: warnings.warn(f\"Excessive integration required; scale factor {upscale_factor}\")\n",
      "/Users/williamgilpin/program_repos/thom/thom/base.py:139: UserWarning: Excessive integration required; scale factor 1612.8999999999999\n",
      "  if upscale_factor > 1e3: warnings.warn(f\"Excessive integration required; scale factor {upscale_factor}\")\n"
     ]
    },
    {
     "name": "stdout",
     "output_type": "stream",
     "text": [
      "5\n"
     ]
    },
    {
     "name": "stderr",
     "output_type": "stream",
     "text": [
      "/Users/williamgilpin/program_repos/thom/thom/base.py:139: UserWarning: Excessive integration required; scale factor 1612.8999999999999\n",
      "  if upscale_factor > 1e3: warnings.warn(f\"Excessive integration required; scale factor {upscale_factor}\")\n",
      "/Users/williamgilpin/program_repos/thom/thom/base.py:139: UserWarning: Excessive integration required; scale factor 1612.8999999999999\n",
      "  if upscale_factor > 1e3: warnings.warn(f\"Excessive integration required; scale factor {upscale_factor}\")\n",
      "/Users/williamgilpin/program_repos/thom/thom/base.py:139: UserWarning: Excessive integration required; scale factor 1612.8999999999999\n",
      "  if upscale_factor > 1e3: warnings.warn(f\"Excessive integration required; scale factor {upscale_factor}\")\n",
      "/Users/williamgilpin/program_repos/thom/thom/base.py:139: UserWarning: Excessive integration required; scale factor 1612.8999999999999\n",
      "  if upscale_factor > 1e3: warnings.warn(f\"Excessive integration required; scale factor {upscale_factor}\")\n",
      "/Users/williamgilpin/program_repos/thom/thom/base.py:139: UserWarning: Excessive integration required; scale factor 1612.8999999999999\n",
      "  if upscale_factor > 1e3: warnings.warn(f\"Excessive integration required; scale factor {upscale_factor}\")\n"
     ]
    },
    {
     "name": "stdout",
     "output_type": "stream",
     "text": [
      "lyap: 0.07829340011294172 spectrum: [ 0.0782934  -0.06879732  0.        ] corr_dim: 0.9521855046649108 \n",
      "\n",
      "ForcedFitzHughNagumo : 0\n"
     ]
    },
    {
     "name": "stderr",
     "output_type": "stream",
     "text": [
      "/Users/williamgilpin/program_repos/thom/thom/base.py:139: UserWarning: Excessive integration required; scale factor 1785.7356608478804\n",
      "  if upscale_factor > 1e3: warnings.warn(f\"Excessive integration required; scale factor {upscale_factor}\")\n",
      "/Users/williamgilpin/program_repos/thom/thom/base.py:139: UserWarning: Excessive integration required; scale factor 1785.7356608478804\n",
      "  if upscale_factor > 1e3: warnings.warn(f\"Excessive integration required; scale factor {upscale_factor}\")\n",
      "/Users/williamgilpin/program_repos/thom/thom/base.py:139: UserWarning: Excessive integration required; scale factor 1785.7356608478804\n",
      "  if upscale_factor > 1e3: warnings.warn(f\"Excessive integration required; scale factor {upscale_factor}\")\n",
      "/Users/williamgilpin/program_repos/thom/thom/base.py:139: UserWarning: Excessive integration required; scale factor 1785.7356608478804\n",
      "  if upscale_factor > 1e3: warnings.warn(f\"Excessive integration required; scale factor {upscale_factor}\")\n",
      "/Users/williamgilpin/program_repos/thom/thom/base.py:139: UserWarning: Excessive integration required; scale factor 1785.7356608478804\n",
      "  if upscale_factor > 1e3: warnings.warn(f\"Excessive integration required; scale factor {upscale_factor}\")\n"
     ]
    },
    {
     "name": "stdout",
     "output_type": "stream",
     "text": [
      "5\n"
     ]
    },
    {
     "name": "stderr",
     "output_type": "stream",
     "text": [
      "/Users/williamgilpin/program_repos/thom/thom/base.py:139: UserWarning: Excessive integration required; scale factor 1785.7356608478804\n",
      "  if upscale_factor > 1e3: warnings.warn(f\"Excessive integration required; scale factor {upscale_factor}\")\n",
      "/Users/williamgilpin/program_repos/thom/thom/base.py:139: UserWarning: Excessive integration required; scale factor 1785.7356608478804\n",
      "  if upscale_factor > 1e3: warnings.warn(f\"Excessive integration required; scale factor {upscale_factor}\")\n",
      "/Users/williamgilpin/program_repos/thom/thom/base.py:139: UserWarning: Excessive integration required; scale factor 1785.7356608478804\n",
      "  if upscale_factor > 1e3: warnings.warn(f\"Excessive integration required; scale factor {upscale_factor}\")\n",
      "/Users/williamgilpin/program_repos/thom/thom/base.py:139: UserWarning: Excessive integration required; scale factor 1785.7356608478804\n",
      "  if upscale_factor > 1e3: warnings.warn(f\"Excessive integration required; scale factor {upscale_factor}\")\n",
      "/Users/williamgilpin/program_repos/thom/thom/base.py:139: UserWarning: Excessive integration required; scale factor 1785.7356608478804\n",
      "  if upscale_factor > 1e3: warnings.warn(f\"Excessive integration required; scale factor {upscale_factor}\")\n"
     ]
    },
    {
     "name": "stdout",
     "output_type": "stream",
     "text": [
      "lyap: 0.0 spectrum: [-0.00819579 -1.06677869  0.        ] corr_dim: 0.7228216132696198 \n",
      "\n",
      "HindmarshRose : 0\n"
     ]
    },
    {
     "name": "stderr",
     "output_type": "stream",
     "text": [
      "/Users/williamgilpin/program_repos/thom/thom/base.py:139: UserWarning: Excessive integration required; scale factor 2173.966993423501\n",
      "  if upscale_factor > 1e3: warnings.warn(f\"Excessive integration required; scale factor {upscale_factor}\")\n",
      "/Users/williamgilpin/program_repos/thom/thom/base.py:139: UserWarning: Excessive integration required; scale factor 2173.966993423501\n",
      "  if upscale_factor > 1e3: warnings.warn(f\"Excessive integration required; scale factor {upscale_factor}\")\n",
      "/Users/williamgilpin/program_repos/thom/thom/base.py:139: UserWarning: Excessive integration required; scale factor 2173.966993423501\n",
      "  if upscale_factor > 1e3: warnings.warn(f\"Excessive integration required; scale factor {upscale_factor}\")\n",
      "/Users/williamgilpin/program_repos/thom/thom/base.py:139: UserWarning: Excessive integration required; scale factor 2173.966993423501\n",
      "  if upscale_factor > 1e3: warnings.warn(f\"Excessive integration required; scale factor {upscale_factor}\")\n",
      "/Users/williamgilpin/program_repos/thom/thom/base.py:139: UserWarning: Excessive integration required; scale factor 2173.966993423501\n",
      "  if upscale_factor > 1e3: warnings.warn(f\"Excessive integration required; scale factor {upscale_factor}\")\n"
     ]
    },
    {
     "name": "stdout",
     "output_type": "stream",
     "text": [
      "5\n"
     ]
    },
    {
     "name": "stderr",
     "output_type": "stream",
     "text": [
      "/Users/williamgilpin/program_repos/thom/thom/base.py:139: UserWarning: Excessive integration required; scale factor 2173.966993423501\n",
      "  if upscale_factor > 1e3: warnings.warn(f\"Excessive integration required; scale factor {upscale_factor}\")\n",
      "/Users/williamgilpin/program_repos/thom/thom/base.py:139: UserWarning: Excessive integration required; scale factor 2173.966993423501\n",
      "  if upscale_factor > 1e3: warnings.warn(f\"Excessive integration required; scale factor {upscale_factor}\")\n",
      "/Users/williamgilpin/program_repos/thom/thom/base.py:139: UserWarning: Excessive integration required; scale factor 2173.966993423501\n",
      "  if upscale_factor > 1e3: warnings.warn(f\"Excessive integration required; scale factor {upscale_factor}\")\n",
      "/Users/williamgilpin/program_repos/thom/thom/base.py:139: UserWarning: Excessive integration required; scale factor 2173.966993423501\n",
      "  if upscale_factor > 1e3: warnings.warn(f\"Excessive integration required; scale factor {upscale_factor}\")\n",
      "/Users/williamgilpin/program_repos/thom/thom/base.py:139: UserWarning: Excessive integration required; scale factor 2173.966993423501\n",
      "  if upscale_factor > 1e3: warnings.warn(f\"Excessive integration required; scale factor {upscale_factor}\")\n"
     ]
    },
    {
     "name": "stdout",
     "output_type": "stream",
     "text": [
      "lyap: 0.35012169116850933 spectrum: [ 0.35012169 -0.03575789 -6.97023523] corr_dim: 1.6605401360047416 \n",
      "\n",
      "CellCycle : 0\n",
      "5\n",
      "lyap: 0.004581064476871316 spectrum: [ 4.58106448e-03 -7.99120983e-04 -2.11078464e-01 -4.30487434e-01\n",
      " -2.30840978e+00 -4.89318128e+00] corr_dim: 1.7112419558897796 \n",
      "\n",
      "CircadianRhythm : 0\n"
     ]
    },
    {
     "name": "stderr",
     "output_type": "stream",
     "text": [
      "/Users/williamgilpin/program_repos/thom/thom/base.py:139: UserWarning: Excessive integration required; scale factor 1562.5\n",
      "  if upscale_factor > 1e3: warnings.warn(f\"Excessive integration required; scale factor {upscale_factor}\")\n",
      "/Users/williamgilpin/program_repos/thom/thom/base.py:139: UserWarning: Excessive integration required; scale factor 1562.5\n",
      "  if upscale_factor > 1e3: warnings.warn(f\"Excessive integration required; scale factor {upscale_factor}\")\n",
      "/Users/williamgilpin/program_repos/thom/thom/base.py:139: UserWarning: Excessive integration required; scale factor 1562.5\n",
      "  if upscale_factor > 1e3: warnings.warn(f\"Excessive integration required; scale factor {upscale_factor}\")\n",
      "/Users/williamgilpin/program_repos/thom/thom/base.py:139: UserWarning: Excessive integration required; scale factor 1562.5\n",
      "  if upscale_factor > 1e3: warnings.warn(f\"Excessive integration required; scale factor {upscale_factor}\")\n",
      "/Users/williamgilpin/program_repos/thom/thom/base.py:139: UserWarning: Excessive integration required; scale factor 1562.5\n",
      "  if upscale_factor > 1e3: warnings.warn(f\"Excessive integration required; scale factor {upscale_factor}\")\n"
     ]
    },
    {
     "name": "stdout",
     "output_type": "stream",
     "text": [
      "5\n"
     ]
    },
    {
     "name": "stderr",
     "output_type": "stream",
     "text": [
      "/Users/williamgilpin/program_repos/thom/thom/base.py:139: UserWarning: Excessive integration required; scale factor 1562.5\n",
      "  if upscale_factor > 1e3: warnings.warn(f\"Excessive integration required; scale factor {upscale_factor}\")\n",
      "/Users/williamgilpin/program_repos/thom/thom/base.py:139: UserWarning: Excessive integration required; scale factor 1562.5\n",
      "  if upscale_factor > 1e3: warnings.warn(f\"Excessive integration required; scale factor {upscale_factor}\")\n",
      "/Users/williamgilpin/program_repos/thom/thom/base.py:139: UserWarning: Excessive integration required; scale factor 1562.5\n",
      "  if upscale_factor > 1e3: warnings.warn(f\"Excessive integration required; scale factor {upscale_factor}\")\n",
      "/Users/williamgilpin/program_repos/thom/thom/base.py:139: UserWarning: Excessive integration required; scale factor 1562.5\n",
      "  if upscale_factor > 1e3: warnings.warn(f\"Excessive integration required; scale factor {upscale_factor}\")\n",
      "/Users/williamgilpin/program_repos/thom/thom/base.py:139: UserWarning: Excessive integration required; scale factor 1562.5\n",
      "  if upscale_factor > 1e3: warnings.warn(f\"Excessive integration required; scale factor {upscale_factor}\")\n"
     ]
    },
    {
     "name": "stdout",
     "output_type": "stream",
     "text": [
      "lyap: 0.0 spectrum: [-0.00484557 -0.06783836 -0.34920805 -1.06227123  0.        ] corr_dim: 0.5443712447761818 \n",
      "\n",
      "CaTwoPlus : 0\n",
      "5\n",
      "lyap: 0.4464572079608515 spectrum: [ 0.44645721  0.04055211 -9.23354732] corr_dim: 1.223236432519745 \n",
      "\n",
      "CaTwoPlusQuasiperiodic : 0\n",
      "5\n",
      "lyap: 0.3960295293306751 spectrum: [ 0.39602953  0.12425952 -0.43232987] corr_dim: 1.8475255276581741 \n",
      "\n",
      "ExcitableCell : 0\n"
     ]
    },
    {
     "name": "stderr",
     "output_type": "stream",
     "text": [
      "/Users/williamgilpin/program_repos/thom/thom/base.py:139: UserWarning: Excessive integration required; scale factor 1249.9999999999998\n",
      "  if upscale_factor > 1e3: warnings.warn(f\"Excessive integration required; scale factor {upscale_factor}\")\n",
      "/Users/williamgilpin/program_repos/thom/thom/base.py:139: UserWarning: Excessive integration required; scale factor 1249.9999999999998\n",
      "  if upscale_factor > 1e3: warnings.warn(f\"Excessive integration required; scale factor {upscale_factor}\")\n",
      "/Users/williamgilpin/program_repos/thom/thom/base.py:139: UserWarning: Excessive integration required; scale factor 1249.9999999999998\n",
      "  if upscale_factor > 1e3: warnings.warn(f\"Excessive integration required; scale factor {upscale_factor}\")\n",
      "/Users/williamgilpin/program_repos/thom/thom/base.py:139: UserWarning: Excessive integration required; scale factor 1249.9999999999998\n",
      "  if upscale_factor > 1e3: warnings.warn(f\"Excessive integration required; scale factor {upscale_factor}\")\n",
      "/Users/williamgilpin/program_repos/thom/thom/base.py:139: UserWarning: Excessive integration required; scale factor 1249.9999999999998\n",
      "  if upscale_factor > 1e3: warnings.warn(f\"Excessive integration required; scale factor {upscale_factor}\")\n"
     ]
    },
    {
     "name": "stdout",
     "output_type": "stream",
     "text": [
      "5\n"
     ]
    },
    {
     "name": "stderr",
     "output_type": "stream",
     "text": [
      "/Users/williamgilpin/program_repos/thom/thom/base.py:139: UserWarning: Excessive integration required; scale factor 1249.9999999999998\n",
      "  if upscale_factor > 1e3: warnings.warn(f\"Excessive integration required; scale factor {upscale_factor}\")\n",
      "/Users/williamgilpin/program_repos/thom/thom/base.py:139: UserWarning: Excessive integration required; scale factor 1249.9999999999998\n",
      "  if upscale_factor > 1e3: warnings.warn(f\"Excessive integration required; scale factor {upscale_factor}\")\n",
      "/Users/williamgilpin/program_repos/thom/thom/base.py:139: UserWarning: Excessive integration required; scale factor 1249.9999999999998\n",
      "  if upscale_factor > 1e3: warnings.warn(f\"Excessive integration required; scale factor {upscale_factor}\")\n",
      "/Users/williamgilpin/program_repos/thom/thom/base.py:139: UserWarning: Excessive integration required; scale factor 1249.9999999999998\n",
      "  if upscale_factor > 1e3: warnings.warn(f\"Excessive integration required; scale factor {upscale_factor}\")\n",
      "/Users/williamgilpin/program_repos/thom/thom/base.py:139: UserWarning: Excessive integration required; scale factor 1249.9999999999998\n",
      "  if upscale_factor > 1e3: warnings.warn(f\"Excessive integration required; scale factor {upscale_factor}\")\n"
     ]
    },
    {
     "name": "stdout",
     "output_type": "stream",
     "text": [
      "lyap: 4.562551175471421 spectrum: [  4.56255118  -1.11266664 -32.78064016] corr_dim: 0.18684108490942966 \n",
      "\n",
      "ItikBanksTumor : 0\n"
     ]
    },
    {
     "name": "stderr",
     "output_type": "stream",
     "text": [
      "/Users/williamgilpin/program_repos/thom/thom/base.py:139: UserWarning: Excessive integration required; scale factor 1999.9999999999995\n",
      "  if upscale_factor > 1e3: warnings.warn(f\"Excessive integration required; scale factor {upscale_factor}\")\n",
      "/Users/williamgilpin/program_repos/thom/thom/base.py:139: UserWarning: Excessive integration required; scale factor 1999.9999999999995\n",
      "  if upscale_factor > 1e3: warnings.warn(f\"Excessive integration required; scale factor {upscale_factor}\")\n",
      "/Users/williamgilpin/program_repos/thom/thom/base.py:139: UserWarning: Excessive integration required; scale factor 1999.9999999999995\n",
      "  if upscale_factor > 1e3: warnings.warn(f\"Excessive integration required; scale factor {upscale_factor}\")\n",
      "/Users/williamgilpin/program_repos/thom/thom/base.py:139: UserWarning: Excessive integration required; scale factor 1999.9999999999995\n",
      "  if upscale_factor > 1e3: warnings.warn(f\"Excessive integration required; scale factor {upscale_factor}\")\n",
      "/Users/williamgilpin/program_repos/thom/thom/base.py:139: UserWarning: Excessive integration required; scale factor 1999.9999999999995\n",
      "  if upscale_factor > 1e3: warnings.warn(f\"Excessive integration required; scale factor {upscale_factor}\")\n"
     ]
    },
    {
     "name": "stdout",
     "output_type": "stream",
     "text": [
      "5\n"
     ]
    },
    {
     "name": "stderr",
     "output_type": "stream",
     "text": [
      "/Users/williamgilpin/program_repos/thom/thom/base.py:139: UserWarning: Excessive integration required; scale factor 1999.9999999999995\n",
      "  if upscale_factor > 1e3: warnings.warn(f\"Excessive integration required; scale factor {upscale_factor}\")\n",
      "/Users/williamgilpin/program_repos/thom/thom/base.py:139: UserWarning: Excessive integration required; scale factor 1999.9999999999995\n",
      "  if upscale_factor > 1e3: warnings.warn(f\"Excessive integration required; scale factor {upscale_factor}\")\n",
      "/Users/williamgilpin/program_repos/thom/thom/base.py:139: UserWarning: Excessive integration required; scale factor 1999.9999999999995\n",
      "  if upscale_factor > 1e3: warnings.warn(f\"Excessive integration required; scale factor {upscale_factor}\")\n",
      "/Users/williamgilpin/program_repos/thom/thom/base.py:139: UserWarning: Excessive integration required; scale factor 1999.9999999999995\n",
      "  if upscale_factor > 1e3: warnings.warn(f\"Excessive integration required; scale factor {upscale_factor}\")\n",
      "/Users/williamgilpin/program_repos/thom/thom/base.py:139: UserWarning: Excessive integration required; scale factor 1999.9999999999995\n",
      "  if upscale_factor > 1e3: warnings.warn(f\"Excessive integration required; scale factor {upscale_factor}\")\n"
     ]
    },
    {
     "name": "stdout",
     "output_type": "stream",
     "text": [
      "lyap: 0.02563804230453074 spectrum: [ 0.02563804 -0.02715273 -0.54445372] corr_dim: 1.0157188633480996 \n",
      "\n",
      "Laser : 0\n"
     ]
    },
    {
     "name": "stderr",
     "output_type": "stream",
     "text": [
      "/Users/williamgilpin/program_repos/thom/thom/base.py:139: UserWarning: Excessive integration required; scale factor 1111.1150234741785\n",
      "  if upscale_factor > 1e3: warnings.warn(f\"Excessive integration required; scale factor {upscale_factor}\")\n",
      "/Users/williamgilpin/program_repos/thom/thom/base.py:139: UserWarning: Excessive integration required; scale factor 1111.1150234741785\n",
      "  if upscale_factor > 1e3: warnings.warn(f\"Excessive integration required; scale factor {upscale_factor}\")\n",
      "/Users/williamgilpin/program_repos/thom/thom/base.py:139: UserWarning: Excessive integration required; scale factor 1111.1150234741785\n",
      "  if upscale_factor > 1e3: warnings.warn(f\"Excessive integration required; scale factor {upscale_factor}\")\n",
      "/Users/williamgilpin/program_repos/thom/thom/base.py:139: UserWarning: Excessive integration required; scale factor 1111.1150234741785\n",
      "  if upscale_factor > 1e3: warnings.warn(f\"Excessive integration required; scale factor {upscale_factor}\")\n",
      "/Users/williamgilpin/program_repos/thom/thom/base.py:139: UserWarning: Excessive integration required; scale factor 1111.1150234741785\n",
      "  if upscale_factor > 1e3: warnings.warn(f\"Excessive integration required; scale factor {upscale_factor}\")\n"
     ]
    },
    {
     "name": "stdout",
     "output_type": "stream",
     "text": [
      "5\n"
     ]
    },
    {
     "name": "stderr",
     "output_type": "stream",
     "text": [
      "/Users/williamgilpin/program_repos/thom/thom/base.py:139: UserWarning: Excessive integration required; scale factor 1111.1150234741785\n",
      "  if upscale_factor > 1e3: warnings.warn(f\"Excessive integration required; scale factor {upscale_factor}\")\n",
      "/Users/williamgilpin/program_repos/thom/thom/base.py:139: UserWarning: Excessive integration required; scale factor 1111.1150234741785\n",
      "  if upscale_factor > 1e3: warnings.warn(f\"Excessive integration required; scale factor {upscale_factor}\")\n",
      "/Users/williamgilpin/program_repos/thom/thom/base.py:139: UserWarning: Excessive integration required; scale factor 1111.1150234741785\n",
      "  if upscale_factor > 1e3: warnings.warn(f\"Excessive integration required; scale factor {upscale_factor}\")\n",
      "/Users/williamgilpin/program_repos/thom/thom/base.py:139: UserWarning: Excessive integration required; scale factor 1111.1150234741785\n",
      "  if upscale_factor > 1e3: warnings.warn(f\"Excessive integration required; scale factor {upscale_factor}\")\n",
      "/Users/williamgilpin/program_repos/thom/thom/base.py:139: UserWarning: Excessive integration required; scale factor 1111.1150234741785\n",
      "  if upscale_factor > 1e3: warnings.warn(f\"Excessive integration required; scale factor {upscale_factor}\")\n"
     ]
    },
    {
     "name": "stdout",
     "output_type": "stream",
     "text": [
      "lyap: 0.966373274051357 spectrum: [  0.96637327  -0.29365616 -15.79762725] corr_dim: 1.6945294098017616 \n",
      "\n",
      "WindmiReduced : 0\n",
      "5\n",
      "lyap: 0.23072314431708443 spectrum: [ 0.23072314 -0.03288867 -1.6565745 ] corr_dim: 0.9751781109842211 \n",
      "\n",
      "TurchinHanski : 0\n"
     ]
    },
    {
     "name": "stderr",
     "output_type": "stream",
     "text": [
      "/Users/williamgilpin/program_repos/thom/private/lyap.py:70: RuntimeWarning: RANSAC did not reach consensus, using numpy's polyfit\n",
      "  warnings.warn(\n",
      "/Users/williamgilpin/program_repos/thom/private/lyap.py:70: RuntimeWarning: RANSAC did not reach consensus, using numpy's polyfit\n",
      "  warnings.warn(\n",
      "/Users/williamgilpin/program_repos/thom/private/lyap.py:70: RuntimeWarning: RANSAC did not reach consensus, using numpy's polyfit\n",
      "  warnings.warn(\n",
      "/Users/williamgilpin/program_repos/thom/private/lyap.py:70: RuntimeWarning: RANSAC did not reach consensus, using numpy's polyfit\n",
      "  warnings.warn(\n",
      "/Users/williamgilpin/program_repos/thom/private/lyap.py:70: RuntimeWarning: RANSAC did not reach consensus, using numpy's polyfit\n",
      "  warnings.warn(\n"
     ]
    },
    {
     "name": "stdout",
     "output_type": "stream",
     "text": [
      "5\n"
     ]
    },
    {
     "name": "stderr",
     "output_type": "stream",
     "text": [
      "/Users/williamgilpin/program_repos/thom/private/lyap.py:70: RuntimeWarning: RANSAC did not reach consensus, using numpy's polyfit\n",
      "  warnings.warn(\n",
      "/Users/williamgilpin/program_repos/thom/private/lyap.py:70: RuntimeWarning: RANSAC did not reach consensus, using numpy's polyfit\n",
      "  warnings.warn(\n",
      "/Users/williamgilpin/program_repos/thom/private/lyap.py:70: RuntimeWarning: RANSAC did not reach consensus, using numpy's polyfit\n",
      "  warnings.warn(\n",
      "/Users/williamgilpin/program_repos/thom/private/lyap.py:70: RuntimeWarning: RANSAC did not reach consensus, using numpy's polyfit\n",
      "  warnings.warn(\n",
      "/Users/williamgilpin/program_repos/thom/private/lyap.py:70: RuntimeWarning: RANSAC did not reach consensus, using numpy's polyfit\n",
      "  warnings.warn(\n"
     ]
    },
    {
     "name": "stdout",
     "output_type": "stream",
     "text": [
      "lyap: 0.0 spectrum: [-0.02208071 -0.80347958  0.        ] corr_dim: 6.402096984347633e-21 \n",
      "\n",
      "Blasius : 0\n",
      "5\n",
      "lyap: 0.049083416678938126 spectrum: [ 4.90834167e-02 -6.19113574e-04 -2.94120674e+00] corr_dim: 1.6861029344270353 \n",
      "\n",
      "HastingsPowell : 0\n"
     ]
    },
    {
     "name": "stderr",
     "output_type": "stream",
     "text": [
      "/Users/williamgilpin/program_repos/thom/thom/base.py:139: UserWarning: Excessive integration required; scale factor 2083.371860070889\n",
      "  if upscale_factor > 1e3: warnings.warn(f\"Excessive integration required; scale factor {upscale_factor}\")\n",
      "/Users/williamgilpin/program_repos/thom/thom/base.py:139: UserWarning: Excessive integration required; scale factor 2083.371860070889\n",
      "  if upscale_factor > 1e3: warnings.warn(f\"Excessive integration required; scale factor {upscale_factor}\")\n",
      "/Users/williamgilpin/program_repos/thom/thom/base.py:139: UserWarning: Excessive integration required; scale factor 2083.371860070889\n",
      "  if upscale_factor > 1e3: warnings.warn(f\"Excessive integration required; scale factor {upscale_factor}\")\n",
      "/Users/williamgilpin/program_repos/thom/thom/base.py:139: UserWarning: Excessive integration required; scale factor 2083.371860070889\n",
      "  if upscale_factor > 1e3: warnings.warn(f\"Excessive integration required; scale factor {upscale_factor}\")\n",
      "/Users/williamgilpin/program_repos/thom/thom/base.py:139: UserWarning: Excessive integration required; scale factor 2083.371860070889\n",
      "  if upscale_factor > 1e3: warnings.warn(f\"Excessive integration required; scale factor {upscale_factor}\")\n"
     ]
    },
    {
     "name": "stdout",
     "output_type": "stream",
     "text": [
      "5\n"
     ]
    },
    {
     "name": "stderr",
     "output_type": "stream",
     "text": [
      "/Users/williamgilpin/program_repos/thom/thom/base.py:139: UserWarning: Excessive integration required; scale factor 2083.371860070889\n",
      "  if upscale_factor > 1e3: warnings.warn(f\"Excessive integration required; scale factor {upscale_factor}\")\n",
      "/Users/williamgilpin/program_repos/thom/thom/base.py:139: UserWarning: Excessive integration required; scale factor 2083.371860070889\n",
      "  if upscale_factor > 1e3: warnings.warn(f\"Excessive integration required; scale factor {upscale_factor}\")\n",
      "/Users/williamgilpin/program_repos/thom/thom/base.py:139: UserWarning: Excessive integration required; scale factor 2083.371860070889\n",
      "  if upscale_factor > 1e3: warnings.warn(f\"Excessive integration required; scale factor {upscale_factor}\")\n",
      "/Users/williamgilpin/program_repos/thom/thom/base.py:139: UserWarning: Excessive integration required; scale factor 2083.371860070889\n",
      "  if upscale_factor > 1e3: warnings.warn(f\"Excessive integration required; scale factor {upscale_factor}\")\n",
      "/Users/williamgilpin/program_repos/thom/thom/base.py:139: UserWarning: Excessive integration required; scale factor 2083.371860070889\n",
      "  if upscale_factor > 1e3: warnings.warn(f\"Excessive integration required; scale factor {upscale_factor}\")\n"
     ]
    },
    {
     "name": "stdout",
     "output_type": "stream",
     "text": [
      "lyap: 0.007597798928926108 spectrum: [ 0.0075978   0.00725679 -0.51991407] corr_dim: 1.0102679415670295 \n",
      "\n",
      "SaltonSea : 0\n",
      "5\n",
      "lyap: 0.32440089431377583 spectrum: [ 0.32440089 -0.20430432 -4.30159005] corr_dim: 1.7431012603154845 \n",
      "\n",
      "CoevolvingPredatorPrey : 0\n"
     ]
    },
    {
     "name": "stderr",
     "output_type": "stream",
     "text": [
      "/Users/williamgilpin/program_repos/thom/thom/base.py:139: UserWarning: Excessive integration required; scale factor 1515.1178575836107\n",
      "  if upscale_factor > 1e3: warnings.warn(f\"Excessive integration required; scale factor {upscale_factor}\")\n",
      "/Users/williamgilpin/program_repos/thom/thom/base.py:139: UserWarning: Excessive integration required; scale factor 1515.1178575836107\n",
      "  if upscale_factor > 1e3: warnings.warn(f\"Excessive integration required; scale factor {upscale_factor}\")\n",
      "/Users/williamgilpin/program_repos/thom/thom/base.py:139: UserWarning: Excessive integration required; scale factor 1515.1178575836107\n",
      "  if upscale_factor > 1e3: warnings.warn(f\"Excessive integration required; scale factor {upscale_factor}\")\n",
      "/Users/williamgilpin/program_repos/thom/thom/base.py:139: UserWarning: Excessive integration required; scale factor 1515.1178575836107\n",
      "  if upscale_factor > 1e3: warnings.warn(f\"Excessive integration required; scale factor {upscale_factor}\")\n",
      "/Users/williamgilpin/program_repos/thom/thom/base.py:139: UserWarning: Excessive integration required; scale factor 1515.1178575836107\n",
      "  if upscale_factor > 1e3: warnings.warn(f\"Excessive integration required; scale factor {upscale_factor}\")\n"
     ]
    },
    {
     "name": "stdout",
     "output_type": "stream",
     "text": [
      "5\n"
     ]
    },
    {
     "name": "stderr",
     "output_type": "stream",
     "text": [
      "/Users/williamgilpin/program_repos/thom/thom/base.py:139: UserWarning: Excessive integration required; scale factor 1515.1178575836107\n",
      "  if upscale_factor > 1e3: warnings.warn(f\"Excessive integration required; scale factor {upscale_factor}\")\n",
      "/Users/williamgilpin/program_repos/thom/thom/base.py:139: UserWarning: Excessive integration required; scale factor 1515.1178575836107\n",
      "  if upscale_factor > 1e3: warnings.warn(f\"Excessive integration required; scale factor {upscale_factor}\")\n",
      "/Users/williamgilpin/program_repos/thom/thom/base.py:139: UserWarning: Excessive integration required; scale factor 1515.1178575836107\n",
      "  if upscale_factor > 1e3: warnings.warn(f\"Excessive integration required; scale factor {upscale_factor}\")\n",
      "/Users/williamgilpin/program_repos/thom/thom/base.py:139: UserWarning: Excessive integration required; scale factor 1515.1178575836107\n",
      "  if upscale_factor > 1e3: warnings.warn(f\"Excessive integration required; scale factor {upscale_factor}\")\n",
      "/Users/williamgilpin/program_repos/thom/thom/base.py:139: UserWarning: Excessive integration required; scale factor 1515.1178575836107\n",
      "  if upscale_factor > 1e3: warnings.warn(f\"Excessive integration required; scale factor {upscale_factor}\")\n"
     ]
    },
    {
     "name": "stdout",
     "output_type": "stream",
     "text": [
      "lyap: 0.003737312462818118 spectrum: [ 0.00373731  0.00216825 -1.99806521] corr_dim: 1.4730019473949063 \n",
      "\n",
      "MacArthur : 0\n",
      "5\n",
      "lyap: 0.18313997738893095 spectrum: [ 1.83139977e-01  1.14410476e-02 -3.91897533e-02 -1.46424270e-01\n",
      " -2.52309817e-01 -2.51173909e-01 -2.51721342e-01 -2.51972039e-01\n",
      " -2.53297400e-01 -1.44904479e+01] corr_dim: 2.2501448958833103 \n",
      "\n",
      "BeerRNN : 0\n"
     ]
    },
    {
     "name": "stderr",
     "output_type": "stream",
     "text": [
      "/Users/williamgilpin/program_repos/thom/thom/base.py:139: UserWarning: Excessive integration required; scale factor 2500.068842076277\n",
      "  if upscale_factor > 1e3: warnings.warn(f\"Excessive integration required; scale factor {upscale_factor}\")\n",
      "/Users/williamgilpin/program_repos/thom/thom/base.py:139: UserWarning: Excessive integration required; scale factor 2500.068842076277\n",
      "  if upscale_factor > 1e3: warnings.warn(f\"Excessive integration required; scale factor {upscale_factor}\")\n",
      "/Users/williamgilpin/program_repos/thom/thom/base.py:139: UserWarning: Excessive integration required; scale factor 2500.068842076277\n",
      "  if upscale_factor > 1e3: warnings.warn(f\"Excessive integration required; scale factor {upscale_factor}\")\n",
      "/Users/williamgilpin/program_repos/thom/thom/base.py:139: UserWarning: Excessive integration required; scale factor 2500.068842076277\n",
      "  if upscale_factor > 1e3: warnings.warn(f\"Excessive integration required; scale factor {upscale_factor}\")\n",
      "/Users/williamgilpin/program_repos/thom/thom/base.py:139: UserWarning: Excessive integration required; scale factor 2500.068842076277\n",
      "  if upscale_factor > 1e3: warnings.warn(f\"Excessive integration required; scale factor {upscale_factor}\")\n"
     ]
    },
    {
     "name": "stdout",
     "output_type": "stream",
     "text": [
      "5\n"
     ]
    },
    {
     "name": "stderr",
     "output_type": "stream",
     "text": [
      "/Users/williamgilpin/program_repos/thom/thom/base.py:139: UserWarning: Excessive integration required; scale factor 2500.068842076277\n",
      "  if upscale_factor > 1e3: warnings.warn(f\"Excessive integration required; scale factor {upscale_factor}\")\n",
      "/Users/williamgilpin/program_repos/thom/thom/base.py:139: UserWarning: Excessive integration required; scale factor 2500.068842076277\n",
      "  if upscale_factor > 1e3: warnings.warn(f\"Excessive integration required; scale factor {upscale_factor}\")\n",
      "/Users/williamgilpin/program_repos/thom/thom/base.py:139: UserWarning: Excessive integration required; scale factor 2500.068842076277\n",
      "  if upscale_factor > 1e3: warnings.warn(f\"Excessive integration required; scale factor {upscale_factor}\")\n",
      "/Users/williamgilpin/program_repos/thom/thom/base.py:139: UserWarning: Excessive integration required; scale factor 2500.068842076277\n",
      "  if upscale_factor > 1e3: warnings.warn(f\"Excessive integration required; scale factor {upscale_factor}\")\n",
      "/Users/williamgilpin/program_repos/thom/thom/base.py:139: UserWarning: Excessive integration required; scale factor 2500.068842076277\n",
      "  if upscale_factor > 1e3: warnings.warn(f\"Excessive integration required; scale factor {upscale_factor}\")\n"
     ]
    },
    {
     "name": "stdout",
     "output_type": "stream",
     "text": [
      "lyap: 0.01601729140332473 spectrum: [ 1.60172914e-02 -4.79873833e-04 -5.29578277e-01] corr_dim: 1.4384966491684703 \n",
      "\n",
      "CellularNeuralNetwork : 0\n",
      "5\n",
      "lyap: 0.20740529350510956 spectrum: [ 0.20740529 -0.07421048 -0.63247872] corr_dim: 1.785611538341006 \n",
      "\n",
      "Hopfield : 0\n",
      "5\n",
      "lyap: 0.07862383440343114 spectrum: [ 0.07862383 -0.0088517  -0.25591151 -0.36827331 -0.42844095 -1.45029537] corr_dim: 1.949164886697449 \n",
      "\n",
      "MackeyGlass : 0\n"
     ]
    },
    {
     "ename": "TypeError",
     "evalue": "rhs() missing 1 required positional argument: 't'",
     "output_type": "error",
     "traceback": [
      "\u001b[0;31m---------------------------------------------------------------------------\u001b[0m",
      "\u001b[0;31mTypeError\u001b[0m                                 Traceback (most recent call last)",
      "\u001b[0;32m<ipython-input-10-afbc140cc7ea>\u001b[0m in \u001b[0;36m<module>\u001b[0;34m\u001b[0m\n\u001b[1;32m     37\u001b[0m         \u001b[0mmodel\u001b[0m\u001b[0;34m.\u001b[0m\u001b[0mic\u001b[0m \u001b[0;34m=\u001b[0m \u001b[0msample_pt\u001b[0m\u001b[0;34m\u001b[0m\u001b[0;34m\u001b[0m\u001b[0m\n\u001b[1;32m     38\u001b[0m \u001b[0;34m\u001b[0m\u001b[0m\n\u001b[0;32m---> 39\u001b[0;31m         \u001b[0mall_estimates_lyap\u001b[0m\u001b[0;34m.\u001b[0m\u001b[0mappend\u001b[0m\u001b[0;34m(\u001b[0m\u001b[0mfind_lyapunov_exponents\u001b[0m\u001b[0;34m(\u001b[0m\u001b[0mmodel\u001b[0m\u001b[0;34m,\u001b[0m \u001b[0mpts_per_trajectory\u001b[0m\u001b[0;34m,\u001b[0m \u001b[0mpts_per_period\u001b[0m\u001b[0;34m=\u001b[0m\u001b[0;36m500\u001b[0m\u001b[0;34m)\u001b[0m\u001b[0;34m)\u001b[0m\u001b[0;34m\u001b[0m\u001b[0;34m\u001b[0m\u001b[0m\n\u001b[0m\u001b[1;32m     40\u001b[0m \u001b[0;34m\u001b[0m\u001b[0m\n\u001b[1;32m     41\u001b[0m         \u001b[0msol\u001b[0m \u001b[0;34m=\u001b[0m \u001b[0mmodel\u001b[0m\u001b[0;34m.\u001b[0m\u001b[0mmake_trajectory\u001b[0m\u001b[0;34m(\u001b[0m\u001b[0;36m5000\u001b[0m\u001b[0;34m,\u001b[0m \u001b[0mresample\u001b[0m\u001b[0;34m=\u001b[0m\u001b[0;32mTrue\u001b[0m\u001b[0;34m,\u001b[0m \u001b[0mpts_per_period\u001b[0m\u001b[0;34m=\u001b[0m\u001b[0;36m100\u001b[0m\u001b[0;34m)\u001b[0m\u001b[0;34m\u001b[0m\u001b[0;34m\u001b[0m\u001b[0m\n",
      "\u001b[0;32m~/program_repos/thom/thom/analysis.py\u001b[0m in \u001b[0;36mfind_lyapunov_exponents\u001b[0;34m(model, traj_length, pts_per_period)\u001b[0m\n\u001b[1;32m     54\u001b[0m         \u001b[0myval\u001b[0m \u001b[0;34m=\u001b[0m \u001b[0mtraj\u001b[0m\u001b[0;34m[\u001b[0m\u001b[0;34m:\u001b[0m\u001b[0;34m,\u001b[0m \u001b[0mi\u001b[0m\u001b[0;34m]\u001b[0m\u001b[0;34m\u001b[0m\u001b[0;34m\u001b[0m\u001b[0m\n\u001b[1;32m     55\u001b[0m         \u001b[0mfcast\u001b[0m \u001b[0;34m=\u001b[0m \u001b[0;32mlambda\u001b[0m \u001b[0mx\u001b[0m \u001b[0;34m:\u001b[0m \u001b[0mnp\u001b[0m\u001b[0;34m.\u001b[0m\u001b[0marray\u001b[0m\u001b[0;34m(\u001b[0m\u001b[0mmodel\u001b[0m\u001b[0;34m.\u001b[0m\u001b[0mrhs\u001b[0m\u001b[0;34m(\u001b[0m\u001b[0mx\u001b[0m\u001b[0;34m,\u001b[0m \u001b[0mtpts\u001b[0m\u001b[0;34m[\u001b[0m\u001b[0mi\u001b[0m\u001b[0;34m]\u001b[0m\u001b[0;34m)\u001b[0m\u001b[0;34m)\u001b[0m\u001b[0;34m\u001b[0m\u001b[0;34m\u001b[0m\u001b[0m\n\u001b[0;32m---> 56\u001b[0;31m         \u001b[0mjacval\u001b[0m \u001b[0;34m=\u001b[0m \u001b[0mjac_fd\u001b[0m\u001b[0;34m(\u001b[0m\u001b[0mfcast\u001b[0m\u001b[0;34m,\u001b[0m \u001b[0myval\u001b[0m\u001b[0;34m)\u001b[0m\u001b[0;34m\u001b[0m\u001b[0;34m\u001b[0m\u001b[0m\n\u001b[0m\u001b[1;32m     57\u001b[0m         \u001b[0mu_n\u001b[0m \u001b[0;34m=\u001b[0m \u001b[0mnp\u001b[0m\u001b[0;34m.\u001b[0m\u001b[0mmatmul\u001b[0m\u001b[0;34m(\u001b[0m\u001b[0mnp\u001b[0m\u001b[0;34m.\u001b[0m\u001b[0midentity\u001b[0m\u001b[0;34m(\u001b[0m\u001b[0md\u001b[0m\u001b[0;34m)\u001b[0m \u001b[0;34m+\u001b[0m \u001b[0mjacval\u001b[0m \u001b[0;34m*\u001b[0m \u001b[0mdt\u001b[0m\u001b[0;34m,\u001b[0m \u001b[0mu\u001b[0m\u001b[0;34m)\u001b[0m\u001b[0;34m\u001b[0m\u001b[0;34m\u001b[0m\u001b[0m\n\u001b[1;32m     58\u001b[0m         \u001b[0mq\u001b[0m\u001b[0;34m,\u001b[0m \u001b[0mr\u001b[0m \u001b[0;34m=\u001b[0m \u001b[0mnp\u001b[0m\u001b[0;34m.\u001b[0m\u001b[0mlinalg\u001b[0m\u001b[0;34m.\u001b[0m\u001b[0mqr\u001b[0m\u001b[0;34m(\u001b[0m\u001b[0mu_n\u001b[0m\u001b[0;34m)\u001b[0m\u001b[0;34m\u001b[0m\u001b[0;34m\u001b[0m\u001b[0m\n",
      "\u001b[0;32m~/program_repos/thom/thom/utils.py\u001b[0m in \u001b[0;36mjac_fd\u001b[0;34m(func, y0, eps)\u001b[0m\n\u001b[1;32m    377\u001b[0m         \u001b[0my0m\u001b[0m \u001b[0;34m=\u001b[0m \u001b[0mnp\u001b[0m\u001b[0;34m.\u001b[0m\u001b[0mcopy\u001b[0m\u001b[0;34m(\u001b[0m\u001b[0my0\u001b[0m\u001b[0;34m)\u001b[0m\u001b[0;34m\u001b[0m\u001b[0;34m\u001b[0m\u001b[0m\n\u001b[1;32m    378\u001b[0m         \u001b[0my0m\u001b[0m\u001b[0;34m[\u001b[0m\u001b[0mi\u001b[0m\u001b[0;34m]\u001b[0m \u001b[0;34m+=\u001b[0m \u001b[0meps\u001b[0m\u001b[0;34m\u001b[0m\u001b[0;34m\u001b[0m\u001b[0m\n\u001b[0;32m--> 379\u001b[0;31m         \u001b[0mdval\u001b[0m \u001b[0;34m=\u001b[0m \u001b[0;36m0.5\u001b[0m \u001b[0;34m*\u001b[0m \u001b[0;34m(\u001b[0m\u001b[0mfunc\u001b[0m\u001b[0;34m(\u001b[0m\u001b[0my0p\u001b[0m\u001b[0;34m)\u001b[0m \u001b[0;34m-\u001b[0m \u001b[0mfunc\u001b[0m\u001b[0;34m(\u001b[0m\u001b[0my0\u001b[0m\u001b[0;34m)\u001b[0m\u001b[0;34m)\u001b[0m \u001b[0;34m/\u001b[0m \u001b[0;36m1e-8\u001b[0m \u001b[0;34m+\u001b[0m \u001b[0;36m0.5\u001b[0m \u001b[0;34m*\u001b[0m \u001b[0;34m(\u001b[0m\u001b[0mfunc\u001b[0m\u001b[0;34m(\u001b[0m\u001b[0my0m\u001b[0m\u001b[0;34m)\u001b[0m \u001b[0;34m-\u001b[0m \u001b[0mfunc\u001b[0m\u001b[0;34m(\u001b[0m\u001b[0my0\u001b[0m\u001b[0;34m)\u001b[0m\u001b[0;34m)\u001b[0m \u001b[0;34m/\u001b[0m \u001b[0;36m1e-8\u001b[0m\u001b[0;34m\u001b[0m\u001b[0;34m\u001b[0m\u001b[0m\n\u001b[0m\u001b[1;32m    380\u001b[0m         \u001b[0mall_rows\u001b[0m\u001b[0;34m.\u001b[0m\u001b[0mappend\u001b[0m\u001b[0;34m(\u001b[0m\u001b[0mdval\u001b[0m\u001b[0;34m)\u001b[0m\u001b[0;34m\u001b[0m\u001b[0;34m\u001b[0m\u001b[0m\n\u001b[1;32m    381\u001b[0m     \u001b[0mjac\u001b[0m \u001b[0;34m=\u001b[0m \u001b[0mnp\u001b[0m\u001b[0;34m.\u001b[0m\u001b[0marray\u001b[0m\u001b[0;34m(\u001b[0m\u001b[0mall_rows\u001b[0m\u001b[0;34m)\u001b[0m\u001b[0;34m.\u001b[0m\u001b[0mT\u001b[0m\u001b[0;34m\u001b[0m\u001b[0;34m\u001b[0m\u001b[0m\n",
      "\u001b[0;32m~/program_repos/thom/thom/analysis.py\u001b[0m in \u001b[0;36m<lambda>\u001b[0;34m(x)\u001b[0m\n\u001b[1;32m     53\u001b[0m     \u001b[0;32mfor\u001b[0m \u001b[0mi\u001b[0m \u001b[0;32min\u001b[0m \u001b[0mrange\u001b[0m\u001b[0;34m(\u001b[0m\u001b[0mtraj_length\u001b[0m\u001b[0;34m)\u001b[0m\u001b[0;34m:\u001b[0m\u001b[0;34m\u001b[0m\u001b[0;34m\u001b[0m\u001b[0m\n\u001b[1;32m     54\u001b[0m         \u001b[0myval\u001b[0m \u001b[0;34m=\u001b[0m \u001b[0mtraj\u001b[0m\u001b[0;34m[\u001b[0m\u001b[0;34m:\u001b[0m\u001b[0;34m,\u001b[0m \u001b[0mi\u001b[0m\u001b[0;34m]\u001b[0m\u001b[0;34m\u001b[0m\u001b[0;34m\u001b[0m\u001b[0m\n\u001b[0;32m---> 55\u001b[0;31m         \u001b[0mfcast\u001b[0m \u001b[0;34m=\u001b[0m \u001b[0;32mlambda\u001b[0m \u001b[0mx\u001b[0m \u001b[0;34m:\u001b[0m \u001b[0mnp\u001b[0m\u001b[0;34m.\u001b[0m\u001b[0marray\u001b[0m\u001b[0;34m(\u001b[0m\u001b[0mmodel\u001b[0m\u001b[0;34m.\u001b[0m\u001b[0mrhs\u001b[0m\u001b[0;34m(\u001b[0m\u001b[0mx\u001b[0m\u001b[0;34m,\u001b[0m \u001b[0mtpts\u001b[0m\u001b[0;34m[\u001b[0m\u001b[0mi\u001b[0m\u001b[0;34m]\u001b[0m\u001b[0;34m)\u001b[0m\u001b[0;34m)\u001b[0m\u001b[0;34m\u001b[0m\u001b[0;34m\u001b[0m\u001b[0m\n\u001b[0m\u001b[1;32m     56\u001b[0m         \u001b[0mjacval\u001b[0m \u001b[0;34m=\u001b[0m \u001b[0mjac_fd\u001b[0m\u001b[0;34m(\u001b[0m\u001b[0mfcast\u001b[0m\u001b[0;34m,\u001b[0m \u001b[0myval\u001b[0m\u001b[0;34m)\u001b[0m\u001b[0;34m\u001b[0m\u001b[0;34m\u001b[0m\u001b[0m\n\u001b[1;32m     57\u001b[0m         \u001b[0mu_n\u001b[0m \u001b[0;34m=\u001b[0m \u001b[0mnp\u001b[0m\u001b[0;34m.\u001b[0m\u001b[0mmatmul\u001b[0m\u001b[0;34m(\u001b[0m\u001b[0mnp\u001b[0m\u001b[0;34m.\u001b[0m\u001b[0midentity\u001b[0m\u001b[0;34m(\u001b[0m\u001b[0md\u001b[0m\u001b[0;34m)\u001b[0m \u001b[0;34m+\u001b[0m \u001b[0mjacval\u001b[0m \u001b[0;34m*\u001b[0m \u001b[0mdt\u001b[0m\u001b[0;34m,\u001b[0m \u001b[0mu\u001b[0m\u001b[0;34m)\u001b[0m\u001b[0;34m\u001b[0m\u001b[0;34m\u001b[0m\u001b[0m\n",
      "\u001b[0;31mTypeError\u001b[0m: rhs() missing 1 required positional argument: 't'"
     ]
    }
   ],
   "source": [
    "# We will make a local copy of the internal database\n",
    "OUTPUT_FILE = \"./chaotic_attractors2.json\"\n",
    "INPUT_FILE = \"dysts/data/chaotic_attractors.json\"\n",
    "RECALCULATE = True\n",
    "\n",
    "points_to_sample = 10 # number of initial conditions to sample when computing values\n",
    "\n",
    "with open(INPUT_FILE, \"r\") as file:\n",
    "    data = json.load(file)\n",
    "print(f\"Total models being analyzed is {len(data.keys())}.\")\n",
    "\n",
    "for i, item in enumerate(list(data.keys())):\n",
    "    \n",
    "    model = getattr(dysts, item)()\n",
    "    print(item, \": \", end=\"\")\n",
    "    current_fields = list(data.keys())\n",
    "    \n",
    "    \n",
    "    \n",
    "    sample_pts = sample_initial_conditions(model, points_to_sample)\n",
    "    #print(\"Finished selecting initial points on attractor.\")\n",
    "    pts_per_trajectory = 5000 # number of timesteps to use to find the jacobian\n",
    "    model.dt /= 10\n",
    "    \n",
    "    all_estimates_lyap = list()\n",
    "    all_estimates_corrdim = list()\n",
    "    for j, sample_pt in enumerate(sample_pts):\n",
    "        if j % 5 == 0: print(j)\n",
    "        model.ic = sample_pt\n",
    "        \n",
    "        all_estimates_lyap.append(find_lyapunov_exponents(model, pts_per_trajectory, pts_per_period=500))\n",
    "        \n",
    "        sol = model.make_trajectory(5000, resample=True, pts_per_period=100)\n",
    "        all_estimates_corrdim.append(corr_dim(sol.T))\n",
    "        \n",
    "    lyap = np.mean(np.array(all_estimates_lyap), axis=0)\n",
    "    cdim = np.mean(all_estimates_corrdim)\n",
    "    \n",
    "    \n",
    "    # lyap_minmag = np.min(np,abs(lyap))\n",
    "    # dissipation = np.sum(lyap)\n",
    "    \n",
    "    # if dissipation > 0.0:\n",
    "    # if lyap_minmag < 1e-3: \n",
    "    \n",
    "    if \"maximum_lyapunov_estimated\" not in data[item] or RECALCULATE:\n",
    "        data[item][\"maximum_lyapunov_estimated\"] = np.max(lyap)\n",
    "        print(f\"lyap: {np.max(lyap)} \", end=\"\")\n",
    "        \n",
    "    if \"lyapunov_spectrum\" not in data[item] or RECALCULATE:\n",
    "        data[item][\"maximum_lyapunov_estimated\"] = list(lyap)\n",
    "        print(f\"spectrum: {lyap} \", end=\"\")\n",
    "    \n",
    "    if \"correlation_dimension\" not in data[item] or RECALCULATE:\n",
    "        data[item][\"correlation_dimension\"] = cdim\n",
    "        print(f\"corr_dim: {cdim} \", end=\"\")\n",
    "    \n",
    "#     if \"permutation_entropy\" not in data[item] or RECALCULATE:\n",
    "        \n",
    "        \n",
    "    print(\"\\n\")\n",
    "    # Save new file\n",
    "    with open(OUTPUT_FILE, 'w') as f:\n",
    "        json.dump(data, f, indent=4)\n",
    "\n",
    "#     eq = getattr(dysts, item)()\n",
    "#     sol = eq.make_trajectory(total_length, method=\"Radau\")\n",
    "    \n",
    "# #     all_freqs = list()\n",
    "# #     for comp in sol:\n",
    "# #         try:\n",
    "# #             freqs, amps = find_significant_frequencies(comp, return_amplitudes=True, significance_threshold=0.95)\n",
    "# #             max_freq = freqs[np.argmax(np.abs(amps))]\n",
    "# #         except:\n",
    "# #             ## ignores time-like coordinates\n",
    "# #             continue\n",
    "# #         all_freqs.append(max_freq)\n",
    "# #         print(\".\", end='')\n",
    "# #     period = eq.dt * (1 / np.median(all_freqs))\n",
    "    \n",
    "# #     freqs, amps = find_significant_frequencies(sol[0], return_amplitudes=True, significance_threshold=0.95)\n",
    "# #     max_freq = freqs[np.argmax(np.abs(amps))]\n",
    "# #     period = (1/max_freq) * eq.dt\n",
    "    \n",
    "#     #period = np.median([1/freq_from_fft(item) * eq.dt for item in sol])\n",
    "    \n",
    "#     data[item][\"period\"] = signif(period, 5)\n",
    "#     print(item, \" time period\", period,\" index period\", period/eq.dt, \" \", (1/eq.dt)/period)\n",
    "    \n"
   ]
  },
  {
   "cell_type": "code",
   "execution_count": null,
   "metadata": {},
   "outputs": [],
   "source": [
    "TRAIN = \n",
    "TEST = \n",
    "\n",
    "\n",
    "\n",
    "# Make a collection of standard multivariate series\n",
    "DATA_PATH = \"./data/multivariate_dynamics.json.gz\"\n",
    "\n",
    "# Make a collection of univariate series for single-step prediction\n",
    "DATA_PATH = \"./data/univariate_dynamics.json.gz\"\n",
    "\n",
    "# Repeat both above for different levels of granularity per period (pts_per_period=10, pts_per_period=100)"
   ]
  },
  {
   "cell_type": "code",
   "execution_count": null,
   "metadata": {},
   "outputs": [],
   "source": [
    "# Make attribute files for the specific instantiations included here\n",
    "\n",
    "#\n"
   ]
  },
  {
   "cell_type": "code",
   "execution_count": null,
   "metadata": {},
   "outputs": [],
   "source": []
  },
  {
   "cell_type": "code",
   "execution_count": null,
   "metadata": {},
   "outputs": [],
   "source": [
    "# blinking vortex: need to add the timelike variable to the dynamical equation"
   ]
  },
  {
   "cell_type": "code",
   "execution_count": null,
   "metadata": {},
   "outputs": [],
   "source": [
    "# 0.9058,  0.0000, -14.572 for these parameters"
   ]
  },
  {
   "cell_type": "code",
   "execution_count": null,
   "metadata": {},
   "outputs": [],
   "source": []
  },
  {
   "cell_type": "code",
   "execution_count": null,
   "metadata": {},
   "outputs": [],
   "source": [
    "from private.lyap import *\n",
    "def delay_embedding(data, emb_dim, lag=1):\n",
    "  data = np.asarray(data)\n",
    "  min_len = (emb_dim - 1) * lag + 1\n",
    "  if len(data) < min_len:\n",
    "    msg = \"cannot embed data of length {} with embedding dimension {} \" \\\n",
    "        + \"and lag {}, minimum required length is {}\"\n",
    "    raise ValueError(msg.format(len(data), emb_dim, lag, min_len))\n",
    "  m = len(data) - min_len + 1\n",
    "  indices = np.repeat([np.arange(emb_dim) * lag], m, axis=0)\n",
    "  indices += np.arange(m).reshape((m, 1))\n",
    "  return data[indices]\n",
    "def lyap_r(data, emb_dim=10, lag=None, min_tsep=None, tau=1, min_neighbors=20,\n",
    "           trajectory_len=20, fit=\"RANSAC\", debug_plot=False, debug_data=False,\n",
    "           plot_file=None, fit_offset=0):\n",
    "  \"\"\"\n",
    "  Estimates the largest Lyapunov exponent using the algorithm of Rosenstein\n",
    "  et al. [lr_1]_.\n",
    "  Explanation of Lyapunov exponents:\n",
    "    See lyap_e.\n",
    "  Explanation of the algorithm:\n",
    "    The algorithm of Rosenstein et al. is only able to recover the largest\n",
    "    Lyapunov exponent, but behaves rather robust to parameter choices.\n",
    "    The idea for the algorithm relates closely to the definition of Lyapunov\n",
    "    exponents. First, the dynamics of the data are reconstructed using a delay\n",
    "    embedding method with a lag, such that each value x_i of the data is mapped\n",
    "    to the vector\n",
    "    X_i = [x_i, x_(i+lag), x_(i+2*lag), ..., x_(i+(emb_dim-1) * lag)]\n",
    "    For each such vector X_i, we find the closest neighbor X_j using the\n",
    "    euclidean distance. We know that as we follow the trajectories from X_i and\n",
    "    X_j in time in a chaotic system the distances between X_(i+k) and X_(j+k)\n",
    "    denoted as d_i(k) will increase according to a power law\n",
    "    d_i(k) = c * e^(lambda * k) where lambda is a good approximation of the\n",
    "    highest Lyapunov exponent, because the exponential expansion along the axis\n",
    "    associated with this exponent will quickly dominate the expansion or\n",
    "    contraction along other axes.\n",
    "    To calculate lambda, we look at the logarithm of the distance trajectory,\n",
    "    because log(d_i(k)) = log(c) + lambda * k. This gives a set of lines\n",
    "    (one for each index i) whose slope is an approximation of lambda. We\n",
    "    therefore extract the mean log trajectory d'(k) by taking the mean of\n",
    "    log(d_i(k)) over all orbit vectors X_i. We then fit a straight line to\n",
    "    the plot of d'(k) versus k. The slope of the line gives the desired\n",
    "    parameter lambda.\n",
    "  Method for choosing min_tsep:\n",
    "    Usually we want to find neighbors between points that are close in phase\n",
    "    space but not too close in time, because we want to avoid spurious\n",
    "    correlations between the obtained trajectories that originate from temporal\n",
    "    dependencies rather than the dynamic properties of the system. Therefore it\n",
    "    is critical to find a good value for min_tsep. One rather plausible\n",
    "    estimate for this value is to set min_tsep to the mean period of the\n",
    "    signal, which can be obtained by calculating the mean frequency using the\n",
    "    fast fourier transform. This procedure is used by default if the user sets\n",
    "    min_tsep = None.\n",
    "  Method for choosing lag:\n",
    "    Another parameter that can be hard to choose by instinct alone is the lag\n",
    "    between individual values in a vector of the embedded orbit. Here,\n",
    "    Rosenstein et al. suggest to set the lag to the distance where the\n",
    "    autocorrelation function drops below 1 - 1/e times its original (maximal)\n",
    "    value. This procedure is used by default if the user sets lag = None.\n",
    "  References:\n",
    "    .. [lr_1] M. T. Rosenstein, J. J. Collins, and C. J. De Luca,\n",
    "       “A practical method for calculating largest Lyapunov exponents from\n",
    "       small data sets,” Physica D: Nonlinear Phenomena, vol. 65, no. 1,\n",
    "       pp. 117–134, 1993.\n",
    "  Reference Code:\n",
    "    .. [lr_a] mirwais, \"Largest Lyapunov Exponent with Rosenstein's Algorithm\",\n",
    "       url: http://www.mathworks.com/matlabcentral/fileexchange/38424-largest-lyapunov-exponent-with-rosenstein-s-algorithm\n",
    "    .. [lr_b] Shapour Mohammadi, \"LYAPROSEN: MATLAB function to calculate\n",
    "       Lyapunov exponent\",\n",
    "       url: https://ideas.repec.org/c/boc/bocode/t741502.html\n",
    "  Args:\n",
    "    data (iterable of float):\n",
    "      (one-dimensional) time series\n",
    "  Kwargs:\n",
    "    emb_dim (int):\n",
    "      embedding dimension for delay embedding\n",
    "    lag (float):\n",
    "      lag for delay embedding\n",
    "    min_tsep (float):\n",
    "      minimal temporal separation between two \"neighbors\" (default:\n",
    "      find a suitable value by calculating the mean period of the data)\n",
    "    tau (float):\n",
    "      step size between data points in the time series in seconds\n",
    "      (normalization scaling factor for exponents)\n",
    "    min_neighbors (int):\n",
    "      if lag=None, the search for a suitable lag will be stopped when the\n",
    "      number of potential neighbors for a vector drops below min_neighbors\n",
    "    trajectory_len (int):\n",
    "      the time (in number of data points) to follow the distance\n",
    "      trajectories between two neighboring points\n",
    "    fit (str):\n",
    "      the fitting method to use for the line fit, either 'poly' for normal\n",
    "      least squares polynomial fitting or 'RANSAC' for RANSAC-fitting which\n",
    "      is more robust to outliers\n",
    "    debug_plot (boolean):\n",
    "      if True, a simple plot of the final line-fitting step will\n",
    "      be shown\n",
    "    debug_data (boolean):\n",
    "      if True, debugging data will be returned alongside the result\n",
    "    plot_file (str):\n",
    "      if debug_plot is True and plot_file is not None, the plot will be saved\n",
    "      under the given file name instead of directly showing it through\n",
    "      ``plt.show()``\n",
    "    fit_offset (int):\n",
    "      neglect the first fit_offset steps when fitting\n",
    "  Returns:\n",
    "    float:\n",
    "      an estimate of the largest Lyapunov exponent (a positive exponent is\n",
    "      a strong indicator for chaos)\n",
    "    (1d-vector, 1d-vector, list):\n",
    "      only present if debug_data is True: debug data of the form\n",
    "      ``(ks, div_traj, poly)`` where ``ks`` are the x-values of the line fit, \n",
    "      ``div_traj`` are the y-values and ``poly`` are the line coefficients\n",
    "      (``[slope, intercept]``).\n",
    "  \"\"\"\n",
    "  # convert data to float to avoid overflow errors in rowwise_euclidean\n",
    "  data = np.asarray(data, dtype=\"float32\")\n",
    "  n = len(data)\n",
    "  max_tsep_factor = 0.25\n",
    "  if lag is None or min_tsep is None:\n",
    "    # both the algorithm for lag and min_tsep need the fft\n",
    "    f = np.fft.rfft(data, n * 2 - 1)\n",
    "  if min_tsep is None:\n",
    "    # calculate min_tsep as mean period (= 1 / mean frequency)\n",
    "    mf = np.fft.rfftfreq(n * 2 - 1) * np.abs(f)\n",
    "    mf = np.mean(mf[1:]) / np.sum(np.abs(f[1:]))\n",
    "    min_tsep = int(np.ceil(1.0 / mf))\n",
    "    if min_tsep > max_tsep_factor * n:\n",
    "      min_tsep = int(max_tsep_factor * n)\n",
    "      msg = \"signal has very low mean frequency, setting min_tsep = {:d}\"\n",
    "      warnings.warn(msg.format(min_tsep), RuntimeWarning)\n",
    "  if lag is None:\n",
    "    # calculate the lag as point where the autocorrelation drops to (1 - 1/e)\n",
    "    # times its maximum value\n",
    "    # note: the Wiener–Khinchin theorem states that the spectral\n",
    "    # decomposition of the autocorrelation function of a process is the power\n",
    "    # spectrum of that process\n",
    "    # => we can use fft to calculate the autocorrelation\n",
    "    acorr = np.fft.irfft(f * np.conj(f))\n",
    "    acorr = np.roll(acorr, n - 1)\n",
    "    eps = acorr[n - 1] * (1 - 1.0 / np.e)\n",
    "    lag = 1\n",
    "    # small helper function to calculate resulting number of vectors for a\n",
    "    # given lag value\n",
    "    def nb_neighbors(lag_value):\n",
    "      min_len = lyap_r_len(\n",
    "        emb_dim=emb_dim, lag=i, trajectory_len=trajectory_len,\n",
    "        min_tsep=min_tsep\n",
    "      )\n",
    "      return max(0, n - min_len)\n",
    "    # find lag\n",
    "    for i in range(1,n):\n",
    "      lag = i\n",
    "      if acorr[n - 1 + i] < eps or acorr[n - 1 - i] < eps:\n",
    "        break\n",
    "      if nb_neighbors(i) < min_neighbors:\n",
    "        msg = \"autocorrelation declined too slowly to find suitable lag\" \\\n",
    "          + \", setting lag to {}\"\n",
    "        warnings.warn(msg.format(lag), RuntimeWarning)\n",
    "        break\n",
    "  min_len = lyap_r_len(\n",
    "    emb_dim=emb_dim, lag=lag, trajectory_len=trajectory_len,\n",
    "    min_tsep=min_tsep\n",
    "  )\n",
    "  if len(data) < min_len:\n",
    "    msg = \"for emb_dim = {}, lag = {}, min_tsep = {} and trajectory_len = {}\" \\\n",
    "      + \" you need at least {} datapoints in your time series\"\n",
    "    warnings.warn(\n",
    "      msg.format(emb_dim, lag, min_tsep, trajectory_len, min_len),\n",
    "      RuntimeWarning\n",
    "    )\n",
    "  # delay embedding\n",
    "  orbit = delay_embedding(data, emb_dim, lag)\n",
    "  m = len(orbit)\n",
    "  # construct matrix with pairwise distances between vectors in orbit\n",
    "  dists = np.array([rowwise_euclidean(orbit, orbit[i]) for i in range(m)])\n",
    "  # we do not want to consider vectors as neighbor that are less than min_tsep\n",
    "  # time steps together => mask the distances min_tsep to the right and left of\n",
    "  # each index by setting them to infinity (will never be considered as nearest\n",
    "  # neighbors)\n",
    "  for i in range(m):\n",
    "    dists[i, max(0, i - min_tsep):i + min_tsep + 1] = float(\"inf\")\n",
    "  # check that we have enough data points to continue\n",
    "  ntraj = m - trajectory_len + 1\n",
    "  min_traj = min_tsep * 2 + 2 # in each row min_tsep + 1 disances are inf\n",
    "  if ntraj <= 0:\n",
    "    msg = \"Not enough data points. Need {} additional data points to follow \" \\\n",
    "        + \"a complete trajectory.\"\n",
    "    raise ValueError(msg.format(-ntraj+1))\n",
    "  if ntraj < min_traj:\n",
    "    # not enough data points => there are rows where all values are inf\n",
    "    assert np.any(np.all(np.isinf(dists[:ntraj, :ntraj]), axis=1))\n",
    "    msg = \"Not enough data points. At least {} trajectories are required \" \\\n",
    "        + \"to find a valid neighbor for each orbit vector with min_tsep={} \" \\\n",
    "        + \"but only {} could be created.\"\n",
    "    raise ValueError(msg.format(min_traj, min_tsep, ntraj))\n",
    "  assert np.all(np.any(np.isfinite(dists[:ntraj, :ntraj]), axis=1))\n",
    "  # find nearest neighbors (exclude last columns, because these vectors cannot\n",
    "  # be followed in time for trajectory_len steps)\n",
    "  nb_idx = np.argmin(dists[:ntraj, :ntraj], axis=1)\n",
    "  \n",
    "  # build divergence trajectory by averaging distances along the trajectory\n",
    "  # over all neighbor pairs\n",
    "  div_traj = np.zeros(trajectory_len, dtype=float)\n",
    "  for k in range(trajectory_len):\n",
    "    # calculate mean trajectory distance at step k\n",
    "    indices = (np.arange(ntraj) + k, nb_idx + k)\n",
    "    div_traj_k = dists[indices]\n",
    "    # filter entries where distance is zero (would lead to -inf after log)\n",
    "    nonzero = np.where(div_traj_k != 0)\n",
    "    if len(nonzero[0]) == 0:\n",
    "      # if all entries where zero, we have to use -inf\n",
    "      div_traj[k] = -np.inf\n",
    "    else:\n",
    "      div_traj[k] = np.mean(np.log(div_traj_k[nonzero]))\n",
    "  # filter -inf entries from mean trajectory\n",
    "  ks = np.arange(trajectory_len)\n",
    "  finite = np.where(np.isfinite(div_traj))\n",
    "  ks = ks[finite]\n",
    "  div_traj = div_traj[finite]\n",
    "  if len(ks) < 1:\n",
    "    # if all points or all but one point in the trajectory is -inf, we cannot\n",
    "    # fit a line through the remaining points => return -inf as exponent\n",
    "    poly = [-np.inf, 0]\n",
    "  else:\n",
    "    # normal line fitting\n",
    "    poly = poly_fit(ks[fit_offset:], div_traj[fit_offset:], 1, fit=fit)\n",
    "  if debug_plot:\n",
    "    plot_reg(ks[fit_offset:], div_traj[fit_offset:], poly, \"k\", \"log(d(k))\", fname=plot_file)\n",
    "  le = poly[0] / tau\n",
    "  if debug_data:\n",
    "    return (le, (ks, div_traj, poly))\n",
    "  else:\n",
    "    return le"
   ]
  },
  {
   "cell_type": "code",
   "execution_count": null,
   "metadata": {},
   "outputs": [],
   "source": []
  }
 ],
 "metadata": {
  "kernelspec": {
   "display_name": "Python 3",
   "language": "python",
   "name": "python3"
  },
  "language_info": {
   "codemirror_mode": {
    "name": "ipython",
    "version": 3
   },
   "file_extension": ".py",
   "mimetype": "text/x-python",
   "name": "python",
   "nbconvert_exporter": "python",
   "pygments_lexer": "ipython3",
   "version": "3.8.5"
  }
 },
 "nbformat": 4,
 "nbformat_minor": 4
}
