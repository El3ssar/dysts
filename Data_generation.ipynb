{
 "cells": [
  {
   "cell_type": "code",
   "execution_count": 2,
   "metadata": {},
   "outputs": [],
   "source": [
    "import os\n",
    "import matplotlib.pyplot as plt\n",
    "import numpy as np\n",
    "\n",
    "# Continuous Systems\n",
    "from dysts.flows import Lorenz, Rossler, Duffing, MackeyGlass, Hadley, Chen, VallisElNino, Hopfield, DoublePendulum, Chua\n",
    "# Discrete Systems\n",
    "from dysts.maps import Henon, Ikeda, Logistic, Tinkerbell, Tent, Chebyshev, Circle, Svensson, GumowskiMira, KaplanYorke\n"
   ]
  },
  {
   "cell_type": "code",
   "execution_count": 3,
   "metadata": {},
   "outputs": [],
   "source": [
    "ContinuousSystems = [Lorenz, Rossler, Duffing, MackeyGlass, Hadley, Chen, VallisElNino, Hopfield, DoublePendulum, Chua]\n",
    "DiscreteSystems = [Henon, Ikeda, Logistic, Tinkerbell, Tent, Chebyshev, Circle, Svensson, GumowskiMira, KaplanYorke]"
   ]
  },
  {
   "cell_type": "code",
   "execution_count": null,
   "metadata": {},
   "outputs": [],
   "source": [
    "#f(name, path, dt, ic, steps, t_final)\n",
    "\n",
    "\n",
    "\n",
    "def generate_timesteps(dt=None, steps=None, final_t=1.0, rtol=1e-3):\n",
    "    if dt is not None:\n",
    "        # Use dt to create the time array\n",
    "        timesteps = np.arange(0, final_t + dt, dt)\n",
    "    elif steps is not None:\n",
    "        # Use steps to create the time array\n",
    "        timesteps = np.linspace(0, final_t, steps + 1)\n",
    "    else:\n",
    "        raise ValueError(\"Either 'dt' or 'steps' must be provided.\")\n",
    "    # Ensure the last element does not exceed final_t\n",
    "    return timesteps\n",
    "\n",
    "\n",
    "def generate_data(systems, path, dt, steps, t_final):\n",
    "    for system in systems:\n",
    "        system_name = system.__name__\n",
    "        system_path = path + system_name + \"/\"\n",
    "        # Make the directory path if it doesn't exist\n",
    "        if not os.path.exists(system_path):\n",
    "            os.makedirs(system_path)\n",
    "        t_interval = generate_timesteps(dt, steps, t_final)\n",
    "        model = system()\n",
    "        trajectory = model."
   ]
  },
  {
   "cell_type": "code",
   "execution_count": 11,
   "metadata": {},
   "outputs": [
    {
     "name": "stdout",
     "output_type": "stream",
     "text": [
      "Help on method make_trajectory in module dysts.base:\n",
      "\n",
      "make_trajectory(n: int, dt: float = 0.001, init_cond: Optional[numpy.ndarray] = None, resample: bool = True, pts_per_period: int = 100, return_times: bool = False, standardize: bool = False, postprocess: bool = True, noise: float = 0.0, timescale: str = 'Fourier', method: str = 'Radau', random_seed: int = 0, rtol: float = 1e-12, atol: float = 1e-12, **kwargs) -> Union[numpy.ndarray, Tuple[numpy.ndarray, numpy.ndarray], NoneType] method of dysts.flows.Lorenz instance\n",
      "    Generate a fixed-length trajectory for the dynamical system.\n",
      "    \n",
      "    Args:\n",
      "        n: Total number of trajectory points.\n",
      "        dt: Time step for integration. Defaults to 1e-3 or system's default if set.\n",
      "        init_cond: Initial conditions. If None, uses system's default.\n",
      "        resample: Whether to resample trajectory to match dominant Fourier components.\n",
      "        pts_per_period: Number of points per period if resampling.\n",
      "        return_times: If True, return time points along with trajectory.\n",
      "        standardize: If True, standardize the output time series.\n",
      "        postprocess: If True, apply coordinate conversions and rescalings.\n",
      "        noise: Stochasticity level in integrated dynamics (corresponds to Brownian motion).\n",
      "        timescale: Timescale for resampling. \"Fourier\" (default) or \"Lyapunov\".\n",
      "        method: Integration method.\n",
      "        random_seed: Seed for random number generation.\n",
      "        rtol: Relative tolerance for integration.\n",
      "        atol: Absolute tolerance for integration.\n",
      "        **kwargs: Additional arguments for integration routine.\n",
      "    \n",
      "    Returns:\n",
      "        If return_times is False:\n",
      "            np.ndarray: T x D trajectory array.\n",
      "        If return_times is True:\n",
      "            Tuple[np.ndarray, np.ndarray]: T x 1 time point array and T x D trajectory array.\n",
      "        None: If no complete trajectories are found.\n",
      "    \n",
      "    Raises:\n",
      "        ValueError: If an invalid timescale is provided.\n",
      "\n"
     ]
    }
   ],
   "source": [
    "model = Lorenz()\n",
    "help(model.make_trajectory)"
   ]
  }
 ],
 "metadata": {
  "kernelspec": {
   "display_name": "krc",
   "language": "python",
   "name": "python3"
  },
  "language_info": {
   "codemirror_mode": {
    "name": "ipython",
    "version": 3
   },
   "file_extension": ".py",
   "mimetype": "text/x-python",
   "name": "python",
   "nbconvert_exporter": "python",
   "pygments_lexer": "ipython3",
   "version": "3.10.15"
  }
 },
 "nbformat": 4,
 "nbformat_minor": 2
}
