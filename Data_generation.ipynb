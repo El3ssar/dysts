{
 "cells": [
  {
   "cell_type": "code",
   "execution_count": null,
   "metadata": {},
   "outputs": [],
   "source": [
    "import os\n",
    "import matplotlib.pyplot as plt\n",
    "\n",
    "# Continuous Systems\n",
    "from dysts.flows import Lorenz, Rossler, Duffing, MackeyGlass, Hadley, Chen, VallisElNino, Hopfield, DoublePendulum, Chua\n",
    "# Discrete Systems\n",
    "from dysts.maps import Henon, Ikeda, Logistic, Tinkerbell, Tent, Chebyshev, Circle, Svensson, GumowskiMira, KaplanYorke\n"
   ]
  },
  {
   "cell_type": "code",
   "execution_count": 2,
   "metadata": {},
   "outputs": [],
   "source": [
    "ContinuousSystems = [Lorenz, Rossler, Duffing, MackeyGlass, Hadley, Chen, VallisElNino, Hopfield, DoublePendulum, Chua]\n",
    "DiscreteSystems = [Henon, Ikeda, Logistic, Tinkerbell, Tent, Chebyshev, Circle, Svensson, GumowskiMira, KaplanYorke]"
   ]
  },
  {
   "cell_type": "code",
   "execution_count": null,
   "metadata": {},
   "outputs": [],
   "source": [
    "#f(name, path, dt, ic, steps, t_final)\n",
    "\n",
    "def generate_timesteps(dt=None, steps=None, final_t=1.0, rtol=1e-3):\n",
    "    if dt is not None:\n",
    "        # Use dt to create the time array\n",
    "        timesteps = np.arange(0, final_t + dt, dt)\n",
    "    elif steps is not None:\n",
    "        # Use steps to create the time array\n",
    "        timesteps = np.linspace(0, final_t, steps + 1)\n",
    "    else:\n",
    "        raise ValueError(\"Either 'dt' or 'steps' must be provided.\")\n",
    "    # Ensure the last element does not exceed final_t\n",
    "    return timesteps\n",
    "\n",
    "\n",
    "def generate_data(systems, path, dt, steps, t_final):\n",
    "    for system in systems:\n",
    "        system_name = system.__name__\n",
    "        system_path = path + system_name + \"/\"\n",
    "        # Make the directory path if it doesn't exist\n",
    "        if not os.path.exists(system_path):\n",
    "            os.makedirs(system_path)\n",
    "        t_interval = generate_timesteps(dt, steps, t_final)"
   ]
  }
 ],
 "metadata": {
  "kernelspec": {
   "display_name": "krc",
   "language": "python",
   "name": "python3"
  },
  "language_info": {
   "codemirror_mode": {
    "name": "ipython",
    "version": 3
   },
   "file_extension": ".py",
   "mimetype": "text/x-python",
   "name": "python",
   "nbconvert_exporter": "python",
   "pygments_lexer": "ipython3",
   "version": "3.10.15"
  }
 },
 "nbformat": 4,
 "nbformat_minor": 2
}
