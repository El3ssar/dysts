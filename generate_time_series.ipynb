{
 "cells": [
  {
   "cell_type": "code",
   "execution_count": 21,
   "metadata": {},
   "outputs": [
    {
     "name": "stdout",
     "output_type": "stream",
     "text": [
      "The autoreload extension is already loaded. To reload it, use:\n",
      "  %reload_ext autoreload\n"
     ]
    }
   ],
   "source": [
    "import sys\n",
    "\n",
    "import matplotlib.pyplot as plt\n",
    "import json\n",
    "import os.path\n",
    "\n",
    "import dysts\n",
    "from dysts.flows import *\n",
    "from dysts.base import *\n",
    "from dysts.utils import *\n",
    "from dysts.analysis import *\n",
    "\n",
    "%load_ext autoreload\n",
    "%autoreload 2"
   ]
  },
  {
   "cell_type": "code",
   "execution_count": null,
   "metadata": {},
   "outputs": [
    {
     "name": "stdout",
     "output_type": "stream",
     "text": [
      "Aizawa\n",
      "AnishchenkoAstakhov\n",
      "Arneodo\n"
     ]
    }
   ],
   "source": [
    "\n",
    "DATA_BASEPATH = \"dysts/data/\"\n",
    "TRAIN = 5000\n",
    "TEST = 1000\n",
    "\n",
    "\n",
    "# ts_type = \"multivariate\"\n",
    "num_periods = 10\n",
    "pts_per_period = 15 # granularity 15 or 100\n",
    "# pts_per_period = 100 # granularity 15 or 100\n",
    "\n",
    "\n",
    "output_path_uni = os.path.join(DATA_BASEPATH, f\"dataset_univariate__pts_per_period_{pts_per_period}__periods_{num_periods}.json\")\n",
    "output_path_multi = os.path.join(DATA_BASEPATH, f\"dataset_multivariate__pts_per_period_{pts_per_period}__periods_{num_periods}.json\")\n",
    "dataset = dict()\n",
    "\n",
    "for i, name in enumerate(get_attractor_list()):\n",
    "    print(name)\n",
    "    dataset[name] = dict()\n",
    "    model = getattr(dysts.flows, name)()\n",
    "    \n",
    "#     current_fields = list(data.keys())\n",
    "\n",
    "    # make initial conditions for train, val, test\n",
    "    [train_ic, val_ic, test_ic] = sample_initial_conditions(model, 3)\n",
    "    model.ic = train_ic\n",
    "    \n",
    "    tpts, sol = model.make_trajectory(num_periods * pts_per_period, pts_per_period=pts_per_period, \n",
    "                                   resample=True, return_times=True)\n",
    "    \n",
    "#     if ts_type == \"univariate\":\n",
    "#         values = sol[:, 0]\n",
    "#     elif ts_type == \"multivariate\":\n",
    "#         values = sol\n",
    "#     else:\n",
    "#         warnings.warn(\"Specified time series type not \\\"univariate\\\" or \\\"multivariate\\\", falling back to univariate\")\n",
    "#         values = sol[:, 0]\n",
    "    \n",
    "    dataset[name][\"time\"] = tpts.tolist()\n",
    "    dataset[name][\"dt\"] = np.median(np.diff(tpts))\n",
    "    \n",
    "    dataset[name][\"values\"] = sol[:, 0].tolist()\n",
    "    with open(output_path_uni, 'w') as f:\n",
    "        json.dump(dataset, f, indent=4)    \n",
    "    \n",
    "    dataset[name][\"values\"] = sol.tolist()\n",
    "    with open(output_path_multi, 'w') as f:\n",
    "        json.dump(dataset, f, indent=4)    "
   ]
  },
  {
   "cell_type": "code",
   "execution_count": null,
   "metadata": {},
   "outputs": [],
   "source": [
    "with open(INPUT_FILE, \"r\") as file:\n",
    "    data = json.load(file)\n",
    "print(f\"Total models being analyzed is {len(data.keys())}.\")\n",
    "\n",
    "for i, item in enumerate(list(data.keys())):"
   ]
  },
  {
   "cell_type": "code",
   "execution_count": null,
   "metadata": {},
   "outputs": [],
   "source": []
  },
  {
   "cell_type": "code",
   "execution_count": null,
   "metadata": {},
   "outputs": [],
   "source": [
    "DATASET_PATH = \"\"\n",
    "RESULTS_PATH = \"\""
   ]
  },
  {
   "cell_type": "code",
   "execution_count": null,
   "metadata": {},
   "outputs": [],
   "source": []
  },
  {
   "cell_type": "code",
   "execution_count": null,
   "metadata": {},
   "outputs": [],
   "source": []
  }
 ],
 "metadata": {
  "kernelspec": {
   "display_name": "Python 3",
   "language": "python",
   "name": "python3"
  },
  "language_info": {
   "codemirror_mode": {
    "name": "ipython",
    "version": 3
   },
   "file_extension": ".py",
   "mimetype": "text/x-python",
   "name": "python",
   "nbconvert_exporter": "python",
   "pygments_lexer": "ipython3",
   "version": "3.8.5"
  }
 },
 "nbformat": 4,
 "nbformat_minor": 4
}
