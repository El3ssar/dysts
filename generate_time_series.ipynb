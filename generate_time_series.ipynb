{
 "cells": [
  {
   "cell_type": "code",
   "execution_count": 21,
   "metadata": {},
   "outputs": [
    {
     "name": "stdout",
     "output_type": "stream",
     "text": [
      "The autoreload extension is already loaded. To reload it, use:\n",
      "  %reload_ext autoreload\n"
     ]
    }
   ],
   "source": [
    "import sys\n",
    "\n",
    "import matplotlib.pyplot as plt\n",
    "import json\n",
    "import os.path\n",
    "\n",
    "import dysts\n",
    "from dysts.flows import *\n",
    "from dysts.base import *\n",
    "from dysts.utils import *\n",
    "from dysts.analysis import *\n",
    "\n",
    "%load_ext autoreload\n",
    "%autoreload 2"
   ]
  },
  {
   "cell_type": "code",
   "execution_count": 31,
   "metadata": {},
   "outputs": [
    {
     "data": {
      "text/plain": [
       "(150,)"
      ]
     },
     "execution_count": 31,
     "metadata": {},
     "output_type": "execute_result"
    }
   ],
   "source": [
    "num_periods * pts_per_period,"
   ]
  },
  {
   "cell_type": "code",
   "execution_count": 38,
   "metadata": {},
   "outputs": [],
   "source": [
    "cc, xx = MackeyGlass().make_trajectory(num_periods * pts_per_period, pts_per_period=pts_per_period, \n",
    "                                   resample=True, return_times=True)"
   ]
  },
  {
   "cell_type": "code",
   "execution_count": 46,
   "metadata": {},
   "outputs": [
    {
     "data": {
      "text/plain": [
       "'dysts/data/dataset_univariate__pts_per_period_15__periods_10.json'"
      ]
     },
     "execution_count": 46,
     "metadata": {},
     "output_type": "execute_result"
    }
   ],
   "source": [
    "output_path_uni"
   ]
  },
  {
   "cell_type": "code",
   "execution_count": 53,
   "metadata": {},
   "outputs": [
    {
     "name": "stdout",
     "output_type": "stream",
     "text": [
      "Aizawa\n",
      "AnishchenkoAstakhov\n",
      "Arneodo\n",
      "ArnoldBeltramiChildress\n",
      "ArnoldWeb\n",
      "BeerRNN\n",
      "BelousovZhabotinsky\n",
      "BickleyJet\n",
      "Blasius\n",
      "BlinkingRotlet\n",
      "BlinkingVortex\n",
      "Bouali\n",
      "Bouali2\n",
      "BurkeShaw\n",
      "CaTwoPlus\n",
      "CaTwoPlusQuasiperiodic\n",
      "CellCycle\n",
      "CellularNeuralNetwork\n",
      "Chen\n",
      "ChenLee\n",
      "Chua\n",
      "CircadianRhythm\n",
      "CoevolvingPredatorPrey\n",
      "Colpitts\n",
      "Coullet\n",
      "Dadras\n",
      "DequanLi\n",
      "DoubleGyre\n",
      "DoublePendulum\n",
      "Duffing\n",
      "ExcitableCell\n",
      "Finance\n",
      "FluidTrampoline\n",
      "ForcedBrusselator\n",
      "ForcedFitzHughNagumo\n",
      "ForcedVanDerPol\n",
      "GenesioTesi\n",
      "GuckenheimerHolmes\n",
      "Hadley\n",
      "Halvorsen\n",
      "HastingsPowell\n",
      "HenonHeiles\n",
      "HindmarshRose\n",
      "Hopfield\n",
      "HyperBao\n",
      "HyperCai\n",
      "HyperJha\n",
      "HyperLorenz\n",
      "HyperLu\n",
      "HyperPang\n",
      "HyperQi\n",
      "HyperRossler\n",
      "HyperWang\n",
      "HyperXu\n",
      "HyperYan\n",
      "HyperYangChen\n",
      "IkedaDelay\n",
      "IsothermalChemical\n",
      "ItikBanksTumor\n",
      "JerkCircuit\n",
      "KawczynskiStrizhak\n",
      "Laser\n",
      "LiuChen\n",
      "Lorenz\n",
      "Lorenz84\n",
      "Lorenz96\n",
      "LorenzBounded\n",
      "LorenzCoupled\n",
      "LorenzStenflo\n",
      "LuChen\n",
      "LuChenCheng\n",
      "MacArthur\n",
      "MackeyGlass\n",
      "MooreSpiegel\n",
      "MultiChua\n",
      "NewtonLiepnik\n",
      "NoseHoover\n",
      "NuclearQuadrupole\n",
      "OscillatingFlow\n",
      "PanXuZhou\n",
      "PehlivanWei\n",
      "PiecewiseCircuit\n",
      "Qi\n",
      "QiChen\n",
      "RabinovichFabrikant\n",
      "RayleighBenard\n",
      "RikitakeDynamo\n",
      "Rossler\n",
      "Rucklidge\n",
      "Sakarya\n",
      "SaltonSea\n",
      "SanUmSrisuchinwong\n",
      "ScrollDelay\n",
      "ShimizuMorioka\n",
      "SprottA\n",
      "SprottB\n",
      "SprottC\n",
      "SprottD\n",
      "SprottDelay\n",
      "SprottE\n",
      "SprottF\n",
      "SprottG\n",
      "SprottH\n",
      "SprottI\n",
      "SprottJ\n",
      "SprottJerk\n",
      "SprottK\n",
      "SprottL\n",
      "SprottM\n",
      "SprottMore\n",
      "SprottN\n",
      "SprottO\n",
      "SprottP\n",
      "SprottQ\n",
      "SprottR\n",
      "SprottS\n",
      "SprottTorus\n",
      "StickSlipOscillator\n",
      "SwingingAtwood\n",
      "Thomas\n",
      "ThomasLabyrinth\n",
      "Torus\n",
      "Tsucs2\n",
      "TurchinHanski\n",
      "VallisElNino\n",
      "VossDelay\n",
      "WangSun\n",
      "WindmiReduced\n",
      "YuWang\n",
      "YuWang2\n",
      "ZhouChen\n"
     ]
    }
   ],
   "source": [
    "\n",
    "DATA_BASEPATH = \"dysts/data/\"\n",
    "TRAIN = 5000\n",
    "TEST = 1000\n",
    "\n",
    "\n",
    "# ts_type = \"multivariate\"\n",
    "num_periods = 10\n",
    "pts_per_period = 15 # granularity 15 or 100\n",
    "# pts_per_period = 100 # granularity 15 or 100\n",
    "\n",
    "\n",
    "output_path_uni = os.path.join(DATA_BASEPATH, f\"dataset_univariate__pts_per_period_{pts_per_period}__periods_{num_periods}.json\")\n",
    "output_path_multi = os.path.join(DATA_BASEPATH, f\"dataset_multivariate__pts_per_period_{pts_per_period}__periods_{num_periods}.json\")\n",
    "dataset = dict()\n",
    "\n",
    "for i, name in enumerate(get_attractor_list()):\n",
    "    print(name)\n",
    "    dataset[name] = dict()\n",
    "    model = getattr(dysts.flows, name)()\n",
    "    \n",
    "#     current_fields = list(data.keys())\n",
    "\n",
    "    # make initial conditions for train, val, test\n",
    "    [train_ic, val_ic, test_ic] = sample_initial_conditions(model, 3)\n",
    "    model.ic = train_ic\n",
    "    \n",
    "    tpts, sol = model.make_trajectory(num_periods * pts_per_period, pts_per_period=pts_per_period, \n",
    "                                   resample=True, return_times=True)\n",
    "    \n",
    "#     if ts_type == \"univariate\":\n",
    "#         values = sol[:, 0]\n",
    "#     elif ts_type == \"multivariate\":\n",
    "#         values = sol\n",
    "#     else:\n",
    "#         warnings.warn(\"Specified time series type not \\\"univariate\\\" or \\\"multivariate\\\", falling back to univariate\")\n",
    "#         values = sol[:, 0]\n",
    "    \n",
    "    dataset[name][\"time\"] = tpts.tolist()\n",
    "    dataset[name][\"dt\"] = np.median(np.diff(tpts))\n",
    "    \n",
    "    dataset[name][\"values\"] = sol[:, 0].tolist()\n",
    "    with open(output_path_uni, 'w') as f:\n",
    "        json.dump(dataset, f, indent=4)    \n",
    "    \n",
    "#     dataset[name][\"values\"] = 7\n",
    "    \n",
    "#     break\n",
    "#     with open(output_path_multi, 'w') as f:\n",
    "#         json.dump(dataset, f, indent=4)    "
   ]
  },
  {
   "cell_type": "code",
   "execution_count": null,
   "metadata": {},
   "outputs": [],
   "source": [
    "class TimeSeriesDataset:\n",
    "    \"\"\"A data structure for handling time series. Reads and writes from JSON\"\"\"\n",
    "    def __init__(self, datapath=None):\n",
    "        if not datapath:\n",
    "            pass\n",
    "        else:\n",
    "            with open(datapath, \"r\") as file:\n",
    "                self.dataset = json.load(file)\n",
    "                \n",
    "    def to_pandas(self):\n",
    "        \"\"\"\n",
    "        Flatten the database into (dataset_index, time, x1, x2, ...) format\n",
    "        and convert to a Pandas dataframe\n",
    "        \"\"\"\n",
    "        index_names = \n",
    "        \n",
    "    \n",
    "    def dump(self, path):\n",
    "        with open(path, 'w') as file:\n",
    "            json.dump(self.dataset, file, indent=4)   "
   ]
  },
  {
   "cell_type": "code",
   "execution_count": null,
   "metadata": {},
   "outputs": [],
   "source": [
    "with open(INPUT_FILE, \"r\") as file:\n",
    "    data = json.load(file)\n",
    "print(f\"Total models being analyzed is {len(data.keys())}.\")\n",
    "\n",
    "for i, item in enumerate(list(data.keys())):"
   ]
  },
  {
   "cell_type": "code",
   "execution_count": 56,
   "metadata": {},
   "outputs": [
    {
     "data": {
      "text/plain": [
       "array([8, 9])"
      ]
     },
     "execution_count": 56,
     "metadata": {},
     "output_type": "execute_result"
    }
   ],
   "source": [
    "np.array([8, 9])"
   ]
  },
  {
   "cell_type": "code",
   "execution_count": null,
   "metadata": {},
   "outputs": [],
   "source": [
    "DATASET_PATH = \"\"\n",
    "RESULTS_PATH = \"\""
   ]
  },
  {
   "cell_type": "code",
   "execution_count": null,
   "metadata": {},
   "outputs": [],
   "source": []
  },
  {
   "cell_type": "code",
   "execution_count": null,
   "metadata": {},
   "outputs": [],
   "source": []
  }
 ],
 "metadata": {
  "kernelspec": {
   "display_name": "Python 3",
   "language": "python",
   "name": "python3"
  },
  "language_info": {
   "codemirror_mode": {
    "name": "ipython",
    "version": 3
   },
   "file_extension": ".py",
   "mimetype": "text/x-python",
   "name": "python",
   "nbconvert_exporter": "python",
   "pygments_lexer": "ipython3",
   "version": "3.8.5"
  }
 },
 "nbformat": 4,
 "nbformat_minor": 4
}
