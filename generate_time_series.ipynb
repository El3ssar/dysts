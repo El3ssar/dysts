{
 "cells": [
  {
   "cell_type": "code",
   "execution_count": 1,
   "metadata": {},
   "outputs": [],
   "source": [
    "import sys\n",
    "\n",
    "import matplotlib.pyplot as plt\n",
    "import json\n",
    "import os.path\n",
    "\n",
    "import dysts\n",
    "from dysts.flows import *\n",
    "from dysts.base import *\n",
    "from dysts.utils import *\n",
    "from dysts.analysis import *\n",
    "\n",
    "%load_ext autoreload\n",
    "%autoreload 2"
   ]
  },
  {
   "cell_type": "code",
   "execution_count": 2,
   "metadata": {},
   "outputs": [
    {
     "name": "stdout",
     "output_type": "stream",
     "text": [
      "Aizawa\n",
      "AnishchenkoAstakhov\n",
      "Arneodo\n",
      "ArnoldBeltramiChildress\n"
     ]
    },
    {
     "name": "stderr",
     "output_type": "stream",
     "text": [
      "/Users/williamgilpin/program_repos/dysts/dysts/base.py:162: UserWarning: This system has at least one unbounded variable, which has been mapped to a bounded domain. Pass argument postprocess=False in order to generate trajectories from the raw system.\n",
      "  warnings.warn(\"This system has at least one unbounded variable, which has been mapped to a bounded domain. Pass argument postprocess=False in order to generate trajectories from the raw system.\")\n"
     ]
    },
    {
     "name": "stdout",
     "output_type": "stream",
     "text": [
      "ArnoldWeb\n"
     ]
    },
    {
     "name": "stderr",
     "output_type": "stream",
     "text": [
      "/Users/williamgilpin/program_repos/dysts/dysts/base.py:148: UserWarning: Expect slowdown due to excessive integration required; scale factor 1282.051282051282\n",
      "  if upscale_factor > 1e3: warnings.warn(f\"Expect slowdown due to excessive integration required; scale factor {upscale_factor}\")\n",
      "/Users/williamgilpin/program_repos/dysts/dysts/base.py:162: UserWarning: This system has at least one unbounded variable, which has been mapped to a bounded domain. Pass argument postprocess=False in order to generate trajectories from the raw system.\n",
      "  warnings.warn(\"This system has at least one unbounded variable, which has been mapped to a bounded domain. Pass argument postprocess=False in order to generate trajectories from the raw system.\")\n"
     ]
    },
    {
     "name": "stdout",
     "output_type": "stream",
     "text": [
      "BeerRNN\n"
     ]
    },
    {
     "name": "stderr",
     "output_type": "stream",
     "text": [
      "/Users/williamgilpin/program_repos/dysts/dysts/base.py:148: UserWarning: Expect slowdown due to excessive integration required; scale factor 1666.7125613841847\n",
      "  if upscale_factor > 1e3: warnings.warn(f\"Expect slowdown due to excessive integration required; scale factor {upscale_factor}\")\n"
     ]
    },
    {
     "name": "stdout",
     "output_type": "stream",
     "text": [
      "BelousovZhabotinsky\n",
      "BickleyJet\n"
     ]
    },
    {
     "name": "stderr",
     "output_type": "stream",
     "text": [
      "/Users/williamgilpin/program_repos/dysts/dysts/base.py:148: UserWarning: Expect slowdown due to excessive integration required; scale factor 3174.578334202747\n",
      "  if upscale_factor > 1e3: warnings.warn(f\"Expect slowdown due to excessive integration required; scale factor {upscale_factor}\")\n",
      "/Users/williamgilpin/program_repos/dysts/dysts/flows.py:371: RuntimeWarning: invalid value encountered in sqrt\n",
      "  rf = (self.ci - self.z0*z)*np.sqrt(x)\n",
      "/Users/williamgilpin/program_repos/dysts/dysts/base.py:162: UserWarning: This system has at least one unbounded variable, which has been mapped to a bounded domain. Pass argument postprocess=False in order to generate trajectories from the raw system.\n",
      "  warnings.warn(\"This system has at least one unbounded variable, which has been mapped to a bounded domain. Pass argument postprocess=False in order to generate trajectories from the raw system.\")\n"
     ]
    },
    {
     "name": "stdout",
     "output_type": "stream",
     "text": [
      "Blasius\n",
      "BlinkingRotlet\n"
     ]
    },
    {
     "name": "stderr",
     "output_type": "stream",
     "text": [
      "/Users/williamgilpin/program_repos/dysts/dysts/base.py:162: UserWarning: This system has at least one unbounded variable, which has been mapped to a bounded domain. Pass argument postprocess=False in order to generate trajectories from the raw system.\n",
      "  warnings.warn(\"This system has at least one unbounded variable, which has been mapped to a bounded domain. Pass argument postprocess=False in order to generate trajectories from the raw system.\")\n",
      "/Users/williamgilpin/program_repos/dysts/dysts/base.py:148: UserWarning: Expect slowdown due to excessive integration required; scale factor 1194.7508832648352\n",
      "  if upscale_factor > 1e3: warnings.warn(f\"Expect slowdown due to excessive integration required; scale factor {upscale_factor}\")\n"
     ]
    },
    {
     "name": "stdout",
     "output_type": "stream",
     "text": [
      "BlinkingVortex\n",
      "Bouali\n",
      "Bouali2\n",
      "BurkeShaw\n",
      "CaTwoPlus\n",
      "CaTwoPlusQuasiperiodic\n",
      "CellCycle\n",
      "CellularNeuralNetwork\n",
      "Chen\n",
      "ChenLee\n",
      "Chua\n",
      "CircadianRhythm\n"
     ]
    },
    {
     "name": "stderr",
     "output_type": "stream",
     "text": [
      "/Users/williamgilpin/program_repos/dysts/dysts/base.py:148: UserWarning: Expect slowdown due to excessive integration required; scale factor 1041.6666666666667\n",
      "  if upscale_factor > 1e3: warnings.warn(f\"Expect slowdown due to excessive integration required; scale factor {upscale_factor}\")\n",
      "/Users/williamgilpin/program_repos/dysts/dysts/base.py:162: UserWarning: This system has at least one unbounded variable, which has been mapped to a bounded domain. Pass argument postprocess=False in order to generate trajectories from the raw system.\n",
      "  warnings.warn(\"This system has at least one unbounded variable, which has been mapped to a bounded domain. Pass argument postprocess=False in order to generate trajectories from the raw system.\")\n",
      "/Users/williamgilpin/program_repos/dysts/dysts/base.py:148: UserWarning: Expect slowdown due to excessive integration required; scale factor 1010.0785717224073\n",
      "  if upscale_factor > 1e3: warnings.warn(f\"Expect slowdown due to excessive integration required; scale factor {upscale_factor}\")\n"
     ]
    },
    {
     "name": "stdout",
     "output_type": "stream",
     "text": [
      "CoevolvingPredatorPrey\n",
      "Colpitts\n",
      "Coullet\n",
      "Dadras\n"
     ]
    },
    {
     "name": "stderr",
     "output_type": "stream",
     "text": [
      "/Users/williamgilpin/program_repos/dysts/dysts/base.py:148: UserWarning: Expect slowdown due to excessive integration required; scale factor 1515.134761575674\n",
      "  if upscale_factor > 1e3: warnings.warn(f\"Expect slowdown due to excessive integration required; scale factor {upscale_factor}\")\n"
     ]
    },
    {
     "name": "stdout",
     "output_type": "stream",
     "text": [
      "DequanLi\n",
      "DoubleGyre\n"
     ]
    },
    {
     "name": "stderr",
     "output_type": "stream",
     "text": [
      "/Users/williamgilpin/program_repos/dysts/dysts/base.py:162: UserWarning: This system has at least one unbounded variable, which has been mapped to a bounded domain. Pass argument postprocess=False in order to generate trajectories from the raw system.\n",
      "  warnings.warn(\"This system has at least one unbounded variable, which has been mapped to a bounded domain. Pass argument postprocess=False in order to generate trajectories from the raw system.\")\n"
     ]
    },
    {
     "name": "stdout",
     "output_type": "stream",
     "text": [
      "DoublePendulum\n"
     ]
    },
    {
     "name": "stderr",
     "output_type": "stream",
     "text": [
      "/Users/williamgilpin/program_repos/dysts/dysts/base.py:162: UserWarning: This system has at least one unbounded variable, which has been mapped to a bounded domain. Pass argument postprocess=False in order to generate trajectories from the raw system.\n",
      "  warnings.warn(\"This system has at least one unbounded variable, which has been mapped to a bounded domain. Pass argument postprocess=False in order to generate trajectories from the raw system.\")\n"
     ]
    },
    {
     "name": "stdout",
     "output_type": "stream",
     "text": [
      "Duffing\n"
     ]
    },
    {
     "name": "stderr",
     "output_type": "stream",
     "text": [
      "/Users/williamgilpin/program_repos/dysts/dysts/base.py:162: UserWarning: This system has at least one unbounded variable, which has been mapped to a bounded domain. Pass argument postprocess=False in order to generate trajectories from the raw system.\n",
      "  warnings.warn(\"This system has at least one unbounded variable, which has been mapped to a bounded domain. Pass argument postprocess=False in order to generate trajectories from the raw system.\")\n"
     ]
    },
    {
     "name": "stdout",
     "output_type": "stream",
     "text": [
      "ExcitableCell\n",
      "Finance\n",
      "FluidTrampoline\n"
     ]
    },
    {
     "name": "stderr",
     "output_type": "stream",
     "text": [
      "/Users/williamgilpin/program_repos/dysts/dysts/base.py:162: UserWarning: This system has at least one unbounded variable, which has been mapped to a bounded domain. Pass argument postprocess=False in order to generate trajectories from the raw system.\n",
      "  warnings.warn(\"This system has at least one unbounded variable, which has been mapped to a bounded domain. Pass argument postprocess=False in order to generate trajectories from the raw system.\")\n"
     ]
    },
    {
     "name": "stdout",
     "output_type": "stream",
     "text": [
      "ForcedBrusselator\n"
     ]
    },
    {
     "name": "stderr",
     "output_type": "stream",
     "text": [
      "/Users/williamgilpin/program_repos/dysts/dysts/base.py:162: UserWarning: This system has at least one unbounded variable, which has been mapped to a bounded domain. Pass argument postprocess=False in order to generate trajectories from the raw system.\n",
      "  warnings.warn(\"This system has at least one unbounded variable, which has been mapped to a bounded domain. Pass argument postprocess=False in order to generate trajectories from the raw system.\")\n",
      "/Users/williamgilpin/program_repos/dysts/dysts/base.py:148: UserWarning: Expect slowdown due to excessive integration required; scale factor 1400.5769889002984\n",
      "  if upscale_factor > 1e3: warnings.warn(f\"Expect slowdown due to excessive integration required; scale factor {upscale_factor}\")\n"
     ]
    },
    {
     "name": "stdout",
     "output_type": "stream",
     "text": [
      "ForcedFitzHughNagumo\n"
     ]
    },
    {
     "name": "stderr",
     "output_type": "stream",
     "text": [
      "/Users/williamgilpin/program_repos/dysts/dysts/base.py:162: UserWarning: This system has at least one unbounded variable, which has been mapped to a bounded domain. Pass argument postprocess=False in order to generate trajectories from the raw system.\n",
      "  warnings.warn(\"This system has at least one unbounded variable, which has been mapped to a bounded domain. Pass argument postprocess=False in order to generate trajectories from the raw system.\")\n"
     ]
    },
    {
     "name": "stdout",
     "output_type": "stream",
     "text": [
      "ForcedVanDerPol\n"
     ]
    },
    {
     "name": "stderr",
     "output_type": "stream",
     "text": [
      "/Users/williamgilpin/program_repos/dysts/dysts/base.py:162: UserWarning: This system has at least one unbounded variable, which has been mapped to a bounded domain. Pass argument postprocess=False in order to generate trajectories from the raw system.\n",
      "  warnings.warn(\"This system has at least one unbounded variable, which has been mapped to a bounded domain. Pass argument postprocess=False in order to generate trajectories from the raw system.\")\n"
     ]
    },
    {
     "name": "stdout",
     "output_type": "stream",
     "text": [
      "GenesioTesi\n",
      "GuckenheimerHolmes\n",
      "Hadley\n",
      "Halvorsen\n",
      "HastingsPowell\n"
     ]
    },
    {
     "name": "stderr",
     "output_type": "stream",
     "text": [
      "/Users/williamgilpin/program_repos/dysts/dysts/base.py:148: UserWarning: Expect slowdown due to excessive integration required; scale factor 1388.9145733805929\n",
      "  if upscale_factor > 1e3: warnings.warn(f\"Expect slowdown due to excessive integration required; scale factor {upscale_factor}\")\n"
     ]
    },
    {
     "name": "stdout",
     "output_type": "stream",
     "text": [
      "HenonHeiles\n",
      "HindmarshRose\n"
     ]
    },
    {
     "name": "stderr",
     "output_type": "stream",
     "text": [
      "/Users/williamgilpin/program_repos/dysts/dysts/base.py:148: UserWarning: Expect slowdown due to excessive integration required; scale factor 1449.311328949001\n",
      "  if upscale_factor > 1e3: warnings.warn(f\"Expect slowdown due to excessive integration required; scale factor {upscale_factor}\")\n"
     ]
    },
    {
     "name": "stdout",
     "output_type": "stream",
     "text": [
      "Hopfield\n",
      "HyperBao\n",
      "HyperCai\n",
      "HyperJha\n",
      "HyperLorenz\n",
      "HyperLu\n",
      "HyperPang\n",
      "HyperQi\n",
      "HyperRossler\n",
      "HyperWang\n",
      "HyperXu\n",
      "HyperYan\n",
      "HyperYangChen\n",
      "IkedaDelay\n",
      "IsothermalChemical\n",
      "ItikBanksTumor\n"
     ]
    },
    {
     "name": "stderr",
     "output_type": "stream",
     "text": [
      "/Users/williamgilpin/program_repos/dysts/dysts/base.py:148: UserWarning: Expect slowdown due to excessive integration required; scale factor 1333.3333333333333\n",
      "  if upscale_factor > 1e3: warnings.warn(f\"Expect slowdown due to excessive integration required; scale factor {upscale_factor}\")\n"
     ]
    },
    {
     "name": "stdout",
     "output_type": "stream",
     "text": [
      "JerkCircuit\n"
     ]
    },
    {
     "name": "stderr",
     "output_type": "stream",
     "text": [
      "/Users/williamgilpin/program_repos/dysts/dysts/base.py:148: UserWarning: Expect slowdown due to excessive integration required; scale factor 1731.6065865598575\n",
      "  if upscale_factor > 1e3: warnings.warn(f\"Expect slowdown due to excessive integration required; scale factor {upscale_factor}\")\n"
     ]
    },
    {
     "name": "stdout",
     "output_type": "stream",
     "text": [
      "KawczynskiStrizhak\n",
      "Laser\n",
      "LiuChen\n"
     ]
    },
    {
     "name": "stderr",
     "output_type": "stream",
     "text": [
      "/Users/williamgilpin/program_repos/dysts/dysts/base.py:148: UserWarning: Expect slowdown due to excessive integration required; scale factor 3603.686221622837\n",
      "  if upscale_factor > 1e3: warnings.warn(f\"Expect slowdown due to excessive integration required; scale factor {upscale_factor}\")\n"
     ]
    },
    {
     "name": "stdout",
     "output_type": "stream",
     "text": [
      "Lorenz\n",
      "Lorenz84\n"
     ]
    },
    {
     "name": "stderr",
     "output_type": "stream",
     "text": [
      "/Users/williamgilpin/program_repos/dysts/dysts/base.py:148: UserWarning: Expect slowdown due to excessive integration required; scale factor 1149.4214876033059\n",
      "  if upscale_factor > 1e3: warnings.warn(f\"Expect slowdown due to excessive integration required; scale factor {upscale_factor}\")\n"
     ]
    },
    {
     "name": "stdout",
     "output_type": "stream",
     "text": [
      "Lorenz96\n"
     ]
    },
    {
     "name": "stderr",
     "output_type": "stream",
     "text": [
      "/Users/williamgilpin/program_repos/dysts/dysts/base.py:148: UserWarning: Expect slowdown due to excessive integration required; scale factor 1025.6302521008402\n",
      "  if upscale_factor > 1e3: warnings.warn(f\"Expect slowdown due to excessive integration required; scale factor {upscale_factor}\")\n"
     ]
    },
    {
     "name": "stdout",
     "output_type": "stream",
     "text": [
      "LorenzBounded\n",
      "LorenzCoupled\n",
      "LorenzStenflo\n",
      "LuChen\n"
     ]
    },
    {
     "name": "stderr",
     "output_type": "stream",
     "text": [
      "/Users/williamgilpin/program_repos/dysts/dysts/base.py:148: UserWarning: Expect slowdown due to excessive integration required; scale factor 1282.0723684210525\n",
      "  if upscale_factor > 1e3: warnings.warn(f\"Expect slowdown due to excessive integration required; scale factor {upscale_factor}\")\n"
     ]
    },
    {
     "name": "stdout",
     "output_type": "stream",
     "text": [
      "LuChenCheng\n",
      "MacArthur\n",
      "MackeyGlass\n",
      "MooreSpiegel\n",
      "MultiChua\n",
      "NewtonLiepnik\n",
      "NoseHoover\n",
      "NuclearQuadrupole\n",
      "OscillatingFlow\n",
      "PanXuZhou\n"
     ]
    },
    {
     "name": "stderr",
     "output_type": "stream",
     "text": [
      "/Users/williamgilpin/program_repos/dysts/dysts/base.py:162: UserWarning: This system has at least one unbounded variable, which has been mapped to a bounded domain. Pass argument postprocess=False in order to generate trajectories from the raw system.\n",
      "  warnings.warn(\"This system has at least one unbounded variable, which has been mapped to a bounded domain. Pass argument postprocess=False in order to generate trajectories from the raw system.\")\n"
     ]
    },
    {
     "name": "stdout",
     "output_type": "stream",
     "text": [
      "PehlivanWei\n",
      "PiecewiseCircuit\n",
      "Qi\n",
      "QiChen\n",
      "RabinovichFabrikant\n",
      "RayleighBenard\n",
      "RikitakeDynamo\n",
      "Rossler\n",
      "Rucklidge\n",
      "Sakarya\n",
      "SaltonSea\n",
      "SanUmSrisuchinwong\n",
      "ScrollDelay\n",
      "ShimizuMorioka\n",
      "SprottA\n",
      "SprottB\n",
      "SprottC\n",
      "SprottD\n",
      "SprottDelay\n",
      "SprottE\n",
      "SprottF\n",
      "SprottG\n",
      "SprottH\n",
      "SprottI\n",
      "SprottJ\n",
      "SprottJerk\n",
      "SprottK\n",
      "SprottL\n",
      "SprottM\n",
      "SprottMore\n",
      "SprottN\n",
      "SprottO\n",
      "SprottP\n",
      "SprottQ\n",
      "SprottR\n",
      "SprottS\n",
      "SprottTorus\n",
      "StickSlipOscillator\n"
     ]
    },
    {
     "name": "stderr",
     "output_type": "stream",
     "text": [
      "/Users/williamgilpin/program_repos/dysts/dysts/base.py:148: UserWarning: Expect slowdown due to excessive integration required; scale factor 1449.3263034563563\n",
      "  if upscale_factor > 1e3: warnings.warn(f\"Expect slowdown due to excessive integration required; scale factor {upscale_factor}\")\n",
      "/Users/williamgilpin/program_repos/dysts/dysts/base.py:148: UserWarning: Expect slowdown due to excessive integration required; scale factor 1075.2666666666667\n",
      "  if upscale_factor > 1e3: warnings.warn(f\"Expect slowdown due to excessive integration required; scale factor {upscale_factor}\")\n",
      "/Users/williamgilpin/program_repos/dysts/dysts/base.py:162: UserWarning: This system has at least one unbounded variable, which has been mapped to a bounded domain. Pass argument postprocess=False in order to generate trajectories from the raw system.\n",
      "  warnings.warn(\"This system has at least one unbounded variable, which has been mapped to a bounded domain. Pass argument postprocess=False in order to generate trajectories from the raw system.\")\n"
     ]
    },
    {
     "name": "stdout",
     "output_type": "stream",
     "text": [
      "SwingingAtwood\n"
     ]
    },
    {
     "name": "stderr",
     "output_type": "stream",
     "text": [
      "/Users/williamgilpin/program_repos/dysts/dysts/base.py:162: UserWarning: This system has at least one unbounded variable, which has been mapped to a bounded domain. Pass argument postprocess=False in order to generate trajectories from the raw system.\n",
      "  warnings.warn(\"This system has at least one unbounded variable, which has been mapped to a bounded domain. Pass argument postprocess=False in order to generate trajectories from the raw system.\")\n",
      "/Users/williamgilpin/program_repos/dysts/dysts/base.py:148: UserWarning: Expect slowdown due to excessive integration required; scale factor 1149.4332639370807\n",
      "  if upscale_factor > 1e3: warnings.warn(f\"Expect slowdown due to excessive integration required; scale factor {upscale_factor}\")\n"
     ]
    },
    {
     "name": "stdout",
     "output_type": "stream",
     "text": [
      "Thomas\n",
      "ThomasLabyrinth\n"
     ]
    },
    {
     "name": "stderr",
     "output_type": "stream",
     "text": [
      "/Users/williamgilpin/program_repos/dysts/dysts/base.py:148: UserWarning: Expect slowdown due to excessive integration required; scale factor 1149.4252873563216\n",
      "  if upscale_factor > 1e3: warnings.warn(f\"Expect slowdown due to excessive integration required; scale factor {upscale_factor}\")\n"
     ]
    },
    {
     "name": "stdout",
     "output_type": "stream",
     "text": [
      "Torus\n"
     ]
    },
    {
     "name": "stderr",
     "output_type": "stream",
     "text": [
      "/Users/williamgilpin/program_repos/dysts/dysts/base.py:148: UserWarning: Expect slowdown due to excessive integration required; scale factor 1111.111111111111\n",
      "  if upscale_factor > 1e3: warnings.warn(f\"Expect slowdown due to excessive integration required; scale factor {upscale_factor}\")\n"
     ]
    },
    {
     "name": "stdout",
     "output_type": "stream",
     "text": [
      "Tsucs2\n",
      "TurchinHanski\n"
     ]
    },
    {
     "name": "stderr",
     "output_type": "stream",
     "text": [
      "/Users/williamgilpin/program_repos/dysts/dysts/base.py:162: UserWarning: This system has at least one unbounded variable, which has been mapped to a bounded domain. Pass argument postprocess=False in order to generate trajectories from the raw system.\n",
      "  warnings.warn(\"This system has at least one unbounded variable, which has been mapped to a bounded domain. Pass argument postprocess=False in order to generate trajectories from the raw system.\")\n"
     ]
    },
    {
     "name": "stdout",
     "output_type": "stream",
     "text": [
      "VallisElNino\n",
      "VossDelay\n",
      "WangSun\n"
     ]
    },
    {
     "name": "stderr",
     "output_type": "stream",
     "text": [
      "/Users/williamgilpin/program_repos/dysts/dysts/base.py:148: UserWarning: Expect slowdown due to excessive integration required; scale factor 1388.8717156105101\n",
      "  if upscale_factor > 1e3: warnings.warn(f\"Expect slowdown due to excessive integration required; scale factor {upscale_factor}\")\n"
     ]
    },
    {
     "name": "stdout",
     "output_type": "stream",
     "text": [
      "WindmiReduced\n",
      "YuWang\n",
      "YuWang2\n",
      "ZhouChen\n"
     ]
    },
    {
     "name": "stderr",
     "output_type": "stream",
     "text": [
      "/Users/williamgilpin/program_repos/dysts/dysts/base.py:148: UserWarning: Expect slowdown due to excessive integration required; scale factor 1190.478133714208\n",
      "  if upscale_factor > 1e3: warnings.warn(f\"Expect slowdown due to excessive integration required; scale factor {upscale_factor}\")\n"
     ]
    }
   ],
   "source": [
    "\n",
    "DATA_BASEPATH = \"dysts/data/\"\n",
    "TRAIN = 5000\n",
    "TEST = 1000\n",
    "\n",
    "\n",
    "num_periods = 10\n",
    "pts_per_period = 15 # granularity 15 or 100\n",
    "# pts_per_period = 100 # granularity 15 or 100\n",
    "\n",
    "\n",
    "output_path = os.path.join(DATA_BASEPATH, \"dataset.json\")\n",
    "dataset = dict()\n",
    "\n",
    "# all_data = list()\n",
    "for i, name in enumerate(get_attractor_list()):\n",
    "    print(name)\n",
    "    dataset[name] = dict()\n",
    "    model = getattr(dysts.flows, name)()\n",
    "    \n",
    "#     current_fields = list(data.keys())\n",
    "\n",
    "    # make initial conditions for train, val, test\n",
    "#     [train_ic, val_ic, test_ic] = sample_initial_conditions(model, 3)\n",
    "#     model.ic = train_ic\n",
    "    \n",
    "    tpts, sol = model.make_trajectory(num_periods * pts_per_period, pts_per_period=pts_per_period, \n",
    "                                   resample=True, return_times=True)\n",
    "    \n",
    "    \n",
    "#     all_data\n",
    "    \n",
    "    # record name and points per period\n",
    "    # how to pick random initial conditions?\n",
    "    \n",
    "    \n",
    "#     dataset[name][\"index_in_csv\"]\n",
    "    dataset[name][\"dt\"] = np.median(np.diff(tpts))\n",
    "#     dataset[name][\"params\"]\n",
    "    \n",
    "    dataset[name][\"values\"] = sol[:, 0].tolist()\n",
    "    \n",
    "    with open(output_path, 'w') as f:\n",
    "        json.dump(dataset, f, indent=4)    "
   ]
  },
  {
   "cell_type": "code",
   "execution_count": null,
   "metadata": {},
   "outputs": [],
   "source": [
    "with open(INPUT_FILE, \"r\") as file:\n",
    "    data = json.load(file)\n",
    "print(f\"Total models being analyzed is {len(data.keys())}.\")\n",
    "\n",
    "for i, item in enumerate(list(data.keys())):"
   ]
  },
  {
   "cell_type": "code",
   "execution_count": null,
   "metadata": {},
   "outputs": [],
   "source": []
  },
  {
   "cell_type": "code",
   "execution_count": null,
   "metadata": {},
   "outputs": [],
   "source": [
    "DATASET_PATH = \"\"\n",
    "RESULTS_PATH = \"\""
   ]
  },
  {
   "cell_type": "code",
   "execution_count": null,
   "metadata": {},
   "outputs": [],
   "source": []
  },
  {
   "cell_type": "code",
   "execution_count": null,
   "metadata": {},
   "outputs": [],
   "source": []
  }
 ],
 "metadata": {
  "kernelspec": {
   "display_name": "Python 3",
   "language": "python",
   "name": "python3"
  },
  "language_info": {
   "codemirror_mode": {
    "name": "ipython",
    "version": 3
   },
   "file_extension": ".py",
   "mimetype": "text/x-python",
   "name": "python",
   "nbconvert_exporter": "python",
   "pygments_lexer": "ipython3",
   "version": "3.8.5"
  }
 },
 "nbformat": 4,
 "nbformat_minor": 4
}
