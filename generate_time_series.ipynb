{
 "cells": [
  {
   "cell_type": "code",
   "execution_count": 1,
   "metadata": {},
   "outputs": [],
   "source": [
    "import sys\n",
    "\n",
    "import matplotlib.pyplot as plt\n",
    "import json\n",
    "import os.path\n",
    "import itertools\n",
    "\n",
    "import dysts\n",
    "from dysts.flows import *\n",
    "from dysts.base import *\n",
    "from dysts.utils import *\n",
    "from dysts.analysis import *\n",
    "\n",
    "%load_ext autoreload\n",
    "%autoreload 2"
   ]
  },
  {
   "cell_type": "code",
   "execution_count": null,
   "metadata": {},
   "outputs": [
    {
     "name": "stdout",
     "output_type": "stream",
     "text": [
      "Aizawa\n",
      "AnishchenkoAstakhov\n",
      "Arneodo\n",
      "ArnoldBeltramiChildress\n",
      "ArnoldWeb\n",
      "BeerRNN\n",
      "BelousovZhabotinsky\n",
      "BickleyJet\n",
      "Blasius\n",
      "BlinkingRotlet\n",
      "BlinkingVortex\n",
      "Bouali\n",
      "Bouali2\n",
      "BurkeShaw\n",
      "CaTwoPlus\n",
      "CaTwoPlusQuasiperiodic\n",
      "CellCycle\n",
      "CellularNeuralNetwork\n",
      "Chen\n",
      "ChenLee\n",
      "Chua\n",
      "CircadianRhythm\n",
      "CoevolvingPredatorPrey\n",
      "Colpitts\n",
      "Coullet\n",
      "Dadras\n",
      "DequanLi\n",
      "DoubleGyre\n",
      "DoublePendulum\n",
      "Duffing\n",
      "ExcitableCell\n",
      "Finance\n",
      "FluidTrampoline\n",
      "ForcedBrusselator\n"
     ]
    }
   ],
   "source": [
    "\n",
    "DATA_BASEPATH = \"dysts/data/\"\n",
    "TRAIN_PERIODS = 10\n",
    "TEST_PERIODS  = 2\n",
    "VAL_PERIODS  = 2\n",
    "np.random.seed(0)\n",
    "\n",
    "# ts_type = \"multivariate\"\n",
    "# subset = \"train\"\n",
    "# pts_per_period = 15 # granularity 15 or 100\n",
    "# pts_per_period = 100 # granularity 15 or 100\n",
    "\n",
    "\n",
    "num_periods = {\n",
    "    \"large\": 100,\n",
    "    \"train\": 10,\n",
    "    \"val\": 2,\n",
    "    \"test\": 2\n",
    "}\n",
    "\n",
    "# # iterate over uni/multi, train partition, and granularity\n",
    "# for (ts_type, subset, pts_per_period) in itertools.product(\n",
    "#                                                       [\"univariate\", \"multivariate\"], \n",
    "#                                                       [\"train\", \"val\", \"test\"], \n",
    "#                                                       [15, 100]\n",
    "#                                                     ):\n",
    "\n",
    "\n",
    "# iterate over uni/multi, train partition, and granularity\n",
    "for (ts_type, subset, pts_per_period) in [(\"univariate\", \"large\", 100)]:\n",
    "\n",
    "    output_path = os.path.join(DATA_BASEPATH, f\"{subset}_{ts_type}__pts_per_period_{pts_per_period}__periods_{num_periods[subset]}.json\")\n",
    "    dataset = dict()\n",
    "\n",
    "    for i, name in enumerate(get_attractor_list()):\n",
    "        print(name)\n",
    "        dataset[name] = dict()\n",
    "        model = getattr(dysts.flows, name)()\n",
    "        # make initial conditions for train, val, test\n",
    "        [train_ic, val_ic, test_ic] = sample_initial_conditions(model, 3)\n",
    "\n",
    "        if subset == \"train\":\n",
    "            model.ic = train_ic\n",
    "        elif subset == \"val\":\n",
    "            model.ic = val_ic\n",
    "        elif subset == \"test\":\n",
    "            model.ic = test_ic\n",
    "        else:\n",
    "            pass\n",
    "        tpts, sol = model.make_trajectory(num_periods[subset] * pts_per_period, pts_per_period=pts_per_period, \n",
    "                                       resample=True, return_times=True)\n",
    "\n",
    "\n",
    "        if ts_type == \"univariate\":\n",
    "            values = sol[:, 0].tolist()\n",
    "        elif ts_type == \"multivariate\":\n",
    "            values = sol.tolist()\n",
    "        else:\n",
    "            warnings.warn(\"Specified time series type not \\\"univariate\\\" or \\\"multivariate\\\", falling back to univariate\")\n",
    "            values = sol[:, 0]\n",
    "\n",
    "        dataset[name][\"time\"] = tpts.tolist()\n",
    "        dataset[name][\"dt\"] = np.median(np.diff(tpts))\n",
    "\n",
    "        dataset[name][\"values\"] = values\n",
    "        with open(output_path, 'w') as f:\n",
    "            json.dump(dataset, f, indent=4)    \n",
    "    \n",
    "#     dataset[name][\"values\"] = 7\n",
    "    \n",
    "#     break\n",
    "#     with open(output_path_multi, 'w') as f:\n",
    "#         json.dump(dataset, f, indent=4)    "
   ]
  },
  {
   "cell_type": "code",
   "execution_count": 42,
   "metadata": {},
   "outputs": [
    {
     "data": {
      "text/plain": [
       "{'train': 10, 'val': 2, 'test': 2}"
      ]
     },
     "execution_count": 42,
     "metadata": {},
     "output_type": "execute_result"
    }
   ],
   "source": [
    "num_periods"
   ]
  },
  {
   "cell_type": "code",
   "execution_count": null,
   "metadata": {},
   "outputs": [],
   "source": [
    "with open(INPUT_FILE, \"r\") as file:\n",
    "    data = json.load(file)\n",
    "print(f\"Total models being analyzed is {len(data.keys())}.\")\n",
    "\n",
    "for i, item in enumerate(list(data.keys())):"
   ]
  },
  {
   "cell_type": "code",
   "execution_count": 56,
   "metadata": {},
   "outputs": [
    {
     "data": {
      "text/plain": [
       "array([8, 9])"
      ]
     },
     "execution_count": 56,
     "metadata": {},
     "output_type": "execute_result"
    }
   ],
   "source": [
    "np.array([8, 9])"
   ]
  },
  {
   "cell_type": "code",
   "execution_count": null,
   "metadata": {},
   "outputs": [],
   "source": [
    "DATASET_PATH = \"\"\n",
    "RESULTS_PATH = \"\""
   ]
  },
  {
   "cell_type": "code",
   "execution_count": null,
   "metadata": {},
   "outputs": [],
   "source": []
  },
  {
   "cell_type": "code",
   "execution_count": null,
   "metadata": {},
   "outputs": [],
   "source": []
  }
 ],
 "metadata": {
  "kernelspec": {
   "display_name": "Python 3",
   "language": "python",
   "name": "python3"
  },
  "language_info": {
   "codemirror_mode": {
    "name": "ipython",
    "version": 3
   },
   "file_extension": ".py",
   "mimetype": "text/x-python",
   "name": "python",
   "nbconvert_exporter": "python",
   "pygments_lexer": "ipython3",
   "version": "3.8.5"
  }
 },
 "nbformat": 4,
 "nbformat_minor": 4
}
