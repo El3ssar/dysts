{
 "cells": [
  {
   "cell_type": "code",
   "execution_count": 1,
   "metadata": {},
   "outputs": [],
   "source": [
    "import sys\n",
    "\n",
    "import matplotlib.pyplot as plt\n",
    "import json\n",
    "import os.path\n",
    "\n",
    "import dysts\n",
    "from dysts.flows import *\n",
    "from dysts.base import *\n",
    "from dysts.utils import *\n",
    "from dysts.analysis import *\n",
    "\n",
    "%load_ext autoreload\n",
    "%autoreload 2"
   ]
  },
  {
   "cell_type": "code",
   "execution_count": 31,
   "metadata": {},
   "outputs": [
    {
     "data": {
      "text/plain": [
       "(150,)"
      ]
     },
     "execution_count": 31,
     "metadata": {},
     "output_type": "execute_result"
    }
   ],
   "source": [
    "num_periods * pts_per_period,"
   ]
  },
  {
   "cell_type": "code",
   "execution_count": 38,
   "metadata": {},
   "outputs": [],
   "source": [
    "cc, xx = MackeyGlass().make_trajectory(num_periods * pts_per_period, pts_per_period=pts_per_period, \n",
    "                                   resample=True, return_times=True)"
   ]
  },
  {
   "cell_type": "code",
   "execution_count": 46,
   "metadata": {},
   "outputs": [
    {
     "data": {
      "text/plain": [
       "'dysts/data/dataset_univariate__pts_per_period_15__periods_10.json'"
      ]
     },
     "execution_count": 46,
     "metadata": {},
     "output_type": "execute_result"
    }
   ],
   "source": [
    "output_path_uni"
   ]
  },
  {
   "cell_type": "code",
   "execution_count": 5,
   "metadata": {},
   "outputs": [
    {
     "name": "stdout",
     "output_type": "stream",
     "text": [
      "Aizawa\n",
      "AnishchenkoAstakhov\n",
      "Arneodo\n",
      "ArnoldBeltramiChildress\n",
      "ArnoldWeb\n"
     ]
    },
    {
     "name": "stderr",
     "output_type": "stream",
     "text": [
      "/Users/williamgilpin/program_repos/dysts/dysts/base.py:166: UserWarning: This system has at least one unbounded variable, which has been mapped to a bounded domain. Pass argument postprocess=False in order to generate trajectories from the raw system.\n",
      "  warnings.warn(\"This system has at least one unbounded variable, which has been mapped to a bounded domain. Pass argument postprocess=False in order to generate trajectories from the raw system.\")\n"
     ]
    },
    {
     "name": "stdout",
     "output_type": "stream",
     "text": [
      "BeerRNN\n",
      "BelousovZhabotinsky\n"
     ]
    },
    {
     "name": "stderr",
     "output_type": "stream",
     "text": [
      "/Users/williamgilpin/program_repos/dysts/dysts/base.py:152: UserWarning: Expect slowdown due to excessive integration required; scale factor 1587.2891671013736\n",
      "  if upscale_factor > 1e3: warnings.warn(f\"Expect slowdown due to excessive integration required; scale factor {upscale_factor}\")\n",
      "/Users/williamgilpin/program_repos/dysts/dysts/flows.py:371: RuntimeWarning: invalid value encountered in sqrt\n",
      "  rf = (self.ci - self.z0*z)*np.sqrt(x)\n"
     ]
    },
    {
     "name": "stdout",
     "output_type": "stream",
     "text": [
      "BickleyJet\n",
      "Blasius\n",
      "BlinkingRotlet\n",
      "BlinkingVortex\n",
      "Bouali\n",
      "Bouali2\n",
      "BurkeShaw\n",
      "CaTwoPlus\n",
      "CaTwoPlusQuasiperiodic\n",
      "CellCycle\n",
      "CellularNeuralNetwork\n",
      "Chen\n",
      "ChenLee\n",
      "Chua\n",
      "CircadianRhythm\n",
      "CoevolvingPredatorPrey\n",
      "Colpitts\n",
      "Coullet\n",
      "Dadras\n",
      "DequanLi\n",
      "DoubleGyre\n",
      "DoublePendulum\n",
      "Duffing\n",
      "ExcitableCell\n",
      "Finance\n",
      "FluidTrampoline\n",
      "ForcedBrusselator\n",
      "ForcedFitzHughNagumo\n",
      "ForcedVanDerPol\n"
     ]
    },
    {
     "name": "stderr",
     "output_type": "stream",
     "text": [
      "/Users/williamgilpin/program_repos/dysts/dysts/base.py:152: UserWarning: Expect slowdown due to excessive integration required; scale factor 1361.6323363431152\n",
      "  if upscale_factor > 1e3: warnings.warn(f\"Expect slowdown due to excessive integration required; scale factor {upscale_factor}\")\n"
     ]
    },
    {
     "name": "stdout",
     "output_type": "stream",
     "text": [
      "GenesioTesi\n",
      "GuckenheimerHolmes\n",
      "Hadley\n",
      "Halvorsen\n",
      "HastingsPowell\n",
      "HenonHeiles\n",
      "HindmarshRose\n",
      "Hopfield\n",
      "HyperBao\n",
      "HyperCai\n",
      "HyperJha\n",
      "HyperLorenz\n",
      "HyperLu\n",
      "HyperPang\n",
      "HyperQi\n",
      "HyperRossler\n",
      "HyperWang\n",
      "HyperXu\n",
      "HyperYan\n",
      "HyperYangChen\n",
      "IkedaDelay\n",
      "IsothermalChemical\n",
      "ItikBanksTumor\n",
      "JerkCircuit\n",
      "KawczynskiStrizhak\n",
      "Laser\n",
      "LiuChen\n"
     ]
    },
    {
     "name": "stderr",
     "output_type": "stream",
     "text": [
      "/Users/williamgilpin/program_repos/dysts/dysts/base.py:152: UserWarning: Expect slowdown due to excessive integration required; scale factor 1801.8431108114187\n",
      "  if upscale_factor > 1e3: warnings.warn(f\"Expect slowdown due to excessive integration required; scale factor {upscale_factor}\")\n"
     ]
    },
    {
     "name": "stdout",
     "output_type": "stream",
     "text": [
      "Lorenz\n",
      "Lorenz84\n",
      "Lorenz96\n",
      "LorenzBounded\n",
      "LorenzCoupled\n",
      "LorenzStenflo\n",
      "LuChen\n",
      "LuChenCheng\n",
      "MacArthur\n",
      "MackeyGlass\n",
      "MooreSpiegel\n",
      "MultiChua\n",
      "NewtonLiepnik\n",
      "NoseHoover\n",
      "NuclearQuadrupole\n",
      "OscillatingFlow\n",
      "PanXuZhou\n",
      "PehlivanWei\n",
      "PiecewiseCircuit\n",
      "Qi\n",
      "QiChen\n",
      "RabinovichFabrikant\n",
      "RayleighBenard\n",
      "RikitakeDynamo\n",
      "Rossler\n",
      "Rucklidge\n",
      "Sakarya\n",
      "SaltonSea\n",
      "SanUmSrisuchinwong\n",
      "ScrollDelay\n",
      "ShimizuMorioka\n",
      "SprottA\n",
      "SprottB\n",
      "SprottC\n",
      "SprottD\n",
      "SprottDelay\n",
      "SprottE\n",
      "SprottF\n",
      "SprottG\n",
      "SprottH\n",
      "SprottI\n",
      "SprottJ\n",
      "SprottJerk\n",
      "SprottK\n",
      "SprottL\n",
      "SprottM\n",
      "SprottMore\n",
      "SprottN\n",
      "SprottO\n",
      "SprottP\n",
      "SprottQ\n",
      "SprottR\n",
      "SprottS\n",
      "SprottTorus\n",
      "StickSlipOscillator\n",
      "SwingingAtwood\n",
      "Thomas\n",
      "ThomasLabyrinth\n",
      "Torus\n",
      "Tsucs2\n",
      "TurchinHanski\n",
      "VallisElNino\n",
      "VossDelay\n",
      "WangSun\n",
      "WindmiReduced\n",
      "YuWang\n",
      "YuWang2\n",
      "ZhouChen\n"
     ]
    }
   ],
   "source": [
    "\n",
    "DATA_BASEPATH = \"dysts/data/\"\n",
    "TRAIN = 5000\n",
    "TEST = 1000\n",
    "\n",
    "\n",
    "ts_type = \"univariate\"\n",
    "num_periods = 10\n",
    "pts_per_period = 15 # granularity 15 or 100\n",
    "pts_per_period = 100 # granularity 15 or 100\n",
    "\n",
    "\n",
    "output_path = os.path.join(DATA_BASEPATH, f\"dataset_{ts_type}__pts_per_period_{pts_per_period}__periods_{num_periods}.json\")\n",
    "dataset = dict()\n",
    "\n",
    "for i, name in enumerate(get_attractor_list()):\n",
    "    print(name)\n",
    "    dataset[name] = dict()\n",
    "    model = getattr(dysts.flows, name)()\n",
    "    \n",
    "#     current_fields = list(data.keys())\n",
    "\n",
    "    # make initial conditions for train, val, test\n",
    "    [train_ic, val_ic, test_ic] = sample_initial_conditions(model, 3)\n",
    "    model.ic = train_ic\n",
    "    \n",
    "    tpts, sol = model.make_trajectory(num_periods * pts_per_period, pts_per_period=pts_per_period, \n",
    "                                   resample=True, return_times=True)\n",
    "    \n",
    "    if ts_type == \"univariate\":\n",
    "        values = sol[:, 0].tolist()\n",
    "    elif ts_type == \"multivariate\":\n",
    "        values = sol.tolist()\n",
    "    else:\n",
    "        warnings.warn(\"Specified time series type not \\\"univariate\\\" or \\\"multivariate\\\", falling back to univariate\")\n",
    "        values = sol[:, 0]\n",
    "    \n",
    "    dataset[name][\"time\"] = tpts.tolist()\n",
    "    dataset[name][\"dt\"] = np.median(np.diff(tpts))\n",
    "    \n",
    "    dataset[name][\"values\"] = values\n",
    "    with open(output_path, 'w') as f:\n",
    "        json.dump(dataset, f, indent=4)    \n",
    "    \n",
    "#     dataset[name][\"values\"] = 7\n",
    "    \n",
    "#     break\n",
    "#     with open(output_path_multi, 'w') as f:\n",
    "#         json.dump(dataset, f, indent=4)    "
   ]
  },
  {
   "cell_type": "code",
   "execution_count": null,
   "metadata": {},
   "outputs": [],
   "source": []
  },
  {
   "cell_type": "code",
   "execution_count": null,
   "metadata": {},
   "outputs": [],
   "source": [
    "with open(INPUT_FILE, \"r\") as file:\n",
    "    data = json.load(file)\n",
    "print(f\"Total models being analyzed is {len(data.keys())}.\")\n",
    "\n",
    "for i, item in enumerate(list(data.keys())):"
   ]
  },
  {
   "cell_type": "code",
   "execution_count": 56,
   "metadata": {},
   "outputs": [
    {
     "data": {
      "text/plain": [
       "array([8, 9])"
      ]
     },
     "execution_count": 56,
     "metadata": {},
     "output_type": "execute_result"
    }
   ],
   "source": [
    "np.array([8, 9])"
   ]
  },
  {
   "cell_type": "code",
   "execution_count": null,
   "metadata": {},
   "outputs": [],
   "source": [
    "DATASET_PATH = \"\"\n",
    "RESULTS_PATH = \"\""
   ]
  },
  {
   "cell_type": "code",
   "execution_count": null,
   "metadata": {},
   "outputs": [],
   "source": []
  },
  {
   "cell_type": "code",
   "execution_count": null,
   "metadata": {},
   "outputs": [],
   "source": []
  }
 ],
 "metadata": {
  "kernelspec": {
   "display_name": "Python 3",
   "language": "python",
   "name": "python3"
  },
  "language_info": {
   "codemirror_mode": {
    "name": "ipython",
    "version": 3
   },
   "file_extension": ".py",
   "mimetype": "text/x-python",
   "name": "python",
   "nbconvert_exporter": "python",
   "pygments_lexer": "ipython3",
   "version": "3.8.5"
  }
 },
 "nbformat": 4,
 "nbformat_minor": 4
}
